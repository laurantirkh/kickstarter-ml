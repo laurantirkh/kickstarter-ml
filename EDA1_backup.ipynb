{
 "cells": [
  {
   "cell_type": "code",
   "execution_count": 15,
   "metadata": {},
   "outputs": [],
   "source": [
    "import pandas as pd\n",
    "import numpy as np\n",
    "import seaborn as sns\n",
    "import matplotlib.pyplot as plt\n",
    "import datetime\n",
    "%matplotlib inline\n",
    "\n",
    "from sklearn.metrics import classification_report, confusion_matrix"
   ]
  },
  {
   "cell_type": "code",
   "execution_count": 2,
   "metadata": {},
   "outputs": [],
   "source": [
    "df = pd.read_csv(\"data/combined_csv.csv\")"
   ]
  },
  {
   "cell_type": "code",
   "execution_count": null,
   "metadata": {},
   "outputs": [],
   "source": [
    "df.info()"
   ]
  },
  {
   "cell_type": "code",
   "execution_count": null,
   "metadata": {},
   "outputs": [],
   "source": [
    "df.iloc[:, 3:16].head()"
   ]
  },
  {
   "cell_type": "markdown",
   "metadata": {},
   "source": [
    " ## Columns\n",
    "\n",
    " * double click for better view\n",
    "\n",
    " <br>\n",
    " \n",
    " 0   backers_count             number of backers \n",
    " 1   blurb                     short description \n",
    " 2   category                  Kickstarter categories \n",
    " 3   converted_pledged_amount  pledged amount in USD  \n",
    " 4   country                   country \n",
    " 5   created_at                creation date/time?  \n",
    " 6   creator                   Kickstarter account that created the project \n",
    " 7   currency                  currency the project asks for\n",
    " 8   currency_symbol           currency symbol \n",
    " 9   currency_trailing_code    ?   \n",
    " 10  current_currency          ?\n",
    " 11  deadline                  deadline date/time?\n",
    " 12  disable_communication     don't allow communication/comments   \n",
    " 13  friends                   drop (not enough data) \n",
    " 14  fx_rate                   currency conversion rate\n",
    " 15  goal                      fixed amount required for funding\n",
    " 16  id                        Kickstarter project id  \n",
    " 17  is_backing                drop (not enough data)  \n",
    " 18  is_starrable              ?  \n",
    " 19  is_starred                drop (not enough data)  \n",
    " 20  launched_at               launch date/time?  \n",
    " 21  location                  location\n",
    " 22  name                      project name \n",
    " 23  permissions               drop (not enough data) \n",
    " 24  photo                     maybe drop?\n",
    " 25  pledged                   pledged amount in original currency\n",
    " 26  profile                   drop? \n",
    " 27  slug                      drop (converted project name) \n",
    " 28  source_url                source url - drop \n",
    " 29  spotlight                 drop? (probably not influencable by the creators)   \n",
    " 30  staff_pick                drop? (probably not influencable by the creators)   \n",
    " 31  state                     !!!!!target!!!!! \n",
    " 32  state_changed_at          state changed at date/time?  \n",
    " 33  static_usd_rate           conversion rate -> drop\n",
    " 34  urls                      drop \n",
    " 35  usd_pledged               drop\n",
    " 36  usd_type                  drop"
   ]
  },
  {
   "cell_type": "code",
   "execution_count": null,
   "metadata": {},
   "outputs": [],
   "source": [
    "df['current_currency'].unique()"
   ]
  },
  {
   "cell_type": "code",
   "execution_count": null,
   "metadata": {},
   "outputs": [],
   "source": [
    "no_comm = df[df['disable_communication'] == True]"
   ]
  },
  {
   "cell_type": "code",
   "execution_count": null,
   "metadata": {},
   "outputs": [],
   "source": [
    "len(no_comm)"
   ]
  },
  {
   "cell_type": "code",
   "execution_count": null,
   "metadata": {},
   "outputs": [],
   "source": [
    "comm = df[df['disable_communication'] == False]"
   ]
  },
  {
   "cell_type": "code",
   "execution_count": null,
   "metadata": {},
   "outputs": [],
   "source": [
    "len(comm)"
   ]
  },
  {
   "cell_type": "markdown",
   "metadata": {},
   "source": [
    "### location example\n",
    "\n",
    "{\"id\":2379574,\n",
    "\"name\":\"Chicago\",\n",
    "\"slug\":\"chicago-il\",\n",
    "\"short_name\":\"Chicago, IL\",\n",
    "\"displayable_name\":\"Chicago, IL\",\n",
    "\"localized_name\":\"Chicago\",\n",
    "\"country\":\"US\",\n",
    "\"state\":\"IL\",\n",
    "\"type\":\"Town\",\n",
    "\"is_root\":false,\n",
    "\"urls\":{\"web\":{\"discover\":\"https://www.kickstarter.com/discover/places/chicago-il\",\"location\":\"https://www.kickstarter.com/locations/chicago-il\"},\"api\":{\"nearby_projects\":\"https://api.kickstarter.com/v1/discover?signature=1552595044.c1041c6bca69b0b72738f3b9504ebf921b3e5e0e&woe_id=2379574\"}}}'"
   ]
  },
  {
   "cell_type": "code",
   "execution_count": null,
   "metadata": {},
   "outputs": [],
   "source": [
    "df['category'].unique()"
   ]
  },
  {
   "cell_type": "markdown",
   "metadata": {},
   "source": [
    "### category example\n",
    "\n",
    "{\"id\":43,\n",
    "\"name\":\"Rock\",\n",
    "\"slug\":\"music/rock\",\n",
    "\"position\":17,\n",
    "\"parent_id\":14,\n",
    "\"color\":10878931,\n",
    "\"urls\":{\"web\":{\"discover\":\"http://www.kickstarter.com/discover/categories/music/rock\"}}}'"
   ]
  },
  {
   "cell_type": "code",
   "execution_count": null,
   "metadata": {},
   "outputs": [],
   "source": [
    "df['creator'].unique()"
   ]
  },
  {
   "cell_type": "markdown",
   "metadata": {},
   "source": [
    "### creator example\n",
    "\n",
    "{\"id\":1495925645,\n",
    "\"name\":\"Daniel\",\n",
    "\"is_registered\":null,\n",
    "\"chosen_currency\":null,\n",
    "\"avatar\":{\"thumb\":\"https://ksr-ugc.imgix.net/assets/006/041/047/c44d1a95c2139ae46af635c7c6e7ea76_original.jpg?ixlib=rb-1.1.0&w=40&h=40&fit=crop&v=1461362658&auto=format&frame=1&q=92&s=3d655afafac9dbb59c1e675adfa87082\",\"small\":\"https://ksr-ugc.imgix.net/assets/006/041/047/c44d1a95c2139ae46af635c7c6e7ea76_original.jpg?ixlib=rb-1.1.0&w=160&h=160&fit=crop&v=1461362658&auto=format&frame=1&q=92&s=3973d24f5c3db1ed1d5c84cec8af1d6d\",\"medium\":\"https://ksr-ugc.imgix.net/assets/006/041/047/c44d1a95c2139ae46af635c7c6e7ea76_original.jpg?ixlib=rb-1.1.0&w=160&h=160&fit=crop&v=1461362658&auto=format&frame=1&q=92&s=3973d24f5c3db1ed1d5c84cec8af1d6d\"},\"urls\":{\"web\":{\"user\":\"https://www.kickstarter.com/profile/1495925645\"},\"api\":{\"user\":\"https://api.kickstarter.com/v1/users/1495925645?signature=1552621462.382152be8688b069cea0ab5f3a266a1530d83c3f\"}}}',"
   ]
  },
  {
   "cell_type": "code",
   "execution_count": null,
   "metadata": {},
   "outputs": [],
   "source": [
    "df['photo'].isna().sum()"
   ]
  },
  {
   "cell_type": "code",
   "execution_count": null,
   "metadata": {},
   "outputs": [],
   "source": [
    "df['profile'].unique()"
   ]
  },
  {
   "cell_type": "markdown",
   "metadata": {},
   "source": [
    "### profile example\n",
    "\n",
    "{\"id\":822687,\n",
    "\"project_id\":822687,\n",
    "\"state\":\"inactive\",\n",
    "\"state_changed_at\":1425915845,\n",
    "\"name\":null,\n",
    "\"blurb\":null,\n",
    "\"background_color\":null,\n",
    "\"text_color\":null,\n",
    "\"link_background_color\":null,\n",
    "\"link_text_color\":null,\n",
    "\"link_text\":null,\n",
    "\"link_url\":null,\n",
    "\"show_feature_image\":false,\n",
    "\"background_image_opacity\":0.8,\n",
    "\"should_show_feature_image_section\":true,\n",
    "\"feature_image_attributes\":{\"image_urls\":{\"default\":\"https://ksr-ugc.imgix.net/assets/011/625/534/5bea1760d7f20943c4cd5e9b4911c1bd_original.jpg?ixlib=rb-1.1.0&crop=faces&w=1552&h=873&fit=crop&v=1463685705&auto=format&frame=1&q=92&s=90c72b785ef97539099dffb8531dcad3\",\"baseball_card\":\"https://ksr-ugc.imgix.net/assets/011/625/534/5bea1760d7f20943c4cd5e9b4911c1bd_original.jpg?ixlib=rb-1.1.0&crop=faces&w=560&h=315&fit=crop&v=1463685705&auto=format&frame=1&q=92&s=883b3ff098e5fc4cf6fec280665f5fd0\"}}}'"
   ]
  },
  {
   "cell_type": "markdown",
   "metadata": {},
   "source": [
    "## list of features we keep\n",
    "\n",
    " - 2   category                  Kickstarter categories  \n",
    " - 4   country                   country  \n",
    " - 7   currency                  currency the project asks for\n",
    " - 31  state                     !!!!!target!!!!! \n",
    "\n",
    "\n",
    " create:\n",
    " - goal in usd: fx_rate * goal\n",
    "    - 14  fx_rate                   currency conversion rate \n",
    "    - 15  goal                      fixed amount required for funding (convert with fx_rate)\n",
    " \n",
    " - length of name: len(name)\n",
    "    - 22  name                      project name \n",
    "\n",
    "- timedelta from launch to deadline\n",
    "\n",
    "\n",
    "for later\n",
    "  21  location                  location"
   ]
  },
  {
   "cell_type": "markdown",
   "metadata": {},
   "source": [
    "## stakeholder\n",
    "\n",
    "* who? - people/creators who are considering launching a project on Kickstarter\n",
    "* why? - to find out if it's worth investing the time/money in creating materials/launching a project and which criteria to consider in order to make it successful\n",
    "* metric? - f_beta (probably imbalanced data)\n",
    "* model: classifier (binary)\n"
   ]
  },
  {
   "cell_type": "markdown",
   "metadata": {},
   "source": [
    "# EDA - Round 1"
   ]
  },
  {
   "cell_type": "markdown",
   "metadata": {},
   "source": []
  },
  {
   "cell_type": "code",
   "execution_count": null,
   "metadata": {},
   "outputs": [],
   "source": [
    "# load data\n",
    "df = pd.read_csv(\"data/combined_csv.csv\")\n",
    "df.info()"
   ]
  },
  {
   "cell_type": "code",
   "execution_count": null,
   "metadata": {},
   "outputs": [],
   "source": [
    "df.head()"
   ]
  },
  {
   "cell_type": "code",
   "execution_count": null,
   "metadata": {},
   "outputs": [],
   "source": [
    "df.columns"
   ]
  },
  {
   "cell_type": "code",
   "execution_count": 3,
   "metadata": {},
   "outputs": [
    {
     "name": "stdout",
     "output_type": "stream",
     "text": [
      "<class 'pandas.core.frame.DataFrame'>\n",
      "RangeIndex: 209222 entries, 0 to 209221\n",
      "Data columns (total 9 columns):\n",
      " #   Column       Non-Null Count   Dtype  \n",
      "---  ------       --------------   -----  \n",
      " 0   category     209222 non-null  object \n",
      " 1   country      209222 non-null  object \n",
      " 2   currency     209222 non-null  object \n",
      " 3   deadline     209222 non-null  int64  \n",
      " 4   fx_rate      209222 non-null  float64\n",
      " 5   goal         209222 non-null  float64\n",
      " 6   launched_at  209222 non-null  int64  \n",
      " 7   name         209222 non-null  object \n",
      " 8   state        209222 non-null  object \n",
      "dtypes: float64(2), int64(2), object(5)\n",
      "memory usage: 14.4+ MB\n"
     ]
    }
   ],
   "source": [
    "# drop columns we won't be using\n",
    "\n",
    "df = df[['category', 'country', 'currency', 'deadline',\n",
    "       'fx_rate', 'goal', 'launched_at', \n",
    "       'name', 'state']]\n",
    "\n",
    "df.info()"
   ]
  },
  {
   "cell_type": "code",
   "execution_count": 5,
   "metadata": {},
   "outputs": [
    {
     "data": {
      "text/html": [
       "<div>\n",
       "<style scoped>\n",
       "    .dataframe tbody tr th:only-of-type {\n",
       "        vertical-align: middle;\n",
       "    }\n",
       "\n",
       "    .dataframe tbody tr th {\n",
       "        vertical-align: top;\n",
       "    }\n",
       "\n",
       "    .dataframe thead th {\n",
       "        text-align: right;\n",
       "    }\n",
       "</style>\n",
       "<table border=\"1\" class=\"dataframe\">\n",
       "  <thead>\n",
       "    <tr style=\"text-align: right;\">\n",
       "      <th></th>\n",
       "      <th>category</th>\n",
       "      <th>country</th>\n",
       "      <th>currency</th>\n",
       "      <th>deadline</th>\n",
       "      <th>launched_at</th>\n",
       "      <th>name</th>\n",
       "      <th>state</th>\n",
       "      <th>goal_usd</th>\n",
       "    </tr>\n",
       "  </thead>\n",
       "  <tbody>\n",
       "    <tr>\n",
       "      <th>0</th>\n",
       "      <td>{\"id\":266,\"name\":\"Footwear\",\"slug\":\"fashion/fo...</td>\n",
       "      <td>US</td>\n",
       "      <td>USD</td>\n",
       "      <td>1552539775</td>\n",
       "      <td>1548223375</td>\n",
       "      <td>Babalus Children's Shoes</td>\n",
       "      <td>live</td>\n",
       "      <td>28000.0000</td>\n",
       "    </tr>\n",
       "    <tr>\n",
       "      <th>1</th>\n",
       "      <td>{\"id\":273,\"name\":\"Playing Cards\",\"slug\":\"games...</td>\n",
       "      <td>US</td>\n",
       "      <td>USD</td>\n",
       "      <td>1504976459</td>\n",
       "      <td>1502384459</td>\n",
       "      <td>The Ofrenda Oracle Deck</td>\n",
       "      <td>successful</td>\n",
       "      <td>1000.0000</td>\n",
       "    </tr>\n",
       "    <tr>\n",
       "      <th>2</th>\n",
       "      <td>{\"id\":43,\"name\":\"Rock\",\"slug\":\"music/rock\",\"po...</td>\n",
       "      <td>US</td>\n",
       "      <td>USD</td>\n",
       "      <td>1371013395</td>\n",
       "      <td>1368421395</td>\n",
       "      <td>Record Electra's Debut Album (Pop, Rock, Class...</td>\n",
       "      <td>successful</td>\n",
       "      <td>15000.0000</td>\n",
       "    </tr>\n",
       "    <tr>\n",
       "      <th>3</th>\n",
       "      <td>{\"id\":273,\"name\":\"Playing Cards\",\"slug\":\"games...</td>\n",
       "      <td>GB</td>\n",
       "      <td>GBP</td>\n",
       "      <td>1489425776</td>\n",
       "      <td>1484245376</td>\n",
       "      <td>The Mist of Tribunal - A Card Game</td>\n",
       "      <td>failed</td>\n",
       "      <td>13083.9361</td>\n",
       "    </tr>\n",
       "    <tr>\n",
       "      <th>4</th>\n",
       "      <td>{\"id\":48,\"name\":\"Nonfiction\",\"slug\":\"publishin...</td>\n",
       "      <td>US</td>\n",
       "      <td>USD</td>\n",
       "      <td>1357763527</td>\n",
       "      <td>1355171527</td>\n",
       "      <td>Help change the face of Brain Impairment</td>\n",
       "      <td>successful</td>\n",
       "      <td>2800.0000</td>\n",
       "    </tr>\n",
       "  </tbody>\n",
       "</table>\n",
       "</div>"
      ],
      "text/plain": [
       "                                            category country currency  \\\n",
       "0  {\"id\":266,\"name\":\"Footwear\",\"slug\":\"fashion/fo...      US      USD   \n",
       "1  {\"id\":273,\"name\":\"Playing Cards\",\"slug\":\"games...      US      USD   \n",
       "2  {\"id\":43,\"name\":\"Rock\",\"slug\":\"music/rock\",\"po...      US      USD   \n",
       "3  {\"id\":273,\"name\":\"Playing Cards\",\"slug\":\"games...      GB      GBP   \n",
       "4  {\"id\":48,\"name\":\"Nonfiction\",\"slug\":\"publishin...      US      USD   \n",
       "\n",
       "     deadline  launched_at                                               name  \\\n",
       "0  1552539775   1548223375                           Babalus Children's Shoes   \n",
       "1  1504976459   1502384459                            The Ofrenda Oracle Deck   \n",
       "2  1371013395   1368421395  Record Electra's Debut Album (Pop, Rock, Class...   \n",
       "3  1489425776   1484245376                 The Mist of Tribunal - A Card Game   \n",
       "4  1357763527   1355171527           Help change the face of Brain Impairment   \n",
       "\n",
       "        state    goal_usd  \n",
       "0        live  28000.0000  \n",
       "1  successful   1000.0000  \n",
       "2  successful  15000.0000  \n",
       "3      failed  13083.9361  \n",
       "4  successful   2800.0000  "
      ]
     },
     "execution_count": 5,
     "metadata": {},
     "output_type": "execute_result"
    }
   ],
   "source": [
    "## create goal in USD\n",
    "\n",
    "df['goal_usd'] = df['goal'] * df['fx_rate']\n",
    "df.head()\n",
    "\n",
    "# drop fx_rate and goal\n",
    "df.drop(['goal', 'fx_rate'], inplace=True, axis=1)\n",
    "df.head()"
   ]
  },
  {
   "cell_type": "code",
   "execution_count": 7,
   "metadata": {},
   "outputs": [
    {
     "data": {
      "text/html": [
       "<div>\n",
       "<style scoped>\n",
       "    .dataframe tbody tr th:only-of-type {\n",
       "        vertical-align: middle;\n",
       "    }\n",
       "\n",
       "    .dataframe tbody tr th {\n",
       "        vertical-align: top;\n",
       "    }\n",
       "\n",
       "    .dataframe thead th {\n",
       "        text-align: right;\n",
       "    }\n",
       "</style>\n",
       "<table border=\"1\" class=\"dataframe\">\n",
       "  <thead>\n",
       "    <tr style=\"text-align: right;\">\n",
       "      <th></th>\n",
       "      <th>category</th>\n",
       "      <th>country</th>\n",
       "      <th>currency</th>\n",
       "      <th>deadline</th>\n",
       "      <th>launched_at</th>\n",
       "      <th>state</th>\n",
       "      <th>goal_usd</th>\n",
       "      <th>name_len</th>\n",
       "    </tr>\n",
       "  </thead>\n",
       "  <tbody>\n",
       "    <tr>\n",
       "      <th>0</th>\n",
       "      <td>{\"id\":266,\"name\":\"Footwear\",\"slug\":\"fashion/fo...</td>\n",
       "      <td>US</td>\n",
       "      <td>USD</td>\n",
       "      <td>1552539775</td>\n",
       "      <td>1548223375</td>\n",
       "      <td>live</td>\n",
       "      <td>28000.0000</td>\n",
       "      <td>24</td>\n",
       "    </tr>\n",
       "    <tr>\n",
       "      <th>1</th>\n",
       "      <td>{\"id\":273,\"name\":\"Playing Cards\",\"slug\":\"games...</td>\n",
       "      <td>US</td>\n",
       "      <td>USD</td>\n",
       "      <td>1504976459</td>\n",
       "      <td>1502384459</td>\n",
       "      <td>successful</td>\n",
       "      <td>1000.0000</td>\n",
       "      <td>23</td>\n",
       "    </tr>\n",
       "    <tr>\n",
       "      <th>2</th>\n",
       "      <td>{\"id\":43,\"name\":\"Rock\",\"slug\":\"music/rock\",\"po...</td>\n",
       "      <td>US</td>\n",
       "      <td>USD</td>\n",
       "      <td>1371013395</td>\n",
       "      <td>1368421395</td>\n",
       "      <td>successful</td>\n",
       "      <td>15000.0000</td>\n",
       "      <td>51</td>\n",
       "    </tr>\n",
       "    <tr>\n",
       "      <th>3</th>\n",
       "      <td>{\"id\":273,\"name\":\"Playing Cards\",\"slug\":\"games...</td>\n",
       "      <td>GB</td>\n",
       "      <td>GBP</td>\n",
       "      <td>1489425776</td>\n",
       "      <td>1484245376</td>\n",
       "      <td>failed</td>\n",
       "      <td>13083.9361</td>\n",
       "      <td>34</td>\n",
       "    </tr>\n",
       "    <tr>\n",
       "      <th>4</th>\n",
       "      <td>{\"id\":48,\"name\":\"Nonfiction\",\"slug\":\"publishin...</td>\n",
       "      <td>US</td>\n",
       "      <td>USD</td>\n",
       "      <td>1357763527</td>\n",
       "      <td>1355171527</td>\n",
       "      <td>successful</td>\n",
       "      <td>2800.0000</td>\n",
       "      <td>40</td>\n",
       "    </tr>\n",
       "  </tbody>\n",
       "</table>\n",
       "</div>"
      ],
      "text/plain": [
       "                                            category country currency  \\\n",
       "0  {\"id\":266,\"name\":\"Footwear\",\"slug\":\"fashion/fo...      US      USD   \n",
       "1  {\"id\":273,\"name\":\"Playing Cards\",\"slug\":\"games...      US      USD   \n",
       "2  {\"id\":43,\"name\":\"Rock\",\"slug\":\"music/rock\",\"po...      US      USD   \n",
       "3  {\"id\":273,\"name\":\"Playing Cards\",\"slug\":\"games...      GB      GBP   \n",
       "4  {\"id\":48,\"name\":\"Nonfiction\",\"slug\":\"publishin...      US      USD   \n",
       "\n",
       "     deadline  launched_at       state    goal_usd  name_len  \n",
       "0  1552539775   1548223375        live  28000.0000        24  \n",
       "1  1504976459   1502384459  successful   1000.0000        23  \n",
       "2  1371013395   1368421395  successful  15000.0000        51  \n",
       "3  1489425776   1484245376      failed  13083.9361        34  \n",
       "4  1357763527   1355171527  successful   2800.0000        40  "
      ]
     },
     "execution_count": 7,
     "metadata": {},
     "output_type": "execute_result"
    }
   ],
   "source": [
    "# calculate length of name\n",
    "name_len = []\n",
    "for label, content in df['name'].iteritems():\n",
    "    name_len.append(len(content))\n",
    "\n",
    "df['name_len'] = name_len\n",
    "\n",
    "\n",
    "# drop name column\n",
    "df.drop(['name'], inplace=True, axis=1)\n",
    "df.head()"
   ]
  },
  {
   "cell_type": "markdown",
   "metadata": {},
   "source": [
    "## Split category column to make it usable"
   ]
  },
  {
   "cell_type": "code",
   "execution_count": 8,
   "metadata": {},
   "outputs": [],
   "source": [
    "# subset category column \n",
    "cat_df = df.loc[:,['category']]\n",
    "\n",
    "# split category column\n",
    "cat_df[['id','name','slug','position','parent_id','color','urls']] = df['category'].str.split(',',expand=True)"
   ]
  },
  {
   "cell_type": "code",
   "execution_count": 9,
   "metadata": {},
   "outputs": [
    {
     "data": {
      "text/plain": [
       "169"
      ]
     },
     "execution_count": 9,
     "metadata": {},
     "output_type": "execute_result"
    }
   ],
   "source": [
    "# check number of unique values\n",
    "cat_df['slug'].nunique()"
   ]
  },
  {
   "cell_type": "markdown",
   "metadata": {},
   "source": [
    "Problem:\n",
    "- most rows have the format 'main category/ subcategory', but some do not have a subcategory\n",
    "- this means splitting by '/' is difficult\n",
    "- if we don't split any further, we have 169 unique values for category, seems okay"
   ]
  },
  {
   "cell_type": "code",
   "execution_count": 10,
   "metadata": {},
   "outputs": [
    {
     "name": "stdout",
     "output_type": "stream",
     "text": [
      "<class 'pandas.core.frame.DataFrame'>\n",
      "RangeIndex: 209222 entries, 0 to 209221\n",
      "Data columns (total 8 columns):\n",
      " #   Column       Non-Null Count   Dtype  \n",
      "---  ------       --------------   -----  \n",
      " 0   country      209222 non-null  object \n",
      " 1   currency     209222 non-null  object \n",
      " 2   deadline     209222 non-null  int64  \n",
      " 3   launched_at  209222 non-null  int64  \n",
      " 4   state        209222 non-null  object \n",
      " 5   goal_usd     209222 non-null  float64\n",
      " 6   name_len     209222 non-null  int64  \n",
      " 7   category     209222 non-null  object \n",
      "dtypes: float64(1), int64(3), object(4)\n",
      "memory usage: 12.8+ MB\n"
     ]
    }
   ],
   "source": [
    "# subset column 'slug' as dataframe\n",
    "cat = cat_df.loc[:,['slug']]\n",
    "\n",
    "cat['slug'] = cat['slug'].str.replace(r'\"slug\":', '')\n",
    "cat['slug'] = cat['slug'].str.replace(r'\"', '')\n",
    "cat['slug']\n",
    "\n",
    "# rename 'slug' to 'category'\n",
    "cat.rename(columns={'slug': 'category'}, inplace=True)\n",
    "\n",
    "# drop column 'category' from original dataframe\n",
    "df.drop('category', axis=1, inplace=True)\n",
    "\n",
    "# add new column 'category' to original dataframe\n",
    "df['category'] = cat\n",
    "df.info()"
   ]
  },
  {
   "cell_type": "code",
   "execution_count": 12,
   "metadata": {},
   "outputs": [
    {
     "data": {
      "text/html": [
       "<div>\n",
       "<style scoped>\n",
       "    .dataframe tbody tr th:only-of-type {\n",
       "        vertical-align: middle;\n",
       "    }\n",
       "\n",
       "    .dataframe tbody tr th {\n",
       "        vertical-align: top;\n",
       "    }\n",
       "\n",
       "    .dataframe thead th {\n",
       "        text-align: right;\n",
       "    }\n",
       "</style>\n",
       "<table border=\"1\" class=\"dataframe\">\n",
       "  <thead>\n",
       "    <tr style=\"text-align: right;\">\n",
       "      <th></th>\n",
       "      <th>country</th>\n",
       "      <th>currency</th>\n",
       "      <th>deadline</th>\n",
       "      <th>launched_at</th>\n",
       "      <th>state</th>\n",
       "      <th>goal_usd</th>\n",
       "      <th>name_len</th>\n",
       "      <th>category</th>\n",
       "    </tr>\n",
       "  </thead>\n",
       "  <tbody>\n",
       "    <tr>\n",
       "      <th>0</th>\n",
       "      <td>US</td>\n",
       "      <td>USD</td>\n",
       "      <td>1552539775</td>\n",
       "      <td>1548223375</td>\n",
       "      <td>live</td>\n",
       "      <td>28000.0000</td>\n",
       "      <td>24</td>\n",
       "      <td>\"slug\":\"fashion/footwear\"</td>\n",
       "    </tr>\n",
       "    <tr>\n",
       "      <th>1</th>\n",
       "      <td>US</td>\n",
       "      <td>USD</td>\n",
       "      <td>1504976459</td>\n",
       "      <td>1502384459</td>\n",
       "      <td>successful</td>\n",
       "      <td>1000.0000</td>\n",
       "      <td>23</td>\n",
       "      <td>\"slug\":\"games/playing cards\"</td>\n",
       "    </tr>\n",
       "    <tr>\n",
       "      <th>2</th>\n",
       "      <td>US</td>\n",
       "      <td>USD</td>\n",
       "      <td>1371013395</td>\n",
       "      <td>1368421395</td>\n",
       "      <td>successful</td>\n",
       "      <td>15000.0000</td>\n",
       "      <td>51</td>\n",
       "      <td>\"slug\":\"music/rock\"</td>\n",
       "    </tr>\n",
       "    <tr>\n",
       "      <th>3</th>\n",
       "      <td>GB</td>\n",
       "      <td>GBP</td>\n",
       "      <td>1489425776</td>\n",
       "      <td>1484245376</td>\n",
       "      <td>failed</td>\n",
       "      <td>13083.9361</td>\n",
       "      <td>34</td>\n",
       "      <td>\"slug\":\"games/playing cards\"</td>\n",
       "    </tr>\n",
       "    <tr>\n",
       "      <th>4</th>\n",
       "      <td>US</td>\n",
       "      <td>USD</td>\n",
       "      <td>1357763527</td>\n",
       "      <td>1355171527</td>\n",
       "      <td>successful</td>\n",
       "      <td>2800.0000</td>\n",
       "      <td>40</td>\n",
       "      <td>\"slug\":\"publishing/nonfiction\"</td>\n",
       "    </tr>\n",
       "  </tbody>\n",
       "</table>\n",
       "</div>"
      ],
      "text/plain": [
       "  country currency    deadline  launched_at       state    goal_usd  name_len  \\\n",
       "0      US      USD  1552539775   1548223375        live  28000.0000        24   \n",
       "1      US      USD  1504976459   1502384459  successful   1000.0000        23   \n",
       "2      US      USD  1371013395   1368421395  successful  15000.0000        51   \n",
       "3      GB      GBP  1489425776   1484245376      failed  13083.9361        34   \n",
       "4      US      USD  1357763527   1355171527  successful   2800.0000        40   \n",
       "\n",
       "                         category  \n",
       "0       \"slug\":\"fashion/footwear\"  \n",
       "1    \"slug\":\"games/playing cards\"  \n",
       "2             \"slug\":\"music/rock\"  \n",
       "3    \"slug\":\"games/playing cards\"  \n",
       "4  \"slug\":\"publishing/nonfiction\"  "
      ]
     },
     "execution_count": 12,
     "metadata": {},
     "output_type": "execute_result"
    }
   ],
   "source": [
    "#df.iloc[:, 3:19].head()\n",
    "df.head()"
   ]
  },
  {
   "cell_type": "code",
   "execution_count": 13,
   "metadata": {},
   "outputs": [],
   "source": [
    "## create column for duration (launch to deadline)\n",
    "\n",
    "launched = []\n",
    "deadline = []"
   ]
  },
  {
   "cell_type": "code",
   "execution_count": 16,
   "metadata": {},
   "outputs": [],
   "source": [
    "# created_at launched_at deadline\n",
    "for label, content in df['launched_at'].iteritems():\n",
    "    launched.append(datetime.datetime.fromtimestamp(content))"
   ]
  },
  {
   "cell_type": "code",
   "execution_count": 17,
   "metadata": {},
   "outputs": [],
   "source": [
    "# created_at launched_at deadline\n",
    "for label, content in df['deadline'].iteritems():\n",
    "    deadline.append(datetime.datetime.fromtimestamp(content))"
   ]
  },
  {
   "cell_type": "code",
   "execution_count": 18,
   "metadata": {},
   "outputs": [
    {
     "name": "stderr",
     "output_type": "stream",
     "text": [
      "/Users/zoe/neuefische/kickstarter-ml/.venv/lib/python3.9/site-packages/pandas/core/indexing.py:1732: SettingWithCopyWarning: \n",
      "A value is trying to be set on a copy of a slice from a DataFrame\n",
      "\n",
      "See the caveats in the documentation: https://pandas.pydata.org/pandas-docs/stable/user_guide/indexing.html#returning-a-view-versus-a-copy\n",
      "  self._setitem_single_block(indexer, value, name)\n"
     ]
    }
   ],
   "source": [
    "for i in range(len(df)):\n",
    "    df['launched_at'].iloc[[i]] = launched[i]"
   ]
  },
  {
   "cell_type": "code",
   "execution_count": 22,
   "metadata": {},
   "outputs": [
    {
     "name": "stderr",
     "output_type": "stream",
     "text": [
      "/Users/zoe/neuefische/kickstarter-ml/.venv/lib/python3.9/site-packages/pandas/core/indexing.py:1732: SettingWithCopyWarning: \n",
      "A value is trying to be set on a copy of a slice from a DataFrame\n",
      "\n",
      "See the caveats in the documentation: https://pandas.pydata.org/pandas-docs/stable/user_guide/indexing.html#returning-a-view-versus-a-copy\n",
      "  self._setitem_single_block(indexer, value, name)\n"
     ]
    }
   ],
   "source": [
    "for i in range(len(df)):\n",
    "    df['deadline'].iloc[[i]] = deadline[i]"
   ]
  },
  {
   "cell_type": "code",
   "execution_count": 24,
   "metadata": {},
   "outputs": [],
   "source": [
    "df['delta_dead_laun'] = (df['deadline'] - df['launched_at']).astype('timedelta64[h]')"
   ]
  },
  {
   "cell_type": "code",
   "execution_count": 21,
   "metadata": {},
   "outputs": [
    {
     "ename": "AttributeError",
     "evalue": "'datetime.timedelta' object has no attribute 'astype'",
     "output_type": "error",
     "traceback": [
      "\u001b[0;31m---------------------------------------------------------------------------\u001b[0m",
      "\u001b[0;31mAttributeError\u001b[0m                            Traceback (most recent call last)",
      "\u001b[0;32m/var/folders/7w/_kkcrrf15dbgp6_zhftm14v40000gn/T/ipykernel_7927/3821202484.py\u001b[0m in \u001b[0;36m<module>\u001b[0;34m\u001b[0m\n\u001b[1;32m      3\u001b[0m \u001b[0;32mfor\u001b[0m \u001b[0mi\u001b[0m \u001b[0;32min\u001b[0m \u001b[0mrange\u001b[0m\u001b[0;34m(\u001b[0m\u001b[0mlen\u001b[0m\u001b[0;34m(\u001b[0m\u001b[0mlaunched\u001b[0m\u001b[0;34m)\u001b[0m\u001b[0;34m)\u001b[0m\u001b[0;34m:\u001b[0m\u001b[0;34m\u001b[0m\u001b[0;34m\u001b[0m\u001b[0m\n\u001b[1;32m      4\u001b[0m     \u001b[0mtime\u001b[0m \u001b[0;34m=\u001b[0m \u001b[0mdeadline\u001b[0m\u001b[0;34m[\u001b[0m\u001b[0mi\u001b[0m\u001b[0;34m]\u001b[0m \u001b[0;34m-\u001b[0m \u001b[0mlaunched\u001b[0m\u001b[0;34m[\u001b[0m\u001b[0mi\u001b[0m\u001b[0;34m]\u001b[0m\u001b[0;34m\u001b[0m\u001b[0;34m\u001b[0m\u001b[0m\n\u001b[0;32m----> 5\u001b[0;31m     \u001b[0mdelta\u001b[0m\u001b[0;34m.\u001b[0m\u001b[0mappend\u001b[0m\u001b[0;34m(\u001b[0m\u001b[0mtime\u001b[0m\u001b[0;34m.\u001b[0m\u001b[0mastype\u001b[0m\u001b[0;34m(\u001b[0m\u001b[0;34m'timedelta64[h]'\u001b[0m\u001b[0;34m)\u001b[0m\u001b[0;34m)\u001b[0m\u001b[0;34m\u001b[0m\u001b[0;34m\u001b[0m\u001b[0m\n\u001b[0m\u001b[1;32m      6\u001b[0m \u001b[0;34m\u001b[0m\u001b[0m\n\u001b[1;32m      7\u001b[0m \u001b[0mdelta\u001b[0m\u001b[0;34m\u001b[0m\u001b[0;34m\u001b[0m\u001b[0m\n",
      "\u001b[0;31mAttributeError\u001b[0m: 'datetime.timedelta' object has no attribute 'astype'"
     ]
    }
   ],
   "source": [
    "#delta = []\n",
    "\n",
    "#for i in range(len(launched)):\n",
    " #   time = deadline[i] - launched[i]\n",
    " #   delta.append(time)\n",
    "\n",
    "#delta\n"
   ]
  },
  {
   "cell_type": "code",
   "execution_count": 25,
   "metadata": {},
   "outputs": [
    {
     "data": {
      "text/html": [
       "<div>\n",
       "<style scoped>\n",
       "    .dataframe tbody tr th:only-of-type {\n",
       "        vertical-align: middle;\n",
       "    }\n",
       "\n",
       "    .dataframe tbody tr th {\n",
       "        vertical-align: top;\n",
       "    }\n",
       "\n",
       "    .dataframe thead th {\n",
       "        text-align: right;\n",
       "    }\n",
       "</style>\n",
       "<table border=\"1\" class=\"dataframe\">\n",
       "  <thead>\n",
       "    <tr style=\"text-align: right;\">\n",
       "      <th></th>\n",
       "      <th>country</th>\n",
       "      <th>currency</th>\n",
       "      <th>deadline</th>\n",
       "      <th>launched_at</th>\n",
       "      <th>state</th>\n",
       "      <th>goal_usd</th>\n",
       "      <th>name_len</th>\n",
       "      <th>category</th>\n",
       "      <th>delta_dead_laun</th>\n",
       "    </tr>\n",
       "  </thead>\n",
       "  <tbody>\n",
       "    <tr>\n",
       "      <th>0</th>\n",
       "      <td>US</td>\n",
       "      <td>USD</td>\n",
       "      <td>2019-03-14 06:02:55</td>\n",
       "      <td>2019-01-23 07:02:55</td>\n",
       "      <td>live</td>\n",
       "      <td>28000.0000</td>\n",
       "      <td>24</td>\n",
       "      <td>\"slug\":\"fashion/footwear\"</td>\n",
       "      <td>1199.0</td>\n",
       "    </tr>\n",
       "    <tr>\n",
       "      <th>1</th>\n",
       "      <td>US</td>\n",
       "      <td>USD</td>\n",
       "      <td>2017-09-09 19:00:59</td>\n",
       "      <td>2017-08-10 19:00:59</td>\n",
       "      <td>successful</td>\n",
       "      <td>1000.0000</td>\n",
       "      <td>23</td>\n",
       "      <td>\"slug\":\"games/playing cards\"</td>\n",
       "      <td>720.0</td>\n",
       "    </tr>\n",
       "    <tr>\n",
       "      <th>2</th>\n",
       "      <td>US</td>\n",
       "      <td>USD</td>\n",
       "      <td>2013-06-12 07:03:15</td>\n",
       "      <td>2013-05-13 07:03:15</td>\n",
       "      <td>successful</td>\n",
       "      <td>15000.0000</td>\n",
       "      <td>51</td>\n",
       "      <td>\"slug\":\"music/rock\"</td>\n",
       "      <td>720.0</td>\n",
       "    </tr>\n",
       "    <tr>\n",
       "      <th>3</th>\n",
       "      <td>GB</td>\n",
       "      <td>GBP</td>\n",
       "      <td>2017-03-13 18:22:56</td>\n",
       "      <td>2017-01-12 19:22:56</td>\n",
       "      <td>failed</td>\n",
       "      <td>13083.9361</td>\n",
       "      <td>34</td>\n",
       "      <td>\"slug\":\"games/playing cards\"</td>\n",
       "      <td>1439.0</td>\n",
       "    </tr>\n",
       "    <tr>\n",
       "      <th>4</th>\n",
       "      <td>US</td>\n",
       "      <td>USD</td>\n",
       "      <td>2013-01-09 21:32:07</td>\n",
       "      <td>2012-12-10 21:32:07</td>\n",
       "      <td>successful</td>\n",
       "      <td>2800.0000</td>\n",
       "      <td>40</td>\n",
       "      <td>\"slug\":\"publishing/nonfiction\"</td>\n",
       "      <td>720.0</td>\n",
       "    </tr>\n",
       "  </tbody>\n",
       "</table>\n",
       "</div>"
      ],
      "text/plain": [
       "  country currency             deadline          launched_at       state  \\\n",
       "0      US      USD  2019-03-14 06:02:55  2019-01-23 07:02:55        live   \n",
       "1      US      USD  2017-09-09 19:00:59  2017-08-10 19:00:59  successful   \n",
       "2      US      USD  2013-06-12 07:03:15  2013-05-13 07:03:15  successful   \n",
       "3      GB      GBP  2017-03-13 18:22:56  2017-01-12 19:22:56      failed   \n",
       "4      US      USD  2013-01-09 21:32:07  2012-12-10 21:32:07  successful   \n",
       "\n",
       "     goal_usd  name_len                        category  delta_dead_laun  \n",
       "0  28000.0000        24       \"slug\":\"fashion/footwear\"           1199.0  \n",
       "1   1000.0000        23    \"slug\":\"games/playing cards\"            720.0  \n",
       "2  15000.0000        51             \"slug\":\"music/rock\"            720.0  \n",
       "3  13083.9361        34    \"slug\":\"games/playing cards\"           1439.0  \n",
       "4   2800.0000        40  \"slug\":\"publishing/nonfiction\"            720.0  "
      ]
     },
     "execution_count": 25,
     "metadata": {},
     "output_type": "execute_result"
    }
   ],
   "source": [
    "df.head()"
   ]
  },
  {
   "cell_type": "code",
   "execution_count": 27,
   "metadata": {},
   "outputs": [],
   "source": [
    "#export to csv\n",
    "df.to_csv( \"data/df_eda1.csv\", index=False, encoding='utf-8-sig')"
   ]
  },
  {
   "cell_type": "markdown",
   "metadata": {},
   "source": [
    "### Missing Values"
   ]
  },
  {
   "cell_type": "code",
   "execution_count": null,
   "metadata": {},
   "outputs": [],
   "source": [
    "df['state'].unique()"
   ]
  },
  {
   "cell_type": "code",
   "execution_count": null,
   "metadata": {},
   "outputs": [],
   "source": [
    "live = df.query('state == \"live\"')\n",
    "len(live)"
   ]
  },
  {
   "cell_type": "code",
   "execution_count": null,
   "metadata": {},
   "outputs": [],
   "source": []
  },
  {
   "cell_type": "code",
   "execution_count": null,
   "metadata": {},
   "outputs": [],
   "source": [
    "canceled = df.query('state == \"canceled\"')\n",
    "len(canceled)"
   ]
  },
  {
   "cell_type": "code",
   "execution_count": null,
   "metadata": {},
   "outputs": [],
   "source": [
    "suspended = df.query('state == \"suspended\"')\n",
    "len(suspended)"
   ]
  },
  {
   "cell_type": "code",
   "execution_count": null,
   "metadata": {},
   "outputs": [],
   "source": [
    "successful = df.query('state == \"successful\"')\n",
    "len(successful)"
   ]
  },
  {
   "cell_type": "code",
   "execution_count": null,
   "metadata": {},
   "outputs": [],
   "source": [
    "failed = df.query('state == \"failed\"')\n",
    "len(failed)"
   ]
  },
  {
   "cell_type": "code",
   "execution_count": null,
   "metadata": {},
   "outputs": [],
   "source": [
    "# convert 'state' to numerical\n",
    "# successful: 1\n",
    "# failed: 0\n",
    "# drop: live, suspended, canceled\n",
    "\n",
    "df = df.query('state != \"live\"')\n",
    "df = df.query('state != \"suspended\"')\n",
    "df = df.query('state != \"canceled\"')\n",
    "print(df['state'].unique()) # check that 'state' only contains failed and successful\n",
    "\n",
    "#df['state'].replace({'failed':0, 'successful':1}, inplace=True)\n",
    "#print(df['state'].unique()) # check that 'state' only contains 1 and 0\n"
   ]
  },
  {
   "cell_type": "code",
   "execution_count": null,
   "metadata": {},
   "outputs": [],
   "source": [
    "# plot frequency of success and failure\n",
    "\n",
    "sns.countplot(x='state', data=df)\n",
    "\n",
    "\n"
   ]
  },
  {
   "cell_type": "code",
   "execution_count": null,
   "metadata": {},
   "outputs": [],
   "source": [
    "from sklearn.dummy import DummyClassifier\n",
    "X = df.drop('state', axis=1)\n",
    "y = df['state']\n",
    "\n",
    "dummy_clf = DummyClassifier(strategy=\"most_frequent\")\n",
    "dummy_clf.fit(X, y)"
   ]
  },
  {
   "cell_type": "code",
   "execution_count": null,
   "metadata": {},
   "outputs": [],
   "source": [
    "y_pred_dummy = dummy_clf.predict(X)"
   ]
  },
  {
   "cell_type": "code",
   "execution_count": null,
   "metadata": {},
   "outputs": [],
   "source": [
    "dummy_clf.score(X, y)"
   ]
  },
  {
   "cell_type": "code",
   "execution_count": null,
   "metadata": {},
   "outputs": [],
   "source": [
    "print(classification_report(y, y_pred_dummy))"
   ]
  },
  {
   "cell_type": "code",
   "execution_count": null,
   "metadata": {},
   "outputs": [],
   "source": [
    "cfm_dummy = confusion_matrix(y, y_pred_dummy)\n",
    "cfm_dummy = cfm_dummy.astype('float') / cfm_dummy.sum(axis=1)[:, np.newaxis] # normalize the data"
   ]
  },
  {
   "cell_type": "code",
   "execution_count": null,
   "metadata": {},
   "outputs": [],
   "source": [
    "# view with a heatmap\n",
    "plt.figure()\n",
    "sns.heatmap(cfm_dummy, annot=True, annot_kws={\"size\":30}, \n",
    "        cmap='Blues', square=True, fmt='.3f')\n",
    "plt.ylabel('True label')\n",
    "plt.xlabel('Predicted label')\n",
    "plt.title('Confusion matrix for Dummy Classifier:');\n"
   ]
  },
  {
   "cell_type": "markdown",
   "metadata": {},
   "source": [
    "## Baseline Model\n",
    "\n",
    "* the value of your product\n",
    "\n",
    "Our product helps potential kickstarter creators assess whether their project will get funding.\n",
    "It supports them in finding out if it's worth investing the time and money to launch their project and which criteria to consider in order to make it successful.\n",
    "\n",
    "* what will you predict, based on what, and evaluation metric used\n",
    "\n",
    "We will predict whether a project will be successfully funded on Kickstarter.\n",
    "Our model will be based on features like the funding goal, the currency the goal is in and the category of the project.\n",
    "We will use the F1-score as the evaluation metric in order to get a good balance between precision and recall.\n",
    "Both false positives (predicting that a project will be funded and the creator investing time and money to fail in the end) and false negatives (predicting that a project will be unsuccessful and preventing the creators from realizing their idea) are equally undesirable in this context.\n",
    "\n",
    "* short description of baseline, and the score (based on eval metric)\n",
    "\n",
    "Our baseline model is a dummy classifier predicting the most frequent class (in this case success).\n",
    "It reaches an F1-score (our metric of interest) of 76% and an accuracy of 61%."
   ]
  },
  {
   "cell_type": "markdown",
   "metadata": {},
   "source": []
  },
  {
   "cell_type": "code",
   "execution_count": null,
   "metadata": {},
   "outputs": [],
   "source": []
  }
 ],
 "metadata": {
  "interpreter": {
   "hash": "cbaf37d83a19e1b2581c71e29f60247c77efb6a13f584020ad679a19009e0051"
  },
  "kernelspec": {
   "display_name": "Python 3.9.4 64-bit ('.venv': venv)",
   "name": "python3"
  },
  "language_info": {
   "codemirror_mode": {
    "name": "ipython",
    "version": 3
   },
   "file_extension": ".py",
   "mimetype": "text/x-python",
   "name": "python",
   "nbconvert_exporter": "python",
   "pygments_lexer": "ipython3",
   "version": "3.9.4"
  },
  "orig_nbformat": 4
 },
 "nbformat": 4,
 "nbformat_minor": 2
}
