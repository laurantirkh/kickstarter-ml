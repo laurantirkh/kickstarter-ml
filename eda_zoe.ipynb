{
 "cells": [
  {
   "cell_type": "code",
   "execution_count": 1,
   "metadata": {},
   "outputs": [],
   "source": [
    "import pandas as pd\n",
    "import numpy as np\n",
    "import seaborn as sns\n",
    "import matplotlib.pyplot as plt\n",
    "%matplotlib inline"
   ]
  },
  {
   "cell_type": "code",
   "execution_count": 4,
   "metadata": {},
   "outputs": [
    {
     "name": "stdout",
     "output_type": "stream",
     "text": [
      "<class 'pandas.core.frame.DataFrame'>\n",
      "RangeIndex: 209222 entries, 0 to 209221\n",
      "Data columns (total 9 columns):\n",
      " #   Column           Non-Null Count   Dtype  \n",
      "---  ------           --------------   -----  \n",
      " 0   country          209222 non-null  object \n",
      " 1   currency         209222 non-null  object \n",
      " 2   deadline         209222 non-null  object \n",
      " 3   launched_at      209222 non-null  object \n",
      " 4   state            209222 non-null  object \n",
      " 5   goal_usd         209222 non-null  float64\n",
      " 6   name_len         209222 non-null  int64  \n",
      " 7   category         209222 non-null  object \n",
      " 8   delta_dead_laun  209222 non-null  float64\n",
      "dtypes: float64(2), int64(1), object(6)\n",
      "memory usage: 14.4+ MB\n"
     ]
    }
   ],
   "source": [
    "df = pd.read_csv('data/df_eda1.csv')\n",
    "df.info()"
   ]
  },
  {
   "cell_type": "code",
   "execution_count": 5,
   "metadata": {},
   "outputs": [
    {
     "data": {
      "text/html": [
       "<div>\n",
       "<style scoped>\n",
       "    .dataframe tbody tr th:only-of-type {\n",
       "        vertical-align: middle;\n",
       "    }\n",
       "\n",
       "    .dataframe tbody tr th {\n",
       "        vertical-align: top;\n",
       "    }\n",
       "\n",
       "    .dataframe thead th {\n",
       "        text-align: right;\n",
       "    }\n",
       "</style>\n",
       "<table border=\"1\" class=\"dataframe\">\n",
       "  <thead>\n",
       "    <tr style=\"text-align: right;\">\n",
       "      <th></th>\n",
       "      <th>goal_usd</th>\n",
       "      <th>name_len</th>\n",
       "      <th>delta_dead_laun</th>\n",
       "    </tr>\n",
       "  </thead>\n",
       "  <tbody>\n",
       "    <tr>\n",
       "      <th>count</th>\n",
       "      <td>2.092220e+05</td>\n",
       "      <td>209222.000000</td>\n",
       "      <td>209222.000000</td>\n",
       "    </tr>\n",
       "    <tr>\n",
       "      <th>mean</th>\n",
       "      <td>4.029193e+04</td>\n",
       "      <td>35.471002</td>\n",
       "      <td>785.232265</td>\n",
       "    </tr>\n",
       "    <tr>\n",
       "      <th>std</th>\n",
       "      <td>1.093502e+06</td>\n",
       "      <td>15.716247</td>\n",
       "      <td>284.294086</td>\n",
       "    </tr>\n",
       "    <tr>\n",
       "      <th>min</th>\n",
       "      <td>1.000000e-02</td>\n",
       "      <td>1.000000</td>\n",
       "      <td>24.000000</td>\n",
       "    </tr>\n",
       "    <tr>\n",
       "      <th>25%</th>\n",
       "      <td>1.500000e+03</td>\n",
       "      <td>22.000000</td>\n",
       "      <td>719.000000</td>\n",
       "    </tr>\n",
       "    <tr>\n",
       "      <th>50%</th>\n",
       "      <td>5.000000e+03</td>\n",
       "      <td>35.000000</td>\n",
       "      <td>720.000000</td>\n",
       "    </tr>\n",
       "    <tr>\n",
       "      <th>75%</th>\n",
       "      <td>1.300000e+04</td>\n",
       "      <td>50.000000</td>\n",
       "      <td>833.000000</td>\n",
       "    </tr>\n",
       "    <tr>\n",
       "      <th>max</th>\n",
       "      <td>1.325680e+08</td>\n",
       "      <td>96.000000</td>\n",
       "      <td>2234.000000</td>\n",
       "    </tr>\n",
       "  </tbody>\n",
       "</table>\n",
       "</div>"
      ],
      "text/plain": [
       "           goal_usd       name_len  delta_dead_laun\n",
       "count  2.092220e+05  209222.000000    209222.000000\n",
       "mean   4.029193e+04      35.471002       785.232265\n",
       "std    1.093502e+06      15.716247       284.294086\n",
       "min    1.000000e-02       1.000000        24.000000\n",
       "25%    1.500000e+03      22.000000       719.000000\n",
       "50%    5.000000e+03      35.000000       720.000000\n",
       "75%    1.300000e+04      50.000000       833.000000\n",
       "max    1.325680e+08      96.000000      2234.000000"
      ]
     },
     "execution_count": 5,
     "metadata": {},
     "output_type": "execute_result"
    }
   ],
   "source": [
    "df.describe()"
   ]
  },
  {
   "cell_type": "code",
   "execution_count": 33,
   "metadata": {},
   "outputs": [
    {
     "name": "stdout",
     "output_type": "stream",
     "text": [
      "<class 'pandas.core.frame.DataFrame'>\n",
      "Int64Index: 192664 entries, 1 to 209221\n",
      "Data columns (total 9 columns):\n",
      " #   Column           Non-Null Count   Dtype  \n",
      "---  ------           --------------   -----  \n",
      " 0   country          192664 non-null  object \n",
      " 1   currency         192664 non-null  object \n",
      " 2   deadline         192664 non-null  object \n",
      " 3   launched_at      192664 non-null  object \n",
      " 4   state            192664 non-null  object \n",
      " 5   goal_usd         192664 non-null  float64\n",
      " 6   name_len         192664 non-null  int64  \n",
      " 7   category         192664 non-null  object \n",
      " 8   delta_dead_laun  192664 non-null  float64\n",
      "dtypes: float64(2), int64(1), object(6)\n",
      "memory usage: 14.7+ MB\n"
     ]
    },
    {
     "data": {
      "text/plain": [
       "array(['successful', 'failed'], dtype=object)"
      ]
     },
     "execution_count": 33,
     "metadata": {},
     "output_type": "execute_result"
    }
   ],
   "source": [
    "goal = df.query('goal_usd > 100 and goal_usd < 1000000')\n",
    "goal = df.query('state == \"successful\" or state == \"failed\"')\n",
    "goal.describe()\n",
    "goal.info()\n",
    "goal['state'].unique()"
   ]
  },
  {
   "cell_type": "code",
   "execution_count": 34,
   "metadata": {},
   "outputs": [
    {
     "data": {
      "text/plain": [
       "<AxesSubplot:xlabel='goal_usd', ylabel='Count'>"
      ]
     },
     "execution_count": 34,
     "metadata": {},
     "output_type": "execute_result"
    },
    {
     "data": {
      "image/png": "[encoded data removed]",
      "text/plain": [
       "<Figure size 432x288 with 1 Axes>"
      ]
     },
     "metadata": {
      "needs_background": "light"
     },
     "output_type": "display_data"
    }
   ],
   "source": [
    "sns.histplot(x='goal_usd', hue='state', data=goal, bins=[100,1000,5000,10000,50000,100000], multiple='dodge')\n",
    "#plt.ylim(0,2000)"
   ]
  },
  {
   "cell_type": "code",
   "execution_count": 42,
   "metadata": {},
   "outputs": [
    {
     "data": {
      "image/png": "[encoded data removed]",
      "text/plain": [
       "<Figure size 842.4x595.44 with 1 Axes>"
      ]
     },
     "metadata": {
      "needs_background": "light"
     },
     "output_type": "display_data"
    }
   ],
   "source": [
    "fig, ax = plt.subplots()\n",
    "sns.histplot(x='country', data=goal, hue='state', multiple='dodge')\n",
    "fig.set_size_inches(11.7, 8.27)\n",
    "sns.despine()"
   ]
  },
  {
   "cell_type": "markdown",
   "metadata": {},
   "source": [
    "- order by size and combine everything under ca. 1000 into 'other'?\n",
    "- show numbers on bars"
   ]
  },
  {
   "cell_type": "code",
   "execution_count": null,
   "metadata": {},
   "outputs": [],
   "source": []
  }
 ],
 "metadata": {
  "interpreter": {
   "hash": "cbaf37d83a19e1b2581c71e29f60247c77efb6a13f584020ad679a19009e0051"
  },
  "kernelspec": {
   "display_name": "Python 3.9.4 64-bit ('.venv': venv)",
   "name": "python3"
  },
  "language_info": {
   "codemirror_mode": {
    "name": "ipython",
    "version": 3
   },
   "file_extension": ".py",
   "mimetype": "text/x-python",
   "name": "python",
   "nbconvert_exporter": "python",
   "pygments_lexer": "ipython3",
   "version": "3.9.4"
  },
  "orig_nbformat": 4
 },
 "nbformat": 4,
 "nbformat_minor": 2
}
