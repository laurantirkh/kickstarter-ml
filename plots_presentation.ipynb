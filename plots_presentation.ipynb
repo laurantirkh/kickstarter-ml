{
 "cells": [
  {
   "cell_type": "code",
   "execution_count": 1,
   "metadata": {},
   "outputs": [],
   "source": [
    "import pandas as pd\n",
    "import numpy as np\n",
    "import seaborn as sns\n",
    "import matplotlib.pyplot as plt\n",
    "import datetime\n",
    "from scipy import stats\n",
    "%matplotlib inline\n",
    "\n",
    "from sklearn.metrics import classification_report, confusion_matrix"
   ]
  },
  {
   "cell_type": "code",
   "execution_count": 2,
   "metadata": {},
   "outputs": [],
   "source": [
    "df = pd.read_csv(\"data/df_eda2.csv\")"
   ]
  },
  {
   "cell_type": "code",
   "execution_count": 3,
   "metadata": {},
   "outputs": [
    {
     "data": {
      "text/html": [
       "<div>\n",
       "<style scoped>\n",
       "    .dataframe tbody tr th:only-of-type {\n",
       "        vertical-align: middle;\n",
       "    }\n",
       "\n",
       "    .dataframe tbody tr th {\n",
       "        vertical-align: top;\n",
       "    }\n",
       "\n",
       "    .dataframe thead th {\n",
       "        text-align: right;\n",
       "    }\n",
       "</style>\n",
       "<table border=\"1\" class=\"dataframe\">\n",
       "  <thead>\n",
       "    <tr style=\"text-align: right;\">\n",
       "      <th></th>\n",
       "      <th>country</th>\n",
       "      <th>state</th>\n",
       "      <th>goal_usd_log</th>\n",
       "      <th>name_len</th>\n",
       "      <th>category</th>\n",
       "      <th>delta_dead_laun</th>\n",
       "    </tr>\n",
       "  </thead>\n",
       "  <tbody>\n",
       "    <tr>\n",
       "      <th>0</th>\n",
       "      <td>US</td>\n",
       "      <td>successful</td>\n",
       "      <td>6.907755</td>\n",
       "      <td>23</td>\n",
       "      <td>\"slug\":\"games/playing cards\"</td>\n",
       "      <td>720.0</td>\n",
       "    </tr>\n",
       "    <tr>\n",
       "      <th>1</th>\n",
       "      <td>US</td>\n",
       "      <td>successful</td>\n",
       "      <td>9.615805</td>\n",
       "      <td>51</td>\n",
       "      <td>\"slug\":\"music/rock\"</td>\n",
       "      <td>720.0</td>\n",
       "    </tr>\n",
       "    <tr>\n",
       "      <th>2</th>\n",
       "      <td>GB</td>\n",
       "      <td>failed</td>\n",
       "      <td>9.479141</td>\n",
       "      <td>34</td>\n",
       "      <td>\"slug\":\"games/playing cards\"</td>\n",
       "      <td>1439.0</td>\n",
       "    </tr>\n",
       "    <tr>\n",
       "      <th>3</th>\n",
       "      <td>US</td>\n",
       "      <td>successful</td>\n",
       "      <td>7.937375</td>\n",
       "      <td>40</td>\n",
       "      <td>\"slug\":\"publishing/nonfiction\"</td>\n",
       "      <td>720.0</td>\n",
       "    </tr>\n",
       "    <tr>\n",
       "      <th>4</th>\n",
       "      <td>US</td>\n",
       "      <td>successful</td>\n",
       "      <td>8.160518</td>\n",
       "      <td>31</td>\n",
       "      <td>\"slug\":\"music/classical music\"</td>\n",
       "      <td>720.0</td>\n",
       "    </tr>\n",
       "  </tbody>\n",
       "</table>\n",
       "</div>"
      ],
      "text/plain": [
       "  country       state  goal_usd_log  name_len                        category  \\\n",
       "0      US  successful      6.907755        23    \"slug\":\"games/playing cards\"   \n",
       "1      US  successful      9.615805        51             \"slug\":\"music/rock\"   \n",
       "2      GB      failed      9.479141        34    \"slug\":\"games/playing cards\"   \n",
       "3      US  successful      7.937375        40  \"slug\":\"publishing/nonfiction\"   \n",
       "4      US  successful      8.160518        31  \"slug\":\"music/classical music\"   \n",
       "\n",
       "   delta_dead_laun  \n",
       "0            720.0  \n",
       "1            720.0  \n",
       "2           1439.0  \n",
       "3            720.0  \n",
       "4            720.0  "
      ]
     },
     "execution_count": 3,
     "metadata": {},
     "output_type": "execute_result"
    }
   ],
   "source": [
    "df.head()"
   ]
  },
  {
   "cell_type": "code",
   "execution_count": 7,
   "metadata": {},
   "outputs": [
    {
     "data": {
      "text/plain": [
       "0      \"slug\":\"games/playing cards\"\n",
       "1               \"slug\":\"music/rock\"\n",
       "2      \"slug\":\"games/playing cards\"\n",
       "3    \"slug\":\"publishing/nonfiction\"\n",
       "4    \"slug\":\"music/classical music\"\n",
       "Name: category, dtype: object"
      ]
     },
     "execution_count": 7,
     "metadata": {},
     "output_type": "execute_result"
    }
   ],
   "source": [
    "df['category'].head()"
   ]
  },
  {
   "cell_type": "code",
   "execution_count": 13,
   "metadata": {},
   "outputs": [],
   "source": [
    "df['category'] = df['category'].str.strip('\"slug')"
   ]
  },
  {
   "cell_type": "code",
   "execution_count": 14,
   "metadata": {},
   "outputs": [
    {
     "data": {
      "text/html": [
       "<div>\n",
       "<style scoped>\n",
       "    .dataframe tbody tr th:only-of-type {\n",
       "        vertical-align: middle;\n",
       "    }\n",
       "\n",
       "    .dataframe tbody tr th {\n",
       "        vertical-align: top;\n",
       "    }\n",
       "\n",
       "    .dataframe thead th {\n",
       "        text-align: right;\n",
       "    }\n",
       "</style>\n",
       "<table border=\"1\" class=\"dataframe\">\n",
       "  <thead>\n",
       "    <tr style=\"text-align: right;\">\n",
       "      <th></th>\n",
       "      <th>country</th>\n",
       "      <th>state</th>\n",
       "      <th>goal_usd_log</th>\n",
       "      <th>name_len</th>\n",
       "      <th>category</th>\n",
       "      <th>delta_dead_laun</th>\n",
       "    </tr>\n",
       "  </thead>\n",
       "  <tbody>\n",
       "    <tr>\n",
       "      <th>0</th>\n",
       "      <td>US</td>\n",
       "      <td>successful</td>\n",
       "      <td>6.907755</td>\n",
       "      <td>23</td>\n",
       "      <td>:\"games/playing card</td>\n",
       "      <td>720.0</td>\n",
       "    </tr>\n",
       "    <tr>\n",
       "      <th>1</th>\n",
       "      <td>US</td>\n",
       "      <td>successful</td>\n",
       "      <td>9.615805</td>\n",
       "      <td>51</td>\n",
       "      <td>:\"music/rock</td>\n",
       "      <td>720.0</td>\n",
       "    </tr>\n",
       "    <tr>\n",
       "      <th>2</th>\n",
       "      <td>GB</td>\n",
       "      <td>failed</td>\n",
       "      <td>9.479141</td>\n",
       "      <td>34</td>\n",
       "      <td>:\"games/playing card</td>\n",
       "      <td>1439.0</td>\n",
       "    </tr>\n",
       "    <tr>\n",
       "      <th>3</th>\n",
       "      <td>US</td>\n",
       "      <td>successful</td>\n",
       "      <td>7.937375</td>\n",
       "      <td>40</td>\n",
       "      <td>:\"publishing/nonfiction</td>\n",
       "      <td>720.0</td>\n",
       "    </tr>\n",
       "    <tr>\n",
       "      <th>4</th>\n",
       "      <td>US</td>\n",
       "      <td>successful</td>\n",
       "      <td>8.160518</td>\n",
       "      <td>31</td>\n",
       "      <td>:\"music/classical music</td>\n",
       "      <td>720.0</td>\n",
       "    </tr>\n",
       "  </tbody>\n",
       "</table>\n",
       "</div>"
      ],
      "text/plain": [
       "  country       state  goal_usd_log  name_len                 category  \\\n",
       "0      US  successful      6.907755        23     :\"games/playing card   \n",
       "1      US  successful      9.615805        51             :\"music/rock   \n",
       "2      GB      failed      9.479141        34     :\"games/playing card   \n",
       "3      US  successful      7.937375        40  :\"publishing/nonfiction   \n",
       "4      US  successful      8.160518        31  :\"music/classical music   \n",
       "\n",
       "   delta_dead_laun  \n",
       "0            720.0  \n",
       "1            720.0  \n",
       "2           1439.0  \n",
       "3            720.0  \n",
       "4            720.0  "
      ]
     },
     "execution_count": 14,
     "metadata": {},
     "output_type": "execute_result"
    }
   ],
   "source": [
    "df.head()"
   ]
  },
  {
   "cell_type": "code",
   "execution_count": 79,
   "metadata": {},
   "outputs": [
    {
     "data": {
      "text/html": [
       "<div>\n",
       "<style scoped>\n",
       "    .dataframe tbody tr th:only-of-type {\n",
       "        vertical-align: middle;\n",
       "    }\n",
       "\n",
       "    .dataframe tbody tr th {\n",
       "        vertical-align: top;\n",
       "    }\n",
       "\n",
       "    .dataframe thead th {\n",
       "        text-align: right;\n",
       "    }\n",
       "</style>\n",
       "<table border=\"1\" class=\"dataframe\">\n",
       "  <thead>\n",
       "    <tr style=\"text-align: right;\">\n",
       "      <th></th>\n",
       "      <th>goal_usd_log</th>\n",
       "      <th>name_len</th>\n",
       "      <th>delta_dead_laun</th>\n",
       "    </tr>\n",
       "  </thead>\n",
       "  <tbody>\n",
       "    <tr>\n",
       "      <th>count</th>\n",
       "      <td>187812.000000</td>\n",
       "      <td>187812.000000</td>\n",
       "      <td>187812.000000</td>\n",
       "    </tr>\n",
       "    <tr>\n",
       "      <th>mean</th>\n",
       "      <td>8.431109</td>\n",
       "      <td>35.220353</td>\n",
       "      <td>779.703230</td>\n",
       "    </tr>\n",
       "    <tr>\n",
       "      <th>std</th>\n",
       "      <td>1.547815</td>\n",
       "      <td>15.703031</td>\n",
       "      <td>276.715503</td>\n",
       "    </tr>\n",
       "    <tr>\n",
       "      <th>min</th>\n",
       "      <td>4.615121</td>\n",
       "      <td>1.000000</td>\n",
       "      <td>24.000000</td>\n",
       "    </tr>\n",
       "    <tr>\n",
       "      <th>25%</th>\n",
       "      <td>7.313220</td>\n",
       "      <td>22.000000</td>\n",
       "      <td>719.000000</td>\n",
       "    </tr>\n",
       "    <tr>\n",
       "      <th>50%</th>\n",
       "      <td>8.517193</td>\n",
       "      <td>35.000000</td>\n",
       "      <td>720.000000</td>\n",
       "    </tr>\n",
       "    <tr>\n",
       "      <th>75%</th>\n",
       "      <td>9.433484</td>\n",
       "      <td>49.000000</td>\n",
       "      <td>813.000000</td>\n",
       "    </tr>\n",
       "    <tr>\n",
       "      <th>max</th>\n",
       "      <td>13.815510</td>\n",
       "      <td>85.000000</td>\n",
       "      <td>2234.000000</td>\n",
       "    </tr>\n",
       "  </tbody>\n",
       "</table>\n",
       "</div>"
      ],
      "text/plain": [
       "        goal_usd_log       name_len  delta_dead_laun\n",
       "count  187812.000000  187812.000000    187812.000000\n",
       "mean        8.431109      35.220353       779.703230\n",
       "std         1.547815      15.703031       276.715503\n",
       "min         4.615121       1.000000        24.000000\n",
       "25%         7.313220      22.000000       719.000000\n",
       "50%         8.517193      35.000000       720.000000\n",
       "75%         9.433484      49.000000       813.000000\n",
       "max        13.815510      85.000000      2234.000000"
      ]
     },
     "execution_count": 79,
     "metadata": {},
     "output_type": "execute_result"
    }
   ],
   "source": [
    "df.describe()"
   ]
  },
  {
   "cell_type": "code",
   "execution_count": 85,
   "metadata": {},
   "outputs": [
    {
     "data": {
      "text/plain": [
       "<AxesSubplot:xlabel='delta_dead_laun', ylabel='Count'>"
      ]
     },
     "execution_count": 85,
     "metadata": {},
     "output_type": "execute_result"
    },
    {
     "data": {
      "image/png": "[encoded data removed]",
      "text/plain": [
       "<Figure size 864x576 with 1 Axes>"
      ]
     },
     "metadata": {
      "needs_background": "light"
     },
     "output_type": "display_data"
    }
   ],
   "source": [
    "plt.figure(figsize=(12, 8))\n",
    "sns.histplot(data=df, x='delta_dead_laun', bins=12, hue='state', multiple='dodge')"
   ]
  },
  {
   "cell_type": "code",
   "execution_count": null,
   "metadata": {},
   "outputs": [],
   "source": []
  },
  {
   "cell_type": "code",
   "execution_count": 16,
   "metadata": {},
   "outputs": [],
   "source": [
    "df['category'] = df['category'].str.strip(':\"')"
   ]
  },
  {
   "cell_type": "code",
   "execution_count": 17,
   "metadata": {},
   "outputs": [
    {
     "data": {
      "text/html": [
       "<div>\n",
       "<style scoped>\n",
       "    .dataframe tbody tr th:only-of-type {\n",
       "        vertical-align: middle;\n",
       "    }\n",
       "\n",
       "    .dataframe tbody tr th {\n",
       "        vertical-align: top;\n",
       "    }\n",
       "\n",
       "    .dataframe thead th {\n",
       "        text-align: right;\n",
       "    }\n",
       "</style>\n",
       "<table border=\"1\" class=\"dataframe\">\n",
       "  <thead>\n",
       "    <tr style=\"text-align: right;\">\n",
       "      <th></th>\n",
       "      <th>country</th>\n",
       "      <th>state</th>\n",
       "      <th>goal_usd_log</th>\n",
       "      <th>name_len</th>\n",
       "      <th>category</th>\n",
       "      <th>delta_dead_laun</th>\n",
       "    </tr>\n",
       "  </thead>\n",
       "  <tbody>\n",
       "    <tr>\n",
       "      <th>0</th>\n",
       "      <td>US</td>\n",
       "      <td>successful</td>\n",
       "      <td>6.907755</td>\n",
       "      <td>23</td>\n",
       "      <td>games/playing card</td>\n",
       "      <td>720.0</td>\n",
       "    </tr>\n",
       "    <tr>\n",
       "      <th>1</th>\n",
       "      <td>US</td>\n",
       "      <td>successful</td>\n",
       "      <td>9.615805</td>\n",
       "      <td>51</td>\n",
       "      <td>music/rock</td>\n",
       "      <td>720.0</td>\n",
       "    </tr>\n",
       "    <tr>\n",
       "      <th>2</th>\n",
       "      <td>GB</td>\n",
       "      <td>failed</td>\n",
       "      <td>9.479141</td>\n",
       "      <td>34</td>\n",
       "      <td>games/playing card</td>\n",
       "      <td>1439.0</td>\n",
       "    </tr>\n",
       "    <tr>\n",
       "      <th>3</th>\n",
       "      <td>US</td>\n",
       "      <td>successful</td>\n",
       "      <td>7.937375</td>\n",
       "      <td>40</td>\n",
       "      <td>publishing/nonfiction</td>\n",
       "      <td>720.0</td>\n",
       "    </tr>\n",
       "    <tr>\n",
       "      <th>4</th>\n",
       "      <td>US</td>\n",
       "      <td>successful</td>\n",
       "      <td>8.160518</td>\n",
       "      <td>31</td>\n",
       "      <td>music/classical music</td>\n",
       "      <td>720.0</td>\n",
       "    </tr>\n",
       "  </tbody>\n",
       "</table>\n",
       "</div>"
      ],
      "text/plain": [
       "  country       state  goal_usd_log  name_len               category  \\\n",
       "0      US  successful      6.907755        23     games/playing card   \n",
       "1      US  successful      9.615805        51             music/rock   \n",
       "2      GB      failed      9.479141        34     games/playing card   \n",
       "3      US  successful      7.937375        40  publishing/nonfiction   \n",
       "4      US  successful      8.160518        31  music/classical music   \n",
       "\n",
       "   delta_dead_laun  \n",
       "0            720.0  \n",
       "1            720.0  \n",
       "2           1439.0  \n",
       "3            720.0  \n",
       "4            720.0  "
      ]
     },
     "execution_count": 17,
     "metadata": {},
     "output_type": "execute_result"
    }
   ],
   "source": [
    "df.head()"
   ]
  },
  {
   "cell_type": "code",
   "execution_count": 18,
   "metadata": {},
   "outputs": [
    {
     "data": {
      "text/plain": [
       "<AxesSubplot:xlabel='category', ylabel='Count'>"
      ]
     },
     "execution_count": 18,
     "metadata": {},
     "output_type": "execute_result"
    },
    {
     "data": {
      "image/png": "[encoded data removed]",
      "text/plain": [
       "<Figure size 432x288 with 1 Axes>"
      ]
     },
     "metadata": {
      "needs_background": "light"
     },
     "output_type": "display_data"
    }
   ],
   "source": [
    "sns.histplot(data=df, x='category')"
   ]
  },
  {
   "cell_type": "code",
   "execution_count": 60,
   "metadata": {},
   "outputs": [],
   "source": [
    "cat_top = df['category'].value_counts()"
   ]
  },
  {
   "cell_type": "code",
   "execution_count": 70,
   "metadata": {},
   "outputs": [],
   "source": [
    "category_top = cat_top[0:10]"
   ]
  },
  {
   "cell_type": "code",
   "execution_count": 76,
   "metadata": {},
   "outputs": [],
   "source": [
    "cats = []\n",
    "\n",
    "for i in range(10):\n",
    "    cats.append(category_top[i])"
   ]
  },
  {
   "cell_type": "code",
   "execution_count": 77,
   "metadata": {},
   "outputs": [
    {
     "data": {
      "text/plain": [
       "[3670, 3262, 3214, 3127, 2775, 2724, 2716, 2707, 2678, 2677]"
      ]
     },
     "execution_count": 77,
     "metadata": {},
     "output_type": "execute_result"
    }
   ],
   "source": [
    "cats"
   ]
  },
  {
   "cell_type": "code",
   "execution_count": 37,
   "metadata": {},
   "outputs": [],
   "source": [
    "df2 = df.query('category == \"design/product design\" or category == \"fashion/accessorie\" or category == \"comics/comic book\" or category == \"games/tabletop game\" or category == \"technology/gadget\"')"
   ]
  },
  {
   "cell_type": "code",
   "execution_count": 43,
   "metadata": {},
   "outputs": [
    {
     "data": {
      "text/html": [
       "<div>\n",
       "<style scoped>\n",
       "    .dataframe tbody tr th:only-of-type {\n",
       "        vertical-align: middle;\n",
       "    }\n",
       "\n",
       "    .dataframe tbody tr th {\n",
       "        vertical-align: top;\n",
       "    }\n",
       "\n",
       "    .dataframe thead th {\n",
       "        text-align: right;\n",
       "    }\n",
       "</style>\n",
       "<table border=\"1\" class=\"dataframe\">\n",
       "  <thead>\n",
       "    <tr style=\"text-align: right;\">\n",
       "      <th></th>\n",
       "      <th>country</th>\n",
       "      <th>state</th>\n",
       "      <th>goal_usd_log</th>\n",
       "      <th>name_len</th>\n",
       "      <th>category</th>\n",
       "      <th>delta_dead_laun</th>\n",
       "    </tr>\n",
       "  </thead>\n",
       "  <tbody>\n",
       "    <tr>\n",
       "      <th>8</th>\n",
       "      <td>GB</td>\n",
       "      <td>successful</td>\n",
       "      <td>6.208971</td>\n",
       "      <td>50</td>\n",
       "      <td>fashion/accessorie</td>\n",
       "      <td>720.0</td>\n",
       "    </tr>\n",
       "    <tr>\n",
       "      <th>24</th>\n",
       "      <td>US</td>\n",
       "      <td>successful</td>\n",
       "      <td>6.214608</td>\n",
       "      <td>51</td>\n",
       "      <td>fashion/accessorie</td>\n",
       "      <td>720.0</td>\n",
       "    </tr>\n",
       "    <tr>\n",
       "      <th>76</th>\n",
       "      <td>US</td>\n",
       "      <td>successful</td>\n",
       "      <td>8.699515</td>\n",
       "      <td>18</td>\n",
       "      <td>fashion/accessorie</td>\n",
       "      <td>600.0</td>\n",
       "    </tr>\n",
       "    <tr>\n",
       "      <th>98</th>\n",
       "      <td>US</td>\n",
       "      <td>successful</td>\n",
       "      <td>6.309918</td>\n",
       "      <td>25</td>\n",
       "      <td>fashion/accessorie</td>\n",
       "      <td>360.0</td>\n",
       "    </tr>\n",
       "    <tr>\n",
       "      <th>100</th>\n",
       "      <td>US</td>\n",
       "      <td>successful</td>\n",
       "      <td>7.170120</td>\n",
       "      <td>51</td>\n",
       "      <td>fashion/accessorie</td>\n",
       "      <td>1080.0</td>\n",
       "    </tr>\n",
       "    <tr>\n",
       "      <th>...</th>\n",
       "      <td>...</td>\n",
       "      <td>...</td>\n",
       "      <td>...</td>\n",
       "      <td>...</td>\n",
       "      <td>...</td>\n",
       "      <td>...</td>\n",
       "    </tr>\n",
       "    <tr>\n",
       "      <th>187667</th>\n",
       "      <td>US</td>\n",
       "      <td>successful</td>\n",
       "      <td>6.684612</td>\n",
       "      <td>44</td>\n",
       "      <td>comics/comic book</td>\n",
       "      <td>720.0</td>\n",
       "    </tr>\n",
       "    <tr>\n",
       "      <th>187682</th>\n",
       "      <td>US</td>\n",
       "      <td>successful</td>\n",
       "      <td>8.411833</td>\n",
       "      <td>20</td>\n",
       "      <td>comics/comic book</td>\n",
       "      <td>744.0</td>\n",
       "    </tr>\n",
       "    <tr>\n",
       "      <th>187748</th>\n",
       "      <td>GB</td>\n",
       "      <td>successful</td>\n",
       "      <td>8.288293</td>\n",
       "      <td>17</td>\n",
       "      <td>comics/comic book</td>\n",
       "      <td>624.0</td>\n",
       "    </tr>\n",
       "    <tr>\n",
       "      <th>187750</th>\n",
       "      <td>GB</td>\n",
       "      <td>successful</td>\n",
       "      <td>7.978138</td>\n",
       "      <td>19</td>\n",
       "      <td>comics/comic book</td>\n",
       "      <td>755.0</td>\n",
       "    </tr>\n",
       "    <tr>\n",
       "      <th>187807</th>\n",
       "      <td>US</td>\n",
       "      <td>successful</td>\n",
       "      <td>7.313220</td>\n",
       "      <td>41</td>\n",
       "      <td>games/tabletop game</td>\n",
       "      <td>342.0</td>\n",
       "    </tr>\n",
       "  </tbody>\n",
       "</table>\n",
       "<p>16048 rows × 6 columns</p>\n",
       "</div>"
      ],
      "text/plain": [
       "       country       state  goal_usd_log  name_len             category  \\\n",
       "8           GB  successful      6.208971        50   fashion/accessorie   \n",
       "24          US  successful      6.214608        51   fashion/accessorie   \n",
       "76          US  successful      8.699515        18   fashion/accessorie   \n",
       "98          US  successful      6.309918        25   fashion/accessorie   \n",
       "100         US  successful      7.170120        51   fashion/accessorie   \n",
       "...        ...         ...           ...       ...                  ...   \n",
       "187667      US  successful      6.684612        44    comics/comic book   \n",
       "187682      US  successful      8.411833        20    comics/comic book   \n",
       "187748      GB  successful      8.288293        17    comics/comic book   \n",
       "187750      GB  successful      7.978138        19    comics/comic book   \n",
       "187807      US  successful      7.313220        41  games/tabletop game   \n",
       "\n",
       "        delta_dead_laun  \n",
       "8                 720.0  \n",
       "24                720.0  \n",
       "76                600.0  \n",
       "98                360.0  \n",
       "100              1080.0  \n",
       "...                 ...  \n",
       "187667            720.0  \n",
       "187682            744.0  \n",
       "187748            624.0  \n",
       "187750            755.0  \n",
       "187807            342.0  \n",
       "\n",
       "[16048 rows x 6 columns]"
      ]
     },
     "execution_count": 43,
     "metadata": {},
     "output_type": "execute_result"
    }
   ],
   "source": [
    "df2"
   ]
  },
  {
   "cell_type": "code",
   "execution_count": 50,
   "metadata": {},
   "outputs": [
    {
     "data": {
      "text/html": [
       "<div>\n",
       "<style scoped>\n",
       "    .dataframe tbody tr th:only-of-type {\n",
       "        vertical-align: middle;\n",
       "    }\n",
       "\n",
       "    .dataframe tbody tr th {\n",
       "        vertical-align: top;\n",
       "    }\n",
       "\n",
       "    .dataframe thead th {\n",
       "        text-align: right;\n",
       "    }\n",
       "</style>\n",
       "<table border=\"1\" class=\"dataframe\">\n",
       "  <thead>\n",
       "    <tr style=\"text-align: right;\">\n",
       "      <th></th>\n",
       "      <th>country</th>\n",
       "      <th>state</th>\n",
       "      <th>goal_usd_log</th>\n",
       "      <th>name_len</th>\n",
       "      <th>delta_dead_laun</th>\n",
       "    </tr>\n",
       "    <tr>\n",
       "      <th>category</th>\n",
       "      <th></th>\n",
       "      <th></th>\n",
       "      <th></th>\n",
       "      <th></th>\n",
       "      <th></th>\n",
       "    </tr>\n",
       "  </thead>\n",
       "  <tbody>\n",
       "    <tr>\n",
       "      <th>comics/comic book</th>\n",
       "      <td>3127</td>\n",
       "      <td>3127</td>\n",
       "      <td>3127</td>\n",
       "      <td>3127</td>\n",
       "      <td>3127</td>\n",
       "    </tr>\n",
       "    <tr>\n",
       "      <th>design/product design</th>\n",
       "      <td>3670</td>\n",
       "      <td>3670</td>\n",
       "      <td>3670</td>\n",
       "      <td>3670</td>\n",
       "      <td>3670</td>\n",
       "    </tr>\n",
       "    <tr>\n",
       "      <th>fashion/accessorie</th>\n",
       "      <td>3262</td>\n",
       "      <td>3262</td>\n",
       "      <td>3262</td>\n",
       "      <td>3262</td>\n",
       "      <td>3262</td>\n",
       "    </tr>\n",
       "    <tr>\n",
       "      <th>games/tabletop game</th>\n",
       "      <td>3214</td>\n",
       "      <td>3214</td>\n",
       "      <td>3214</td>\n",
       "      <td>3214</td>\n",
       "      <td>3214</td>\n",
       "    </tr>\n",
       "    <tr>\n",
       "      <th>technology/gadget</th>\n",
       "      <td>2775</td>\n",
       "      <td>2775</td>\n",
       "      <td>2775</td>\n",
       "      <td>2775</td>\n",
       "      <td>2775</td>\n",
       "    </tr>\n",
       "  </tbody>\n",
       "</table>\n",
       "</div>"
      ],
      "text/plain": [
       "                       country  state  goal_usd_log  name_len  delta_dead_laun\n",
       "category                                                                      \n",
       "comics/comic book         3127   3127          3127      3127             3127\n",
       "design/product design     3670   3670          3670      3670             3670\n",
       "fashion/accessorie        3262   3262          3262      3262             3262\n",
       "games/tabletop game       3214   3214          3214      3214             3214\n",
       "technology/gadget         2775   2775          2775      2775             2775"
      ]
     },
     "execution_count": 50,
     "metadata": {},
     "output_type": "execute_result"
    }
   ],
   "source": [
    "df2.groupby('category').count()"
   ]
  },
  {
   "cell_type": "code",
   "execution_count": 56,
   "metadata": {},
   "outputs": [
    {
     "data": {
      "text/plain": [
       "<AxesSubplot:xlabel='category', ylabel='Count'>"
      ]
     },
     "execution_count": 56,
     "metadata": {},
     "output_type": "execute_result"
    },
    {
     "data": {
      "image/png": "[encoded data removed]",
      "text/plain": [
       "<Figure size 1008x576 with 1 Axes>"
      ]
     },
     "metadata": {
      "needs_background": "light"
     },
     "output_type": "display_data"
    }
   ],
   "source": [
    "plt.figure(figsize=(14, 8))\n",
    "sns.histplot(data=df2, x='category', hue='state', multiple=\"dodge\")"
   ]
  },
  {
   "cell_type": "code",
   "execution_count": null,
   "metadata": {},
   "outputs": [],
   "source": []
  }
 ],
 "metadata": {
  "interpreter": {
   "hash": "14f51d1694797e5da3502a145014201e62f9849463032f26557bd12a95b9aa43"
  },
  "kernelspec": {
   "display_name": "Python 3.9.4 64-bit ('.venv': venv)",
   "name": "python3"
  },
  "language_info": {
   "codemirror_mode": {
    "name": "ipython",
    "version": 3
   },
   "file_extension": ".py",
   "mimetype": "text/x-python",
   "name": "python",
   "nbconvert_exporter": "python",
   "pygments_lexer": "ipython3",
   "version": "3.9.4"
  },
  "orig_nbformat": 4
 },
 "nbformat": 4,
 "nbformat_minor": 2
}
