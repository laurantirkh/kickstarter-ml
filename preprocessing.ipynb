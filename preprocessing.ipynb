{
 "cells": [
  {
   "cell_type": "markdown",
   "metadata": {},
   "source": [
    "# Preprocessing"
   ]
  },
  {
   "cell_type": "markdown",
   "metadata": {},
   "source": [
    "* the value of our product\n",
    "\n",
    "Our product helps potential kickstarter creators assess whether their project will get funding.\n",
    "It supports them in finding out if it's worth investing the time and money to launch their project and which criteria to consider in order to make it successful.\n",
    "\n",
    "* what will you predict, based on what, and evaluation metric used\n",
    "\n",
    "We will predict whether a project will be successfully funded on Kickstarter.\n",
    "Our model will be based on features like the funding goal, the currency the goal is in and the category of the project.\n",
    "We will use the F1-score as the evaluation metric in order to get a good balance between precision and recall.\n",
    "Both false positives (predicting that a project will be funded and the creator investing time and money to fail in the end) and false negatives (predicting that a project will be unsuccessful and preventing the creators from realizing their idea) are equally undesirable in this context.\n",
    "\n",
    "* short description of baseline, and the score (based on eval metric)\n",
    "\n",
    "Our baseline model is a dummy classifier predicting the most frequent class (in this case success).\n",
    "It reaches an F1-score (our metric of interest) of 76% and an accuracy of 61%.\n",
    "\n",
    "---"
   ]
  },
  {
   "cell_type": "markdown",
   "metadata": {},
   "source": [
    "First step: Run the combin_csv.py script on a data folder containing ONLY the kickstarter000 to kickstarter055 csv-files! This gives you the dataset to import for this notebook."
   ]
  },
  {
   "cell_type": "code",
   "execution_count": 28,
   "metadata": {},
   "outputs": [],
   "source": [
    "import pandas as pd\n",
    "import numpy as np\n",
    "import seaborn as sns\n",
    "import datetime\n",
    "import matplotlib.pyplot as plt\n",
    "%matplotlib inline\n",
    "\n",
    "from sklearn.metrics import classification_report, confusion_matrix"
   ]
  },
  {
   "cell_type": "code",
   "execution_count": 29,
   "metadata": {},
   "outputs": [
    {
     "name": "stdout",
     "output_type": "stream",
     "text": [
      "<class 'pandas.core.frame.DataFrame'>\n",
      "RangeIndex: 209222 entries, 0 to 209221\n",
      "Data columns (total 37 columns):\n",
      " #   Column                    Non-Null Count   Dtype  \n",
      "---  ------                    --------------   -----  \n",
      " 0   backers_count             209222 non-null  int64  \n",
      " 1   blurb                     209214 non-null  object \n",
      " 2   category                  209222 non-null  object \n",
      " 3   converted_pledged_amount  209222 non-null  int64  \n",
      " 4   country                   209222 non-null  object \n",
      " 5   created_at                209222 non-null  int64  \n",
      " 6   creator                   209222 non-null  object \n",
      " 7   currency                  209222 non-null  object \n",
      " 8   currency_symbol           209222 non-null  object \n",
      " 9   currency_trailing_code    209222 non-null  bool   \n",
      " 10  current_currency          209222 non-null  object \n",
      " 11  deadline                  209222 non-null  int64  \n",
      " 12  disable_communication     209222 non-null  bool   \n",
      " 13  friends                   300 non-null     object \n",
      " 14  fx_rate                   209222 non-null  float64\n",
      " 15  goal                      209222 non-null  float64\n",
      " 16  id                        209222 non-null  int64  \n",
      " 17  is_backing                300 non-null     object \n",
      " 18  is_starrable              209222 non-null  bool   \n",
      " 19  is_starred                300 non-null     object \n",
      " 20  launched_at               209222 non-null  int64  \n",
      " 21  location                  208996 non-null  object \n",
      " 22  name                      209222 non-null  object \n",
      " 23  permissions               300 non-null     object \n",
      " 24  photo                     209222 non-null  object \n",
      " 25  pledged                   209222 non-null  float64\n",
      " 26  profile                   209222 non-null  object \n",
      " 27  slug                      209222 non-null  object \n",
      " 28  source_url                209222 non-null  object \n",
      " 29  spotlight                 209222 non-null  bool   \n",
      " 30  staff_pick                209222 non-null  bool   \n",
      " 31  state                     209222 non-null  object \n",
      " 32  state_changed_at          209222 non-null  int64  \n",
      " 33  static_usd_rate           209222 non-null  float64\n",
      " 34  urls                      209222 non-null  object \n",
      " 35  usd_pledged               209222 non-null  float64\n",
      " 36  usd_type                  208742 non-null  object \n",
      "dtypes: bool(5), float64(5), int64(7), object(20)\n",
      "memory usage: 52.1+ MB\n"
     ]
    }
   ],
   "source": [
    "# load the combined dataset\n",
    "df = pd.read_csv(\"data/combined_csv.csv\")\n",
    "\n",
    "# check the dataframe\n",
    "df.info()"
   ]
  },
  {
   "cell_type": "markdown",
   "metadata": {},
   "source": [
    "## list of features we keep\n",
    "\n",
    " -  blurb                     short description \n",
    " -  category                  Kickstarter categories  \n",
    " -  country                   country \n",
    " -  deadline                  deadline date/time?\n",
    " -  fx_rate                   currency conversion rate \n",
    " -  goal                      fixed amount required for funding (convert with fx_rate)\n",
    " -  launched_at               launch date/time?  \n",
    " -  location                  location\n",
    " -  name                      project name \n",
    " -  state                     !!!!!target!!!!! \n",
    "\n",
    " <br>\n",
    "\n",
    "features to create:\n",
    "- goal_usd                    goal*fx_rate\n",
    "- name_len                    number of characters in name\n",
    "- blurb_len                   number of characters in blurb\n",
    "- time_online                 deadline - launched at\n",
    "- launch_weekday              day of the week of the launch\n",
    "- launch_time                 time of day of the launch"
   ]
  },
  {
   "cell_type": "markdown",
   "metadata": {},
   "source": [
    "## stakeholder\n",
    "\n",
    "* who? - people/creators who are considering launching a project on Kickstarter\n",
    "* why? - to find out if it's worth investing the time/money in creating materials/launching a project and which criteria to consider in order to make it successful\n",
    "* metric? - f_beta (probably imbalanced data)\n",
    "* model: classifier (binary)"
   ]
  },
  {
   "cell_type": "code",
   "execution_count": 30,
   "metadata": {},
   "outputs": [
    {
     "name": "stdout",
     "output_type": "stream",
     "text": [
      "<class 'pandas.core.frame.DataFrame'>\n",
      "RangeIndex: 209222 entries, 0 to 209221\n",
      "Data columns (total 10 columns):\n",
      " #   Column       Non-Null Count   Dtype  \n",
      "---  ------       --------------   -----  \n",
      " 0   blurb        209214 non-null  object \n",
      " 1   category     209222 non-null  object \n",
      " 2   country      209222 non-null  object \n",
      " 3   deadline     209222 non-null  int64  \n",
      " 4   fx_rate      209222 non-null  float64\n",
      " 5   goal         209222 non-null  float64\n",
      " 6   launched_at  209222 non-null  int64  \n",
      " 7   location     208996 non-null  object \n",
      " 8   name         209222 non-null  object \n",
      " 9   state        209222 non-null  object \n",
      "dtypes: float64(2), int64(2), object(6)\n",
      "memory usage: 16.0+ MB\n"
     ]
    }
   ],
   "source": [
    "# keep only columns we will be using\n",
    "\n",
    "df = df[['blurb', 'category', 'country', 'deadline',\n",
    "        'fx_rate', 'goal', 'launched_at', 'location',\n",
    "       'name', 'state']]\n",
    "\n",
    "df.info()"
   ]
  },
  {
   "cell_type": "markdown",
   "metadata": {},
   "source": [
    "## Create the new features"
   ]
  },
  {
   "cell_type": "markdown",
   "metadata": {},
   "source": [
    "### Convert timestamps & add time delta features"
   ]
  },
  {
   "cell_type": "code",
   "execution_count": 31,
   "metadata": {},
   "outputs": [],
   "source": [
    "launched = []\n",
    "deadline = []"
   ]
  },
  {
   "cell_type": "code",
   "execution_count": 32,
   "metadata": {},
   "outputs": [],
   "source": [
    "# launched_at\n",
    "for label, content in df['launched_at'].iteritems():\n",
    "    launched.append(datetime.datetime.fromtimestamp(content))"
   ]
  },
  {
   "cell_type": "code",
   "execution_count": 33,
   "metadata": {},
   "outputs": [],
   "source": [
    "# deadline\n",
    "for label, content in df['deadline'].iteritems():\n",
    "    deadline.append(datetime.datetime.fromtimestamp(content))"
   ]
  },
  {
   "cell_type": "code",
   "execution_count": 34,
   "metadata": {},
   "outputs": [],
   "source": [
    "for i in range(len(df)):\n",
    "    df['launched_at'].iloc[[i]] = launched[i]"
   ]
  },
  {
   "cell_type": "code",
   "execution_count": 35,
   "metadata": {},
   "outputs": [],
   "source": [
    "for i in range(len(df)):\n",
    "    df['deadline'].iloc[[i]] = deadline[i]"
   ]
  },
  {
   "cell_type": "code",
   "execution_count": 36,
   "metadata": {},
   "outputs": [],
   "source": [
    "df['delta_dead_laun'] = (df['deadline'] - df['launched_at']).astype('timedelta64[h]')"
   ]
  },
  {
   "cell_type": "code",
   "execution_count": 37,
   "metadata": {},
   "outputs": [
    {
     "name": "stdout",
     "output_type": "stream",
     "text": [
      "<class 'pandas.core.frame.DataFrame'>\n",
      "RangeIndex: 209222 entries, 0 to 209221\n",
      "Data columns (total 11 columns):\n",
      " #   Column           Non-Null Count   Dtype  \n",
      "---  ------           --------------   -----  \n",
      " 0   blurb            209214 non-null  object \n",
      " 1   category         209222 non-null  object \n",
      " 2   country          209222 non-null  object \n",
      " 3   deadline         209222 non-null  object \n",
      " 4   fx_rate          209222 non-null  float64\n",
      " 5   goal             209222 non-null  float64\n",
      " 6   launched_at      209222 non-null  object \n",
      " 7   location         208996 non-null  object \n",
      " 8   name             209222 non-null  object \n",
      " 9   state            209222 non-null  object \n",
      " 10  delta_dead_laun  209222 non-null  float64\n",
      "dtypes: float64(3), object(8)\n",
      "memory usage: 17.6+ MB\n"
     ]
    }
   ],
   "source": [
    "df.info()"
   ]
  },
  {
   "cell_type": "markdown",
   "metadata": {},
   "source": [
    "### change categories to main categories"
   ]
  },
  {
   "cell_type": "code",
   "execution_count": 38,
   "metadata": {},
   "outputs": [],
   "source": [
    "# subset category column \n",
    "cat_df = df.loc[:,['category']]\n",
    "\n",
    "# split category column\n",
    "cat_df[['id','name','slug','position','parent_id','color','urls']] = df['category'].str.split(',',expand=True)"
   ]
  },
  {
   "cell_type": "code",
   "execution_count": 39,
   "metadata": {},
   "outputs": [],
   "source": [
    "# subset column 'slug' as dataframe\n",
    "cat = cat_df.loc[:,['slug']]\n",
    "\n",
    "cat['slug'] = cat['slug'].str.replace(r'\"slug\":', '')\n",
    "cat['slug'] = cat['slug'].str.replace(r'\"', '')\n",
    "cat['slug']\n",
    "\n",
    "# rename 'slug' to 'category'\n",
    "cat.rename(columns={'slug': 'category'}, inplace=True)\n",
    "\n",
    "# drop column 'category' from original dataframe\n",
    "df.drop('category', axis=1, inplace=True)\n",
    "\n",
    "# add new column 'category' to original dataframe\n",
    "df['category'] = cat"
   ]
  },
  {
   "cell_type": "code",
   "execution_count": 40,
   "metadata": {},
   "outputs": [],
   "source": [
    "cats = df['category']"
   ]
  },
  {
   "cell_type": "code",
   "execution_count": 41,
   "metadata": {},
   "outputs": [],
   "source": [
    "cats = cats.str.strip('\"slug')"
   ]
  },
  {
   "cell_type": "code",
   "execution_count": 42,
   "metadata": {},
   "outputs": [],
   "source": [
    "cats = cats.str.strip(':\"')"
   ]
  },
  {
   "cell_type": "code",
   "execution_count": 43,
   "metadata": {},
   "outputs": [
    {
     "data": {
      "text/plain": [
       "0               fashion/footwear\n",
       "1              ames/playing card\n",
       "2                     music/rock\n",
       "3              ames/playing card\n",
       "4          publishing/nonfiction\n",
       "                   ...          \n",
       "209217        ames/tabletop game\n",
       "209218    music/electronic music\n",
       "209219       technology/hardware\n",
       "209220      film & video/festiva\n",
       "209221                journalism\n",
       "Name: category, Length: 209222, dtype: object"
      ]
     },
     "execution_count": 43,
     "metadata": {},
     "output_type": "execute_result"
    }
   ],
   "source": [
    "cats"
   ]
  },
  {
   "cell_type": "code",
   "execution_count": 44,
   "metadata": {},
   "outputs": [],
   "source": [
    "cats = cats.str.split(\"/\").str[0]"
   ]
  },
  {
   "cell_type": "code",
   "execution_count": 45,
   "metadata": {},
   "outputs": [
    {
     "data": {
      "text/plain": [
       "array(['fashion', 'ames', 'music', 'publishing', 'theater', 'food', 'art',\n",
       "       'photography', 'technology', 'dance', 'design', 'film & video',\n",
       "       'crafts', 'comics', 'comic', 'craft', 'journalism', 'publishin',\n",
       "       'ame'], dtype=object)"
      ]
     },
     "execution_count": 45,
     "metadata": {},
     "output_type": "execute_result"
    }
   ],
   "source": [
    "cats.unique()"
   ]
  },
  {
   "cell_type": "code",
   "execution_count": 46,
   "metadata": {},
   "outputs": [
    {
     "data": {
      "text/plain": [
       "array(['fashion', 'ames', 'music', 'publishing', 'theater', 'food', 'art',\n",
       "       'photography', 'technology', 'dance', 'design', 'film & video',\n",
       "       'crafts', 'comics', 'comic', 'craft', 'journalism', 'publishin',\n",
       "       'ame'], dtype=object)"
      ]
     },
     "execution_count": 46,
     "metadata": {},
     "output_type": "execute_result"
    }
   ],
   "source": [
    "# add new categories to dataframe\n",
    "\n",
    "df['category'] = cats\n",
    "df['category'].unique()"
   ]
  },
  {
   "cell_type": "markdown",
   "metadata": {},
   "source": [
    "### Include weekday and hour of launch"
   ]
  },
  {
   "cell_type": "code",
   "execution_count": 47,
   "metadata": {},
   "outputs": [],
   "source": [
    "launched_day = pd.to_datetime(df['launched_at']).dt.day_of_week"
   ]
  },
  {
   "cell_type": "code",
   "execution_count": 48,
   "metadata": {},
   "outputs": [],
   "source": [
    "launched_hour = pd.to_datetime(df['launched_at']).dt.hour"
   ]
  },
  {
   "cell_type": "code",
   "execution_count": 49,
   "metadata": {},
   "outputs": [
    {
     "name": "stdout",
     "output_type": "stream",
     "text": [
      "<class 'pandas.core.frame.DataFrame'>\n",
      "RangeIndex: 209222 entries, 0 to 209221\n",
      "Data columns (total 13 columns):\n",
      " #   Column           Non-Null Count   Dtype  \n",
      "---  ------           --------------   -----  \n",
      " 0   blurb            209214 non-null  object \n",
      " 1   country          209222 non-null  object \n",
      " 2   deadline         209222 non-null  object \n",
      " 3   fx_rate          209222 non-null  float64\n",
      " 4   goal             209222 non-null  float64\n",
      " 5   launched_at      209222 non-null  object \n",
      " 6   location         208996 non-null  object \n",
      " 7   name             209222 non-null  object \n",
      " 8   state            209222 non-null  object \n",
      " 9   delta_dead_laun  209222 non-null  float64\n",
      " 10  category         209222 non-null  object \n",
      " 11  launch_day       209222 non-null  int64  \n",
      " 12  launch_hour      209222 non-null  int64  \n",
      "dtypes: float64(3), int64(2), object(8)\n",
      "memory usage: 20.8+ MB\n"
     ]
    },
    {
     "data": {
      "text/html": [
       "<div>\n",
       "<style scoped>\n",
       "    .dataframe tbody tr th:only-of-type {\n",
       "        vertical-align: middle;\n",
       "    }\n",
       "\n",
       "    .dataframe tbody tr th {\n",
       "        vertical-align: top;\n",
       "    }\n",
       "\n",
       "    .dataframe thead th {\n",
       "        text-align: right;\n",
       "    }\n",
       "</style>\n",
       "<table border=\"1\" class=\"dataframe\">\n",
       "  <thead>\n",
       "    <tr style=\"text-align: right;\">\n",
       "      <th></th>\n",
       "      <th>blurb</th>\n",
       "      <th>country</th>\n",
       "      <th>deadline</th>\n",
       "      <th>fx_rate</th>\n",
       "      <th>goal</th>\n",
       "      <th>launched_at</th>\n",
       "      <th>location</th>\n",
       "      <th>name</th>\n",
       "      <th>state</th>\n",
       "      <th>delta_dead_laun</th>\n",
       "      <th>category</th>\n",
       "      <th>launch_day</th>\n",
       "      <th>launch_hour</th>\n",
       "    </tr>\n",
       "  </thead>\n",
       "  <tbody>\n",
       "    <tr>\n",
       "      <th>0</th>\n",
       "      <td>Babalus Shoes</td>\n",
       "      <td>US</td>\n",
       "      <td>2019-03-14 06:02:55</td>\n",
       "      <td>1.000000</td>\n",
       "      <td>28000.0</td>\n",
       "      <td>2019-01-23 07:02:55</td>\n",
       "      <td>{\"id\":2462429,\"name\":\"Novato\",\"slug\":\"novato-c...</td>\n",
       "      <td>Babalus Children's Shoes</td>\n",
       "      <td>live</td>\n",
       "      <td>1199.0</td>\n",
       "      <td>fashion</td>\n",
       "      <td>2</td>\n",
       "      <td>7</td>\n",
       "    </tr>\n",
       "    <tr>\n",
       "      <th>1</th>\n",
       "      <td>A colorful Dia de los Muertos themed oracle de...</td>\n",
       "      <td>US</td>\n",
       "      <td>2017-09-09 19:00:59</td>\n",
       "      <td>1.000000</td>\n",
       "      <td>1000.0</td>\n",
       "      <td>2017-08-10 19:00:59</td>\n",
       "      <td>{\"id\":2400549,\"name\":\"Euless\",\"slug\":\"euless-t...</td>\n",
       "      <td>The Ofrenda Oracle Deck</td>\n",
       "      <td>successful</td>\n",
       "      <td>720.0</td>\n",
       "      <td>ames</td>\n",
       "      <td>3</td>\n",
       "      <td>19</td>\n",
       "    </tr>\n",
       "    <tr>\n",
       "      <th>2</th>\n",
       "      <td>Electra's long awaited, eclectic Debut Pop/Roc...</td>\n",
       "      <td>US</td>\n",
       "      <td>2013-06-12 07:03:15</td>\n",
       "      <td>1.000000</td>\n",
       "      <td>15000.0</td>\n",
       "      <td>2013-05-13 07:03:15</td>\n",
       "      <td>{\"id\":2423474,\"name\":\"Hollywood\",\"slug\":\"holly...</td>\n",
       "      <td>Record Electra's Debut Album (Pop, Rock, Class...</td>\n",
       "      <td>successful</td>\n",
       "      <td>720.0</td>\n",
       "      <td>music</td>\n",
       "      <td>0</td>\n",
       "      <td>7</td>\n",
       "    </tr>\n",
       "    <tr>\n",
       "      <th>3</th>\n",
       "      <td>The Mist of Tribunal is a turn-based card game...</td>\n",
       "      <td>GB</td>\n",
       "      <td>2017-03-13 18:22:56</td>\n",
       "      <td>1.308394</td>\n",
       "      <td>10000.0</td>\n",
       "      <td>2017-01-12 19:22:56</td>\n",
       "      <td>{\"id\":475457,\"name\":\"Kaunas\",\"slug\":\"kaunas-ka...</td>\n",
       "      <td>The Mist of Tribunal - A Card Game</td>\n",
       "      <td>failed</td>\n",
       "      <td>1439.0</td>\n",
       "      <td>ames</td>\n",
       "      <td>3</td>\n",
       "      <td>19</td>\n",
       "    </tr>\n",
       "    <tr>\n",
       "      <th>4</th>\n",
       "      <td>Livng with a brain impairment, what its like t...</td>\n",
       "      <td>US</td>\n",
       "      <td>2013-01-09 21:32:07</td>\n",
       "      <td>1.000000</td>\n",
       "      <td>2800.0</td>\n",
       "      <td>2012-12-10 21:32:07</td>\n",
       "      <td>{\"id\":2507703,\"name\":\"Traverse City\",\"slug\":\"t...</td>\n",
       "      <td>Help change the face of Brain Impairment</td>\n",
       "      <td>successful</td>\n",
       "      <td>720.0</td>\n",
       "      <td>publishing</td>\n",
       "      <td>0</td>\n",
       "      <td>21</td>\n",
       "    </tr>\n",
       "  </tbody>\n",
       "</table>\n",
       "</div>"
      ],
      "text/plain": [
       "                                               blurb country  \\\n",
       "0                                      Babalus Shoes      US   \n",
       "1  A colorful Dia de los Muertos themed oracle de...      US   \n",
       "2  Electra's long awaited, eclectic Debut Pop/Roc...      US   \n",
       "3  The Mist of Tribunal is a turn-based card game...      GB   \n",
       "4  Livng with a brain impairment, what its like t...      US   \n",
       "\n",
       "              deadline   fx_rate     goal          launched_at  \\\n",
       "0  2019-03-14 06:02:55  1.000000  28000.0  2019-01-23 07:02:55   \n",
       "1  2017-09-09 19:00:59  1.000000   1000.0  2017-08-10 19:00:59   \n",
       "2  2013-06-12 07:03:15  1.000000  15000.0  2013-05-13 07:03:15   \n",
       "3  2017-03-13 18:22:56  1.308394  10000.0  2017-01-12 19:22:56   \n",
       "4  2013-01-09 21:32:07  1.000000   2800.0  2012-12-10 21:32:07   \n",
       "\n",
       "                                            location  \\\n",
       "0  {\"id\":2462429,\"name\":\"Novato\",\"slug\":\"novato-c...   \n",
       "1  {\"id\":2400549,\"name\":\"Euless\",\"slug\":\"euless-t...   \n",
       "2  {\"id\":2423474,\"name\":\"Hollywood\",\"slug\":\"holly...   \n",
       "3  {\"id\":475457,\"name\":\"Kaunas\",\"slug\":\"kaunas-ka...   \n",
       "4  {\"id\":2507703,\"name\":\"Traverse City\",\"slug\":\"t...   \n",
       "\n",
       "                                                name       state  \\\n",
       "0                           Babalus Children's Shoes        live   \n",
       "1                            The Ofrenda Oracle Deck  successful   \n",
       "2  Record Electra's Debut Album (Pop, Rock, Class...  successful   \n",
       "3                 The Mist of Tribunal - A Card Game      failed   \n",
       "4           Help change the face of Brain Impairment  successful   \n",
       "\n",
       "   delta_dead_laun    category  launch_day  launch_hour  \n",
       "0           1199.0     fashion           2            7  \n",
       "1            720.0        ames           3           19  \n",
       "2            720.0       music           0            7  \n",
       "3           1439.0        ames           3           19  \n",
       "4            720.0  publishing           0           21  "
      ]
     },
     "execution_count": 49,
     "metadata": {},
     "output_type": "execute_result"
    }
   ],
   "source": [
    "df['launch_day'] = launched_day\n",
    "df['launch_hour'] = launched_hour\n",
    "df.info()\n",
    "df.head()"
   ]
  },
  {
   "cell_type": "markdown",
   "metadata": {},
   "source": [
    "### blurb length and name length"
   ]
  },
  {
   "cell_type": "code",
   "execution_count": 50,
   "metadata": {},
   "outputs": [
    {
     "name": "stdout",
     "output_type": "stream",
     "text": [
      "<class 'pandas.core.frame.DataFrame'>\n",
      "RangeIndex: 209222 entries, 0 to 209221\n",
      "Data columns (total 13 columns):\n",
      " #   Column           Non-Null Count   Dtype  \n",
      "---  ------           --------------   -----  \n",
      " 0   blurb            209214 non-null  object \n",
      " 1   country          209222 non-null  object \n",
      " 2   deadline         209222 non-null  object \n",
      " 3   fx_rate          209222 non-null  float64\n",
      " 4   goal             209222 non-null  float64\n",
      " 5   launched_at      209222 non-null  object \n",
      " 6   location         208996 non-null  object \n",
      " 7   name             209222 non-null  object \n",
      " 8   state            209222 non-null  object \n",
      " 9   delta_dead_laun  209222 non-null  float64\n",
      " 10  category         209222 non-null  object \n",
      " 11  launch_day       209222 non-null  int64  \n",
      " 12  launch_hour      209222 non-null  int64  \n",
      "dtypes: float64(3), int64(2), object(8)\n",
      "memory usage: 20.8+ MB\n"
     ]
    }
   ],
   "source": [
    "df.info()"
   ]
  },
  {
   "cell_type": "code",
   "execution_count": 51,
   "metadata": {},
   "outputs": [],
   "source": [
    "# drop missing values for blurb\n",
    "df = df[df['blurb'].notnull()]"
   ]
  },
  {
   "cell_type": "code",
   "execution_count": 52,
   "metadata": {},
   "outputs": [],
   "source": [
    "# calculate length of name\n",
    "name_len = []\n",
    "for label, content in df['name'].iteritems():\n",
    "    name_len.append(len(content))\n",
    "\n",
    "df['name_len'] = name_len\n",
    "\n",
    "\n",
    "# calculate length of blurb\n",
    "blurb_len = []\n",
    "for label, content in df['blurb'].iteritems():\n",
    "    blurb_len.append(len(content))\n",
    "\n",
    "df['blurb_len'] = blurb_len"
   ]
  },
  {
   "cell_type": "code",
   "execution_count": 55,
   "metadata": {},
   "outputs": [
    {
     "data": {
      "text/html": [
       "<div>\n",
       "<style scoped>\n",
       "    .dataframe tbody tr th:only-of-type {\n",
       "        vertical-align: middle;\n",
       "    }\n",
       "\n",
       "    .dataframe tbody tr th {\n",
       "        vertical-align: top;\n",
       "    }\n",
       "\n",
       "    .dataframe thead th {\n",
       "        text-align: right;\n",
       "    }\n",
       "</style>\n",
       "<table border=\"1\" class=\"dataframe\">\n",
       "  <thead>\n",
       "    <tr style=\"text-align: right;\">\n",
       "      <th></th>\n",
       "      <th>blurb</th>\n",
       "      <th>country</th>\n",
       "      <th>deadline</th>\n",
       "      <th>fx_rate</th>\n",
       "      <th>goal</th>\n",
       "      <th>launched_at</th>\n",
       "      <th>location</th>\n",
       "      <th>name</th>\n",
       "      <th>state</th>\n",
       "      <th>delta_dead_laun</th>\n",
       "      <th>category</th>\n",
       "      <th>launch_day</th>\n",
       "      <th>launch_hour</th>\n",
       "      <th>name_len</th>\n",
       "      <th>blurb_len</th>\n",
       "    </tr>\n",
       "  </thead>\n",
       "  <tbody>\n",
       "    <tr>\n",
       "      <th>1</th>\n",
       "      <td>A colorful Dia de los Muertos themed oracle de...</td>\n",
       "      <td>US</td>\n",
       "      <td>2017-09-09 19:00:59</td>\n",
       "      <td>1.000000</td>\n",
       "      <td>1000.0</td>\n",
       "      <td>2017-08-10 19:00:59</td>\n",
       "      <td>{\"id\":2400549,\"name\":\"Euless\",\"slug\":\"euless-t...</td>\n",
       "      <td>The Ofrenda Oracle Deck</td>\n",
       "      <td>1</td>\n",
       "      <td>720.0</td>\n",
       "      <td>ames</td>\n",
       "      <td>3</td>\n",
       "      <td>19</td>\n",
       "      <td>23</td>\n",
       "      <td>125</td>\n",
       "    </tr>\n",
       "    <tr>\n",
       "      <th>2</th>\n",
       "      <td>Electra's long awaited, eclectic Debut Pop/Roc...</td>\n",
       "      <td>US</td>\n",
       "      <td>2013-06-12 07:03:15</td>\n",
       "      <td>1.000000</td>\n",
       "      <td>15000.0</td>\n",
       "      <td>2013-05-13 07:03:15</td>\n",
       "      <td>{\"id\":2423474,\"name\":\"Hollywood\",\"slug\":\"holly...</td>\n",
       "      <td>Record Electra's Debut Album (Pop, Rock, Class...</td>\n",
       "      <td>1</td>\n",
       "      <td>720.0</td>\n",
       "      <td>music</td>\n",
       "      <td>0</td>\n",
       "      <td>7</td>\n",
       "      <td>51</td>\n",
       "      <td>108</td>\n",
       "    </tr>\n",
       "    <tr>\n",
       "      <th>3</th>\n",
       "      <td>The Mist of Tribunal is a turn-based card game...</td>\n",
       "      <td>GB</td>\n",
       "      <td>2017-03-13 18:22:56</td>\n",
       "      <td>1.308394</td>\n",
       "      <td>10000.0</td>\n",
       "      <td>2017-01-12 19:22:56</td>\n",
       "      <td>{\"id\":475457,\"name\":\"Kaunas\",\"slug\":\"kaunas-ka...</td>\n",
       "      <td>The Mist of Tribunal - A Card Game</td>\n",
       "      <td>0</td>\n",
       "      <td>1439.0</td>\n",
       "      <td>ames</td>\n",
       "      <td>3</td>\n",
       "      <td>19</td>\n",
       "      <td>34</td>\n",
       "      <td>133</td>\n",
       "    </tr>\n",
       "    <tr>\n",
       "      <th>4</th>\n",
       "      <td>Livng with a brain impairment, what its like t...</td>\n",
       "      <td>US</td>\n",
       "      <td>2013-01-09 21:32:07</td>\n",
       "      <td>1.000000</td>\n",
       "      <td>2800.0</td>\n",
       "      <td>2012-12-10 21:32:07</td>\n",
       "      <td>{\"id\":2507703,\"name\":\"Traverse City\",\"slug\":\"t...</td>\n",
       "      <td>Help change the face of Brain Impairment</td>\n",
       "      <td>1</td>\n",
       "      <td>720.0</td>\n",
       "      <td>publishing</td>\n",
       "      <td>0</td>\n",
       "      <td>21</td>\n",
       "      <td>40</td>\n",
       "      <td>121</td>\n",
       "    </tr>\n",
       "    <tr>\n",
       "      <th>5</th>\n",
       "      <td>Annapolis Chamber Players is a non-for profit ...</td>\n",
       "      <td>US</td>\n",
       "      <td>2015-05-02 04:25:46</td>\n",
       "      <td>1.000000</td>\n",
       "      <td>3500.0</td>\n",
       "      <td>2015-04-02 04:25:46</td>\n",
       "      <td>{\"id\":2354877,\"name\":\"Annapolis\",\"slug\":\"annap...</td>\n",
       "      <td>Annapolis Chamber Music Project</td>\n",
       "      <td>1</td>\n",
       "      <td>720.0</td>\n",
       "      <td>music</td>\n",
       "      <td>3</td>\n",
       "      <td>4</td>\n",
       "      <td>31</td>\n",
       "      <td>134</td>\n",
       "    </tr>\n",
       "  </tbody>\n",
       "</table>\n",
       "</div>"
      ],
      "text/plain": [
       "                                               blurb country  \\\n",
       "1  A colorful Dia de los Muertos themed oracle de...      US   \n",
       "2  Electra's long awaited, eclectic Debut Pop/Roc...      US   \n",
       "3  The Mist of Tribunal is a turn-based card game...      GB   \n",
       "4  Livng with a brain impairment, what its like t...      US   \n",
       "5  Annapolis Chamber Players is a non-for profit ...      US   \n",
       "\n",
       "              deadline   fx_rate     goal          launched_at  \\\n",
       "1  2017-09-09 19:00:59  1.000000   1000.0  2017-08-10 19:00:59   \n",
       "2  2013-06-12 07:03:15  1.000000  15000.0  2013-05-13 07:03:15   \n",
       "3  2017-03-13 18:22:56  1.308394  10000.0  2017-01-12 19:22:56   \n",
       "4  2013-01-09 21:32:07  1.000000   2800.0  2012-12-10 21:32:07   \n",
       "5  2015-05-02 04:25:46  1.000000   3500.0  2015-04-02 04:25:46   \n",
       "\n",
       "                                            location  \\\n",
       "1  {\"id\":2400549,\"name\":\"Euless\",\"slug\":\"euless-t...   \n",
       "2  {\"id\":2423474,\"name\":\"Hollywood\",\"slug\":\"holly...   \n",
       "3  {\"id\":475457,\"name\":\"Kaunas\",\"slug\":\"kaunas-ka...   \n",
       "4  {\"id\":2507703,\"name\":\"Traverse City\",\"slug\":\"t...   \n",
       "5  {\"id\":2354877,\"name\":\"Annapolis\",\"slug\":\"annap...   \n",
       "\n",
       "                                                name  state  delta_dead_laun  \\\n",
       "1                            The Ofrenda Oracle Deck      1            720.0   \n",
       "2  Record Electra's Debut Album (Pop, Rock, Class...      1            720.0   \n",
       "3                 The Mist of Tribunal - A Card Game      0           1439.0   \n",
       "4           Help change the face of Brain Impairment      1            720.0   \n",
       "5                    Annapolis Chamber Music Project      1            720.0   \n",
       "\n",
       "     category  launch_day  launch_hour  name_len  blurb_len  \n",
       "1        ames           3           19        23        125  \n",
       "2       music           0            7        51        108  \n",
       "3        ames           3           19        34        133  \n",
       "4  publishing           0           21        40        121  \n",
       "5       music           3            4        31        134  "
      ]
     },
     "execution_count": 55,
     "metadata": {},
     "output_type": "execute_result"
    }
   ],
   "source": [
    "df.head()"
   ]
  },
  {
   "cell_type": "code",
   "execution_count": 56,
   "metadata": {},
   "outputs": [],
   "source": [
    "df['goal_usd'] = df['goal'] * df['fx_rate']"
   ]
  },
  {
   "cell_type": "code",
   "execution_count": 57,
   "metadata": {},
   "outputs": [],
   "source": [
    "df = df.query('goal_usd >= 100 or goal_usd <= 1000000')"
   ]
  },
  {
   "cell_type": "code",
   "execution_count": 58,
   "metadata": {},
   "outputs": [
    {
     "data": {
      "text/html": [
       "<div>\n",
       "<style scoped>\n",
       "    .dataframe tbody tr th:only-of-type {\n",
       "        vertical-align: middle;\n",
       "    }\n",
       "\n",
       "    .dataframe tbody tr th {\n",
       "        vertical-align: top;\n",
       "    }\n",
       "\n",
       "    .dataframe thead th {\n",
       "        text-align: right;\n",
       "    }\n",
       "</style>\n",
       "<table border=\"1\" class=\"dataframe\">\n",
       "  <thead>\n",
       "    <tr style=\"text-align: right;\">\n",
       "      <th></th>\n",
       "      <th>blurb</th>\n",
       "      <th>country</th>\n",
       "      <th>deadline</th>\n",
       "      <th>fx_rate</th>\n",
       "      <th>goal</th>\n",
       "      <th>launched_at</th>\n",
       "      <th>location</th>\n",
       "      <th>name</th>\n",
       "      <th>state</th>\n",
       "      <th>delta_dead_laun</th>\n",
       "      <th>category</th>\n",
       "      <th>launch_day</th>\n",
       "      <th>launch_hour</th>\n",
       "      <th>name_len</th>\n",
       "      <th>blurb_len</th>\n",
       "      <th>goal_usd</th>\n",
       "    </tr>\n",
       "  </thead>\n",
       "  <tbody>\n",
       "    <tr>\n",
       "      <th>1</th>\n",
       "      <td>A colorful Dia de los Muertos themed oracle de...</td>\n",
       "      <td>US</td>\n",
       "      <td>2017-09-09 19:00:59</td>\n",
       "      <td>1.000000</td>\n",
       "      <td>1000.0</td>\n",
       "      <td>2017-08-10 19:00:59</td>\n",
       "      <td>{\"id\":2400549,\"name\":\"Euless\",\"slug\":\"euless-t...</td>\n",
       "      <td>The Ofrenda Oracle Deck</td>\n",
       "      <td>1</td>\n",
       "      <td>720.0</td>\n",
       "      <td>ames</td>\n",
       "      <td>3</td>\n",
       "      <td>19</td>\n",
       "      <td>23</td>\n",
       "      <td>125</td>\n",
       "      <td>1000.0000</td>\n",
       "    </tr>\n",
       "    <tr>\n",
       "      <th>2</th>\n",
       "      <td>Electra's long awaited, eclectic Debut Pop/Roc...</td>\n",
       "      <td>US</td>\n",
       "      <td>2013-06-12 07:03:15</td>\n",
       "      <td>1.000000</td>\n",
       "      <td>15000.0</td>\n",
       "      <td>2013-05-13 07:03:15</td>\n",
       "      <td>{\"id\":2423474,\"name\":\"Hollywood\",\"slug\":\"holly...</td>\n",
       "      <td>Record Electra's Debut Album (Pop, Rock, Class...</td>\n",
       "      <td>1</td>\n",
       "      <td>720.0</td>\n",
       "      <td>music</td>\n",
       "      <td>0</td>\n",
       "      <td>7</td>\n",
       "      <td>51</td>\n",
       "      <td>108</td>\n",
       "      <td>15000.0000</td>\n",
       "    </tr>\n",
       "    <tr>\n",
       "      <th>3</th>\n",
       "      <td>The Mist of Tribunal is a turn-based card game...</td>\n",
       "      <td>GB</td>\n",
       "      <td>2017-03-13 18:22:56</td>\n",
       "      <td>1.308394</td>\n",
       "      <td>10000.0</td>\n",
       "      <td>2017-01-12 19:22:56</td>\n",
       "      <td>{\"id\":475457,\"name\":\"Kaunas\",\"slug\":\"kaunas-ka...</td>\n",
       "      <td>The Mist of Tribunal - A Card Game</td>\n",
       "      <td>0</td>\n",
       "      <td>1439.0</td>\n",
       "      <td>ames</td>\n",
       "      <td>3</td>\n",
       "      <td>19</td>\n",
       "      <td>34</td>\n",
       "      <td>133</td>\n",
       "      <td>13083.9361</td>\n",
       "    </tr>\n",
       "    <tr>\n",
       "      <th>4</th>\n",
       "      <td>Livng with a brain impairment, what its like t...</td>\n",
       "      <td>US</td>\n",
       "      <td>2013-01-09 21:32:07</td>\n",
       "      <td>1.000000</td>\n",
       "      <td>2800.0</td>\n",
       "      <td>2012-12-10 21:32:07</td>\n",
       "      <td>{\"id\":2507703,\"name\":\"Traverse City\",\"slug\":\"t...</td>\n",
       "      <td>Help change the face of Brain Impairment</td>\n",
       "      <td>1</td>\n",
       "      <td>720.0</td>\n",
       "      <td>publishing</td>\n",
       "      <td>0</td>\n",
       "      <td>21</td>\n",
       "      <td>40</td>\n",
       "      <td>121</td>\n",
       "      <td>2800.0000</td>\n",
       "    </tr>\n",
       "    <tr>\n",
       "      <th>5</th>\n",
       "      <td>Annapolis Chamber Players is a non-for profit ...</td>\n",
       "      <td>US</td>\n",
       "      <td>2015-05-02 04:25:46</td>\n",
       "      <td>1.000000</td>\n",
       "      <td>3500.0</td>\n",
       "      <td>2015-04-02 04:25:46</td>\n",
       "      <td>{\"id\":2354877,\"name\":\"Annapolis\",\"slug\":\"annap...</td>\n",
       "      <td>Annapolis Chamber Music Project</td>\n",
       "      <td>1</td>\n",
       "      <td>720.0</td>\n",
       "      <td>music</td>\n",
       "      <td>3</td>\n",
       "      <td>4</td>\n",
       "      <td>31</td>\n",
       "      <td>134</td>\n",
       "      <td>3500.0000</td>\n",
       "    </tr>\n",
       "  </tbody>\n",
       "</table>\n",
       "</div>"
      ],
      "text/plain": [
       "                                               blurb country  \\\n",
       "1  A colorful Dia de los Muertos themed oracle de...      US   \n",
       "2  Electra's long awaited, eclectic Debut Pop/Roc...      US   \n",
       "3  The Mist of Tribunal is a turn-based card game...      GB   \n",
       "4  Livng with a brain impairment, what its like t...      US   \n",
       "5  Annapolis Chamber Players is a non-for profit ...      US   \n",
       "\n",
       "              deadline   fx_rate     goal          launched_at  \\\n",
       "1  2017-09-09 19:00:59  1.000000   1000.0  2017-08-10 19:00:59   \n",
       "2  2013-06-12 07:03:15  1.000000  15000.0  2013-05-13 07:03:15   \n",
       "3  2017-03-13 18:22:56  1.308394  10000.0  2017-01-12 19:22:56   \n",
       "4  2013-01-09 21:32:07  1.000000   2800.0  2012-12-10 21:32:07   \n",
       "5  2015-05-02 04:25:46  1.000000   3500.0  2015-04-02 04:25:46   \n",
       "\n",
       "                                            location  \\\n",
       "1  {\"id\":2400549,\"name\":\"Euless\",\"slug\":\"euless-t...   \n",
       "2  {\"id\":2423474,\"name\":\"Hollywood\",\"slug\":\"holly...   \n",
       "3  {\"id\":475457,\"name\":\"Kaunas\",\"slug\":\"kaunas-ka...   \n",
       "4  {\"id\":2507703,\"name\":\"Traverse City\",\"slug\":\"t...   \n",
       "5  {\"id\":2354877,\"name\":\"Annapolis\",\"slug\":\"annap...   \n",
       "\n",
       "                                                name  state  delta_dead_laun  \\\n",
       "1                            The Ofrenda Oracle Deck      1            720.0   \n",
       "2  Record Electra's Debut Album (Pop, Rock, Class...      1            720.0   \n",
       "3                 The Mist of Tribunal - A Card Game      0           1439.0   \n",
       "4           Help change the face of Brain Impairment      1            720.0   \n",
       "5                    Annapolis Chamber Music Project      1            720.0   \n",
       "\n",
       "     category  launch_day  launch_hour  name_len  blurb_len    goal_usd  \n",
       "1        ames           3           19        23        125   1000.0000  \n",
       "2       music           0            7        51        108  15000.0000  \n",
       "3        ames           3           19        34        133  13083.9361  \n",
       "4  publishing           0           21        40        121   2800.0000  \n",
       "5       music           3            4        31        134   3500.0000  "
      ]
     },
     "execution_count": 58,
     "metadata": {},
     "output_type": "execute_result"
    }
   ],
   "source": [
    "df.head()"
   ]
  },
  {
   "cell_type": "markdown",
   "metadata": {},
   "source": [
    "## Drop every feature we don't need"
   ]
  },
  {
   "cell_type": "code",
   "execution_count": 59,
   "metadata": {},
   "outputs": [],
   "source": [
    "df.drop(['blurb', 'deadline', 'fx_rate', 'goal', 'launched_at', 'location', 'name'], axis=1, inplace=True)"
   ]
  },
  {
   "cell_type": "code",
   "execution_count": 60,
   "metadata": {},
   "outputs": [
    {
     "data": {
      "text/html": [
       "<div>\n",
       "<style scoped>\n",
       "    .dataframe tbody tr th:only-of-type {\n",
       "        vertical-align: middle;\n",
       "    }\n",
       "\n",
       "    .dataframe tbody tr th {\n",
       "        vertical-align: top;\n",
       "    }\n",
       "\n",
       "    .dataframe thead th {\n",
       "        text-align: right;\n",
       "    }\n",
       "</style>\n",
       "<table border=\"1\" class=\"dataframe\">\n",
       "  <thead>\n",
       "    <tr style=\"text-align: right;\">\n",
       "      <th></th>\n",
       "      <th>country</th>\n",
       "      <th>state</th>\n",
       "      <th>delta_dead_laun</th>\n",
       "      <th>category</th>\n",
       "      <th>launch_day</th>\n",
       "      <th>launch_hour</th>\n",
       "      <th>name_len</th>\n",
       "      <th>blurb_len</th>\n",
       "      <th>goal_usd</th>\n",
       "    </tr>\n",
       "  </thead>\n",
       "  <tbody>\n",
       "    <tr>\n",
       "      <th>1</th>\n",
       "      <td>US</td>\n",
       "      <td>1</td>\n",
       "      <td>720.0</td>\n",
       "      <td>ames</td>\n",
       "      <td>3</td>\n",
       "      <td>19</td>\n",
       "      <td>23</td>\n",
       "      <td>125</td>\n",
       "      <td>1000.0000</td>\n",
       "    </tr>\n",
       "    <tr>\n",
       "      <th>2</th>\n",
       "      <td>US</td>\n",
       "      <td>1</td>\n",
       "      <td>720.0</td>\n",
       "      <td>music</td>\n",
       "      <td>0</td>\n",
       "      <td>7</td>\n",
       "      <td>51</td>\n",
       "      <td>108</td>\n",
       "      <td>15000.0000</td>\n",
       "    </tr>\n",
       "    <tr>\n",
       "      <th>3</th>\n",
       "      <td>GB</td>\n",
       "      <td>0</td>\n",
       "      <td>1439.0</td>\n",
       "      <td>ames</td>\n",
       "      <td>3</td>\n",
       "      <td>19</td>\n",
       "      <td>34</td>\n",
       "      <td>133</td>\n",
       "      <td>13083.9361</td>\n",
       "    </tr>\n",
       "    <tr>\n",
       "      <th>4</th>\n",
       "      <td>US</td>\n",
       "      <td>1</td>\n",
       "      <td>720.0</td>\n",
       "      <td>publishing</td>\n",
       "      <td>0</td>\n",
       "      <td>21</td>\n",
       "      <td>40</td>\n",
       "      <td>121</td>\n",
       "      <td>2800.0000</td>\n",
       "    </tr>\n",
       "    <tr>\n",
       "      <th>5</th>\n",
       "      <td>US</td>\n",
       "      <td>1</td>\n",
       "      <td>720.0</td>\n",
       "      <td>music</td>\n",
       "      <td>3</td>\n",
       "      <td>4</td>\n",
       "      <td>31</td>\n",
       "      <td>134</td>\n",
       "      <td>3500.0000</td>\n",
       "    </tr>\n",
       "  </tbody>\n",
       "</table>\n",
       "</div>"
      ],
      "text/plain": [
       "  country  state  delta_dead_laun    category  launch_day  launch_hour  \\\n",
       "1      US      1            720.0        ames           3           19   \n",
       "2      US      1            720.0       music           0            7   \n",
       "3      GB      0           1439.0        ames           3           19   \n",
       "4      US      1            720.0  publishing           0           21   \n",
       "5      US      1            720.0       music           3            4   \n",
       "\n",
       "   name_len  blurb_len    goal_usd  \n",
       "1        23        125   1000.0000  \n",
       "2        51        108  15000.0000  \n",
       "3        34        133  13083.9361  \n",
       "4        40        121   2800.0000  \n",
       "5        31        134   3500.0000  "
      ]
     },
     "execution_count": 60,
     "metadata": {},
     "output_type": "execute_result"
    }
   ],
   "source": [
    "df.head()"
   ]
  },
  {
   "cell_type": "code",
   "execution_count": 70,
   "metadata": {},
   "outputs": [],
   "source": [
    "cat_backup = df[['category']]"
   ]
  },
  {
   "cell_type": "code",
   "execution_count": 71,
   "metadata": {},
   "outputs": [
    {
     "data": {
      "text/plain": [
       "pandas.core.frame.DataFrame"
      ]
     },
     "execution_count": 71,
     "metadata": {},
     "output_type": "execute_result"
    }
   ],
   "source": [
    "type(cat_backup)"
   ]
  },
  {
   "cell_type": "code",
   "execution_count": 72,
   "metadata": {},
   "outputs": [
    {
     "data": {
      "text/plain": [
       "array(['ames', 'music', 'publishing', 'theater', 'fashion', 'food',\n",
       "       'photography', 'art', 'technology', 'dance', 'design',\n",
       "       'film & video', 'crafts', 'comics', 'comic', 'craft', 'journalism',\n",
       "       'publishin', 'ame'], dtype=object)"
      ]
     },
     "execution_count": 72,
     "metadata": {},
     "output_type": "execute_result"
    }
   ],
   "source": [
    "cat_backup['category'].unique()"
   ]
  },
  {
   "cell_type": "code",
   "execution_count": 73,
   "metadata": {},
   "outputs": [],
   "source": [
    "cat_backup.replace(to_replace={'ames': 'games', 'ame': 'games', 'comic': 'comics', 'publishin': 'publishing'}, inplace=True)"
   ]
  },
  {
   "cell_type": "code",
   "execution_count": 74,
   "metadata": {},
   "outputs": [
    {
     "data": {
      "text/plain": [
       "array(['games', 'music', 'publishing', 'theater', 'fashion', 'food',\n",
       "       'photography', 'art', 'technology', 'dance', 'design',\n",
       "       'film & video', 'crafts', 'comics', 'craft', 'journalism'],\n",
       "      dtype=object)"
      ]
     },
     "execution_count": 74,
     "metadata": {},
     "output_type": "execute_result"
    }
   ],
   "source": [
    "cat_backup['category'].unique()"
   ]
  },
  {
   "cell_type": "code",
   "execution_count": 75,
   "metadata": {},
   "outputs": [],
   "source": [
    "df['category'] = cat_backup['category']"
   ]
  },
  {
   "cell_type": "code",
   "execution_count": 76,
   "metadata": {},
   "outputs": [
    {
     "data": {
      "text/html": [
       "<div>\n",
       "<style scoped>\n",
       "    .dataframe tbody tr th:only-of-type {\n",
       "        vertical-align: middle;\n",
       "    }\n",
       "\n",
       "    .dataframe tbody tr th {\n",
       "        vertical-align: top;\n",
       "    }\n",
       "\n",
       "    .dataframe thead th {\n",
       "        text-align: right;\n",
       "    }\n",
       "</style>\n",
       "<table border=\"1\" class=\"dataframe\">\n",
       "  <thead>\n",
       "    <tr style=\"text-align: right;\">\n",
       "      <th></th>\n",
       "      <th>country</th>\n",
       "      <th>state</th>\n",
       "      <th>delta_dead_laun</th>\n",
       "      <th>category</th>\n",
       "      <th>launch_day</th>\n",
       "      <th>launch_hour</th>\n",
       "      <th>name_len</th>\n",
       "      <th>blurb_len</th>\n",
       "      <th>goal_usd</th>\n",
       "    </tr>\n",
       "  </thead>\n",
       "  <tbody>\n",
       "    <tr>\n",
       "      <th>1</th>\n",
       "      <td>US</td>\n",
       "      <td>1</td>\n",
       "      <td>720.0</td>\n",
       "      <td>games</td>\n",
       "      <td>3</td>\n",
       "      <td>19</td>\n",
       "      <td>23</td>\n",
       "      <td>125</td>\n",
       "      <td>1000.0000</td>\n",
       "    </tr>\n",
       "    <tr>\n",
       "      <th>2</th>\n",
       "      <td>US</td>\n",
       "      <td>1</td>\n",
       "      <td>720.0</td>\n",
       "      <td>music</td>\n",
       "      <td>0</td>\n",
       "      <td>7</td>\n",
       "      <td>51</td>\n",
       "      <td>108</td>\n",
       "      <td>15000.0000</td>\n",
       "    </tr>\n",
       "    <tr>\n",
       "      <th>3</th>\n",
       "      <td>GB</td>\n",
       "      <td>0</td>\n",
       "      <td>1439.0</td>\n",
       "      <td>games</td>\n",
       "      <td>3</td>\n",
       "      <td>19</td>\n",
       "      <td>34</td>\n",
       "      <td>133</td>\n",
       "      <td>13083.9361</td>\n",
       "    </tr>\n",
       "    <tr>\n",
       "      <th>4</th>\n",
       "      <td>US</td>\n",
       "      <td>1</td>\n",
       "      <td>720.0</td>\n",
       "      <td>publishing</td>\n",
       "      <td>0</td>\n",
       "      <td>21</td>\n",
       "      <td>40</td>\n",
       "      <td>121</td>\n",
       "      <td>2800.0000</td>\n",
       "    </tr>\n",
       "    <tr>\n",
       "      <th>5</th>\n",
       "      <td>US</td>\n",
       "      <td>1</td>\n",
       "      <td>720.0</td>\n",
       "      <td>music</td>\n",
       "      <td>3</td>\n",
       "      <td>4</td>\n",
       "      <td>31</td>\n",
       "      <td>134</td>\n",
       "      <td>3500.0000</td>\n",
       "    </tr>\n",
       "  </tbody>\n",
       "</table>\n",
       "</div>"
      ],
      "text/plain": [
       "  country  state  delta_dead_laun    category  launch_day  launch_hour  \\\n",
       "1      US      1            720.0       games           3           19   \n",
       "2      US      1            720.0       music           0            7   \n",
       "3      GB      0           1439.0       games           3           19   \n",
       "4      US      1            720.0  publishing           0           21   \n",
       "5      US      1            720.0       music           3            4   \n",
       "\n",
       "   name_len  blurb_len    goal_usd  \n",
       "1        23        125   1000.0000  \n",
       "2        51        108  15000.0000  \n",
       "3        34        133  13083.9361  \n",
       "4        40        121   2800.0000  \n",
       "5        31        134   3500.0000  "
      ]
     },
     "execution_count": 76,
     "metadata": {},
     "output_type": "execute_result"
    }
   ],
   "source": [
    "df.head()"
   ]
  },
  {
   "cell_type": "markdown",
   "metadata": {},
   "source": [
    "### Include only projects that were successful or failed"
   ]
  },
  {
   "cell_type": "code",
   "execution_count": 53,
   "metadata": {},
   "outputs": [
    {
     "name": "stdout",
     "output_type": "stream",
     "text": [
      "['successful' 'failed']\n",
      "[1 0]\n"
     ]
    }
   ],
   "source": [
    "# convert 'state' to numerical\n",
    "# successful: 1\n",
    "# failed: 0\n",
    "# drop: live, suspended, canceled\n",
    "\n",
    "df = df.query('state != \"live\"')\n",
    "df = df.query('state != \"suspended\"')\n",
    "df = df.query('state != \"canceled\"')\n",
    "print(df['state'].unique()) # check that 'state' only contains failed and successful\n",
    "\n",
    "df['state'].replace({'failed':0, 'successful':1}, inplace=True)\n",
    "print(df['state'].unique()) # check that 'state' only contains 1 and 0"
   ]
  },
  {
   "cell_type": "code",
   "execution_count": 54,
   "metadata": {},
   "outputs": [
    {
     "data": {
      "text/plain": [
       "<AxesSubplot:xlabel='state', ylabel='count'>"
      ]
     },
     "execution_count": 54,
     "metadata": {},
     "output_type": "execute_result"
    },
    {
     "data": {
      "image/png": "[encoded data removed]",
      "text/plain": [
       "<Figure size 432x288 with 1 Axes>"
      ]
     },
     "metadata": {
      "needs_background": "light"
     },
     "output_type": "display_data"
    }
   ],
   "source": [
    "# plot frequency of success and failure\n",
    "\n",
    "sns.countplot(x='state', data=df)"
   ]
  },
  {
   "cell_type": "code",
   "execution_count": 77,
   "metadata": {},
   "outputs": [],
   "source": [
    "## save dataframe\n",
    "df.to_csv( \"data/df_preprocessed.csv\", index=False, encoding='utf-8-sig')"
   ]
  },
  {
   "cell_type": "code",
   "execution_count": 78,
   "metadata": {},
   "outputs": [],
   "source": [
    "# log transform goal_usd\n",
    "df['goal_usd_log'] = np.log(df['goal_usd'])"
   ]
  },
  {
   "cell_type": "code",
   "execution_count": 80,
   "metadata": {},
   "outputs": [],
   "source": [
    "df.drop('goal_usd', axis=1, inplace=True)"
   ]
  },
  {
   "cell_type": "code",
   "execution_count": 81,
   "metadata": {},
   "outputs": [
    {
     "data": {
      "text/html": [
       "<div>\n",
       "<style scoped>\n",
       "    .dataframe tbody tr th:only-of-type {\n",
       "        vertical-align: middle;\n",
       "    }\n",
       "\n",
       "    .dataframe tbody tr th {\n",
       "        vertical-align: top;\n",
       "    }\n",
       "\n",
       "    .dataframe thead th {\n",
       "        text-align: right;\n",
       "    }\n",
       "</style>\n",
       "<table border=\"1\" class=\"dataframe\">\n",
       "  <thead>\n",
       "    <tr style=\"text-align: right;\">\n",
       "      <th></th>\n",
       "      <th>country</th>\n",
       "      <th>state</th>\n",
       "      <th>delta_dead_laun</th>\n",
       "      <th>category</th>\n",
       "      <th>launch_day</th>\n",
       "      <th>launch_hour</th>\n",
       "      <th>name_len</th>\n",
       "      <th>blurb_len</th>\n",
       "      <th>goal_usd_log</th>\n",
       "    </tr>\n",
       "  </thead>\n",
       "  <tbody>\n",
       "    <tr>\n",
       "      <th>1</th>\n",
       "      <td>US</td>\n",
       "      <td>1</td>\n",
       "      <td>720.0</td>\n",
       "      <td>games</td>\n",
       "      <td>3</td>\n",
       "      <td>19</td>\n",
       "      <td>23</td>\n",
       "      <td>125</td>\n",
       "      <td>6.907755</td>\n",
       "    </tr>\n",
       "    <tr>\n",
       "      <th>2</th>\n",
       "      <td>US</td>\n",
       "      <td>1</td>\n",
       "      <td>720.0</td>\n",
       "      <td>music</td>\n",
       "      <td>0</td>\n",
       "      <td>7</td>\n",
       "      <td>51</td>\n",
       "      <td>108</td>\n",
       "      <td>9.615805</td>\n",
       "    </tr>\n",
       "    <tr>\n",
       "      <th>3</th>\n",
       "      <td>GB</td>\n",
       "      <td>0</td>\n",
       "      <td>1439.0</td>\n",
       "      <td>games</td>\n",
       "      <td>3</td>\n",
       "      <td>19</td>\n",
       "      <td>34</td>\n",
       "      <td>133</td>\n",
       "      <td>9.479141</td>\n",
       "    </tr>\n",
       "    <tr>\n",
       "      <th>4</th>\n",
       "      <td>US</td>\n",
       "      <td>1</td>\n",
       "      <td>720.0</td>\n",
       "      <td>publishing</td>\n",
       "      <td>0</td>\n",
       "      <td>21</td>\n",
       "      <td>40</td>\n",
       "      <td>121</td>\n",
       "      <td>7.937375</td>\n",
       "    </tr>\n",
       "    <tr>\n",
       "      <th>5</th>\n",
       "      <td>US</td>\n",
       "      <td>1</td>\n",
       "      <td>720.0</td>\n",
       "      <td>music</td>\n",
       "      <td>3</td>\n",
       "      <td>4</td>\n",
       "      <td>31</td>\n",
       "      <td>134</td>\n",
       "      <td>8.160518</td>\n",
       "    </tr>\n",
       "  </tbody>\n",
       "</table>\n",
       "</div>"
      ],
      "text/plain": [
       "  country  state  delta_dead_laun    category  launch_day  launch_hour  \\\n",
       "1      US      1            720.0       games           3           19   \n",
       "2      US      1            720.0       music           0            7   \n",
       "3      GB      0           1439.0       games           3           19   \n",
       "4      US      1            720.0  publishing           0           21   \n",
       "5      US      1            720.0       music           3            4   \n",
       "\n",
       "   name_len  blurb_len  goal_usd_log  \n",
       "1        23        125      6.907755  \n",
       "2        51        108      9.615805  \n",
       "3        34        133      9.479141  \n",
       "4        40        121      7.937375  \n",
       "5        31        134      8.160518  "
      ]
     },
     "execution_count": 81,
     "metadata": {},
     "output_type": "execute_result"
    }
   ],
   "source": [
    "df.head()"
   ]
  },
  {
   "cell_type": "code",
   "execution_count": 82,
   "metadata": {},
   "outputs": [],
   "source": [
    "## save dataframe\n",
    "df.to_csv( \"data/df_preprocessed_log.csv\", index=False, encoding='utf-8-sig')"
   ]
  },
  {
   "cell_type": "code",
   "execution_count": 83,
   "metadata": {},
   "outputs": [],
   "source": [
    "# get dummies\n",
    "country_cat = pd.get_dummies(df['country'], drop_first=True)\n",
    "cat_cat = pd.get_dummies(df['category'], drop_first=True)"
   ]
  },
  {
   "cell_type": "code",
   "execution_count": 84,
   "metadata": {},
   "outputs": [],
   "source": [
    "df = pd.concat([df, country_cat, cat_cat], axis=1)"
   ]
  },
  {
   "cell_type": "code",
   "execution_count": 85,
   "metadata": {},
   "outputs": [],
   "source": [
    "df.drop(['country', 'category'], axis=1, inplace=True)"
   ]
  },
  {
   "cell_type": "code",
   "execution_count": 86,
   "metadata": {},
   "outputs": [
    {
     "data": {
      "text/html": [
       "<div>\n",
       "<style scoped>\n",
       "    .dataframe tbody tr th:only-of-type {\n",
       "        vertical-align: middle;\n",
       "    }\n",
       "\n",
       "    .dataframe tbody tr th {\n",
       "        vertical-align: top;\n",
       "    }\n",
       "\n",
       "    .dataframe thead th {\n",
       "        text-align: right;\n",
       "    }\n",
       "</style>\n",
       "<table border=\"1\" class=\"dataframe\">\n",
       "  <thead>\n",
       "    <tr style=\"text-align: right;\">\n",
       "      <th></th>\n",
       "      <th>state</th>\n",
       "      <th>delta_dead_laun</th>\n",
       "      <th>launch_day</th>\n",
       "      <th>launch_hour</th>\n",
       "      <th>name_len</th>\n",
       "      <th>blurb_len</th>\n",
       "      <th>goal_usd_log</th>\n",
       "      <th>AU</th>\n",
       "      <th>BE</th>\n",
       "      <th>CA</th>\n",
       "      <th>...</th>\n",
       "      <th>fashion</th>\n",
       "      <th>film &amp; video</th>\n",
       "      <th>food</th>\n",
       "      <th>games</th>\n",
       "      <th>journalism</th>\n",
       "      <th>music</th>\n",
       "      <th>photography</th>\n",
       "      <th>publishing</th>\n",
       "      <th>technology</th>\n",
       "      <th>theater</th>\n",
       "    </tr>\n",
       "  </thead>\n",
       "  <tbody>\n",
       "    <tr>\n",
       "      <th>1</th>\n",
       "      <td>1</td>\n",
       "      <td>720.0</td>\n",
       "      <td>3</td>\n",
       "      <td>19</td>\n",
       "      <td>23</td>\n",
       "      <td>125</td>\n",
       "      <td>6.907755</td>\n",
       "      <td>0</td>\n",
       "      <td>0</td>\n",
       "      <td>0</td>\n",
       "      <td>...</td>\n",
       "      <td>0</td>\n",
       "      <td>0</td>\n",
       "      <td>0</td>\n",
       "      <td>1</td>\n",
       "      <td>0</td>\n",
       "      <td>0</td>\n",
       "      <td>0</td>\n",
       "      <td>0</td>\n",
       "      <td>0</td>\n",
       "      <td>0</td>\n",
       "    </tr>\n",
       "    <tr>\n",
       "      <th>2</th>\n",
       "      <td>1</td>\n",
       "      <td>720.0</td>\n",
       "      <td>0</td>\n",
       "      <td>7</td>\n",
       "      <td>51</td>\n",
       "      <td>108</td>\n",
       "      <td>9.615805</td>\n",
       "      <td>0</td>\n",
       "      <td>0</td>\n",
       "      <td>0</td>\n",
       "      <td>...</td>\n",
       "      <td>0</td>\n",
       "      <td>0</td>\n",
       "      <td>0</td>\n",
       "      <td>0</td>\n",
       "      <td>0</td>\n",
       "      <td>1</td>\n",
       "      <td>0</td>\n",
       "      <td>0</td>\n",
       "      <td>0</td>\n",
       "      <td>0</td>\n",
       "    </tr>\n",
       "    <tr>\n",
       "      <th>3</th>\n",
       "      <td>0</td>\n",
       "      <td>1439.0</td>\n",
       "      <td>3</td>\n",
       "      <td>19</td>\n",
       "      <td>34</td>\n",
       "      <td>133</td>\n",
       "      <td>9.479141</td>\n",
       "      <td>0</td>\n",
       "      <td>0</td>\n",
       "      <td>0</td>\n",
       "      <td>...</td>\n",
       "      <td>0</td>\n",
       "      <td>0</td>\n",
       "      <td>0</td>\n",
       "      <td>1</td>\n",
       "      <td>0</td>\n",
       "      <td>0</td>\n",
       "      <td>0</td>\n",
       "      <td>0</td>\n",
       "      <td>0</td>\n",
       "      <td>0</td>\n",
       "    </tr>\n",
       "    <tr>\n",
       "      <th>4</th>\n",
       "      <td>1</td>\n",
       "      <td>720.0</td>\n",
       "      <td>0</td>\n",
       "      <td>21</td>\n",
       "      <td>40</td>\n",
       "      <td>121</td>\n",
       "      <td>7.937375</td>\n",
       "      <td>0</td>\n",
       "      <td>0</td>\n",
       "      <td>0</td>\n",
       "      <td>...</td>\n",
       "      <td>0</td>\n",
       "      <td>0</td>\n",
       "      <td>0</td>\n",
       "      <td>0</td>\n",
       "      <td>0</td>\n",
       "      <td>0</td>\n",
       "      <td>0</td>\n",
       "      <td>1</td>\n",
       "      <td>0</td>\n",
       "      <td>0</td>\n",
       "    </tr>\n",
       "    <tr>\n",
       "      <th>5</th>\n",
       "      <td>1</td>\n",
       "      <td>720.0</td>\n",
       "      <td>3</td>\n",
       "      <td>4</td>\n",
       "      <td>31</td>\n",
       "      <td>134</td>\n",
       "      <td>8.160518</td>\n",
       "      <td>0</td>\n",
       "      <td>0</td>\n",
       "      <td>0</td>\n",
       "      <td>...</td>\n",
       "      <td>0</td>\n",
       "      <td>0</td>\n",
       "      <td>0</td>\n",
       "      <td>0</td>\n",
       "      <td>0</td>\n",
       "      <td>1</td>\n",
       "      <td>0</td>\n",
       "      <td>0</td>\n",
       "      <td>0</td>\n",
       "      <td>0</td>\n",
       "    </tr>\n",
       "  </tbody>\n",
       "</table>\n",
       "<p>5 rows × 43 columns</p>\n",
       "</div>"
      ],
      "text/plain": [
       "   state  delta_dead_laun  launch_day  launch_hour  name_len  blurb_len  \\\n",
       "1      1            720.0           3           19        23        125   \n",
       "2      1            720.0           0            7        51        108   \n",
       "3      0           1439.0           3           19        34        133   \n",
       "4      1            720.0           0           21        40        121   \n",
       "5      1            720.0           3            4        31        134   \n",
       "\n",
       "   goal_usd_log  AU  BE  CA  ...  fashion  film & video  food  games  \\\n",
       "1      6.907755   0   0   0  ...        0             0     0      1   \n",
       "2      9.615805   0   0   0  ...        0             0     0      0   \n",
       "3      9.479141   0   0   0  ...        0             0     0      1   \n",
       "4      7.937375   0   0   0  ...        0             0     0      0   \n",
       "5      8.160518   0   0   0  ...        0             0     0      0   \n",
       "\n",
       "   journalism  music  photography  publishing  technology  theater  \n",
       "1           0      0            0           0           0        0  \n",
       "2           0      1            0           0           0        0  \n",
       "3           0      0            0           0           0        0  \n",
       "4           0      0            0           1           0        0  \n",
       "5           0      1            0           0           0        0  \n",
       "\n",
       "[5 rows x 43 columns]"
      ]
     },
     "execution_count": 86,
     "metadata": {},
     "output_type": "execute_result"
    }
   ],
   "source": [
    "df.head()"
   ]
  },
  {
   "cell_type": "code",
   "execution_count": 87,
   "metadata": {},
   "outputs": [],
   "source": [
    "## save dataframe\n",
    "df.to_csv( \"data/df_preprocessed_log_dummies.csv\", index=False, encoding='utf-8-sig')"
   ]
  },
  {
   "cell_type": "code",
   "execution_count": null,
   "metadata": {},
   "outputs": [
    {
     "data": {
      "text/plain": [
       "DummyClassifier(strategy='most_frequent')"
      ]
     },
     "metadata": {},
     "output_type": "display_data"
    }
   ],
   "source": [
    "from sklearn.dummy import DummyClassifier\n",
    "X = df.drop('state', axis=1)\n",
    "y = df['state']\n",
    "\n",
    "dummy_clf = DummyClassifier(strategy=\"most_frequent\")\n",
    "dummy_clf.fit(X, y)"
   ]
  },
  {
   "cell_type": "code",
   "execution_count": null,
   "metadata": {},
   "outputs": [],
   "source": [
    "y_pred_dummy = dummy_clf.predict(X)"
   ]
  },
  {
   "cell_type": "code",
   "execution_count": null,
   "metadata": {},
   "outputs": [
    {
     "data": {
      "text/plain": [
       "0.6096883693891957"
      ]
     },
     "metadata": {},
     "output_type": "display_data"
    }
   ],
   "source": [
    "dummy_clf.score(X, y)"
   ]
  },
  {
   "cell_type": "code",
   "execution_count": null,
   "metadata": {},
   "outputs": [
    {
     "name": "stderr",
     "output_type": "stream",
     "text": [
      "/Users/zoe/neuefische/kickstarter-ml/.venv/lib/python3.9/site-packages/sklearn/metrics/_classification.py:1308: UndefinedMetricWarning: Precision and F-score are ill-defined and being set to 0.0 in labels with no predicted samples. Use `zero_division` parameter to control this behavior.\n",
      "  _warn_prf(average, modifier, msg_start, len(result))\n",
      "/Users/zoe/neuefische/kickstarter-ml/.venv/lib/python3.9/site-packages/sklearn/metrics/_classification.py:1308: UndefinedMetricWarning: Precision and F-score are ill-defined and being set to 0.0 in labels with no predicted samples. Use `zero_division` parameter to control this behavior.\n",
      "  _warn_prf(average, modifier, msg_start, len(result))\n"
     ]
    },
    {
     "name": "stdout",
     "output_type": "stream",
     "text": [
      "              precision    recall  f1-score   support\n",
      "\n",
      "      failed       0.00      0.00      0.00     75199\n",
      "  successful       0.61      1.00      0.76    117465\n",
      "\n",
      "    accuracy                           0.61    192664\n",
      "   macro avg       0.30      0.50      0.38    192664\n",
      "weighted avg       0.37      0.61      0.46    192664\n",
      "\n"
     ]
    },
    {
     "name": "stderr",
     "output_type": "stream",
     "text": [
      "/Users/zoe/neuefische/kickstarter-ml/.venv/lib/python3.9/site-packages/sklearn/metrics/_classification.py:1308: UndefinedMetricWarning: Precision and F-score are ill-defined and being set to 0.0 in labels with no predicted samples. Use `zero_division` parameter to control this behavior.\n",
      "  _warn_prf(average, modifier, msg_start, len(result))\n"
     ]
    }
   ],
   "source": [
    "print(classification_report(y, y_pred_dummy))"
   ]
  },
  {
   "cell_type": "code",
   "execution_count": null,
   "metadata": {},
   "outputs": [],
   "source": [
    "cfm_dummy = confusion_matrix(y, y_pred_dummy)\n",
    "cfm_dummy = cfm_dummy.astype('float') / cfm_dummy.sum(axis=1)[:, np.newaxis] # normalize the data"
   ]
  },
  {
   "cell_type": "code",
   "execution_count": null,
   "metadata": {},
   "outputs": [
    {
     "data": {
      "image/png": "[encoded data removed]",
      "text/plain": [
       "<Figure size 432x288 with 2 Axes>"
      ]
     },
     "metadata": {},
     "output_type": "display_data"
    }
   ],
   "source": [
    "# view with a heatmap\n",
    "plt.figure()\n",
    "sns.heatmap(cfm_dummy, annot=True, annot_kws={\"size\":30}, \n",
    "        cmap='Blues', square=True, fmt='.3f')\n",
    "plt.ylabel('True label')\n",
    "plt.xlabel('Predicted label')\n",
    "plt.title('Confusion matrix for Dummy Classifier:');\n"
   ]
  }
 ],
 "metadata": {
  "interpreter": {
   "hash": "14f51d1694797e5da3502a145014201e62f9849463032f26557bd12a95b9aa43"
  },
  "kernelspec": {
   "display_name": "Python 3.9.4 64-bit ('.venv': venv)",
   "name": "python3"
  },
  "language_info": {
   "codemirror_mode": {
    "name": "ipython",
    "version": 3
   },
   "file_extension": ".py",
   "mimetype": "text/x-python",
   "name": "python",
   "nbconvert_exporter": "python",
   "pygments_lexer": "ipython3",
   "version": "3.9.4"
  },
  "orig_nbformat": 4
 },
 "nbformat": 4,
 "nbformat_minor": 2
}
