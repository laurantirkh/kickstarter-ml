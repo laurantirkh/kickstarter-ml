{
 "cells": [
  {
   "cell_type": "code",
   "execution_count": 37,
   "metadata": {},
   "outputs": [],
   "source": [
    "import pandas as pd\n",
    "import numpy as np\n",
    "import datetime"
   ]
  },
  {
   "cell_type": "code",
   "execution_count": 38,
   "metadata": {},
   "outputs": [],
   "source": [
    "df = pd.read_csv(\"data/combined_csv.csv\")"
   ]
  },
  {
   "cell_type": "code",
   "execution_count": 39,
   "metadata": {},
   "outputs": [
    {
     "name": "stdout",
     "output_type": "stream",
     "text": [
      "<class 'pandas.core.frame.DataFrame'>\n",
      "RangeIndex: 209222 entries, 0 to 209221\n",
      "Data columns (total 37 columns):\n",
      " #   Column                    Non-Null Count   Dtype  \n",
      "---  ------                    --------------   -----  \n",
      " 0   backers_count             209222 non-null  int64  \n",
      " 1   blurb                     209214 non-null  object \n",
      " 2   category                  209222 non-null  object \n",
      " 3   converted_pledged_amount  209222 non-null  int64  \n",
      " 4   country                   209222 non-null  object \n",
      " 5   created_at                209222 non-null  int64  \n",
      " 6   creator                   209222 non-null  object \n",
      " 7   currency                  209222 non-null  object \n",
      " 8   currency_symbol           209222 non-null  object \n",
      " 9   currency_trailing_code    209222 non-null  bool   \n",
      " 10  current_currency          209222 non-null  object \n",
      " 11  deadline                  209222 non-null  int64  \n",
      " 12  disable_communication     209222 non-null  bool   \n",
      " 13  friends                   300 non-null     object \n",
      " 14  fx_rate                   209222 non-null  float64\n",
      " 15  goal                      209222 non-null  float64\n",
      " 16  id                        209222 non-null  int64  \n",
      " 17  is_backing                300 non-null     object \n",
      " 18  is_starrable              209222 non-null  bool   \n",
      " 19  is_starred                300 non-null     object \n",
      " 20  launched_at               209222 non-null  int64  \n",
      " 21  location                  208996 non-null  object \n",
      " 22  name                      209222 non-null  object \n",
      " 23  permissions               300 non-null     object \n",
      " 24  photo                     209222 non-null  object \n",
      " 25  pledged                   209222 non-null  float64\n",
      " 26  profile                   209222 non-null  object \n",
      " 27  slug                      209222 non-null  object \n",
      " 28  source_url                209222 non-null  object \n",
      " 29  spotlight                 209222 non-null  bool   \n",
      " 30  staff_pick                209222 non-null  bool   \n",
      " 31  state                     209222 non-null  object \n",
      " 32  state_changed_at          209222 non-null  int64  \n",
      " 33  static_usd_rate           209222 non-null  float64\n",
      " 34  urls                      209222 non-null  object \n",
      " 35  usd_pledged               209222 non-null  float64\n",
      " 36  usd_type                  208742 non-null  object \n",
      "dtypes: bool(5), float64(5), int64(7), object(20)\n",
      "memory usage: 52.1+ MB\n"
     ]
    }
   ],
   "source": [
    "df.info()"
   ]
  },
  {
   "cell_type": "code",
   "execution_count": 40,
   "metadata": {},
   "outputs": [],
   "source": [
    "created = []\n",
    "launched = []\n",
    "deadline = []"
   ]
  },
  {
   "cell_type": "code",
   "execution_count": 41,
   "metadata": {},
   "outputs": [],
   "source": [
    "# created_at launched_at deadline\n",
    "for label, content in df['created_at'].iteritems():\n",
    "    created.append(datetime.datetime.fromtimestamp(content))"
   ]
  },
  {
   "cell_type": "code",
   "execution_count": 42,
   "metadata": {},
   "outputs": [],
   "source": [
    "# created_at launched_at deadline\n",
    "for label, content in df['launched_at'].iteritems():\n",
    "    launched.append(datetime.datetime.fromtimestamp(content))"
   ]
  },
  {
   "cell_type": "code",
   "execution_count": 43,
   "metadata": {},
   "outputs": [],
   "source": [
    "# created_at launched_at deadline\n",
    "for label, content in df['deadline'].iteritems():\n",
    "    deadline.append(datetime.datetime.fromtimestamp(content))"
   ]
  },
  {
   "cell_type": "code",
   "execution_count": 44,
   "metadata": {},
   "outputs": [
    {
     "data": {
      "text/plain": [
       "0    1541459205\n",
       "1    1501684093\n",
       "2    1348987533\n",
       "3    1483780271\n",
       "4    1354817071\n",
       "Name: created_at, dtype: int64"
      ]
     },
     "execution_count": 44,
     "metadata": {},
     "output_type": "execute_result"
    }
   ],
   "source": [
    "df['created_at'].head()"
   ]
  },
  {
   "cell_type": "code",
   "execution_count": 45,
   "metadata": {},
   "outputs": [
    {
     "data": {
      "text/plain": [
       "0    1541459205\n",
       "Name: created_at, dtype: int64"
      ]
     },
     "execution_count": 45,
     "metadata": {},
     "output_type": "execute_result"
    }
   ],
   "source": [
    "df['created_at'].iloc[[0]]"
   ]
  },
  {
   "cell_type": "code",
   "execution_count": 52,
   "metadata": {},
   "outputs": [],
   "source": [
    "for i in range(len(df)):\n",
    "    df['created_at'].iloc[[i]] = created[i]"
   ]
  },
  {
   "cell_type": "code",
   "execution_count": 57,
   "metadata": {},
   "outputs": [
    {
     "data": {
      "text/plain": [
       "0         2018-11-06 00:06:45\n",
       "1         2017-08-02 16:28:13\n",
       "2         2012-09-30 08:45:33\n",
       "3         2017-01-07 10:11:11\n",
       "4         2012-12-06 19:04:31\n",
       "                 ...         \n",
       "209217    2018-11-27 03:48:11\n",
       "209218    2017-04-24 15:46:12\n",
       "209219    2012-07-03 21:29:55\n",
       "209220    2015-03-02 01:42:37\n",
       "209221    2010-01-11 17:05:00\n",
       "Name: created_at, Length: 209222, dtype: object"
      ]
     },
     "execution_count": 57,
     "metadata": {},
     "output_type": "execute_result"
    }
   ],
   "source": [
    "df['created_at']"
   ]
  },
  {
   "cell_type": "code",
   "execution_count": 58,
   "metadata": {},
   "outputs": [
    {
     "data": {
      "text/plain": [
       "0         2019-01-23 07:02:55\n",
       "1         2017-08-10 19:00:59\n",
       "2         2013-05-13 07:03:15\n",
       "3         2017-01-12 19:22:56\n",
       "4         2012-12-10 21:32:07\n",
       "                 ...         \n",
       "209217    2018-11-27 23:38:32\n",
       "209218    2017-05-14 19:21:54\n",
       "209219    2012-08-14 22:36:30\n",
       "209220    2015-03-21 14:26:15\n",
       "209221    2010-01-21 19:46:33\n",
       "Name: launched_at, Length: 209222, dtype: object"
      ]
     },
     "execution_count": 58,
     "metadata": {},
     "output_type": "execute_result"
    }
   ],
   "source": [
    "df['launched_at']"
   ]
  },
  {
   "cell_type": "code",
   "execution_count": 55,
   "metadata": {},
   "outputs": [
    {
     "name": "stderr",
     "output_type": "stream",
     "text": [
      "/Users/laurenthartmann/neuefische/kickstarter-ml/.venv/lib/python3.9/site-packages/pandas/core/indexing.py:1732: SettingWithCopyWarning: \n",
      "A value is trying to be set on a copy of a slice from a DataFrame\n",
      "\n",
      "See the caveats in the documentation: https://pandas.pydata.org/pandas-docs/stable/user_guide/indexing.html#returning-a-view-versus-a-copy\n",
      "  self._setitem_single_block(indexer, value, name)\n"
     ]
    }
   ],
   "source": [
    "for i in range(len(df)):\n",
    "    df['launched_at'].iloc[[i]] = launched[i]"
   ]
  },
  {
   "cell_type": "code",
   "execution_count": 62,
   "metadata": {},
   "outputs": [
    {
     "name": "stderr",
     "output_type": "stream",
     "text": [
      "/Users/laurenthartmann/neuefische/kickstarter-ml/.venv/lib/python3.9/site-packages/pandas/core/indexing.py:1732: SettingWithCopyWarning: \n",
      "A value is trying to be set on a copy of a slice from a DataFrame\n",
      "\n",
      "See the caveats in the documentation: https://pandas.pydata.org/pandas-docs/stable/user_guide/indexing.html#returning-a-view-versus-a-copy\n",
      "  self._setitem_single_block(indexer, value, name)\n"
     ]
    }
   ],
   "source": [
    "for i in range(len(df)):\n",
    "    df['deadline'].iloc[[i]] = deadline[i]"
   ]
  },
  {
   "cell_type": "code",
   "execution_count": 63,
   "metadata": {},
   "outputs": [],
   "source": [
    "df['delta_laun_crea'] = df['launched_at'] - df['created_at']\n",
    "df['delta_dead_laun'] = df['deadline'] - df['launched_at']"
   ]
  },
  {
   "cell_type": "code",
   "execution_count": 66,
   "metadata": {},
   "outputs": [
    {
     "data": {
      "text/html": [
       "<div>\n",
       "<style scoped>\n",
       "    .dataframe tbody tr th:only-of-type {\n",
       "        vertical-align: middle;\n",
       "    }\n",
       "\n",
       "    .dataframe tbody tr th {\n",
       "        vertical-align: top;\n",
       "    }\n",
       "\n",
       "    .dataframe thead th {\n",
       "        text-align: right;\n",
       "    }\n",
       "</style>\n",
       "<table border=\"1\" class=\"dataframe\">\n",
       "  <thead>\n",
       "    <tr style=\"text-align: right;\">\n",
       "      <th></th>\n",
       "      <th>created_at</th>\n",
       "      <th>launched_at</th>\n",
       "      <th>deadline</th>\n",
       "      <th>delta_laun_crea</th>\n",
       "      <th>delta_dead_laun</th>\n",
       "    </tr>\n",
       "  </thead>\n",
       "  <tbody>\n",
       "    <tr>\n",
       "      <th>0</th>\n",
       "      <td>2018-11-06 00:06:45</td>\n",
       "      <td>2019-01-23 07:02:55</td>\n",
       "      <td>2019-03-14 06:02:55</td>\n",
       "      <td>78 days 06:56:10</td>\n",
       "      <td>49 days 23:00:00</td>\n",
       "    </tr>\n",
       "    <tr>\n",
       "      <th>1</th>\n",
       "      <td>2017-08-02 16:28:13</td>\n",
       "      <td>2017-08-10 19:00:59</td>\n",
       "      <td>2017-09-09 19:00:59</td>\n",
       "      <td>8 days 02:32:46</td>\n",
       "      <td>30 days 00:00:00</td>\n",
       "    </tr>\n",
       "    <tr>\n",
       "      <th>2</th>\n",
       "      <td>2012-09-30 08:45:33</td>\n",
       "      <td>2013-05-13 07:03:15</td>\n",
       "      <td>2013-06-12 07:03:15</td>\n",
       "      <td>224 days 22:17:42</td>\n",
       "      <td>30 days 00:00:00</td>\n",
       "    </tr>\n",
       "    <tr>\n",
       "      <th>3</th>\n",
       "      <td>2017-01-07 10:11:11</td>\n",
       "      <td>2017-01-12 19:22:56</td>\n",
       "      <td>2017-03-13 18:22:56</td>\n",
       "      <td>5 days 09:11:45</td>\n",
       "      <td>59 days 23:00:00</td>\n",
       "    </tr>\n",
       "    <tr>\n",
       "      <th>4</th>\n",
       "      <td>2012-12-06 19:04:31</td>\n",
       "      <td>2012-12-10 21:32:07</td>\n",
       "      <td>2013-01-09 21:32:07</td>\n",
       "      <td>4 days 02:27:36</td>\n",
       "      <td>30 days 00:00:00</td>\n",
       "    </tr>\n",
       "  </tbody>\n",
       "</table>\n",
       "</div>"
      ],
      "text/plain": [
       "            created_at          launched_at             deadline  \\\n",
       "0  2018-11-06 00:06:45  2019-01-23 07:02:55  2019-03-14 06:02:55   \n",
       "1  2017-08-02 16:28:13  2017-08-10 19:00:59  2017-09-09 19:00:59   \n",
       "2  2012-09-30 08:45:33  2013-05-13 07:03:15  2013-06-12 07:03:15   \n",
       "3  2017-01-07 10:11:11  2017-01-12 19:22:56  2017-03-13 18:22:56   \n",
       "4  2012-12-06 19:04:31  2012-12-10 21:32:07  2013-01-09 21:32:07   \n",
       "\n",
       "    delta_laun_crea  delta_dead_laun  \n",
       "0  78 days 06:56:10 49 days 23:00:00  \n",
       "1   8 days 02:32:46 30 days 00:00:00  \n",
       "2 224 days 22:17:42 30 days 00:00:00  \n",
       "3   5 days 09:11:45 59 days 23:00:00  \n",
       "4   4 days 02:27:36 30 days 00:00:00  "
      ]
     },
     "execution_count": 66,
     "metadata": {},
     "output_type": "execute_result"
    }
   ],
   "source": [
    "df[['created_at', 'launched_at', 'deadline', 'delta_laun_crea', 'delta_dead_laun']].head()"
   ]
  }
 ],
 "metadata": {
  "interpreter": {
   "hash": "14f51d1694797e5da3502a145014201e62f9849463032f26557bd12a95b9aa43"
  },
  "kernelspec": {
   "display_name": "Python 3.9.4 64-bit ('.venv': venv)",
   "name": "python3"
  },
  "language_info": {
   "codemirror_mode": {
    "name": "ipython",
    "version": 3
   },
   "file_extension": ".py",
   "mimetype": "text/x-python",
   "name": "python",
   "nbconvert_exporter": "python",
   "pygments_lexer": "ipython3",
   "version": "3.9.4"
  },
  "orig_nbformat": 4
 },
 "nbformat": 4,
 "nbformat_minor": 2
}
