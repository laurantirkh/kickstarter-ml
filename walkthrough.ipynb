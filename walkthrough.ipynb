{
 "cells": [
  {
   "cell_type": "markdown",
   "metadata": {},
   "source": [
    "# Walkthrough"
   ]
  },
  {
   "cell_type": "markdown",
   "metadata": {},
   "source": [
    "First step: Run the combin_csv.py script on a data folder containing ONLY the kickstarter000 to kickstarter055 csv-files! This gives you the dataset to import for this notebook."
   ]
  },
  {
   "cell_type": "code",
   "execution_count": 2,
   "metadata": {},
   "outputs": [],
   "source": [
    "import pandas as pd\n",
    "import numpy as np\n",
    "import seaborn as sns\n",
    "import datetime\n",
    "import matplotlib.pyplot as plt\n",
    "%matplotlib inline\n",
    "\n",
    "from sklearn.metrics import classification_report, confusion_matrix"
   ]
  },
  {
   "cell_type": "code",
   "execution_count": 3,
   "metadata": {},
   "outputs": [
    {
     "name": "stdout",
     "output_type": "stream",
     "text": [
      "<class 'pandas.core.frame.DataFrame'>\n",
      "RangeIndex: 209222 entries, 0 to 209221\n",
      "Data columns (total 37 columns):\n",
      " #   Column                    Non-Null Count   Dtype  \n",
      "---  ------                    --------------   -----  \n",
      " 0   backers_count             209222 non-null  int64  \n",
      " 1   blurb                     209214 non-null  object \n",
      " 2   category                  209222 non-null  object \n",
      " 3   converted_pledged_amount  209222 non-null  int64  \n",
      " 4   country                   209222 non-null  object \n",
      " 5   created_at                209222 non-null  int64  \n",
      " 6   creator                   209222 non-null  object \n",
      " 7   currency                  209222 non-null  object \n",
      " 8   currency_symbol           209222 non-null  object \n",
      " 9   currency_trailing_code    209222 non-null  bool   \n",
      " 10  current_currency          209222 non-null  object \n",
      " 11  deadline                  209222 non-null  int64  \n",
      " 12  disable_communication     209222 non-null  bool   \n",
      " 13  friends                   300 non-null     object \n",
      " 14  fx_rate                   209222 non-null  float64\n",
      " 15  goal                      209222 non-null  float64\n",
      " 16  id                        209222 non-null  int64  \n",
      " 17  is_backing                300 non-null     object \n",
      " 18  is_starrable              209222 non-null  bool   \n",
      " 19  is_starred                300 non-null     object \n",
      " 20  launched_at               209222 non-null  int64  \n",
      " 21  location                  208996 non-null  object \n",
      " 22  name                      209222 non-null  object \n",
      " 23  permissions               300 non-null     object \n",
      " 24  photo                     209222 non-null  object \n",
      " 25  pledged                   209222 non-null  float64\n",
      " 26  profile                   209222 non-null  object \n",
      " 27  slug                      209222 non-null  object \n",
      " 28  source_url                209222 non-null  object \n",
      " 29  spotlight                 209222 non-null  bool   \n",
      " 30  staff_pick                209222 non-null  bool   \n",
      " 31  state                     209222 non-null  object \n",
      " 32  state_changed_at          209222 non-null  int64  \n",
      " 33  static_usd_rate           209222 non-null  float64\n",
      " 34  urls                      209222 non-null  object \n",
      " 35  usd_pledged               209222 non-null  float64\n",
      " 36  usd_type                  208742 non-null  object \n",
      "dtypes: bool(5), float64(5), int64(7), object(20)\n",
      "memory usage: 52.1+ MB\n"
     ]
    }
   ],
   "source": [
    "# load the combined dataset\n",
    "df = pd.read_csv(\"data/combined_csv.csv\")\n",
    "\n",
    "# check the dataframe\n",
    "df.info()"
   ]
  },
  {
   "cell_type": "markdown",
   "metadata": {},
   "source": [
    "## list of features we keep\n",
    "\n",
    " -  blurb                     short description \n",
    " -  category                  Kickstarter categories  \n",
    " -  country                   country \n",
    " -  deadline                  deadline date/time?\n",
    " -  fx_rate                   currency conversion rate \n",
    " -  goal                      fixed amount required for funding (convert with fx_rate)\n",
    " -  launched_at               launch date/time?  \n",
    " -  location                  location\n",
    " -  name                      project name \n",
    " -  state                     !!!!!target!!!!! \n",
    "\n",
    " <br>\n",
    "\n",
    "features to create:\n",
    "- goal_usd                    goal*fx_rate\n",
    "- name_len                    number of characters in name\n",
    "- blurb_len                   number of characters in blurb\n",
    "- time_online                 deadline - launched at\n",
    "- launch_weekday              day of the week of the launch\n",
    "- launch_time                 time of day of the launch"
   ]
  },
  {
   "cell_type": "markdown",
   "metadata": {},
   "source": [
    "## stakeholder\n",
    "\n",
    "* who? - people/creators who are considering launching a project on Kickstarter\n",
    "* why? - to find out if it's worth investing the time/money in creating materials/launching a project and which criteria to consider in order to make it successful\n",
    "* metric? - f_beta (probably imbalanced data)\n",
    "* model: classifier (binary)"
   ]
  },
  {
   "cell_type": "code",
   "execution_count": 4,
   "metadata": {},
   "outputs": [
    {
     "name": "stdout",
     "output_type": "stream",
     "text": [
      "<class 'pandas.core.frame.DataFrame'>\n",
      "RangeIndex: 209222 entries, 0 to 209221\n",
      "Data columns (total 10 columns):\n",
      " #   Column       Non-Null Count   Dtype  \n",
      "---  ------       --------------   -----  \n",
      " 0   blurb        209214 non-null  object \n",
      " 1   category     209222 non-null  object \n",
      " 2   country      209222 non-null  object \n",
      " 3   deadline     209222 non-null  int64  \n",
      " 4   fx_rate      209222 non-null  float64\n",
      " 5   goal         209222 non-null  float64\n",
      " 6   launched_at  209222 non-null  int64  \n",
      " 7   location     208996 non-null  object \n",
      " 8   name         209222 non-null  object \n",
      " 9   state        209222 non-null  object \n",
      "dtypes: float64(2), int64(2), object(6)\n",
      "memory usage: 16.0+ MB\n"
     ]
    }
   ],
   "source": [
    "# keep only columns we will be using\n",
    "\n",
    "df = df[['blurb', 'category', 'country', 'deadline',\n",
    "        'fx_rate', 'goal', 'launched_at', 'location',\n",
    "       'name', 'state']]\n",
    "\n",
    "df.info()"
   ]
  },
  {
   "cell_type": "markdown",
   "metadata": {},
   "source": [
    "## Create the new features"
   ]
  },
  {
   "cell_type": "markdown",
   "metadata": {},
   "source": [
    "### Convert timestamps & add time delta features"
   ]
  },
  {
   "cell_type": "code",
   "execution_count": 8,
   "metadata": {},
   "outputs": [],
   "source": [
    "launched = []\n",
    "deadline = []"
   ]
  },
  {
   "cell_type": "code",
   "execution_count": 9,
   "metadata": {},
   "outputs": [],
   "source": [
    "# launched_at\n",
    "for label, content in df['launched_at'].iteritems():\n",
    "    launched.append(datetime.datetime.fromtimestamp(content))"
   ]
  },
  {
   "cell_type": "code",
   "execution_count": 10,
   "metadata": {},
   "outputs": [],
   "source": [
    "# deadline\n",
    "for label, content in df['deadline'].iteritems():\n",
    "    deadline.append(datetime.datetime.fromtimestamp(content))"
   ]
  },
  {
   "cell_type": "code",
   "execution_count": 11,
   "metadata": {},
   "outputs": [
    {
     "name": "stderr",
     "output_type": "stream",
     "text": [
      "/Users/zoe/neuefische/kickstarter-ml/.venv/lib/python3.9/site-packages/pandas/core/indexing.py:1732: SettingWithCopyWarning: \n",
      "A value is trying to be set on a copy of a slice from a DataFrame\n",
      "\n",
      "See the caveats in the documentation: https://pandas.pydata.org/pandas-docs/stable/user_guide/indexing.html#returning-a-view-versus-a-copy\n",
      "  self._setitem_single_block(indexer, value, name)\n"
     ]
    }
   ],
   "source": [
    "for i in range(len(df)):\n",
    "    df['launched_at'].iloc[[i]] = launched[i]"
   ]
  },
  {
   "cell_type": "code",
   "execution_count": 12,
   "metadata": {},
   "outputs": [],
   "source": [
    "for i in range(len(df)):\n",
    "    df['deadline'].iloc[[i]] = deadline[i]"
   ]
  },
  {
   "cell_type": "code",
   "execution_count": 13,
   "metadata": {},
   "outputs": [],
   "source": [
    "df['delta_dead_laun'] = (df['deadline'] - df['launched_at']).astype('timedelta64[h]')"
   ]
  },
  {
   "cell_type": "code",
   "execution_count": 14,
   "metadata": {},
   "outputs": [
    {
     "name": "stdout",
     "output_type": "stream",
     "text": [
      "<class 'pandas.core.frame.DataFrame'>\n",
      "RangeIndex: 209222 entries, 0 to 209221\n",
      "Data columns (total 11 columns):\n",
      " #   Column           Non-Null Count   Dtype  \n",
      "---  ------           --------------   -----  \n",
      " 0   blurb            209214 non-null  object \n",
      " 1   country          209222 non-null  object \n",
      " 2   deadline         209222 non-null  object \n",
      " 3   fx_rate          209222 non-null  float64\n",
      " 4   goal             209222 non-null  float64\n",
      " 5   launched_at      209222 non-null  object \n",
      " 6   location         208996 non-null  object \n",
      " 7   name             209222 non-null  object \n",
      " 8   state            209222 non-null  object \n",
      " 9   category         209222 non-null  object \n",
      " 10  delta_dead_laun  209222 non-null  float64\n",
      "dtypes: float64(3), object(8)\n",
      "memory usage: 17.6+ MB\n"
     ]
    }
   ],
   "source": [
    "df.info()"
   ]
  },
  {
   "cell_type": "markdown",
   "metadata": {},
   "source": [
    "### change categories to main categories"
   ]
  },
  {
   "cell_type": "code",
   "execution_count": 15,
   "metadata": {},
   "outputs": [],
   "source": [
    "cats = df['category']"
   ]
  },
  {
   "cell_type": "code",
   "execution_count": 16,
   "metadata": {},
   "outputs": [],
   "source": [
    "cats = cats.str.strip('\"slug')"
   ]
  },
  {
   "cell_type": "code",
   "execution_count": 17,
   "metadata": {},
   "outputs": [],
   "source": [
    "cats = cats.str.strip(':\"')"
   ]
  },
  {
   "cell_type": "code",
   "execution_count": 18,
   "metadata": {},
   "outputs": [
    {
     "data": {
      "text/plain": [
       "0               fashion/footwear\n",
       "1             games/playing card\n",
       "2                     music/rock\n",
       "3             games/playing card\n",
       "4          publishing/nonfiction\n",
       "                   ...          \n",
       "209217       games/tabletop game\n",
       "209218    music/electronic music\n",
       "209219       technology/hardware\n",
       "209220      film & video/festiva\n",
       "209221                journalism\n",
       "Name: category, Length: 209222, dtype: object"
      ]
     },
     "execution_count": 18,
     "metadata": {},
     "output_type": "execute_result"
    }
   ],
   "source": [
    "cats"
   ]
  },
  {
   "cell_type": "code",
   "execution_count": 19,
   "metadata": {},
   "outputs": [],
   "source": [
    "cats = cats.str.split(\"/\").str[0]"
   ]
  },
  {
   "cell_type": "code",
   "execution_count": 20,
   "metadata": {},
   "outputs": [
    {
     "data": {
      "text/plain": [
       "array(['fashion', 'games', 'music', 'publishing', 'theater', 'food',\n",
       "       'art', 'photography', 'technology', 'dance', 'design',\n",
       "       'film & video', 'crafts', 'comics', 'comic', 'craft', 'journalism',\n",
       "       'publishin', 'game'], dtype=object)"
      ]
     },
     "execution_count": 20,
     "metadata": {},
     "output_type": "execute_result"
    }
   ],
   "source": [
    "cats.unique()"
   ]
  },
  {
   "cell_type": "code",
   "execution_count": 22,
   "metadata": {},
   "outputs": [
    {
     "data": {
      "text/plain": [
       "array(['fashion', 'games', 'music', 'publishing', 'theater', 'food',\n",
       "       'art', 'photography', 'technology', 'dance', 'design',\n",
       "       'film & video', 'crafts', 'comics', 'comic', 'craft', 'journalism',\n",
       "       'publishin', 'game'], dtype=object)"
      ]
     },
     "execution_count": 22,
     "metadata": {},
     "output_type": "execute_result"
    }
   ],
   "source": [
    "# add new categories to dataframe\n",
    "\n",
    "df['category'] = cats\n",
    "df['category'].unique()"
   ]
  },
  {
   "cell_type": "markdown",
   "metadata": {},
   "source": [
    "### Include weekday and hour of launch"
   ]
  },
  {
   "cell_type": "code",
   "execution_count": 23,
   "metadata": {},
   "outputs": [],
   "source": [
    "launched_day = pd.to_datetime(df['launched_at']).dt.day_of_week"
   ]
  },
  {
   "cell_type": "code",
   "execution_count": 24,
   "metadata": {},
   "outputs": [],
   "source": [
    "launched_hour = pd.to_datetime(df['launched_at']).dt.hour"
   ]
  },
  {
   "cell_type": "code",
   "execution_count": 26,
   "metadata": {},
   "outputs": [
    {
     "name": "stdout",
     "output_type": "stream",
     "text": [
      "<class 'pandas.core.frame.DataFrame'>\n",
      "RangeIndex: 209222 entries, 0 to 209221\n",
      "Data columns (total 13 columns):\n",
      " #   Column           Non-Null Count   Dtype  \n",
      "---  ------           --------------   -----  \n",
      " 0   blurb            209214 non-null  object \n",
      " 1   country          209222 non-null  object \n",
      " 2   deadline         209222 non-null  object \n",
      " 3   fx_rate          209222 non-null  float64\n",
      " 4   goal             209222 non-null  float64\n",
      " 5   launched_at      209222 non-null  object \n",
      " 6   location         208996 non-null  object \n",
      " 7   name             209222 non-null  object \n",
      " 8   state            209222 non-null  object \n",
      " 9   category         209222 non-null  object \n",
      " 10  delta_dead_laun  209222 non-null  float64\n",
      " 11  launch_day       209222 non-null  int64  \n",
      " 12  launch_hour      209222 non-null  int64  \n",
      "dtypes: float64(3), int64(2), object(8)\n",
      "memory usage: 20.8+ MB\n"
     ]
    },
    {
     "data": {
      "text/html": [
       "<div>\n",
       "<style scoped>\n",
       "    .dataframe tbody tr th:only-of-type {\n",
       "        vertical-align: middle;\n",
       "    }\n",
       "\n",
       "    .dataframe tbody tr th {\n",
       "        vertical-align: top;\n",
       "    }\n",
       "\n",
       "    .dataframe thead th {\n",
       "        text-align: right;\n",
       "    }\n",
       "</style>\n",
       "<table border=\"1\" class=\"dataframe\">\n",
       "  <thead>\n",
       "    <tr style=\"text-align: right;\">\n",
       "      <th></th>\n",
       "      <th>blurb</th>\n",
       "      <th>country</th>\n",
       "      <th>deadline</th>\n",
       "      <th>fx_rate</th>\n",
       "      <th>goal</th>\n",
       "      <th>launched_at</th>\n",
       "      <th>location</th>\n",
       "      <th>name</th>\n",
       "      <th>state</th>\n",
       "      <th>category</th>\n",
       "      <th>delta_dead_laun</th>\n",
       "      <th>launch_day</th>\n",
       "      <th>launch_hour</th>\n",
       "    </tr>\n",
       "  </thead>\n",
       "  <tbody>\n",
       "    <tr>\n",
       "      <th>0</th>\n",
       "      <td>Babalus Shoes</td>\n",
       "      <td>US</td>\n",
       "      <td>2019-03-14 06:02:55</td>\n",
       "      <td>1.000000</td>\n",
       "      <td>28000.0</td>\n",
       "      <td>2019-01-23 07:02:55</td>\n",
       "      <td>{\"id\":2462429,\"name\":\"Novato\",\"slug\":\"novato-c...</td>\n",
       "      <td>Babalus Children's Shoes</td>\n",
       "      <td>live</td>\n",
       "      <td>fashion</td>\n",
       "      <td>1199.0</td>\n",
       "      <td>2</td>\n",
       "      <td>7</td>\n",
       "    </tr>\n",
       "    <tr>\n",
       "      <th>1</th>\n",
       "      <td>A colorful Dia de los Muertos themed oracle de...</td>\n",
       "      <td>US</td>\n",
       "      <td>2017-09-09 19:00:59</td>\n",
       "      <td>1.000000</td>\n",
       "      <td>1000.0</td>\n",
       "      <td>2017-08-10 19:00:59</td>\n",
       "      <td>{\"id\":2400549,\"name\":\"Euless\",\"slug\":\"euless-t...</td>\n",
       "      <td>The Ofrenda Oracle Deck</td>\n",
       "      <td>successful</td>\n",
       "      <td>games</td>\n",
       "      <td>720.0</td>\n",
       "      <td>3</td>\n",
       "      <td>19</td>\n",
       "    </tr>\n",
       "    <tr>\n",
       "      <th>2</th>\n",
       "      <td>Electra's long awaited, eclectic Debut Pop/Roc...</td>\n",
       "      <td>US</td>\n",
       "      <td>2013-06-12 07:03:15</td>\n",
       "      <td>1.000000</td>\n",
       "      <td>15000.0</td>\n",
       "      <td>2013-05-13 07:03:15</td>\n",
       "      <td>{\"id\":2423474,\"name\":\"Hollywood\",\"slug\":\"holly...</td>\n",
       "      <td>Record Electra's Debut Album (Pop, Rock, Class...</td>\n",
       "      <td>successful</td>\n",
       "      <td>music</td>\n",
       "      <td>720.0</td>\n",
       "      <td>0</td>\n",
       "      <td>7</td>\n",
       "    </tr>\n",
       "    <tr>\n",
       "      <th>3</th>\n",
       "      <td>The Mist of Tribunal is a turn-based card game...</td>\n",
       "      <td>GB</td>\n",
       "      <td>2017-03-13 18:22:56</td>\n",
       "      <td>1.308394</td>\n",
       "      <td>10000.0</td>\n",
       "      <td>2017-01-12 19:22:56</td>\n",
       "      <td>{\"id\":475457,\"name\":\"Kaunas\",\"slug\":\"kaunas-ka...</td>\n",
       "      <td>The Mist of Tribunal - A Card Game</td>\n",
       "      <td>failed</td>\n",
       "      <td>games</td>\n",
       "      <td>1439.0</td>\n",
       "      <td>3</td>\n",
       "      <td>19</td>\n",
       "    </tr>\n",
       "    <tr>\n",
       "      <th>4</th>\n",
       "      <td>Livng with a brain impairment, what its like t...</td>\n",
       "      <td>US</td>\n",
       "      <td>2013-01-09 21:32:07</td>\n",
       "      <td>1.000000</td>\n",
       "      <td>2800.0</td>\n",
       "      <td>2012-12-10 21:32:07</td>\n",
       "      <td>{\"id\":2507703,\"name\":\"Traverse City\",\"slug\":\"t...</td>\n",
       "      <td>Help change the face of Brain Impairment</td>\n",
       "      <td>successful</td>\n",
       "      <td>publishing</td>\n",
       "      <td>720.0</td>\n",
       "      <td>0</td>\n",
       "      <td>21</td>\n",
       "    </tr>\n",
       "  </tbody>\n",
       "</table>\n",
       "</div>"
      ],
      "text/plain": [
       "                                               blurb country  \\\n",
       "0                                      Babalus Shoes      US   \n",
       "1  A colorful Dia de los Muertos themed oracle de...      US   \n",
       "2  Electra's long awaited, eclectic Debut Pop/Roc...      US   \n",
       "3  The Mist of Tribunal is a turn-based card game...      GB   \n",
       "4  Livng with a brain impairment, what its like t...      US   \n",
       "\n",
       "              deadline   fx_rate     goal          launched_at  \\\n",
       "0  2019-03-14 06:02:55  1.000000  28000.0  2019-01-23 07:02:55   \n",
       "1  2017-09-09 19:00:59  1.000000   1000.0  2017-08-10 19:00:59   \n",
       "2  2013-06-12 07:03:15  1.000000  15000.0  2013-05-13 07:03:15   \n",
       "3  2017-03-13 18:22:56  1.308394  10000.0  2017-01-12 19:22:56   \n",
       "4  2013-01-09 21:32:07  1.000000   2800.0  2012-12-10 21:32:07   \n",
       "\n",
       "                                            location  \\\n",
       "0  {\"id\":2462429,\"name\":\"Novato\",\"slug\":\"novato-c...   \n",
       "1  {\"id\":2400549,\"name\":\"Euless\",\"slug\":\"euless-t...   \n",
       "2  {\"id\":2423474,\"name\":\"Hollywood\",\"slug\":\"holly...   \n",
       "3  {\"id\":475457,\"name\":\"Kaunas\",\"slug\":\"kaunas-ka...   \n",
       "4  {\"id\":2507703,\"name\":\"Traverse City\",\"slug\":\"t...   \n",
       "\n",
       "                                                name       state    category  \\\n",
       "0                           Babalus Children's Shoes        live     fashion   \n",
       "1                            The Ofrenda Oracle Deck  successful       games   \n",
       "2  Record Electra's Debut Album (Pop, Rock, Class...  successful       music   \n",
       "3                 The Mist of Tribunal - A Card Game      failed       games   \n",
       "4           Help change the face of Brain Impairment  successful  publishing   \n",
       "\n",
       "   delta_dead_laun  launch_day  launch_hour  \n",
       "0           1199.0           2            7  \n",
       "1            720.0           3           19  \n",
       "2            720.0           0            7  \n",
       "3           1439.0           3           19  \n",
       "4            720.0           0           21  "
      ]
     },
     "execution_count": 26,
     "metadata": {},
     "output_type": "execute_result"
    }
   ],
   "source": [
    "df['launch_day'] = launched_day\n",
    "df['launch_hour'] = launched_hour\n",
    "df.info()\n",
    "df.head()"
   ]
  },
  {
   "cell_type": "markdown",
   "metadata": {},
   "source": [
    "### blurb length and name length"
   ]
  },
  {
   "cell_type": "code",
   "execution_count": 28,
   "metadata": {},
   "outputs": [
    {
     "name": "stdout",
     "output_type": "stream",
     "text": [
      "<class 'pandas.core.frame.DataFrame'>\n",
      "RangeIndex: 209222 entries, 0 to 209221\n",
      "Data columns (total 14 columns):\n",
      " #   Column           Non-Null Count   Dtype  \n",
      "---  ------           --------------   -----  \n",
      " 0   blurb            209214 non-null  object \n",
      " 1   country          209222 non-null  object \n",
      " 2   deadline         209222 non-null  object \n",
      " 3   fx_rate          209222 non-null  float64\n",
      " 4   goal             209222 non-null  float64\n",
      " 5   launched_at      209222 non-null  object \n",
      " 6   location         208996 non-null  object \n",
      " 7   name             209222 non-null  object \n",
      " 8   state            209222 non-null  object \n",
      " 9   category         209222 non-null  object \n",
      " 10  delta_dead_laun  209222 non-null  float64\n",
      " 11  launch_day       209222 non-null  int64  \n",
      " 12  launch_hour      209222 non-null  int64  \n",
      " 13  name_len         209222 non-null  int64  \n",
      "dtypes: float64(3), int64(3), object(8)\n",
      "memory usage: 22.3+ MB\n"
     ]
    }
   ],
   "source": [
    "df.info()"
   ]
  },
  {
   "cell_type": "code",
   "execution_count": null,
   "metadata": {},
   "outputs": [],
   "source": [
    "# drop missing values for blurb\n"
   ]
  },
  {
   "cell_type": "code",
   "execution_count": 27,
   "metadata": {},
   "outputs": [
    {
     "ename": "TypeError",
     "evalue": "object of type 'float' has no len()",
     "output_type": "error",
     "traceback": [
      "\u001b[0;31m---------------------------------------------------------------------------\u001b[0m",
      "\u001b[0;31mTypeError\u001b[0m                                 Traceback (most recent call last)",
      "\u001b[0;32m/var/folders/7w/_kkcrrf15dbgp6_zhftm14v40000gn/T/ipykernel_15396/109289824.py\u001b[0m in \u001b[0;36m<module>\u001b[0;34m\u001b[0m\n\u001b[1;32m     10\u001b[0m \u001b[0mblurb_len\u001b[0m \u001b[0;34m=\u001b[0m \u001b[0;34m[\u001b[0m\u001b[0;34m]\u001b[0m\u001b[0;34m\u001b[0m\u001b[0;34m\u001b[0m\u001b[0m\n\u001b[1;32m     11\u001b[0m \u001b[0;32mfor\u001b[0m \u001b[0mlabel\u001b[0m\u001b[0;34m,\u001b[0m \u001b[0mcontent\u001b[0m \u001b[0;32min\u001b[0m \u001b[0mdf\u001b[0m\u001b[0;34m[\u001b[0m\u001b[0;34m'blurb'\u001b[0m\u001b[0;34m]\u001b[0m\u001b[0;34m.\u001b[0m\u001b[0miteritems\u001b[0m\u001b[0;34m(\u001b[0m\u001b[0;34m)\u001b[0m\u001b[0;34m:\u001b[0m\u001b[0;34m\u001b[0m\u001b[0;34m\u001b[0m\u001b[0m\n\u001b[0;32m---> 12\u001b[0;31m     \u001b[0mblurb_len\u001b[0m\u001b[0;34m.\u001b[0m\u001b[0mappend\u001b[0m\u001b[0;34m(\u001b[0m\u001b[0mlen\u001b[0m\u001b[0;34m(\u001b[0m\u001b[0mcontent\u001b[0m\u001b[0;34m)\u001b[0m\u001b[0;34m)\u001b[0m\u001b[0;34m\u001b[0m\u001b[0;34m\u001b[0m\u001b[0m\n\u001b[0m\u001b[1;32m     13\u001b[0m \u001b[0;34m\u001b[0m\u001b[0m\n\u001b[1;32m     14\u001b[0m \u001b[0mdf\u001b[0m\u001b[0;34m[\u001b[0m\u001b[0;34m'blurb_len'\u001b[0m\u001b[0;34m]\u001b[0m \u001b[0;34m=\u001b[0m \u001b[0mblurb_len\u001b[0m\u001b[0;34m\u001b[0m\u001b[0;34m\u001b[0m\u001b[0m\n",
      "\u001b[0;31mTypeError\u001b[0m: object of type 'float' has no len()"
     ]
    }
   ],
   "source": [
    "# calculate length of name\n",
    "name_len = []\n",
    "for label, content in df['name'].iteritems():\n",
    "    name_len.append(len(content))\n",
    "\n",
    "df['name_len'] = name_len\n",
    "\n",
    "\n",
    "# calculate length of blurb\n",
    "blurb_len = []\n",
    "for label, content in df['blurb'].iteritems():\n",
    "    blurb_len.append(len(content))\n",
    "\n",
    "df['blurb_len'] = blurb_len"
   ]
  },
  {
   "cell_type": "markdown",
   "metadata": {},
   "source": [
    "### Include only projects that were successful or failed"
   ]
  },
  {
   "cell_type": "code",
   "execution_count": null,
   "metadata": {},
   "outputs": [],
   "source": [
    "# convert 'state' to numerical\n",
    "# successful: 1\n",
    "# failed: 0\n",
    "# drop: live, suspended, canceled\n",
    "\n",
    "df = df.query('state != \"live\"')\n",
    "df = df.query('state != \"suspended\"')\n",
    "df = df.query('state != \"canceled\"')\n",
    "print(df['state'].unique()) # check that 'state' only contains failed and successful\n",
    "\n",
    "df['state'].replace({'failed':0, 'successful':1}, inplace=True)\n",
    "print(df['state'].unique()) # check that 'state' only contains 1 and 0"
   ]
  },
  {
   "cell_type": "code",
   "execution_count": null,
   "metadata": {},
   "outputs": [],
   "source": [
    "# plot frequency of success and failure\n",
    "\n",
    "sns.countplot(x='state', data=df)"
   ]
  }
 ],
 "metadata": {
  "interpreter": {
   "hash": "cbaf37d83a19e1b2581c71e29f60247c77efb6a13f584020ad679a19009e0051"
  },
  "kernelspec": {
   "display_name": "Python 3.9.4 64-bit ('.venv': venv)",
   "name": "python3"
  },
  "language_info": {
   "codemirror_mode": {
    "name": "ipython",
    "version": 3
   },
   "file_extension": ".py",
   "mimetype": "text/x-python",
   "name": "python",
   "nbconvert_exporter": "python",
   "pygments_lexer": "ipython3",
   "version": "3.9.4"
  },
  "orig_nbformat": 4
 },
 "nbformat": 4,
 "nbformat_minor": 2
}
