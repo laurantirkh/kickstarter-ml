{
 "cells": [
  {
   "cell_type": "code",
   "execution_count": 29,
   "metadata": {},
   "outputs": [],
   "source": [
    "import pandas as pd\n",
    "import numpy as np\n",
    "import seaborn as sns\n",
    "import matplotlib.pyplot as plt\n",
    "%matplotlib inline\n",
    "\n",
    "from sklearn.metrics import classification_report, confusion_matrix, f1_score, roc_auc_score\n",
    "from sklearn.model_selection import train_test_split, GridSearchCV\n",
    "from sklearn.tree import DecisionTreeClassifier\n",
    "from sklearn.svm import SVC\n",
    "from sklearn.ensemble import RandomForestClassifier\n"
   ]
  },
  {
   "cell_type": "code",
   "execution_count": 2,
   "metadata": {},
   "outputs": [],
   "source": [
    "df = pd.read_csv(\"data/df_eda2_cat.csv\")"
   ]
  },
  {
   "cell_type": "code",
   "execution_count": 3,
   "metadata": {},
   "outputs": [
    {
     "data": {
      "text/html": [
       "<div>\n",
       "<style scoped>\n",
       "    .dataframe tbody tr th:only-of-type {\n",
       "        vertical-align: middle;\n",
       "    }\n",
       "\n",
       "    .dataframe tbody tr th {\n",
       "        vertical-align: top;\n",
       "    }\n",
       "\n",
       "    .dataframe thead th {\n",
       "        text-align: right;\n",
       "    }\n",
       "</style>\n",
       "<table border=\"1\" class=\"dataframe\">\n",
       "  <thead>\n",
       "    <tr style=\"text-align: right;\">\n",
       "      <th></th>\n",
       "      <th>state</th>\n",
       "      <th>goal_usd_log</th>\n",
       "      <th>name_len</th>\n",
       "      <th>delta_dead_laun</th>\n",
       "      <th>AU</th>\n",
       "      <th>BE</th>\n",
       "      <th>CA</th>\n",
       "      <th>CH</th>\n",
       "      <th>DE</th>\n",
       "      <th>DK</th>\n",
       "      <th>...</th>\n",
       "      <th>\"slug\":\"technology/wearables\"</th>\n",
       "      <th>\"slug\":\"technology/web\"</th>\n",
       "      <th>\"slug\":\"theater\"</th>\n",
       "      <th>\"slug\":\"theater/comedy\"</th>\n",
       "      <th>\"slug\":\"theater/experimental\"</th>\n",
       "      <th>\"slug\":\"theater/festivals\"</th>\n",
       "      <th>\"slug\":\"theater/immersive\"</th>\n",
       "      <th>\"slug\":\"theater/musical\"</th>\n",
       "      <th>\"slug\":\"theater/plays\"</th>\n",
       "      <th>\"slug\":\"theater/spaces\"</th>\n",
       "    </tr>\n",
       "  </thead>\n",
       "  <tbody>\n",
       "    <tr>\n",
       "      <th>0</th>\n",
       "      <td>successful</td>\n",
       "      <td>6.907755</td>\n",
       "      <td>23</td>\n",
       "      <td>720.0</td>\n",
       "      <td>0</td>\n",
       "      <td>0</td>\n",
       "      <td>0</td>\n",
       "      <td>0</td>\n",
       "      <td>0</td>\n",
       "      <td>0</td>\n",
       "      <td>...</td>\n",
       "      <td>0</td>\n",
       "      <td>0</td>\n",
       "      <td>0</td>\n",
       "      <td>0</td>\n",
       "      <td>0</td>\n",
       "      <td>0</td>\n",
       "      <td>0</td>\n",
       "      <td>0</td>\n",
       "      <td>0</td>\n",
       "      <td>0</td>\n",
       "    </tr>\n",
       "    <tr>\n",
       "      <th>1</th>\n",
       "      <td>successful</td>\n",
       "      <td>9.615805</td>\n",
       "      <td>51</td>\n",
       "      <td>720.0</td>\n",
       "      <td>0</td>\n",
       "      <td>0</td>\n",
       "      <td>0</td>\n",
       "      <td>0</td>\n",
       "      <td>0</td>\n",
       "      <td>0</td>\n",
       "      <td>...</td>\n",
       "      <td>0</td>\n",
       "      <td>0</td>\n",
       "      <td>0</td>\n",
       "      <td>0</td>\n",
       "      <td>0</td>\n",
       "      <td>0</td>\n",
       "      <td>0</td>\n",
       "      <td>0</td>\n",
       "      <td>0</td>\n",
       "      <td>0</td>\n",
       "    </tr>\n",
       "    <tr>\n",
       "      <th>2</th>\n",
       "      <td>failed</td>\n",
       "      <td>9.479141</td>\n",
       "      <td>34</td>\n",
       "      <td>1439.0</td>\n",
       "      <td>0</td>\n",
       "      <td>0</td>\n",
       "      <td>0</td>\n",
       "      <td>0</td>\n",
       "      <td>0</td>\n",
       "      <td>0</td>\n",
       "      <td>...</td>\n",
       "      <td>0</td>\n",
       "      <td>0</td>\n",
       "      <td>0</td>\n",
       "      <td>0</td>\n",
       "      <td>0</td>\n",
       "      <td>0</td>\n",
       "      <td>0</td>\n",
       "      <td>0</td>\n",
       "      <td>0</td>\n",
       "      <td>0</td>\n",
       "    </tr>\n",
       "    <tr>\n",
       "      <th>3</th>\n",
       "      <td>successful</td>\n",
       "      <td>7.937375</td>\n",
       "      <td>40</td>\n",
       "      <td>720.0</td>\n",
       "      <td>0</td>\n",
       "      <td>0</td>\n",
       "      <td>0</td>\n",
       "      <td>0</td>\n",
       "      <td>0</td>\n",
       "      <td>0</td>\n",
       "      <td>...</td>\n",
       "      <td>0</td>\n",
       "      <td>0</td>\n",
       "      <td>0</td>\n",
       "      <td>0</td>\n",
       "      <td>0</td>\n",
       "      <td>0</td>\n",
       "      <td>0</td>\n",
       "      <td>0</td>\n",
       "      <td>0</td>\n",
       "      <td>0</td>\n",
       "    </tr>\n",
       "    <tr>\n",
       "      <th>4</th>\n",
       "      <td>successful</td>\n",
       "      <td>8.160518</td>\n",
       "      <td>31</td>\n",
       "      <td>720.0</td>\n",
       "      <td>0</td>\n",
       "      <td>0</td>\n",
       "      <td>0</td>\n",
       "      <td>0</td>\n",
       "      <td>0</td>\n",
       "      <td>0</td>\n",
       "      <td>...</td>\n",
       "      <td>0</td>\n",
       "      <td>0</td>\n",
       "      <td>0</td>\n",
       "      <td>0</td>\n",
       "      <td>0</td>\n",
       "      <td>0</td>\n",
       "      <td>0</td>\n",
       "      <td>0</td>\n",
       "      <td>0</td>\n",
       "      <td>0</td>\n",
       "    </tr>\n",
       "  </tbody>\n",
       "</table>\n",
       "<p>5 rows × 193 columns</p>\n",
       "</div>"
      ],
      "text/plain": [
       "        state  goal_usd_log  name_len  delta_dead_laun  AU  BE  CA  CH  DE  \\\n",
       "0  successful      6.907755        23            720.0   0   0   0   0   0   \n",
       "1  successful      9.615805        51            720.0   0   0   0   0   0   \n",
       "2      failed      9.479141        34           1439.0   0   0   0   0   0   \n",
       "3  successful      7.937375        40            720.0   0   0   0   0   0   \n",
       "4  successful      8.160518        31            720.0   0   0   0   0   0   \n",
       "\n",
       "   DK  ...  \"slug\":\"technology/wearables\"  \"slug\":\"technology/web\"  \\\n",
       "0   0  ...                              0                        0   \n",
       "1   0  ...                              0                        0   \n",
       "2   0  ...                              0                        0   \n",
       "3   0  ...                              0                        0   \n",
       "4   0  ...                              0                        0   \n",
       "\n",
       "   \"slug\":\"theater\"  \"slug\":\"theater/comedy\"  \"slug\":\"theater/experimental\"  \\\n",
       "0                 0                        0                              0   \n",
       "1                 0                        0                              0   \n",
       "2                 0                        0                              0   \n",
       "3                 0                        0                              0   \n",
       "4                 0                        0                              0   \n",
       "\n",
       "   \"slug\":\"theater/festivals\"  \"slug\":\"theater/immersive\"  \\\n",
       "0                           0                           0   \n",
       "1                           0                           0   \n",
       "2                           0                           0   \n",
       "3                           0                           0   \n",
       "4                           0                           0   \n",
       "\n",
       "   \"slug\":\"theater/musical\"  \"slug\":\"theater/plays\"  \"slug\":\"theater/spaces\"  \n",
       "0                         0                       0                        0  \n",
       "1                         0                       0                        0  \n",
       "2                         0                       0                        0  \n",
       "3                         0                       0                        0  \n",
       "4                         0                       0                        0  \n",
       "\n",
       "[5 rows x 193 columns]"
      ]
     },
     "execution_count": 3,
     "metadata": {},
     "output_type": "execute_result"
    }
   ],
   "source": [
    "df.head()"
   ]
  },
  {
   "cell_type": "code",
   "execution_count": 4,
   "metadata": {},
   "outputs": [],
   "source": [
    "# replace state values with 0s and 1s\n",
    "df['state'].replace(to_replace={'successful': 1, 'failed': 0}, inplace=True)"
   ]
  },
  {
   "cell_type": "code",
   "execution_count": 5,
   "metadata": {},
   "outputs": [
    {
     "data": {
      "text/html": [
       "<div>\n",
       "<style scoped>\n",
       "    .dataframe tbody tr th:only-of-type {\n",
       "        vertical-align: middle;\n",
       "    }\n",
       "\n",
       "    .dataframe tbody tr th {\n",
       "        vertical-align: top;\n",
       "    }\n",
       "\n",
       "    .dataframe thead th {\n",
       "        text-align: right;\n",
       "    }\n",
       "</style>\n",
       "<table border=\"1\" class=\"dataframe\">\n",
       "  <thead>\n",
       "    <tr style=\"text-align: right;\">\n",
       "      <th></th>\n",
       "      <th>state</th>\n",
       "      <th>goal_usd_log</th>\n",
       "      <th>name_len</th>\n",
       "      <th>delta_dead_laun</th>\n",
       "      <th>AU</th>\n",
       "      <th>BE</th>\n",
       "      <th>CA</th>\n",
       "      <th>CH</th>\n",
       "      <th>DE</th>\n",
       "      <th>DK</th>\n",
       "      <th>...</th>\n",
       "      <th>\"slug\":\"technology/wearables\"</th>\n",
       "      <th>\"slug\":\"technology/web\"</th>\n",
       "      <th>\"slug\":\"theater\"</th>\n",
       "      <th>\"slug\":\"theater/comedy\"</th>\n",
       "      <th>\"slug\":\"theater/experimental\"</th>\n",
       "      <th>\"slug\":\"theater/festivals\"</th>\n",
       "      <th>\"slug\":\"theater/immersive\"</th>\n",
       "      <th>\"slug\":\"theater/musical\"</th>\n",
       "      <th>\"slug\":\"theater/plays\"</th>\n",
       "      <th>\"slug\":\"theater/spaces\"</th>\n",
       "    </tr>\n",
       "  </thead>\n",
       "  <tbody>\n",
       "    <tr>\n",
       "      <th>0</th>\n",
       "      <td>1</td>\n",
       "      <td>6.907755</td>\n",
       "      <td>23</td>\n",
       "      <td>720.0</td>\n",
       "      <td>0</td>\n",
       "      <td>0</td>\n",
       "      <td>0</td>\n",
       "      <td>0</td>\n",
       "      <td>0</td>\n",
       "      <td>0</td>\n",
       "      <td>...</td>\n",
       "      <td>0</td>\n",
       "      <td>0</td>\n",
       "      <td>0</td>\n",
       "      <td>0</td>\n",
       "      <td>0</td>\n",
       "      <td>0</td>\n",
       "      <td>0</td>\n",
       "      <td>0</td>\n",
       "      <td>0</td>\n",
       "      <td>0</td>\n",
       "    </tr>\n",
       "    <tr>\n",
       "      <th>1</th>\n",
       "      <td>1</td>\n",
       "      <td>9.615805</td>\n",
       "      <td>51</td>\n",
       "      <td>720.0</td>\n",
       "      <td>0</td>\n",
       "      <td>0</td>\n",
       "      <td>0</td>\n",
       "      <td>0</td>\n",
       "      <td>0</td>\n",
       "      <td>0</td>\n",
       "      <td>...</td>\n",
       "      <td>0</td>\n",
       "      <td>0</td>\n",
       "      <td>0</td>\n",
       "      <td>0</td>\n",
       "      <td>0</td>\n",
       "      <td>0</td>\n",
       "      <td>0</td>\n",
       "      <td>0</td>\n",
       "      <td>0</td>\n",
       "      <td>0</td>\n",
       "    </tr>\n",
       "    <tr>\n",
       "      <th>2</th>\n",
       "      <td>0</td>\n",
       "      <td>9.479141</td>\n",
       "      <td>34</td>\n",
       "      <td>1439.0</td>\n",
       "      <td>0</td>\n",
       "      <td>0</td>\n",
       "      <td>0</td>\n",
       "      <td>0</td>\n",
       "      <td>0</td>\n",
       "      <td>0</td>\n",
       "      <td>...</td>\n",
       "      <td>0</td>\n",
       "      <td>0</td>\n",
       "      <td>0</td>\n",
       "      <td>0</td>\n",
       "      <td>0</td>\n",
       "      <td>0</td>\n",
       "      <td>0</td>\n",
       "      <td>0</td>\n",
       "      <td>0</td>\n",
       "      <td>0</td>\n",
       "    </tr>\n",
       "    <tr>\n",
       "      <th>3</th>\n",
       "      <td>1</td>\n",
       "      <td>7.937375</td>\n",
       "      <td>40</td>\n",
       "      <td>720.0</td>\n",
       "      <td>0</td>\n",
       "      <td>0</td>\n",
       "      <td>0</td>\n",
       "      <td>0</td>\n",
       "      <td>0</td>\n",
       "      <td>0</td>\n",
       "      <td>...</td>\n",
       "      <td>0</td>\n",
       "      <td>0</td>\n",
       "      <td>0</td>\n",
       "      <td>0</td>\n",
       "      <td>0</td>\n",
       "      <td>0</td>\n",
       "      <td>0</td>\n",
       "      <td>0</td>\n",
       "      <td>0</td>\n",
       "      <td>0</td>\n",
       "    </tr>\n",
       "    <tr>\n",
       "      <th>4</th>\n",
       "      <td>1</td>\n",
       "      <td>8.160518</td>\n",
       "      <td>31</td>\n",
       "      <td>720.0</td>\n",
       "      <td>0</td>\n",
       "      <td>0</td>\n",
       "      <td>0</td>\n",
       "      <td>0</td>\n",
       "      <td>0</td>\n",
       "      <td>0</td>\n",
       "      <td>...</td>\n",
       "      <td>0</td>\n",
       "      <td>0</td>\n",
       "      <td>0</td>\n",
       "      <td>0</td>\n",
       "      <td>0</td>\n",
       "      <td>0</td>\n",
       "      <td>0</td>\n",
       "      <td>0</td>\n",
       "      <td>0</td>\n",
       "      <td>0</td>\n",
       "    </tr>\n",
       "  </tbody>\n",
       "</table>\n",
       "<p>5 rows × 193 columns</p>\n",
       "</div>"
      ],
      "text/plain": [
       "   state  goal_usd_log  name_len  delta_dead_laun  AU  BE  CA  CH  DE  DK  \\\n",
       "0      1      6.907755        23            720.0   0   0   0   0   0   0   \n",
       "1      1      9.615805        51            720.0   0   0   0   0   0   0   \n",
       "2      0      9.479141        34           1439.0   0   0   0   0   0   0   \n",
       "3      1      7.937375        40            720.0   0   0   0   0   0   0   \n",
       "4      1      8.160518        31            720.0   0   0   0   0   0   0   \n",
       "\n",
       "   ...  \"slug\":\"technology/wearables\"  \"slug\":\"technology/web\"  \\\n",
       "0  ...                              0                        0   \n",
       "1  ...                              0                        0   \n",
       "2  ...                              0                        0   \n",
       "3  ...                              0                        0   \n",
       "4  ...                              0                        0   \n",
       "\n",
       "   \"slug\":\"theater\"  \"slug\":\"theater/comedy\"  \"slug\":\"theater/experimental\"  \\\n",
       "0                 0                        0                              0   \n",
       "1                 0                        0                              0   \n",
       "2                 0                        0                              0   \n",
       "3                 0                        0                              0   \n",
       "4                 0                        0                              0   \n",
       "\n",
       "   \"slug\":\"theater/festivals\"  \"slug\":\"theater/immersive\"  \\\n",
       "0                           0                           0   \n",
       "1                           0                           0   \n",
       "2                           0                           0   \n",
       "3                           0                           0   \n",
       "4                           0                           0   \n",
       "\n",
       "   \"slug\":\"theater/musical\"  \"slug\":\"theater/plays\"  \"slug\":\"theater/spaces\"  \n",
       "0                         0                       0                        0  \n",
       "1                         0                       0                        0  \n",
       "2                         0                       0                        0  \n",
       "3                         0                       0                        0  \n",
       "4                         0                       0                        0  \n",
       "\n",
       "[5 rows x 193 columns]"
      ]
     },
     "execution_count": 5,
     "metadata": {},
     "output_type": "execute_result"
    }
   ],
   "source": [
    "df.head()"
   ]
  },
  {
   "cell_type": "code",
   "execution_count": 6,
   "metadata": {},
   "outputs": [],
   "source": [
    "# define features and target\n",
    "X = df.drop('state', axis=1)\n",
    "y = df['state']"
   ]
  },
  {
   "cell_type": "code",
   "execution_count": 7,
   "metadata": {},
   "outputs": [],
   "source": [
    "# split the data\n",
    "X_train, X_test, y_train, y_test = train_test_split(X, y, random_state=42, test_size=0.3)"
   ]
  },
  {
   "cell_type": "code",
   "execution_count": 8,
   "metadata": {},
   "outputs": [],
   "source": [
    "def train(X_train, y_train, X_test, model):\n",
    "    model.fit(X_train, y_train)\n",
    "    y_pred = model.predict(X_test)\n",
    "    return y_pred"
   ]
  },
  {
   "cell_type": "code",
   "execution_count": 9,
   "metadata": {},
   "outputs": [],
   "source": [
    "def evaluate(y_true, y_pred):\n",
    "    print(classification_report(y_true, y_pred))\n",
    "    cm = confusion_matrix(y_true, y_pred, normalize='true')\n",
    "    sns.heatmap(cm, annot=True)"
   ]
  },
  {
   "cell_type": "code",
   "execution_count": 10,
   "metadata": {},
   "outputs": [],
   "source": [
    "# train DecistionTree\n",
    "tree = DecisionTreeClassifier()\n",
    "y_pred_tree = train(X_train, y_train, X_test, tree)"
   ]
  },
  {
   "cell_type": "code",
   "execution_count": 11,
   "metadata": {},
   "outputs": [
    {
     "name": "stdout",
     "output_type": "stream",
     "text": [
      "              precision    recall  f1-score   support\n",
      "\n",
      "           0       0.69      0.66      0.67     22082\n",
      "           1       0.79      0.81      0.80     34262\n",
      "\n",
      "    accuracy                           0.75     56344\n",
      "   macro avg       0.74      0.73      0.74     56344\n",
      "weighted avg       0.75      0.75      0.75     56344\n",
      "\n"
     ]
    },
    {
     "data": {
      "image/png": "[encoded data removed]",
      "text/plain": [
       "<Figure size 432x288 with 2 Axes>"
      ]
     },
     "metadata": {
      "needs_background": "light"
     },
     "output_type": "display_data"
    }
   ],
   "source": [
    "# evaluate tree\n",
    "evaluate(y_test, y_pred_tree)"
   ]
  },
  {
   "cell_type": "code",
   "execution_count": 37,
   "metadata": {},
   "outputs": [
    {
     "name": "stdout",
     "output_type": "stream",
     "text": [
      "depth: 142\n",
      "depth: 142\n"
     ]
    },
    {
     "data": {
      "text/plain": [
       "{'ccp_alpha': 0.0,\n",
       " 'class_weight': None,\n",
       " 'criterion': 'gini',\n",
       " 'max_depth': None,\n",
       " 'max_features': None,\n",
       " 'max_leaf_nodes': None,\n",
       " 'min_impurity_decrease': 0.0,\n",
       " 'min_samples_leaf': 1,\n",
       " 'min_samples_split': 2,\n",
       " 'min_weight_fraction_leaf': 0.0,\n",
       " 'random_state': None,\n",
       " 'splitter': 'best'}"
      ]
     },
     "execution_count": 37,
     "metadata": {},
     "output_type": "execute_result"
    }
   ],
   "source": [
    "# get parameter\n",
    "print(f'depth: {tree.get_depth()}')\n",
    "print(f'depth: {tree.get_depth()}')\n",
    "tree."
   ]
  },
  {
   "cell_type": "code",
   "execution_count": 27,
   "metadata": {},
   "outputs": [
    {
     "data": {
      "text/plain": [
       "0.7982595959160815"
      ]
     },
     "execution_count": 27,
     "metadata": {},
     "output_type": "execute_result"
    }
   ],
   "source": [
    "f1_score(y_test, y_pred_tree)"
   ]
  },
  {
   "cell_type": "code",
   "execution_count": 30,
   "metadata": {},
   "outputs": [
    {
     "data": {
      "text/plain": [
       "0.733946016802249"
      ]
     },
     "execution_count": 30,
     "metadata": {},
     "output_type": "execute_result"
    }
   ],
   "source": [
    "roc_auc_score(y_test, y_pred_tree)"
   ]
  },
  {
   "cell_type": "code",
   "execution_count": 14,
   "metadata": {},
   "outputs": [
    {
     "name": "stderr",
     "output_type": "stream",
     "text": [
      "/Users/laurenthartmann/neuefische/kickstarter-ml/.venv/lib/python3.9/site-packages/sklearn/svm/_base.py:284: ConvergenceWarning: Solver terminated early (max_iter=1000).  Consider pre-processing your data with StandardScaler or MinMaxScaler.\n",
      "  warnings.warn(\n"
     ]
    }
   ],
   "source": [
    "# train svm\n",
    "svm = SVC(max_iter=1000)\n",
    "y_pred_svm = train(X_train, y_train, X_test, svm)"
   ]
  },
  {
   "cell_type": "code",
   "execution_count": 15,
   "metadata": {},
   "outputs": [
    {
     "name": "stdout",
     "output_type": "stream",
     "text": [
      "              precision    recall  f1-score   support\n",
      "\n",
      "           0       0.55      0.23      0.32     22082\n",
      "           1       0.64      0.88      0.74     34262\n",
      "\n",
      "    accuracy                           0.62     56344\n",
      "   macro avg       0.59      0.55      0.53     56344\n",
      "weighted avg       0.60      0.62      0.58     56344\n",
      "\n"
     ]
    },
    {
     "data": {
      "image/png": "[encoded data removed]",
      "text/plain": [
       "<Figure size 432x288 with 2 Axes>"
      ]
     },
     "metadata": {
      "needs_background": "light"
     },
     "output_type": "display_data"
    }
   ],
   "source": [
    "# evaluate svm\n",
    "evaluate(y_test, y_pred_svm)"
   ]
  },
  {
   "cell_type": "code",
   "execution_count": 17,
   "metadata": {},
   "outputs": [],
   "source": [
    "# train random forest\n",
    "forest = RandomForestClassifier(max_depth=10)\n",
    "y_pred_forest = train(X_train, y_train, X_test, forest)"
   ]
  },
  {
   "cell_type": "code",
   "execution_count": 19,
   "metadata": {},
   "outputs": [
    {
     "name": "stdout",
     "output_type": "stream",
     "text": [
      "              precision    recall  f1-score   support\n",
      "\n",
      "           0       0.82      0.30      0.44     22082\n",
      "           1       0.68      0.96      0.80     34262\n",
      "\n",
      "    accuracy                           0.70     56344\n",
      "   macro avg       0.75      0.63      0.62     56344\n",
      "weighted avg       0.74      0.70      0.66     56344\n",
      "\n"
     ]
    },
    {
     "data": {
      "image/png": "[encoded data removed]",
      "text/plain": [
       "<Figure size 432x288 with 2 Axes>"
      ]
     },
     "metadata": {
      "needs_background": "light"
     },
     "output_type": "display_data"
    }
   ],
   "source": [
    "# evaluate random forest\n",
    "evaluate(y_test, y_pred_forest)"
   ]
  },
  {
   "cell_type": "code",
   "execution_count": 21,
   "metadata": {},
   "outputs": [],
   "source": [
    "# gridsearch with random forest\n",
    "forest_params = {\n",
    "    'n_estimators': [100, 200, 500],\n",
    "    'criterion': ['gini', 'entropy'],\n",
    "    'max_depth': [5, 10, 15, 20],\n",
    "    'min_samples_split': [50, 100, 200]\n",
    "}\n",
    "\n",
    "grid = GridSearchCV(forest, param_grid=forest_params, n_jobs=-1, cv=5, scoring='f1', verbose=2)"
   ]
  },
  {
   "cell_type": "code",
   "execution_count": 22,
   "metadata": {},
   "outputs": [
    {
     "name": "stdout",
     "output_type": "stream",
     "text": [
      "Fitting 5 folds for each of 72 candidates, totalling 360 fits\n",
      "[CV] END criterion=gini, max_depth=5, min_samples_split=50, n_estimators=100; total time=   9.3s\n",
      "[CV] END criterion=gini, max_depth=5, min_samples_split=50, n_estimators=100; total time=   9.4s\n",
      "[CV] END criterion=gini, max_depth=5, min_samples_split=50, n_estimators=100; total time=   9.4s\n",
      "[CV] END criterion=gini, max_depth=5, min_samples_split=50, n_estimators=100; total time=   9.5s\n",
      "[CV] END criterion=gini, max_depth=5, min_samples_split=50, n_estimators=100; total time=   9.6s\n",
      "[CV] END criterion=gini, max_depth=5, min_samples_split=50, n_estimators=200; total time=  16.5s\n",
      "[CV] END criterion=gini, max_depth=5, min_samples_split=50, n_estimators=200; total time=  16.6s\n",
      "[CV] END criterion=gini, max_depth=5, min_samples_split=50, n_estimators=200; total time=  16.8s\n",
      "[CV] END criterion=gini, max_depth=5, min_samples_split=50, n_estimators=200; total time=  16.4s\n",
      "[CV] END criterion=gini, max_depth=5, min_samples_split=50, n_estimators=200; total time=  16.4s\n",
      "[CV] END criterion=gini, max_depth=5, min_samples_split=100, n_estimators=100; total time=   9.0s\n",
      "[CV] END criterion=gini, max_depth=5, min_samples_split=100, n_estimators=100; total time=   8.3s\n",
      "[CV] END criterion=gini, max_depth=5, min_samples_split=100, n_estimators=100; total time=   8.5s\n",
      "[CV] END criterion=gini, max_depth=5, min_samples_split=100, n_estimators=100; total time=   8.7s\n",
      "[CV] END criterion=gini, max_depth=5, min_samples_split=100, n_estimators=100; total time=   8.0s\n",
      "[CV] END criterion=gini, max_depth=5, min_samples_split=50, n_estimators=500; total time=  39.2s\n",
      "[CV] END criterion=gini, max_depth=5, min_samples_split=50, n_estimators=500; total time=  39.7s\n",
      "[CV] END criterion=gini, max_depth=5, min_samples_split=50, n_estimators=500; total time=  40.0s\n",
      "[CV] END criterion=gini, max_depth=5, min_samples_split=100, n_estimators=200; total time=  16.3s\n",
      "[CV] END criterion=gini, max_depth=5, min_samples_split=100, n_estimators=200; total time=  16.4s\n",
      "[CV] END criterion=gini, max_depth=5, min_samples_split=50, n_estimators=500; total time=  39.4s\n",
      "[CV] END criterion=gini, max_depth=5, min_samples_split=50, n_estimators=500; total time=  39.5s\n",
      "[CV] END criterion=gini, max_depth=5, min_samples_split=100, n_estimators=200; total time=  16.7s\n",
      "[CV] END criterion=gini, max_depth=5, min_samples_split=100, n_estimators=200; total time=  16.2s\n",
      "[CV] END criterion=gini, max_depth=5, min_samples_split=100, n_estimators=200; total time=  16.0s\n",
      "[CV] END criterion=gini, max_depth=5, min_samples_split=200, n_estimators=100; total time=   8.8s\n",
      "[CV] END criterion=gini, max_depth=5, min_samples_split=200, n_estimators=100; total time=  10.3s\n",
      "[CV] END criterion=gini, max_depth=5, min_samples_split=200, n_estimators=100; total time=  10.8s\n",
      "[CV] END criterion=gini, max_depth=5, min_samples_split=200, n_estimators=100; total time=  10.0s\n",
      "[CV] END criterion=gini, max_depth=5, min_samples_split=200, n_estimators=100; total time=   9.0s\n",
      "[CV] END criterion=gini, max_depth=5, min_samples_split=100, n_estimators=500; total time=  41.2s\n",
      "[CV] END criterion=gini, max_depth=5, min_samples_split=200, n_estimators=200; total time=  16.4s\n",
      "[CV] END criterion=gini, max_depth=5, min_samples_split=100, n_estimators=500; total time=  41.4s\n",
      "[CV] END criterion=gini, max_depth=5, min_samples_split=100, n_estimators=500; total time=  41.8s\n",
      "[CV] END criterion=gini, max_depth=5, min_samples_split=200, n_estimators=200; total time=  16.2s\n",
      "[CV] END criterion=gini, max_depth=5, min_samples_split=100, n_estimators=500; total time=  41.2s\n",
      "[CV] END criterion=gini, max_depth=5, min_samples_split=100, n_estimators=500; total time=  41.4s\n",
      "[CV] END criterion=gini, max_depth=5, min_samples_split=200, n_estimators=200; total time=  15.5s\n",
      "[CV] END criterion=gini, max_depth=5, min_samples_split=200, n_estimators=200; total time=  15.6s\n",
      "[CV] END criterion=gini, max_depth=5, min_samples_split=200, n_estimators=200; total time=  15.3s\n",
      "[CV] END criterion=gini, max_depth=10, min_samples_split=50, n_estimators=100; total time=  13.9s\n",
      "[CV] END criterion=gini, max_depth=10, min_samples_split=50, n_estimators=100; total time=  14.0s\n",
      "[CV] END criterion=gini, max_depth=10, min_samples_split=50, n_estimators=100; total time=  14.2s\n",
      "[CV] END criterion=gini, max_depth=10, min_samples_split=50, n_estimators=100; total time=  14.0s\n",
      "[CV] END criterion=gini, max_depth=5, min_samples_split=200, n_estimators=500; total time=  37.6s\n",
      "[CV] END criterion=gini, max_depth=5, min_samples_split=200, n_estimators=500; total time=  37.6s\n",
      "[CV] END criterion=gini, max_depth=5, min_samples_split=200, n_estimators=500; total time=  37.0s\n",
      "[CV] END criterion=gini, max_depth=5, min_samples_split=200, n_estimators=500; total time=  37.2s\n",
      "[CV] END criterion=gini, max_depth=10, min_samples_split=50, n_estimators=100; total time=  14.0s\n",
      "[CV] END criterion=gini, max_depth=5, min_samples_split=200, n_estimators=500; total time=  37.5s\n",
      "[CV] END criterion=gini, max_depth=10, min_samples_split=50, n_estimators=200; total time=  28.0s\n",
      "[CV] END criterion=gini, max_depth=10, min_samples_split=50, n_estimators=200; total time=  28.1s\n",
      "[CV] END criterion=gini, max_depth=10, min_samples_split=50, n_estimators=200; total time=  27.4s\n",
      "[CV] END criterion=gini, max_depth=10, min_samples_split=50, n_estimators=200; total time=  27.8s\n",
      "[CV] END criterion=gini, max_depth=10, min_samples_split=50, n_estimators=200; total time=  28.5s\n",
      "[CV] END criterion=gini, max_depth=10, min_samples_split=100, n_estimators=100; total time=  14.7s\n",
      "[CV] END criterion=gini, max_depth=10, min_samples_split=100, n_estimators=100; total time=  14.6s\n",
      "[CV] END criterion=gini, max_depth=10, min_samples_split=100, n_estimators=100; total time=  14.6s\n",
      "[CV] END criterion=gini, max_depth=10, min_samples_split=100, n_estimators=100; total time=  14.7s\n",
      "[CV] END criterion=gini, max_depth=10, min_samples_split=100, n_estimators=100; total time=  14.7s\n",
      "[CV] END criterion=gini, max_depth=10, min_samples_split=100, n_estimators=200; total time=  28.6s\n",
      "[CV] END criterion=gini, max_depth=10, min_samples_split=50, n_estimators=500; total time= 1.2min\n",
      "[CV] END criterion=gini, max_depth=10, min_samples_split=50, n_estimators=500; total time= 1.2min\n",
      "[CV] END criterion=gini, max_depth=10, min_samples_split=50, n_estimators=500; total time= 1.2min\n",
      "[CV] END criterion=gini, max_depth=10, min_samples_split=100, n_estimators=200; total time=  27.6s\n",
      "[CV] END criterion=gini, max_depth=10, min_samples_split=100, n_estimators=200; total time=  27.9s\n",
      "[CV] END criterion=gini, max_depth=10, min_samples_split=50, n_estimators=500; total time= 1.2min\n",
      "[CV] END criterion=gini, max_depth=10, min_samples_split=50, n_estimators=500; total time= 1.1min\n",
      "[CV] END criterion=gini, max_depth=10, min_samples_split=100, n_estimators=200; total time=  27.9s\n",
      "[CV] END criterion=gini, max_depth=10, min_samples_split=100, n_estimators=200; total time=  28.2s\n",
      "[CV] END criterion=gini, max_depth=10, min_samples_split=200, n_estimators=100; total time=  14.5s\n",
      "[CV] END criterion=gini, max_depth=10, min_samples_split=200, n_estimators=100; total time=  14.4s\n",
      "[CV] END criterion=gini, max_depth=10, min_samples_split=200, n_estimators=100; total time=  14.4s\n",
      "[CV] END criterion=gini, max_depth=10, min_samples_split=200, n_estimators=100; total time=  14.3s\n",
      "[CV] END criterion=gini, max_depth=10, min_samples_split=200, n_estimators=100; total time=  14.1s\n",
      "[CV] END criterion=gini, max_depth=10, min_samples_split=100, n_estimators=500; total time= 1.2min\n",
      "[CV] END criterion=gini, max_depth=10, min_samples_split=100, n_estimators=500; total time= 1.2min\n",
      "[CV] END criterion=gini, max_depth=10, min_samples_split=200, n_estimators=200; total time=  28.1s\n",
      "[CV] END criterion=gini, max_depth=10, min_samples_split=200, n_estimators=200; total time=  28.3s\n",
      "[CV] END criterion=gini, max_depth=10, min_samples_split=100, n_estimators=500; total time= 1.1min\n",
      "[CV] END criterion=gini, max_depth=10, min_samples_split=100, n_estimators=500; total time= 1.2min\n",
      "[CV] END criterion=gini, max_depth=10, min_samples_split=200, n_estimators=200; total time=  27.8s\n",
      "[CV] END criterion=gini, max_depth=10, min_samples_split=100, n_estimators=500; total time= 1.2min\n",
      "[CV] END criterion=gini, max_depth=10, min_samples_split=200, n_estimators=200; total time=  27.7s\n",
      "[CV] END criterion=gini, max_depth=10, min_samples_split=200, n_estimators=200; total time=  27.9s\n",
      "[CV] END criterion=gini, max_depth=15, min_samples_split=50, n_estimators=100; total time=  21.5s\n",
      "[CV] END criterion=gini, max_depth=15, min_samples_split=50, n_estimators=100; total time=  21.5s\n",
      "[CV] END criterion=gini, max_depth=15, min_samples_split=50, n_estimators=100; total time=  21.4s\n",
      "[CV] END criterion=gini, max_depth=15, min_samples_split=50, n_estimators=100; total time=  22.1s\n",
      "[CV] END criterion=gini, max_depth=15, min_samples_split=50, n_estimators=100; total time=  21.5s\n",
      "[CV] END criterion=gini, max_depth=10, min_samples_split=200, n_estimators=500; total time= 1.2min\n",
      "[CV] END criterion=gini, max_depth=10, min_samples_split=200, n_estimators=500; total time= 1.2min\n",
      "[CV] END criterion=gini, max_depth=10, min_samples_split=200, n_estimators=500; total time= 1.2min\n",
      "[CV] END criterion=gini, max_depth=10, min_samples_split=200, n_estimators=500; total time= 1.2min\n",
      "[CV] END criterion=gini, max_depth=10, min_samples_split=200, n_estimators=500; total time= 1.2min\n",
      "[CV] END criterion=gini, max_depth=15, min_samples_split=50, n_estimators=200; total time=  45.1s\n",
      "[CV] END criterion=gini, max_depth=15, min_samples_split=50, n_estimators=200; total time=  49.3s\n",
      "[CV] END criterion=gini, max_depth=15, min_samples_split=50, n_estimators=200; total time=  50.4s\n",
      "[CV] END criterion=gini, max_depth=15, min_samples_split=50, n_estimators=200; total time=  51.5s\n",
      "[CV] END criterion=gini, max_depth=15, min_samples_split=50, n_estimators=200; total time=  51.9s\n",
      "[CV] END criterion=gini, max_depth=15, min_samples_split=100, n_estimators=100; total time=  24.3s\n",
      "[CV] END criterion=gini, max_depth=15, min_samples_split=100, n_estimators=100; total time=  24.3s\n",
      "[CV] END criterion=gini, max_depth=15, min_samples_split=100, n_estimators=100; total time=  24.4s\n",
      "[CV] END criterion=gini, max_depth=15, min_samples_split=100, n_estimators=100; total time=  24.1s\n",
      "[CV] END criterion=gini, max_depth=15, min_samples_split=100, n_estimators=100; total time=  24.8s\n",
      "[CV] END criterion=gini, max_depth=15, min_samples_split=50, n_estimators=500; total time= 2.2min\n",
      "[CV] END criterion=gini, max_depth=15, min_samples_split=50, n_estimators=500; total time= 2.2min\n",
      "[CV] END criterion=gini, max_depth=15, min_samples_split=100, n_estimators=200; total time=  56.0s\n",
      "[CV] END criterion=gini, max_depth=15, min_samples_split=50, n_estimators=500; total time= 2.2min\n",
      "[CV] END criterion=gini, max_depth=15, min_samples_split=50, n_estimators=500; total time= 2.2min\n",
      "[CV] END criterion=gini, max_depth=15, min_samples_split=100, n_estimators=200; total time=  57.3s\n",
      "[CV] END criterion=gini, max_depth=15, min_samples_split=100, n_estimators=200; total time=  57.5s\n",
      "[CV] END criterion=gini, max_depth=15, min_samples_split=50, n_estimators=500; total time= 2.2min\n",
      "[CV] END criterion=gini, max_depth=15, min_samples_split=200, n_estimators=100; total time=  23.6s\n",
      "[CV] END criterion=gini, max_depth=15, min_samples_split=100, n_estimators=200; total time=  50.2s\n",
      "[CV] END criterion=gini, max_depth=15, min_samples_split=100, n_estimators=200; total time=  50.3s\n",
      "[CV] END criterion=gini, max_depth=15, min_samples_split=200, n_estimators=100; total time=  23.0s\n",
      "[CV] END criterion=gini, max_depth=15, min_samples_split=200, n_estimators=100; total time=  23.7s\n",
      "[CV] END criterion=gini, max_depth=15, min_samples_split=200, n_estimators=100; total time=  24.1s\n",
      "[CV] END criterion=gini, max_depth=15, min_samples_split=200, n_estimators=100; total time=  23.5s\n",
      "[CV] END criterion=gini, max_depth=15, min_samples_split=100, n_estimators=500; total time= 2.0min\n",
      "[CV] END criterion=gini, max_depth=15, min_samples_split=200, n_estimators=200; total time=  46.0s\n",
      "[CV] END criterion=gini, max_depth=15, min_samples_split=200, n_estimators=200; total time=  45.4s\n",
      "[CV] END criterion=gini, max_depth=15, min_samples_split=100, n_estimators=500; total time= 1.9min\n",
      "[CV] END criterion=gini, max_depth=15, min_samples_split=100, n_estimators=500; total time= 2.0min\n",
      "[CV] END criterion=gini, max_depth=15, min_samples_split=100, n_estimators=500; total time= 2.0min\n",
      "[CV] END criterion=gini, max_depth=15, min_samples_split=100, n_estimators=500; total time= 1.9min\n",
      "[CV] END criterion=gini, max_depth=15, min_samples_split=200, n_estimators=200; total time=  48.5s\n",
      "[CV] END criterion=gini, max_depth=15, min_samples_split=200, n_estimators=200; total time=  49.2s\n",
      "[CV] END criterion=gini, max_depth=15, min_samples_split=200, n_estimators=200; total time=  48.9s\n",
      "[CV] END criterion=gini, max_depth=20, min_samples_split=50, n_estimators=100; total time=  31.5s\n",
      "[CV] END criterion=gini, max_depth=20, min_samples_split=50, n_estimators=100; total time=  31.9s\n",
      "[CV] END criterion=gini, max_depth=20, min_samples_split=50, n_estimators=100; total time=  31.9s\n",
      "[CV] END criterion=gini, max_depth=20, min_samples_split=50, n_estimators=100; total time=  31.4s\n",
      "[CV] END criterion=gini, max_depth=20, min_samples_split=50, n_estimators=100; total time=  31.6s\n",
      "[CV] END criterion=gini, max_depth=15, min_samples_split=200, n_estimators=500; total time= 2.0min\n",
      "[CV] END criterion=gini, max_depth=15, min_samples_split=200, n_estimators=500; total time= 2.0min\n",
      "[CV] END criterion=gini, max_depth=15, min_samples_split=200, n_estimators=500; total time= 1.9min\n",
      "[CV] END criterion=gini, max_depth=15, min_samples_split=200, n_estimators=500; total time= 1.9min\n",
      "[CV] END criterion=gini, max_depth=15, min_samples_split=200, n_estimators=500; total time= 1.9min\n",
      "[CV] END criterion=gini, max_depth=20, min_samples_split=50, n_estimators=200; total time= 1.1min\n",
      "[CV] END criterion=gini, max_depth=20, min_samples_split=50, n_estimators=200; total time= 1.0min\n",
      "[CV] END criterion=gini, max_depth=20, min_samples_split=50, n_estimators=200; total time= 1.1min\n",
      "[CV] END criterion=gini, max_depth=20, min_samples_split=50, n_estimators=200; total time= 1.1min\n",
      "[CV] END criterion=gini, max_depth=20, min_samples_split=50, n_estimators=200; total time= 1.1min\n",
      "[CV] END criterion=gini, max_depth=20, min_samples_split=100, n_estimators=100; total time=  33.2s\n",
      "[CV] END criterion=gini, max_depth=20, min_samples_split=100, n_estimators=100; total time=  33.6s\n",
      "[CV] END criterion=gini, max_depth=20, min_samples_split=100, n_estimators=100; total time=  33.7s\n",
      "[CV] END criterion=gini, max_depth=20, min_samples_split=100, n_estimators=100; total time=  35.8s\n",
      "[CV] END criterion=gini, max_depth=20, min_samples_split=100, n_estimators=100; total time=  35.6s\n",
      "[CV] END criterion=gini, max_depth=20, min_samples_split=100, n_estimators=200; total time= 1.1min\n",
      "[CV] END criterion=gini, max_depth=20, min_samples_split=50, n_estimators=500; total time= 2.7min\n",
      "[CV] END criterion=gini, max_depth=20, min_samples_split=50, n_estimators=500; total time= 2.7min\n",
      "[CV] END criterion=gini, max_depth=20, min_samples_split=50, n_estimators=500; total time= 2.7min\n",
      "[CV] END criterion=gini, max_depth=20, min_samples_split=50, n_estimators=500; total time= 2.7min\n",
      "[CV] END criterion=gini, max_depth=20, min_samples_split=100, n_estimators=200; total time= 1.1min\n",
      "[CV] END criterion=gini, max_depth=20, min_samples_split=50, n_estimators=500; total time= 2.7min\n",
      "[CV] END criterion=gini, max_depth=20, min_samples_split=100, n_estimators=200; total time= 1.1min\n",
      "[CV] END criterion=gini, max_depth=20, min_samples_split=100, n_estimators=200; total time= 1.0min\n",
      "[CV] END criterion=gini, max_depth=20, min_samples_split=200, n_estimators=100; total time=  32.5s\n",
      "[CV] END criterion=gini, max_depth=20, min_samples_split=100, n_estimators=200; total time= 1.1min\n",
      "[CV] END criterion=gini, max_depth=20, min_samples_split=200, n_estimators=100; total time=  31.8s\n",
      "[CV] END criterion=gini, max_depth=20, min_samples_split=200, n_estimators=100; total time=  32.6s\n",
      "[CV] END criterion=gini, max_depth=20, min_samples_split=200, n_estimators=100; total time=  32.3s\n",
      "[CV] END criterion=gini, max_depth=20, min_samples_split=200, n_estimators=100; total time=  31.8s\n",
      "[CV] END criterion=gini, max_depth=20, min_samples_split=200, n_estimators=200; total time= 1.1min\n",
      "[CV] END criterion=gini, max_depth=20, min_samples_split=200, n_estimators=200; total time= 1.1min\n",
      "[CV] END criterion=gini, max_depth=20, min_samples_split=100, n_estimators=500; total time= 2.6min\n",
      "[CV] END criterion=gini, max_depth=20, min_samples_split=100, n_estimators=500; total time= 2.6min\n",
      "[CV] END criterion=gini, max_depth=20, min_samples_split=100, n_estimators=500; total time= 2.6min\n",
      "[CV] END criterion=gini, max_depth=20, min_samples_split=100, n_estimators=500; total time= 2.6min\n",
      "[CV] END criterion=gini, max_depth=20, min_samples_split=100, n_estimators=500; total time= 2.6min\n",
      "[CV] END criterion=gini, max_depth=20, min_samples_split=200, n_estimators=200; total time= 1.0min\n",
      "[CV] END criterion=entropy, max_depth=5, min_samples_split=50, n_estimators=100; total time=   9.5s\n",
      "[CV] END criterion=entropy, max_depth=5, min_samples_split=50, n_estimators=100; total time=   9.7s\n",
      "[CV] END criterion=entropy, max_depth=5, min_samples_split=50, n_estimators=100; total time=   9.5s\n",
      "[CV] END criterion=gini, max_depth=20, min_samples_split=200, n_estimators=200; total time= 1.0min\n",
      "[CV] END criterion=entropy, max_depth=5, min_samples_split=50, n_estimators=100; total time=   9.3s\n",
      "[CV] END criterion=gini, max_depth=20, min_samples_split=200, n_estimators=200; total time= 1.0min\n",
      "[CV] END criterion=entropy, max_depth=5, min_samples_split=50, n_estimators=100; total time=   9.3s\n",
      "[CV] END criterion=entropy, max_depth=5, min_samples_split=50, n_estimators=200; total time=  19.5s\n",
      "[CV] END criterion=entropy, max_depth=5, min_samples_split=50, n_estimators=200; total time=  19.6s\n",
      "[CV] END criterion=entropy, max_depth=5, min_samples_split=50, n_estimators=200; total time=  20.0s\n",
      "[CV] END criterion=entropy, max_depth=5, min_samples_split=50, n_estimators=200; total time=  17.3s\n",
      "[CV] END criterion=entropy, max_depth=5, min_samples_split=50, n_estimators=200; total time=  17.5s\n",
      "[CV] END criterion=entropy, max_depth=5, min_samples_split=50, n_estimators=500; total time=  42.4s\n",
      "[CV] END criterion=entropy, max_depth=5, min_samples_split=50, n_estimators=500; total time=  41.7s\n",
      "[CV] END criterion=entropy, max_depth=5, min_samples_split=50, n_estimators=500; total time=  42.5s\n",
      "[CV] END criterion=gini, max_depth=20, min_samples_split=200, n_estimators=500; total time= 2.5min\n",
      "[CV] END criterion=gini, max_depth=20, min_samples_split=200, n_estimators=500; total time= 2.5min\n",
      "[CV] END criterion=entropy, max_depth=5, min_samples_split=100, n_estimators=100; total time=   8.8s\n",
      "[CV] END criterion=entropy, max_depth=5, min_samples_split=100, n_estimators=100; total time=   8.5s\n",
      "[CV] END criterion=entropy, max_depth=5, min_samples_split=100, n_estimators=100; total time=   8.4s\n",
      "[CV] END criterion=entropy, max_depth=5, min_samples_split=100, n_estimators=100; total time=   8.3s\n",
      "[CV] END criterion=gini, max_depth=20, min_samples_split=200, n_estimators=500; total time= 2.5min\n",
      "[CV] END criterion=gini, max_depth=20, min_samples_split=200, n_estimators=500; total time= 2.5min\n",
      "[CV] END criterion=gini, max_depth=20, min_samples_split=200, n_estimators=500; total time= 2.4min\n",
      "[CV] END criterion=entropy, max_depth=5, min_samples_split=100, n_estimators=100; total time=   8.1s\n",
      "[CV] END criterion=entropy, max_depth=5, min_samples_split=50, n_estimators=500; total time=  40.5s\n",
      "[CV] END criterion=entropy, max_depth=5, min_samples_split=100, n_estimators=200; total time=  15.9s\n",
      "[CV] END criterion=entropy, max_depth=5, min_samples_split=100, n_estimators=200; total time=  16.0s\n",
      "[CV] END criterion=entropy, max_depth=5, min_samples_split=100, n_estimators=200; total time=  16.0s\n",
      "[CV] END criterion=entropy, max_depth=5, min_samples_split=100, n_estimators=200; total time=  16.1s\n",
      "[CV] END criterion=entropy, max_depth=5, min_samples_split=50, n_estimators=500; total time=  38.9s\n",
      "[CV] END criterion=entropy, max_depth=5, min_samples_split=100, n_estimators=200; total time=  15.9s\n",
      "[CV] END criterion=entropy, max_depth=5, min_samples_split=200, n_estimators=100; total time=   8.2s\n",
      "[CV] END criterion=entropy, max_depth=5, min_samples_split=200, n_estimators=100; total time=   8.4s\n",
      "[CV] END criterion=entropy, max_depth=5, min_samples_split=200, n_estimators=100; total time=   8.3s\n",
      "[CV] END criterion=entropy, max_depth=5, min_samples_split=200, n_estimators=100; total time=   8.1s\n",
      "[CV] END criterion=entropy, max_depth=5, min_samples_split=200, n_estimators=100; total time=   8.2s\n",
      "[CV] END criterion=entropy, max_depth=5, min_samples_split=100, n_estimators=500; total time=  38.3s\n",
      "[CV] END criterion=entropy, max_depth=5, min_samples_split=100, n_estimators=500; total time=  37.9s\n",
      "[CV] END criterion=entropy, max_depth=5, min_samples_split=200, n_estimators=200; total time=  15.7s\n",
      "[CV] END criterion=entropy, max_depth=5, min_samples_split=200, n_estimators=200; total time=  15.8s\n",
      "[CV] END criterion=entropy, max_depth=5, min_samples_split=100, n_estimators=500; total time=  37.6s\n",
      "[CV] END criterion=entropy, max_depth=5, min_samples_split=200, n_estimators=200; total time=  16.0s\n",
      "[CV] END criterion=entropy, max_depth=5, min_samples_split=100, n_estimators=500; total time=  37.9s\n",
      "[CV] END criterion=entropy, max_depth=5, min_samples_split=100, n_estimators=500; total time=  38.0s\n",
      "[CV] END criterion=entropy, max_depth=5, min_samples_split=200, n_estimators=200; total time=  15.6s\n",
      "[CV] END criterion=entropy, max_depth=5, min_samples_split=200, n_estimators=200; total time=  15.5s\n",
      "[CV] END criterion=entropy, max_depth=10, min_samples_split=50, n_estimators=100; total time=  13.9s\n",
      "[CV] END criterion=entropy, max_depth=10, min_samples_split=50, n_estimators=100; total time=  14.4s\n",
      "[CV] END criterion=entropy, max_depth=10, min_samples_split=50, n_estimators=100; total time=  13.7s\n",
      "[CV] END criterion=entropy, max_depth=10, min_samples_split=50, n_estimators=100; total time=  14.4s\n",
      "[CV] END criterion=entropy, max_depth=5, min_samples_split=200, n_estimators=500; total time=  38.3s\n",
      "[CV] END criterion=entropy, max_depth=10, min_samples_split=50, n_estimators=100; total time=  14.2s\n",
      "[CV] END criterion=entropy, max_depth=5, min_samples_split=200, n_estimators=500; total time=  38.1s\n",
      "[CV] END criterion=entropy, max_depth=5, min_samples_split=200, n_estimators=500; total time=  38.3s\n",
      "[CV] END criterion=entropy, max_depth=5, min_samples_split=200, n_estimators=500; total time=  38.3s\n",
      "[CV] END criterion=entropy, max_depth=5, min_samples_split=200, n_estimators=500; total time=  38.1s\n",
      "[CV] END criterion=entropy, max_depth=10, min_samples_split=50, n_estimators=200; total time=  28.6s\n",
      "[CV] END criterion=entropy, max_depth=10, min_samples_split=50, n_estimators=200; total time=  28.8s\n",
      "[CV] END criterion=entropy, max_depth=10, min_samples_split=50, n_estimators=200; total time=  28.5s\n",
      "[CV] END criterion=entropy, max_depth=10, min_samples_split=50, n_estimators=200; total time=  28.3s\n",
      "[CV] END criterion=entropy, max_depth=10, min_samples_split=50, n_estimators=200; total time=  28.9s\n",
      "[CV] END criterion=entropy, max_depth=10, min_samples_split=100, n_estimators=100; total time=  14.6s\n",
      "[CV] END criterion=entropy, max_depth=10, min_samples_split=100, n_estimators=100; total time=  15.0s\n",
      "[CV] END criterion=entropy, max_depth=10, min_samples_split=100, n_estimators=100; total time=  14.9s\n",
      "[CV] END criterion=entropy, max_depth=10, min_samples_split=100, n_estimators=100; total time=  14.7s\n",
      "[CV] END criterion=entropy, max_depth=10, min_samples_split=100, n_estimators=100; total time=  14.8s\n",
      "[CV] END criterion=entropy, max_depth=10, min_samples_split=50, n_estimators=500; total time= 1.2min\n",
      "[CV] END criterion=entropy, max_depth=10, min_samples_split=100, n_estimators=200; total time=  28.4s\n",
      "[CV] END criterion=entropy, max_depth=10, min_samples_split=50, n_estimators=500; total time= 1.2min\n",
      "[CV] END criterion=entropy, max_depth=10, min_samples_split=50, n_estimators=500; total time= 1.2min\n",
      "[CV] END criterion=entropy, max_depth=10, min_samples_split=100, n_estimators=200; total time=  28.6s\n",
      "[CV] END criterion=entropy, max_depth=10, min_samples_split=50, n_estimators=500; total time= 1.2min\n",
      "[CV] END criterion=entropy, max_depth=10, min_samples_split=100, n_estimators=200; total time=  28.4s\n",
      "[CV] END criterion=entropy, max_depth=10, min_samples_split=50, n_estimators=500; total time= 1.2min\n",
      "[CV] END criterion=entropy, max_depth=10, min_samples_split=100, n_estimators=200; total time=  28.3s\n",
      "[CV] END criterion=entropy, max_depth=10, min_samples_split=100, n_estimators=200; total time=  28.9s\n",
      "[CV] END criterion=entropy, max_depth=10, min_samples_split=200, n_estimators=100; total time=  14.7s\n",
      "[CV] END criterion=entropy, max_depth=10, min_samples_split=200, n_estimators=100; total time=  15.0s\n",
      "[CV] END criterion=entropy, max_depth=10, min_samples_split=200, n_estimators=100; total time=  15.0s\n",
      "[CV] END criterion=entropy, max_depth=10, min_samples_split=200, n_estimators=100; total time=  14.8s\n",
      "[CV] END criterion=entropy, max_depth=10, min_samples_split=200, n_estimators=100; total time=  14.8s\n",
      "[CV] END criterion=entropy, max_depth=10, min_samples_split=100, n_estimators=500; total time= 1.2min\n",
      "[CV] END criterion=entropy, max_depth=10, min_samples_split=100, n_estimators=500; total time= 1.2min\n",
      "[CV] END criterion=entropy, max_depth=10, min_samples_split=200, n_estimators=200; total time=  28.9s\n",
      "[CV] END criterion=entropy, max_depth=10, min_samples_split=200, n_estimators=200; total time=  28.5s\n",
      "[CV] END criterion=entropy, max_depth=10, min_samples_split=100, n_estimators=500; total time= 1.2min\n",
      "[CV] END criterion=entropy, max_depth=10, min_samples_split=100, n_estimators=500; total time= 1.2min\n",
      "[CV] END criterion=entropy, max_depth=10, min_samples_split=100, n_estimators=500; total time= 1.2min\n",
      "[CV] END criterion=entropy, max_depth=10, min_samples_split=200, n_estimators=200; total time=  28.4s\n",
      "[CV] END criterion=entropy, max_depth=10, min_samples_split=200, n_estimators=200; total time=  29.7s\n",
      "[CV] END criterion=entropy, max_depth=10, min_samples_split=200, n_estimators=200; total time=  30.2s\n",
      "[CV] END criterion=entropy, max_depth=15, min_samples_split=50, n_estimators=100; total time=  23.1s\n",
      "[CV] END criterion=entropy, max_depth=15, min_samples_split=50, n_estimators=100; total time=  22.7s\n",
      "[CV] END criterion=entropy, max_depth=15, min_samples_split=50, n_estimators=100; total time=  22.3s\n",
      "[CV] END criterion=entropy, max_depth=15, min_samples_split=50, n_estimators=100; total time=  21.9s\n",
      "[CV] END criterion=entropy, max_depth=15, min_samples_split=50, n_estimators=100; total time=  21.6s\n",
      "[CV] END criterion=entropy, max_depth=10, min_samples_split=200, n_estimators=500; total time= 1.2min\n",
      "[CV] END criterion=entropy, max_depth=10, min_samples_split=200, n_estimators=500; total time= 1.2min\n",
      "[CV] END criterion=entropy, max_depth=10, min_samples_split=200, n_estimators=500; total time= 1.2min\n",
      "[CV] END criterion=entropy, max_depth=10, min_samples_split=200, n_estimators=500; total time= 1.2min\n",
      "[CV] END criterion=entropy, max_depth=10, min_samples_split=200, n_estimators=500; total time= 1.2min\n",
      "[CV] END criterion=entropy, max_depth=15, min_samples_split=50, n_estimators=200; total time=  43.7s\n",
      "[CV] END criterion=entropy, max_depth=15, min_samples_split=50, n_estimators=200; total time=  44.0s\n",
      "[CV] END criterion=entropy, max_depth=15, min_samples_split=50, n_estimators=200; total time=  44.3s\n",
      "[CV] END criterion=entropy, max_depth=15, min_samples_split=50, n_estimators=200; total time=  45.1s\n",
      "[CV] END criterion=entropy, max_depth=15, min_samples_split=50, n_estimators=200; total time=  44.9s\n",
      "[CV] END criterion=entropy, max_depth=15, min_samples_split=100, n_estimators=100; total time=  22.6s\n",
      "[CV] END criterion=entropy, max_depth=15, min_samples_split=100, n_estimators=100; total time=  22.6s\n",
      "[CV] END criterion=entropy, max_depth=15, min_samples_split=100, n_estimators=100; total time=  22.4s\n",
      "[CV] END criterion=entropy, max_depth=15, min_samples_split=100, n_estimators=100; total time=  22.7s\n",
      "[CV] END criterion=entropy, max_depth=15, min_samples_split=100, n_estimators=100; total time=  23.0s\n",
      "[CV] END criterion=entropy, max_depth=15, min_samples_split=100, n_estimators=200; total time=  44.0s\n",
      "[CV] END criterion=entropy, max_depth=15, min_samples_split=50, n_estimators=500; total time= 1.9min\n",
      "[CV] END criterion=entropy, max_depth=15, min_samples_split=50, n_estimators=500; total time= 1.8min\n",
      "[CV] END criterion=entropy, max_depth=15, min_samples_split=50, n_estimators=500; total time= 1.8min\n",
      "[CV] END criterion=entropy, max_depth=15, min_samples_split=50, n_estimators=500; total time= 1.8min\n",
      "[CV] END criterion=entropy, max_depth=15, min_samples_split=100, n_estimators=200; total time=  43.4s\n",
      "[CV] END criterion=entropy, max_depth=15, min_samples_split=100, n_estimators=200; total time=  43.4s\n",
      "[CV] END criterion=entropy, max_depth=15, min_samples_split=50, n_estimators=500; total time= 1.8min\n",
      "[CV] END criterion=entropy, max_depth=15, min_samples_split=200, n_estimators=100; total time=  22.7s\n",
      "[CV] END criterion=entropy, max_depth=15, min_samples_split=100, n_estimators=200; total time=  44.6s\n",
      "[CV] END criterion=entropy, max_depth=15, min_samples_split=100, n_estimators=200; total time=  44.6s\n",
      "[CV] END criterion=entropy, max_depth=15, min_samples_split=200, n_estimators=100; total time=  22.5s\n",
      "[CV] END criterion=entropy, max_depth=15, min_samples_split=200, n_estimators=100; total time=  22.3s\n",
      "[CV] END criterion=entropy, max_depth=15, min_samples_split=200, n_estimators=100; total time=  22.5s\n",
      "[CV] END criterion=entropy, max_depth=15, min_samples_split=200, n_estimators=100; total time=  22.9s\n",
      "[CV] END criterion=entropy, max_depth=15, min_samples_split=200, n_estimators=200; total time=  44.3s\n",
      "[CV] END criterion=entropy, max_depth=15, min_samples_split=200, n_estimators=200; total time=  45.1s\n",
      "[CV] END criterion=entropy, max_depth=15, min_samples_split=100, n_estimators=500; total time= 1.9min\n",
      "[CV] END criterion=entropy, max_depth=15, min_samples_split=100, n_estimators=500; total time= 1.9min\n",
      "[CV] END criterion=entropy, max_depth=15, min_samples_split=100, n_estimators=500; total time= 1.8min\n",
      "[CV] END criterion=entropy, max_depth=15, min_samples_split=100, n_estimators=500; total time= 1.9min\n",
      "[CV] END criterion=entropy, max_depth=15, min_samples_split=100, n_estimators=500; total time= 1.8min\n",
      "[CV] END criterion=entropy, max_depth=15, min_samples_split=200, n_estimators=200; total time=  44.2s\n",
      "[CV] END criterion=entropy, max_depth=15, min_samples_split=200, n_estimators=200; total time=  45.0s\n",
      "[CV] END criterion=entropy, max_depth=15, min_samples_split=200, n_estimators=200; total time=  44.7s\n",
      "[CV] END criterion=entropy, max_depth=20, min_samples_split=50, n_estimators=100; total time=  29.7s\n",
      "[CV] END criterion=entropy, max_depth=20, min_samples_split=50, n_estimators=100; total time=  30.2s\n",
      "[CV] END criterion=entropy, max_depth=20, min_samples_split=50, n_estimators=100; total time=  30.1s\n",
      "[CV] END criterion=entropy, max_depth=20, min_samples_split=50, n_estimators=100; total time=  30.3s\n",
      "[CV] END criterion=entropy, max_depth=20, min_samples_split=50, n_estimators=100; total time=  30.0s\n",
      "[CV] END criterion=entropy, max_depth=15, min_samples_split=200, n_estimators=500; total time= 1.9min\n",
      "[CV] END criterion=entropy, max_depth=15, min_samples_split=200, n_estimators=500; total time= 1.9min\n",
      "[CV] END criterion=entropy, max_depth=15, min_samples_split=200, n_estimators=500; total time= 1.9min\n",
      "[CV] END criterion=entropy, max_depth=15, min_samples_split=200, n_estimators=500; total time= 1.9min\n",
      "[CV] END criterion=entropy, max_depth=15, min_samples_split=200, n_estimators=500; total time= 1.9min\n",
      "[CV] END criterion=entropy, max_depth=20, min_samples_split=50, n_estimators=200; total time= 1.1min\n",
      "[CV] END criterion=entropy, max_depth=20, min_samples_split=50, n_estimators=200; total time= 1.1min\n",
      "[CV] END criterion=entropy, max_depth=20, min_samples_split=50, n_estimators=200; total time= 1.2min\n",
      "[CV] END criterion=entropy, max_depth=20, min_samples_split=50, n_estimators=200; total time= 1.1min\n",
      "[CV] END criterion=entropy, max_depth=20, min_samples_split=50, n_estimators=200; total time= 1.1min\n",
      "[CV] END criterion=entropy, max_depth=20, min_samples_split=100, n_estimators=100; total time=  32.4s\n",
      "[CV] END criterion=entropy, max_depth=20, min_samples_split=100, n_estimators=100; total time=  32.3s\n",
      "[CV] END criterion=entropy, max_depth=20, min_samples_split=100, n_estimators=100; total time=  31.8s\n",
      "[CV] END criterion=entropy, max_depth=20, min_samples_split=100, n_estimators=100; total time=  31.7s\n",
      "[CV] END criterion=entropy, max_depth=20, min_samples_split=100, n_estimators=100; total time=  31.8s\n",
      "[CV] END criterion=entropy, max_depth=20, min_samples_split=100, n_estimators=200; total time= 1.1min\n",
      "[CV] END criterion=entropy, max_depth=20, min_samples_split=50, n_estimators=500; total time= 2.7min\n",
      "[CV] END criterion=entropy, max_depth=20, min_samples_split=50, n_estimators=500; total time= 2.6min\n",
      "[CV] END criterion=entropy, max_depth=20, min_samples_split=50, n_estimators=500; total time= 2.7min\n",
      "[CV] END criterion=entropy, max_depth=20, min_samples_split=50, n_estimators=500; total time= 2.6min\n",
      "[CV] END criterion=entropy, max_depth=20, min_samples_split=100, n_estimators=200; total time= 1.0min\n",
      "[CV] END criterion=entropy, max_depth=20, min_samples_split=50, n_estimators=500; total time= 2.7min\n",
      "[CV] END criterion=entropy, max_depth=20, min_samples_split=100, n_estimators=200; total time= 1.0min\n",
      "[CV] END criterion=entropy, max_depth=20, min_samples_split=200, n_estimators=100; total time=  29.5s\n",
      "[CV] END criterion=entropy, max_depth=20, min_samples_split=100, n_estimators=200; total time=  57.3s\n",
      "[CV] END criterion=entropy, max_depth=20, min_samples_split=100, n_estimators=200; total time=  57.0s\n",
      "[CV] END criterion=entropy, max_depth=20, min_samples_split=200, n_estimators=100; total time=  32.3s\n",
      "[CV] END criterion=entropy, max_depth=20, min_samples_split=200, n_estimators=100; total time=  32.5s\n",
      "[CV] END criterion=entropy, max_depth=20, min_samples_split=200, n_estimators=100; total time=  32.1s\n",
      "[CV] END criterion=entropy, max_depth=20, min_samples_split=200, n_estimators=100; total time=  33.4s\n",
      "[CV] END criterion=entropy, max_depth=20, min_samples_split=200, n_estimators=200; total time= 1.1min\n",
      "[CV] END criterion=entropy, max_depth=20, min_samples_split=200, n_estimators=200; total time= 1.1min\n",
      "[CV] END criterion=entropy, max_depth=20, min_samples_split=100, n_estimators=500; total time= 2.6min\n",
      "[CV] END criterion=entropy, max_depth=20, min_samples_split=100, n_estimators=500; total time= 2.6min\n",
      "[CV] END criterion=entropy, max_depth=20, min_samples_split=100, n_estimators=500; total time= 2.6min\n",
      "[CV] END criterion=entropy, max_depth=20, min_samples_split=100, n_estimators=500; total time= 2.6min\n",
      "[CV] END criterion=entropy, max_depth=20, min_samples_split=100, n_estimators=500; total time= 2.6min\n",
      "[CV] END criterion=entropy, max_depth=20, min_samples_split=200, n_estimators=200; total time= 1.0min\n",
      "[CV] END criterion=entropy, max_depth=20, min_samples_split=200, n_estimators=200; total time=  59.1s\n",
      "[CV] END criterion=entropy, max_depth=20, min_samples_split=200, n_estimators=200; total time=  57.1s\n",
      "[CV] END criterion=entropy, max_depth=20, min_samples_split=200, n_estimators=500; total time= 1.9min\n",
      "[CV] END criterion=entropy, max_depth=20, min_samples_split=200, n_estimators=500; total time= 1.9min\n",
      "[CV] END criterion=entropy, max_depth=20, min_samples_split=200, n_estimators=500; total time= 1.8min\n",
      "[CV] END criterion=entropy, max_depth=20, min_samples_split=200, n_estimators=500; total time= 1.8min\n",
      "[CV] END criterion=entropy, max_depth=20, min_samples_split=200, n_estimators=500; total time= 1.7min\n"
     ]
    },
    {
     "data": {
      "text/plain": [
       "GridSearchCV(cv=5, estimator=RandomForestClassifier(max_depth=10), n_jobs=-1,\n",
       "             param_grid={'criterion': ['gini', 'entropy'],\n",
       "                         'max_depth': [5, 10, 15, 20],\n",
       "                         'min_samples_split': [50, 100, 200],\n",
       "                         'n_estimators': [100, 200, 500]},\n",
       "             scoring='f1', verbose=2)"
      ]
     },
     "execution_count": 22,
     "metadata": {},
     "output_type": "execute_result"
    }
   ],
   "source": [
    "grid.fit(X_train, y_train)"
   ]
  },
  {
   "cell_type": "code",
   "execution_count": 23,
   "metadata": {},
   "outputs": [],
   "source": [
    "best_forest = grid.best_estimator_"
   ]
  },
  {
   "cell_type": "code",
   "execution_count": 32,
   "metadata": {},
   "outputs": [
    {
     "data": {
      "text/plain": [
       "{'criterion': 'gini',\n",
       " 'max_depth': 20,\n",
       " 'min_samples_split': 50,\n",
       " 'n_estimators': 500}"
      ]
     },
     "execution_count": 32,
     "metadata": {},
     "output_type": "execute_result"
    }
   ],
   "source": [
    "grid.best_params_"
   ]
  },
  {
   "cell_type": "code",
   "execution_count": 24,
   "metadata": {},
   "outputs": [],
   "source": [
    "# predict with best random forest\n",
    "y_pred_bestforest = best_forest.predict(X_test)"
   ]
  },
  {
   "cell_type": "code",
   "execution_count": 25,
   "metadata": {},
   "outputs": [
    {
     "name": "stdout",
     "output_type": "stream",
     "text": [
      "              precision    recall  f1-score   support\n",
      "\n",
      "           0       0.78      0.43      0.56     22082\n",
      "           1       0.72      0.92      0.81     34262\n",
      "\n",
      "    accuracy                           0.73     56344\n",
      "   macro avg       0.75      0.68      0.68     56344\n",
      "weighted avg       0.74      0.73      0.71     56344\n",
      "\n"
     ]
    },
    {
     "data": {
      "image/png": "[encoded data removed]",
      "text/plain": [
       "<Figure size 432x288 with 2 Axes>"
      ]
     },
     "metadata": {
      "needs_background": "light"
     },
     "output_type": "display_data"
    }
   ],
   "source": [
    "# evaluate best forest\n",
    "evaluate(y_test, y_pred_bestforest)"
   ]
  },
  {
   "cell_type": "code",
   "execution_count": 28,
   "metadata": {},
   "outputs": [
    {
     "data": {
      "text/plain": [
       "0.805849876958778"
      ]
     },
     "execution_count": 28,
     "metadata": {},
     "output_type": "execute_result"
    }
   ],
   "source": [
    "f1_score(y_test, y_pred_bestforest)"
   ]
  },
  {
   "cell_type": "code",
   "execution_count": 31,
   "metadata": {},
   "outputs": [
    {
     "data": {
      "text/plain": [
       "0.6766365036922177"
      ]
     },
     "execution_count": 31,
     "metadata": {},
     "output_type": "execute_result"
    }
   ],
   "source": [
    "roc_auc_score(y_test, y_pred_bestforest)"
   ]
  },
  {
   "cell_type": "code",
   "execution_count": 39,
   "metadata": {},
   "outputs": [],
   "source": [
    "# train adjusted random forest\n",
    "forest_adj = RandomForestClassifier(max_depth=100, n_estimators=500, min_samples_split=50)\n",
    "y_pred_forestadj = train(X_train, y_train, X_test, forest_adj)"
   ]
  },
  {
   "cell_type": "code",
   "execution_count": 40,
   "metadata": {},
   "outputs": [
    {
     "name": "stdout",
     "output_type": "stream",
     "text": [
      "              precision    recall  f1-score   support\n",
      "\n",
      "           0       0.74      0.70      0.72     22082\n",
      "           1       0.81      0.84      0.83     34262\n",
      "\n",
      "    accuracy                           0.79     56344\n",
      "   macro avg       0.78      0.77      0.77     56344\n",
      "weighted avg       0.78      0.79      0.79     56344\n",
      "\n"
     ]
    },
    {
     "data": {
      "image/png": "[encoded data removed]",
      "text/plain": [
       "<Figure size 432x288 with 2 Axes>"
      ]
     },
     "metadata": {
      "needs_background": "light"
     },
     "output_type": "display_data"
    }
   ],
   "source": [
    "# evaluate adjusted forest\n",
    "evaluate(y_test, y_pred_forestadj)"
   ]
  },
  {
   "cell_type": "code",
   "execution_count": 41,
   "metadata": {},
   "outputs": [
    {
     "data": {
      "text/plain": [
       "0.7711093533381089"
      ]
     },
     "execution_count": 41,
     "metadata": {},
     "output_type": "execute_result"
    }
   ],
   "source": [
    "roc_auc_score(y_test, y_pred_forestadj)"
   ]
  }
 ],
 "metadata": {
  "interpreter": {
   "hash": "14f51d1694797e5da3502a145014201e62f9849463032f26557bd12a95b9aa43"
  },
  "kernelspec": {
   "display_name": "Python 3.9.4 64-bit ('.venv': venv)",
   "name": "python3"
  },
  "language_info": {
   "codemirror_mode": {
    "name": "ipython",
    "version": 3
   },
   "file_extension": ".py",
   "mimetype": "text/x-python",
   "name": "python",
   "nbconvert_exporter": "python",
   "pygments_lexer": "ipython3",
   "version": "3.9.4"
  },
  "orig_nbformat": 4
 },
 "nbformat": 4,
 "nbformat_minor": 2
}
