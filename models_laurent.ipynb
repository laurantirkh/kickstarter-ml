{
 "cells": [
  {
   "cell_type": "code",
   "execution_count": 18,
   "metadata": {},
   "outputs": [],
   "source": [
    "import pandas as pd\n",
    "import numpy as np\n",
    "import seaborn as sns\n",
    "import matplotlib.pyplot as plt\n",
    "%matplotlib inline\n",
    "\n",
    "from sklearn.metrics import classification_report, confusion_matrix, f1_score, roc_auc_score\n",
    "from sklearn.model_selection import train_test_split, GridSearchCV\n",
    "from sklearn.tree import DecisionTreeClassifier\n",
    "from sklearn.svm import SVC\n",
    "from sklearn.ensemble import RandomForestClassifier\n"
   ]
  },
  {
   "cell_type": "code",
   "execution_count": 19,
   "metadata": {},
   "outputs": [],
   "source": [
    "df = pd.read_csv(\"data/df_preprocessed_log_dummies.csv\")"
   ]
  },
  {
   "cell_type": "code",
   "execution_count": 20,
   "metadata": {},
   "outputs": [
    {
     "data": {
      "text/html": [
       "<div>\n",
       "<style scoped>\n",
       "    .dataframe tbody tr th:only-of-type {\n",
       "        vertical-align: middle;\n",
       "    }\n",
       "\n",
       "    .dataframe tbody tr th {\n",
       "        vertical-align: top;\n",
       "    }\n",
       "\n",
       "    .dataframe thead th {\n",
       "        text-align: right;\n",
       "    }\n",
       "</style>\n",
       "<table border=\"1\" class=\"dataframe\">\n",
       "  <thead>\n",
       "    <tr style=\"text-align: right;\">\n",
       "      <th></th>\n",
       "      <th>state</th>\n",
       "      <th>delta_dead_laun</th>\n",
       "      <th>launch_day</th>\n",
       "      <th>launch_hour</th>\n",
       "      <th>name_len</th>\n",
       "      <th>blurb_len</th>\n",
       "      <th>goal_usd_log</th>\n",
       "      <th>AU</th>\n",
       "      <th>BE</th>\n",
       "      <th>CA</th>\n",
       "      <th>...</th>\n",
       "      <th>fashion</th>\n",
       "      <th>film &amp; video</th>\n",
       "      <th>food</th>\n",
       "      <th>games</th>\n",
       "      <th>journalism</th>\n",
       "      <th>music</th>\n",
       "      <th>photography</th>\n",
       "      <th>publishing</th>\n",
       "      <th>technology</th>\n",
       "      <th>theater</th>\n",
       "    </tr>\n",
       "  </thead>\n",
       "  <tbody>\n",
       "    <tr>\n",
       "      <th>0</th>\n",
       "      <td>1</td>\n",
       "      <td>720.0</td>\n",
       "      <td>3</td>\n",
       "      <td>19</td>\n",
       "      <td>23</td>\n",
       "      <td>125</td>\n",
       "      <td>6.907755</td>\n",
       "      <td>0</td>\n",
       "      <td>0</td>\n",
       "      <td>0</td>\n",
       "      <td>...</td>\n",
       "      <td>0</td>\n",
       "      <td>0</td>\n",
       "      <td>0</td>\n",
       "      <td>1</td>\n",
       "      <td>0</td>\n",
       "      <td>0</td>\n",
       "      <td>0</td>\n",
       "      <td>0</td>\n",
       "      <td>0</td>\n",
       "      <td>0</td>\n",
       "    </tr>\n",
       "    <tr>\n",
       "      <th>1</th>\n",
       "      <td>1</td>\n",
       "      <td>720.0</td>\n",
       "      <td>0</td>\n",
       "      <td>7</td>\n",
       "      <td>51</td>\n",
       "      <td>108</td>\n",
       "      <td>9.615805</td>\n",
       "      <td>0</td>\n",
       "      <td>0</td>\n",
       "      <td>0</td>\n",
       "      <td>...</td>\n",
       "      <td>0</td>\n",
       "      <td>0</td>\n",
       "      <td>0</td>\n",
       "      <td>0</td>\n",
       "      <td>0</td>\n",
       "      <td>1</td>\n",
       "      <td>0</td>\n",
       "      <td>0</td>\n",
       "      <td>0</td>\n",
       "      <td>0</td>\n",
       "    </tr>\n",
       "    <tr>\n",
       "      <th>2</th>\n",
       "      <td>0</td>\n",
       "      <td>1439.0</td>\n",
       "      <td>3</td>\n",
       "      <td>19</td>\n",
       "      <td>34</td>\n",
       "      <td>133</td>\n",
       "      <td>9.479141</td>\n",
       "      <td>0</td>\n",
       "      <td>0</td>\n",
       "      <td>0</td>\n",
       "      <td>...</td>\n",
       "      <td>0</td>\n",
       "      <td>0</td>\n",
       "      <td>0</td>\n",
       "      <td>1</td>\n",
       "      <td>0</td>\n",
       "      <td>0</td>\n",
       "      <td>0</td>\n",
       "      <td>0</td>\n",
       "      <td>0</td>\n",
       "      <td>0</td>\n",
       "    </tr>\n",
       "    <tr>\n",
       "      <th>3</th>\n",
       "      <td>1</td>\n",
       "      <td>720.0</td>\n",
       "      <td>0</td>\n",
       "      <td>21</td>\n",
       "      <td>40</td>\n",
       "      <td>121</td>\n",
       "      <td>7.937375</td>\n",
       "      <td>0</td>\n",
       "      <td>0</td>\n",
       "      <td>0</td>\n",
       "      <td>...</td>\n",
       "      <td>0</td>\n",
       "      <td>0</td>\n",
       "      <td>0</td>\n",
       "      <td>0</td>\n",
       "      <td>0</td>\n",
       "      <td>0</td>\n",
       "      <td>0</td>\n",
       "      <td>1</td>\n",
       "      <td>0</td>\n",
       "      <td>0</td>\n",
       "    </tr>\n",
       "    <tr>\n",
       "      <th>4</th>\n",
       "      <td>1</td>\n",
       "      <td>720.0</td>\n",
       "      <td>3</td>\n",
       "      <td>4</td>\n",
       "      <td>31</td>\n",
       "      <td>134</td>\n",
       "      <td>8.160518</td>\n",
       "      <td>0</td>\n",
       "      <td>0</td>\n",
       "      <td>0</td>\n",
       "      <td>...</td>\n",
       "      <td>0</td>\n",
       "      <td>0</td>\n",
       "      <td>0</td>\n",
       "      <td>0</td>\n",
       "      <td>0</td>\n",
       "      <td>1</td>\n",
       "      <td>0</td>\n",
       "      <td>0</td>\n",
       "      <td>0</td>\n",
       "      <td>0</td>\n",
       "    </tr>\n",
       "  </tbody>\n",
       "</table>\n",
       "<p>5 rows × 43 columns</p>\n",
       "</div>"
      ],
      "text/plain": [
       "   state  delta_dead_laun  launch_day  launch_hour  name_len  blurb_len  \\\n",
       "0      1            720.0           3           19        23        125   \n",
       "1      1            720.0           0            7        51        108   \n",
       "2      0           1439.0           3           19        34        133   \n",
       "3      1            720.0           0           21        40        121   \n",
       "4      1            720.0           3            4        31        134   \n",
       "\n",
       "   goal_usd_log  AU  BE  CA  ...  fashion  film & video  food  games  \\\n",
       "0      6.907755   0   0   0  ...        0             0     0      1   \n",
       "1      9.615805   0   0   0  ...        0             0     0      0   \n",
       "2      9.479141   0   0   0  ...        0             0     0      1   \n",
       "3      7.937375   0   0   0  ...        0             0     0      0   \n",
       "4      8.160518   0   0   0  ...        0             0     0      0   \n",
       "\n",
       "   journalism  music  photography  publishing  technology  theater  \n",
       "0           0      0            0           0           0        0  \n",
       "1           0      1            0           0           0        0  \n",
       "2           0      0            0           0           0        0  \n",
       "3           0      0            0           1           0        0  \n",
       "4           0      1            0           0           0        0  \n",
       "\n",
       "[5 rows x 43 columns]"
      ]
     },
     "execution_count": 20,
     "metadata": {},
     "output_type": "execute_result"
    }
   ],
   "source": [
    "df.head()"
   ]
  },
  {
   "cell_type": "code",
   "execution_count": 21,
   "metadata": {},
   "outputs": [],
   "source": [
    "# define features and target\n",
    "X = df.drop('state', axis=1)\n",
    "y = df['state']"
   ]
  },
  {
   "cell_type": "code",
   "execution_count": 22,
   "metadata": {},
   "outputs": [],
   "source": [
    "# split the data\n",
    "X_train, X_test, y_train, y_test = train_test_split(X, y, random_state=42, test_size=0.3)"
   ]
  },
  {
   "cell_type": "code",
   "execution_count": 23,
   "metadata": {},
   "outputs": [],
   "source": [
    "def train(X_train, y_train, X_test, model):\n",
    "    model.fit(X_train, y_train)\n",
    "    y_pred = model.predict(X_test)\n",
    "    return y_pred"
   ]
  },
  {
   "cell_type": "code",
   "execution_count": 24,
   "metadata": {},
   "outputs": [],
   "source": [
    "def evaluate(y_true, y_pred):\n",
    "    print(classification_report(y_true, y_pred))\n",
    "    cm = confusion_matrix(y_true, y_pred, normalize='true')\n",
    "    sns.heatmap(cm, annot=True)"
   ]
  },
  {
   "cell_type": "code",
   "execution_count": 25,
   "metadata": {},
   "outputs": [],
   "source": [
    "# train DecistionTree\n",
    "tree = DecisionTreeClassifier()\n",
    "y_pred_tree = train(X_train, y_train, X_test, tree)"
   ]
  },
  {
   "cell_type": "code",
   "execution_count": 36,
   "metadata": {},
   "outputs": [
    {
     "name": "stdout",
     "output_type": "stream",
     "text": [
      "              precision    recall  f1-score   support\n",
      "\n",
      "           0       0.58      0.56      0.57     22427\n",
      "           1       0.73      0.75      0.74     35372\n",
      "\n",
      "    accuracy                           0.67     57799\n",
      "   macro avg       0.66      0.65      0.65     57799\n",
      "weighted avg       0.67      0.67      0.67     57799\n",
      "\n"
     ]
    },
    {
     "data": {
      "image/png": "[encoded data removed]",
      "text/plain": [
       "<Figure size 432x288 with 2 Axes>"
      ]
     },
     "metadata": {
      "needs_background": "light"
     },
     "output_type": "display_data"
    }
   ],
   "source": [
    "# evaluate tree\n",
    "evaluate(y_test, y_pred_tree)"
   ]
  },
  {
   "cell_type": "code",
   "execution_count": 35,
   "metadata": {},
   "outputs": [
    {
     "name": "stdout",
     "output_type": "stream",
     "text": [
      "depth: 53\n"
     ]
    }
   ],
   "source": [
    "# get parameter\n",
    "print(f'depth: {tree.get_depth()}')"
   ]
  },
  {
   "cell_type": "code",
   "execution_count": 37,
   "metadata": {},
   "outputs": [
    {
     "data": {
      "text/plain": [
       "0.7375113279888463"
      ]
     },
     "execution_count": 37,
     "metadata": {},
     "output_type": "execute_result"
    }
   ],
   "source": [
    "f1_score(y_test, y_pred_tree)"
   ]
  },
  {
   "cell_type": "code",
   "execution_count": 38,
   "metadata": {},
   "outputs": [
    {
     "data": {
      "text/plain": [
       "0.6530638826982959"
      ]
     },
     "execution_count": 38,
     "metadata": {},
     "output_type": "execute_result"
    }
   ],
   "source": [
    "roc_auc_score(y_test, y_pred_tree)"
   ]
  },
  {
   "cell_type": "code",
   "execution_count": 39,
   "metadata": {},
   "outputs": [
    {
     "name": "stderr",
     "output_type": "stream",
     "text": [
      "/Users/laurenthartmann/neuefische/kickstarter-ml/.venv/lib/python3.9/site-packages/sklearn/svm/_base.py:284: ConvergenceWarning: Solver terminated early (max_iter=1000).  Consider pre-processing your data with StandardScaler or MinMaxScaler.\n",
      "  warnings.warn(\n"
     ]
    }
   ],
   "source": [
    "# train svm\n",
    "svm = SVC(max_iter=1000)\n",
    "y_pred_svm = train(X_train, y_train, X_test, svm)"
   ]
  },
  {
   "cell_type": "code",
   "execution_count": 40,
   "metadata": {},
   "outputs": [
    {
     "name": "stdout",
     "output_type": "stream",
     "text": [
      "              precision    recall  f1-score   support\n",
      "\n",
      "           0       0.33      0.05      0.09     22427\n",
      "           1       0.61      0.93      0.74     35372\n",
      "\n",
      "    accuracy                           0.59     57799\n",
      "   macro avg       0.47      0.49      0.41     57799\n",
      "weighted avg       0.50      0.59      0.49     57799\n",
      "\n"
     ]
    },
    {
     "data": {
      "image/png": "[encoded data removed]",
      "text/plain": [
       "<Figure size 432x288 with 2 Axes>"
      ]
     },
     "metadata": {
      "needs_background": "light"
     },
     "output_type": "display_data"
    }
   ],
   "source": [
    "# evaluate svm\n",
    "evaluate(y_test, y_pred_svm)"
   ]
  },
  {
   "cell_type": "code",
   "execution_count": 41,
   "metadata": {},
   "outputs": [],
   "source": [
    "# train random forest\n",
    "forest = RandomForestClassifier(max_depth=10)\n",
    "y_pred_forest = train(X_train, y_train, X_test, forest)"
   ]
  },
  {
   "cell_type": "code",
   "execution_count": 42,
   "metadata": {},
   "outputs": [
    {
     "name": "stdout",
     "output_type": "stream",
     "text": [
      "              precision    recall  f1-score   support\n",
      "\n",
      "           0       0.73      0.38      0.50     22427\n",
      "           1       0.70      0.91      0.79     35372\n",
      "\n",
      "    accuracy                           0.70     57799\n",
      "   macro avg       0.71      0.65      0.64     57799\n",
      "weighted avg       0.71      0.70      0.68     57799\n",
      "\n"
     ]
    },
    {
     "data": {
      "image/png": "[encoded data removed]",
      "text/plain": [
       "<Figure size 432x288 with 2 Axes>"
      ]
     },
     "metadata": {
      "needs_background": "light"
     },
     "output_type": "display_data"
    }
   ],
   "source": [
    "# evaluate random forest\n",
    "evaluate(y_test, y_pred_forest)"
   ]
  },
  {
   "cell_type": "code",
   "execution_count": 44,
   "metadata": {},
   "outputs": [],
   "source": [
    "# gridsearch with random forest\n",
    "forest_params = {\n",
    "    'n_estimators': [100, 200, 500],\n",
    "    'criterion': ['gini', 'entropy'],\n",
    "    'max_depth': [50, 100, 150],\n",
    "    'min_samples_split': [50, 100, 200]\n",
    "}\n",
    "\n",
    "grid_forest = GridSearchCV(forest, param_grid=forest_params, n_jobs=-1, cv=5, scoring='f1', verbose=2)"
   ]
  },
  {
   "cell_type": "code",
   "execution_count": 45,
   "metadata": {},
   "outputs": [
    {
     "name": "stdout",
     "output_type": "stream",
     "text": [
      "Fitting 5 folds for each of 54 candidates, totalling 270 fits\n",
      "[CV] END criterion=gini, max_depth=50, min_samples_split=50, n_estimators=100; total time=  30.2s\n",
      "[CV] END criterion=gini, max_depth=50, min_samples_split=50, n_estimators=100; total time=  30.3s\n",
      "[CV] END criterion=gini, max_depth=50, min_samples_split=50, n_estimators=100; total time=  30.3s\n",
      "[CV] END criterion=gini, max_depth=50, min_samples_split=50, n_estimators=100; total time=  30.4s\n",
      "[CV] END criterion=gini, max_depth=50, min_samples_split=50, n_estimators=100; total time=  30.5s\n",
      "[CV] END criterion=gini, max_depth=50, min_samples_split=50, n_estimators=200; total time=  58.0s\n",
      "[CV] END criterion=gini, max_depth=50, min_samples_split=50, n_estimators=200; total time=  58.2s\n",
      "[CV] END criterion=gini, max_depth=50, min_samples_split=50, n_estimators=200; total time=  58.3s\n",
      "[CV] END criterion=gini, max_depth=50, min_samples_split=100, n_estimators=100; total time=  25.1s\n",
      "[CV] END criterion=gini, max_depth=50, min_samples_split=50, n_estimators=200; total time=  54.9s\n",
      "[CV] END criterion=gini, max_depth=50, min_samples_split=50, n_estimators=200; total time=  54.9s\n",
      "[CV] END criterion=gini, max_depth=50, min_samples_split=100, n_estimators=100; total time=  24.7s\n",
      "[CV] END criterion=gini, max_depth=50, min_samples_split=100, n_estimators=100; total time=  24.5s\n",
      "[CV] END criterion=gini, max_depth=50, min_samples_split=100, n_estimators=100; total time=  24.6s\n",
      "[CV] END criterion=gini, max_depth=50, min_samples_split=100, n_estimators=100; total time=  27.2s\n",
      "[CV] END criterion=gini, max_depth=50, min_samples_split=100, n_estimators=200; total time=  55.7s\n",
      "[CV] END criterion=gini, max_depth=50, min_samples_split=100, n_estimators=200; total time=  56.1s\n",
      "[CV] END criterion=gini, max_depth=50, min_samples_split=50, n_estimators=500; total time= 2.3min\n",
      "[CV] END criterion=gini, max_depth=50, min_samples_split=50, n_estimators=500; total time= 2.3min\n",
      "[CV] END criterion=gini, max_depth=50, min_samples_split=50, n_estimators=500; total time= 2.4min\n",
      "[CV] END criterion=gini, max_depth=50, min_samples_split=100, n_estimators=200; total time=  55.2s\n",
      "[CV] END criterion=gini, max_depth=50, min_samples_split=50, n_estimators=500; total time= 2.4min\n",
      "[CV] END criterion=gini, max_depth=50, min_samples_split=50, n_estimators=500; total time= 2.4min\n",
      "[CV] END criterion=gini, max_depth=50, min_samples_split=100, n_estimators=200; total time=  53.1s\n",
      "[CV] END criterion=gini, max_depth=50, min_samples_split=100, n_estimators=200; total time=  53.1s\n",
      "[CV] END criterion=gini, max_depth=50, min_samples_split=200, n_estimators=100; total time=  25.1s\n",
      "[CV] END criterion=gini, max_depth=50, min_samples_split=200, n_estimators=100; total time=  24.8s\n",
      "[CV] END criterion=gini, max_depth=50, min_samples_split=200, n_estimators=100; total time=  24.8s\n",
      "[CV] END criterion=gini, max_depth=50, min_samples_split=200, n_estimators=100; total time=  25.0s\n",
      "[CV] END criterion=gini, max_depth=50, min_samples_split=200, n_estimators=100; total time=  25.0s\n",
      "[CV] END criterion=gini, max_depth=50, min_samples_split=200, n_estimators=200; total time=  49.9s\n",
      "[CV] END criterion=gini, max_depth=50, min_samples_split=200, n_estimators=200; total time=  49.9s\n",
      "[CV] END criterion=gini, max_depth=50, min_samples_split=100, n_estimators=500; total time= 2.2min\n",
      "[CV] END criterion=gini, max_depth=50, min_samples_split=100, n_estimators=500; total time= 2.2min\n",
      "[CV] END criterion=gini, max_depth=50, min_samples_split=100, n_estimators=500; total time= 2.2min\n",
      "[CV] END criterion=gini, max_depth=50, min_samples_split=200, n_estimators=200; total time=  50.6s\n",
      "[CV] END criterion=gini, max_depth=50, min_samples_split=100, n_estimators=500; total time= 2.2min\n",
      "[CV] END criterion=gini, max_depth=50, min_samples_split=100, n_estimators=500; total time= 2.2min\n",
      "[CV] END criterion=gini, max_depth=50, min_samples_split=200, n_estimators=200; total time=  49.7s\n",
      "[CV] END criterion=gini, max_depth=50, min_samples_split=200, n_estimators=200; total time=  49.9s\n",
      "[CV] END criterion=gini, max_depth=100, min_samples_split=50, n_estimators=100; total time=  29.3s\n",
      "[CV] END criterion=gini, max_depth=100, min_samples_split=50, n_estimators=100; total time=  29.3s\n",
      "[CV] END criterion=gini, max_depth=100, min_samples_split=50, n_estimators=100; total time=  29.7s\n",
      "[CV] END criterion=gini, max_depth=100, min_samples_split=50, n_estimators=100; total time=  28.8s\n",
      "[CV] END criterion=gini, max_depth=100, min_samples_split=50, n_estimators=100; total time=  29.0s\n",
      "[CV] END criterion=gini, max_depth=50, min_samples_split=200, n_estimators=500; total time= 2.0min\n",
      "[CV] END criterion=gini, max_depth=50, min_samples_split=200, n_estimators=500; total time= 2.0min\n",
      "[CV] END criterion=gini, max_depth=50, min_samples_split=200, n_estimators=500; total time= 2.0min\n",
      "[CV] END criterion=gini, max_depth=100, min_samples_split=50, n_estimators=200; total time=  56.8s\n",
      "[CV] END criterion=gini, max_depth=50, min_samples_split=200, n_estimators=500; total time= 2.0min\n",
      "[CV] END criterion=gini, max_depth=50, min_samples_split=200, n_estimators=500; total time= 2.0min\n",
      "[CV] END criterion=gini, max_depth=100, min_samples_split=50, n_estimators=200; total time=  56.2s\n",
      "[CV] END criterion=gini, max_depth=100, min_samples_split=50, n_estimators=200; total time=  56.2s\n",
      "[CV] END criterion=gini, max_depth=100, min_samples_split=50, n_estimators=200; total time=  56.8s\n",
      "[CV] END criterion=gini, max_depth=100, min_samples_split=50, n_estimators=200; total time=  57.1s\n",
      "[CV] END criterion=gini, max_depth=100, min_samples_split=100, n_estimators=100; total time=  26.5s\n",
      "[CV] END criterion=gini, max_depth=100, min_samples_split=100, n_estimators=100; total time=  26.6s\n",
      "[CV] END criterion=gini, max_depth=100, min_samples_split=100, n_estimators=100; total time=  26.5s\n",
      "[CV] END criterion=gini, max_depth=100, min_samples_split=100, n_estimators=100; total time=  26.8s\n",
      "[CV] END criterion=gini, max_depth=100, min_samples_split=100, n_estimators=100; total time=  31.0s\n",
      "[CV] END criterion=gini, max_depth=100, min_samples_split=100, n_estimators=200; total time=  59.7s\n",
      "[CV] END criterion=gini, max_depth=100, min_samples_split=100, n_estimators=200; total time= 1.0min\n",
      "[CV] END criterion=gini, max_depth=100, min_samples_split=50, n_estimators=500; total time= 2.5min\n",
      "[CV] END criterion=gini, max_depth=100, min_samples_split=50, n_estimators=500; total time= 2.5min\n",
      "[CV] END criterion=gini, max_depth=100, min_samples_split=50, n_estimators=500; total time= 2.5min\n",
      "[CV] END criterion=gini, max_depth=100, min_samples_split=50, n_estimators=500; total time= 2.5min\n",
      "[CV] END criterion=gini, max_depth=100, min_samples_split=100, n_estimators=200; total time=  57.9s\n",
      "[CV] END criterion=gini, max_depth=100, min_samples_split=50, n_estimators=500; total time= 2.6min\n",
      "[CV] END criterion=gini, max_depth=100, min_samples_split=200, n_estimators=100; total time=  25.3s\n",
      "[CV] END criterion=gini, max_depth=100, min_samples_split=100, n_estimators=200; total time=  56.0s\n",
      "[CV] END criterion=gini, max_depth=100, min_samples_split=100, n_estimators=200; total time=  55.6s\n",
      "[CV] END criterion=gini, max_depth=100, min_samples_split=200, n_estimators=100; total time=  26.7s\n",
      "[CV] END criterion=gini, max_depth=100, min_samples_split=200, n_estimators=100; total time=  27.3s\n",
      "[CV] END criterion=gini, max_depth=100, min_samples_split=200, n_estimators=100; total time=  27.2s\n",
      "[CV] END criterion=gini, max_depth=100, min_samples_split=200, n_estimators=100; total time=  24.9s\n",
      "[CV] END criterion=gini, max_depth=100, min_samples_split=200, n_estimators=200; total time=  49.8s\n",
      "[CV] END criterion=gini, max_depth=100, min_samples_split=200, n_estimators=200; total time=  50.1s\n",
      "[CV] END criterion=gini, max_depth=100, min_samples_split=100, n_estimators=500; total time= 2.3min\n",
      "[CV] END criterion=gini, max_depth=100, min_samples_split=100, n_estimators=500; total time= 2.3min\n",
      "[CV] END criterion=gini, max_depth=100, min_samples_split=200, n_estimators=200; total time=  48.3s\n",
      "[CV] END criterion=gini, max_depth=100, min_samples_split=100, n_estimators=500; total time= 2.3min\n",
      "[CV] END criterion=gini, max_depth=100, min_samples_split=100, n_estimators=500; total time= 2.2min\n",
      "[CV] END criterion=gini, max_depth=100, min_samples_split=100, n_estimators=500; total time= 2.2min\n",
      "[CV] END criterion=gini, max_depth=100, min_samples_split=200, n_estimators=200; total time=  48.3s\n",
      "[CV] END criterion=gini, max_depth=100, min_samples_split=200, n_estimators=200; total time=  48.5s\n",
      "[CV] END criterion=gini, max_depth=150, min_samples_split=50, n_estimators=100; total time=  28.9s\n",
      "[CV] END criterion=gini, max_depth=150, min_samples_split=50, n_estimators=100; total time=  29.0s\n",
      "[CV] END criterion=gini, max_depth=150, min_samples_split=50, n_estimators=100; total time=  29.2s\n",
      "[CV] END criterion=gini, max_depth=150, min_samples_split=50, n_estimators=100; total time=  29.1s\n",
      "[CV] END criterion=gini, max_depth=150, min_samples_split=50, n_estimators=100; total time=  29.4s\n",
      "[CV] END criterion=gini, max_depth=100, min_samples_split=200, n_estimators=500; total time= 2.0min\n",
      "[CV] END criterion=gini, max_depth=150, min_samples_split=50, n_estimators=200; total time=  57.4s\n",
      "[CV] END criterion=gini, max_depth=100, min_samples_split=200, n_estimators=500; total time= 2.0min\n",
      "[CV] END criterion=gini, max_depth=100, min_samples_split=200, n_estimators=500; total time= 2.0min\n",
      "[CV] END criterion=gini, max_depth=150, min_samples_split=50, n_estimators=200; total time=  56.0s\n",
      "[CV] END criterion=gini, max_depth=100, min_samples_split=200, n_estimators=500; total time= 2.0min\n",
      "[CV] END criterion=gini, max_depth=100, min_samples_split=200, n_estimators=500; total time= 2.0min\n",
      "[CV] END criterion=gini, max_depth=150, min_samples_split=50, n_estimators=200; total time=  55.2s\n",
      "[CV] END criterion=gini, max_depth=150, min_samples_split=50, n_estimators=200; total time=  56.3s\n",
      "[CV] END criterion=gini, max_depth=150, min_samples_split=100, n_estimators=100; total time=  27.3s\n",
      "[CV] END criterion=gini, max_depth=150, min_samples_split=50, n_estimators=200; total time=  56.2s\n",
      "[CV] END criterion=gini, max_depth=150, min_samples_split=100, n_estimators=100; total time=  26.6s\n",
      "[CV] END criterion=gini, max_depth=150, min_samples_split=100, n_estimators=100; total time=  26.5s\n",
      "[CV] END criterion=gini, max_depth=150, min_samples_split=100, n_estimators=100; total time=  26.7s\n",
      "[CV] END criterion=gini, max_depth=150, min_samples_split=100, n_estimators=100; total time=  26.8s\n",
      "[CV] END criterion=gini, max_depth=150, min_samples_split=100, n_estimators=200; total time=  53.6s\n",
      "[CV] END criterion=gini, max_depth=150, min_samples_split=100, n_estimators=200; total time=  53.5s\n",
      "[CV] END criterion=gini, max_depth=150, min_samples_split=50, n_estimators=500; total time= 2.4min\n",
      "[CV] END criterion=gini, max_depth=150, min_samples_split=50, n_estimators=500; total time= 2.4min\n",
      "[CV] END criterion=gini, max_depth=150, min_samples_split=50, n_estimators=500; total time= 2.4min\n",
      "[CV] END criterion=gini, max_depth=150, min_samples_split=50, n_estimators=500; total time= 2.4min\n",
      "[CV] END criterion=gini, max_depth=150, min_samples_split=100, n_estimators=200; total time=  52.1s\n",
      "[CV] END criterion=gini, max_depth=150, min_samples_split=50, n_estimators=500; total time= 2.4min\n",
      "[CV] END criterion=gini, max_depth=150, min_samples_split=200, n_estimators=100; total time=  24.9s\n",
      "[CV] END criterion=gini, max_depth=150, min_samples_split=100, n_estimators=200; total time=  52.1s\n",
      "[CV] END criterion=gini, max_depth=150, min_samples_split=100, n_estimators=200; total time=  51.7s\n",
      "[CV] END criterion=gini, max_depth=150, min_samples_split=200, n_estimators=100; total time=  24.9s\n",
      "[CV] END criterion=gini, max_depth=150, min_samples_split=200, n_estimators=100; total time=  24.9s\n",
      "[CV] END criterion=gini, max_depth=150, min_samples_split=200, n_estimators=100; total time=  25.0s\n",
      "[CV] END criterion=gini, max_depth=150, min_samples_split=200, n_estimators=100; total time=  24.9s\n",
      "[CV] END criterion=gini, max_depth=150, min_samples_split=200, n_estimators=200; total time=  50.0s\n",
      "[CV] END criterion=gini, max_depth=150, min_samples_split=200, n_estimators=200; total time=  49.9s\n",
      "[CV] END criterion=gini, max_depth=150, min_samples_split=100, n_estimators=500; total time= 2.2min\n",
      "[CV] END criterion=gini, max_depth=150, min_samples_split=100, n_estimators=500; total time= 2.2min\n",
      "[CV] END criterion=gini, max_depth=150, min_samples_split=100, n_estimators=500; total time= 2.2min\n",
      "[CV] END criterion=gini, max_depth=150, min_samples_split=100, n_estimators=500; total time= 2.2min\n",
      "[CV] END criterion=gini, max_depth=150, min_samples_split=200, n_estimators=200; total time=  48.9s\n",
      "[CV] END criterion=gini, max_depth=150, min_samples_split=100, n_estimators=500; total time= 2.2min\n",
      "[CV] END criterion=gini, max_depth=150, min_samples_split=200, n_estimators=200; total time=  48.2s\n",
      "[CV] END criterion=gini, max_depth=150, min_samples_split=200, n_estimators=200; total time=  48.3s\n",
      "[CV] END criterion=entropy, max_depth=50, min_samples_split=50, n_estimators=100; total time=  30.7s\n",
      "[CV] END criterion=entropy, max_depth=50, min_samples_split=50, n_estimators=100; total time=  30.1s\n",
      "[CV] END criterion=entropy, max_depth=50, min_samples_split=50, n_estimators=100; total time=  30.2s\n",
      "[CV] END criterion=entropy, max_depth=50, min_samples_split=50, n_estimators=100; total time=  30.5s\n",
      "[CV] END criterion=entropy, max_depth=50, min_samples_split=50, n_estimators=100; total time=  30.2s\n",
      "[CV] END criterion=gini, max_depth=150, min_samples_split=200, n_estimators=500; total time= 2.0min\n",
      "[CV] END criterion=entropy, max_depth=50, min_samples_split=50, n_estimators=200; total time=  59.7s\n",
      "[CV] END criterion=gini, max_depth=150, min_samples_split=200, n_estimators=500; total time= 2.0min\n",
      "[CV] END criterion=gini, max_depth=150, min_samples_split=200, n_estimators=500; total time= 2.0min\n",
      "[CV] END criterion=gini, max_depth=150, min_samples_split=200, n_estimators=500; total time= 2.0min\n",
      "[CV] END criterion=gini, max_depth=150, min_samples_split=200, n_estimators=500; total time= 2.0min\n",
      "[CV] END criterion=entropy, max_depth=50, min_samples_split=50, n_estimators=200; total time=  58.9s\n",
      "[CV] END criterion=entropy, max_depth=50, min_samples_split=50, n_estimators=200; total time=  58.5s\n",
      "[CV] END criterion=entropy, max_depth=50, min_samples_split=100, n_estimators=100; total time= 4.5min\n",
      "[CV] END criterion=entropy, max_depth=50, min_samples_split=50, n_estimators=200; total time= 5.0min\n",
      "[CV] END criterion=entropy, max_depth=50, min_samples_split=50, n_estimators=200; total time= 5.0min\n",
      "[CV] END criterion=entropy, max_depth=50, min_samples_split=100, n_estimators=100; total time=  26.7s\n",
      "[CV] END criterion=entropy, max_depth=50, min_samples_split=100, n_estimators=100; total time=  26.2s\n",
      "[CV] END criterion=entropy, max_depth=50, min_samples_split=100, n_estimators=100; total time=  25.8s\n",
      "[CV] END criterion=entropy, max_depth=50, min_samples_split=100, n_estimators=100; total time=  26.1s\n",
      "[CV] END criterion=entropy, max_depth=50, min_samples_split=100, n_estimators=200; total time=  51.8s\n",
      "[CV] END criterion=entropy, max_depth=50, min_samples_split=100, n_estimators=200; total time=  51.1s\n",
      "[CV] END criterion=entropy, max_depth=50, min_samples_split=50, n_estimators=500; total time= 6.4min\n",
      "[CV] END criterion=entropy, max_depth=50, min_samples_split=50, n_estimators=500; total time= 6.4min\n",
      "[CV] END criterion=entropy, max_depth=50, min_samples_split=50, n_estimators=500; total time= 6.4min\n",
      "[CV] END criterion=entropy, max_depth=50, min_samples_split=50, n_estimators=500; total time= 6.4min\n",
      "[CV] END criterion=entropy, max_depth=50, min_samples_split=50, n_estimators=500; total time= 6.4min\n",
      "[CV] END criterion=entropy, max_depth=50, min_samples_split=100, n_estimators=200; total time=  51.2s\n",
      "[CV] END criterion=entropy, max_depth=50, min_samples_split=200, n_estimators=100; total time=  24.6s\n",
      "[CV] END criterion=entropy, max_depth=50, min_samples_split=100, n_estimators=200; total time=  51.6s\n",
      "[CV] END criterion=entropy, max_depth=50, min_samples_split=100, n_estimators=200; total time=  52.2s\n",
      "[CV] END criterion=entropy, max_depth=50, min_samples_split=200, n_estimators=100; total time=  24.2s\n",
      "[CV] END criterion=entropy, max_depth=50, min_samples_split=200, n_estimators=100; total time=  24.0s\n",
      "[CV] END criterion=entropy, max_depth=50, min_samples_split=200, n_estimators=100; total time=  24.3s\n",
      "[CV] END criterion=entropy, max_depth=50, min_samples_split=200, n_estimators=100; total time=  24.5s\n",
      "[CV] END criterion=entropy, max_depth=50, min_samples_split=200, n_estimators=200; total time=  48.6s\n",
      "[CV] END criterion=entropy, max_depth=50, min_samples_split=200, n_estimators=200; total time=  48.3s\n",
      "[CV] END criterion=entropy, max_depth=50, min_samples_split=100, n_estimators=500; total time= 2.2min\n",
      "[CV] END criterion=entropy, max_depth=50, min_samples_split=100, n_estimators=500; total time= 2.2min\n",
      "[CV] END criterion=entropy, max_depth=50, min_samples_split=100, n_estimators=500; total time= 2.2min\n",
      "[CV] END criterion=entropy, max_depth=50, min_samples_split=100, n_estimators=500; total time= 2.2min\n",
      "[CV] END criterion=entropy, max_depth=50, min_samples_split=200, n_estimators=200; total time=  47.5s\n",
      "[CV] END criterion=entropy, max_depth=50, min_samples_split=100, n_estimators=500; total time= 2.2min\n",
      "[CV] END criterion=entropy, max_depth=50, min_samples_split=200, n_estimators=200; total time=  47.1s\n",
      "[CV] END criterion=entropy, max_depth=50, min_samples_split=200, n_estimators=200; total time=  47.5s\n",
      "[CV] END criterion=entropy, max_depth=100, min_samples_split=50, n_estimators=100; total time=  28.6s\n",
      "[CV] END criterion=entropy, max_depth=100, min_samples_split=50, n_estimators=100; total time=  28.7s\n",
      "[CV] END criterion=entropy, max_depth=100, min_samples_split=50, n_estimators=100; total time=  29.1s\n",
      "[CV] END criterion=entropy, max_depth=100, min_samples_split=50, n_estimators=100; total time=  28.9s\n",
      "[CV] END criterion=entropy, max_depth=100, min_samples_split=50, n_estimators=100; total time=  28.3s\n",
      "[CV] END criterion=entropy, max_depth=50, min_samples_split=200, n_estimators=500; total time= 2.0min\n",
      "[CV] END criterion=entropy, max_depth=50, min_samples_split=200, n_estimators=500; total time= 2.0min\n",
      "[CV] END criterion=entropy, max_depth=50, min_samples_split=200, n_estimators=500; total time= 2.0min\n",
      "[CV] END criterion=entropy, max_depth=100, min_samples_split=50, n_estimators=200; total time=  56.5s\n",
      "[CV] END criterion=entropy, max_depth=50, min_samples_split=200, n_estimators=500; total time= 2.0min\n",
      "[CV] END criterion=entropy, max_depth=100, min_samples_split=50, n_estimators=200; total time=  56.5s\n",
      "[CV] END criterion=entropy, max_depth=50, min_samples_split=200, n_estimators=500; total time= 2.0min\n",
      "[CV] END criterion=entropy, max_depth=100, min_samples_split=50, n_estimators=200; total time=  55.8s\n",
      "[CV] END criterion=entropy, max_depth=100, min_samples_split=100, n_estimators=100; total time=  26.0s\n",
      "[CV] END criterion=entropy, max_depth=100, min_samples_split=50, n_estimators=200; total time=  55.7s\n",
      "[CV] END criterion=entropy, max_depth=100, min_samples_split=50, n_estimators=200; total time=  55.7s\n",
      "[CV] END criterion=entropy, max_depth=100, min_samples_split=100, n_estimators=100; total time=  25.8s\n",
      "[CV] END criterion=entropy, max_depth=100, min_samples_split=100, n_estimators=100; total time=  25.8s\n",
      "[CV] END criterion=entropy, max_depth=100, min_samples_split=100, n_estimators=100; total time=  25.9s\n",
      "[CV] END criterion=entropy, max_depth=100, min_samples_split=100, n_estimators=100; total time=  25.9s\n",
      "[CV] END criterion=entropy, max_depth=100, min_samples_split=100, n_estimators=200; total time=  51.9s\n",
      "[CV] END criterion=entropy, max_depth=100, min_samples_split=100, n_estimators=200; total time=  52.1s\n",
      "[CV] END criterion=entropy, max_depth=100, min_samples_split=50, n_estimators=500; total time= 2.3min\n",
      "[CV] END criterion=entropy, max_depth=100, min_samples_split=50, n_estimators=500; total time= 2.3min\n",
      "[CV] END criterion=entropy, max_depth=100, min_samples_split=50, n_estimators=500; total time= 2.3min\n",
      "[CV] END criterion=entropy, max_depth=100, min_samples_split=50, n_estimators=500; total time= 2.3min\n",
      "[CV] END criterion=entropy, max_depth=100, min_samples_split=50, n_estimators=500; total time= 2.3min\n",
      "[CV] END criterion=entropy, max_depth=100, min_samples_split=100, n_estimators=200; total time=  52.0s\n",
      "[CV] END criterion=entropy, max_depth=100, min_samples_split=200, n_estimators=100; total time=  24.4s\n",
      "[CV] END criterion=entropy, max_depth=100, min_samples_split=100, n_estimators=200; total time=  51.5s\n",
      "[CV] END criterion=entropy, max_depth=100, min_samples_split=100, n_estimators=200; total time=  51.7s\n",
      "[CV] END criterion=entropy, max_depth=100, min_samples_split=200, n_estimators=100; total time=  24.0s\n",
      "[CV] END criterion=entropy, max_depth=100, min_samples_split=200, n_estimators=100; total time=  24.0s\n",
      "[CV] END criterion=entropy, max_depth=100, min_samples_split=200, n_estimators=100; total time=  24.3s\n",
      "[CV] END criterion=entropy, max_depth=100, min_samples_split=200, n_estimators=100; total time=  24.6s\n",
      "[CV] END criterion=entropy, max_depth=100, min_samples_split=200, n_estimators=200; total time=  48.8s\n",
      "[CV] END criterion=entropy, max_depth=100, min_samples_split=200, n_estimators=200; total time=  48.7s\n",
      "[CV] END criterion=entropy, max_depth=100, min_samples_split=100, n_estimators=500; total time= 2.2min\n",
      "[CV] END criterion=entropy, max_depth=100, min_samples_split=100, n_estimators=500; total time= 2.2min\n",
      "[CV] END criterion=entropy, max_depth=100, min_samples_split=100, n_estimators=500; total time= 2.2min\n",
      "[CV] END criterion=entropy, max_depth=100, min_samples_split=100, n_estimators=500; total time= 2.2min\n",
      "[CV] END criterion=entropy, max_depth=100, min_samples_split=100, n_estimators=500; total time= 2.2min\n",
      "[CV] END criterion=entropy, max_depth=100, min_samples_split=200, n_estimators=200; total time=  47.7s\n",
      "[CV] END criterion=entropy, max_depth=100, min_samples_split=200, n_estimators=200; total time=  48.0s\n",
      "[CV] END criterion=entropy, max_depth=150, min_samples_split=50, n_estimators=100; total time=  29.8s\n",
      "[CV] END criterion=entropy, max_depth=100, min_samples_split=200, n_estimators=200; total time=  48.4s\n",
      "[CV] END criterion=entropy, max_depth=150, min_samples_split=50, n_estimators=100; total time=  28.5s\n",
      "[CV] END criterion=entropy, max_depth=150, min_samples_split=50, n_estimators=100; total time=  28.4s\n",
      "[CV] END criterion=entropy, max_depth=150, min_samples_split=50, n_estimators=100; total time=  28.1s\n",
      "[CV] END criterion=entropy, max_depth=150, min_samples_split=50, n_estimators=100; total time= 3.3min\n",
      "[CV] END criterion=entropy, max_depth=100, min_samples_split=200, n_estimators=500; total time= 4.8min\n",
      "[CV] END criterion=entropy, max_depth=100, min_samples_split=200, n_estimators=500; total time= 4.8min\n",
      "[CV] END criterion=entropy, max_depth=150, min_samples_split=50, n_estimators=200; total time= 3.8min\n",
      "[CV] END criterion=entropy, max_depth=150, min_samples_split=50, n_estimators=200; total time= 3.8min\n",
      "[CV] END criterion=entropy, max_depth=100, min_samples_split=200, n_estimators=500; total time= 4.8min\n",
      "[CV] END criterion=entropy, max_depth=100, min_samples_split=200, n_estimators=500; total time= 4.8min\n",
      "[CV] END criterion=entropy, max_depth=100, min_samples_split=200, n_estimators=500; total time= 4.8min\n",
      "[CV] END criterion=entropy, max_depth=150, min_samples_split=50, n_estimators=200; total time=  57.3s\n",
      "[CV] END criterion=entropy, max_depth=150, min_samples_split=100, n_estimators=100; total time=  25.9s\n",
      "[CV] END criterion=entropy, max_depth=150, min_samples_split=50, n_estimators=200; total time=  55.2s\n",
      "[CV] END criterion=entropy, max_depth=150, min_samples_split=50, n_estimators=200; total time=  55.4s\n",
      "[CV] END criterion=entropy, max_depth=150, min_samples_split=100, n_estimators=100; total time=  25.9s\n",
      "[CV] END criterion=entropy, max_depth=150, min_samples_split=100, n_estimators=100; total time=  26.1s\n",
      "[CV] END criterion=entropy, max_depth=150, min_samples_split=100, n_estimators=100; total time=  26.1s\n",
      "[CV] END criterion=entropy, max_depth=150, min_samples_split=100, n_estimators=100; total time=  25.8s\n",
      "[CV] END criterion=entropy, max_depth=150, min_samples_split=100, n_estimators=200; total time=  51.8s\n",
      "[CV] END criterion=entropy, max_depth=150, min_samples_split=100, n_estimators=200; total time=  51.5s\n",
      "[CV] END criterion=entropy, max_depth=150, min_samples_split=50, n_estimators=500; total time= 2.3min\n",
      "[CV] END criterion=entropy, max_depth=150, min_samples_split=50, n_estimators=500; total time= 2.3min\n",
      "[CV] END criterion=entropy, max_depth=150, min_samples_split=50, n_estimators=500; total time= 2.3min\n",
      "[CV] END criterion=entropy, max_depth=150, min_samples_split=50, n_estimators=500; total time= 2.3min\n",
      "[CV] END criterion=entropy, max_depth=150, min_samples_split=50, n_estimators=500; total time= 2.3min\n",
      "[CV] END criterion=entropy, max_depth=150, min_samples_split=100, n_estimators=200; total time=  51.4s\n",
      "[CV] END criterion=entropy, max_depth=150, min_samples_split=200, n_estimators=100; total time=  24.0s\n",
      "[CV] END criterion=entropy, max_depth=150, min_samples_split=100, n_estimators=200; total time=  51.4s\n",
      "[CV] END criterion=entropy, max_depth=150, min_samples_split=100, n_estimators=200; total time=  51.4s\n",
      "[CV] END criterion=entropy, max_depth=150, min_samples_split=200, n_estimators=100; total time=  23.8s\n",
      "[CV] END criterion=entropy, max_depth=150, min_samples_split=200, n_estimators=100; total time=  24.2s\n",
      "[CV] END criterion=entropy, max_depth=150, min_samples_split=200, n_estimators=100; total time=  24.3s\n",
      "[CV] END criterion=entropy, max_depth=150, min_samples_split=200, n_estimators=100; total time=  24.3s\n",
      "[CV] END criterion=entropy, max_depth=150, min_samples_split=200, n_estimators=200; total time=  47.8s\n",
      "[CV] END criterion=entropy, max_depth=150, min_samples_split=200, n_estimators=200; total time=  47.8s\n",
      "[CV] END criterion=entropy, max_depth=150, min_samples_split=100, n_estimators=500; total time= 2.1min\n",
      "[CV] END criterion=entropy, max_depth=150, min_samples_split=100, n_estimators=500; total time= 2.2min\n",
      "[CV] END criterion=entropy, max_depth=150, min_samples_split=100, n_estimators=500; total time= 2.2min\n",
      "[CV] END criterion=entropy, max_depth=150, min_samples_split=100, n_estimators=500; total time= 2.2min\n",
      "[CV] END criterion=entropy, max_depth=150, min_samples_split=100, n_estimators=500; total time= 2.2min\n",
      "[CV] END criterion=entropy, max_depth=150, min_samples_split=200, n_estimators=200; total time=  47.0s\n",
      "[CV] END criterion=entropy, max_depth=150, min_samples_split=200, n_estimators=200; total time=  43.8s\n",
      "[CV] END criterion=entropy, max_depth=150, min_samples_split=200, n_estimators=200; total time=  44.0s\n",
      "[CV] END criterion=entropy, max_depth=150, min_samples_split=200, n_estimators=500; total time= 1.5min\n",
      "[CV] END criterion=entropy, max_depth=150, min_samples_split=200, n_estimators=500; total time= 1.5min\n",
      "[CV] END criterion=entropy, max_depth=150, min_samples_split=200, n_estimators=500; total time= 1.5min\n",
      "[CV] END criterion=entropy, max_depth=150, min_samples_split=200, n_estimators=500; total time= 1.5min\n",
      "[CV] END criterion=entropy, max_depth=150, min_samples_split=200, n_estimators=500; total time= 1.4min\n"
     ]
    },
    {
     "data": {
      "text/plain": [
       "GridSearchCV(cv=5, estimator=RandomForestClassifier(max_depth=10), n_jobs=-1,\n",
       "             param_grid={'criterion': ['gini', 'entropy'],\n",
       "                         'max_depth': [50, 100, 150],\n",
       "                         'min_samples_split': [50, 100, 200],\n",
       "                         'n_estimators': [100, 200, 500]},\n",
       "             scoring='f1', verbose=2)"
      ]
     },
     "execution_count": 45,
     "metadata": {},
     "output_type": "execute_result"
    }
   ],
   "source": [
    "grid_forest.fit(X_train, y_train)"
   ]
  },
  {
   "cell_type": "code",
   "execution_count": 49,
   "metadata": {},
   "outputs": [],
   "source": [
    "best_forest = grid_forest.best_estimator_"
   ]
  },
  {
   "cell_type": "code",
   "execution_count": 50,
   "metadata": {},
   "outputs": [
    {
     "data": {
      "text/plain": [
       "{'criterion': 'entropy',\n",
       " 'max_depth': 100,\n",
       " 'min_samples_split': 50,\n",
       " 'n_estimators': 200}"
      ]
     },
     "execution_count": 50,
     "metadata": {},
     "output_type": "execute_result"
    }
   ],
   "source": [
    "grid_forest.best_params_"
   ]
  },
  {
   "cell_type": "code",
   "execution_count": 51,
   "metadata": {},
   "outputs": [],
   "source": [
    "# predict with best random forest\n",
    "y_pred_bestforest = best_forest.predict(X_test)"
   ]
  },
  {
   "cell_type": "code",
   "execution_count": 52,
   "metadata": {},
   "outputs": [
    {
     "name": "stdout",
     "output_type": "stream",
     "text": [
      "              precision    recall  f1-score   support\n",
      "\n",
      "           0       0.71      0.50      0.59     22427\n",
      "           1       0.73      0.87      0.80     35372\n",
      "\n",
      "    accuracy                           0.73     57799\n",
      "   macro avg       0.72      0.69      0.69     57799\n",
      "weighted avg       0.72      0.73      0.72     57799\n",
      "\n"
     ]
    },
    {
     "data": {
      "image/png": "[encoded data removed]",
      "text/plain": [
       "<Figure size 432x288 with 2 Axes>"
      ]
     },
     "metadata": {
      "needs_background": "light"
     },
     "output_type": "display_data"
    }
   ],
   "source": [
    "# evaluate best forest\n",
    "evaluate(y_test, y_pred_bestforest)"
   ]
  },
  {
   "cell_type": "code",
   "execution_count": 53,
   "metadata": {},
   "outputs": [
    {
     "data": {
      "text/plain": [
       "0.7955688002073076"
      ]
     },
     "execution_count": 53,
     "metadata": {},
     "output_type": "execute_result"
    }
   ],
   "source": [
    "f1_score(y_test, y_pred_bestforest)"
   ]
  },
  {
   "cell_type": "code",
   "execution_count": 54,
   "metadata": {},
   "outputs": [
    {
     "data": {
      "text/plain": [
       "0.6863475693193655"
      ]
     },
     "execution_count": 54,
     "metadata": {},
     "output_type": "execute_result"
    }
   ],
   "source": [
    "roc_auc_score(y_test, y_pred_bestforest)"
   ]
  },
  {
   "cell_type": "code",
   "execution_count": 55,
   "metadata": {},
   "outputs": [],
   "source": [
    "# train adjusted random forest\n",
    "forest_adj = RandomForestClassifier(max_depth=100, n_estimators=200, min_samples_split=50)\n",
    "y_pred_forestadj = train(X_train, y_train, X_test, forest_adj)"
   ]
  },
  {
   "cell_type": "code",
   "execution_count": 56,
   "metadata": {},
   "outputs": [
    {
     "name": "stdout",
     "output_type": "stream",
     "text": [
      "              precision    recall  f1-score   support\n",
      "\n",
      "           0       0.71      0.51      0.59     22427\n",
      "           1       0.74      0.87      0.80     35372\n",
      "\n",
      "    accuracy                           0.73     57799\n",
      "   macro avg       0.72      0.69      0.69     57799\n",
      "weighted avg       0.72      0.73      0.72     57799\n",
      "\n"
     ]
    },
    {
     "data": {
      "image/png": "[encoded data removed]",
      "text/plain": [
       "<Figure size 432x288 with 2 Axes>"
      ]
     },
     "metadata": {
      "needs_background": "light"
     },
     "output_type": "display_data"
    }
   ],
   "source": [
    "# evaluate adjusted forest\n",
    "evaluate(y_test, y_pred_forestadj)"
   ]
  },
  {
   "cell_type": "code",
   "execution_count": 57,
   "metadata": {},
   "outputs": [
    {
     "data": {
      "text/plain": [
       "0.6873339344904924"
      ]
     },
     "execution_count": 57,
     "metadata": {},
     "output_type": "execute_result"
    }
   ],
   "source": [
    "roc_auc_score(y_test, y_pred_forestadj)"
   ]
  },
  {
   "cell_type": "markdown",
   "metadata": {},
   "source": [
    "## Error analysis"
   ]
  },
  {
   "cell_type": "code",
   "execution_count": null,
   "metadata": {},
   "outputs": [],
   "source": [
    "error_df = pd.read_csv(\"data/df_eda2.csv\")"
   ]
  },
  {
   "cell_type": "code",
   "execution_count": null,
   "metadata": {},
   "outputs": [],
   "source": [
    "# replace state values with 0s and 1s\n",
    "error_df['state'].replace(to_replace={'successful': 1, 'failed': 0}, inplace=True)"
   ]
  },
  {
   "cell_type": "code",
   "execution_count": null,
   "metadata": {},
   "outputs": [
    {
     "data": {
      "text/html": [
       "<div>\n",
       "<style scoped>\n",
       "    .dataframe tbody tr th:only-of-type {\n",
       "        vertical-align: middle;\n",
       "    }\n",
       "\n",
       "    .dataframe tbody tr th {\n",
       "        vertical-align: top;\n",
       "    }\n",
       "\n",
       "    .dataframe thead th {\n",
       "        text-align: right;\n",
       "    }\n",
       "</style>\n",
       "<table border=\"1\" class=\"dataframe\">\n",
       "  <thead>\n",
       "    <tr style=\"text-align: right;\">\n",
       "      <th></th>\n",
       "      <th>country</th>\n",
       "      <th>state</th>\n",
       "      <th>goal_usd_log</th>\n",
       "      <th>name_len</th>\n",
       "      <th>category</th>\n",
       "      <th>delta_dead_laun</th>\n",
       "    </tr>\n",
       "  </thead>\n",
       "  <tbody>\n",
       "    <tr>\n",
       "      <th>0</th>\n",
       "      <td>US</td>\n",
       "      <td>1</td>\n",
       "      <td>6.907755</td>\n",
       "      <td>23</td>\n",
       "      <td>\"slug\":\"games/playing cards\"</td>\n",
       "      <td>720.0</td>\n",
       "    </tr>\n",
       "    <tr>\n",
       "      <th>1</th>\n",
       "      <td>US</td>\n",
       "      <td>1</td>\n",
       "      <td>9.615805</td>\n",
       "      <td>51</td>\n",
       "      <td>\"slug\":\"music/rock\"</td>\n",
       "      <td>720.0</td>\n",
       "    </tr>\n",
       "    <tr>\n",
       "      <th>2</th>\n",
       "      <td>GB</td>\n",
       "      <td>0</td>\n",
       "      <td>9.479141</td>\n",
       "      <td>34</td>\n",
       "      <td>\"slug\":\"games/playing cards\"</td>\n",
       "      <td>1439.0</td>\n",
       "    </tr>\n",
       "    <tr>\n",
       "      <th>3</th>\n",
       "      <td>US</td>\n",
       "      <td>1</td>\n",
       "      <td>7.937375</td>\n",
       "      <td>40</td>\n",
       "      <td>\"slug\":\"publishing/nonfiction\"</td>\n",
       "      <td>720.0</td>\n",
       "    </tr>\n",
       "    <tr>\n",
       "      <th>4</th>\n",
       "      <td>US</td>\n",
       "      <td>1</td>\n",
       "      <td>8.160518</td>\n",
       "      <td>31</td>\n",
       "      <td>\"slug\":\"music/classical music\"</td>\n",
       "      <td>720.0</td>\n",
       "    </tr>\n",
       "  </tbody>\n",
       "</table>\n",
       "</div>"
      ],
      "text/plain": [
       "  country  state  goal_usd_log  name_len                        category  \\\n",
       "0      US      1      6.907755        23    \"slug\":\"games/playing cards\"   \n",
       "1      US      1      9.615805        51             \"slug\":\"music/rock\"   \n",
       "2      GB      0      9.479141        34    \"slug\":\"games/playing cards\"   \n",
       "3      US      1      7.937375        40  \"slug\":\"publishing/nonfiction\"   \n",
       "4      US      1      8.160518        31  \"slug\":\"music/classical music\"   \n",
       "\n",
       "   delta_dead_laun  \n",
       "0            720.0  \n",
       "1            720.0  \n",
       "2           1439.0  \n",
       "3            720.0  \n",
       "4            720.0  "
      ]
     },
     "execution_count": 71,
     "metadata": {},
     "output_type": "execute_result"
    }
   ],
   "source": [
    "error_df.head()"
   ]
  },
  {
   "cell_type": "code",
   "execution_count": null,
   "metadata": {},
   "outputs": [],
   "source": [
    "X2 = error_df.drop('state', axis=1)\n",
    "y2 = error_df['state']"
   ]
  },
  {
   "cell_type": "code",
   "execution_count": null,
   "metadata": {},
   "outputs": [],
   "source": [
    "# split the data\n",
    "X_train2, X_test2, y_train2, y_test2 = train_test_split(X2, y2, random_state=42, test_size=0.3)"
   ]
  },
  {
   "cell_type": "code",
   "execution_count": null,
   "metadata": {},
   "outputs": [],
   "source": [
    "features = pd.DataFrame(X_test2)"
   ]
  },
  {
   "cell_type": "code",
   "execution_count": null,
   "metadata": {},
   "outputs": [],
   "source": [
    "features = features.reset_index()"
   ]
  },
  {
   "cell_type": "code",
   "execution_count": null,
   "metadata": {},
   "outputs": [],
   "source": [
    "state = y_test2.reset_index()"
   ]
  },
  {
   "cell_type": "code",
   "execution_count": null,
   "metadata": {},
   "outputs": [],
   "source": [
    "state_pred = pd.DataFrame(y_pred_forestadj)"
   ]
  },
  {
   "cell_type": "code",
   "execution_count": null,
   "metadata": {},
   "outputs": [],
   "source": [
    "df_error = pd.concat([features, state_pred, state], axis=1)"
   ]
  },
  {
   "cell_type": "code",
   "execution_count": null,
   "metadata": {},
   "outputs": [],
   "source": [
    "df_error.rename(columns={0: 'state_pred'}, inplace=True)"
   ]
  },
  {
   "cell_type": "code",
   "execution_count": null,
   "metadata": {},
   "outputs": [],
   "source": [
    "false_pos = df_error.query('state == 0 and state_pred == 1')"
   ]
  },
  {
   "cell_type": "code",
   "execution_count": null,
   "metadata": {},
   "outputs": [],
   "source": [
    "false_neg = df_error.query('state == 1 and state_pred == 0')"
   ]
  },
  {
   "cell_type": "code",
   "execution_count": null,
   "metadata": {},
   "outputs": [
    {
     "data": {
      "text/plain": [
       "<AxesSubplot:xlabel='name_len', ylabel='Count'>"
      ]
     },
     "execution_count": 105,
     "metadata": {},
     "output_type": "execute_result"
    },
    {
     "data": {
      "image/png": "[encoded data removed]",
      "text/plain": [
       "<Figure size 432x288 with 1 Axes>"
      ]
     },
     "metadata": {
      "needs_background": "light"
     },
     "output_type": "display_data"
    }
   ],
   "source": [
    "sns.histplot(data=false_pos, x='name_len')"
   ]
  },
  {
   "cell_type": "code",
   "execution_count": null,
   "metadata": {},
   "outputs": [
    {
     "data": {
      "text/plain": [
       "<AxesSubplot:xlabel='country', ylabel='Count'>"
      ]
     },
     "execution_count": 106,
     "metadata": {},
     "output_type": "execute_result"
    },
    {
     "data": {
      "image/png": "[encoded data removed]",
      "text/plain": [
       "<Figure size 432x288 with 1 Axes>"
      ]
     },
     "metadata": {
      "needs_background": "light"
     },
     "output_type": "display_data"
    }
   ],
   "source": [
    "sns.histplot(data=false_pos, x='country')"
   ]
  },
  {
   "cell_type": "code",
   "execution_count": null,
   "metadata": {},
   "outputs": [
    {
     "data": {
      "text/plain": [
       "<AxesSubplot:xlabel='goal_usd_log', ylabel='Count'>"
      ]
     },
     "execution_count": 107,
     "metadata": {},
     "output_type": "execute_result"
    },
    {
     "data": {
      "image/png": "[encoded data removed]",
      "text/plain": [
       "<Figure size 432x288 with 1 Axes>"
      ]
     },
     "metadata": {
      "needs_background": "light"
     },
     "output_type": "display_data"
    }
   ],
   "source": [
    "sns.histplot(data=false_pos, x='goal_usd_log')"
   ]
  },
  {
   "cell_type": "code",
   "execution_count": null,
   "metadata": {},
   "outputs": [
    {
     "data": {
      "text/plain": [
       "<AxesSubplot:xlabel='category', ylabel='Count'>"
      ]
     },
     "execution_count": 108,
     "metadata": {},
     "output_type": "execute_result"
    },
    {
     "data": {
      "image/png": "[encoded data removed]",
      "text/plain": [
       "<Figure size 432x288 with 1 Axes>"
      ]
     },
     "metadata": {
      "needs_background": "light"
     },
     "output_type": "display_data"
    }
   ],
   "source": [
    "sns.histplot(data=false_pos, x='category')"
   ]
  },
  {
   "cell_type": "code",
   "execution_count": null,
   "metadata": {},
   "outputs": [
    {
     "data": {
      "text/plain": [
       "<AxesSubplot:xlabel='delta_dead_laun', ylabel='Count'>"
      ]
     },
     "execution_count": 118,
     "metadata": {},
     "output_type": "execute_result"
    },
    {
     "data": {
      "image/png": "[encoded data removed]",
      "text/plain": [
       "<Figure size 576x396 with 1 Axes>"
      ]
     },
     "metadata": {},
     "output_type": "display_data"
    }
   ],
   "source": [
    "sns.histplot(data=false_pos, x='delta_dead_laun')"
   ]
  },
  {
   "cell_type": "code",
   "execution_count": null,
   "metadata": {},
   "outputs": [
    {
     "data": {
      "text/plain": [
       "<AxesSubplot:xlabel='name_len', ylabel='Count'>"
      ]
     },
     "execution_count": 135,
     "metadata": {},
     "output_type": "execute_result"
    },
    {
     "data": {
      "image/png": "[encoded data removed]",
      "text/plain": [
       "<Figure size 576x396 with 1 Axes>"
      ]
     },
     "metadata": {},
     "output_type": "display_data"
    }
   ],
   "source": [
    "sns.histplot(data=false_neg, x='name_len')"
   ]
  },
  {
   "cell_type": "code",
   "execution_count": null,
   "metadata": {},
   "outputs": [
    {
     "data": {
      "text/plain": [
       "<AxesSubplot:xlabel='country', ylabel='Count'>"
      ]
     },
     "execution_count": 136,
     "metadata": {},
     "output_type": "execute_result"
    },
    {
     "data": {
      "image/png": "[encoded data removed]",
      "text/plain": [
       "<Figure size 576x396 with 1 Axes>"
      ]
     },
     "metadata": {},
     "output_type": "display_data"
    }
   ],
   "source": [
    "sns.histplot(data=false_neg, x='country')"
   ]
  },
  {
   "cell_type": "code",
   "execution_count": null,
   "metadata": {},
   "outputs": [
    {
     "data": {
      "text/plain": [
       "<AxesSubplot:xlabel='goal_usd_log', ylabel='Count'>"
      ]
     },
     "execution_count": 137,
     "metadata": {},
     "output_type": "execute_result"
    },
    {
     "data": {
      "image/png": "[encoded data removed]",
      "text/plain": [
       "<Figure size 576x396 with 1 Axes>"
      ]
     },
     "metadata": {},
     "output_type": "display_data"
    }
   ],
   "source": [
    "sns.histplot(data=false_neg, x='goal_usd_log')"
   ]
  },
  {
   "cell_type": "code",
   "execution_count": null,
   "metadata": {},
   "outputs": [
    {
     "data": {
      "text/plain": [
       "<AxesSubplot:xlabel='category', ylabel='Count'>"
      ]
     },
     "execution_count": 138,
     "metadata": {},
     "output_type": "execute_result"
    },
    {
     "data": {
      "image/png": "[encoded data removed]",
      "text/plain": [
       "<Figure size 576x396 with 1 Axes>"
      ]
     },
     "metadata": {},
     "output_type": "display_data"
    }
   ],
   "source": [
    "sns.histplot(data=false_neg, x='category')"
   ]
  },
  {
   "cell_type": "code",
   "execution_count": null,
   "metadata": {},
   "outputs": [
    {
     "data": {
      "text/plain": [
       "<AxesSubplot:xlabel='delta_dead_laun', ylabel='Count'>"
      ]
     },
     "execution_count": 139,
     "metadata": {},
     "output_type": "execute_result"
    },
    {
     "data": {
      "image/png": "[encoded data removed]",
      "text/plain": [
       "<Figure size 576x396 with 1 Axes>"
      ]
     },
     "metadata": {},
     "output_type": "display_data"
    }
   ],
   "source": [
    "sns.histplot(data=false_neg, x='delta_dead_laun')"
   ]
  },
  {
   "cell_type": "code",
   "execution_count": null,
   "metadata": {},
   "outputs": [
    {
     "data": {
      "text/plain": [
       "Index(['goal_usd_log', 'name_len', 'delta_dead_laun', 'AU', 'BE', 'CA', 'CH',\n",
       "       'DE', 'DK', 'ES',\n",
       "       ...\n",
       "       '\"slug\":\"technology/wearables\"', '\"slug\":\"technology/web\"',\n",
       "       '\"slug\":\"theater\"', '\"slug\":\"theater/comedy\"',\n",
       "       '\"slug\":\"theater/experimental\"', '\"slug\":\"theater/festivals\"',\n",
       "       '\"slug\":\"theater/immersive\"', '\"slug\":\"theater/musical\"',\n",
       "       '\"slug\":\"theater/plays\"', '\"slug\":\"theater/spaces\"'],\n",
       "      dtype='object', length=192)"
      ]
     },
     "execution_count": 146,
     "metadata": {},
     "output_type": "execute_result"
    }
   ],
   "source": [
    "X.columns"
   ]
  },
  {
   "cell_type": "code",
   "execution_count": 59,
   "metadata": {},
   "outputs": [
    {
     "data": {
      "text/plain": [
       "<BarContainer object of 42 artists>"
      ]
     },
     "execution_count": 59,
     "metadata": {},
     "output_type": "execute_result"
    },
    {
     "data": {
      "image/png": "[encoded data removed]",
      "text/plain": [
       "<Figure size 720x1008 with 1 Axes>"
      ]
     },
     "metadata": {
      "needs_background": "light"
     },
     "output_type": "display_data"
    }
   ],
   "source": [
    "plt.figure(figsize=(10, 14))\n",
    "plt.barh(X.columns, forest_adj.feature_importances_)"
   ]
  }
 ],
 "metadata": {
  "interpreter": {
   "hash": "14f51d1694797e5da3502a145014201e62f9849463032f26557bd12a95b9aa43"
  },
  "kernelspec": {
   "display_name": "Python 3.9.4 64-bit ('.venv': venv)",
   "name": "python3"
  },
  "language_info": {
   "codemirror_mode": {
    "name": "ipython",
    "version": 3
   },
   "file_extension": ".py",
   "mimetype": "text/x-python",
   "name": "python",
   "nbconvert_exporter": "python",
   "pygments_lexer": "ipython3",
   "version": "3.9.4"
  },
  "orig_nbformat": 4
 },
 "nbformat": 4,
 "nbformat_minor": 2
}
