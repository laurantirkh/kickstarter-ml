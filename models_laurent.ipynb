{
 "cells": [
  {
   "cell_type": "code",
   "execution_count": 34,
   "metadata": {},
   "outputs": [],
   "source": [
    "import pandas as pd\n",
    "import numpy as np\n",
    "import seaborn as sns\n",
    "import matplotlib.pyplot as plt\n",
    "%matplotlib inline\n",
    "\n",
    "from sklearn.metrics import classification_report, confusion_matrix, f1_score, roc_auc_score, roc_curve, precision_recall_curve, auc\n",
    "from sklearn.model_selection import train_test_split, GridSearchCV, RandomizedSearchCV\n",
    "from sklearn.tree import DecisionTreeClassifier\n",
    "from sklearn.svm import SVC\n",
    "from sklearn.ensemble import RandomForestClassifier\n"
   ]
  },
  {
   "cell_type": "code",
   "execution_count": 3,
   "metadata": {},
   "outputs": [],
   "source": [
    "df = pd.read_csv(\"data/df_preprocessed_log_dummies.csv\")"
   ]
  },
  {
   "cell_type": "code",
   "execution_count": 4,
   "metadata": {},
   "outputs": [
    {
     "data": {
      "text/html": [
       "<div>\n",
       "<style scoped>\n",
       "    .dataframe tbody tr th:only-of-type {\n",
       "        vertical-align: middle;\n",
       "    }\n",
       "\n",
       "    .dataframe tbody tr th {\n",
       "        vertical-align: top;\n",
       "    }\n",
       "\n",
       "    .dataframe thead th {\n",
       "        text-align: right;\n",
       "    }\n",
       "</style>\n",
       "<table border=\"1\" class=\"dataframe\">\n",
       "  <thead>\n",
       "    <tr style=\"text-align: right;\">\n",
       "      <th></th>\n",
       "      <th>state</th>\n",
       "      <th>delta_dead_laun</th>\n",
       "      <th>launch_day</th>\n",
       "      <th>launch_hour</th>\n",
       "      <th>name_len</th>\n",
       "      <th>blurb_len</th>\n",
       "      <th>goal_usd_log</th>\n",
       "      <th>AU</th>\n",
       "      <th>BE</th>\n",
       "      <th>CA</th>\n",
       "      <th>...</th>\n",
       "      <th>fashion</th>\n",
       "      <th>film &amp; video</th>\n",
       "      <th>food</th>\n",
       "      <th>games</th>\n",
       "      <th>journalism</th>\n",
       "      <th>music</th>\n",
       "      <th>photography</th>\n",
       "      <th>publishing</th>\n",
       "      <th>technology</th>\n",
       "      <th>theater</th>\n",
       "    </tr>\n",
       "  </thead>\n",
       "  <tbody>\n",
       "    <tr>\n",
       "      <th>0</th>\n",
       "      <td>1</td>\n",
       "      <td>720.0</td>\n",
       "      <td>3</td>\n",
       "      <td>19</td>\n",
       "      <td>23</td>\n",
       "      <td>125</td>\n",
       "      <td>6.907755</td>\n",
       "      <td>0</td>\n",
       "      <td>0</td>\n",
       "      <td>0</td>\n",
       "      <td>...</td>\n",
       "      <td>0</td>\n",
       "      <td>0</td>\n",
       "      <td>0</td>\n",
       "      <td>1</td>\n",
       "      <td>0</td>\n",
       "      <td>0</td>\n",
       "      <td>0</td>\n",
       "      <td>0</td>\n",
       "      <td>0</td>\n",
       "      <td>0</td>\n",
       "    </tr>\n",
       "    <tr>\n",
       "      <th>1</th>\n",
       "      <td>1</td>\n",
       "      <td>720.0</td>\n",
       "      <td>0</td>\n",
       "      <td>7</td>\n",
       "      <td>51</td>\n",
       "      <td>108</td>\n",
       "      <td>9.615805</td>\n",
       "      <td>0</td>\n",
       "      <td>0</td>\n",
       "      <td>0</td>\n",
       "      <td>...</td>\n",
       "      <td>0</td>\n",
       "      <td>0</td>\n",
       "      <td>0</td>\n",
       "      <td>0</td>\n",
       "      <td>0</td>\n",
       "      <td>1</td>\n",
       "      <td>0</td>\n",
       "      <td>0</td>\n",
       "      <td>0</td>\n",
       "      <td>0</td>\n",
       "    </tr>\n",
       "    <tr>\n",
       "      <th>2</th>\n",
       "      <td>0</td>\n",
       "      <td>1439.0</td>\n",
       "      <td>3</td>\n",
       "      <td>19</td>\n",
       "      <td>34</td>\n",
       "      <td>133</td>\n",
       "      <td>9.479141</td>\n",
       "      <td>0</td>\n",
       "      <td>0</td>\n",
       "      <td>0</td>\n",
       "      <td>...</td>\n",
       "      <td>0</td>\n",
       "      <td>0</td>\n",
       "      <td>0</td>\n",
       "      <td>1</td>\n",
       "      <td>0</td>\n",
       "      <td>0</td>\n",
       "      <td>0</td>\n",
       "      <td>0</td>\n",
       "      <td>0</td>\n",
       "      <td>0</td>\n",
       "    </tr>\n",
       "    <tr>\n",
       "      <th>3</th>\n",
       "      <td>1</td>\n",
       "      <td>720.0</td>\n",
       "      <td>0</td>\n",
       "      <td>21</td>\n",
       "      <td>40</td>\n",
       "      <td>121</td>\n",
       "      <td>7.937375</td>\n",
       "      <td>0</td>\n",
       "      <td>0</td>\n",
       "      <td>0</td>\n",
       "      <td>...</td>\n",
       "      <td>0</td>\n",
       "      <td>0</td>\n",
       "      <td>0</td>\n",
       "      <td>0</td>\n",
       "      <td>0</td>\n",
       "      <td>0</td>\n",
       "      <td>0</td>\n",
       "      <td>1</td>\n",
       "      <td>0</td>\n",
       "      <td>0</td>\n",
       "    </tr>\n",
       "    <tr>\n",
       "      <th>4</th>\n",
       "      <td>1</td>\n",
       "      <td>720.0</td>\n",
       "      <td>3</td>\n",
       "      <td>4</td>\n",
       "      <td>31</td>\n",
       "      <td>134</td>\n",
       "      <td>8.160518</td>\n",
       "      <td>0</td>\n",
       "      <td>0</td>\n",
       "      <td>0</td>\n",
       "      <td>...</td>\n",
       "      <td>0</td>\n",
       "      <td>0</td>\n",
       "      <td>0</td>\n",
       "      <td>0</td>\n",
       "      <td>0</td>\n",
       "      <td>1</td>\n",
       "      <td>0</td>\n",
       "      <td>0</td>\n",
       "      <td>0</td>\n",
       "      <td>0</td>\n",
       "    </tr>\n",
       "  </tbody>\n",
       "</table>\n",
       "<p>5 rows × 43 columns</p>\n",
       "</div>"
      ],
      "text/plain": [
       "   state  delta_dead_laun  launch_day  launch_hour  name_len  blurb_len  \\\n",
       "0      1            720.0           3           19        23        125   \n",
       "1      1            720.0           0            7        51        108   \n",
       "2      0           1439.0           3           19        34        133   \n",
       "3      1            720.0           0           21        40        121   \n",
       "4      1            720.0           3            4        31        134   \n",
       "\n",
       "   goal_usd_log  AU  BE  CA  ...  fashion  film & video  food  games  \\\n",
       "0      6.907755   0   0   0  ...        0             0     0      1   \n",
       "1      9.615805   0   0   0  ...        0             0     0      0   \n",
       "2      9.479141   0   0   0  ...        0             0     0      1   \n",
       "3      7.937375   0   0   0  ...        0             0     0      0   \n",
       "4      8.160518   0   0   0  ...        0             0     0      0   \n",
       "\n",
       "   journalism  music  photography  publishing  technology  theater  \n",
       "0           0      0            0           0           0        0  \n",
       "1           0      1            0           0           0        0  \n",
       "2           0      0            0           0           0        0  \n",
       "3           0      0            0           1           0        0  \n",
       "4           0      1            0           0           0        0  \n",
       "\n",
       "[5 rows x 43 columns]"
      ]
     },
     "execution_count": 4,
     "metadata": {},
     "output_type": "execute_result"
    }
   ],
   "source": [
    "df.head()"
   ]
  },
  {
   "cell_type": "code",
   "execution_count": 5,
   "metadata": {},
   "outputs": [],
   "source": [
    "# define features and target\n",
    "X = df.drop('state', axis=1)\n",
    "y = df['state']"
   ]
  },
  {
   "cell_type": "code",
   "execution_count": 6,
   "metadata": {},
   "outputs": [],
   "source": [
    "# split the data\n",
    "X_train, X_test, y_train, y_test = train_test_split(X, y, random_state=42, test_size=0.3)"
   ]
  },
  {
   "cell_type": "code",
   "execution_count": 7,
   "metadata": {},
   "outputs": [],
   "source": [
    "def train(X_train, y_train, X_test, model):\n",
    "    model.fit(X_train, y_train)\n",
    "    y_pred = model.predict(X_test)\n",
    "    y_pred_train = model.predict(X_train)\n",
    "    return y_pred, y_pred_train"
   ]
  },
  {
   "cell_type": "code",
   "execution_count": 8,
   "metadata": {},
   "outputs": [],
   "source": [
    "def evaluate(y_true, y_pred, y_train, y_pred_train):\n",
    "    print(classification_report(y_train, y_pred_train))\n",
    "    print(classification_report(y_true, y_pred))\n",
    "    cm_test = confusion_matrix(y_true, y_pred, normalize=None)\n",
    "    cm_train = confusion_matrix(y_train, y_pred_train, normalize=None)\n",
    "    fig, (ax1, ax2) = plt.subplots(nrows=1, ncols=2, figsize=(12,4))\n",
    "    sns.heatmap(cm_train, annot=True, fmt='g', ax=ax1)\n",
    "    sns.heatmap(cm_test, annot=True, fmt='g', ax=ax2)\n",
    "    ax1.title.set_text('Train')\n",
    "    ax2.title.set_text('Test')"
   ]
  },
  {
   "cell_type": "code",
   "execution_count": 128,
   "metadata": {},
   "outputs": [],
   "source": [
    "# train DecistionTree\n",
    "tree = DecisionTreeClassifier()\n",
    "y_pred_tree, y_pred_tree_train = train(X_train, y_train, X_test, tree)"
   ]
  },
  {
   "cell_type": "code",
   "execution_count": 158,
   "metadata": {},
   "outputs": [
    {
     "name": "stdout",
     "output_type": "stream",
     "text": [
      "              precision    recall  f1-score   support\n",
      "\n",
      "           0       1.00      1.00      1.00     52770\n",
      "           1       1.00      1.00      1.00     82093\n",
      "\n",
      "    accuracy                           1.00    134863\n",
      "   macro avg       1.00      1.00      1.00    134863\n",
      "weighted avg       1.00      1.00      1.00    134863\n",
      "\n",
      "              precision    recall  f1-score   support\n",
      "\n",
      "           0       0.58      0.56      0.57     22427\n",
      "           1       0.73      0.75      0.74     35372\n",
      "\n",
      "    accuracy                           0.67     57799\n",
      "   macro avg       0.66      0.65      0.65     57799\n",
      "weighted avg       0.67      0.67      0.67     57799\n",
      "\n"
     ]
    },
    {
     "data": {
      "image/png": "[encoded data removed]",
      "text/plain": [
       "<Figure size 864x288 with 4 Axes>"
      ]
     },
     "metadata": {
      "needs_background": "light"
     },
     "output_type": "display_data"
    }
   ],
   "source": [
    "# evaluate tree\n",
    "evaluate(y_test, y_pred_tree, y_train, y_pred_tree_train)"
   ]
  },
  {
   "cell_type": "code",
   "execution_count": null,
   "metadata": {},
   "outputs": [],
   "source": [
    "# get parameter\n",
    "print(f'depth: {tree.get_params()}')"
   ]
  },
  {
   "cell_type": "code",
   "execution_count": 37,
   "metadata": {},
   "outputs": [
    {
     "data": {
      "text/plain": [
       "0.7375113279888463"
      ]
     },
     "execution_count": 37,
     "metadata": {},
     "output_type": "execute_result"
    }
   ],
   "source": [
    "f1_score(y_test, y_pred_tree)"
   ]
  },
  {
   "cell_type": "code",
   "execution_count": 38,
   "metadata": {},
   "outputs": [
    {
     "data": {
      "text/plain": [
       "0.6530638826982959"
      ]
     },
     "execution_count": 38,
     "metadata": {},
     "output_type": "execute_result"
    }
   ],
   "source": [
    "roc_auc_score(y_test, y_pred_tree)"
   ]
  },
  {
   "cell_type": "code",
   "execution_count": 159,
   "metadata": {},
   "outputs": [
    {
     "name": "stderr",
     "output_type": "stream",
     "text": [
      "/Users/laurenthartmann/neuefische/kickstarter-ml/.venv/lib/python3.9/site-packages/sklearn/svm/_base.py:284: ConvergenceWarning: Solver terminated early (max_iter=10000).  Consider pre-processing your data with StandardScaler or MinMaxScaler.\n",
      "  warnings.warn(\n"
     ]
    }
   ],
   "source": [
    "# train svm\n",
    "svm = SVC(max_iter=10000)\n",
    "y_pred_svm, y_pred_svm_train = train(X_train, y_train, X_test, svm)"
   ]
  },
  {
   "cell_type": "code",
   "execution_count": 61,
   "metadata": {},
   "outputs": [
    {
     "name": "stdout",
     "output_type": "stream",
     "text": [
      "              precision    recall  f1-score   support\n",
      "\n",
      "           0       0.28      0.10      0.14     22427\n",
      "           1       0.60      0.84      0.70     35372\n",
      "\n",
      "    accuracy                           0.55     57799\n",
      "   macro avg       0.44      0.47      0.42     57799\n",
      "weighted avg       0.47      0.55      0.48     57799\n",
      "\n"
     ]
    },
    {
     "data": {
      "image/png": "[encoded data removed]",
      "text/plain": [
       "<Figure size 432x288 with 2 Axes>"
      ]
     },
     "metadata": {
      "needs_background": "light"
     },
     "output_type": "display_data"
    }
   ],
   "source": [
    "# evaluate svm\n",
    "evaluate(y_test, y_pred_svm, y_train, y_pred_svm_train)"
   ]
  },
  {
   "cell_type": "code",
   "execution_count": 11,
   "metadata": {},
   "outputs": [],
   "source": [
    "# train random forest\n",
    "forest = RandomForestClassifier()\n",
    "y_pred_forest, y_pred_forest_train = train(X_train, y_train, X_test, forest)"
   ]
  },
  {
   "cell_type": "code",
   "execution_count": 12,
   "metadata": {},
   "outputs": [
    {
     "name": "stdout",
     "output_type": "stream",
     "text": [
      "              precision    recall  f1-score   support\n",
      "\n",
      "           0       1.00      1.00      1.00     52770\n",
      "           1       1.00      1.00      1.00     82093\n",
      "\n",
      "    accuracy                           1.00    134863\n",
      "   macro avg       1.00      1.00      1.00    134863\n",
      "weighted avg       1.00      1.00      1.00    134863\n",
      "\n",
      "              precision    recall  f1-score   support\n",
      "\n",
      "           0       0.72      0.55      0.63     22427\n",
      "           1       0.75      0.86      0.80     35372\n",
      "\n",
      "    accuracy                           0.74     57799\n",
      "   macro avg       0.74      0.71      0.72     57799\n",
      "weighted avg       0.74      0.74      0.74     57799\n",
      "\n"
     ]
    },
    {
     "data": {
      "image/png": "[encoded data removed]",
      "text/plain": [
       "<Figure size 864x288 with 4 Axes>"
      ]
     },
     "metadata": {
      "needs_background": "light"
     },
     "output_type": "display_data"
    }
   ],
   "source": [
    "# evaluate random forest\n",
    "evaluate(y_test, y_pred_forest, y_train, y_pred_forest_train)"
   ]
  },
  {
   "cell_type": "code",
   "execution_count": 13,
   "metadata": {},
   "outputs": [
    {
     "data": {
      "text/plain": [
       "{'bootstrap': True,\n",
       " 'ccp_alpha': 0.0,\n",
       " 'class_weight': None,\n",
       " 'criterion': 'gini',\n",
       " 'max_depth': None,\n",
       " 'max_features': 'auto',\n",
       " 'max_leaf_nodes': None,\n",
       " 'max_samples': None,\n",
       " 'min_impurity_decrease': 0.0,\n",
       " 'min_samples_leaf': 1,\n",
       " 'min_samples_split': 2,\n",
       " 'min_weight_fraction_leaf': 0.0,\n",
       " 'n_estimators': 100,\n",
       " 'n_jobs': None,\n",
       " 'oob_score': False,\n",
       " 'random_state': None,\n",
       " 'verbose': 0,\n",
       " 'warm_start': False}"
      ]
     },
     "execution_count": 13,
     "metadata": {},
     "output_type": "execute_result"
    }
   ],
   "source": [
    "forest.get_params()"
   ]
  },
  {
   "cell_type": "code",
   "execution_count": 30,
   "metadata": {},
   "outputs": [],
   "source": [
    "# randomized search with random forest\n",
    "rs_params = {\n",
    "    'n_estimators': [100, 200, 500],\n",
    "    'max_features': [None, 'sqrt'],\n",
    "    'max_depth': [50, 100, 150],\n",
    "    'min_samples_split': [50, 100, 200],\n",
    "    'min_samples_leaf': [50, 100, 200],\n",
    "    'bootstrap': [True, False]}\n",
    "\n",
    "rs_forest = RandomizedSearchCV(forest, param_distributions=rs_params, n_jobs=-1, cv=5, scoring='f1', verbose=2, random_state=42)"
   ]
  },
  {
   "cell_type": "code",
   "execution_count": 31,
   "metadata": {},
   "outputs": [
    {
     "name": "stdout",
     "output_type": "stream",
     "text": [
      "Fitting 5 folds for each of 10 candidates, totalling 50 fits\n",
      "[CV] END bootstrap=True, max_depth=150, max_features=None, min_samples_leaf=200, min_samples_split=200, n_estimators=100; total time= 1.3min\n",
      "[CV] END bootstrap=True, max_depth=150, max_features=None, min_samples_leaf=200, min_samples_split=200, n_estimators=100; total time= 1.3min\n",
      "[CV] END bootstrap=True, max_depth=150, max_features=None, min_samples_leaf=200, min_samples_split=200, n_estimators=100; total time= 1.3min\n",
      "[CV] END bootstrap=True, max_depth=150, max_features=None, min_samples_leaf=200, min_samples_split=200, n_estimators=100; total time= 1.3min\n",
      "[CV] END bootstrap=True, max_depth=150, max_features=None, min_samples_leaf=200, min_samples_split=200, n_estimators=100; total time= 1.3min\n",
      "[CV] END bootstrap=True, max_depth=150, max_features=None, min_samples_leaf=50, min_samples_split=50, n_estimators=100; total time= 1.6min\n",
      "[CV] END bootstrap=True, max_depth=150, max_features=None, min_samples_leaf=50, min_samples_split=50, n_estimators=100; total time= 1.6min\n",
      "[CV] END bootstrap=True, max_depth=150, max_features=None, min_samples_leaf=50, min_samples_split=50, n_estimators=100; total time= 1.6min\n",
      "[CV] END bootstrap=True, max_depth=150, max_features=None, min_samples_leaf=50, min_samples_split=50, n_estimators=100; total time= 1.6min\n",
      "[CV] END bootstrap=True, max_depth=150, max_features=sqrt, min_samples_leaf=50, min_samples_split=50, n_estimators=500; total time= 1.6min\n",
      "[CV] END bootstrap=True, max_depth=150, max_features=sqrt, min_samples_leaf=50, min_samples_split=50, n_estimators=500; total time= 1.6min\n",
      "[CV] END bootstrap=True, max_depth=150, max_features=None, min_samples_leaf=50, min_samples_split=50, n_estimators=100; total time= 1.6min\n",
      "[CV] END bootstrap=True, max_depth=150, max_features=sqrt, min_samples_leaf=50, min_samples_split=50, n_estimators=500; total time= 1.6min\n",
      "[CV] END bootstrap=True, max_depth=50, max_features=None, min_samples_leaf=100, min_samples_split=50, n_estimators=100; total time= 1.5min\n",
      "[CV] END bootstrap=True, max_depth=150, max_features=sqrt, min_samples_leaf=50, min_samples_split=50, n_estimators=500; total time= 1.6min\n",
      "[CV] END bootstrap=True, max_depth=150, max_features=sqrt, min_samples_leaf=50, min_samples_split=50, n_estimators=500; total time= 1.6min\n",
      "[CV] END bootstrap=True, max_depth=50, max_features=None, min_samples_leaf=100, min_samples_split=50, n_estimators=100; total time= 1.4min\n",
      "[CV] END bootstrap=True, max_depth=50, max_features=None, min_samples_leaf=100, min_samples_split=50, n_estimators=100; total time= 1.4min\n",
      "[CV] END bootstrap=True, max_depth=50, max_features=None, min_samples_leaf=100, min_samples_split=50, n_estimators=100; total time= 1.4min\n",
      "[CV] END bootstrap=True, max_depth=50, max_features=None, min_samples_leaf=100, min_samples_split=50, n_estimators=100; total time= 1.4min\n",
      "[CV] END bootstrap=False, max_depth=50, max_features=None, min_samples_leaf=200, min_samples_split=50, n_estimators=100; total time= 1.9min\n",
      "[CV] END bootstrap=False, max_depth=50, max_features=None, min_samples_leaf=200, min_samples_split=50, n_estimators=100; total time= 1.9min\n",
      "[CV] END bootstrap=False, max_depth=50, max_features=None, min_samples_leaf=200, min_samples_split=50, n_estimators=100; total time= 1.9min\n",
      "[CV] END bootstrap=False, max_depth=50, max_features=None, min_samples_leaf=200, min_samples_split=50, n_estimators=100; total time= 2.0min\n",
      "[CV] END bootstrap=True, max_depth=150, max_features=None, min_samples_leaf=200, min_samples_split=50, n_estimators=100; total time= 1.2min\n",
      "[CV] END bootstrap=True, max_depth=150, max_features=None, min_samples_leaf=200, min_samples_split=50, n_estimators=100; total time= 1.2min\n",
      "[CV] END bootstrap=True, max_depth=150, max_features=None, min_samples_leaf=200, min_samples_split=50, n_estimators=100; total time= 1.2min\n",
      "[CV] END bootstrap=True, max_depth=150, max_features=None, min_samples_leaf=200, min_samples_split=50, n_estimators=100; total time= 1.2min\n",
      "[CV] END bootstrap=False, max_depth=50, max_features=None, min_samples_leaf=200, min_samples_split=50, n_estimators=100; total time= 1.9min\n",
      "[CV] END bootstrap=True, max_depth=150, max_features=None, min_samples_leaf=200, min_samples_split=50, n_estimators=100; total time= 1.2min\n",
      "[CV] END bootstrap=False, max_depth=50, max_features=sqrt, min_samples_leaf=50, min_samples_split=200, n_estimators=200; total time=  47.9s\n",
      "[CV] END bootstrap=False, max_depth=50, max_features=sqrt, min_samples_leaf=50, min_samples_split=200, n_estimators=200; total time=  47.6s\n",
      "[CV] END bootstrap=False, max_depth=50, max_features=sqrt, min_samples_leaf=50, min_samples_split=200, n_estimators=200; total time=  47.7s\n",
      "[CV] END bootstrap=False, max_depth=100, max_features=None, min_samples_leaf=50, min_samples_split=100, n_estimators=100; total time= 2.2min\n",
      "[CV] END bootstrap=False, max_depth=100, max_features=None, min_samples_leaf=50, min_samples_split=100, n_estimators=100; total time= 2.2min\n",
      "[CV] END bootstrap=False, max_depth=50, max_features=sqrt, min_samples_leaf=50, min_samples_split=200, n_estimators=200; total time=  47.9s\n",
      "[CV] END bootstrap=False, max_depth=100, max_features=None, min_samples_leaf=50, min_samples_split=100, n_estimators=100; total time= 2.2min\n",
      "[CV] END bootstrap=False, max_depth=100, max_features=None, min_samples_leaf=50, min_samples_split=100, n_estimators=100; total time= 2.2min\n",
      "[CV] END bootstrap=False, max_depth=50, max_features=sqrt, min_samples_leaf=50, min_samples_split=200, n_estimators=200; total time=  48.2s\n",
      "[CV] END bootstrap=False, max_depth=100, max_features=None, min_samples_leaf=50, min_samples_split=100, n_estimators=100; total time= 2.2min\n",
      "[CV] END bootstrap=True, max_depth=150, max_features=sqrt, min_samples_leaf=100, min_samples_split=50, n_estimators=100; total time=  16.7s\n",
      "[CV] END bootstrap=True, max_depth=150, max_features=sqrt, min_samples_leaf=100, min_samples_split=50, n_estimators=100; total time=  16.4s\n",
      "[CV] END bootstrap=True, max_depth=150, max_features=sqrt, min_samples_leaf=100, min_samples_split=50, n_estimators=100; total time=  16.9s\n",
      "[CV] END bootstrap=True, max_depth=150, max_features=sqrt, min_samples_leaf=100, min_samples_split=50, n_estimators=100; total time=40.1min\n",
      "[CV] END bootstrap=True, max_depth=150, max_features=sqrt, min_samples_leaf=100, min_samples_split=50, n_estimators=100; total time=40.2min\n",
      "[CV] END bootstrap=False, max_depth=100, max_features=sqrt, min_samples_leaf=200, min_samples_split=100, n_estimators=500; total time=161.7min\n",
      "[CV] END bootstrap=False, max_depth=100, max_features=sqrt, min_samples_leaf=200, min_samples_split=100, n_estimators=500; total time=161.5min\n",
      "[CV] END bootstrap=False, max_depth=100, max_features=sqrt, min_samples_leaf=200, min_samples_split=100, n_estimators=500; total time=161.5min\n",
      "[CV] END bootstrap=False, max_depth=100, max_features=sqrt, min_samples_leaf=200, min_samples_split=100, n_estimators=500; total time=180.7min\n",
      "[CV] END bootstrap=False, max_depth=100, max_features=sqrt, min_samples_leaf=200, min_samples_split=100, n_estimators=500; total time=180.6min\n"
     ]
    },
    {
     "data": {
      "text/plain": [
       "RandomizedSearchCV(cv=5, estimator=RandomForestClassifier(), n_jobs=-1,\n",
       "                   param_distributions={'bootstrap': [True, False],\n",
       "                                        'max_depth': [50, 100, 150],\n",
       "                                        'max_features': [None, 'sqrt'],\n",
       "                                        'min_samples_leaf': [50, 100, 200],\n",
       "                                        'min_samples_split': [50, 100, 200],\n",
       "                                        'n_estimators': [100, 200, 500]},\n",
       "                   random_state=42, scoring='f1', verbose=2)"
      ]
     },
     "execution_count": 31,
     "metadata": {},
     "output_type": "execute_result"
    }
   ],
   "source": [
    "rs_forest.fit(X_train, y_train)"
   ]
  },
  {
   "cell_type": "code",
   "execution_count": 32,
   "metadata": {},
   "outputs": [],
   "source": [
    "best_rs = rs_forest.best_estimator_"
   ]
  },
  {
   "cell_type": "code",
   "execution_count": 33,
   "metadata": {},
   "outputs": [
    {
     "data": {
      "text/plain": [
       "{'n_estimators': 200,\n",
       " 'min_samples_split': 200,\n",
       " 'min_samples_leaf': 50,\n",
       " 'max_features': 'sqrt',\n",
       " 'max_depth': 50,\n",
       " 'bootstrap': False}"
      ]
     },
     "execution_count": 33,
     "metadata": {},
     "output_type": "execute_result"
    }
   ],
   "source": [
    "rs_forest.best_params_"
   ]
  },
  {
   "cell_type": "code",
   "execution_count": 34,
   "metadata": {},
   "outputs": [],
   "source": [
    "y_pred_rs, y_pred_rs_train = train(X_train, y_train, X_test, best_rs)"
   ]
  },
  {
   "cell_type": "code",
   "execution_count": 35,
   "metadata": {},
   "outputs": [
    {
     "name": "stdout",
     "output_type": "stream",
     "text": [
      "              precision    recall  f1-score   support\n",
      "\n",
      "           0       0.71      0.48      0.57     52770\n",
      "           1       0.72      0.88      0.79     82093\n",
      "\n",
      "    accuracy                           0.72    134863\n",
      "   macro avg       0.72      0.68      0.68    134863\n",
      "weighted avg       0.72      0.72      0.71    134863\n",
      "\n",
      "              precision    recall  f1-score   support\n",
      "\n",
      "           0       0.70      0.47      0.56     22427\n",
      "           1       0.72      0.87      0.79     35372\n",
      "\n",
      "    accuracy                           0.72     57799\n",
      "   macro avg       0.71      0.67      0.68     57799\n",
      "weighted avg       0.71      0.72      0.70     57799\n",
      "\n"
     ]
    },
    {
     "data": {
      "image/png": "[encoded data removed]",
      "text/plain": [
       "<Figure size 864x288 with 4 Axes>"
      ]
     },
     "metadata": {
      "needs_background": "light"
     },
     "output_type": "display_data"
    }
   ],
   "source": [
    "evaluate(y_test, y_pred_rs, y_train, y_pred_rs_train)"
   ]
  },
  {
   "cell_type": "code",
   "execution_count": 9,
   "metadata": {},
   "outputs": [],
   "source": [
    "# train adjusted forest\n",
    "forest2 = RandomForestClassifier(n_estimators=100, max_features='sqrt', max_depth=50, min_samples_split= 200, min_samples_leaf= 50)\n",
    "y_pred_forest2, y_pred_forest2_train = train(X_train, y_train, X_test, forest2)"
   ]
  },
  {
   "cell_type": "code",
   "execution_count": 10,
   "metadata": {},
   "outputs": [
    {
     "name": "stdout",
     "output_type": "stream",
     "text": [
      "              precision    recall  f1-score   support\n",
      "\n",
      "           0       0.71      0.47      0.56     52770\n",
      "           1       0.72      0.88      0.79     82093\n",
      "\n",
      "    accuracy                           0.72    134863\n",
      "   macro avg       0.71      0.67      0.68    134863\n",
      "weighted avg       0.71      0.72      0.70    134863\n",
      "\n",
      "              precision    recall  f1-score   support\n",
      "\n",
      "           0       0.69      0.46      0.56     22427\n",
      "           1       0.72      0.87      0.79     35372\n",
      "\n",
      "    accuracy                           0.71     57799\n",
      "   macro avg       0.71      0.67      0.67     57799\n",
      "weighted avg       0.71      0.71      0.70     57799\n",
      "\n"
     ]
    },
    {
     "data": {
      "image/png": "[encoded data removed]",
      "text/plain": [
       "<Figure size 864x288 with 4 Axes>"
      ]
     },
     "metadata": {
      "needs_background": "light"
     },
     "output_type": "display_data"
    }
   ],
   "source": [
    "evaluate(y_test, y_pred_forest2, y_train, y_pred_forest2_train)"
   ]
  },
  {
   "cell_type": "code",
   "execution_count": 11,
   "metadata": {},
   "outputs": [
    {
     "data": {
      "text/plain": [
       "0.7875228700469555"
      ]
     },
     "execution_count": 11,
     "metadata": {},
     "output_type": "execute_result"
    }
   ],
   "source": [
    "f1_score(y_test, y_pred_forest2)"
   ]
  },
  {
   "cell_type": "code",
   "execution_count": 12,
   "metadata": {},
   "outputs": [
    {
     "data": {
      "text/plain": [
       "0.6672534515731215"
      ]
     },
     "execution_count": 12,
     "metadata": {},
     "output_type": "execute_result"
    }
   ],
   "source": [
    "roc_auc_score(y_test, y_pred_forest2)"
   ]
  },
  {
   "cell_type": "code",
   "execution_count": 30,
   "metadata": {},
   "outputs": [
    {
     "name": "stdout",
     "output_type": "stream",
     "text": [
      "No Skill: ROC AUC=0.500\n",
      "Logistic: ROC AUC=0.756\n"
     ]
    },
    {
     "data": {
      "image/png": "[encoded data removed]",
      "text/plain": [
       "<Figure size 432x288 with 1 Axes>"
      ]
     },
     "metadata": {
      "needs_background": "light"
     },
     "output_type": "display_data"
    }
   ],
   "source": [
    "# predict probabilities\n",
    "lr_probs = forest2.predict_proba(X_test)\n",
    "\n",
    "# keep probabilities for the positive outcome only\n",
    "lr_probs = lr_probs[:, 1]\n",
    "\n",
    "# generate a no skill prediction (majority class) (does the same as the dummy classifier)\n",
    "ns_probs = [1 for _ in range(len(y_test))]\n",
    "\n",
    "# calculate scores\n",
    "ns_auc = roc_auc_score(y_test, ns_probs)\n",
    "lr_auc = roc_auc_score(y_test, lr_probs)\n",
    "\n",
    "# summarize scores\n",
    "print('No Skill: ROC AUC=%.3f' % (ns_auc))\n",
    "print('Logistic: ROC AUC=%.3f' % (lr_auc))\n",
    "\n",
    "# calculate roc curves\n",
    "ns_fpr, ns_tpr, _ = roc_curve(y_test, ns_probs)\n",
    "lr_fpr, lr_tpr, _ = roc_curve(y_test, lr_probs)\n",
    "\n",
    "# plot the roc curve for the model\n",
    "plt.plot(ns_fpr, ns_tpr, linestyle='--', label='Dummy')\n",
    "plt.plot(lr_fpr, lr_tpr, marker='.', label='LogReg')\n",
    "# axis labels\n",
    "plt.xlabel('False Positive Rate')\n",
    "plt.ylabel('True Positive Rate')\n",
    "# show the legend\n",
    "plt.legend()\n",
    "# show the plot\n",
    "plt.show()"
   ]
  },
  {
   "cell_type": "code",
   "execution_count": 35,
   "metadata": {},
   "outputs": [
    {
     "name": "stdout",
     "output_type": "stream",
     "text": [
      "Logistic Regression: f1=0.788 auc=0.814\n"
     ]
    },
    {
     "data": {
      "image/png": "[encoded data removed]",
      "text/plain": [
       "<Figure size 432x288 with 1 Axes>"
      ]
     },
     "metadata": {
      "needs_background": "light"
     },
     "output_type": "display_data"
    }
   ],
   "source": [
    "# precision-recall curve and f1\n",
    "\n",
    "# predict class values\n",
    "yhat = y_pred_forest2\n",
    "lr_precision, lr_recall, _ = precision_recall_curve(y_test, lr_probs)\n",
    "lr_f1, lr_auc = f1_score(y_test, yhat), auc(lr_recall, lr_precision)\n",
    "\n",
    "# summarize scores\n",
    "print('Logistic Regression: f1=%.3f auc=%.3f' % (lr_f1, lr_auc))\n",
    "\n",
    "# plot the precision-recall curves\n",
    "no_skill = len(y_test[y_test==1]) / len(y_test)\n",
    "\n",
    "\n",
    "# plot the precision-recall curve for the model\n",
    "plt.plot([0, 1], [no_skill, no_skill], linestyle='--', label='Dummy')\n",
    "plt.plot(lr_recall, lr_precision, marker='.', label='LogReg')\n",
    "# axis labels\n",
    "plt.xlabel('Recall')\n",
    "plt.ylabel('Precision')\n",
    "# show the legend\n",
    "plt.legend()\n",
    "# show the plot\n",
    "plt.show();"
   ]
  },
  {
   "cell_type": "markdown",
   "metadata": {},
   "source": [
    "## Error analysis"
   ]
  },
  {
   "cell_type": "code",
   "execution_count": 13,
   "metadata": {},
   "outputs": [],
   "source": [
    "error_df = pd.read_csv(\"data/df_preprocessed_log.csv\")"
   ]
  },
  {
   "cell_type": "code",
   "execution_count": 14,
   "metadata": {},
   "outputs": [
    {
     "data": {
      "text/html": [
       "<div>\n",
       "<style scoped>\n",
       "    .dataframe tbody tr th:only-of-type {\n",
       "        vertical-align: middle;\n",
       "    }\n",
       "\n",
       "    .dataframe tbody tr th {\n",
       "        vertical-align: top;\n",
       "    }\n",
       "\n",
       "    .dataframe thead th {\n",
       "        text-align: right;\n",
       "    }\n",
       "</style>\n",
       "<table border=\"1\" class=\"dataframe\">\n",
       "  <thead>\n",
       "    <tr style=\"text-align: right;\">\n",
       "      <th></th>\n",
       "      <th>country</th>\n",
       "      <th>state</th>\n",
       "      <th>delta_dead_laun</th>\n",
       "      <th>category</th>\n",
       "      <th>launch_day</th>\n",
       "      <th>launch_hour</th>\n",
       "      <th>name_len</th>\n",
       "      <th>blurb_len</th>\n",
       "      <th>goal_usd_log</th>\n",
       "    </tr>\n",
       "  </thead>\n",
       "  <tbody>\n",
       "    <tr>\n",
       "      <th>0</th>\n",
       "      <td>US</td>\n",
       "      <td>1</td>\n",
       "      <td>720.0</td>\n",
       "      <td>games</td>\n",
       "      <td>3</td>\n",
       "      <td>19</td>\n",
       "      <td>23</td>\n",
       "      <td>125</td>\n",
       "      <td>6.907755</td>\n",
       "    </tr>\n",
       "    <tr>\n",
       "      <th>1</th>\n",
       "      <td>US</td>\n",
       "      <td>1</td>\n",
       "      <td>720.0</td>\n",
       "      <td>music</td>\n",
       "      <td>0</td>\n",
       "      <td>7</td>\n",
       "      <td>51</td>\n",
       "      <td>108</td>\n",
       "      <td>9.615805</td>\n",
       "    </tr>\n",
       "    <tr>\n",
       "      <th>2</th>\n",
       "      <td>GB</td>\n",
       "      <td>0</td>\n",
       "      <td>1439.0</td>\n",
       "      <td>games</td>\n",
       "      <td>3</td>\n",
       "      <td>19</td>\n",
       "      <td>34</td>\n",
       "      <td>133</td>\n",
       "      <td>9.479141</td>\n",
       "    </tr>\n",
       "    <tr>\n",
       "      <th>3</th>\n",
       "      <td>US</td>\n",
       "      <td>1</td>\n",
       "      <td>720.0</td>\n",
       "      <td>publishing</td>\n",
       "      <td>0</td>\n",
       "      <td>21</td>\n",
       "      <td>40</td>\n",
       "      <td>121</td>\n",
       "      <td>7.937375</td>\n",
       "    </tr>\n",
       "    <tr>\n",
       "      <th>4</th>\n",
       "      <td>US</td>\n",
       "      <td>1</td>\n",
       "      <td>720.0</td>\n",
       "      <td>music</td>\n",
       "      <td>3</td>\n",
       "      <td>4</td>\n",
       "      <td>31</td>\n",
       "      <td>134</td>\n",
       "      <td>8.160518</td>\n",
       "    </tr>\n",
       "  </tbody>\n",
       "</table>\n",
       "</div>"
      ],
      "text/plain": [
       "  country  state  delta_dead_laun    category  launch_day  launch_hour  \\\n",
       "0      US      1            720.0       games           3           19   \n",
       "1      US      1            720.0       music           0            7   \n",
       "2      GB      0           1439.0       games           3           19   \n",
       "3      US      1            720.0  publishing           0           21   \n",
       "4      US      1            720.0       music           3            4   \n",
       "\n",
       "   name_len  blurb_len  goal_usd_log  \n",
       "0        23        125      6.907755  \n",
       "1        51        108      9.615805  \n",
       "2        34        133      9.479141  \n",
       "3        40        121      7.937375  \n",
       "4        31        134      8.160518  "
      ]
     },
     "execution_count": 14,
     "metadata": {},
     "output_type": "execute_result"
    }
   ],
   "source": [
    "error_df.head()"
   ]
  },
  {
   "cell_type": "code",
   "execution_count": 15,
   "metadata": {},
   "outputs": [],
   "source": [
    "X2 = error_df.drop('state', axis=1)\n",
    "y2 = error_df['state']"
   ]
  },
  {
   "cell_type": "code",
   "execution_count": 16,
   "metadata": {},
   "outputs": [],
   "source": [
    "# split the data\n",
    "X_train2, X_test2, y_train2, y_test2 = train_test_split(X2, y2, random_state=42, test_size=0.3)"
   ]
  },
  {
   "cell_type": "code",
   "execution_count": 17,
   "metadata": {},
   "outputs": [],
   "source": [
    "features = pd.DataFrame(X_test2)"
   ]
  },
  {
   "cell_type": "code",
   "execution_count": 18,
   "metadata": {},
   "outputs": [],
   "source": [
    "features = features.reset_index()"
   ]
  },
  {
   "cell_type": "code",
   "execution_count": 19,
   "metadata": {},
   "outputs": [],
   "source": [
    "state = y_test2.reset_index()"
   ]
  },
  {
   "cell_type": "code",
   "execution_count": 20,
   "metadata": {},
   "outputs": [],
   "source": [
    "state_pred = pd.DataFrame(y_pred_forest2)"
   ]
  },
  {
   "cell_type": "code",
   "execution_count": 21,
   "metadata": {},
   "outputs": [],
   "source": [
    "df_error = pd.concat([features, state_pred, state], axis=1)"
   ]
  },
  {
   "cell_type": "code",
   "execution_count": 22,
   "metadata": {},
   "outputs": [],
   "source": [
    "df_error.rename(columns={0: 'state_pred'}, inplace=True)"
   ]
  },
  {
   "cell_type": "code",
   "execution_count": 23,
   "metadata": {},
   "outputs": [],
   "source": [
    "positives = df_error.query('state_pred == 1')"
   ]
  },
  {
   "cell_type": "code",
   "execution_count": 24,
   "metadata": {},
   "outputs": [],
   "source": [
    "negatives = df_error.query('state_pred == 0')"
   ]
  },
  {
   "cell_type": "code",
   "execution_count": 25,
   "metadata": {},
   "outputs": [
    {
     "data": {
      "text/html": [
       "<div>\n",
       "<style scoped>\n",
       "    .dataframe tbody tr th:only-of-type {\n",
       "        vertical-align: middle;\n",
       "    }\n",
       "\n",
       "    .dataframe tbody tr th {\n",
       "        vertical-align: top;\n",
       "    }\n",
       "\n",
       "    .dataframe thead th {\n",
       "        text-align: right;\n",
       "    }\n",
       "</style>\n",
       "<table border=\"1\" class=\"dataframe\">\n",
       "  <thead>\n",
       "    <tr style=\"text-align: right;\">\n",
       "      <th></th>\n",
       "      <th>index</th>\n",
       "      <th>country</th>\n",
       "      <th>delta_dead_laun</th>\n",
       "      <th>category</th>\n",
       "      <th>launch_day</th>\n",
       "      <th>launch_hour</th>\n",
       "      <th>name_len</th>\n",
       "      <th>blurb_len</th>\n",
       "      <th>goal_usd_log</th>\n",
       "      <th>state_pred</th>\n",
       "      <th>index</th>\n",
       "      <th>state</th>\n",
       "    </tr>\n",
       "  </thead>\n",
       "  <tbody>\n",
       "    <tr>\n",
       "      <th>0</th>\n",
       "      <td>9463</td>\n",
       "      <td>US</td>\n",
       "      <td>1342.0</td>\n",
       "      <td>art</td>\n",
       "      <td>1</td>\n",
       "      <td>23</td>\n",
       "      <td>27</td>\n",
       "      <td>124</td>\n",
       "      <td>6.802395</td>\n",
       "      <td>1</td>\n",
       "      <td>9463</td>\n",
       "      <td>1</td>\n",
       "    </tr>\n",
       "    <tr>\n",
       "      <th>2</th>\n",
       "      <td>118784</td>\n",
       "      <td>GB</td>\n",
       "      <td>720.0</td>\n",
       "      <td>film &amp; video</td>\n",
       "      <td>2</td>\n",
       "      <td>15</td>\n",
       "      <td>7</td>\n",
       "      <td>73</td>\n",
       "      <td>7.582021</td>\n",
       "      <td>1</td>\n",
       "      <td>118784</td>\n",
       "      <td>1</td>\n",
       "    </tr>\n",
       "    <tr>\n",
       "      <th>3</th>\n",
       "      <td>70</td>\n",
       "      <td>US</td>\n",
       "      <td>720.0</td>\n",
       "      <td>music</td>\n",
       "      <td>1</td>\n",
       "      <td>16</td>\n",
       "      <td>31</td>\n",
       "      <td>88</td>\n",
       "      <td>8.006368</td>\n",
       "      <td>1</td>\n",
       "      <td>70</td>\n",
       "      <td>1</td>\n",
       "    </tr>\n",
       "    <tr>\n",
       "      <th>4</th>\n",
       "      <td>166535</td>\n",
       "      <td>US</td>\n",
       "      <td>720.0</td>\n",
       "      <td>fashion</td>\n",
       "      <td>2</td>\n",
       "      <td>23</td>\n",
       "      <td>45</td>\n",
       "      <td>128</td>\n",
       "      <td>4.605170</td>\n",
       "      <td>1</td>\n",
       "      <td>166535</td>\n",
       "      <td>1</td>\n",
       "    </tr>\n",
       "    <tr>\n",
       "      <th>5</th>\n",
       "      <td>69288</td>\n",
       "      <td>US</td>\n",
       "      <td>720.0</td>\n",
       "      <td>art</td>\n",
       "      <td>2</td>\n",
       "      <td>4</td>\n",
       "      <td>46</td>\n",
       "      <td>98</td>\n",
       "      <td>7.696213</td>\n",
       "      <td>1</td>\n",
       "      <td>69288</td>\n",
       "      <td>0</td>\n",
       "    </tr>\n",
       "  </tbody>\n",
       "</table>\n",
       "</div>"
      ],
      "text/plain": [
       "    index country  delta_dead_laun      category  launch_day  launch_hour  \\\n",
       "0    9463      US           1342.0           art           1           23   \n",
       "2  118784      GB            720.0  film & video           2           15   \n",
       "3      70      US            720.0         music           1           16   \n",
       "4  166535      US            720.0       fashion           2           23   \n",
       "5   69288      US            720.0           art           2            4   \n",
       "\n",
       "   name_len  blurb_len  goal_usd_log  state_pred   index  state  \n",
       "0        27        124      6.802395           1    9463      1  \n",
       "2         7         73      7.582021           1  118784      1  \n",
       "3        31         88      8.006368           1      70      1  \n",
       "4        45        128      4.605170           1  166535      1  \n",
       "5        46         98      7.696213           1   69288      0  "
      ]
     },
     "execution_count": 25,
     "metadata": {},
     "output_type": "execute_result"
    }
   ],
   "source": [
    "positives.head()"
   ]
  },
  {
   "cell_type": "code",
   "execution_count": 26,
   "metadata": {},
   "outputs": [
    {
     "data": {
      "text/html": [
       "<div>\n",
       "<style scoped>\n",
       "    .dataframe tbody tr th:only-of-type {\n",
       "        vertical-align: middle;\n",
       "    }\n",
       "\n",
       "    .dataframe tbody tr th {\n",
       "        vertical-align: top;\n",
       "    }\n",
       "\n",
       "    .dataframe thead th {\n",
       "        text-align: right;\n",
       "    }\n",
       "</style>\n",
       "<table border=\"1\" class=\"dataframe\">\n",
       "  <thead>\n",
       "    <tr style=\"text-align: right;\">\n",
       "      <th></th>\n",
       "      <th>index</th>\n",
       "      <th>country</th>\n",
       "      <th>delta_dead_laun</th>\n",
       "      <th>category</th>\n",
       "      <th>launch_day</th>\n",
       "      <th>launch_hour</th>\n",
       "      <th>name_len</th>\n",
       "      <th>blurb_len</th>\n",
       "      <th>goal_usd_log</th>\n",
       "      <th>state_pred</th>\n",
       "      <th>index</th>\n",
       "      <th>state</th>\n",
       "    </tr>\n",
       "  </thead>\n",
       "  <tbody>\n",
       "    <tr>\n",
       "      <th>1</th>\n",
       "      <td>168793</td>\n",
       "      <td>GB</td>\n",
       "      <td>683.0</td>\n",
       "      <td>technology</td>\n",
       "      <td>4</td>\n",
       "      <td>10</td>\n",
       "      <td>27</td>\n",
       "      <td>124</td>\n",
       "      <td>8.288293</td>\n",
       "      <td>0</td>\n",
       "      <td>168793</td>\n",
       "      <td>0</td>\n",
       "    </tr>\n",
       "    <tr>\n",
       "      <th>6</th>\n",
       "      <td>86324</td>\n",
       "      <td>US</td>\n",
       "      <td>801.0</td>\n",
       "      <td>technology</td>\n",
       "      <td>1</td>\n",
       "      <td>18</td>\n",
       "      <td>55</td>\n",
       "      <td>135</td>\n",
       "      <td>11.652687</td>\n",
       "      <td>0</td>\n",
       "      <td>86324</td>\n",
       "      <td>1</td>\n",
       "    </tr>\n",
       "    <tr>\n",
       "      <th>8</th>\n",
       "      <td>149052</td>\n",
       "      <td>US</td>\n",
       "      <td>720.0</td>\n",
       "      <td>food</td>\n",
       "      <td>2</td>\n",
       "      <td>0</td>\n",
       "      <td>38</td>\n",
       "      <td>72</td>\n",
       "      <td>9.615805</td>\n",
       "      <td>0</td>\n",
       "      <td>149052</td>\n",
       "      <td>0</td>\n",
       "    </tr>\n",
       "    <tr>\n",
       "      <th>14</th>\n",
       "      <td>66472</td>\n",
       "      <td>US</td>\n",
       "      <td>1079.0</td>\n",
       "      <td>publishing</td>\n",
       "      <td>6</td>\n",
       "      <td>20</td>\n",
       "      <td>16</td>\n",
       "      <td>122</td>\n",
       "      <td>10.308953</td>\n",
       "      <td>0</td>\n",
       "      <td>66472</td>\n",
       "      <td>1</td>\n",
       "    </tr>\n",
       "    <tr>\n",
       "      <th>15</th>\n",
       "      <td>73284</td>\n",
       "      <td>US</td>\n",
       "      <td>720.0</td>\n",
       "      <td>crafts</td>\n",
       "      <td>0</td>\n",
       "      <td>19</td>\n",
       "      <td>27</td>\n",
       "      <td>123</td>\n",
       "      <td>7.600902</td>\n",
       "      <td>0</td>\n",
       "      <td>73284</td>\n",
       "      <td>0</td>\n",
       "    </tr>\n",
       "  </tbody>\n",
       "</table>\n",
       "</div>"
      ],
      "text/plain": [
       "     index country  delta_dead_laun    category  launch_day  launch_hour  \\\n",
       "1   168793      GB            683.0  technology           4           10   \n",
       "6    86324      US            801.0  technology           1           18   \n",
       "8   149052      US            720.0        food           2            0   \n",
       "14   66472      US           1079.0  publishing           6           20   \n",
       "15   73284      US            720.0      crafts           0           19   \n",
       "\n",
       "    name_len  blurb_len  goal_usd_log  state_pred   index  state  \n",
       "1         27        124      8.288293           0  168793      0  \n",
       "6         55        135     11.652687           0   86324      1  \n",
       "8         38         72      9.615805           0  149052      0  \n",
       "14        16        122     10.308953           0   66472      1  \n",
       "15        27        123      7.600902           0   73284      0  "
      ]
     },
     "execution_count": 26,
     "metadata": {},
     "output_type": "execute_result"
    }
   ],
   "source": [
    "negatives.head()"
   ]
  },
  {
   "cell_type": "code",
   "execution_count": 58,
   "metadata": {},
   "outputs": [
    {
     "data": {
      "text/plain": [
       "<AxesSubplot:xlabel='category', ylabel='Count'>"
      ]
     },
     "execution_count": 58,
     "metadata": {},
     "output_type": "execute_result"
    },
    {
     "data": {
      "image/png": "[encoded data removed]",
      "text/plain": [
       "<Figure size 1008x504 with 1 Axes>"
      ]
     },
     "metadata": {
      "needs_background": "light"
     },
     "output_type": "display_data"
    }
   ],
   "source": [
    "# plot category for false positives and true positives\n",
    "plt.figure(figsize=(14, 7))\n",
    "sns.histplot(x='category', data=positives, hue='state')"
   ]
  },
  {
   "cell_type": "code",
   "execution_count": 59,
   "metadata": {},
   "outputs": [
    {
     "data": {
      "text/plain": [
       "<AxesSubplot:xlabel='category', ylabel='Count'>"
      ]
     },
     "execution_count": 59,
     "metadata": {},
     "output_type": "execute_result"
    },
    {
     "data": {
      "image/png": "[encoded data removed]",
      "text/plain": [
       "<Figure size 1008x504 with 1 Axes>"
      ]
     },
     "metadata": {
      "needs_background": "light"
     },
     "output_type": "display_data"
    }
   ],
   "source": [
    "# plot category for false negatives and true negatives\n",
    "plt.figure(figsize=(14, 7))\n",
    "sns.histplot(x='category', data=negatives, hue='state')"
   ]
  },
  {
   "cell_type": "code",
   "execution_count": 38,
   "metadata": {},
   "outputs": [
    {
     "data": {
      "text/plain": [
       "<AxesSubplot:xlabel='goal_usd_log', ylabel='Count'>"
      ]
     },
     "execution_count": 38,
     "metadata": {},
     "output_type": "execute_result"
    },
    {
     "data": {
      "image/png": "[encoded data removed]",
      "text/plain": [
       "<Figure size 432x288 with 1 Axes>"
      ]
     },
     "metadata": {
      "needs_background": "light"
     },
     "output_type": "display_data"
    }
   ],
   "source": [
    "# plot goal in usd for false positives and true positives\n",
    "sns.histplot(x='goal_usd_log', data=positives, hue='state')"
   ]
  },
  {
   "cell_type": "code",
   "execution_count": 39,
   "metadata": {},
   "outputs": [
    {
     "data": {
      "text/plain": [
       "<AxesSubplot:xlabel='goal_usd_log', ylabel='Count'>"
      ]
     },
     "execution_count": 39,
     "metadata": {},
     "output_type": "execute_result"
    },
    {
     "data": {
      "image/png": "[encoded data removed]",
      "text/plain": [
       "<Figure size 432x288 with 1 Axes>"
      ]
     },
     "metadata": {
      "needs_background": "light"
     },
     "output_type": "display_data"
    }
   ],
   "source": [
    "# plot goal in usd for false negatives and true negatives\n",
    "sns.histplot(x='goal_usd_log', data=negatives, hue='state')"
   ]
  },
  {
   "cell_type": "code",
   "execution_count": 40,
   "metadata": {},
   "outputs": [
    {
     "data": {
      "text/plain": [
       "<AxesSubplot:xlabel='delta_dead_laun', ylabel='Count'>"
      ]
     },
     "execution_count": 40,
     "metadata": {},
     "output_type": "execute_result"
    },
    {
     "data": {
      "image/png": "[encoded data removed]",
      "text/plain": [
       "<Figure size 432x288 with 1 Axes>"
      ]
     },
     "metadata": {
      "needs_background": "light"
     },
     "output_type": "display_data"
    }
   ],
   "source": [
    "# plot time for false positives and true positives\n",
    "sns.histplot(x='delta_dead_laun', data=positives, hue='state')"
   ]
  },
  {
   "cell_type": "code",
   "execution_count": 41,
   "metadata": {},
   "outputs": [
    {
     "data": {
      "text/plain": [
       "<AxesSubplot:xlabel='delta_dead_laun', ylabel='Count'>"
      ]
     },
     "execution_count": 41,
     "metadata": {},
     "output_type": "execute_result"
    },
    {
     "data": {
      "image/png": "[encoded data removed]",
      "text/plain": [
       "<Figure size 432x288 with 1 Axes>"
      ]
     },
     "metadata": {
      "needs_background": "light"
     },
     "output_type": "display_data"
    }
   ],
   "source": [
    "# plot time for false negatives\n",
    "sns.histplot(x='delta_dead_laun', data=negatives, hue='state')"
   ]
  },
  {
   "cell_type": "code",
   "execution_count": 42,
   "metadata": {},
   "outputs": [
    {
     "data": {
      "text/plain": [
       "<AxesSubplot:xlabel='country', ylabel='Count'>"
      ]
     },
     "execution_count": 42,
     "metadata": {},
     "output_type": "execute_result"
    },
    {
     "data": {
      "image/png": "[encoded data removed]",
      "text/plain": [
       "<Figure size 432x288 with 1 Axes>"
      ]
     },
     "metadata": {
      "needs_background": "light"
     },
     "output_type": "display_data"
    }
   ],
   "source": [
    "# plot country for false positives and true positives\n",
    "sns.histplot(x='country', data=positives, hue='state')"
   ]
  },
  {
   "cell_type": "code",
   "execution_count": 43,
   "metadata": {},
   "outputs": [
    {
     "data": {
      "text/plain": [
       "<AxesSubplot:xlabel='name_len', ylabel='Count'>"
      ]
     },
     "execution_count": 43,
     "metadata": {},
     "output_type": "execute_result"
    },
    {
     "data": {
      "image/png": "[encoded data removed]",
      "text/plain": [
       "<Figure size 432x288 with 1 Axes>"
      ]
     },
     "metadata": {
      "needs_background": "light"
     },
     "output_type": "display_data"
    }
   ],
   "source": [
    "# plot name length for false positives and true positives\n",
    "sns.histplot(x='name_len', data=positives, hue='state')"
   ]
  },
  {
   "cell_type": "code",
   "execution_count": 44,
   "metadata": {},
   "outputs": [
    {
     "data": {
      "text/plain": [
       "<AxesSubplot:xlabel='name_len', ylabel='Count'>"
      ]
     },
     "execution_count": 44,
     "metadata": {},
     "output_type": "execute_result"
    },
    {
     "data": {
      "image/png": "[encoded data removed]",
      "text/plain": [
       "<Figure size 432x288 with 1 Axes>"
      ]
     },
     "metadata": {
      "needs_background": "light"
     },
     "output_type": "display_data"
    }
   ],
   "source": [
    "# plot name length for false negatives and true negatives\n",
    "sns.histplot(x='name_len', data=negatives, hue='state')"
   ]
  },
  {
   "cell_type": "code",
   "execution_count": 45,
   "metadata": {},
   "outputs": [
    {
     "data": {
      "text/plain": [
       "<AxesSubplot:xlabel='blurb_len', ylabel='Count'>"
      ]
     },
     "execution_count": 45,
     "metadata": {},
     "output_type": "execute_result"
    },
    {
     "data": {
      "image/png": "[encoded data removed]",
      "text/plain": [
       "<Figure size 432x288 with 1 Axes>"
      ]
     },
     "metadata": {
      "needs_background": "light"
     },
     "output_type": "display_data"
    }
   ],
   "source": [
    "# plot blurb length for false positives and true positives\n",
    "sns.histplot(x='blurb_len', data=positives, hue='state')"
   ]
  },
  {
   "cell_type": "code",
   "execution_count": 46,
   "metadata": {},
   "outputs": [
    {
     "data": {
      "text/plain": [
       "<AxesSubplot:xlabel='blurb_len', ylabel='Count'>"
      ]
     },
     "execution_count": 46,
     "metadata": {},
     "output_type": "execute_result"
    },
    {
     "data": {
      "image/png": "[encoded data removed]",
      "text/plain": [
       "<Figure size 432x288 with 1 Axes>"
      ]
     },
     "metadata": {
      "needs_background": "light"
     },
     "output_type": "display_data"
    }
   ],
   "source": [
    "# plot blurb length for false negatives and true negatives\n",
    "sns.histplot(x='blurb_len', data=negatives, hue='state')"
   ]
  },
  {
   "cell_type": "code",
   "execution_count": 47,
   "metadata": {},
   "outputs": [
    {
     "data": {
      "text/plain": [
       "<AxesSubplot:xlabel='launch_day', ylabel='Count'>"
      ]
     },
     "execution_count": 47,
     "metadata": {},
     "output_type": "execute_result"
    },
    {
     "data": {
      "image/png": "[encoded data removed]",
      "text/plain": [
       "<Figure size 432x288 with 1 Axes>"
      ]
     },
     "metadata": {
      "needs_background": "light"
     },
     "output_type": "display_data"
    }
   ],
   "source": [
    "# plot launch day for false positives and true positives\n",
    "sns.histplot(x='launch_day', data=positives, hue='state')"
   ]
  },
  {
   "cell_type": "code",
   "execution_count": 48,
   "metadata": {},
   "outputs": [
    {
     "data": {
      "text/plain": [
       "<AxesSubplot:xlabel='launch_day', ylabel='Count'>"
      ]
     },
     "execution_count": 48,
     "metadata": {},
     "output_type": "execute_result"
    },
    {
     "data": {
      "image/png": "[encoded data removed]",
      "text/plain": [
       "<Figure size 432x288 with 1 Axes>"
      ]
     },
     "metadata": {
      "needs_background": "light"
     },
     "output_type": "display_data"
    }
   ],
   "source": [
    "# plot launch day for false negatives and true negatives\n",
    "sns.histplot(x='launch_day', data=negatives, hue='state')"
   ]
  },
  {
   "cell_type": "code",
   "execution_count": 49,
   "metadata": {},
   "outputs": [
    {
     "data": {
      "text/plain": [
       "<AxesSubplot:xlabel='launch_hour', ylabel='Count'>"
      ]
     },
     "execution_count": 49,
     "metadata": {},
     "output_type": "execute_result"
    },
    {
     "data": {
      "image/png": "[encoded data removed]",
      "text/plain": [
       "<Figure size 432x288 with 1 Axes>"
      ]
     },
     "metadata": {
      "needs_background": "light"
     },
     "output_type": "display_data"
    }
   ],
   "source": [
    "# plot launch day for false positives and true positives\n",
    "sns.histplot(x='launch_hour', data=positives, hue='state')"
   ]
  },
  {
   "cell_type": "code",
   "execution_count": 50,
   "metadata": {},
   "outputs": [
    {
     "data": {
      "text/plain": [
       "<AxesSubplot:xlabel='launch_hour', ylabel='Count'>"
      ]
     },
     "execution_count": 50,
     "metadata": {},
     "output_type": "execute_result"
    },
    {
     "data": {
      "image/png": "[encoded data removed]",
      "text/plain": [
       "<Figure size 432x288 with 1 Axes>"
      ]
     },
     "metadata": {
      "needs_background": "light"
     },
     "output_type": "display_data"
    }
   ],
   "source": [
    "# plot launch day for false negatives and true negatives\n",
    "sns.histplot(x='launch_hour', data=negatives, hue='state')"
   ]
  },
  {
   "cell_type": "code",
   "execution_count": 52,
   "metadata": {},
   "outputs": [
    {
     "name": "stdout",
     "output_type": "stream",
     "text": [
      "        index country  delta_dead_laun      category  launch_day  launch_hour  \\\n",
      "25825  124991      US            720.0        crafts           4           17   \n",
      "55588   66282      HK            720.0    technology           0           11   \n",
      "5357   182304      US            336.0  film & video           1            5   \n",
      "25810  161743      US           1440.0         music           2           23   \n",
      "7050   178992      US            841.0         games           3           18   \n",
      "29286   24708      AU            696.0        comics           4            2   \n",
      "12119   30404      US            663.0         games           5            5   \n",
      "1540    65743      US            720.0  film & video           1           20   \n",
      "55337   20876      US            720.0    publishing           3           17   \n",
      "48286   98994      SE            720.0         games           1           14   \n",
      "1047   151972      US            671.0         games           0           14   \n",
      "932     51187      US            718.0        design           3            0   \n",
      "4414    14180      US            334.0       theater           4           18   \n",
      "47672  139809      US            336.0  film & video           2           23   \n",
      "53525   92914      ES            514.0         games           1           14   \n",
      "46683   22447      US            720.0  film & video           3           18   \n",
      "41238   58969      US            720.0         dance           5            3   \n",
      "35742  178252      US            720.0   photography           4           19   \n",
      "47546  116621      US            720.0   photography           5            3   \n",
      "751    124902      US            720.0       fashion           1           17   \n",
      "\n",
      "       name_len  blurb_len  goal_usd_log  state_pred   index  state  \n",
      "25825        10         64      3.218876           1  124991      1  \n",
      "55588        51        116      6.456711           1   66282      1  \n",
      "5357         24        134      8.294050           1  182304      1  \n",
      "25810        40        106      9.210340           1  161743      0  \n",
      "7050         46        133     10.308953           1  178992      1  \n",
      "29286        58        106      5.867374           1   24708      1  \n",
      "12119        31        135      7.090077           1   30404      1  \n",
      "1540         12        108      7.130899           1   65743      1  \n",
      "55337        13        105      9.615805           1   20876      0  \n",
      "48286        46        135      9.282422           1   98994      0  \n",
      "1047         36        126      9.210340           1  151972      1  \n",
      "932          48        134      9.169518           1   51187      1  \n",
      "4414         37        106      6.907755           1   14180      0  \n",
      "47672        34         97      4.605170           1  139809      1  \n",
      "53525        55         71      9.229046           1   92914      1  \n",
      "46683        15        135      9.903488           1   22447      0  \n",
      "41238        49         82      7.313220           1   58969      1  \n",
      "35742        41        109      8.517193           1  178252      0  \n",
      "47546        34        102      5.991465           1  116621      1  \n",
      "751          59        134     10.308953           1  124902      1  \n"
     ]
    }
   ],
   "source": [
    "# look at random sample of 20 true positives and false positives\n",
    "print(positives.sample(n=20))\n",
    "#print(FP.sample(n=20))"
   ]
  },
  {
   "cell_type": "code",
   "execution_count": 79,
   "metadata": {},
   "outputs": [
    {
     "data": {
      "text/plain": [
       "Index(['delta_dead_laun', 'launch_day', 'launch_hour', 'name_len', 'blurb_len',\n",
       "       'goal_usd_log', 'AU', 'BE', 'CA', 'CH', 'DE', 'DK', 'ES', 'FR', 'GB',\n",
       "       'HK', 'IE', 'IT', 'JP', 'LU', 'MX', 'NL', 'NO', 'NZ', 'SE', 'SG', 'US',\n",
       "       'comics', 'craft', 'crafts', 'dance', 'design', 'fashion',\n",
       "       'film & video', 'food', 'games', 'journalism', 'music', 'photography',\n",
       "       'publishing', 'technology', 'theater'],\n",
       "      dtype='object')"
      ]
     },
     "execution_count": 79,
     "metadata": {},
     "output_type": "execute_result"
    }
   ],
   "source": [
    "X.columns"
   ]
  },
  {
   "cell_type": "code",
   "execution_count": 82,
   "metadata": {},
   "outputs": [
    {
     "data": {
      "text/plain": [
       "<BarContainer object of 42 artists>"
      ]
     },
     "execution_count": 82,
     "metadata": {},
     "output_type": "execute_result"
    },
    {
     "data": {
      "image/png": "[encoded data removed]",
      "text/plain": [
       "<Figure size 720x1008 with 1 Axes>"
      ]
     },
     "metadata": {
      "needs_background": "light"
     },
     "output_type": "display_data"
    }
   ],
   "source": [
    "plt.figure(figsize=(10, 14))\n",
    "plt.barh(X.columns, forest2.feature_importances_)"
   ]
  }
 ],
 "metadata": {
  "interpreter": {
   "hash": "14f51d1694797e5da3502a145014201e62f9849463032f26557bd12a95b9aa43"
  },
  "kernelspec": {
   "display_name": "Python 3.9.4 64-bit ('.venv': venv)",
   "name": "python3"
  },
  "language_info": {
   "codemirror_mode": {
    "name": "ipython",
    "version": 3
   },
   "file_extension": ".py",
   "mimetype": "text/x-python",
   "name": "python",
   "nbconvert_exporter": "python",
   "pygments_lexer": "ipython3",
   "version": "3.9.4"
  },
  "orig_nbformat": 4
 },
 "nbformat": 4,
 "nbformat_minor": 2
}
