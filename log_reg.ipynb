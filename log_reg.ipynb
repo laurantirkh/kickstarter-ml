{
 "cells": [
  {
   "cell_type": "markdown",
   "metadata": {},
   "source": [
    "# Logistic Regression"
   ]
  },
  {
   "cell_type": "code",
   "execution_count": 44,
   "metadata": {},
   "outputs": [],
   "source": [
    "import pandas as pd\n",
    "import numpy as np\n",
    "\n",
    "import seaborn as sns\n",
    "import matplotlib.pyplot as plt\n",
    "%matplotlib inline\n",
    "\n",
    "from sklearn.metrics import classification_report, confusion_matrix\n",
    "from sklearn.model_selection import train_test_split\n",
    "from sklearn.pipeline import Pipeline\n",
    "from sklearn.linear_model import LogisticRegression\n",
    "\n",
    "from sklearn.compose import ColumnTransformer\n",
    "#from sklearn.preprocessing import StandardScaler, MinMaxScaler, OneHotEncoder\n",
    "from sklearn.model_selection import GridSearchCV, RandomizedSearchCV\n",
    "from sklearn.model_selection import cross_val_predict, cross_val_score, cross_validate\n",
    "from sklearn.metrics import roc_curve\n",
    "from sklearn.metrics import roc_auc_score\n",
    "from sklearn.metrics import precision_recall_curve\n",
    "from sklearn.metrics import f1_score\n",
    "from sklearn.metrics import auc\n",
    "\n"
   ]
  },
  {
   "cell_type": "code",
   "execution_count": 45,
   "metadata": {},
   "outputs": [
    {
     "name": "stdout",
     "output_type": "stream",
     "text": [
      "<class 'pandas.core.frame.DataFrame'>\n",
      "RangeIndex: 192662 entries, 0 to 192661\n",
      "Data columns (total 43 columns):\n",
      " #   Column           Non-Null Count   Dtype  \n",
      "---  ------           --------------   -----  \n",
      " 0   state            192662 non-null  int64  \n",
      " 1   delta_dead_laun  192662 non-null  float64\n",
      " 2   launch_day       192662 non-null  int64  \n",
      " 3   launch_hour      192662 non-null  int64  \n",
      " 4   name_len         192662 non-null  int64  \n",
      " 5   blurb_len        192662 non-null  int64  \n",
      " 6   goal_usd_log     192662 non-null  float64\n",
      " 7   AU               192662 non-null  int64  \n",
      " 8   BE               192662 non-null  int64  \n",
      " 9   CA               192662 non-null  int64  \n",
      " 10  CH               192662 non-null  int64  \n",
      " 11  DE               192662 non-null  int64  \n",
      " 12  DK               192662 non-null  int64  \n",
      " 13  ES               192662 non-null  int64  \n",
      " 14  FR               192662 non-null  int64  \n",
      " 15  GB               192662 non-null  int64  \n",
      " 16  HK               192662 non-null  int64  \n",
      " 17  IE               192662 non-null  int64  \n",
      " 18  IT               192662 non-null  int64  \n",
      " 19  JP               192662 non-null  int64  \n",
      " 20  LU               192662 non-null  int64  \n",
      " 21  MX               192662 non-null  int64  \n",
      " 22  NL               192662 non-null  int64  \n",
      " 23  NO               192662 non-null  int64  \n",
      " 24  NZ               192662 non-null  int64  \n",
      " 25  SE               192662 non-null  int64  \n",
      " 26  SG               192662 non-null  int64  \n",
      " 27  US               192662 non-null  int64  \n",
      " 28  comics           192662 non-null  int64  \n",
      " 29  craft            192662 non-null  int64  \n",
      " 30  crafts           192662 non-null  int64  \n",
      " 31  dance            192662 non-null  int64  \n",
      " 32  design           192662 non-null  int64  \n",
      " 33  fashion          192662 non-null  int64  \n",
      " 34  film & video     192662 non-null  int64  \n",
      " 35  food             192662 non-null  int64  \n",
      " 36  games            192662 non-null  int64  \n",
      " 37  journalism       192662 non-null  int64  \n",
      " 38  music            192662 non-null  int64  \n",
      " 39  photography      192662 non-null  int64  \n",
      " 40  publishing       192662 non-null  int64  \n",
      " 41  technology       192662 non-null  int64  \n",
      " 42  theater          192662 non-null  int64  \n",
      "dtypes: float64(2), int64(41)\n",
      "memory usage: 63.2 MB\n"
     ]
    },
    {
     "data": {
      "text/html": [
       "<div>\n",
       "<style scoped>\n",
       "    .dataframe tbody tr th:only-of-type {\n",
       "        vertical-align: middle;\n",
       "    }\n",
       "\n",
       "    .dataframe tbody tr th {\n",
       "        vertical-align: top;\n",
       "    }\n",
       "\n",
       "    .dataframe thead th {\n",
       "        text-align: right;\n",
       "    }\n",
       "</style>\n",
       "<table border=\"1\" class=\"dataframe\">\n",
       "  <thead>\n",
       "    <tr style=\"text-align: right;\">\n",
       "      <th></th>\n",
       "      <th>state</th>\n",
       "      <th>delta_dead_laun</th>\n",
       "      <th>launch_day</th>\n",
       "      <th>launch_hour</th>\n",
       "      <th>name_len</th>\n",
       "      <th>blurb_len</th>\n",
       "      <th>goal_usd_log</th>\n",
       "      <th>AU</th>\n",
       "      <th>BE</th>\n",
       "      <th>CA</th>\n",
       "      <th>...</th>\n",
       "      <th>fashion</th>\n",
       "      <th>film &amp; video</th>\n",
       "      <th>food</th>\n",
       "      <th>games</th>\n",
       "      <th>journalism</th>\n",
       "      <th>music</th>\n",
       "      <th>photography</th>\n",
       "      <th>publishing</th>\n",
       "      <th>technology</th>\n",
       "      <th>theater</th>\n",
       "    </tr>\n",
       "  </thead>\n",
       "  <tbody>\n",
       "    <tr>\n",
       "      <th>0</th>\n",
       "      <td>1</td>\n",
       "      <td>720.0</td>\n",
       "      <td>3</td>\n",
       "      <td>19</td>\n",
       "      <td>23</td>\n",
       "      <td>125</td>\n",
       "      <td>6.907755</td>\n",
       "      <td>0</td>\n",
       "      <td>0</td>\n",
       "      <td>0</td>\n",
       "      <td>...</td>\n",
       "      <td>0</td>\n",
       "      <td>0</td>\n",
       "      <td>0</td>\n",
       "      <td>1</td>\n",
       "      <td>0</td>\n",
       "      <td>0</td>\n",
       "      <td>0</td>\n",
       "      <td>0</td>\n",
       "      <td>0</td>\n",
       "      <td>0</td>\n",
       "    </tr>\n",
       "    <tr>\n",
       "      <th>1</th>\n",
       "      <td>1</td>\n",
       "      <td>720.0</td>\n",
       "      <td>0</td>\n",
       "      <td>7</td>\n",
       "      <td>51</td>\n",
       "      <td>108</td>\n",
       "      <td>9.615805</td>\n",
       "      <td>0</td>\n",
       "      <td>0</td>\n",
       "      <td>0</td>\n",
       "      <td>...</td>\n",
       "      <td>0</td>\n",
       "      <td>0</td>\n",
       "      <td>0</td>\n",
       "      <td>0</td>\n",
       "      <td>0</td>\n",
       "      <td>1</td>\n",
       "      <td>0</td>\n",
       "      <td>0</td>\n",
       "      <td>0</td>\n",
       "      <td>0</td>\n",
       "    </tr>\n",
       "    <tr>\n",
       "      <th>2</th>\n",
       "      <td>0</td>\n",
       "      <td>1439.0</td>\n",
       "      <td>3</td>\n",
       "      <td>19</td>\n",
       "      <td>34</td>\n",
       "      <td>133</td>\n",
       "      <td>9.479141</td>\n",
       "      <td>0</td>\n",
       "      <td>0</td>\n",
       "      <td>0</td>\n",
       "      <td>...</td>\n",
       "      <td>0</td>\n",
       "      <td>0</td>\n",
       "      <td>0</td>\n",
       "      <td>1</td>\n",
       "      <td>0</td>\n",
       "      <td>0</td>\n",
       "      <td>0</td>\n",
       "      <td>0</td>\n",
       "      <td>0</td>\n",
       "      <td>0</td>\n",
       "    </tr>\n",
       "    <tr>\n",
       "      <th>3</th>\n",
       "      <td>1</td>\n",
       "      <td>720.0</td>\n",
       "      <td>0</td>\n",
       "      <td>21</td>\n",
       "      <td>40</td>\n",
       "      <td>121</td>\n",
       "      <td>7.937375</td>\n",
       "      <td>0</td>\n",
       "      <td>0</td>\n",
       "      <td>0</td>\n",
       "      <td>...</td>\n",
       "      <td>0</td>\n",
       "      <td>0</td>\n",
       "      <td>0</td>\n",
       "      <td>0</td>\n",
       "      <td>0</td>\n",
       "      <td>0</td>\n",
       "      <td>0</td>\n",
       "      <td>1</td>\n",
       "      <td>0</td>\n",
       "      <td>0</td>\n",
       "    </tr>\n",
       "    <tr>\n",
       "      <th>4</th>\n",
       "      <td>1</td>\n",
       "      <td>720.0</td>\n",
       "      <td>3</td>\n",
       "      <td>4</td>\n",
       "      <td>31</td>\n",
       "      <td>134</td>\n",
       "      <td>8.160518</td>\n",
       "      <td>0</td>\n",
       "      <td>0</td>\n",
       "      <td>0</td>\n",
       "      <td>...</td>\n",
       "      <td>0</td>\n",
       "      <td>0</td>\n",
       "      <td>0</td>\n",
       "      <td>0</td>\n",
       "      <td>0</td>\n",
       "      <td>1</td>\n",
       "      <td>0</td>\n",
       "      <td>0</td>\n",
       "      <td>0</td>\n",
       "      <td>0</td>\n",
       "    </tr>\n",
       "  </tbody>\n",
       "</table>\n",
       "<p>5 rows × 43 columns</p>\n",
       "</div>"
      ],
      "text/plain": [
       "   state  delta_dead_laun  launch_day  launch_hour  name_len  blurb_len  \\\n",
       "0      1            720.0           3           19        23        125   \n",
       "1      1            720.0           0            7        51        108   \n",
       "2      0           1439.0           3           19        34        133   \n",
       "3      1            720.0           0           21        40        121   \n",
       "4      1            720.0           3            4        31        134   \n",
       "\n",
       "   goal_usd_log  AU  BE  CA  ...  fashion  film & video  food  games  \\\n",
       "0      6.907755   0   0   0  ...        0             0     0      1   \n",
       "1      9.615805   0   0   0  ...        0             0     0      0   \n",
       "2      9.479141   0   0   0  ...        0             0     0      1   \n",
       "3      7.937375   0   0   0  ...        0             0     0      0   \n",
       "4      8.160518   0   0   0  ...        0             0     0      0   \n",
       "\n",
       "   journalism  music  photography  publishing  technology  theater  \n",
       "0           0      0            0           0           0        0  \n",
       "1           0      1            0           0           0        0  \n",
       "2           0      0            0           0           0        0  \n",
       "3           0      0            0           1           0        0  \n",
       "4           0      1            0           0           0        0  \n",
       "\n",
       "[5 rows x 43 columns]"
      ]
     },
     "execution_count": 45,
     "metadata": {},
     "output_type": "execute_result"
    }
   ],
   "source": [
    "# load data\n",
    "df = pd.read_csv('data/df_preprocessed_log_dummies.csv')\n",
    "df.info()\n",
    "df.head()"
   ]
  },
  {
   "cell_type": "markdown",
   "metadata": {},
   "source": [
    "### Train Test Split"
   ]
  },
  {
   "cell_type": "code",
   "execution_count": 46,
   "metadata": {},
   "outputs": [
    {
     "data": {
      "text/html": [
       "<div>\n",
       "<style scoped>\n",
       "    .dataframe tbody tr th:only-of-type {\n",
       "        vertical-align: middle;\n",
       "    }\n",
       "\n",
       "    .dataframe tbody tr th {\n",
       "        vertical-align: top;\n",
       "    }\n",
       "\n",
       "    .dataframe thead th {\n",
       "        text-align: right;\n",
       "    }\n",
       "</style>\n",
       "<table border=\"1\" class=\"dataframe\">\n",
       "  <thead>\n",
       "    <tr style=\"text-align: right;\">\n",
       "      <th></th>\n",
       "      <th>delta_dead_laun</th>\n",
       "      <th>launch_day</th>\n",
       "      <th>launch_hour</th>\n",
       "      <th>name_len</th>\n",
       "      <th>blurb_len</th>\n",
       "      <th>goal_usd_log</th>\n",
       "      <th>AU</th>\n",
       "      <th>BE</th>\n",
       "      <th>CA</th>\n",
       "      <th>CH</th>\n",
       "      <th>...</th>\n",
       "      <th>fashion</th>\n",
       "      <th>film &amp; video</th>\n",
       "      <th>food</th>\n",
       "      <th>games</th>\n",
       "      <th>journalism</th>\n",
       "      <th>music</th>\n",
       "      <th>photography</th>\n",
       "      <th>publishing</th>\n",
       "      <th>technology</th>\n",
       "      <th>theater</th>\n",
       "    </tr>\n",
       "  </thead>\n",
       "  <tbody>\n",
       "    <tr>\n",
       "      <th>0</th>\n",
       "      <td>720.0</td>\n",
       "      <td>3</td>\n",
       "      <td>19</td>\n",
       "      <td>23</td>\n",
       "      <td>125</td>\n",
       "      <td>6.907755</td>\n",
       "      <td>0</td>\n",
       "      <td>0</td>\n",
       "      <td>0</td>\n",
       "      <td>0</td>\n",
       "      <td>...</td>\n",
       "      <td>0</td>\n",
       "      <td>0</td>\n",
       "      <td>0</td>\n",
       "      <td>1</td>\n",
       "      <td>0</td>\n",
       "      <td>0</td>\n",
       "      <td>0</td>\n",
       "      <td>0</td>\n",
       "      <td>0</td>\n",
       "      <td>0</td>\n",
       "    </tr>\n",
       "    <tr>\n",
       "      <th>1</th>\n",
       "      <td>720.0</td>\n",
       "      <td>0</td>\n",
       "      <td>7</td>\n",
       "      <td>51</td>\n",
       "      <td>108</td>\n",
       "      <td>9.615805</td>\n",
       "      <td>0</td>\n",
       "      <td>0</td>\n",
       "      <td>0</td>\n",
       "      <td>0</td>\n",
       "      <td>...</td>\n",
       "      <td>0</td>\n",
       "      <td>0</td>\n",
       "      <td>0</td>\n",
       "      <td>0</td>\n",
       "      <td>0</td>\n",
       "      <td>1</td>\n",
       "      <td>0</td>\n",
       "      <td>0</td>\n",
       "      <td>0</td>\n",
       "      <td>0</td>\n",
       "    </tr>\n",
       "    <tr>\n",
       "      <th>2</th>\n",
       "      <td>1439.0</td>\n",
       "      <td>3</td>\n",
       "      <td>19</td>\n",
       "      <td>34</td>\n",
       "      <td>133</td>\n",
       "      <td>9.479141</td>\n",
       "      <td>0</td>\n",
       "      <td>0</td>\n",
       "      <td>0</td>\n",
       "      <td>0</td>\n",
       "      <td>...</td>\n",
       "      <td>0</td>\n",
       "      <td>0</td>\n",
       "      <td>0</td>\n",
       "      <td>1</td>\n",
       "      <td>0</td>\n",
       "      <td>0</td>\n",
       "      <td>0</td>\n",
       "      <td>0</td>\n",
       "      <td>0</td>\n",
       "      <td>0</td>\n",
       "    </tr>\n",
       "    <tr>\n",
       "      <th>3</th>\n",
       "      <td>720.0</td>\n",
       "      <td>0</td>\n",
       "      <td>21</td>\n",
       "      <td>40</td>\n",
       "      <td>121</td>\n",
       "      <td>7.937375</td>\n",
       "      <td>0</td>\n",
       "      <td>0</td>\n",
       "      <td>0</td>\n",
       "      <td>0</td>\n",
       "      <td>...</td>\n",
       "      <td>0</td>\n",
       "      <td>0</td>\n",
       "      <td>0</td>\n",
       "      <td>0</td>\n",
       "      <td>0</td>\n",
       "      <td>0</td>\n",
       "      <td>0</td>\n",
       "      <td>1</td>\n",
       "      <td>0</td>\n",
       "      <td>0</td>\n",
       "    </tr>\n",
       "    <tr>\n",
       "      <th>4</th>\n",
       "      <td>720.0</td>\n",
       "      <td>3</td>\n",
       "      <td>4</td>\n",
       "      <td>31</td>\n",
       "      <td>134</td>\n",
       "      <td>8.160518</td>\n",
       "      <td>0</td>\n",
       "      <td>0</td>\n",
       "      <td>0</td>\n",
       "      <td>0</td>\n",
       "      <td>...</td>\n",
       "      <td>0</td>\n",
       "      <td>0</td>\n",
       "      <td>0</td>\n",
       "      <td>0</td>\n",
       "      <td>0</td>\n",
       "      <td>1</td>\n",
       "      <td>0</td>\n",
       "      <td>0</td>\n",
       "      <td>0</td>\n",
       "      <td>0</td>\n",
       "    </tr>\n",
       "  </tbody>\n",
       "</table>\n",
       "<p>5 rows × 42 columns</p>\n",
       "</div>"
      ],
      "text/plain": [
       "   delta_dead_laun  launch_day  launch_hour  name_len  blurb_len  \\\n",
       "0            720.0           3           19        23        125   \n",
       "1            720.0           0            7        51        108   \n",
       "2           1439.0           3           19        34        133   \n",
       "3            720.0           0           21        40        121   \n",
       "4            720.0           3            4        31        134   \n",
       "\n",
       "   goal_usd_log  AU  BE  CA  CH  ...  fashion  film & video  food  games  \\\n",
       "0      6.907755   0   0   0   0  ...        0             0     0      1   \n",
       "1      9.615805   0   0   0   0  ...        0             0     0      0   \n",
       "2      9.479141   0   0   0   0  ...        0             0     0      1   \n",
       "3      7.937375   0   0   0   0  ...        0             0     0      0   \n",
       "4      8.160518   0   0   0   0  ...        0             0     0      0   \n",
       "\n",
       "   journalism  music  photography  publishing  technology  theater  \n",
       "0           0      0            0           0           0        0  \n",
       "1           0      1            0           0           0        0  \n",
       "2           0      0            0           0           0        0  \n",
       "3           0      0            0           1           0        0  \n",
       "4           0      1            0           0           0        0  \n",
       "\n",
       "[5 rows x 42 columns]"
      ]
     },
     "execution_count": 46,
     "metadata": {},
     "output_type": "execute_result"
    }
   ],
   "source": [
    "# split features from target (features: X, target: y)\n",
    "X = df.drop('state', axis=1)\n",
    "y = df['state']\n",
    "X.head()"
   ]
  },
  {
   "cell_type": "code",
   "execution_count": 47,
   "metadata": {},
   "outputs": [
    {
     "name": "stdout",
     "output_type": "stream",
     "text": [
      "X_train: (134863, 42)\n",
      "y_train: (134863,)\n",
      "X_test: (57799, 42)\n",
      "y_test: (57799,)\n"
     ]
    }
   ],
   "source": [
    "# Split data into train and test set\n",
    "X_train, X_test, y_train, y_test = train_test_split(X, y, test_size=0.3, random_state=42)\n",
    "\n",
    "# Check the shape of the data sets\n",
    "print(\"X_train:\", X_train.shape)\n",
    "print(\"y_train:\", y_train.shape)\n",
    "print(\"X_test:\", X_test.shape)\n",
    "print(\"y_test:\", y_test.shape)"
   ]
  },
  {
   "cell_type": "markdown",
   "metadata": {},
   "source": [
    "## Logistic Regression Classifier"
   ]
  },
  {
   "cell_type": "markdown",
   "metadata": {},
   "source": [
    "### simple logistic regression"
   ]
  },
  {
   "cell_type": "code",
   "execution_count": 48,
   "metadata": {},
   "outputs": [],
   "source": [
    "# create logistic regression classifier\n",
    "\n",
    "# instantiate classifier\n",
    "lr_clf = LogisticRegression(max_iter=1000)\n",
    "# fit model to training data\n",
    "lr_clf.fit(X_train, y_train)\n",
    "\n",
    "# predict target values for train data\n",
    "y_pred_train = lr_clf.predict(X_train)\n",
    "# predict target values for test data\n",
    "y_pred = lr_clf.predict(X_test)\n"
   ]
  },
  {
   "cell_type": "code",
   "execution_count": 49,
   "metadata": {},
   "outputs": [
    {
     "name": "stdout",
     "output_type": "stream",
     "text": [
      "Classification report for TRAIN data: \n",
      "               precision    recall  f1-score   support\n",
      "\n",
      "           0       0.65      0.46      0.54     52770\n",
      "           1       0.71      0.84      0.77     82093\n",
      "\n",
      "    accuracy                           0.69    134863\n",
      "   macro avg       0.68      0.65      0.65    134863\n",
      "weighted avg       0.69      0.69      0.68    134863\n",
      "\n",
      "--------------------------------------------------------------------------------\n",
      "Classification report for TEST data: \n",
      "               precision    recall  f1-score   support\n",
      "\n",
      "           0       0.65      0.47      0.55     22427\n",
      "           1       0.71      0.84      0.77     35372\n",
      "\n",
      "    accuracy                           0.70     57799\n",
      "   macro avg       0.68      0.65      0.66     57799\n",
      "weighted avg       0.69      0.70      0.68     57799\n",
      "\n",
      "--------------------------------------------------------------------------------\n"
     ]
    }
   ],
   "source": [
    "\n",
    "# Print classification reports for Logistic Regression\n",
    "\n",
    "## train data\n",
    "print('Classification report for TRAIN data: \\n {}'.format(classification_report(y_train, y_pred_train)))\n",
    "print(\"--------\"*10)\n",
    "\n",
    "## test data\n",
    "print('Classification report for TEST data: \\n {}'.format(classification_report(y_test, y_pred)))\n",
    "print(\"--------\"*10)"
   ]
  },
  {
   "cell_type": "code",
   "execution_count": 50,
   "metadata": {},
   "outputs": [
    {
     "data": {
      "image/png": "[encoded data removed]",
      "text/plain": [
       "<Figure size 432x288 with 2 Axes>"
      ]
     },
     "metadata": {
      "needs_background": "light"
     },
     "output_type": "display_data"
    },
    {
     "data": {
      "image/png": "[encoded data removed]",
      "text/plain": [
       "<Figure size 432x288 with 2 Axes>"
      ]
     },
     "metadata": {
      "needs_background": "light"
     },
     "output_type": "display_data"
    }
   ],
   "source": [
    "# Evaluate the model with a confusion matrix\n",
    "## train data\n",
    "cm = confusion_matrix(y_train, y_pred_train)\n",
    "#cm = cm.astype('float') / cm.sum(axis=1)[:, np.newaxis] # normalize the data, remove fmt='d' from heatmap code!\n",
    "plt.figure()\n",
    "sns.heatmap(cm, cmap='YlGnBu', annot=True, fmt='d', linewidths=.5)\n",
    "plt.ylabel('True label')\n",
    "plt.xlabel('Predicted label')\n",
    "plt.title('Confusion matrix for TRAIN data (NB clf):');\n",
    "\n",
    "## test data\n",
    "cm = confusion_matrix(y_test, y_pred)\n",
    "#cm = cm.astype('float') / cm.sum(axis=1)[:, np.newaxis] # normalize the data, remove fmt='d' from heatmap code!\n",
    "plt.figure()\n",
    "sns.heatmap(cm, cmap='YlGnBu', annot=True, fmt='d', linewidths=.5)\n",
    "plt.ylabel('True label')\n",
    "plt.xlabel('Predicted label')\n",
    "plt.title('Confusion matrix for TEST data (NB clf):');"
   ]
  },
  {
   "cell_type": "markdown",
   "metadata": {},
   "source": [
    "## Hyperparameter Tuning"
   ]
  },
  {
   "cell_type": "code",
   "execution_count": null,
   "metadata": {},
   "outputs": [],
   "source": [
    "param_lr = {'penalty':('l1','l2'), \n",
    "            'C': [0.0001, 0.001, 0.01, 0.1, 1, 10, 100],\n",
    "            'solver': ['liblinear', 'lbfgs', 'sag', ]\n",
    "               }\n",
    "\n",
    "grid_lr = GridSearchCV(lr_clf, param_grid=param_lr, cv=5, scoring='f1', \n",
    "                           verbose=5, n_jobs=-1)\n",
    "\n",
    "grid_lr.fit(X_train, y_train)"
   ]
  },
  {
   "cell_type": "markdown",
   "metadata": {},
   "source": []
  },
  {
   "cell_type": "code",
   "execution_count": 52,
   "metadata": {},
   "outputs": [
    {
     "name": "stdout",
     "output_type": "stream",
     "text": [
      "Best score:\n",
      "0.77\n",
      "Best parameters:\n",
      "{'C': 0.001, 'penalty': 'l2', 'solver': 'lbfgs'}\n",
      "LogisticRegression(C=0.001, max_iter=1000)\n"
     ]
    }
   ],
   "source": [
    "## CURRENTLY FOR SCORE='F1'\n",
    "\n",
    "# Show best parameters\n",
    "print('Best score:\\n{:.2f}'.format(grid_lr.best_score_))\n",
    "print(\"Best parameters:\\n{}\".format(grid_lr.best_params_))\n",
    "\n",
    "# Save best model as best_model\n",
    "best_log_reg = grid_lr.best_estimator_\n",
    "print(best_log_reg)"
   ]
  },
  {
   "cell_type": "code",
   "execution_count": 53,
   "metadata": {},
   "outputs": [
    {
     "name": "stdout",
     "output_type": "stream",
     "text": [
      "LogisticRegression(C=0.001, max_iter=1000)\n"
     ]
    }
   ],
   "source": [
    "# save the pickled model to disk\n",
    "import pickle\n",
    "\n",
    "filename = 'logreg_model.sav'\n",
    "pickle.dump(best_log_reg, open(filename, 'wb'))\n",
    "print(best_log_reg)"
   ]
  },
  {
   "cell_type": "code",
   "execution_count": 54,
   "metadata": {},
   "outputs": [
    {
     "name": "stdout",
     "output_type": "stream",
     "text": [
      "Classification report for TEST data: \n",
      "               precision    recall  f1-score   support\n",
      "\n",
      "           0       0.67      0.43      0.52     22427\n",
      "           1       0.70      0.86      0.78     35372\n",
      "\n",
      "    accuracy                           0.69     57799\n",
      "   macro avg       0.68      0.65      0.65     57799\n",
      "weighted avg       0.69      0.69      0.68     57799\n",
      "\n",
      "--------------------------------------------------------------------------------\n"
     ]
    },
    {
     "data": {
      "image/png": "[encoded data removed]",
      "text/plain": [
       "<Figure size 432x288 with 2 Axes>"
      ]
     },
     "metadata": {
      "needs_background": "light"
     },
     "output_type": "display_data"
    }
   ],
   "source": [
    "# evaluate test set\n",
    "y_pred = best_log_reg.predict(X_test)\n",
    "\n",
    "## classification report\n",
    "print('Classification report for TEST data: \\n {}'.format(classification_report(y_test, y_pred)))\n",
    "print(\"--------\"*10)\n",
    "\n",
    "## confusion matrix\n",
    "cm = confusion_matrix(y_test, y_pred)\n",
    "#cm = cm.astype('float') / cm.sum(axis=1)[:, np.newaxis] # normalize the data, remove fmt='d' from heatmap code!\n",
    "plt.figure()\n",
    "sns.heatmap(cm, cmap='YlGnBu', annot=True, fmt='d', linewidths=.5)\n",
    "plt.ylabel('True label')\n",
    "plt.xlabel('Predicted label')\n",
    "plt.title('Confusion matrix for TEST data (log_reg clf):');"
   ]
  },
  {
   "cell_type": "markdown",
   "metadata": {},
   "source": [
    "## ROC-AUC"
   ]
  },
  {
   "cell_type": "code",
   "execution_count": 55,
   "metadata": {},
   "outputs": [
    {
     "name": "stdout",
     "output_type": "stream",
     "text": [
      "No Skill: ROC AUC=0.500\n",
      "Logistic: ROC AUC=0.721\n"
     ]
    },
    {
     "data": {
      "image/png": "[encoded data removed]",
      "text/plain": [
       "<Figure size 432x288 with 1 Axes>"
      ]
     },
     "metadata": {
      "needs_background": "light"
     },
     "output_type": "display_data"
    }
   ],
   "source": [
    "# fit best model to training data\n",
    "best_log_reg.fit(X_train, y_train)\n",
    "\n",
    "# predict probabilities\n",
    "lr_probs = best_log_reg.predict_proba(X_test)\n",
    "\n",
    "# keep probabilities for the positive outcome only\n",
    "lr_probs = lr_probs[:, 1]\n",
    "\n",
    "# generate a no skill prediction (majority class) (does the same as the dummy classifier)\n",
    "ns_probs = [1 for _ in range(len(y_test))]\n",
    "\n",
    "# calculate scores\n",
    "ns_auc = roc_auc_score(y_test, ns_probs)\n",
    "lr_auc = roc_auc_score(y_test, lr_probs)\n",
    "\n",
    "# summarize scores\n",
    "print('No Skill: ROC AUC=%.3f' % (ns_auc))\n",
    "print('Logistic: ROC AUC=%.3f' % (lr_auc))\n",
    "\n",
    "# calculate roc curves\n",
    "ns_fpr, ns_tpr, _ = roc_curve(y_test, ns_probs)\n",
    "lr_fpr, lr_tpr, _ = roc_curve(y_test, lr_probs)\n",
    "\n",
    "# plot the roc curve for the model\n",
    "plt.plot(ns_fpr, ns_tpr, linestyle='--', label='Dummy')\n",
    "plt.plot(lr_fpr, lr_tpr, marker='.', label='LogReg')\n",
    "# axis labels\n",
    "plt.xlabel('False Positive Rate')\n",
    "plt.ylabel('True Positive Rate')\n",
    "# show the legend\n",
    "plt.legend()\n",
    "# show the plot\n",
    "plt.show()"
   ]
  },
  {
   "cell_type": "markdown",
   "metadata": {},
   "source": [
    "## Precision-Recall Curve"
   ]
  },
  {
   "cell_type": "code",
   "execution_count": 56,
   "metadata": {},
   "outputs": [
    {
     "name": "stdout",
     "output_type": "stream",
     "text": [
      "Logistic Regression: f1=0.776 auc=0.775\n"
     ]
    },
    {
     "data": {
      "image/png": "[encoded data removed]",
      "text/plain": [
       "<Figure size 432x288 with 1 Axes>"
      ]
     },
     "metadata": {
      "needs_background": "light"
     },
     "output_type": "display_data"
    }
   ],
   "source": [
    "# precision-recall curve and f1\n",
    "\n",
    "# predict class values\n",
    "yhat = best_log_reg.predict(X_test)\n",
    "lr_precision, lr_recall, _ = precision_recall_curve(y_test, lr_probs)\n",
    "lr_f1, lr_auc = f1_score(y_test, yhat), auc(lr_recall, lr_precision)\n",
    "\n",
    "# summarize scores\n",
    "print('Logistic Regression: f1=%.3f auc=%.3f' % (lr_f1, lr_auc))\n",
    "\n",
    "# plot the precision-recall curves\n",
    "no_skill = len(y_test[y_test==1]) / len(y_test)\n",
    "\n",
    "\n",
    "# plot the precision-recall curve for the model\n",
    "plt.plot([0, 1], [no_skill, no_skill], linestyle='--', label='Dummy')\n",
    "plt.plot(lr_recall, lr_precision, marker='.', label='LogReg')\n",
    "# axis labels\n",
    "plt.xlabel('Recall')\n",
    "plt.ylabel('Precision')\n",
    "# show the legend\n",
    "plt.legend()\n",
    "# show the plot\n",
    "plt.show();"
   ]
  },
  {
   "cell_type": "code",
   "execution_count": null,
   "metadata": {},
   "outputs": [],
   "source": [
    "## save the model!\n",
    "\n",
    "#import pickle\n",
    "\n",
    "#filename = 'logreg_model.sav'\n",
    "#pickle.dump(best_log_reg, open(filename, 'wb'))"
   ]
  },
  {
   "cell_type": "markdown",
   "metadata": {},
   "source": [
    "## Error Analysis"
   ]
  },
  {
   "cell_type": "code",
   "execution_count": 95,
   "metadata": {},
   "outputs": [
    {
     "name": "stdout",
     "output_type": "stream",
     "text": [
      "<class 'pandas.core.frame.DataFrame'>\n",
      "RangeIndex: 192662 entries, 0 to 192661\n",
      "Data columns (total 9 columns):\n",
      " #   Column           Non-Null Count   Dtype  \n",
      "---  ------           --------------   -----  \n",
      " 0   country          192662 non-null  object \n",
      " 1   state            192662 non-null  int64  \n",
      " 2   delta_dead_laun  192662 non-null  float64\n",
      " 3   category         192662 non-null  object \n",
      " 4   launch_day       192662 non-null  int64  \n",
      " 5   launch_hour      192662 non-null  int64  \n",
      " 6   name_len         192662 non-null  int64  \n",
      " 7   blurb_len        192662 non-null  int64  \n",
      " 8   goal_usd_log     192662 non-null  float64\n",
      "dtypes: float64(2), int64(5), object(2)\n",
      "memory usage: 13.2+ MB\n"
     ]
    }
   ],
   "source": [
    "# make new dataframe consisting of X_test, y_test, y_pred\n",
    "# use X_test and y_test from before one-hot encoding!\n",
    "df_non_cat = pd.read_csv('data/df_preprocessed_log.csv')\n",
    "df_non_cat.info()\n"
   ]
  },
  {
   "cell_type": "code",
   "execution_count": 96,
   "metadata": {},
   "outputs": [
    {
     "data": {
      "text/html": [
       "<div>\n",
       "<style scoped>\n",
       "    .dataframe tbody tr th:only-of-type {\n",
       "        vertical-align: middle;\n",
       "    }\n",
       "\n",
       "    .dataframe tbody tr th {\n",
       "        vertical-align: top;\n",
       "    }\n",
       "\n",
       "    .dataframe thead th {\n",
       "        text-align: right;\n",
       "    }\n",
       "</style>\n",
       "<table border=\"1\" class=\"dataframe\">\n",
       "  <thead>\n",
       "    <tr style=\"text-align: right;\">\n",
       "      <th></th>\n",
       "      <th>country</th>\n",
       "      <th>delta_dead_laun</th>\n",
       "      <th>category</th>\n",
       "      <th>launch_day</th>\n",
       "      <th>launch_hour</th>\n",
       "      <th>name_len</th>\n",
       "      <th>blurb_len</th>\n",
       "      <th>goal_usd_log</th>\n",
       "    </tr>\n",
       "  </thead>\n",
       "  <tbody>\n",
       "    <tr>\n",
       "      <th>0</th>\n",
       "      <td>US</td>\n",
       "      <td>720.0</td>\n",
       "      <td>games</td>\n",
       "      <td>3</td>\n",
       "      <td>19</td>\n",
       "      <td>23</td>\n",
       "      <td>125</td>\n",
       "      <td>6.907755</td>\n",
       "    </tr>\n",
       "    <tr>\n",
       "      <th>1</th>\n",
       "      <td>US</td>\n",
       "      <td>720.0</td>\n",
       "      <td>music</td>\n",
       "      <td>0</td>\n",
       "      <td>7</td>\n",
       "      <td>51</td>\n",
       "      <td>108</td>\n",
       "      <td>9.615805</td>\n",
       "    </tr>\n",
       "    <tr>\n",
       "      <th>2</th>\n",
       "      <td>GB</td>\n",
       "      <td>1439.0</td>\n",
       "      <td>games</td>\n",
       "      <td>3</td>\n",
       "      <td>19</td>\n",
       "      <td>34</td>\n",
       "      <td>133</td>\n",
       "      <td>9.479141</td>\n",
       "    </tr>\n",
       "    <tr>\n",
       "      <th>3</th>\n",
       "      <td>US</td>\n",
       "      <td>720.0</td>\n",
       "      <td>publishing</td>\n",
       "      <td>0</td>\n",
       "      <td>21</td>\n",
       "      <td>40</td>\n",
       "      <td>121</td>\n",
       "      <td>7.937375</td>\n",
       "    </tr>\n",
       "    <tr>\n",
       "      <th>4</th>\n",
       "      <td>US</td>\n",
       "      <td>720.0</td>\n",
       "      <td>music</td>\n",
       "      <td>3</td>\n",
       "      <td>4</td>\n",
       "      <td>31</td>\n",
       "      <td>134</td>\n",
       "      <td>8.160518</td>\n",
       "    </tr>\n",
       "  </tbody>\n",
       "</table>\n",
       "</div>"
      ],
      "text/plain": [
       "  country  delta_dead_laun    category  launch_day  launch_hour  name_len  \\\n",
       "0      US            720.0       games           3           19        23   \n",
       "1      US            720.0       music           0            7        51   \n",
       "2      GB           1439.0       games           3           19        34   \n",
       "3      US            720.0  publishing           0           21        40   \n",
       "4      US            720.0       music           3            4        31   \n",
       "\n",
       "   blurb_len  goal_usd_log  \n",
       "0        125      6.907755  \n",
       "1        108      9.615805  \n",
       "2        133      9.479141  \n",
       "3        121      7.937375  \n",
       "4        134      8.160518  "
      ]
     },
     "execution_count": 96,
     "metadata": {},
     "output_type": "execute_result"
    }
   ],
   "source": [
    "\n",
    "# split features from target (features: X, target: y)\n",
    "X = df_non_cat.drop('state', axis=1)\n",
    "y = df_non_cat['state']\n",
    "X.head()\n"
   ]
  },
  {
   "cell_type": "code",
   "execution_count": 97,
   "metadata": {},
   "outputs": [
    {
     "name": "stdout",
     "output_type": "stream",
     "text": [
      "X_train: (134863, 8)\n",
      "y_train: (134863,)\n",
      "X_test: (57799, 8)\n",
      "y_test: (57799,)\n"
     ]
    }
   ],
   "source": [
    "\n",
    "# Split data into train and test set\n",
    "X_train, X_test, y_train, y_test = train_test_split(X, y, test_size=0.3, random_state=42)\n",
    "\n",
    "# Check the shape of the data sets\n",
    "print(\"X_train:\", X_train.shape)\n",
    "print(\"y_train:\", y_train.shape)\n",
    "print(\"X_test:\", X_test.shape)\n",
    "print(\"y_test:\", y_test.shape)\n"
   ]
  },
  {
   "cell_type": "code",
   "execution_count": 98,
   "metadata": {},
   "outputs": [],
   "source": [
    "X_test.head()\n",
    "X_test_reset = X_test.reset_index()\n",
    "\n",
    "y_test_reset = y_test.reset_index()"
   ]
  },
  {
   "cell_type": "code",
   "execution_count": 99,
   "metadata": {},
   "outputs": [
    {
     "name": "stdout",
     "output_type": "stream",
     "text": [
      "<class 'pandas.core.frame.DataFrame'>\n",
      "RangeIndex: 57799 entries, 0 to 57798\n",
      "Data columns (total 1 columns):\n",
      " #   Column      Non-Null Count  Dtype\n",
      "---  ------      --------------  -----\n",
      " 0   state_pred  57799 non-null  int64\n",
      "dtypes: int64(1)\n",
      "memory usage: 451.7 KB\n"
     ]
    },
    {
     "data": {
      "text/html": [
       "<div>\n",
       "<style scoped>\n",
       "    .dataframe tbody tr th:only-of-type {\n",
       "        vertical-align: middle;\n",
       "    }\n",
       "\n",
       "    .dataframe tbody tr th {\n",
       "        vertical-align: top;\n",
       "    }\n",
       "\n",
       "    .dataframe thead th {\n",
       "        text-align: right;\n",
       "    }\n",
       "</style>\n",
       "<table border=\"1\" class=\"dataframe\">\n",
       "  <thead>\n",
       "    <tr style=\"text-align: right;\">\n",
       "      <th></th>\n",
       "      <th>state_pred</th>\n",
       "    </tr>\n",
       "  </thead>\n",
       "  <tbody>\n",
       "    <tr>\n",
       "      <th>0</th>\n",
       "      <td>1</td>\n",
       "    </tr>\n",
       "    <tr>\n",
       "      <th>1</th>\n",
       "      <td>0</td>\n",
       "    </tr>\n",
       "    <tr>\n",
       "      <th>2</th>\n",
       "      <td>1</td>\n",
       "    </tr>\n",
       "    <tr>\n",
       "      <th>3</th>\n",
       "      <td>1</td>\n",
       "    </tr>\n",
       "    <tr>\n",
       "      <th>4</th>\n",
       "      <td>1</td>\n",
       "    </tr>\n",
       "  </tbody>\n",
       "</table>\n",
       "</div>"
      ],
      "text/plain": [
       "   state_pred\n",
       "0           1\n",
       "1           0\n",
       "2           1\n",
       "3           1\n",
       "4           1"
      ]
     },
     "execution_count": 99,
     "metadata": {},
     "output_type": "execute_result"
    }
   ],
   "source": [
    "# combine X_test, y_test and y_pred\n",
    "\n",
    "y_pred_df = pd.DataFrame(y_pred)\n",
    "y_pred_df['state_pred'] = y_pred_df.loc[:,0]\n",
    "y_pred_df.drop(0, inplace=True, axis=1)\n",
    "y_pred_df.info()\n",
    "y_pred_df.head()"
   ]
  },
  {
   "cell_type": "code",
   "execution_count": 100,
   "metadata": {},
   "outputs": [
    {
     "data": {
      "text/html": [
       "<div>\n",
       "<style scoped>\n",
       "    .dataframe tbody tr th:only-of-type {\n",
       "        vertical-align: middle;\n",
       "    }\n",
       "\n",
       "    .dataframe tbody tr th {\n",
       "        vertical-align: top;\n",
       "    }\n",
       "\n",
       "    .dataframe thead th {\n",
       "        text-align: right;\n",
       "    }\n",
       "</style>\n",
       "<table border=\"1\" class=\"dataframe\">\n",
       "  <thead>\n",
       "    <tr style=\"text-align: right;\">\n",
       "      <th></th>\n",
       "      <th>index</th>\n",
       "      <th>country</th>\n",
       "      <th>delta_dead_laun</th>\n",
       "      <th>category</th>\n",
       "      <th>launch_day</th>\n",
       "      <th>launch_hour</th>\n",
       "      <th>name_len</th>\n",
       "      <th>blurb_len</th>\n",
       "      <th>goal_usd_log</th>\n",
       "      <th>index</th>\n",
       "      <th>state</th>\n",
       "      <th>state_pred</th>\n",
       "    </tr>\n",
       "  </thead>\n",
       "  <tbody>\n",
       "    <tr>\n",
       "      <th>0</th>\n",
       "      <td>9463</td>\n",
       "      <td>US</td>\n",
       "      <td>1342.0</td>\n",
       "      <td>art</td>\n",
       "      <td>1</td>\n",
       "      <td>23</td>\n",
       "      <td>27</td>\n",
       "      <td>124</td>\n",
       "      <td>6.802395</td>\n",
       "      <td>9463</td>\n",
       "      <td>1</td>\n",
       "      <td>1</td>\n",
       "    </tr>\n",
       "    <tr>\n",
       "      <th>1</th>\n",
       "      <td>168793</td>\n",
       "      <td>GB</td>\n",
       "      <td>683.0</td>\n",
       "      <td>technology</td>\n",
       "      <td>4</td>\n",
       "      <td>10</td>\n",
       "      <td>27</td>\n",
       "      <td>124</td>\n",
       "      <td>8.288293</td>\n",
       "      <td>168793</td>\n",
       "      <td>0</td>\n",
       "      <td>0</td>\n",
       "    </tr>\n",
       "    <tr>\n",
       "      <th>2</th>\n",
       "      <td>118784</td>\n",
       "      <td>GB</td>\n",
       "      <td>720.0</td>\n",
       "      <td>film &amp; video</td>\n",
       "      <td>2</td>\n",
       "      <td>15</td>\n",
       "      <td>7</td>\n",
       "      <td>73</td>\n",
       "      <td>7.582021</td>\n",
       "      <td>118784</td>\n",
       "      <td>1</td>\n",
       "      <td>1</td>\n",
       "    </tr>\n",
       "    <tr>\n",
       "      <th>3</th>\n",
       "      <td>70</td>\n",
       "      <td>US</td>\n",
       "      <td>720.0</td>\n",
       "      <td>music</td>\n",
       "      <td>1</td>\n",
       "      <td>16</td>\n",
       "      <td>31</td>\n",
       "      <td>88</td>\n",
       "      <td>8.006368</td>\n",
       "      <td>70</td>\n",
       "      <td>1</td>\n",
       "      <td>1</td>\n",
       "    </tr>\n",
       "    <tr>\n",
       "      <th>4</th>\n",
       "      <td>166535</td>\n",
       "      <td>US</td>\n",
       "      <td>720.0</td>\n",
       "      <td>fashion</td>\n",
       "      <td>2</td>\n",
       "      <td>23</td>\n",
       "      <td>45</td>\n",
       "      <td>128</td>\n",
       "      <td>4.605170</td>\n",
       "      <td>166535</td>\n",
       "      <td>1</td>\n",
       "      <td>1</td>\n",
       "    </tr>\n",
       "  </tbody>\n",
       "</table>\n",
       "</div>"
      ],
      "text/plain": [
       "    index country  delta_dead_laun      category  launch_day  launch_hour  \\\n",
       "0    9463      US           1342.0           art           1           23   \n",
       "1  168793      GB            683.0    technology           4           10   \n",
       "2  118784      GB            720.0  film & video           2           15   \n",
       "3      70      US            720.0         music           1           16   \n",
       "4  166535      US            720.0       fashion           2           23   \n",
       "\n",
       "   name_len  blurb_len  goal_usd_log   index  state  state_pred  \n",
       "0        27        124      6.802395    9463      1           1  \n",
       "1        27        124      8.288293  168793      0           0  \n",
       "2         7         73      7.582021  118784      1           1  \n",
       "3        31         88      8.006368      70      1           1  \n",
       "4        45        128      4.605170  166535      1           1  "
      ]
     },
     "execution_count": 100,
     "metadata": {},
     "output_type": "execute_result"
    }
   ],
   "source": [
    "\n",
    "df_error = pd.concat([X_test_reset, y_test_reset, y_pred_df], axis=1)\n",
    "df_error.head()\n",
    "#df_error.info()\n"
   ]
  },
  {
   "cell_type": "markdown",
   "metadata": {},
   "source": [
    "### split into false negatives (state = 1 and state_pred = 0) and false positives (state = 0 and state_pred = 1)"
   ]
  },
  {
   "cell_type": "code",
   "execution_count": 101,
   "metadata": {},
   "outputs": [
    {
     "name": "stdout",
     "output_type": "stream",
     "text": [
      "<class 'pandas.core.frame.DataFrame'>\n",
      "Int64Index: 12833 entries, 5 to 57797\n",
      "Data columns (total 12 columns):\n",
      " #   Column           Non-Null Count  Dtype  \n",
      "---  ------           --------------  -----  \n",
      " 0   index            12833 non-null  int64  \n",
      " 1   country          12833 non-null  object \n",
      " 2   delta_dead_laun  12833 non-null  float64\n",
      " 3   category         12833 non-null  object \n",
      " 4   launch_day       12833 non-null  int64  \n",
      " 5   launch_hour      12833 non-null  int64  \n",
      " 6   name_len         12833 non-null  int64  \n",
      " 7   blurb_len        12833 non-null  int64  \n",
      " 8   goal_usd_log     12833 non-null  float64\n",
      " 9   index            12833 non-null  int64  \n",
      " 10  state            12833 non-null  int64  \n",
      " 11  state_pred       12833 non-null  int64  \n",
      "dtypes: float64(2), int64(8), object(2)\n",
      "memory usage: 1.3+ MB\n"
     ]
    },
    {
     "data": {
      "text/html": [
       "<div>\n",
       "<style scoped>\n",
       "    .dataframe tbody tr th:only-of-type {\n",
       "        vertical-align: middle;\n",
       "    }\n",
       "\n",
       "    .dataframe tbody tr th {\n",
       "        vertical-align: top;\n",
       "    }\n",
       "\n",
       "    .dataframe thead th {\n",
       "        text-align: right;\n",
       "    }\n",
       "</style>\n",
       "<table border=\"1\" class=\"dataframe\">\n",
       "  <thead>\n",
       "    <tr style=\"text-align: right;\">\n",
       "      <th></th>\n",
       "      <th>index</th>\n",
       "      <th>country</th>\n",
       "      <th>delta_dead_laun</th>\n",
       "      <th>category</th>\n",
       "      <th>launch_day</th>\n",
       "      <th>launch_hour</th>\n",
       "      <th>name_len</th>\n",
       "      <th>blurb_len</th>\n",
       "      <th>goal_usd_log</th>\n",
       "      <th>index</th>\n",
       "      <th>state</th>\n",
       "      <th>state_pred</th>\n",
       "    </tr>\n",
       "  </thead>\n",
       "  <tbody>\n",
       "    <tr>\n",
       "      <th>5</th>\n",
       "      <td>69288</td>\n",
       "      <td>US</td>\n",
       "      <td>720.0</td>\n",
       "      <td>art</td>\n",
       "      <td>2</td>\n",
       "      <td>4</td>\n",
       "      <td>46</td>\n",
       "      <td>98</td>\n",
       "      <td>7.696213</td>\n",
       "      <td>69288</td>\n",
       "      <td>0</td>\n",
       "      <td>1</td>\n",
       "    </tr>\n",
       "    <tr>\n",
       "      <th>10</th>\n",
       "      <td>99158</td>\n",
       "      <td>AU</td>\n",
       "      <td>696.0</td>\n",
       "      <td>photography</td>\n",
       "      <td>1</td>\n",
       "      <td>10</td>\n",
       "      <td>30</td>\n",
       "      <td>57</td>\n",
       "      <td>8.575424</td>\n",
       "      <td>99158</td>\n",
       "      <td>0</td>\n",
       "      <td>1</td>\n",
       "    </tr>\n",
       "    <tr>\n",
       "      <th>12</th>\n",
       "      <td>101609</td>\n",
       "      <td>AU</td>\n",
       "      <td>480.0</td>\n",
       "      <td>film &amp; video</td>\n",
       "      <td>6</td>\n",
       "      <td>2</td>\n",
       "      <td>34</td>\n",
       "      <td>132</td>\n",
       "      <td>8.861906</td>\n",
       "      <td>101609</td>\n",
       "      <td>0</td>\n",
       "      <td>1</td>\n",
       "    </tr>\n",
       "    <tr>\n",
       "      <th>13</th>\n",
       "      <td>46563</td>\n",
       "      <td>IE</td>\n",
       "      <td>740.0</td>\n",
       "      <td>art</td>\n",
       "      <td>3</td>\n",
       "      <td>19</td>\n",
       "      <td>33</td>\n",
       "      <td>98</td>\n",
       "      <td>7.434050</td>\n",
       "      <td>46563</td>\n",
       "      <td>0</td>\n",
       "      <td>1</td>\n",
       "    </tr>\n",
       "    <tr>\n",
       "      <th>15</th>\n",
       "      <td>73284</td>\n",
       "      <td>US</td>\n",
       "      <td>720.0</td>\n",
       "      <td>crafts</td>\n",
       "      <td>0</td>\n",
       "      <td>19</td>\n",
       "      <td>27</td>\n",
       "      <td>123</td>\n",
       "      <td>7.600902</td>\n",
       "      <td>73284</td>\n",
       "      <td>0</td>\n",
       "      <td>1</td>\n",
       "    </tr>\n",
       "  </tbody>\n",
       "</table>\n",
       "</div>"
      ],
      "text/plain": [
       "     index country  delta_dead_laun      category  launch_day  launch_hour  \\\n",
       "5    69288      US            720.0           art           2            4   \n",
       "10   99158      AU            696.0   photography           1           10   \n",
       "12  101609      AU            480.0  film & video           6            2   \n",
       "13   46563      IE            740.0           art           3           19   \n",
       "15   73284      US            720.0        crafts           0           19   \n",
       "\n",
       "    name_len  blurb_len  goal_usd_log   index  state  state_pred  \n",
       "5         46         98      7.696213   69288      0           1  \n",
       "10        30         57      8.575424   99158      0           1  \n",
       "12        34        132      8.861906  101609      0           1  \n",
       "13        33         98      7.434050   46563      0           1  \n",
       "15        27        123      7.600902   73284      0           1  "
      ]
     },
     "execution_count": 101,
     "metadata": {},
     "output_type": "execute_result"
    }
   ],
   "source": [
    "# false positives\n",
    "FP = df_error.query('state==0 and state_pred==1')\n",
    "FP.info()\n",
    "FP.head()"
   ]
  },
  {
   "cell_type": "code",
   "execution_count": 102,
   "metadata": {},
   "outputs": [
    {
     "name": "stdout",
     "output_type": "stream",
     "text": [
      "<class 'pandas.core.frame.DataFrame'>\n",
      "Int64Index: 4827 entries, 6 to 57796\n",
      "Data columns (total 12 columns):\n",
      " #   Column           Non-Null Count  Dtype  \n",
      "---  ------           --------------  -----  \n",
      " 0   index            4827 non-null   int64  \n",
      " 1   country          4827 non-null   object \n",
      " 2   delta_dead_laun  4827 non-null   float64\n",
      " 3   category         4827 non-null   object \n",
      " 4   launch_day       4827 non-null   int64  \n",
      " 5   launch_hour      4827 non-null   int64  \n",
      " 6   name_len         4827 non-null   int64  \n",
      " 7   blurb_len        4827 non-null   int64  \n",
      " 8   goal_usd_log     4827 non-null   float64\n",
      " 9   index            4827 non-null   int64  \n",
      " 10  state            4827 non-null   int64  \n",
      " 11  state_pred       4827 non-null   int64  \n",
      "dtypes: float64(2), int64(8), object(2)\n",
      "memory usage: 490.2+ KB\n"
     ]
    },
    {
     "data": {
      "text/html": [
       "<div>\n",
       "<style scoped>\n",
       "    .dataframe tbody tr th:only-of-type {\n",
       "        vertical-align: middle;\n",
       "    }\n",
       "\n",
       "    .dataframe tbody tr th {\n",
       "        vertical-align: top;\n",
       "    }\n",
       "\n",
       "    .dataframe thead th {\n",
       "        text-align: right;\n",
       "    }\n",
       "</style>\n",
       "<table border=\"1\" class=\"dataframe\">\n",
       "  <thead>\n",
       "    <tr style=\"text-align: right;\">\n",
       "      <th></th>\n",
       "      <th>index</th>\n",
       "      <th>country</th>\n",
       "      <th>delta_dead_laun</th>\n",
       "      <th>category</th>\n",
       "      <th>launch_day</th>\n",
       "      <th>launch_hour</th>\n",
       "      <th>name_len</th>\n",
       "      <th>blurb_len</th>\n",
       "      <th>goal_usd_log</th>\n",
       "      <th>index</th>\n",
       "      <th>state</th>\n",
       "      <th>state_pred</th>\n",
       "    </tr>\n",
       "  </thead>\n",
       "  <tbody>\n",
       "    <tr>\n",
       "      <th>6</th>\n",
       "      <td>86324</td>\n",
       "      <td>US</td>\n",
       "      <td>801.0</td>\n",
       "      <td>technology</td>\n",
       "      <td>1</td>\n",
       "      <td>18</td>\n",
       "      <td>55</td>\n",
       "      <td>135</td>\n",
       "      <td>11.652687</td>\n",
       "      <td>86324</td>\n",
       "      <td>1</td>\n",
       "      <td>0</td>\n",
       "    </tr>\n",
       "    <tr>\n",
       "      <th>14</th>\n",
       "      <td>66472</td>\n",
       "      <td>US</td>\n",
       "      <td>1079.0</td>\n",
       "      <td>publishing</td>\n",
       "      <td>6</td>\n",
       "      <td>20</td>\n",
       "      <td>16</td>\n",
       "      <td>122</td>\n",
       "      <td>10.308953</td>\n",
       "      <td>66472</td>\n",
       "      <td>1</td>\n",
       "      <td>0</td>\n",
       "    </tr>\n",
       "    <tr>\n",
       "      <th>20</th>\n",
       "      <td>71282</td>\n",
       "      <td>US</td>\n",
       "      <td>720.0</td>\n",
       "      <td>food</td>\n",
       "      <td>5</td>\n",
       "      <td>19</td>\n",
       "      <td>25</td>\n",
       "      <td>133</td>\n",
       "      <td>10.308953</td>\n",
       "      <td>71282</td>\n",
       "      <td>1</td>\n",
       "      <td>0</td>\n",
       "    </tr>\n",
       "    <tr>\n",
       "      <th>91</th>\n",
       "      <td>66643</td>\n",
       "      <td>US</td>\n",
       "      <td>1152.0</td>\n",
       "      <td>film &amp; video</td>\n",
       "      <td>3</td>\n",
       "      <td>21</td>\n",
       "      <td>40</td>\n",
       "      <td>131</td>\n",
       "      <td>10.308953</td>\n",
       "      <td>66643</td>\n",
       "      <td>1</td>\n",
       "      <td>0</td>\n",
       "    </tr>\n",
       "    <tr>\n",
       "      <th>128</th>\n",
       "      <td>86837</td>\n",
       "      <td>US</td>\n",
       "      <td>734.0</td>\n",
       "      <td>food</td>\n",
       "      <td>2</td>\n",
       "      <td>9</td>\n",
       "      <td>35</td>\n",
       "      <td>84</td>\n",
       "      <td>8.853665</td>\n",
       "      <td>86837</td>\n",
       "      <td>1</td>\n",
       "      <td>0</td>\n",
       "    </tr>\n",
       "  </tbody>\n",
       "</table>\n",
       "</div>"
      ],
      "text/plain": [
       "     index country  delta_dead_laun      category  launch_day  launch_hour  \\\n",
       "6    86324      US            801.0    technology           1           18   \n",
       "14   66472      US           1079.0    publishing           6           20   \n",
       "20   71282      US            720.0          food           5           19   \n",
       "91   66643      US           1152.0  film & video           3           21   \n",
       "128  86837      US            734.0          food           2            9   \n",
       "\n",
       "     name_len  blurb_len  goal_usd_log  index  state  state_pred  \n",
       "6          55        135     11.652687  86324      1           0  \n",
       "14         16        122     10.308953  66472      1           0  \n",
       "20         25        133     10.308953  71282      1           0  \n",
       "91         40        131     10.308953  66643      1           0  \n",
       "128        35         84      8.853665  86837      1           0  "
      ]
     },
     "execution_count": 102,
     "metadata": {},
     "output_type": "execute_result"
    }
   ],
   "source": [
    "# false negatives\n",
    "FN = df_error.query('state==1 and state_pred==0')\n",
    "FN.info()\n",
    "FN.head()"
   ]
  },
  {
   "cell_type": "code",
   "execution_count": 103,
   "metadata": {},
   "outputs": [
    {
     "name": "stdout",
     "output_type": "stream",
     "text": [
      "<class 'pandas.core.frame.DataFrame'>\n",
      "Int64Index: 30545 entries, 0 to 57798\n",
      "Data columns (total 12 columns):\n",
      " #   Column           Non-Null Count  Dtype  \n",
      "---  ------           --------------  -----  \n",
      " 0   index            30545 non-null  int64  \n",
      " 1   country          30545 non-null  object \n",
      " 2   delta_dead_laun  30545 non-null  float64\n",
      " 3   category         30545 non-null  object \n",
      " 4   launch_day       30545 non-null  int64  \n",
      " 5   launch_hour      30545 non-null  int64  \n",
      " 6   name_len         30545 non-null  int64  \n",
      " 7   blurb_len        30545 non-null  int64  \n",
      " 8   goal_usd_log     30545 non-null  float64\n",
      " 9   index            30545 non-null  int64  \n",
      " 10  state            30545 non-null  int64  \n",
      " 11  state_pred       30545 non-null  int64  \n",
      "dtypes: float64(2), int64(8), object(2)\n",
      "memory usage: 3.0+ MB\n"
     ]
    },
    {
     "data": {
      "text/html": [
       "<div>\n",
       "<style scoped>\n",
       "    .dataframe tbody tr th:only-of-type {\n",
       "        vertical-align: middle;\n",
       "    }\n",
       "\n",
       "    .dataframe tbody tr th {\n",
       "        vertical-align: top;\n",
       "    }\n",
       "\n",
       "    .dataframe thead th {\n",
       "        text-align: right;\n",
       "    }\n",
       "</style>\n",
       "<table border=\"1\" class=\"dataframe\">\n",
       "  <thead>\n",
       "    <tr style=\"text-align: right;\">\n",
       "      <th></th>\n",
       "      <th>index</th>\n",
       "      <th>country</th>\n",
       "      <th>delta_dead_laun</th>\n",
       "      <th>category</th>\n",
       "      <th>launch_day</th>\n",
       "      <th>launch_hour</th>\n",
       "      <th>name_len</th>\n",
       "      <th>blurb_len</th>\n",
       "      <th>goal_usd_log</th>\n",
       "      <th>index</th>\n",
       "      <th>state</th>\n",
       "      <th>state_pred</th>\n",
       "    </tr>\n",
       "  </thead>\n",
       "  <tbody>\n",
       "    <tr>\n",
       "      <th>0</th>\n",
       "      <td>9463</td>\n",
       "      <td>US</td>\n",
       "      <td>1342.0</td>\n",
       "      <td>art</td>\n",
       "      <td>1</td>\n",
       "      <td>23</td>\n",
       "      <td>27</td>\n",
       "      <td>124</td>\n",
       "      <td>6.802395</td>\n",
       "      <td>9463</td>\n",
       "      <td>1</td>\n",
       "      <td>1</td>\n",
       "    </tr>\n",
       "    <tr>\n",
       "      <th>2</th>\n",
       "      <td>118784</td>\n",
       "      <td>GB</td>\n",
       "      <td>720.0</td>\n",
       "      <td>film &amp; video</td>\n",
       "      <td>2</td>\n",
       "      <td>15</td>\n",
       "      <td>7</td>\n",
       "      <td>73</td>\n",
       "      <td>7.582021</td>\n",
       "      <td>118784</td>\n",
       "      <td>1</td>\n",
       "      <td>1</td>\n",
       "    </tr>\n",
       "    <tr>\n",
       "      <th>3</th>\n",
       "      <td>70</td>\n",
       "      <td>US</td>\n",
       "      <td>720.0</td>\n",
       "      <td>music</td>\n",
       "      <td>1</td>\n",
       "      <td>16</td>\n",
       "      <td>31</td>\n",
       "      <td>88</td>\n",
       "      <td>8.006368</td>\n",
       "      <td>70</td>\n",
       "      <td>1</td>\n",
       "      <td>1</td>\n",
       "    </tr>\n",
       "    <tr>\n",
       "      <th>4</th>\n",
       "      <td>166535</td>\n",
       "      <td>US</td>\n",
       "      <td>720.0</td>\n",
       "      <td>fashion</td>\n",
       "      <td>2</td>\n",
       "      <td>23</td>\n",
       "      <td>45</td>\n",
       "      <td>128</td>\n",
       "      <td>4.605170</td>\n",
       "      <td>166535</td>\n",
       "      <td>1</td>\n",
       "      <td>1</td>\n",
       "    </tr>\n",
       "    <tr>\n",
       "      <th>7</th>\n",
       "      <td>100574</td>\n",
       "      <td>US</td>\n",
       "      <td>768.0</td>\n",
       "      <td>fashion</td>\n",
       "      <td>0</td>\n",
       "      <td>18</td>\n",
       "      <td>60</td>\n",
       "      <td>135</td>\n",
       "      <td>9.350102</td>\n",
       "      <td>100574</td>\n",
       "      <td>1</td>\n",
       "      <td>1</td>\n",
       "    </tr>\n",
       "  </tbody>\n",
       "</table>\n",
       "</div>"
      ],
      "text/plain": [
       "    index country  delta_dead_laun      category  launch_day  launch_hour  \\\n",
       "0    9463      US           1342.0           art           1           23   \n",
       "2  118784      GB            720.0  film & video           2           15   \n",
       "3      70      US            720.0         music           1           16   \n",
       "4  166535      US            720.0       fashion           2           23   \n",
       "7  100574      US            768.0       fashion           0           18   \n",
       "\n",
       "   name_len  blurb_len  goal_usd_log   index  state  state_pred  \n",
       "0        27        124      6.802395    9463      1           1  \n",
       "2         7         73      7.582021  118784      1           1  \n",
       "3        31         88      8.006368      70      1           1  \n",
       "4        45        128      4.605170  166535      1           1  \n",
       "7        60        135      9.350102  100574      1           1  "
      ]
     },
     "execution_count": 103,
     "metadata": {},
     "output_type": "execute_result"
    }
   ],
   "source": [
    "# true positives\n",
    "TP = df_error.query('state==1 and state_pred==1')\n",
    "TP.info()\n",
    "TP.head()"
   ]
  },
  {
   "cell_type": "code",
   "execution_count": 104,
   "metadata": {},
   "outputs": [
    {
     "name": "stdout",
     "output_type": "stream",
     "text": [
      "<class 'pandas.core.frame.DataFrame'>\n",
      "Int64Index: 9594 entries, 1 to 57757\n",
      "Data columns (total 12 columns):\n",
      " #   Column           Non-Null Count  Dtype  \n",
      "---  ------           --------------  -----  \n",
      " 0   index            9594 non-null   int64  \n",
      " 1   country          9594 non-null   object \n",
      " 2   delta_dead_laun  9594 non-null   float64\n",
      " 3   category         9594 non-null   object \n",
      " 4   launch_day       9594 non-null   int64  \n",
      " 5   launch_hour      9594 non-null   int64  \n",
      " 6   name_len         9594 non-null   int64  \n",
      " 7   blurb_len        9594 non-null   int64  \n",
      " 8   goal_usd_log     9594 non-null   float64\n",
      " 9   index            9594 non-null   int64  \n",
      " 10  state            9594 non-null   int64  \n",
      " 11  state_pred       9594 non-null   int64  \n",
      "dtypes: float64(2), int64(8), object(2)\n",
      "memory usage: 974.4+ KB\n"
     ]
    },
    {
     "data": {
      "text/html": [
       "<div>\n",
       "<style scoped>\n",
       "    .dataframe tbody tr th:only-of-type {\n",
       "        vertical-align: middle;\n",
       "    }\n",
       "\n",
       "    .dataframe tbody tr th {\n",
       "        vertical-align: top;\n",
       "    }\n",
       "\n",
       "    .dataframe thead th {\n",
       "        text-align: right;\n",
       "    }\n",
       "</style>\n",
       "<table border=\"1\" class=\"dataframe\">\n",
       "  <thead>\n",
       "    <tr style=\"text-align: right;\">\n",
       "      <th></th>\n",
       "      <th>index</th>\n",
       "      <th>country</th>\n",
       "      <th>delta_dead_laun</th>\n",
       "      <th>category</th>\n",
       "      <th>launch_day</th>\n",
       "      <th>launch_hour</th>\n",
       "      <th>name_len</th>\n",
       "      <th>blurb_len</th>\n",
       "      <th>goal_usd_log</th>\n",
       "      <th>index</th>\n",
       "      <th>state</th>\n",
       "      <th>state_pred</th>\n",
       "    </tr>\n",
       "  </thead>\n",
       "  <tbody>\n",
       "    <tr>\n",
       "      <th>1</th>\n",
       "      <td>168793</td>\n",
       "      <td>GB</td>\n",
       "      <td>683.0</td>\n",
       "      <td>technology</td>\n",
       "      <td>4</td>\n",
       "      <td>10</td>\n",
       "      <td>27</td>\n",
       "      <td>124</td>\n",
       "      <td>8.288293</td>\n",
       "      <td>168793</td>\n",
       "      <td>0</td>\n",
       "      <td>0</td>\n",
       "    </tr>\n",
       "    <tr>\n",
       "      <th>8</th>\n",
       "      <td>149052</td>\n",
       "      <td>US</td>\n",
       "      <td>720.0</td>\n",
       "      <td>food</td>\n",
       "      <td>2</td>\n",
       "      <td>0</td>\n",
       "      <td>38</td>\n",
       "      <td>72</td>\n",
       "      <td>9.615805</td>\n",
       "      <td>149052</td>\n",
       "      <td>0</td>\n",
       "      <td>0</td>\n",
       "    </tr>\n",
       "    <tr>\n",
       "      <th>26</th>\n",
       "      <td>144058</td>\n",
       "      <td>DE</td>\n",
       "      <td>720.0</td>\n",
       "      <td>food</td>\n",
       "      <td>4</td>\n",
       "      <td>13</td>\n",
       "      <td>53</td>\n",
       "      <td>134</td>\n",
       "      <td>10.206639</td>\n",
       "      <td>144058</td>\n",
       "      <td>0</td>\n",
       "      <td>0</td>\n",
       "    </tr>\n",
       "    <tr>\n",
       "      <th>27</th>\n",
       "      <td>40560</td>\n",
       "      <td>US</td>\n",
       "      <td>783.0</td>\n",
       "      <td>technology</td>\n",
       "      <td>0</td>\n",
       "      <td>23</td>\n",
       "      <td>48</td>\n",
       "      <td>124</td>\n",
       "      <td>11.289782</td>\n",
       "      <td>40560</td>\n",
       "      <td>0</td>\n",
       "      <td>0</td>\n",
       "    </tr>\n",
       "    <tr>\n",
       "      <th>41</th>\n",
       "      <td>176701</td>\n",
       "      <td>US</td>\n",
       "      <td>720.0</td>\n",
       "      <td>film &amp; video</td>\n",
       "      <td>4</td>\n",
       "      <td>0</td>\n",
       "      <td>10</td>\n",
       "      <td>100</td>\n",
       "      <td>10.819778</td>\n",
       "      <td>176701</td>\n",
       "      <td>0</td>\n",
       "      <td>0</td>\n",
       "    </tr>\n",
       "  </tbody>\n",
       "</table>\n",
       "</div>"
      ],
      "text/plain": [
       "     index country  delta_dead_laun      category  launch_day  launch_hour  \\\n",
       "1   168793      GB            683.0    technology           4           10   \n",
       "8   149052      US            720.0          food           2            0   \n",
       "26  144058      DE            720.0          food           4           13   \n",
       "27   40560      US            783.0    technology           0           23   \n",
       "41  176701      US            720.0  film & video           4            0   \n",
       "\n",
       "    name_len  blurb_len  goal_usd_log   index  state  state_pred  \n",
       "1         27        124      8.288293  168793      0           0  \n",
       "8         38         72      9.615805  149052      0           0  \n",
       "26        53        134     10.206639  144058      0           0  \n",
       "27        48        124     11.289782   40560      0           0  \n",
       "41        10        100     10.819778  176701      0           0  "
      ]
     },
     "execution_count": 104,
     "metadata": {},
     "output_type": "execute_result"
    }
   ],
   "source": [
    "# true negatives\n",
    "TN = df_error.query('state==0 and state_pred==0')\n",
    "TN.info()\n",
    "TN.head()"
   ]
  },
  {
   "cell_type": "markdown",
   "metadata": {},
   "source": [
    "### look at 20 true positives vs false positives"
   ]
  },
  {
   "cell_type": "code",
   "execution_count": null,
   "metadata": {},
   "outputs": [],
   "source": []
  },
  {
   "cell_type": "markdown",
   "metadata": {},
   "source": [
    "### error-analysis plots"
   ]
  },
  {
   "cell_type": "code",
   "execution_count": 105,
   "metadata": {},
   "outputs": [
    {
     "name": "stdout",
     "output_type": "stream",
     "text": [
      "<class 'pandas.core.frame.DataFrame'>\n",
      "Int64Index: 43378 entries, 5 to 57798\n",
      "Data columns (total 12 columns):\n",
      " #   Column           Non-Null Count  Dtype  \n",
      "---  ------           --------------  -----  \n",
      " 0   index            43378 non-null  int64  \n",
      " 1   country          43378 non-null  object \n",
      " 2   delta_dead_laun  43378 non-null  float64\n",
      " 3   category         43378 non-null  object \n",
      " 4   launch_day       43378 non-null  int64  \n",
      " 5   launch_hour      43378 non-null  int64  \n",
      " 6   name_len         43378 non-null  int64  \n",
      " 7   blurb_len        43378 non-null  int64  \n",
      " 8   goal_usd_log     43378 non-null  float64\n",
      " 9   index            43378 non-null  int64  \n",
      " 10  state            43378 non-null  int64  \n",
      " 11  state_pred       43378 non-null  int64  \n",
      "dtypes: float64(2), int64(8), object(2)\n",
      "memory usage: 4.3+ MB\n"
     ]
    },
    {
     "data": {
      "text/plain": [
       "<AxesSubplot:xlabel='category', ylabel='Count'>"
      ]
     },
     "execution_count": 105,
     "metadata": {},
     "output_type": "execute_result"
    },
    {
     "data": {
      "image/png": "[encoded data removed]",
      "text/plain": [
       "<Figure size 432x288 with 1 Axes>"
      ]
     },
     "metadata": {
      "needs_background": "light"
     },
     "output_type": "display_data"
    }
   ],
   "source": [
    "positives = pd.concat([FP,TP], axis=0)\n",
    "positives.info()\n",
    "# plot category for false positives and true positives\n",
    "sns.histplot(x='category', data=positives, hue='state')"
   ]
  },
  {
   "cell_type": "code",
   "execution_count": 106,
   "metadata": {},
   "outputs": [
    {
     "name": "stdout",
     "output_type": "stream",
     "text": [
      "<class 'pandas.core.frame.DataFrame'>\n",
      "Int64Index: 14421 entries, 6 to 57757\n",
      "Data columns (total 12 columns):\n",
      " #   Column           Non-Null Count  Dtype  \n",
      "---  ------           --------------  -----  \n",
      " 0   index            14421 non-null  int64  \n",
      " 1   country          14421 non-null  object \n",
      " 2   delta_dead_laun  14421 non-null  float64\n",
      " 3   category         14421 non-null  object \n",
      " 4   launch_day       14421 non-null  int64  \n",
      " 5   launch_hour      14421 non-null  int64  \n",
      " 6   name_len         14421 non-null  int64  \n",
      " 7   blurb_len        14421 non-null  int64  \n",
      " 8   goal_usd_log     14421 non-null  float64\n",
      " 9   index            14421 non-null  int64  \n",
      " 10  state            14421 non-null  int64  \n",
      " 11  state_pred       14421 non-null  int64  \n",
      "dtypes: float64(2), int64(8), object(2)\n",
      "memory usage: 1.4+ MB\n"
     ]
    },
    {
     "data": {
      "text/plain": [
       "<AxesSubplot:xlabel='category', ylabel='Count'>"
      ]
     },
     "execution_count": 106,
     "metadata": {},
     "output_type": "execute_result"
    },
    {
     "data": {
      "image/png": "[encoded data removed]",
      "text/plain": [
       "<Figure size 432x288 with 1 Axes>"
      ]
     },
     "metadata": {
      "needs_background": "light"
     },
     "output_type": "display_data"
    }
   ],
   "source": [
    "negatives = pd.concat([FN,TN], axis=0)\n",
    "negatives.info()\n",
    "\n",
    "# plot category for false negatives and true negatives\n",
    "sns.histplot(x='category', data=negatives, hue='state')"
   ]
  },
  {
   "cell_type": "code",
   "execution_count": 108,
   "metadata": {},
   "outputs": [
    {
     "data": {
      "text/plain": [
       "<AxesSubplot:xlabel='goal_usd_log', ylabel='Count'>"
      ]
     },
     "execution_count": 108,
     "metadata": {},
     "output_type": "execute_result"
    },
    {
     "data": {
      "image/png": "[encoded data removed]",
      "text/plain": [
       "<Figure size 432x288 with 1 Axes>"
      ]
     },
     "metadata": {
      "needs_background": "light"
     },
     "output_type": "display_data"
    }
   ],
   "source": [
    "# plot goal in usd for false positives and true positives\n",
    "sns.histplot(x='goal_usd_log', data=positives, hue='state')"
   ]
  },
  {
   "cell_type": "code",
   "execution_count": 109,
   "metadata": {},
   "outputs": [
    {
     "data": {
      "text/plain": [
       "<AxesSubplot:xlabel='goal_usd_log', ylabel='Count'>"
      ]
     },
     "execution_count": 109,
     "metadata": {},
     "output_type": "execute_result"
    },
    {
     "data": {
      "image/png": "[encoded data removed]",
      "text/plain": [
       "<Figure size 432x288 with 1 Axes>"
      ]
     },
     "metadata": {
      "needs_background": "light"
     },
     "output_type": "display_data"
    }
   ],
   "source": [
    "# plot goal in usd for false negatives and true negatives\n",
    "sns.histplot(x='goal_usd_log', data=negatives, hue='state')"
   ]
  },
  {
   "cell_type": "code",
   "execution_count": 110,
   "metadata": {},
   "outputs": [
    {
     "data": {
      "text/plain": [
       "<AxesSubplot:xlabel='delta_dead_laun', ylabel='Count'>"
      ]
     },
     "execution_count": 110,
     "metadata": {},
     "output_type": "execute_result"
    },
    {
     "data": {
      "image/png": "[encoded data removed]",
      "text/plain": [
       "<Figure size 432x288 with 1 Axes>"
      ]
     },
     "metadata": {
      "needs_background": "light"
     },
     "output_type": "display_data"
    }
   ],
   "source": [
    "# plot time for false positives and true positives\n",
    "sns.histplot(x='delta_dead_laun', data=positives, hue='state')"
   ]
  },
  {
   "cell_type": "code",
   "execution_count": 111,
   "metadata": {},
   "outputs": [
    {
     "data": {
      "text/plain": [
       "<AxesSubplot:xlabel='delta_dead_laun', ylabel='Count'>"
      ]
     },
     "execution_count": 111,
     "metadata": {},
     "output_type": "execute_result"
    },
    {
     "data": {
      "image/png": "[encoded data removed]",
      "text/plain": [
       "<Figure size 432x288 with 1 Axes>"
      ]
     },
     "metadata": {
      "needs_background": "light"
     },
     "output_type": "display_data"
    }
   ],
   "source": [
    "# plot time for false negatives\n",
    "sns.histplot(x='delta_dead_laun', data=negatives, hue='state')"
   ]
  },
  {
   "cell_type": "code",
   "execution_count": 112,
   "metadata": {},
   "outputs": [
    {
     "data": {
      "text/plain": [
       "<AxesSubplot:xlabel='country', ylabel='Count'>"
      ]
     },
     "execution_count": 112,
     "metadata": {},
     "output_type": "execute_result"
    },
    {
     "data": {
      "image/png": "[encoded data removed]",
      "text/plain": [
       "<Figure size 432x288 with 1 Axes>"
      ]
     },
     "metadata": {
      "needs_background": "light"
     },
     "output_type": "display_data"
    }
   ],
   "source": [
    "# plot country for false positives and true positives\n",
    "sns.histplot(x='country', data=positives, hue='state')"
   ]
  },
  {
   "cell_type": "code",
   "execution_count": 113,
   "metadata": {},
   "outputs": [
    {
     "data": {
      "text/plain": [
       "<AxesSubplot:xlabel='country', ylabel='Count'>"
      ]
     },
     "execution_count": 113,
     "metadata": {},
     "output_type": "execute_result"
    },
    {
     "data": {
      "image/png": "[encoded data removed]",
      "text/plain": [
       "<Figure size 432x288 with 1 Axes>"
      ]
     },
     "metadata": {
      "needs_background": "light"
     },
     "output_type": "display_data"
    }
   ],
   "source": [
    "# plot country for false negatives and true negatives\n",
    "sns.histplot(x='country', data=negatives, hue='state')"
   ]
  },
  {
   "cell_type": "code",
   "execution_count": 114,
   "metadata": {},
   "outputs": [
    {
     "data": {
      "text/plain": [
       "<AxesSubplot:xlabel='name_len', ylabel='Count'>"
      ]
     },
     "execution_count": 114,
     "metadata": {},
     "output_type": "execute_result"
    },
    {
     "data": {
      "image/png": "[encoded data removed]",
      "text/plain": [
       "<Figure size 432x288 with 1 Axes>"
      ]
     },
     "metadata": {
      "needs_background": "light"
     },
     "output_type": "display_data"
    }
   ],
   "source": [
    "# plot name length for false positives and true positives\n",
    "sns.histplot(x='name_len', data=positives, hue='state')"
   ]
  },
  {
   "cell_type": "code",
   "execution_count": 115,
   "metadata": {},
   "outputs": [
    {
     "data": {
      "text/plain": [
       "<AxesSubplot:xlabel='name_len', ylabel='Count'>"
      ]
     },
     "execution_count": 115,
     "metadata": {},
     "output_type": "execute_result"
    },
    {
     "data": {
      "image/png": "[encoded data removed]",
      "text/plain": [
       "<Figure size 432x288 with 1 Axes>"
      ]
     },
     "metadata": {
      "needs_background": "light"
     },
     "output_type": "display_data"
    }
   ],
   "source": [
    "# plot name length for false negatives and true negatives\n",
    "sns.histplot(x='name_len', data=negatives, hue='state')"
   ]
  },
  {
   "cell_type": "code",
   "execution_count": 116,
   "metadata": {},
   "outputs": [
    {
     "data": {
      "text/plain": [
       "<AxesSubplot:xlabel='blurb_len', ylabel='Count'>"
      ]
     },
     "execution_count": 116,
     "metadata": {},
     "output_type": "execute_result"
    },
    {
     "data": {
      "image/png": "[encoded data removed]",
      "text/plain": [
       "<Figure size 432x288 with 1 Axes>"
      ]
     },
     "metadata": {
      "needs_background": "light"
     },
     "output_type": "display_data"
    }
   ],
   "source": [
    "# plot blurb length for false positives and true positives\n",
    "sns.histplot(x='blurb_len', data=positives, hue='state')"
   ]
  },
  {
   "cell_type": "code",
   "execution_count": 117,
   "metadata": {},
   "outputs": [
    {
     "data": {
      "text/plain": [
       "<AxesSubplot:xlabel='blurb_len', ylabel='Count'>"
      ]
     },
     "execution_count": 117,
     "metadata": {},
     "output_type": "execute_result"
    },
    {
     "data": {
      "image/png": "[encoded data removed]",
      "text/plain": [
       "<Figure size 432x288 with 1 Axes>"
      ]
     },
     "metadata": {
      "needs_background": "light"
     },
     "output_type": "display_data"
    }
   ],
   "source": [
    "# plot blurb length for false negatives and true negatives\n",
    "sns.histplot(x='blurb_len', data=negatives, hue='state')"
   ]
  },
  {
   "cell_type": "code",
   "execution_count": 118,
   "metadata": {},
   "outputs": [
    {
     "data": {
      "text/plain": [
       "<AxesSubplot:xlabel='launch_day', ylabel='Count'>"
      ]
     },
     "execution_count": 118,
     "metadata": {},
     "output_type": "execute_result"
    },
    {
     "data": {
      "image/png": "[encoded data removed]",
      "text/plain": [
       "<Figure size 432x288 with 1 Axes>"
      ]
     },
     "metadata": {
      "needs_background": "light"
     },
     "output_type": "display_data"
    }
   ],
   "source": [
    "# plot launch day for false positives and true positives\n",
    "sns.histplot(x='launch_day', data=positives, hue='state')"
   ]
  },
  {
   "cell_type": "code",
   "execution_count": 119,
   "metadata": {},
   "outputs": [
    {
     "data": {
      "text/plain": [
       "<AxesSubplot:xlabel='launch_day', ylabel='Count'>"
      ]
     },
     "execution_count": 119,
     "metadata": {},
     "output_type": "execute_result"
    },
    {
     "data": {
      "image/png": "[encoded data removed]",
      "text/plain": [
       "<Figure size 432x288 with 1 Axes>"
      ]
     },
     "metadata": {
      "needs_background": "light"
     },
     "output_type": "display_data"
    }
   ],
   "source": [
    "# plot launch day for false negatives and true negatives\n",
    "sns.histplot(x='launch_day', data=negatives, hue='state')"
   ]
  },
  {
   "cell_type": "code",
   "execution_count": 120,
   "metadata": {},
   "outputs": [
    {
     "data": {
      "text/plain": [
       "<AxesSubplot:xlabel='launch_hour', ylabel='Count'>"
      ]
     },
     "execution_count": 120,
     "metadata": {},
     "output_type": "execute_result"
    },
    {
     "data": {
      "image/png": "[encoded data removed]",
      "text/plain": [
       "<Figure size 432x288 with 1 Axes>"
      ]
     },
     "metadata": {
      "needs_background": "light"
     },
     "output_type": "display_data"
    }
   ],
   "source": [
    "# plot launch day for false positives and true positives\n",
    "sns.histplot(x='launch_hour', data=positives, hue='state')"
   ]
  },
  {
   "cell_type": "code",
   "execution_count": 121,
   "metadata": {},
   "outputs": [
    {
     "data": {
      "text/plain": [
       "<AxesSubplot:xlabel='launch_hour', ylabel='Count'>"
      ]
     },
     "execution_count": 121,
     "metadata": {},
     "output_type": "execute_result"
    },
    {
     "data": {
      "image/png": "[encoded data removed]",
      "text/plain": [
       "<Figure size 432x288 with 1 Axes>"
      ]
     },
     "metadata": {
      "needs_background": "light"
     },
     "output_type": "display_data"
    }
   ],
   "source": [
    "# plot launch day for false negatives and true negatives\n",
    "sns.histplot(x='launch_hour', data=negatives, hue='state')"
   ]
  },
  {
   "cell_type": "code",
   "execution_count": 122,
   "metadata": {},
   "outputs": [
    {
     "name": "stdout",
     "output_type": "stream",
     "text": [
      "        index country  delta_dead_laun      category  launch_day  launch_hour  \\\n",
      "22457   91169      US            603.0           art           5           19   \n",
      "25574  166140      NL           1288.0    publishing           2           20   \n",
      "10384  136805      US            816.0       fashion           1            8   \n",
      "3716    65798      US            720.0         dance           5            2   \n",
      "24304  154007      US            720.0        design           1           18   \n",
      "15463   66980      US            363.0           art           3            3   \n",
      "12417  125484      US            720.0    publishing           4           20   \n",
      "8643    69889      US            720.0        comics           5            2   \n",
      "54956   90398      US            720.0         music           3           18   \n",
      "55522   38505      US            720.0         craft           6           22   \n",
      "29298   37057      GB            746.0    publishing           4           14   \n",
      "30892   59167      MX            720.0  film & video           2           22   \n",
      "7902   178534      US            679.0    publishing           3           23   \n",
      "29633  191115      US            326.0         craft           0           16   \n",
      "2760   141682      GB            719.0    publishing           4            2   \n",
      "33587   96337      US            792.0           art           1           20   \n",
      "15089   69791      US            682.0    publishing           0           20   \n",
      "36139   18626      US            720.0         music           1            4   \n",
      "37809  188524      US            720.0         music           3           21   \n",
      "31711  101816      US           1080.0         music           3           19   \n",
      "\n",
      "       name_len  blurb_len  goal_usd_log   index  state  state_pred  \n",
      "22457        19        133      8.517193   91169      1           1  \n",
      "25574        53        126      8.130434  166140      1           1  \n",
      "10384        51         94      9.903488  136805      1           1  \n",
      "3716         50        132      6.818924   65798      1           1  \n",
      "24304        44         64      8.517193  154007      1           1  \n",
      "15463        38         66      6.396930   66980      1           1  \n",
      "12417        57        130      8.160518  125484      1           1  \n",
      "8643         56        135      8.853665   69889      1           1  \n",
      "54956        55         87      9.711116   90398      1           1  \n",
      "55522        37         74      8.294050   38505      1           1  \n",
      "29298        20        130      7.595146   37057      1           1  \n",
      "30892         5         61      8.041851   59167      1           1  \n",
      "7902         45        114      6.907755  178534      1           1  \n",
      "29633        30         58      6.476972  191115      1           1  \n",
      "2760         49         28      6.901999  141682      1           1  \n",
      "33587        32        135      0.000000   96337      1           1  \n",
      "15089        25        129      7.824046   69791      1           1  \n",
      "36139        56        131      8.699515   18626      1           1  \n",
      "37809        53        120      6.214608  188524      1           1  \n",
      "31711        26        122      8.411833  101816      1           1  \n",
      "        index country  delta_dead_laun      category  launch_day  launch_hour  \\\n",
      "23840   89210      US            631.0           art           1           18   \n",
      "31341  147047      US            840.0        crafts           3            0   \n",
      "57323   62089      US            451.0         music           1            1   \n",
      "1559    67489      US            480.0         music           1           21   \n",
      "42659  160183      US            720.0          food           0           17   \n",
      "44133    3632      US            840.0    technology           2            3   \n",
      "48995   80268      US            720.0  film & video           4           16   \n",
      "52254   99799      US            720.0        crafts           1            7   \n",
      "16628  104796      GB            720.0       fashion           3           21   \n",
      "37544   44994      US            720.0         music           0           21   \n",
      "2136   143086      US            550.0       fashion           4           21   \n",
      "46662  104442      US            840.0    technology           2           16   \n",
      "51737   99105      US           1080.0    journalism           4           23   \n",
      "52730   95101      US            730.0  film & video           4            2   \n",
      "9569    36168      US            720.0        design           1           18   \n",
      "26865  103909      GB            720.0    technology           1           21   \n",
      "47059   82381      US           1087.0  film & video           5           14   \n",
      "16221  110855      US            240.0       theater           4            0   \n",
      "35473   38980      US           1200.0         games           5           22   \n",
      "47406   67149      FR            504.0    publishing           6            1   \n",
      "\n",
      "       name_len  blurb_len  goal_usd_log   index  state  state_pred  \n",
      "23840        13        106      7.901007   89210      0           1  \n",
      "31341        24        101      6.214608  147047      0           1  \n",
      "57323        54         70      7.600902   62089      0           1  \n",
      "1559         25        132      6.396930   67489      0           1  \n",
      "42659        23        116      3.401197  160183      0           1  \n",
      "44133        17         82      6.907755    3632      0           1  \n",
      "48995        60        129     11.813030   80268      0           1  \n",
      "52254        59        129      7.600902   99799      0           1  \n",
      "16628        52        120      9.492266  104796      0           1  \n",
      "37544        59         59     11.289782   44994      0           1  \n",
      "2136         35         89      9.210340  143086      0           1  \n",
      "46662        60        131      9.047821  104442      0           1  \n",
      "51737        29         89      3.912023   99105      0           1  \n",
      "52730        20        126      8.612503   95101      0           1  \n",
      "9569         56        128      8.517193   36168      0           1  \n",
      "26865        60        124      8.799119  103909      0           1  \n",
      "47059        11        100      7.600902   82381      0           1  \n",
      "16221        60        120      7.824046  110855      0           1  \n",
      "35473        30        121      6.907755   38980      0           1  \n",
      "47406        45         64      5.824510   67149      0           1  \n"
     ]
    }
   ],
   "source": [
    "# look at random sample of 20 true positives and false positives\n",
    "print(TP.sample(n=20))\n",
    "print(FP.sample(n=20))"
   ]
  },
  {
   "cell_type": "code",
   "execution_count": 123,
   "metadata": {},
   "outputs": [
    {
     "name": "stdout",
     "output_type": "stream",
     "text": [
      "        index country  delta_dead_laun      category  launch_day  launch_hour  \\\n",
      "26081  182906      US            719.0       fashion           3           17   \n",
      "29678   50722      US            720.0    technology           3            8   \n",
      "15157  147567      NL            635.0           art           1           12   \n",
      "57413   73192      US           1214.0         music           0           14   \n",
      "40135   48480      GB            719.0    technology           0           19   \n",
      "31656  190130      AT           1440.0    technology           1            9   \n",
      "51740   73161      US            720.0        design           3           23   \n",
      "7240   168660      US            720.0    technology           1           19   \n",
      "33645   11045      US            720.0          food           2            5   \n",
      "16976   25093      US           1079.0    technology           0           22   \n",
      "31705   57092      US            720.0       fashion           3            2   \n",
      "53094   97153      US           1440.0  film & video           3            5   \n",
      "39120   94926      US           1440.0  film & video           2           20   \n",
      "46098  148628      US            797.0       fashion           3            1   \n",
      "6023     6098      GB            720.0    journalism           6           21   \n",
      "905     97562      NL            720.0    technology           2           10   \n",
      "54150  172240      DE            720.0    technology           4           17   \n",
      "32091  188414      US           1441.0          food           1           15   \n",
      "3015    81381      US            720.0  film & video           4           22   \n",
      "49481   98681      MX            960.0          food           4            0   \n",
      "\n",
      "       name_len  blurb_len  goal_usd_log   index  state  state_pred  \n",
      "26081        38         98     10.819778  182906      0           0  \n",
      "29678        15        130      9.615805   50722      0           0  \n",
      "15157         3          7      8.661062  147567      0           0  \n",
      "57413        22        133      9.903488   73192      0           0  \n",
      "40135        38        129     10.590878   48480      0           0  \n",
      "31656        14         41     13.243193  190130      0           0  \n",
      "51740        27        125     11.512925   73161      0           0  \n",
      "7240         18        135     10.819778  168660      0           0  \n",
      "33645        28        101     10.308953   11045      0           0  \n",
      "16976        55        109     10.336081   25093      0           0  \n",
      "31705        32        126      9.903488   57092      0           0  \n",
      "53094        41        132     10.819778   97153      0           0  \n",
      "39120        27        126     13.122363   94926      0           0  \n",
      "46098        17        132      9.268609  148628      0           0  \n",
      "6023         57        135     10.185413    6098      0           0  \n",
      "905           7        131     12.330139   97562      0           0  \n",
      "54150        58         71     10.838484  172240      0           0  \n",
      "32091        38        108      9.615805  188414      0           0  \n",
      "3015         39        135     11.225243   81381      0           0  \n",
      "49481        21        124     10.814439   98681      0           0  \n",
      "        index country  delta_dead_laun      category  launch_day  launch_hour  \\\n",
      "34421  112823      US            720.0         games           0           18   \n",
      "41242  149103      US            766.0   photography           3            9   \n",
      "14870  103124      US            720.0    technology           1            0   \n",
      "35650   80610      US           1440.0       fashion           4            6   \n",
      "54082   87570      US            575.0    technology           4            6   \n",
      "24277  133779      US            797.0    technology           2           23   \n",
      "16609  102650      FR            719.0    technology           1           17   \n",
      "49900  108279      DE            840.0        crafts           1            5   \n",
      "4960   179989      GB            720.0    technology           3           11   \n",
      "48822  148431      GB            672.0        crafts           1           18   \n",
      "39524    7751      CA            744.0         games           2           18   \n",
      "12234  121176      US           1080.0         games           1           13   \n",
      "7970   162828      US            604.0  film & video           6            1   \n",
      "16393   20854      US            684.0         music           4           15   \n",
      "13286   67457      US            681.0           art           4           19   \n",
      "20514  148965      GB            685.0   photography           2            8   \n",
      "20946  112659      US            720.0    journalism           3           14   \n",
      "42549  121472      GB           1440.0           art           0            0   \n",
      "46188   77843      US            816.0          food           1           22   \n",
      "14187   71125      US           1165.0          food           2           18   \n",
      "\n",
      "       name_len  blurb_len  goal_usd_log   index  state  state_pred  \n",
      "34421         6        130      9.615805  112823      1           0  \n",
      "41242        30        106     10.165852  149103      1           0  \n",
      "14870         7         89      8.006368  103124      1           0  \n",
      "35650        46         45      9.210340   80610      1           0  \n",
      "54082        15        131      9.615805   87570      1           0  \n",
      "24277        44        120     10.819778  133779      1           0  \n",
      "16609        14        129      8.535899  102650      1           0  \n",
      "49900        55         70     10.027554  108279      1           0  \n",
      "4960         38         91      9.492266  179989      1           0  \n",
      "48822        25        116      9.492266  148431      1           0  \n",
      "39524        37        131     10.804960    7751      1           0  \n",
      "12234        22         59      9.615805  121176      1           0  \n",
      "7970         11         64      9.903488  162828      1           0  \n",
      "16393        45        134     12.206073   20854      1           0  \n",
      "13286        24        100      9.680344   67457      1           0  \n",
      "20514        22        102      9.492266  148965      1           0  \n",
      "20946        38        107     10.714418  112659      1           0  \n",
      "42549        17         92      7.176555  121472      1           0  \n",
      "46188        28        128     10.691945   77843      1           0  \n",
      "14187        33        130      8.922658   71125      1           0  \n"
     ]
    }
   ],
   "source": [
    "# look at random sample of 20 true negatives and false negatives\n",
    "print(TN.sample(n=20))\n",
    "print(FN.sample(n=20))"
   ]
  },
  {
   "cell_type": "markdown",
   "metadata": {},
   "source": [
    "### Error analysis using yellowbrick"
   ]
  },
  {
   "cell_type": "code",
   "execution_count": 124,
   "metadata": {},
   "outputs": [],
   "source": [
    "#from yellowbrick.classifier import ClassPredictionError\n",
    "\n",
    "# Instantiate the classification model and visualizer\n",
    "#visualizer = ClassPredictionError(\n",
    "#    best_log_reg(random_state=42), classes=classes)\n",
    "\n",
    "# Fit the training data to the visualizer\n",
    "#visualizer.fit(X_train, y_train)\n",
    "\n",
    "# Evaluate the model on the test data\n",
    "#visualizer.score(X_test, y_test)\n",
    "\n",
    "# Draw visualization\n",
    "#visualizer.show()"
   ]
  },
  {
   "cell_type": "markdown",
   "metadata": {},
   "source": [
    "## Feature Importance - probably not a great idea with logistic regression"
   ]
  },
  {
   "cell_type": "code",
   "execution_count": 125,
   "metadata": {},
   "outputs": [
    {
     "name": "stdout",
     "output_type": "stream",
     "text": [
      "Feature: 0, Score: -0.00080\n",
      "Feature: 1, Score: -0.04301\n",
      "Feature: 2, Score: 0.00532\n",
      "Feature: 3, Score: 0.02099\n",
      "Feature: 4, Score: -0.00135\n",
      "Feature: 5, Score: -0.26716\n",
      "Feature: 6, Score: -0.05299\n",
      "Feature: 7, Score: -0.01846\n",
      "Feature: 8, Score: 0.03012\n",
      "Feature: 9, Score: 0.01104\n",
      "Feature: 10, Score: -0.06633\n",
      "Feature: 11, Score: 0.03293\n",
      "Feature: 12, Score: -0.04170\n",
      "Feature: 13, Score: 0.05555\n",
      "Feature: 14, Score: 0.19432\n",
      "Feature: 15, Score: 0.13258\n",
      "Feature: 16, Score: 0.00206\n",
      "Feature: 17, Score: -0.16450\n",
      "Feature: 18, Score: 0.03914\n",
      "Feature: 19, Score: 0.01003\n",
      "Feature: 20, Score: -0.04790\n",
      "Feature: 21, Score: -0.05889\n",
      "Feature: 22, Score: -0.00459\n",
      "Feature: 23, Score: 0.00499\n",
      "Feature: 24, Score: 0.00728\n",
      "Feature: 25, Score: 0.05690\n",
      "Feature: 26, Score: 0.23728\n",
      "Feature: 27, Score: 0.56313\n",
      "Feature: 28, Score: 0.24783\n",
      "Feature: 29, Score: -0.46656\n",
      "Feature: 30, Score: 0.39404\n",
      "Feature: 31, Score: 0.22382\n",
      "Feature: 32, Score: 0.04800\n",
      "Feature: 33, Score: 0.21528\n",
      "Feature: 34, Score: -0.54515\n",
      "Feature: 35, Score: 0.24749\n",
      "Feature: 36, Score: -0.48903\n",
      "Feature: 37, Score: 0.27620\n",
      "Feature: 38, Score: -0.14867\n",
      "Feature: 39, Score: 0.38857\n",
      "Feature: 40, Score: -0.39933\n",
      "Feature: 41, Score: 0.29330\n"
     ]
    },
    {
     "data": {
      "image/png": "[encoded data removed]",
      "text/plain": [
       "<Figure size 432x288 with 1 Axes>"
      ]
     },
     "metadata": {
      "needs_background": "light"
     },
     "output_type": "display_data"
    }
   ],
   "source": [
    "importance = best_log_reg.coef_[0]\n",
    "for i,v in enumerate(importance):\n",
    "   print('Feature: %0d, Score: %.5f' % (i,v))\n",
    "# plot feature importance\n",
    "plt.bar([x for x in range(len(importance))], importance)\n",
    "plt.show()"
   ]
  },
  {
   "cell_type": "markdown",
   "metadata": {},
   "source": []
  },
  {
   "cell_type": "code",
   "execution_count": null,
   "metadata": {},
   "outputs": [],
   "source": []
  }
 ],
 "metadata": {
  "interpreter": {
   "hash": "cbaf37d83a19e1b2581c71e29f60247c77efb6a13f584020ad679a19009e0051"
  },
  "kernelspec": {
   "display_name": "Python 3.9.4 64-bit ('.venv': venv)",
   "name": "python3"
  },
  "language_info": {
   "codemirror_mode": {
    "name": "ipython",
    "version": 3
   },
   "file_extension": ".py",
   "mimetype": "text/x-python",
   "name": "python",
   "nbconvert_exporter": "python",
   "pygments_lexer": "ipython3",
   "version": "3.9.4"
  },
  "orig_nbformat": 4
 },
 "nbformat": 4,
 "nbformat_minor": 2
}
