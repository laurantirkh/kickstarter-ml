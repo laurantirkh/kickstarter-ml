{
 "cells": [
  {
   "cell_type": "markdown",
   "metadata": {},
   "source": [
    "# Logistic Regression"
   ]
  },
  {
   "cell_type": "code",
   "execution_count": 30,
   "metadata": {},
   "outputs": [],
   "source": [
    "import pandas as pd\n",
    "import numpy as np\n",
    "\n",
    "import seaborn as sns\n",
    "import matplotlib.pyplot as plt\n",
    "%matplotlib inline\n",
    "\n",
    "from sklearn.metrics import classification_report, confusion_matrix\n",
    "from sklearn.model_selection import train_test_split\n",
    "from sklearn.pipeline import Pipeline\n",
    "from sklearn.linear_model import LogisticRegression\n",
    "\n",
    "from sklearn.compose import ColumnTransformer\n",
    "#from sklearn.preprocessing import StandardScaler, MinMaxScaler, OneHotEncoder\n",
    "from sklearn.model_selection import GridSearchCV, RandomizedSearchCV\n",
    "from sklearn.model_selection import cross_val_predict, cross_val_score, cross_validate\n",
    "from sklearn.metrics import roc_curve\n",
    "from sklearn.metrics import roc_auc_score\n",
    "from sklearn.metrics import precision_recall_curve\n",
    "from sklearn.metrics import f1_score\n",
    "from sklearn.metrics import auc\n",
    "\n"
   ]
  },
  {
   "cell_type": "code",
   "execution_count": 31,
   "metadata": {},
   "outputs": [
    {
     "name": "stdout",
     "output_type": "stream",
     "text": [
      "<class 'pandas.core.frame.DataFrame'>\n",
      "RangeIndex: 187812 entries, 0 to 187811\n",
      "Columns: 193 entries, state to \"slug\":\"theater/spaces\"\n",
      "dtypes: float64(2), int64(190), object(1)\n",
      "memory usage: 276.5+ MB\n"
     ]
    },
    {
     "data": {
      "text/html": [
       "<div>\n",
       "<style scoped>\n",
       "    .dataframe tbody tr th:only-of-type {\n",
       "        vertical-align: middle;\n",
       "    }\n",
       "\n",
       "    .dataframe tbody tr th {\n",
       "        vertical-align: top;\n",
       "    }\n",
       "\n",
       "    .dataframe thead th {\n",
       "        text-align: right;\n",
       "    }\n",
       "</style>\n",
       "<table border=\"1\" class=\"dataframe\">\n",
       "  <thead>\n",
       "    <tr style=\"text-align: right;\">\n",
       "      <th></th>\n",
       "      <th>state</th>\n",
       "      <th>goal_usd_log</th>\n",
       "      <th>name_len</th>\n",
       "      <th>delta_dead_laun</th>\n",
       "      <th>AU</th>\n",
       "      <th>BE</th>\n",
       "      <th>CA</th>\n",
       "      <th>CH</th>\n",
       "      <th>DE</th>\n",
       "      <th>DK</th>\n",
       "      <th>...</th>\n",
       "      <th>\"slug\":\"technology/wearables\"</th>\n",
       "      <th>\"slug\":\"technology/web\"</th>\n",
       "      <th>\"slug\":\"theater\"</th>\n",
       "      <th>\"slug\":\"theater/comedy\"</th>\n",
       "      <th>\"slug\":\"theater/experimental\"</th>\n",
       "      <th>\"slug\":\"theater/festivals\"</th>\n",
       "      <th>\"slug\":\"theater/immersive\"</th>\n",
       "      <th>\"slug\":\"theater/musical\"</th>\n",
       "      <th>\"slug\":\"theater/plays\"</th>\n",
       "      <th>\"slug\":\"theater/spaces\"</th>\n",
       "    </tr>\n",
       "  </thead>\n",
       "  <tbody>\n",
       "    <tr>\n",
       "      <th>0</th>\n",
       "      <td>successful</td>\n",
       "      <td>6.907755</td>\n",
       "      <td>23</td>\n",
       "      <td>720.0</td>\n",
       "      <td>0</td>\n",
       "      <td>0</td>\n",
       "      <td>0</td>\n",
       "      <td>0</td>\n",
       "      <td>0</td>\n",
       "      <td>0</td>\n",
       "      <td>...</td>\n",
       "      <td>0</td>\n",
       "      <td>0</td>\n",
       "      <td>0</td>\n",
       "      <td>0</td>\n",
       "      <td>0</td>\n",
       "      <td>0</td>\n",
       "      <td>0</td>\n",
       "      <td>0</td>\n",
       "      <td>0</td>\n",
       "      <td>0</td>\n",
       "    </tr>\n",
       "    <tr>\n",
       "      <th>1</th>\n",
       "      <td>successful</td>\n",
       "      <td>9.615805</td>\n",
       "      <td>51</td>\n",
       "      <td>720.0</td>\n",
       "      <td>0</td>\n",
       "      <td>0</td>\n",
       "      <td>0</td>\n",
       "      <td>0</td>\n",
       "      <td>0</td>\n",
       "      <td>0</td>\n",
       "      <td>...</td>\n",
       "      <td>0</td>\n",
       "      <td>0</td>\n",
       "      <td>0</td>\n",
       "      <td>0</td>\n",
       "      <td>0</td>\n",
       "      <td>0</td>\n",
       "      <td>0</td>\n",
       "      <td>0</td>\n",
       "      <td>0</td>\n",
       "      <td>0</td>\n",
       "    </tr>\n",
       "    <tr>\n",
       "      <th>2</th>\n",
       "      <td>failed</td>\n",
       "      <td>9.479141</td>\n",
       "      <td>34</td>\n",
       "      <td>1439.0</td>\n",
       "      <td>0</td>\n",
       "      <td>0</td>\n",
       "      <td>0</td>\n",
       "      <td>0</td>\n",
       "      <td>0</td>\n",
       "      <td>0</td>\n",
       "      <td>...</td>\n",
       "      <td>0</td>\n",
       "      <td>0</td>\n",
       "      <td>0</td>\n",
       "      <td>0</td>\n",
       "      <td>0</td>\n",
       "      <td>0</td>\n",
       "      <td>0</td>\n",
       "      <td>0</td>\n",
       "      <td>0</td>\n",
       "      <td>0</td>\n",
       "    </tr>\n",
       "    <tr>\n",
       "      <th>3</th>\n",
       "      <td>successful</td>\n",
       "      <td>7.937375</td>\n",
       "      <td>40</td>\n",
       "      <td>720.0</td>\n",
       "      <td>0</td>\n",
       "      <td>0</td>\n",
       "      <td>0</td>\n",
       "      <td>0</td>\n",
       "      <td>0</td>\n",
       "      <td>0</td>\n",
       "      <td>...</td>\n",
       "      <td>0</td>\n",
       "      <td>0</td>\n",
       "      <td>0</td>\n",
       "      <td>0</td>\n",
       "      <td>0</td>\n",
       "      <td>0</td>\n",
       "      <td>0</td>\n",
       "      <td>0</td>\n",
       "      <td>0</td>\n",
       "      <td>0</td>\n",
       "    </tr>\n",
       "    <tr>\n",
       "      <th>4</th>\n",
       "      <td>successful</td>\n",
       "      <td>8.160518</td>\n",
       "      <td>31</td>\n",
       "      <td>720.0</td>\n",
       "      <td>0</td>\n",
       "      <td>0</td>\n",
       "      <td>0</td>\n",
       "      <td>0</td>\n",
       "      <td>0</td>\n",
       "      <td>0</td>\n",
       "      <td>...</td>\n",
       "      <td>0</td>\n",
       "      <td>0</td>\n",
       "      <td>0</td>\n",
       "      <td>0</td>\n",
       "      <td>0</td>\n",
       "      <td>0</td>\n",
       "      <td>0</td>\n",
       "      <td>0</td>\n",
       "      <td>0</td>\n",
       "      <td>0</td>\n",
       "    </tr>\n",
       "  </tbody>\n",
       "</table>\n",
       "<p>5 rows × 193 columns</p>\n",
       "</div>"
      ],
      "text/plain": [
       "        state  goal_usd_log  name_len  delta_dead_laun  AU  BE  CA  CH  DE  \\\n",
       "0  successful      6.907755        23            720.0   0   0   0   0   0   \n",
       "1  successful      9.615805        51            720.0   0   0   0   0   0   \n",
       "2      failed      9.479141        34           1439.0   0   0   0   0   0   \n",
       "3  successful      7.937375        40            720.0   0   0   0   0   0   \n",
       "4  successful      8.160518        31            720.0   0   0   0   0   0   \n",
       "\n",
       "   DK  ...  \"slug\":\"technology/wearables\"  \"slug\":\"technology/web\"  \\\n",
       "0   0  ...                              0                        0   \n",
       "1   0  ...                              0                        0   \n",
       "2   0  ...                              0                        0   \n",
       "3   0  ...                              0                        0   \n",
       "4   0  ...                              0                        0   \n",
       "\n",
       "   \"slug\":\"theater\"  \"slug\":\"theater/comedy\"  \"slug\":\"theater/experimental\"  \\\n",
       "0                 0                        0                              0   \n",
       "1                 0                        0                              0   \n",
       "2                 0                        0                              0   \n",
       "3                 0                        0                              0   \n",
       "4                 0                        0                              0   \n",
       "\n",
       "   \"slug\":\"theater/festivals\"  \"slug\":\"theater/immersive\"  \\\n",
       "0                           0                           0   \n",
       "1                           0                           0   \n",
       "2                           0                           0   \n",
       "3                           0                           0   \n",
       "4                           0                           0   \n",
       "\n",
       "   \"slug\":\"theater/musical\"  \"slug\":\"theater/plays\"  \"slug\":\"theater/spaces\"  \n",
       "0                         0                       0                        0  \n",
       "1                         0                       0                        0  \n",
       "2                         0                       0                        0  \n",
       "3                         0                       0                        0  \n",
       "4                         0                       0                        0  \n",
       "\n",
       "[5 rows x 193 columns]"
      ]
     },
     "execution_count": 31,
     "metadata": {},
     "output_type": "execute_result"
    }
   ],
   "source": [
    "# load data\n",
    "df = pd.read_csv('data/df_eda2_cat.csv')\n",
    "df.info()\n",
    "df.head()"
   ]
  },
  {
   "cell_type": "code",
   "execution_count": 32,
   "metadata": {},
   "outputs": [
    {
     "data": {
      "text/html": [
       "<div>\n",
       "<style scoped>\n",
       "    .dataframe tbody tr th:only-of-type {\n",
       "        vertical-align: middle;\n",
       "    }\n",
       "\n",
       "    .dataframe tbody tr th {\n",
       "        vertical-align: top;\n",
       "    }\n",
       "\n",
       "    .dataframe thead th {\n",
       "        text-align: right;\n",
       "    }\n",
       "</style>\n",
       "<table border=\"1\" class=\"dataframe\">\n",
       "  <thead>\n",
       "    <tr style=\"text-align: right;\">\n",
       "      <th></th>\n",
       "      <th>state</th>\n",
       "      <th>goal_usd_log</th>\n",
       "      <th>name_len</th>\n",
       "      <th>delta_dead_laun</th>\n",
       "      <th>AU</th>\n",
       "      <th>BE</th>\n",
       "      <th>CA</th>\n",
       "      <th>CH</th>\n",
       "      <th>DE</th>\n",
       "      <th>DK</th>\n",
       "      <th>...</th>\n",
       "      <th>\"slug\":\"technology/wearables\"</th>\n",
       "      <th>\"slug\":\"technology/web\"</th>\n",
       "      <th>\"slug\":\"theater\"</th>\n",
       "      <th>\"slug\":\"theater/comedy\"</th>\n",
       "      <th>\"slug\":\"theater/experimental\"</th>\n",
       "      <th>\"slug\":\"theater/festivals\"</th>\n",
       "      <th>\"slug\":\"theater/immersive\"</th>\n",
       "      <th>\"slug\":\"theater/musical\"</th>\n",
       "      <th>\"slug\":\"theater/plays\"</th>\n",
       "      <th>\"slug\":\"theater/spaces\"</th>\n",
       "    </tr>\n",
       "  </thead>\n",
       "  <tbody>\n",
       "    <tr>\n",
       "      <th>0</th>\n",
       "      <td>1</td>\n",
       "      <td>6.907755</td>\n",
       "      <td>23</td>\n",
       "      <td>720.0</td>\n",
       "      <td>0</td>\n",
       "      <td>0</td>\n",
       "      <td>0</td>\n",
       "      <td>0</td>\n",
       "      <td>0</td>\n",
       "      <td>0</td>\n",
       "      <td>...</td>\n",
       "      <td>0</td>\n",
       "      <td>0</td>\n",
       "      <td>0</td>\n",
       "      <td>0</td>\n",
       "      <td>0</td>\n",
       "      <td>0</td>\n",
       "      <td>0</td>\n",
       "      <td>0</td>\n",
       "      <td>0</td>\n",
       "      <td>0</td>\n",
       "    </tr>\n",
       "    <tr>\n",
       "      <th>1</th>\n",
       "      <td>1</td>\n",
       "      <td>9.615805</td>\n",
       "      <td>51</td>\n",
       "      <td>720.0</td>\n",
       "      <td>0</td>\n",
       "      <td>0</td>\n",
       "      <td>0</td>\n",
       "      <td>0</td>\n",
       "      <td>0</td>\n",
       "      <td>0</td>\n",
       "      <td>...</td>\n",
       "      <td>0</td>\n",
       "      <td>0</td>\n",
       "      <td>0</td>\n",
       "      <td>0</td>\n",
       "      <td>0</td>\n",
       "      <td>0</td>\n",
       "      <td>0</td>\n",
       "      <td>0</td>\n",
       "      <td>0</td>\n",
       "      <td>0</td>\n",
       "    </tr>\n",
       "    <tr>\n",
       "      <th>2</th>\n",
       "      <td>0</td>\n",
       "      <td>9.479141</td>\n",
       "      <td>34</td>\n",
       "      <td>1439.0</td>\n",
       "      <td>0</td>\n",
       "      <td>0</td>\n",
       "      <td>0</td>\n",
       "      <td>0</td>\n",
       "      <td>0</td>\n",
       "      <td>0</td>\n",
       "      <td>...</td>\n",
       "      <td>0</td>\n",
       "      <td>0</td>\n",
       "      <td>0</td>\n",
       "      <td>0</td>\n",
       "      <td>0</td>\n",
       "      <td>0</td>\n",
       "      <td>0</td>\n",
       "      <td>0</td>\n",
       "      <td>0</td>\n",
       "      <td>0</td>\n",
       "    </tr>\n",
       "    <tr>\n",
       "      <th>3</th>\n",
       "      <td>1</td>\n",
       "      <td>7.937375</td>\n",
       "      <td>40</td>\n",
       "      <td>720.0</td>\n",
       "      <td>0</td>\n",
       "      <td>0</td>\n",
       "      <td>0</td>\n",
       "      <td>0</td>\n",
       "      <td>0</td>\n",
       "      <td>0</td>\n",
       "      <td>...</td>\n",
       "      <td>0</td>\n",
       "      <td>0</td>\n",
       "      <td>0</td>\n",
       "      <td>0</td>\n",
       "      <td>0</td>\n",
       "      <td>0</td>\n",
       "      <td>0</td>\n",
       "      <td>0</td>\n",
       "      <td>0</td>\n",
       "      <td>0</td>\n",
       "    </tr>\n",
       "    <tr>\n",
       "      <th>4</th>\n",
       "      <td>1</td>\n",
       "      <td>8.160518</td>\n",
       "      <td>31</td>\n",
       "      <td>720.0</td>\n",
       "      <td>0</td>\n",
       "      <td>0</td>\n",
       "      <td>0</td>\n",
       "      <td>0</td>\n",
       "      <td>0</td>\n",
       "      <td>0</td>\n",
       "      <td>...</td>\n",
       "      <td>0</td>\n",
       "      <td>0</td>\n",
       "      <td>0</td>\n",
       "      <td>0</td>\n",
       "      <td>0</td>\n",
       "      <td>0</td>\n",
       "      <td>0</td>\n",
       "      <td>0</td>\n",
       "      <td>0</td>\n",
       "      <td>0</td>\n",
       "    </tr>\n",
       "  </tbody>\n",
       "</table>\n",
       "<p>5 rows × 193 columns</p>\n",
       "</div>"
      ],
      "text/plain": [
       "   state  goal_usd_log  name_len  delta_dead_laun  AU  BE  CA  CH  DE  DK  \\\n",
       "0      1      6.907755        23            720.0   0   0   0   0   0   0   \n",
       "1      1      9.615805        51            720.0   0   0   0   0   0   0   \n",
       "2      0      9.479141        34           1439.0   0   0   0   0   0   0   \n",
       "3      1      7.937375        40            720.0   0   0   0   0   0   0   \n",
       "4      1      8.160518        31            720.0   0   0   0   0   0   0   \n",
       "\n",
       "   ...  \"slug\":\"technology/wearables\"  \"slug\":\"technology/web\"  \\\n",
       "0  ...                              0                        0   \n",
       "1  ...                              0                        0   \n",
       "2  ...                              0                        0   \n",
       "3  ...                              0                        0   \n",
       "4  ...                              0                        0   \n",
       "\n",
       "   \"slug\":\"theater\"  \"slug\":\"theater/comedy\"  \"slug\":\"theater/experimental\"  \\\n",
       "0                 0                        0                              0   \n",
       "1                 0                        0                              0   \n",
       "2                 0                        0                              0   \n",
       "3                 0                        0                              0   \n",
       "4                 0                        0                              0   \n",
       "\n",
       "   \"slug\":\"theater/festivals\"  \"slug\":\"theater/immersive\"  \\\n",
       "0                           0                           0   \n",
       "1                           0                           0   \n",
       "2                           0                           0   \n",
       "3                           0                           0   \n",
       "4                           0                           0   \n",
       "\n",
       "   \"slug\":\"theater/musical\"  \"slug\":\"theater/plays\"  \"slug\":\"theater/spaces\"  \n",
       "0                         0                       0                        0  \n",
       "1                         0                       0                        0  \n",
       "2                         0                       0                        0  \n",
       "3                         0                       0                        0  \n",
       "4                         0                       0                        0  \n",
       "\n",
       "[5 rows x 193 columns]"
      ]
     },
     "execution_count": 32,
     "metadata": {},
     "output_type": "execute_result"
    }
   ],
   "source": [
    "# convert target column ('state') to numeric values\n",
    "df['state'].replace({'failed':0, 'successful':1}, inplace=True)\n",
    "df.head()"
   ]
  },
  {
   "cell_type": "markdown",
   "metadata": {},
   "source": [
    "### Train Test Split"
   ]
  },
  {
   "cell_type": "code",
   "execution_count": 33,
   "metadata": {},
   "outputs": [
    {
     "data": {
      "text/html": [
       "<div>\n",
       "<style scoped>\n",
       "    .dataframe tbody tr th:only-of-type {\n",
       "        vertical-align: middle;\n",
       "    }\n",
       "\n",
       "    .dataframe tbody tr th {\n",
       "        vertical-align: top;\n",
       "    }\n",
       "\n",
       "    .dataframe thead th {\n",
       "        text-align: right;\n",
       "    }\n",
       "</style>\n",
       "<table border=\"1\" class=\"dataframe\">\n",
       "  <thead>\n",
       "    <tr style=\"text-align: right;\">\n",
       "      <th></th>\n",
       "      <th>goal_usd_log</th>\n",
       "      <th>name_len</th>\n",
       "      <th>delta_dead_laun</th>\n",
       "      <th>AU</th>\n",
       "      <th>BE</th>\n",
       "      <th>CA</th>\n",
       "      <th>CH</th>\n",
       "      <th>DE</th>\n",
       "      <th>DK</th>\n",
       "      <th>ES</th>\n",
       "      <th>...</th>\n",
       "      <th>\"slug\":\"technology/wearables\"</th>\n",
       "      <th>\"slug\":\"technology/web\"</th>\n",
       "      <th>\"slug\":\"theater\"</th>\n",
       "      <th>\"slug\":\"theater/comedy\"</th>\n",
       "      <th>\"slug\":\"theater/experimental\"</th>\n",
       "      <th>\"slug\":\"theater/festivals\"</th>\n",
       "      <th>\"slug\":\"theater/immersive\"</th>\n",
       "      <th>\"slug\":\"theater/musical\"</th>\n",
       "      <th>\"slug\":\"theater/plays\"</th>\n",
       "      <th>\"slug\":\"theater/spaces\"</th>\n",
       "    </tr>\n",
       "  </thead>\n",
       "  <tbody>\n",
       "    <tr>\n",
       "      <th>0</th>\n",
       "      <td>6.907755</td>\n",
       "      <td>23</td>\n",
       "      <td>720.0</td>\n",
       "      <td>0</td>\n",
       "      <td>0</td>\n",
       "      <td>0</td>\n",
       "      <td>0</td>\n",
       "      <td>0</td>\n",
       "      <td>0</td>\n",
       "      <td>0</td>\n",
       "      <td>...</td>\n",
       "      <td>0</td>\n",
       "      <td>0</td>\n",
       "      <td>0</td>\n",
       "      <td>0</td>\n",
       "      <td>0</td>\n",
       "      <td>0</td>\n",
       "      <td>0</td>\n",
       "      <td>0</td>\n",
       "      <td>0</td>\n",
       "      <td>0</td>\n",
       "    </tr>\n",
       "    <tr>\n",
       "      <th>1</th>\n",
       "      <td>9.615805</td>\n",
       "      <td>51</td>\n",
       "      <td>720.0</td>\n",
       "      <td>0</td>\n",
       "      <td>0</td>\n",
       "      <td>0</td>\n",
       "      <td>0</td>\n",
       "      <td>0</td>\n",
       "      <td>0</td>\n",
       "      <td>0</td>\n",
       "      <td>...</td>\n",
       "      <td>0</td>\n",
       "      <td>0</td>\n",
       "      <td>0</td>\n",
       "      <td>0</td>\n",
       "      <td>0</td>\n",
       "      <td>0</td>\n",
       "      <td>0</td>\n",
       "      <td>0</td>\n",
       "      <td>0</td>\n",
       "      <td>0</td>\n",
       "    </tr>\n",
       "    <tr>\n",
       "      <th>2</th>\n",
       "      <td>9.479141</td>\n",
       "      <td>34</td>\n",
       "      <td>1439.0</td>\n",
       "      <td>0</td>\n",
       "      <td>0</td>\n",
       "      <td>0</td>\n",
       "      <td>0</td>\n",
       "      <td>0</td>\n",
       "      <td>0</td>\n",
       "      <td>0</td>\n",
       "      <td>...</td>\n",
       "      <td>0</td>\n",
       "      <td>0</td>\n",
       "      <td>0</td>\n",
       "      <td>0</td>\n",
       "      <td>0</td>\n",
       "      <td>0</td>\n",
       "      <td>0</td>\n",
       "      <td>0</td>\n",
       "      <td>0</td>\n",
       "      <td>0</td>\n",
       "    </tr>\n",
       "    <tr>\n",
       "      <th>3</th>\n",
       "      <td>7.937375</td>\n",
       "      <td>40</td>\n",
       "      <td>720.0</td>\n",
       "      <td>0</td>\n",
       "      <td>0</td>\n",
       "      <td>0</td>\n",
       "      <td>0</td>\n",
       "      <td>0</td>\n",
       "      <td>0</td>\n",
       "      <td>0</td>\n",
       "      <td>...</td>\n",
       "      <td>0</td>\n",
       "      <td>0</td>\n",
       "      <td>0</td>\n",
       "      <td>0</td>\n",
       "      <td>0</td>\n",
       "      <td>0</td>\n",
       "      <td>0</td>\n",
       "      <td>0</td>\n",
       "      <td>0</td>\n",
       "      <td>0</td>\n",
       "    </tr>\n",
       "    <tr>\n",
       "      <th>4</th>\n",
       "      <td>8.160518</td>\n",
       "      <td>31</td>\n",
       "      <td>720.0</td>\n",
       "      <td>0</td>\n",
       "      <td>0</td>\n",
       "      <td>0</td>\n",
       "      <td>0</td>\n",
       "      <td>0</td>\n",
       "      <td>0</td>\n",
       "      <td>0</td>\n",
       "      <td>...</td>\n",
       "      <td>0</td>\n",
       "      <td>0</td>\n",
       "      <td>0</td>\n",
       "      <td>0</td>\n",
       "      <td>0</td>\n",
       "      <td>0</td>\n",
       "      <td>0</td>\n",
       "      <td>0</td>\n",
       "      <td>0</td>\n",
       "      <td>0</td>\n",
       "    </tr>\n",
       "  </tbody>\n",
       "</table>\n",
       "<p>5 rows × 192 columns</p>\n",
       "</div>"
      ],
      "text/plain": [
       "   goal_usd_log  name_len  delta_dead_laun  AU  BE  CA  CH  DE  DK  ES  ...  \\\n",
       "0      6.907755        23            720.0   0   0   0   0   0   0   0  ...   \n",
       "1      9.615805        51            720.0   0   0   0   0   0   0   0  ...   \n",
       "2      9.479141        34           1439.0   0   0   0   0   0   0   0  ...   \n",
       "3      7.937375        40            720.0   0   0   0   0   0   0   0  ...   \n",
       "4      8.160518        31            720.0   0   0   0   0   0   0   0  ...   \n",
       "\n",
       "   \"slug\":\"technology/wearables\"  \"slug\":\"technology/web\"  \"slug\":\"theater\"  \\\n",
       "0                              0                        0                 0   \n",
       "1                              0                        0                 0   \n",
       "2                              0                        0                 0   \n",
       "3                              0                        0                 0   \n",
       "4                              0                        0                 0   \n",
       "\n",
       "   \"slug\":\"theater/comedy\"  \"slug\":\"theater/experimental\"  \\\n",
       "0                        0                              0   \n",
       "1                        0                              0   \n",
       "2                        0                              0   \n",
       "3                        0                              0   \n",
       "4                        0                              0   \n",
       "\n",
       "   \"slug\":\"theater/festivals\"  \"slug\":\"theater/immersive\"  \\\n",
       "0                           0                           0   \n",
       "1                           0                           0   \n",
       "2                           0                           0   \n",
       "3                           0                           0   \n",
       "4                           0                           0   \n",
       "\n",
       "   \"slug\":\"theater/musical\"  \"slug\":\"theater/plays\"  \"slug\":\"theater/spaces\"  \n",
       "0                         0                       0                        0  \n",
       "1                         0                       0                        0  \n",
       "2                         0                       0                        0  \n",
       "3                         0                       0                        0  \n",
       "4                         0                       0                        0  \n",
       "\n",
       "[5 rows x 192 columns]"
      ]
     },
     "execution_count": 33,
     "metadata": {},
     "output_type": "execute_result"
    }
   ],
   "source": [
    "# split features from target (features: X, target: y)\n",
    "X = df.drop('state', axis=1)\n",
    "y = df['state']\n",
    "X.head()"
   ]
  },
  {
   "cell_type": "code",
   "execution_count": 34,
   "metadata": {},
   "outputs": [
    {
     "name": "stdout",
     "output_type": "stream",
     "text": [
      "X_train: (131468, 192)\n",
      "y_train: (131468,)\n",
      "X_test: (56344, 192)\n",
      "y_test: (56344,)\n"
     ]
    }
   ],
   "source": [
    "# Split data into train and test set\n",
    "X_train, X_test, y_train, y_test = train_test_split(X, y, test_size=0.3, random_state=42)\n",
    "\n",
    "# Check the shape of the data sets\n",
    "print(\"X_train:\", X_train.shape)\n",
    "print(\"y_train:\", y_train.shape)\n",
    "print(\"X_test:\", X_test.shape)\n",
    "print(\"y_test:\", y_test.shape)"
   ]
  },
  {
   "cell_type": "markdown",
   "metadata": {},
   "source": [
    "## Logistic Regression Classifier"
   ]
  },
  {
   "cell_type": "markdown",
   "metadata": {},
   "source": [
    "### simple logistic regression"
   ]
  },
  {
   "cell_type": "code",
   "execution_count": 35,
   "metadata": {},
   "outputs": [],
   "source": [
    "# create logistic regression classifier\n",
    "\n",
    "# instantiate classifier\n",
    "lr_clf = LogisticRegression(max_iter=1000)\n",
    "# fit model to training data\n",
    "lr_clf.fit(X_train, y_train)\n",
    "\n",
    "# predict target values for train data\n",
    "y_pred_train = lr_clf.predict(X_train)\n",
    "# predict target values for test data\n",
    "y_pred = lr_clf.predict(X_test)\n"
   ]
  },
  {
   "cell_type": "code",
   "execution_count": 36,
   "metadata": {},
   "outputs": [
    {
     "name": "stdout",
     "output_type": "stream",
     "text": [
      "Classification report for TRAIN data: \n",
      "               precision    recall  f1-score   support\n",
      "\n",
      "           0       0.70      0.69      0.69     51610\n",
      "           1       0.80      0.81      0.80     79858\n",
      "\n",
      "    accuracy                           0.76    131468\n",
      "   macro avg       0.75      0.75      0.75    131468\n",
      "weighted avg       0.76      0.76      0.76    131468\n",
      "\n",
      "--------------------------------------------------------------------------------\n",
      "Classification report for TEST data: \n",
      "               precision    recall  f1-score   support\n",
      "\n",
      "           0       0.70      0.70      0.70     22082\n",
      "           1       0.80      0.81      0.81     34262\n",
      "\n",
      "    accuracy                           0.76     56344\n",
      "   macro avg       0.75      0.75      0.75     56344\n",
      "weighted avg       0.76      0.76      0.76     56344\n",
      "\n",
      "--------------------------------------------------------------------------------\n"
     ]
    }
   ],
   "source": [
    "\n",
    "# Print classification reports for Logistic Regression\n",
    "\n",
    "## train data\n",
    "print('Classification report for TRAIN data: \\n {}'.format(classification_report(y_train, y_pred_train)))\n",
    "print(\"--------\"*10)\n",
    "\n",
    "## test data\n",
    "print('Classification report for TEST data: \\n {}'.format(classification_report(y_test, y_pred)))\n",
    "print(\"--------\"*10)"
   ]
  },
  {
   "cell_type": "code",
   "execution_count": 37,
   "metadata": {},
   "outputs": [
    {
     "data": {
      "image/png": "[encoded data removed]",
      "text/plain": [
       "<Figure size 432x288 with 2 Axes>"
      ]
     },
     "metadata": {
      "needs_background": "light"
     },
     "output_type": "display_data"
    },
    {
     "data": {
      "image/png": "[encoded data removed]",
      "text/plain": [
       "<Figure size 432x288 with 2 Axes>"
      ]
     },
     "metadata": {
      "needs_background": "light"
     },
     "output_type": "display_data"
    }
   ],
   "source": [
    "# Evaluate the model with a confusion matrix\n",
    "## train data\n",
    "cm = confusion_matrix(y_train, y_pred_train)\n",
    "#cm = cm.astype('float') / cm.sum(axis=1)[:, np.newaxis] # normalize the data, remove fmt='d' from heatmap code!\n",
    "plt.figure()\n",
    "sns.heatmap(cm, cmap='YlGnBu', annot=True, fmt='d', linewidths=.5)\n",
    "plt.ylabel('True label')\n",
    "plt.xlabel('Predicted label')\n",
    "plt.title('Confusion matrix for TRAIN data (NB clf):');\n",
    "\n",
    "## test data\n",
    "cm = confusion_matrix(y_test, y_pred)\n",
    "#cm = cm.astype('float') / cm.sum(axis=1)[:, np.newaxis] # normalize the data, remove fmt='d' from heatmap code!\n",
    "plt.figure()\n",
    "sns.heatmap(cm, cmap='YlGnBu', annot=True, fmt='d', linewidths=.5)\n",
    "plt.ylabel('True label')\n",
    "plt.xlabel('Predicted label')\n",
    "plt.title('Confusion matrix for TEST data (NB clf):');"
   ]
  },
  {
   "cell_type": "markdown",
   "metadata": {},
   "source": [
    "## Hyperparameter Tuning"
   ]
  },
  {
   "cell_type": "code",
   "execution_count": 38,
   "metadata": {},
   "outputs": [
    {
     "name": "stdout",
     "output_type": "stream",
     "text": [
      "Fitting 5 folds for each of 48 candidates, totalling 240 fits\n",
      "[CV 1/5] END ..C=0.0001, penalty=l1, solver=lbfgs;, score=nan total time=   1.5s\n",
      "[CV 3/5] END ..C=0.0001, penalty=l1, solver=lbfgs;, score=nan total time=   1.5s\n",
      "[CV 2/5] END ..C=0.0001, penalty=l1, solver=lbfgs;, score=nan total time=   1.5s\n",
      "[CV 5/5] END ..C=0.0001, penalty=l1, solver=lbfgs;, score=nan total time=   0.5s\n",
      "[CV 4/5] END ..C=0.0001, penalty=l1, solver=lbfgs;, score=nan total time=   0.7s\n",
      "[CV 1/5] END ....C=0.0001, penalty=l1, solver=sag;, score=nan total time=   0.6s\n",
      "[CV 3/5] END ....C=0.0001, penalty=l1, solver=sag;, score=nan total time=   0.4s\n",
      "[CV 2/5] END ....C=0.0001, penalty=l1, solver=sag;, score=nan total time=   0.5s\n",
      "[CV 4/5] END ....C=0.0001, penalty=l1, solver=sag;, score=nan total time=   0.4s\n",
      "[CV 2/5] END C=0.0001, penalty=l1, solver=liblinear;, score=0.735 total time=   3.5s\n",
      "[CV 3/5] END C=0.0001, penalty=l1, solver=liblinear;, score=0.735 total time=   3.6s\n",
      "[CV 5/5] END C=0.0001, penalty=l1, solver=liblinear;, score=0.736 total time=   3.6s\n",
      "[CV 1/5] END C=0.0001, penalty=l1, solver=liblinear;, score=0.741 total time=   3.6s\n",
      "[CV 4/5] END C=0.0001, penalty=l1, solver=liblinear;, score=0.737 total time=   3.6s\n",
      "[CV 5/5] END ....C=0.0001, penalty=l1, solver=sag;, score=nan total time=   0.2s\n",
      "[CV 1/5] END C=0.0001, penalty=l2, solver=liblinear;, score=0.747 total time=   0.8s\n",
      "[CV 2/5] END C=0.0001, penalty=l2, solver=liblinear;, score=0.741 total time=   0.8s\n",
      "[CV 3/5] END C=0.0001, penalty=l2, solver=liblinear;, score=0.740 total time=   1.3s\n",
      "[CV 4/5] END C=0.0001, penalty=l2, solver=liblinear;, score=0.742 total time=   1.5s\n",
      "[CV 5/5] END C=0.0001, penalty=l2, solver=liblinear;, score=0.741 total time=   1.8s\n",
      "[CV 5/5] END C=0.0001, penalty=l2, solver=lbfgs;, score=0.766 total time=  11.7s\n",
      "[CV 1/5] END C=0.0001, penalty=l2, solver=lbfgs;, score=0.767 total time=  12.3s\n",
      "[CV 2/5] END C=0.0001, penalty=l2, solver=lbfgs;, score=0.764 total time=  12.7s\n",
      "[CV 4/5] END C=0.0001, penalty=l2, solver=lbfgs;, score=0.767 total time=  12.7s\n",
      "[CV 1/5] END C=0.001, penalty=l1, solver=liblinear;, score=0.755 total time=   1.6s\n",
      "[CV 3/5] END C=0.0001, penalty=l2, solver=lbfgs;, score=0.762 total time=  14.4s\n",
      "[CV 2/5] END C=0.001, penalty=l1, solver=liblinear;, score=0.752 total time=   1.4s\n",
      "[CV 3/5] END C=0.001, penalty=l1, solver=liblinear;, score=0.751 total time=   1.6s\n",
      "[CV 5/5] END C=0.001, penalty=l1, solver=liblinear;, score=0.753 total time=   1.6s\n",
      "[CV 4/5] END C=0.001, penalty=l1, solver=liblinear;, score=0.752 total time=   1.6s\n",
      "[CV 1/5] END ...C=0.001, penalty=l1, solver=lbfgs;, score=nan total time=   0.3s\n",
      "[CV 2/5] END ...C=0.001, penalty=l1, solver=lbfgs;, score=nan total time=   0.2s\n",
      "[CV 3/5] END ...C=0.001, penalty=l1, solver=lbfgs;, score=nan total time=   0.3s\n",
      "[CV 4/5] END ...C=0.001, penalty=l1, solver=lbfgs;, score=nan total time=   0.3s\n",
      "[CV 1/5] END .....C=0.001, penalty=l1, solver=sag;, score=nan total time=   0.3s\n",
      "[CV 5/5] END ...C=0.001, penalty=l1, solver=lbfgs;, score=nan total time=   0.3s\n",
      "[CV 2/5] END .....C=0.001, penalty=l1, solver=sag;, score=nan total time=   0.3s\n",
      "[CV 4/5] END .....C=0.001, penalty=l1, solver=sag;, score=nan total time=   0.3s\n",
      "[CV 3/5] END .....C=0.001, penalty=l1, solver=sag;, score=nan total time=   0.3s\n",
      "[CV 5/5] END .....C=0.001, penalty=l1, solver=sag;, score=nan total time=   0.3s\n",
      "[CV 2/5] END C=0.001, penalty=l2, solver=liblinear;, score=0.788 total time=   1.3s\n",
      "[CV 1/5] END C=0.001, penalty=l2, solver=liblinear;, score=0.790 total time=   1.4s\n",
      "[CV 3/5] END C=0.001, penalty=l2, solver=liblinear;, score=0.785 total time=   1.4s\n",
      "[CV 4/5] END C=0.001, penalty=l2, solver=liblinear;, score=0.790 total time=   1.5s\n",
      "[CV 5/5] END C=0.001, penalty=l2, solver=liblinear;, score=0.786 total time=   1.4s\n",
      "[CV 3/5] END .C=0.001, penalty=l2, solver=lbfgs;, score=0.785 total time=  10.5s\n",
      "[CV 1/5] END .C=0.001, penalty=l2, solver=lbfgs;, score=0.788 total time=  15.2s\n",
      "[CV 2/5] END .C=0.001, penalty=l2, solver=lbfgs;, score=0.787 total time=  16.9s\n",
      "[CV 5/5] END .C=0.001, penalty=l2, solver=lbfgs;, score=0.791 total time=   7.5s\n",
      "[CV 4/5] END .C=0.001, penalty=l2, solver=lbfgs;, score=0.789 total time=  11.6s\n"
     ]
    },
    {
     "name": "stderr",
     "output_type": "stream",
     "text": [
      "/Users/zoe/neuefische/kickstarter-ml/.venv/lib/python3.9/site-packages/sklearn/linear_model/_sag.py:352: ConvergenceWarning: The max_iter was reached which means the coef_ did not converge\n",
      "  warnings.warn(\n"
     ]
    },
    {
     "name": "stdout",
     "output_type": "stream",
     "text": [
      "[CV 1/5] END ..C=0.0001, penalty=l2, solver=sag;, score=0.761 total time= 6.8min\n"
     ]
    },
    {
     "name": "stderr",
     "output_type": "stream",
     "text": [
      "/Users/zoe/neuefische/kickstarter-ml/.venv/lib/python3.9/site-packages/sklearn/linear_model/_sag.py:352: ConvergenceWarning: The max_iter was reached which means the coef_ did not converge\n",
      "  warnings.warn(\n"
     ]
    },
    {
     "name": "stdout",
     "output_type": "stream",
     "text": [
      "[CV 3/5] END ..C=0.0001, penalty=l2, solver=sag;, score=0.757 total time= 6.8min\n"
     ]
    },
    {
     "name": "stderr",
     "output_type": "stream",
     "text": [
      "/Users/zoe/neuefische/kickstarter-ml/.venv/lib/python3.9/site-packages/sklearn/linear_model/_sag.py:352: ConvergenceWarning: The max_iter was reached which means the coef_ did not converge\n",
      "  warnings.warn(\n"
     ]
    },
    {
     "name": "stdout",
     "output_type": "stream",
     "text": [
      "[CV 2/5] END ..C=0.0001, penalty=l2, solver=sag;, score=0.758 total time= 6.8min\n",
      "[CV 1/5] END C=0.01, penalty=l1, solver=liblinear;, score=0.793 total time=   2.6s\n",
      "[CV 2/5] END C=0.01, penalty=l1, solver=liblinear;, score=0.794 total time=   1.8s\n",
      "[CV 3/5] END C=0.01, penalty=l1, solver=liblinear;, score=0.790 total time=   2.1s\n"
     ]
    },
    {
     "name": "stderr",
     "output_type": "stream",
     "text": [
      "/Users/zoe/neuefische/kickstarter-ml/.venv/lib/python3.9/site-packages/sklearn/linear_model/_sag.py:352: ConvergenceWarning: The max_iter was reached which means the coef_ did not converge\n",
      "  warnings.warn(\n"
     ]
    },
    {
     "name": "stdout",
     "output_type": "stream",
     "text": [
      "[CV 5/5] END ..C=0.0001, penalty=l2, solver=sag;, score=0.759 total time= 6.8min\n"
     ]
    },
    {
     "name": "stderr",
     "output_type": "stream",
     "text": [
      "/Users/zoe/neuefische/kickstarter-ml/.venv/lib/python3.9/site-packages/sklearn/linear_model/_sag.py:352: ConvergenceWarning: The max_iter was reached which means the coef_ did not converge\n",
      "  warnings.warn(\n"
     ]
    },
    {
     "name": "stdout",
     "output_type": "stream",
     "text": [
      "[CV 4/5] END ..C=0.0001, penalty=l2, solver=sag;, score=0.759 total time= 6.8min\n",
      "[CV 1/5] END ....C=0.01, penalty=l1, solver=lbfgs;, score=nan total time=   0.3s\n",
      "[CV 2/5] END ....C=0.01, penalty=l1, solver=lbfgs;, score=nan total time=   0.3s\n",
      "[CV 4/5] END C=0.01, penalty=l1, solver=liblinear;, score=0.794 total time=   2.5s\n",
      "[CV 3/5] END ....C=0.01, penalty=l1, solver=lbfgs;, score=nan total time=   0.3s\n",
      "[CV 4/5] END ....C=0.01, penalty=l1, solver=lbfgs;, score=nan total time=   0.3s\n",
      "[CV 5/5] END ....C=0.01, penalty=l1, solver=lbfgs;, score=nan total time=   0.3s\n",
      "[CV 1/5] END ......C=0.01, penalty=l1, solver=sag;, score=nan total time=   0.3s\n",
      "[CV 5/5] END C=0.01, penalty=l1, solver=liblinear;, score=0.791 total time=   2.7s\n",
      "[CV 2/5] END ......C=0.01, penalty=l1, solver=sag;, score=nan total time=   0.3s\n",
      "[CV 3/5] END ......C=0.01, penalty=l1, solver=sag;, score=nan total time=   0.3s\n",
      "[CV 4/5] END ......C=0.01, penalty=l1, solver=sag;, score=nan total time=   0.3s\n",
      "[CV 5/5] END ......C=0.01, penalty=l1, solver=sag;, score=nan total time=   0.3s\n",
      "[CV 3/5] END C=0.01, penalty=l2, solver=liblinear;, score=0.805 total time=   1.7s\n",
      "[CV 1/5] END C=0.01, penalty=l2, solver=liblinear;, score=0.807 total time=   1.8s\n",
      "[CV 2/5] END C=0.01, penalty=l2, solver=liblinear;, score=0.811 total time=   1.8s\n",
      "[CV 4/5] END C=0.01, penalty=l2, solver=liblinear;, score=0.808 total time=   1.6s\n",
      "[CV 5/5] END C=0.01, penalty=l2, solver=liblinear;, score=0.806 total time=   1.6s\n",
      "[CV 1/5] END ..C=0.01, penalty=l2, solver=lbfgs;, score=0.805 total time=   9.5s\n",
      "[CV 2/5] END ..C=0.01, penalty=l2, solver=lbfgs;, score=0.807 total time=  10.7s\n"
     ]
    },
    {
     "name": "stderr",
     "output_type": "stream",
     "text": [
      "/Users/zoe/neuefische/kickstarter-ml/.venv/lib/python3.9/site-packages/sklearn/linear_model/_sag.py:352: ConvergenceWarning: The max_iter was reached which means the coef_ did not converge\n",
      "  warnings.warn(\n"
     ]
    },
    {
     "name": "stdout",
     "output_type": "stream",
     "text": [
      "[CV 1/5] END ...C=0.001, penalty=l2, solver=sag;, score=0.782 total time= 6.8min\n",
      "[CV 3/5] END ..C=0.01, penalty=l2, solver=lbfgs;, score=0.805 total time=  18.0s\n"
     ]
    },
    {
     "name": "stderr",
     "output_type": "stream",
     "text": [
      "/Users/zoe/neuefische/kickstarter-ml/.venv/lib/python3.9/site-packages/sklearn/linear_model/_sag.py:352: ConvergenceWarning: The max_iter was reached which means the coef_ did not converge\n",
      "  warnings.warn(\n"
     ]
    },
    {
     "name": "stdout",
     "output_type": "stream",
     "text": [
      "[CV 2/5] END ...C=0.001, penalty=l2, solver=sag;, score=0.779 total time= 6.8min\n"
     ]
    },
    {
     "name": "stderr",
     "output_type": "stream",
     "text": [
      "/Users/zoe/neuefische/kickstarter-ml/.venv/lib/python3.9/site-packages/sklearn/linear_model/_sag.py:352: ConvergenceWarning: The max_iter was reached which means the coef_ did not converge\n",
      "  warnings.warn(\n"
     ]
    },
    {
     "name": "stdout",
     "output_type": "stream",
     "text": [
      "[CV 3/5] END ...C=0.001, penalty=l2, solver=sag;, score=0.776 total time= 6.8min\n",
      "[CV 4/5] END ..C=0.01, penalty=l2, solver=lbfgs;, score=0.806 total time=  15.0s\n",
      "[CV 5/5] END ..C=0.01, penalty=l2, solver=lbfgs;, score=0.806 total time=  15.7s\n",
      "[CV 1/5] END C=0.1, penalty=l1, solver=liblinear;, score=0.805 total time=   2.5s\n",
      "[CV 2/5] END C=0.1, penalty=l1, solver=liblinear;, score=0.808 total time=   2.5s\n",
      "[CV 3/5] END C=0.1, penalty=l1, solver=liblinear;, score=0.802 total time=   2.9s\n",
      "[CV 4/5] END C=0.1, penalty=l1, solver=liblinear;, score=0.806 total time=   2.0s\n",
      "[CV 5/5] END C=0.1, penalty=l1, solver=liblinear;, score=0.806 total time=   3.3s\n",
      "[CV 1/5] END .....C=0.1, penalty=l1, solver=lbfgs;, score=nan total time=   0.3s\n",
      "[CV 2/5] END .....C=0.1, penalty=l1, solver=lbfgs;, score=nan total time=   0.3s\n",
      "[CV 3/5] END .....C=0.1, penalty=l1, solver=lbfgs;, score=nan total time=   0.3s\n",
      "[CV 4/5] END .....C=0.1, penalty=l1, solver=lbfgs;, score=nan total time=   0.3s\n",
      "[CV 5/5] END .....C=0.1, penalty=l1, solver=lbfgs;, score=nan total time=   0.3s\n",
      "[CV 1/5] END .......C=0.1, penalty=l1, solver=sag;, score=nan total time=   0.3s\n",
      "[CV 2/5] END .......C=0.1, penalty=l1, solver=sag;, score=nan total time=   0.3s\n",
      "[CV 3/5] END .......C=0.1, penalty=l1, solver=sag;, score=nan total time=   0.3s\n",
      "[CV 4/5] END .......C=0.1, penalty=l1, solver=sag;, score=nan total time=   0.3s\n",
      "[CV 5/5] END .......C=0.1, penalty=l1, solver=sag;, score=nan total time=   0.3s\n",
      "[CV 1/5] END C=0.1, penalty=l2, solver=liblinear;, score=0.806 total time=   1.5s\n",
      "[CV 2/5] END C=0.1, penalty=l2, solver=liblinear;, score=0.810 total time=   1.5s\n",
      "[CV 3/5] END C=0.1, penalty=l2, solver=liblinear;, score=0.805 total time=   1.4s\n",
      "[CV 4/5] END C=0.1, penalty=l2, solver=liblinear;, score=0.808 total time=   1.6s\n",
      "[CV 5/5] END C=0.1, penalty=l2, solver=liblinear;, score=0.807 total time=   1.6s\n",
      "[CV 1/5] END ...C=0.1, penalty=l2, solver=lbfgs;, score=0.804 total time=  15.6s\n",
      "[CV 2/5] END ...C=0.1, penalty=l2, solver=lbfgs;, score=0.807 total time=  12.5s\n",
      "[CV 3/5] END ...C=0.1, penalty=l2, solver=lbfgs;, score=0.803 total time=  33.2s\n",
      "[CV 4/5] END ...C=0.1, penalty=l2, solver=lbfgs;, score=0.805 total time=  35.0s\n",
      "[CV 5/5] END ...C=0.1, penalty=l2, solver=lbfgs;, score=0.805 total time=  28.7s\n"
     ]
    },
    {
     "name": "stderr",
     "output_type": "stream",
     "text": [
      "/Users/zoe/neuefische/kickstarter-ml/.venv/lib/python3.9/site-packages/sklearn/linear_model/_sag.py:352: ConvergenceWarning: The max_iter was reached which means the coef_ did not converge\n",
      "  warnings.warn(\n"
     ]
    },
    {
     "name": "stdout",
     "output_type": "stream",
     "text": [
      "[CV 4/5] END ...C=0.001, penalty=l2, solver=sag;, score=0.781 total time=38.2min\n"
     ]
    },
    {
     "name": "stderr",
     "output_type": "stream",
     "text": [
      "/Users/zoe/neuefische/kickstarter-ml/.venv/lib/python3.9/site-packages/sklearn/linear_model/_sag.py:352: ConvergenceWarning: The max_iter was reached which means the coef_ did not converge\n",
      "  warnings.warn(\n"
     ]
    },
    {
     "name": "stdout",
     "output_type": "stream",
     "text": [
      "[CV 5/5] END ...C=0.001, penalty=l2, solver=sag;, score=0.777 total time=38.3min\n"
     ]
    },
    {
     "name": "stderr",
     "output_type": "stream",
     "text": [
      "/Users/zoe/neuefische/kickstarter-ml/.venv/lib/python3.9/site-packages/sklearn/linear_model/_sag.py:352: ConvergenceWarning: The max_iter was reached which means the coef_ did not converge\n",
      "  warnings.warn(\n",
      "/Users/zoe/neuefische/kickstarter-ml/.venv/lib/python3.9/site-packages/sklearn/linear_model/_sag.py:352: ConvergenceWarning: The max_iter was reached which means the coef_ did not converge\n",
      "  warnings.warn(\n"
     ]
    },
    {
     "name": "stdout",
     "output_type": "stream",
     "text": [
      "[CV 2/5] END ....C=0.01, penalty=l2, solver=sag;, score=0.786 total time=38.3min\n",
      "[CV 1/5] END ....C=0.01, penalty=l2, solver=sag;, score=0.787 total time=38.3min\n"
     ]
    },
    {
     "name": "stderr",
     "output_type": "stream",
     "text": [
      "/Users/zoe/neuefische/kickstarter-ml/.venv/lib/python3.9/site-packages/sklearn/linear_model/_sag.py:352: ConvergenceWarning: The max_iter was reached which means the coef_ did not converge\n",
      "  warnings.warn(\n"
     ]
    },
    {
     "name": "stdout",
     "output_type": "stream",
     "text": [
      "[CV 3/5] END ....C=0.01, penalty=l2, solver=sag;, score=0.781 total time=38.3min\n"
     ]
    },
    {
     "name": "stderr",
     "output_type": "stream",
     "text": [
      "/Users/zoe/neuefische/kickstarter-ml/.venv/lib/python3.9/site-packages/sklearn/linear_model/_sag.py:352: ConvergenceWarning: The max_iter was reached which means the coef_ did not converge\n",
      "  warnings.warn(\n"
     ]
    },
    {
     "name": "stdout",
     "output_type": "stream",
     "text": [
      "[CV 4/5] END ....C=0.01, penalty=l2, solver=sag;, score=0.787 total time=38.3min\n"
     ]
    },
    {
     "name": "stderr",
     "output_type": "stream",
     "text": [
      "/Users/zoe/neuefische/kickstarter-ml/.venv/lib/python3.9/site-packages/sklearn/linear_model/_sag.py:352: ConvergenceWarning: The max_iter was reached which means the coef_ did not converge\n",
      "  warnings.warn(\n"
     ]
    },
    {
     "name": "stdout",
     "output_type": "stream",
     "text": [
      "[CV 5/5] END ....C=0.01, penalty=l2, solver=sag;, score=0.783 total time=38.4min\n",
      "[CV 1/5] END .C=1, penalty=l1, solver=liblinear;, score=0.805 total time=  11.8s\n",
      "[CV 2/5] END .C=1, penalty=l1, solver=liblinear;, score=0.809 total time=  11.5s\n",
      "[CV 3/5] END .C=1, penalty=l1, solver=liblinear;, score=0.801 total time=  12.6s\n",
      "[CV 1/5] END .......C=1, penalty=l1, solver=lbfgs;, score=nan total time=   0.4s\n",
      "[CV 2/5] END .......C=1, penalty=l1, solver=lbfgs;, score=nan total time=   0.4s\n",
      "[CV 3/5] END .......C=1, penalty=l1, solver=lbfgs;, score=nan total time=   0.4s\n",
      "[CV 4/5] END .......C=1, penalty=l1, solver=lbfgs;, score=nan total time=   0.4s\n",
      "[CV 5/5] END .......C=1, penalty=l1, solver=lbfgs;, score=nan total time=   0.4s\n",
      "[CV 1/5] END .........C=1, penalty=l1, solver=sag;, score=nan total time=   0.4s\n",
      "[CV 2/5] END .........C=1, penalty=l1, solver=sag;, score=nan total time=   0.4s\n",
      "[CV 4/5] END .C=1, penalty=l1, solver=liblinear;, score=0.805 total time=   6.0s\n",
      "[CV 3/5] END .........C=1, penalty=l1, solver=sag;, score=nan total time=   0.4s\n",
      "[CV 4/5] END .........C=1, penalty=l1, solver=sag;, score=nan total time=   0.4s\n",
      "[CV 5/5] END .........C=1, penalty=l1, solver=sag;, score=nan total time=   0.3s\n",
      "[CV 5/5] END .C=1, penalty=l1, solver=liblinear;, score=0.806 total time=   6.8s\n",
      "[CV 1/5] END .C=1, penalty=l2, solver=liblinear;, score=0.805 total time=   2.1s\n",
      "[CV 2/5] END .C=1, penalty=l2, solver=liblinear;, score=0.811 total time=   2.1s\n",
      "[CV 3/5] END .C=1, penalty=l2, solver=liblinear;, score=0.802 total time=   2.1s\n",
      "[CV 4/5] END .C=1, penalty=l2, solver=liblinear;, score=0.806 total time=   2.3s\n",
      "[CV 5/5] END .C=1, penalty=l2, solver=liblinear;, score=0.806 total time=   2.3s\n",
      "[CV 1/5] END .....C=1, penalty=l2, solver=lbfgs;, score=0.805 total time=  54.8s\n",
      "[CV 3/5] END .....C=1, penalty=l2, solver=lbfgs;, score=0.802 total time=  55.2s\n",
      "[CV 2/5] END .....C=1, penalty=l2, solver=lbfgs;, score=0.809 total time= 1.4min\n",
      "[CV 4/5] END .....C=1, penalty=l2, solver=lbfgs;, score=0.806 total time=  38.9s\n",
      "[CV 5/5] END .....C=1, penalty=l2, solver=lbfgs;, score=0.806 total time=  37.9s\n"
     ]
    },
    {
     "name": "stderr",
     "output_type": "stream",
     "text": [
      "/Users/zoe/neuefische/kickstarter-ml/.venv/lib/python3.9/site-packages/sklearn/linear_model/_sag.py:352: ConvergenceWarning: The max_iter was reached which means the coef_ did not converge\n",
      "  warnings.warn(\n"
     ]
    },
    {
     "name": "stdout",
     "output_type": "stream",
     "text": [
      "[CV 1/5] END .....C=0.1, penalty=l2, solver=sag;, score=0.788 total time=38.9min\n"
     ]
    },
    {
     "name": "stderr",
     "output_type": "stream",
     "text": [
      "/Users/zoe/neuefische/kickstarter-ml/.venv/lib/python3.9/site-packages/sklearn/linear_model/_sag.py:352: ConvergenceWarning: The max_iter was reached which means the coef_ did not converge\n",
      "  warnings.warn(\n"
     ]
    },
    {
     "name": "stdout",
     "output_type": "stream",
     "text": [
      "[CV 2/5] END .....C=0.1, penalty=l2, solver=sag;, score=0.786 total time= 7.9min\n"
     ]
    },
    {
     "name": "stderr",
     "output_type": "stream",
     "text": [
      "/Users/zoe/neuefische/kickstarter-ml/.venv/lib/python3.9/site-packages/sklearn/linear_model/_sag.py:352: ConvergenceWarning: The max_iter was reached which means the coef_ did not converge\n",
      "  warnings.warn(\n"
     ]
    },
    {
     "name": "stdout",
     "output_type": "stream",
     "text": [
      "[CV 3/5] END .....C=0.1, penalty=l2, solver=sag;, score=0.782 total time= 8.0min\n",
      "[CV 1/5] END C=10, penalty=l1, solver=liblinear;, score=0.804 total time=  13.4s\n",
      "[CV 2/5] END C=10, penalty=l1, solver=liblinear;, score=0.809 total time=  10.4s\n",
      "[CV 3/5] END C=10, penalty=l1, solver=liblinear;, score=0.801 total time=  12.3s\n"
     ]
    },
    {
     "name": "stderr",
     "output_type": "stream",
     "text": [
      "/Users/zoe/neuefische/kickstarter-ml/.venv/lib/python3.9/site-packages/sklearn/linear_model/_sag.py:352: ConvergenceWarning: The max_iter was reached which means the coef_ did not converge\n",
      "  warnings.warn(\n"
     ]
    },
    {
     "name": "stdout",
     "output_type": "stream",
     "text": [
      "[CV 5/5] END .....C=0.1, penalty=l2, solver=sag;, score=0.783 total time= 8.0min\n"
     ]
    },
    {
     "name": "stderr",
     "output_type": "stream",
     "text": [
      "/Users/zoe/neuefische/kickstarter-ml/.venv/lib/python3.9/site-packages/sklearn/linear_model/_sag.py:352: ConvergenceWarning: The max_iter was reached which means the coef_ did not converge\n",
      "  warnings.warn(\n"
     ]
    },
    {
     "name": "stdout",
     "output_type": "stream",
     "text": [
      "[CV 4/5] END .....C=0.1, penalty=l2, solver=sag;, score=0.788 total time= 8.0min\n",
      "[CV 1/5] END ......C=10, penalty=l1, solver=lbfgs;, score=nan total time=   0.5s\n",
      "[CV 2/5] END ......C=10, penalty=l1, solver=lbfgs;, score=nan total time=   0.4s\n",
      "[CV 3/5] END ......C=10, penalty=l1, solver=lbfgs;, score=nan total time=   0.4s\n",
      "[CV 4/5] END ......C=10, penalty=l1, solver=lbfgs;, score=nan total time=   0.5s\n",
      "[CV 5/5] END ......C=10, penalty=l1, solver=lbfgs;, score=nan total time=   0.4s\n",
      "[CV 1/5] END ........C=10, penalty=l1, solver=sag;, score=nan total time=   0.4s\n",
      "[CV 2/5] END ........C=10, penalty=l1, solver=sag;, score=nan total time=   0.3s\n",
      "[CV 3/5] END ........C=10, penalty=l1, solver=sag;, score=nan total time=   0.4s\n",
      "[CV 4/5] END ........C=10, penalty=l1, solver=sag;, score=nan total time=   0.4s\n",
      "[CV 5/5] END ........C=10, penalty=l1, solver=sag;, score=nan total time=   0.4s\n",
      "[CV 1/5] END C=10, penalty=l2, solver=liblinear;, score=0.805 total time=   2.2s\n",
      "[CV 2/5] END C=10, penalty=l2, solver=liblinear;, score=0.811 total time=   2.2s\n",
      "[CV 3/5] END C=10, penalty=l2, solver=liblinear;, score=0.802 total time=   2.0s\n",
      "[CV 5/5] END C=10, penalty=l1, solver=liblinear;, score=0.805 total time=  13.2s\n",
      "[CV 4/5] END C=10, penalty=l1, solver=liblinear;, score=0.804 total time=  16.8s\n",
      "[CV 4/5] END C=10, penalty=l2, solver=liblinear;, score=0.806 total time=   2.3s\n",
      "[CV 5/5] END C=10, penalty=l2, solver=liblinear;, score=0.806 total time=   2.0s\n",
      "[CV 3/5] END ....C=10, penalty=l2, solver=lbfgs;, score=0.802 total time= 1.2min\n",
      "[CV 1/5] END ....C=10, penalty=l2, solver=lbfgs;, score=0.804 total time= 1.4min\n"
     ]
    },
    {
     "name": "stderr",
     "output_type": "stream",
     "text": [
      "/Users/zoe/neuefische/kickstarter-ml/.venv/lib/python3.9/site-packages/sklearn/linear_model/_logistic.py:814: ConvergenceWarning: lbfgs failed to converge (status=1):\n",
      "STOP: TOTAL NO. of ITERATIONS REACHED LIMIT.\n",
      "\n",
      "Increase the number of iterations (max_iter) or scale the data as shown in:\n",
      "    https://scikit-learn.org/stable/modules/preprocessing.html\n",
      "Please also refer to the documentation for alternative solver options:\n",
      "    https://scikit-learn.org/stable/modules/linear_model.html#logistic-regression\n",
      "  n_iter_i = _check_optimize_result(\n"
     ]
    },
    {
     "name": "stdout",
     "output_type": "stream",
     "text": [
      "[CV 2/5] END ....C=10, penalty=l2, solver=lbfgs;, score=0.809 total time= 1.5min\n"
     ]
    },
    {
     "name": "stderr",
     "output_type": "stream",
     "text": [
      "/Users/zoe/neuefische/kickstarter-ml/.venv/lib/python3.9/site-packages/sklearn/linear_model/_sag.py:352: ConvergenceWarning: The max_iter was reached which means the coef_ did not converge\n",
      "  warnings.warn(\n"
     ]
    },
    {
     "name": "stdout",
     "output_type": "stream",
     "text": [
      "[CV 1/5] END .......C=1, penalty=l2, solver=sag;, score=0.788 total time= 8.0min\n"
     ]
    },
    {
     "name": "stderr",
     "output_type": "stream",
     "text": [
      "/Users/zoe/neuefische/kickstarter-ml/.venv/lib/python3.9/site-packages/sklearn/linear_model/_sag.py:352: ConvergenceWarning: The max_iter was reached which means the coef_ did not converge\n",
      "  warnings.warn(\n"
     ]
    },
    {
     "name": "stdout",
     "output_type": "stream",
     "text": [
      "[CV 2/5] END .......C=1, penalty=l2, solver=sag;, score=0.786 total time= 8.0min\n"
     ]
    },
    {
     "name": "stderr",
     "output_type": "stream",
     "text": [
      "/Users/zoe/neuefische/kickstarter-ml/.venv/lib/python3.9/site-packages/sklearn/linear_model/_sag.py:352: ConvergenceWarning: The max_iter was reached which means the coef_ did not converge\n",
      "  warnings.warn(\n"
     ]
    },
    {
     "name": "stdout",
     "output_type": "stream",
     "text": [
      "[CV 3/5] END .......C=1, penalty=l2, solver=sag;, score=0.782 total time= 8.0min\n",
      "[CV 5/5] END ....C=10, penalty=l2, solver=lbfgs;, score=0.805 total time=  48.2s\n",
      "[CV 4/5] END ....C=10, penalty=l2, solver=lbfgs;, score=0.805 total time= 1.2min\n",
      "[CV 1/5] END C=100, penalty=l1, solver=liblinear;, score=0.804 total time=   6.6s\n",
      "[CV 2/5] END C=100, penalty=l1, solver=liblinear;, score=0.809 total time=   6.1s\n",
      "[CV 3/5] END C=100, penalty=l1, solver=liblinear;, score=0.801 total time=   8.6s\n",
      "[CV 4/5] END C=100, penalty=l1, solver=liblinear;, score=0.804 total time=   2.6s\n",
      "[CV 5/5] END C=100, penalty=l1, solver=liblinear;, score=0.805 total time=   4.9s\n",
      "[CV 1/5] END .....C=100, penalty=l1, solver=lbfgs;, score=nan total time=   0.4s\n",
      "[CV 2/5] END .....C=100, penalty=l1, solver=lbfgs;, score=nan total time=   0.3s\n",
      "[CV 3/5] END .....C=100, penalty=l1, solver=lbfgs;, score=nan total time=   0.4s\n",
      "[CV 4/5] END .....C=100, penalty=l1, solver=lbfgs;, score=nan total time=   0.3s\n",
      "[CV 5/5] END .....C=100, penalty=l1, solver=lbfgs;, score=nan total time=   0.3s\n",
      "[CV 1/5] END .......C=100, penalty=l1, solver=sag;, score=nan total time=   0.4s\n",
      "[CV 2/5] END .......C=100, penalty=l1, solver=sag;, score=nan total time=   0.4s\n",
      "[CV 3/5] END .......C=100, penalty=l1, solver=sag;, score=nan total time=   0.3s\n",
      "[CV 4/5] END .......C=100, penalty=l1, solver=sag;, score=nan total time=   0.4s\n",
      "[CV 5/5] END .......C=100, penalty=l1, solver=sag;, score=nan total time=   0.3s\n",
      "[CV 1/5] END C=100, penalty=l2, solver=liblinear;, score=0.805 total time=   1.9s\n",
      "[CV 2/5] END C=100, penalty=l2, solver=liblinear;, score=0.810 total time=   1.9s\n",
      "[CV 3/5] END C=100, penalty=l2, solver=liblinear;, score=0.802 total time=   1.9s\n",
      "[CV 4/5] END C=100, penalty=l2, solver=liblinear;, score=0.806 total time=   1.9s\n"
     ]
    },
    {
     "name": "stderr",
     "output_type": "stream",
     "text": [
      "/Users/zoe/neuefische/kickstarter-ml/.venv/lib/python3.9/site-packages/sklearn/linear_model/_sag.py:352: ConvergenceWarning: The max_iter was reached which means the coef_ did not converge\n",
      "  warnings.warn(\n"
     ]
    },
    {
     "name": "stdout",
     "output_type": "stream",
     "text": [
      "[CV 4/5] END .......C=1, penalty=l2, solver=sag;, score=0.787 total time= 8.1min\n",
      "[CV 5/5] END C=100, penalty=l2, solver=liblinear;, score=0.806 total time=   2.2s\n",
      "[CV 1/5] END ...C=100, penalty=l2, solver=lbfgs;, score=0.804 total time=  44.3s\n"
     ]
    },
    {
     "name": "stderr",
     "output_type": "stream",
     "text": [
      "/Users/zoe/neuefische/kickstarter-ml/.venv/lib/python3.9/site-packages/sklearn/linear_model/_logistic.py:814: ConvergenceWarning: lbfgs failed to converge (status=1):\n",
      "STOP: TOTAL NO. of ITERATIONS REACHED LIMIT.\n",
      "\n",
      "Increase the number of iterations (max_iter) or scale the data as shown in:\n",
      "    https://scikit-learn.org/stable/modules/preprocessing.html\n",
      "Please also refer to the documentation for alternative solver options:\n",
      "    https://scikit-learn.org/stable/modules/linear_model.html#logistic-regression\n",
      "  n_iter_i = _check_optimize_result(\n"
     ]
    },
    {
     "name": "stdout",
     "output_type": "stream",
     "text": [
      "[CV 2/5] END ...C=100, penalty=l2, solver=lbfgs;, score=0.808 total time= 1.3min\n",
      "[CV 3/5] END ...C=100, penalty=l2, solver=lbfgs;, score=0.802 total time= 1.2min\n",
      "[CV 4/5] END ...C=100, penalty=l2, solver=lbfgs;, score=0.806 total time= 1.2min\n",
      "[CV 5/5] END ...C=100, penalty=l2, solver=lbfgs;, score=0.805 total time=  49.4s\n"
     ]
    },
    {
     "name": "stderr",
     "output_type": "stream",
     "text": [
      "/Users/zoe/neuefische/kickstarter-ml/.venv/lib/python3.9/site-packages/sklearn/linear_model/_sag.py:352: ConvergenceWarning: The max_iter was reached which means the coef_ did not converge\n",
      "  warnings.warn(\n"
     ]
    },
    {
     "name": "stdout",
     "output_type": "stream",
     "text": [
      "[CV 5/5] END .......C=1, penalty=l2, solver=sag;, score=0.783 total time= 8.3min\n"
     ]
    },
    {
     "name": "stderr",
     "output_type": "stream",
     "text": [
      "/Users/zoe/neuefische/kickstarter-ml/.venv/lib/python3.9/site-packages/sklearn/linear_model/_sag.py:352: ConvergenceWarning: The max_iter was reached which means the coef_ did not converge\n",
      "  warnings.warn(\n"
     ]
    },
    {
     "name": "stdout",
     "output_type": "stream",
     "text": [
      "[CV 1/5] END ......C=10, penalty=l2, solver=sag;, score=0.788 total time= 8.2min\n"
     ]
    },
    {
     "name": "stderr",
     "output_type": "stream",
     "text": [
      "/Users/zoe/neuefische/kickstarter-ml/.venv/lib/python3.9/site-packages/sklearn/linear_model/_sag.py:352: ConvergenceWarning: The max_iter was reached which means the coef_ did not converge\n",
      "  warnings.warn(\n"
     ]
    },
    {
     "name": "stdout",
     "output_type": "stream",
     "text": [
      "[CV 2/5] END ......C=10, penalty=l2, solver=sag;, score=0.786 total time= 8.2min\n"
     ]
    },
    {
     "name": "stderr",
     "output_type": "stream",
     "text": [
      "/Users/zoe/neuefische/kickstarter-ml/.venv/lib/python3.9/site-packages/sklearn/linear_model/_sag.py:352: ConvergenceWarning: The max_iter was reached which means the coef_ did not converge\n",
      "  warnings.warn(\n"
     ]
    },
    {
     "name": "stdout",
     "output_type": "stream",
     "text": [
      "[CV 3/5] END ......C=10, penalty=l2, solver=sag;, score=0.782 total time= 8.2min\n"
     ]
    },
    {
     "name": "stderr",
     "output_type": "stream",
     "text": [
      "/Users/zoe/neuefische/kickstarter-ml/.venv/lib/python3.9/site-packages/sklearn/linear_model/_sag.py:352: ConvergenceWarning: The max_iter was reached which means the coef_ did not converge\n",
      "  warnings.warn(\n"
     ]
    },
    {
     "name": "stdout",
     "output_type": "stream",
     "text": [
      "[CV 4/5] END ......C=10, penalty=l2, solver=sag;, score=0.787 total time= 8.2min\n",
      "[CV 2/5] END C=1000, penalty=l1, solver=liblinear;, score=0.808 total time=  14.4s\n",
      "[CV 1/5] END C=1000, penalty=l1, solver=liblinear;, score=0.804 total time=  16.8s\n",
      "[CV 3/5] END C=1000, penalty=l1, solver=liblinear;, score=0.801 total time=   3.5s\n",
      "[CV 4/5] END C=1000, penalty=l1, solver=liblinear;, score=0.804 total time=  10.1s\n",
      "[CV 1/5] END ....C=1000, penalty=l1, solver=lbfgs;, score=nan total time=   0.5s\n",
      "[CV 2/5] END ....C=1000, penalty=l1, solver=lbfgs;, score=nan total time=   0.6s\n",
      "[CV 3/5] END ....C=1000, penalty=l1, solver=lbfgs;, score=nan total time=   0.5s\n",
      "[CV 4/5] END ....C=1000, penalty=l1, solver=lbfgs;, score=nan total time=   0.6s\n"
     ]
    },
    {
     "name": "stderr",
     "output_type": "stream",
     "text": [
      "/Users/zoe/neuefische/kickstarter-ml/.venv/lib/python3.9/site-packages/sklearn/linear_model/_sag.py:352: ConvergenceWarning: The max_iter was reached which means the coef_ did not converge\n",
      "  warnings.warn(\n"
     ]
    },
    {
     "name": "stdout",
     "output_type": "stream",
     "text": [
      "[CV 5/5] END ......C=10, penalty=l2, solver=sag;, score=0.783 total time= 8.3min\n",
      "[CV 5/5] END ....C=1000, penalty=l1, solver=lbfgs;, score=nan total time=   0.4s\n",
      "[CV 1/5] END ......C=1000, penalty=l1, solver=sag;, score=nan total time=   0.4s\n",
      "[CV 2/5] END ......C=1000, penalty=l1, solver=sag;, score=nan total time=   0.4s\n",
      "[CV 3/5] END ......C=1000, penalty=l1, solver=sag;, score=nan total time=   0.4s\n",
      "[CV 4/5] END ......C=1000, penalty=l1, solver=sag;, score=nan total time=   0.4s\n",
      "[CV 5/5] END ......C=1000, penalty=l1, solver=sag;, score=nan total time=   0.4s\n",
      "[CV 1/5] END C=1000, penalty=l2, solver=liblinear;, score=0.805 total time=   2.5s\n",
      "[CV 2/5] END C=1000, penalty=l2, solver=liblinear;, score=0.810 total time=   2.7s\n",
      "[CV 3/5] END C=1000, penalty=l2, solver=liblinear;, score=0.802 total time=   2.2s\n",
      "[CV 4/5] END C=1000, penalty=l2, solver=liblinear;, score=0.806 total time=   2.3s\n",
      "[CV 5/5] END C=1000, penalty=l2, solver=liblinear;, score=0.806 total time=   2.3s\n",
      "[CV 5/5] END C=1000, penalty=l1, solver=liblinear;, score=0.805 total time=  28.9s\n",
      "[CV 1/5] END ..C=1000, penalty=l2, solver=lbfgs;, score=0.805 total time= 1.3min\n",
      "[CV 2/5] END ..C=1000, penalty=l2, solver=lbfgs;, score=0.810 total time= 1.4min\n",
      "[CV 3/5] END ..C=1000, penalty=l2, solver=lbfgs;, score=0.802 total time= 1.3min\n",
      "[CV 5/5] END ..C=1000, penalty=l2, solver=lbfgs;, score=0.806 total time=  53.6s\n"
     ]
    },
    {
     "name": "stderr",
     "output_type": "stream",
     "text": [
      "/Users/zoe/neuefische/kickstarter-ml/.venv/lib/python3.9/site-packages/sklearn/linear_model/_logistic.py:814: ConvergenceWarning: lbfgs failed to converge (status=1):\n",
      "STOP: TOTAL NO. of ITERATIONS REACHED LIMIT.\n",
      "\n",
      "Increase the number of iterations (max_iter) or scale the data as shown in:\n",
      "    https://scikit-learn.org/stable/modules/preprocessing.html\n",
      "Please also refer to the documentation for alternative solver options:\n",
      "    https://scikit-learn.org/stable/modules/linear_model.html#logistic-regression\n",
      "  n_iter_i = _check_optimize_result(\n"
     ]
    },
    {
     "name": "stdout",
     "output_type": "stream",
     "text": [
      "[CV 4/5] END ..C=1000, penalty=l2, solver=lbfgs;, score=0.806 total time= 1.3min\n"
     ]
    },
    {
     "name": "stderr",
     "output_type": "stream",
     "text": [
      "/Users/zoe/neuefische/kickstarter-ml/.venv/lib/python3.9/site-packages/sklearn/linear_model/_sag.py:352: ConvergenceWarning: The max_iter was reached which means the coef_ did not converge\n",
      "  warnings.warn(\n"
     ]
    },
    {
     "name": "stdout",
     "output_type": "stream",
     "text": [
      "[CV 1/5] END .....C=100, penalty=l2, solver=sag;, score=0.788 total time= 8.5min\n"
     ]
    },
    {
     "name": "stderr",
     "output_type": "stream",
     "text": [
      "/Users/zoe/neuefische/kickstarter-ml/.venv/lib/python3.9/site-packages/sklearn/linear_model/_sag.py:352: ConvergenceWarning: The max_iter was reached which means the coef_ did not converge\n",
      "  warnings.warn(\n"
     ]
    },
    {
     "name": "stdout",
     "output_type": "stream",
     "text": [
      "[CV 2/5] END .....C=100, penalty=l2, solver=sag;, score=0.786 total time= 8.5min\n"
     ]
    },
    {
     "name": "stderr",
     "output_type": "stream",
     "text": [
      "/Users/zoe/neuefische/kickstarter-ml/.venv/lib/python3.9/site-packages/sklearn/linear_model/_sag.py:352: ConvergenceWarning: The max_iter was reached which means the coef_ did not converge\n",
      "  warnings.warn(\n"
     ]
    },
    {
     "name": "stdout",
     "output_type": "stream",
     "text": [
      "[CV 3/5] END .....C=100, penalty=l2, solver=sag;, score=0.782 total time= 8.6min\n"
     ]
    },
    {
     "name": "stderr",
     "output_type": "stream",
     "text": [
      "/Users/zoe/neuefische/kickstarter-ml/.venv/lib/python3.9/site-packages/sklearn/linear_model/_sag.py:352: ConvergenceWarning: The max_iter was reached which means the coef_ did not converge\n",
      "  warnings.warn(\n"
     ]
    },
    {
     "name": "stdout",
     "output_type": "stream",
     "text": [
      "[CV 4/5] END .....C=100, penalty=l2, solver=sag;, score=0.788 total time= 8.3min\n"
     ]
    },
    {
     "name": "stderr",
     "output_type": "stream",
     "text": [
      "/Users/zoe/neuefische/kickstarter-ml/.venv/lib/python3.9/site-packages/sklearn/linear_model/_sag.py:352: ConvergenceWarning: The max_iter was reached which means the coef_ did not converge\n",
      "  warnings.warn(\n"
     ]
    },
    {
     "name": "stdout",
     "output_type": "stream",
     "text": [
      "[CV 5/5] END .....C=100, penalty=l2, solver=sag;, score=0.783 total time= 8.2min\n"
     ]
    },
    {
     "name": "stderr",
     "output_type": "stream",
     "text": [
      "/Users/zoe/neuefische/kickstarter-ml/.venv/lib/python3.9/site-packages/sklearn/linear_model/_sag.py:352: ConvergenceWarning: The max_iter was reached which means the coef_ did not converge\n",
      "  warnings.warn(\n"
     ]
    },
    {
     "name": "stdout",
     "output_type": "stream",
     "text": [
      "[CV 1/5] END ....C=1000, penalty=l2, solver=sag;, score=0.788 total time= 7.2min\n"
     ]
    },
    {
     "name": "stderr",
     "output_type": "stream",
     "text": [
      "/Users/zoe/neuefische/kickstarter-ml/.venv/lib/python3.9/site-packages/sklearn/linear_model/_sag.py:352: ConvergenceWarning: The max_iter was reached which means the coef_ did not converge\n",
      "  warnings.warn(\n"
     ]
    },
    {
     "name": "stdout",
     "output_type": "stream",
     "text": [
      "[CV 2/5] END ....C=1000, penalty=l2, solver=sag;, score=0.786 total time= 6.8min\n"
     ]
    },
    {
     "name": "stderr",
     "output_type": "stream",
     "text": [
      "/Users/zoe/neuefische/kickstarter-ml/.venv/lib/python3.9/site-packages/sklearn/linear_model/_sag.py:352: ConvergenceWarning: The max_iter was reached which means the coef_ did not converge\n",
      "  warnings.warn(\n"
     ]
    },
    {
     "name": "stdout",
     "output_type": "stream",
     "text": [
      "[CV 3/5] END ....C=1000, penalty=l2, solver=sag;, score=0.782 total time= 6.6min\n"
     ]
    },
    {
     "name": "stderr",
     "output_type": "stream",
     "text": [
      "/Users/zoe/neuefische/kickstarter-ml/.venv/lib/python3.9/site-packages/sklearn/linear_model/_sag.py:352: ConvergenceWarning: The max_iter was reached which means the coef_ did not converge\n",
      "  warnings.warn(\n"
     ]
    },
    {
     "name": "stdout",
     "output_type": "stream",
     "text": [
      "[CV 4/5] END ....C=1000, penalty=l2, solver=sag;, score=0.787 total time= 6.2min\n"
     ]
    },
    {
     "name": "stderr",
     "output_type": "stream",
     "text": [
      "/Users/zoe/neuefische/kickstarter-ml/.venv/lib/python3.9/site-packages/sklearn/linear_model/_sag.py:352: ConvergenceWarning: The max_iter was reached which means the coef_ did not converge\n",
      "  warnings.warn(\n",
      "/Users/zoe/neuefische/kickstarter-ml/.venv/lib/python3.9/site-packages/sklearn/model_selection/_validation.py:372: FitFailedWarning: \n",
      "80 fits failed out of a total of 240.\n",
      "The score on these train-test partitions for these parameters will be set to nan.\n",
      "If these failures are not expected, you can try to debug them by setting error_score='raise'.\n",
      "\n",
      "Below are more details about the failures:\n",
      "--------------------------------------------------------------------------------\n",
      "40 fits failed with the following error:\n",
      "Traceback (most recent call last):\n",
      "  File \"/Users/zoe/neuefische/kickstarter-ml/.venv/lib/python3.9/site-packages/sklearn/model_selection/_validation.py\", line 681, in _fit_and_score\n",
      "    estimator.fit(X_train, y_train, **fit_params)\n",
      "  File \"/Users/zoe/neuefische/kickstarter-ml/.venv/lib/python3.9/site-packages/sklearn/linear_model/_logistic.py\", line 1461, in fit\n",
      "    solver = _check_solver(self.solver, self.penalty, self.dual)\n",
      "  File \"/Users/zoe/neuefische/kickstarter-ml/.venv/lib/python3.9/site-packages/sklearn/linear_model/_logistic.py\", line 447, in _check_solver\n",
      "    raise ValueError(\n",
      "ValueError: Solver lbfgs supports only 'l2' or 'none' penalties, got l1 penalty.\n",
      "\n",
      "--------------------------------------------------------------------------------\n",
      "40 fits failed with the following error:\n",
      "Traceback (most recent call last):\n",
      "  File \"/Users/zoe/neuefische/kickstarter-ml/.venv/lib/python3.9/site-packages/sklearn/model_selection/_validation.py\", line 681, in _fit_and_score\n",
      "    estimator.fit(X_train, y_train, **fit_params)\n",
      "  File \"/Users/zoe/neuefische/kickstarter-ml/.venv/lib/python3.9/site-packages/sklearn/linear_model/_logistic.py\", line 1461, in fit\n",
      "    solver = _check_solver(self.solver, self.penalty, self.dual)\n",
      "  File \"/Users/zoe/neuefische/kickstarter-ml/.venv/lib/python3.9/site-packages/sklearn/linear_model/_logistic.py\", line 447, in _check_solver\n",
      "    raise ValueError(\n",
      "ValueError: Solver sag supports only 'l2' or 'none' penalties, got l1 penalty.\n",
      "\n",
      "  warnings.warn(some_fits_failed_message, FitFailedWarning)\n",
      "/Users/zoe/neuefische/kickstarter-ml/.venv/lib/python3.9/site-packages/sklearn/model_selection/_search.py:969: UserWarning: One or more of the test scores are non-finite: [0.73672026        nan        nan 0.74224529 0.76511083 0.75882795\n",
      " 0.75257452        nan        nan 0.78773942 0.78812342 0.77915421\n",
      " 0.79237344        nan        nan 0.8074205  0.80566358 0.78470214\n",
      " 0.80519763        nan        nan 0.80698296 0.80510453 0.78523979\n",
      " 0.80514567        nan        nan 0.80605164 0.80548623 0.78527838\n",
      " 0.8046325         nan        nan 0.80604936 0.80514358 0.78526925\n",
      " 0.80465962        nan        nan 0.80582164 0.80522288 0.78527585\n",
      " 0.80462056        nan        nan 0.80573933 0.80567866 0.78527869]\n",
      "  warnings.warn(\n"
     ]
    },
    {
     "name": "stdout",
     "output_type": "stream",
     "text": [
      "[CV 5/5] END ....C=1000, penalty=l2, solver=sag;, score=0.783 total time= 6.0min\n"
     ]
    },
    {
     "data": {
      "text/plain": [
       "GridSearchCV(cv=5, estimator=LogisticRegression(max_iter=1000), n_jobs=-1,\n",
       "             param_grid={'C': [0.0001, 0.001, 0.01, 0.1, 1, 10, 100, 1000],\n",
       "                         'penalty': ('l1', 'l2'),\n",
       "                         'solver': ['liblinear', 'lbfgs', 'sag']},\n",
       "             scoring='f1', verbose=5)"
      ]
     },
     "execution_count": 38,
     "metadata": {},
     "output_type": "execute_result"
    }
   ],
   "source": [
    "param_lr = {'penalty':('l1','l2'), \n",
    "            'C': [0.0001, 0.001, 0.01, 0.1, 1, 10, 100, 1000],\n",
    "            'solver': ['liblinear', 'lbfgs', 'sag', ]\n",
    "               }\n",
    "\n",
    "grid_lr = GridSearchCV(lr_clf, param_grid=param_lr, cv=5, scoring='f1', \n",
    "                           verbose=5, n_jobs=-1)\n",
    "\n",
    "grid_lr.fit(X_train, y_train)"
   ]
  },
  {
   "cell_type": "markdown",
   "metadata": {},
   "source": []
  },
  {
   "cell_type": "code",
   "execution_count": 39,
   "metadata": {},
   "outputs": [
    {
     "name": "stdout",
     "output_type": "stream",
     "text": [
      "Best score:\n",
      "0.81\n",
      "Best parameters:\n",
      "{'C': 0.01, 'penalty': 'l2', 'solver': 'liblinear'}\n",
      "LogisticRegression(C=0.01, max_iter=1000, solver='liblinear')\n"
     ]
    }
   ],
   "source": [
    "## CURRENTLY FOR SCORE='F1'\n",
    "\n",
    "# Show best parameters\n",
    "print('Best score:\\n{:.2f}'.format(grid_lr.best_score_))\n",
    "print(\"Best parameters:\\n{}\".format(grid_lr.best_params_))\n",
    "\n",
    "# Save best model as best_model\n",
    "best_log_reg = grid_lr.best_estimator_\n",
    "print(best_log_reg)"
   ]
  },
  {
   "cell_type": "code",
   "execution_count": 40,
   "metadata": {},
   "outputs": [
    {
     "name": "stdout",
     "output_type": "stream",
     "text": [
      "Classification report for TEST data: \n",
      "               precision    recall  f1-score   support\n",
      "\n",
      "           0       0.72      0.63      0.67     22082\n",
      "           1       0.78      0.84      0.81     34262\n",
      "\n",
      "    accuracy                           0.76     56344\n",
      "   macro avg       0.75      0.74      0.74     56344\n",
      "weighted avg       0.76      0.76      0.76     56344\n",
      "\n",
      "--------------------------------------------------------------------------------\n"
     ]
    },
    {
     "data": {
      "image/png": "[encoded data removed]",
      "text/plain": [
       "<Figure size 432x288 with 2 Axes>"
      ]
     },
     "metadata": {
      "needs_background": "light"
     },
     "output_type": "display_data"
    }
   ],
   "source": [
    "# evaluate test set\n",
    "y_pred = best_log_reg.predict(X_test)\n",
    "\n",
    "## classification report\n",
    "print('Classification report for TEST data: \\n {}'.format(classification_report(y_test, y_pred)))\n",
    "print(\"--------\"*10)\n",
    "\n",
    "## confusion matrix\n",
    "cm = confusion_matrix(y_test, y_pred)\n",
    "#cm = cm.astype('float') / cm.sum(axis=1)[:, np.newaxis] # normalize the data, remove fmt='d' from heatmap code!\n",
    "plt.figure()\n",
    "sns.heatmap(cm, cmap='YlGnBu', annot=True, fmt='d', linewidths=.5)\n",
    "plt.ylabel('True label')\n",
    "plt.xlabel('Predicted label')\n",
    "plt.title('Confusion matrix for TEST data (NB clf):');"
   ]
  },
  {
   "cell_type": "markdown",
   "metadata": {},
   "source": [
    "## ROC-AUC"
   ]
  },
  {
   "cell_type": "code",
   "execution_count": 41,
   "metadata": {},
   "outputs": [
    {
     "name": "stdout",
     "output_type": "stream",
     "text": [
      "No Skill: ROC AUC=0.500\n",
      "Logistic: ROC AUC=0.845\n"
     ]
    },
    {
     "data": {
      "image/png": "[encoded data removed]",
      "text/plain": [
       "<Figure size 432x288 with 1 Axes>"
      ]
     },
     "metadata": {
      "needs_background": "light"
     },
     "output_type": "display_data"
    }
   ],
   "source": [
    "# fit best model to training data\n",
    "best_log_reg.fit(X_train, y_train)\n",
    "\n",
    "# predict probabilities\n",
    "lr_probs = best_log_reg.predict_proba(X_test)\n",
    "\n",
    "# keep probabilities for the positive outcome only\n",
    "lr_probs = lr_probs[:, 1]\n",
    "\n",
    "# generate a no skill prediction (majority class) (does the same as the dummy classifier)\n",
    "ns_probs = [1 for _ in range(len(y_test))]\n",
    "\n",
    "# calculate scores\n",
    "ns_auc = roc_auc_score(y_test, ns_probs)\n",
    "lr_auc = roc_auc_score(y_test, lr_probs)\n",
    "\n",
    "# summarize scores\n",
    "print('No Skill: ROC AUC=%.3f' % (ns_auc))\n",
    "print('Logistic: ROC AUC=%.3f' % (lr_auc))\n",
    "\n",
    "# calculate roc curves\n",
    "ns_fpr, ns_tpr, _ = roc_curve(y_test, ns_probs)\n",
    "lr_fpr, lr_tpr, _ = roc_curve(y_test, lr_probs)\n",
    "\n",
    "# plot the roc curve for the model\n",
    "plt.plot(ns_fpr, ns_tpr, linestyle='--', label='Dummy')\n",
    "plt.plot(lr_fpr, lr_tpr, marker='.', label='LogReg')\n",
    "# axis labels\n",
    "plt.xlabel('False Positive Rate')\n",
    "plt.ylabel('True Positive Rate')\n",
    "# show the legend\n",
    "plt.legend()\n",
    "# show the plot\n",
    "plt.show()"
   ]
  },
  {
   "cell_type": "markdown",
   "metadata": {},
   "source": [
    "## Precision-Recall Curve"
   ]
  },
  {
   "cell_type": "code",
   "execution_count": 43,
   "metadata": {},
   "outputs": [
    {
     "name": "stdout",
     "output_type": "stream",
     "text": [
      "Logistic Regression: f1=0.810 auc=0.903\n"
     ]
    },
    {
     "data": {
      "image/png": "[encoded data removed]",
      "text/plain": [
       "<Figure size 432x288 with 1 Axes>"
      ]
     },
     "metadata": {
      "needs_background": "light"
     },
     "output_type": "display_data"
    }
   ],
   "source": [
    "# precision-recall curve and f1\n",
    "\n",
    "# predict class values\n",
    "yhat = best_log_reg.predict(X_test)\n",
    "lr_precision, lr_recall, _ = precision_recall_curve(y_test, lr_probs)\n",
    "lr_f1, lr_auc = f1_score(y_test, yhat), auc(lr_recall, lr_precision)\n",
    "\n",
    "# summarize scores\n",
    "print('Logistic Regression: f1=%.3f auc=%.3f' % (lr_f1, lr_auc))\n",
    "\n",
    "# plot the precision-recall curves\n",
    "no_skill = len(y_test[y_test==1]) / len(y_test)\n",
    "\n",
    "\n",
    "# plot the precision-recall curve for the model\n",
    "plt.plot([0, 1], [no_skill, no_skill], linestyle='--', label='Dummy')\n",
    "plt.plot(lr_recall, lr_precision, marker='.', label='LogReg')\n",
    "# axis labels\n",
    "plt.xlabel('Recall')\n",
    "plt.ylabel('Precision')\n",
    "# show the legend\n",
    "plt.legend()\n",
    "# show the plot\n",
    "plt.show();"
   ]
  },
  {
   "cell_type": "code",
   "execution_count": 45,
   "metadata": {},
   "outputs": [],
   "source": [
    "## save the model!\n",
    "\n",
    "import pickle\n",
    "\n",
    "filename = 'logreg_model.sav'\n",
    "pickle.dump(best_log_reg, open(filename, 'wb'))"
   ]
  }
 ],
 "metadata": {
  "interpreter": {
   "hash": "cbaf37d83a19e1b2581c71e29f60247c77efb6a13f584020ad679a19009e0051"
  },
  "kernelspec": {
   "display_name": "Python 3.9.4 64-bit ('.venv': venv)",
   "name": "python3"
  },
  "language_info": {
   "codemirror_mode": {
    "name": "ipython",
    "version": 3
   },
   "file_extension": ".py",
   "mimetype": "text/x-python",
   "name": "python",
   "nbconvert_exporter": "python",
   "pygments_lexer": "ipython3",
   "version": "3.9.4"
  },
  "orig_nbformat": 4
 },
 "nbformat": 4,
 "nbformat_minor": 2
}
