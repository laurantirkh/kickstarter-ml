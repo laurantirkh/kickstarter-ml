{
 "cells": [
  {
   "cell_type": "markdown",
   "metadata": {},
   "source": [
    "# Logistic Regression"
   ]
  },
  {
   "cell_type": "code",
   "execution_count": 1,
   "metadata": {},
   "outputs": [],
   "source": [
    "import pandas as pd\n",
    "import numpy as np\n",
    "\n",
    "import seaborn as sns\n",
    "import matplotlib.pyplot as plt\n",
    "%matplotlib inline\n",
    "\n",
    "from sklearn.metrics import classification_report, confusion_matrix\n",
    "from sklearn.model_selection import train_test_split\n",
    "from sklearn.pipeline import Pipeline\n",
    "from sklearn.linear_model import LogisticRegression\n",
    "\n",
    "from sklearn.compose import ColumnTransformer\n",
    "#from sklearn.preprocessing import StandardScaler, MinMaxScaler, OneHotEncoder\n",
    "from sklearn.model_selection import GridSearchCV, RandomizedSearchCV\n",
    "from sklearn.model_selection import cross_val_predict, cross_val_score, cross_validate\n",
    "from sklearn.metrics import roc_curve\n",
    "from sklearn.metrics import roc_auc_score\n",
    "from sklearn.metrics import precision_recall_curve\n",
    "from sklearn.metrics import f1_score\n",
    "from sklearn.metrics import auc\n",
    "\n"
   ]
  },
  {
   "cell_type": "code",
   "execution_count": 3,
   "metadata": {},
   "outputs": [
    {
     "name": "stdout",
     "output_type": "stream",
     "text": [
      "<class 'pandas.core.frame.DataFrame'>\n",
      "RangeIndex: 187812 entries, 0 to 187811\n",
      "Columns: 193 entries, state to \"slug\":\"theater/spaces\"\n",
      "dtypes: float64(2), int64(190), object(1)\n",
      "memory usage: 276.5+ MB\n"
     ]
    },
    {
     "data": {
      "text/html": [
       "<div>\n",
       "<style scoped>\n",
       "    .dataframe tbody tr th:only-of-type {\n",
       "        vertical-align: middle;\n",
       "    }\n",
       "\n",
       "    .dataframe tbody tr th {\n",
       "        vertical-align: top;\n",
       "    }\n",
       "\n",
       "    .dataframe thead th {\n",
       "        text-align: right;\n",
       "    }\n",
       "</style>\n",
       "<table border=\"1\" class=\"dataframe\">\n",
       "  <thead>\n",
       "    <tr style=\"text-align: right;\">\n",
       "      <th></th>\n",
       "      <th>state</th>\n",
       "      <th>goal_usd_log</th>\n",
       "      <th>name_len</th>\n",
       "      <th>delta_dead_laun</th>\n",
       "      <th>AU</th>\n",
       "      <th>BE</th>\n",
       "      <th>CA</th>\n",
       "      <th>CH</th>\n",
       "      <th>DE</th>\n",
       "      <th>DK</th>\n",
       "      <th>...</th>\n",
       "      <th>\"slug\":\"technology/wearables\"</th>\n",
       "      <th>\"slug\":\"technology/web\"</th>\n",
       "      <th>\"slug\":\"theater\"</th>\n",
       "      <th>\"slug\":\"theater/comedy\"</th>\n",
       "      <th>\"slug\":\"theater/experimental\"</th>\n",
       "      <th>\"slug\":\"theater/festivals\"</th>\n",
       "      <th>\"slug\":\"theater/immersive\"</th>\n",
       "      <th>\"slug\":\"theater/musical\"</th>\n",
       "      <th>\"slug\":\"theater/plays\"</th>\n",
       "      <th>\"slug\":\"theater/spaces\"</th>\n",
       "    </tr>\n",
       "  </thead>\n",
       "  <tbody>\n",
       "    <tr>\n",
       "      <th>0</th>\n",
       "      <td>successful</td>\n",
       "      <td>6.907755</td>\n",
       "      <td>23</td>\n",
       "      <td>720.0</td>\n",
       "      <td>0</td>\n",
       "      <td>0</td>\n",
       "      <td>0</td>\n",
       "      <td>0</td>\n",
       "      <td>0</td>\n",
       "      <td>0</td>\n",
       "      <td>...</td>\n",
       "      <td>0</td>\n",
       "      <td>0</td>\n",
       "      <td>0</td>\n",
       "      <td>0</td>\n",
       "      <td>0</td>\n",
       "      <td>0</td>\n",
       "      <td>0</td>\n",
       "      <td>0</td>\n",
       "      <td>0</td>\n",
       "      <td>0</td>\n",
       "    </tr>\n",
       "    <tr>\n",
       "      <th>1</th>\n",
       "      <td>successful</td>\n",
       "      <td>9.615805</td>\n",
       "      <td>51</td>\n",
       "      <td>720.0</td>\n",
       "      <td>0</td>\n",
       "      <td>0</td>\n",
       "      <td>0</td>\n",
       "      <td>0</td>\n",
       "      <td>0</td>\n",
       "      <td>0</td>\n",
       "      <td>...</td>\n",
       "      <td>0</td>\n",
       "      <td>0</td>\n",
       "      <td>0</td>\n",
       "      <td>0</td>\n",
       "      <td>0</td>\n",
       "      <td>0</td>\n",
       "      <td>0</td>\n",
       "      <td>0</td>\n",
       "      <td>0</td>\n",
       "      <td>0</td>\n",
       "    </tr>\n",
       "    <tr>\n",
       "      <th>2</th>\n",
       "      <td>failed</td>\n",
       "      <td>9.479141</td>\n",
       "      <td>34</td>\n",
       "      <td>1439.0</td>\n",
       "      <td>0</td>\n",
       "      <td>0</td>\n",
       "      <td>0</td>\n",
       "      <td>0</td>\n",
       "      <td>0</td>\n",
       "      <td>0</td>\n",
       "      <td>...</td>\n",
       "      <td>0</td>\n",
       "      <td>0</td>\n",
       "      <td>0</td>\n",
       "      <td>0</td>\n",
       "      <td>0</td>\n",
       "      <td>0</td>\n",
       "      <td>0</td>\n",
       "      <td>0</td>\n",
       "      <td>0</td>\n",
       "      <td>0</td>\n",
       "    </tr>\n",
       "    <tr>\n",
       "      <th>3</th>\n",
       "      <td>successful</td>\n",
       "      <td>7.937375</td>\n",
       "      <td>40</td>\n",
       "      <td>720.0</td>\n",
       "      <td>0</td>\n",
       "      <td>0</td>\n",
       "      <td>0</td>\n",
       "      <td>0</td>\n",
       "      <td>0</td>\n",
       "      <td>0</td>\n",
       "      <td>...</td>\n",
       "      <td>0</td>\n",
       "      <td>0</td>\n",
       "      <td>0</td>\n",
       "      <td>0</td>\n",
       "      <td>0</td>\n",
       "      <td>0</td>\n",
       "      <td>0</td>\n",
       "      <td>0</td>\n",
       "      <td>0</td>\n",
       "      <td>0</td>\n",
       "    </tr>\n",
       "    <tr>\n",
       "      <th>4</th>\n",
       "      <td>successful</td>\n",
       "      <td>8.160518</td>\n",
       "      <td>31</td>\n",
       "      <td>720.0</td>\n",
       "      <td>0</td>\n",
       "      <td>0</td>\n",
       "      <td>0</td>\n",
       "      <td>0</td>\n",
       "      <td>0</td>\n",
       "      <td>0</td>\n",
       "      <td>...</td>\n",
       "      <td>0</td>\n",
       "      <td>0</td>\n",
       "      <td>0</td>\n",
       "      <td>0</td>\n",
       "      <td>0</td>\n",
       "      <td>0</td>\n",
       "      <td>0</td>\n",
       "      <td>0</td>\n",
       "      <td>0</td>\n",
       "      <td>0</td>\n",
       "    </tr>\n",
       "  </tbody>\n",
       "</table>\n",
       "<p>5 rows × 193 columns</p>\n",
       "</div>"
      ],
      "text/plain": [
       "        state  goal_usd_log  name_len  delta_dead_laun  AU  BE  CA  CH  DE  \\\n",
       "0  successful      6.907755        23            720.0   0   0   0   0   0   \n",
       "1  successful      9.615805        51            720.0   0   0   0   0   0   \n",
       "2      failed      9.479141        34           1439.0   0   0   0   0   0   \n",
       "3  successful      7.937375        40            720.0   0   0   0   0   0   \n",
       "4  successful      8.160518        31            720.0   0   0   0   0   0   \n",
       "\n",
       "   DK  ...  \"slug\":\"technology/wearables\"  \"slug\":\"technology/web\"  \\\n",
       "0   0  ...                              0                        0   \n",
       "1   0  ...                              0                        0   \n",
       "2   0  ...                              0                        0   \n",
       "3   0  ...                              0                        0   \n",
       "4   0  ...                              0                        0   \n",
       "\n",
       "   \"slug\":\"theater\"  \"slug\":\"theater/comedy\"  \"slug\":\"theater/experimental\"  \\\n",
       "0                 0                        0                              0   \n",
       "1                 0                        0                              0   \n",
       "2                 0                        0                              0   \n",
       "3                 0                        0                              0   \n",
       "4                 0                        0                              0   \n",
       "\n",
       "   \"slug\":\"theater/festivals\"  \"slug\":\"theater/immersive\"  \\\n",
       "0                           0                           0   \n",
       "1                           0                           0   \n",
       "2                           0                           0   \n",
       "3                           0                           0   \n",
       "4                           0                           0   \n",
       "\n",
       "   \"slug\":\"theater/musical\"  \"slug\":\"theater/plays\"  \"slug\":\"theater/spaces\"  \n",
       "0                         0                       0                        0  \n",
       "1                         0                       0                        0  \n",
       "2                         0                       0                        0  \n",
       "3                         0                       0                        0  \n",
       "4                         0                       0                        0  \n",
       "\n",
       "[5 rows x 193 columns]"
      ]
     },
     "execution_count": 3,
     "metadata": {},
     "output_type": "execute_result"
    }
   ],
   "source": [
    "# load data\n",
    "df = pd.read_csv('data/df_eda2_cat.csv')\n",
    "df.info()\n",
    "df.head()"
   ]
  },
  {
   "cell_type": "code",
   "execution_count": 4,
   "metadata": {},
   "outputs": [
    {
     "data": {
      "text/html": [
       "<div>\n",
       "<style scoped>\n",
       "    .dataframe tbody tr th:only-of-type {\n",
       "        vertical-align: middle;\n",
       "    }\n",
       "\n",
       "    .dataframe tbody tr th {\n",
       "        vertical-align: top;\n",
       "    }\n",
       "\n",
       "    .dataframe thead th {\n",
       "        text-align: right;\n",
       "    }\n",
       "</style>\n",
       "<table border=\"1\" class=\"dataframe\">\n",
       "  <thead>\n",
       "    <tr style=\"text-align: right;\">\n",
       "      <th></th>\n",
       "      <th>state</th>\n",
       "      <th>goal_usd_log</th>\n",
       "      <th>name_len</th>\n",
       "      <th>delta_dead_laun</th>\n",
       "      <th>AU</th>\n",
       "      <th>BE</th>\n",
       "      <th>CA</th>\n",
       "      <th>CH</th>\n",
       "      <th>DE</th>\n",
       "      <th>DK</th>\n",
       "      <th>...</th>\n",
       "      <th>\"slug\":\"technology/wearables\"</th>\n",
       "      <th>\"slug\":\"technology/web\"</th>\n",
       "      <th>\"slug\":\"theater\"</th>\n",
       "      <th>\"slug\":\"theater/comedy\"</th>\n",
       "      <th>\"slug\":\"theater/experimental\"</th>\n",
       "      <th>\"slug\":\"theater/festivals\"</th>\n",
       "      <th>\"slug\":\"theater/immersive\"</th>\n",
       "      <th>\"slug\":\"theater/musical\"</th>\n",
       "      <th>\"slug\":\"theater/plays\"</th>\n",
       "      <th>\"slug\":\"theater/spaces\"</th>\n",
       "    </tr>\n",
       "  </thead>\n",
       "  <tbody>\n",
       "    <tr>\n",
       "      <th>0</th>\n",
       "      <td>1</td>\n",
       "      <td>6.907755</td>\n",
       "      <td>23</td>\n",
       "      <td>720.0</td>\n",
       "      <td>0</td>\n",
       "      <td>0</td>\n",
       "      <td>0</td>\n",
       "      <td>0</td>\n",
       "      <td>0</td>\n",
       "      <td>0</td>\n",
       "      <td>...</td>\n",
       "      <td>0</td>\n",
       "      <td>0</td>\n",
       "      <td>0</td>\n",
       "      <td>0</td>\n",
       "      <td>0</td>\n",
       "      <td>0</td>\n",
       "      <td>0</td>\n",
       "      <td>0</td>\n",
       "      <td>0</td>\n",
       "      <td>0</td>\n",
       "    </tr>\n",
       "    <tr>\n",
       "      <th>1</th>\n",
       "      <td>1</td>\n",
       "      <td>9.615805</td>\n",
       "      <td>51</td>\n",
       "      <td>720.0</td>\n",
       "      <td>0</td>\n",
       "      <td>0</td>\n",
       "      <td>0</td>\n",
       "      <td>0</td>\n",
       "      <td>0</td>\n",
       "      <td>0</td>\n",
       "      <td>...</td>\n",
       "      <td>0</td>\n",
       "      <td>0</td>\n",
       "      <td>0</td>\n",
       "      <td>0</td>\n",
       "      <td>0</td>\n",
       "      <td>0</td>\n",
       "      <td>0</td>\n",
       "      <td>0</td>\n",
       "      <td>0</td>\n",
       "      <td>0</td>\n",
       "    </tr>\n",
       "    <tr>\n",
       "      <th>2</th>\n",
       "      <td>0</td>\n",
       "      <td>9.479141</td>\n",
       "      <td>34</td>\n",
       "      <td>1439.0</td>\n",
       "      <td>0</td>\n",
       "      <td>0</td>\n",
       "      <td>0</td>\n",
       "      <td>0</td>\n",
       "      <td>0</td>\n",
       "      <td>0</td>\n",
       "      <td>...</td>\n",
       "      <td>0</td>\n",
       "      <td>0</td>\n",
       "      <td>0</td>\n",
       "      <td>0</td>\n",
       "      <td>0</td>\n",
       "      <td>0</td>\n",
       "      <td>0</td>\n",
       "      <td>0</td>\n",
       "      <td>0</td>\n",
       "      <td>0</td>\n",
       "    </tr>\n",
       "    <tr>\n",
       "      <th>3</th>\n",
       "      <td>1</td>\n",
       "      <td>7.937375</td>\n",
       "      <td>40</td>\n",
       "      <td>720.0</td>\n",
       "      <td>0</td>\n",
       "      <td>0</td>\n",
       "      <td>0</td>\n",
       "      <td>0</td>\n",
       "      <td>0</td>\n",
       "      <td>0</td>\n",
       "      <td>...</td>\n",
       "      <td>0</td>\n",
       "      <td>0</td>\n",
       "      <td>0</td>\n",
       "      <td>0</td>\n",
       "      <td>0</td>\n",
       "      <td>0</td>\n",
       "      <td>0</td>\n",
       "      <td>0</td>\n",
       "      <td>0</td>\n",
       "      <td>0</td>\n",
       "    </tr>\n",
       "    <tr>\n",
       "      <th>4</th>\n",
       "      <td>1</td>\n",
       "      <td>8.160518</td>\n",
       "      <td>31</td>\n",
       "      <td>720.0</td>\n",
       "      <td>0</td>\n",
       "      <td>0</td>\n",
       "      <td>0</td>\n",
       "      <td>0</td>\n",
       "      <td>0</td>\n",
       "      <td>0</td>\n",
       "      <td>...</td>\n",
       "      <td>0</td>\n",
       "      <td>0</td>\n",
       "      <td>0</td>\n",
       "      <td>0</td>\n",
       "      <td>0</td>\n",
       "      <td>0</td>\n",
       "      <td>0</td>\n",
       "      <td>0</td>\n",
       "      <td>0</td>\n",
       "      <td>0</td>\n",
       "    </tr>\n",
       "  </tbody>\n",
       "</table>\n",
       "<p>5 rows × 193 columns</p>\n",
       "</div>"
      ],
      "text/plain": [
       "   state  goal_usd_log  name_len  delta_dead_laun  AU  BE  CA  CH  DE  DK  \\\n",
       "0      1      6.907755        23            720.0   0   0   0   0   0   0   \n",
       "1      1      9.615805        51            720.0   0   0   0   0   0   0   \n",
       "2      0      9.479141        34           1439.0   0   0   0   0   0   0   \n",
       "3      1      7.937375        40            720.0   0   0   0   0   0   0   \n",
       "4      1      8.160518        31            720.0   0   0   0   0   0   0   \n",
       "\n",
       "   ...  \"slug\":\"technology/wearables\"  \"slug\":\"technology/web\"  \\\n",
       "0  ...                              0                        0   \n",
       "1  ...                              0                        0   \n",
       "2  ...                              0                        0   \n",
       "3  ...                              0                        0   \n",
       "4  ...                              0                        0   \n",
       "\n",
       "   \"slug\":\"theater\"  \"slug\":\"theater/comedy\"  \"slug\":\"theater/experimental\"  \\\n",
       "0                 0                        0                              0   \n",
       "1                 0                        0                              0   \n",
       "2                 0                        0                              0   \n",
       "3                 0                        0                              0   \n",
       "4                 0                        0                              0   \n",
       "\n",
       "   \"slug\":\"theater/festivals\"  \"slug\":\"theater/immersive\"  \\\n",
       "0                           0                           0   \n",
       "1                           0                           0   \n",
       "2                           0                           0   \n",
       "3                           0                           0   \n",
       "4                           0                           0   \n",
       "\n",
       "   \"slug\":\"theater/musical\"  \"slug\":\"theater/plays\"  \"slug\":\"theater/spaces\"  \n",
       "0                         0                       0                        0  \n",
       "1                         0                       0                        0  \n",
       "2                         0                       0                        0  \n",
       "3                         0                       0                        0  \n",
       "4                         0                       0                        0  \n",
       "\n",
       "[5 rows x 193 columns]"
      ]
     },
     "execution_count": 4,
     "metadata": {},
     "output_type": "execute_result"
    }
   ],
   "source": [
    "# convert target column ('state') to numeric values\n",
    "df['state'].replace({'failed':0, 'successful':1}, inplace=True)\n",
    "df.head()"
   ]
  },
  {
   "cell_type": "markdown",
   "metadata": {},
   "source": [
    "### Train Test Split"
   ]
  },
  {
   "cell_type": "code",
   "execution_count": 5,
   "metadata": {},
   "outputs": [
    {
     "data": {
      "text/html": [
       "<div>\n",
       "<style scoped>\n",
       "    .dataframe tbody tr th:only-of-type {\n",
       "        vertical-align: middle;\n",
       "    }\n",
       "\n",
       "    .dataframe tbody tr th {\n",
       "        vertical-align: top;\n",
       "    }\n",
       "\n",
       "    .dataframe thead th {\n",
       "        text-align: right;\n",
       "    }\n",
       "</style>\n",
       "<table border=\"1\" class=\"dataframe\">\n",
       "  <thead>\n",
       "    <tr style=\"text-align: right;\">\n",
       "      <th></th>\n",
       "      <th>goal_usd_log</th>\n",
       "      <th>name_len</th>\n",
       "      <th>delta_dead_laun</th>\n",
       "      <th>AU</th>\n",
       "      <th>BE</th>\n",
       "      <th>CA</th>\n",
       "      <th>CH</th>\n",
       "      <th>DE</th>\n",
       "      <th>DK</th>\n",
       "      <th>ES</th>\n",
       "      <th>...</th>\n",
       "      <th>\"slug\":\"technology/wearables\"</th>\n",
       "      <th>\"slug\":\"technology/web\"</th>\n",
       "      <th>\"slug\":\"theater\"</th>\n",
       "      <th>\"slug\":\"theater/comedy\"</th>\n",
       "      <th>\"slug\":\"theater/experimental\"</th>\n",
       "      <th>\"slug\":\"theater/festivals\"</th>\n",
       "      <th>\"slug\":\"theater/immersive\"</th>\n",
       "      <th>\"slug\":\"theater/musical\"</th>\n",
       "      <th>\"slug\":\"theater/plays\"</th>\n",
       "      <th>\"slug\":\"theater/spaces\"</th>\n",
       "    </tr>\n",
       "  </thead>\n",
       "  <tbody>\n",
       "    <tr>\n",
       "      <th>0</th>\n",
       "      <td>6.907755</td>\n",
       "      <td>23</td>\n",
       "      <td>720.0</td>\n",
       "      <td>0</td>\n",
       "      <td>0</td>\n",
       "      <td>0</td>\n",
       "      <td>0</td>\n",
       "      <td>0</td>\n",
       "      <td>0</td>\n",
       "      <td>0</td>\n",
       "      <td>...</td>\n",
       "      <td>0</td>\n",
       "      <td>0</td>\n",
       "      <td>0</td>\n",
       "      <td>0</td>\n",
       "      <td>0</td>\n",
       "      <td>0</td>\n",
       "      <td>0</td>\n",
       "      <td>0</td>\n",
       "      <td>0</td>\n",
       "      <td>0</td>\n",
       "    </tr>\n",
       "    <tr>\n",
       "      <th>1</th>\n",
       "      <td>9.615805</td>\n",
       "      <td>51</td>\n",
       "      <td>720.0</td>\n",
       "      <td>0</td>\n",
       "      <td>0</td>\n",
       "      <td>0</td>\n",
       "      <td>0</td>\n",
       "      <td>0</td>\n",
       "      <td>0</td>\n",
       "      <td>0</td>\n",
       "      <td>...</td>\n",
       "      <td>0</td>\n",
       "      <td>0</td>\n",
       "      <td>0</td>\n",
       "      <td>0</td>\n",
       "      <td>0</td>\n",
       "      <td>0</td>\n",
       "      <td>0</td>\n",
       "      <td>0</td>\n",
       "      <td>0</td>\n",
       "      <td>0</td>\n",
       "    </tr>\n",
       "    <tr>\n",
       "      <th>2</th>\n",
       "      <td>9.479141</td>\n",
       "      <td>34</td>\n",
       "      <td>1439.0</td>\n",
       "      <td>0</td>\n",
       "      <td>0</td>\n",
       "      <td>0</td>\n",
       "      <td>0</td>\n",
       "      <td>0</td>\n",
       "      <td>0</td>\n",
       "      <td>0</td>\n",
       "      <td>...</td>\n",
       "      <td>0</td>\n",
       "      <td>0</td>\n",
       "      <td>0</td>\n",
       "      <td>0</td>\n",
       "      <td>0</td>\n",
       "      <td>0</td>\n",
       "      <td>0</td>\n",
       "      <td>0</td>\n",
       "      <td>0</td>\n",
       "      <td>0</td>\n",
       "    </tr>\n",
       "    <tr>\n",
       "      <th>3</th>\n",
       "      <td>7.937375</td>\n",
       "      <td>40</td>\n",
       "      <td>720.0</td>\n",
       "      <td>0</td>\n",
       "      <td>0</td>\n",
       "      <td>0</td>\n",
       "      <td>0</td>\n",
       "      <td>0</td>\n",
       "      <td>0</td>\n",
       "      <td>0</td>\n",
       "      <td>...</td>\n",
       "      <td>0</td>\n",
       "      <td>0</td>\n",
       "      <td>0</td>\n",
       "      <td>0</td>\n",
       "      <td>0</td>\n",
       "      <td>0</td>\n",
       "      <td>0</td>\n",
       "      <td>0</td>\n",
       "      <td>0</td>\n",
       "      <td>0</td>\n",
       "    </tr>\n",
       "    <tr>\n",
       "      <th>4</th>\n",
       "      <td>8.160518</td>\n",
       "      <td>31</td>\n",
       "      <td>720.0</td>\n",
       "      <td>0</td>\n",
       "      <td>0</td>\n",
       "      <td>0</td>\n",
       "      <td>0</td>\n",
       "      <td>0</td>\n",
       "      <td>0</td>\n",
       "      <td>0</td>\n",
       "      <td>...</td>\n",
       "      <td>0</td>\n",
       "      <td>0</td>\n",
       "      <td>0</td>\n",
       "      <td>0</td>\n",
       "      <td>0</td>\n",
       "      <td>0</td>\n",
       "      <td>0</td>\n",
       "      <td>0</td>\n",
       "      <td>0</td>\n",
       "      <td>0</td>\n",
       "    </tr>\n",
       "  </tbody>\n",
       "</table>\n",
       "<p>5 rows × 192 columns</p>\n",
       "</div>"
      ],
      "text/plain": [
       "   goal_usd_log  name_len  delta_dead_laun  AU  BE  CA  CH  DE  DK  ES  ...  \\\n",
       "0      6.907755        23            720.0   0   0   0   0   0   0   0  ...   \n",
       "1      9.615805        51            720.0   0   0   0   0   0   0   0  ...   \n",
       "2      9.479141        34           1439.0   0   0   0   0   0   0   0  ...   \n",
       "3      7.937375        40            720.0   0   0   0   0   0   0   0  ...   \n",
       "4      8.160518        31            720.0   0   0   0   0   0   0   0  ...   \n",
       "\n",
       "   \"slug\":\"technology/wearables\"  \"slug\":\"technology/web\"  \"slug\":\"theater\"  \\\n",
       "0                              0                        0                 0   \n",
       "1                              0                        0                 0   \n",
       "2                              0                        0                 0   \n",
       "3                              0                        0                 0   \n",
       "4                              0                        0                 0   \n",
       "\n",
       "   \"slug\":\"theater/comedy\"  \"slug\":\"theater/experimental\"  \\\n",
       "0                        0                              0   \n",
       "1                        0                              0   \n",
       "2                        0                              0   \n",
       "3                        0                              0   \n",
       "4                        0                              0   \n",
       "\n",
       "   \"slug\":\"theater/festivals\"  \"slug\":\"theater/immersive\"  \\\n",
       "0                           0                           0   \n",
       "1                           0                           0   \n",
       "2                           0                           0   \n",
       "3                           0                           0   \n",
       "4                           0                           0   \n",
       "\n",
       "   \"slug\":\"theater/musical\"  \"slug\":\"theater/plays\"  \"slug\":\"theater/spaces\"  \n",
       "0                         0                       0                        0  \n",
       "1                         0                       0                        0  \n",
       "2                         0                       0                        0  \n",
       "3                         0                       0                        0  \n",
       "4                         0                       0                        0  \n",
       "\n",
       "[5 rows x 192 columns]"
      ]
     },
     "execution_count": 5,
     "metadata": {},
     "output_type": "execute_result"
    }
   ],
   "source": [
    "# split features from target (features: X, target: y)\n",
    "X = df.drop('state', axis=1)\n",
    "y = df['state']\n",
    "X.head()"
   ]
  },
  {
   "cell_type": "code",
   "execution_count": 6,
   "metadata": {},
   "outputs": [
    {
     "name": "stdout",
     "output_type": "stream",
     "text": [
      "X_train: (131468, 192)\n",
      "y_train: (131468,)\n",
      "X_test: (56344, 192)\n",
      "y_test: (56344,)\n"
     ]
    }
   ],
   "source": [
    "# Split data into train and test set\n",
    "X_train, X_test, y_train, y_test = train_test_split(X, y, test_size=0.3, random_state=42)\n",
    "\n",
    "# Check the shape of the data sets\n",
    "print(\"X_train:\", X_train.shape)\n",
    "print(\"y_train:\", y_train.shape)\n",
    "print(\"X_test:\", X_test.shape)\n",
    "print(\"y_test:\", y_test.shape)"
   ]
  },
  {
   "cell_type": "markdown",
   "metadata": {},
   "source": [
    "## Logistic Regression Classifier"
   ]
  },
  {
   "cell_type": "markdown",
   "metadata": {},
   "source": [
    "### simple logistic regression"
   ]
  },
  {
   "cell_type": "code",
   "execution_count": null,
   "metadata": {},
   "outputs": [],
   "source": [
    "# create logistic regression classifier\n",
    "\n",
    "# instantiate classifier\n",
    "lr_clf = LogisticRegression(max_iter=1000)\n",
    "# fit model to training data\n",
    "lr_clf.fit(X_train, y_train)\n",
    "\n",
    "# predict target values for train data\n",
    "y_pred_train = lr_clf.predict(X_train)\n",
    "# predict target values for test data\n",
    "y_pred = lr_clf.predict(X_test)\n"
   ]
  },
  {
   "cell_type": "code",
   "execution_count": null,
   "metadata": {},
   "outputs": [],
   "source": [
    "\n",
    "# Print classification reports for Logistic Regression\n",
    "\n",
    "## train data\n",
    "print('Classification report for TRAIN data: \\n {}'.format(classification_report(y_train, y_pred_train)))\n",
    "print(\"--------\"*10)\n",
    "\n",
    "## test data\n",
    "print('Classification report for TEST data: \\n {}'.format(classification_report(y_test, y_pred)))\n",
    "print(\"--------\"*10)"
   ]
  },
  {
   "cell_type": "code",
   "execution_count": null,
   "metadata": {},
   "outputs": [],
   "source": [
    "# Evaluate the model with a confusion matrix\n",
    "## train data\n",
    "cm = confusion_matrix(y_train, y_pred_train)\n",
    "#cm = cm.astype('float') / cm.sum(axis=1)[:, np.newaxis] # normalize the data, remove fmt='d' from heatmap code!\n",
    "plt.figure()\n",
    "sns.heatmap(cm, cmap='YlGnBu', annot=True, fmt='d', linewidths=.5)\n",
    "plt.ylabel('True label')\n",
    "plt.xlabel('Predicted label')\n",
    "plt.title('Confusion matrix for TRAIN data (NB clf):');\n",
    "\n",
    "## test data\n",
    "cm = confusion_matrix(y_test, y_pred)\n",
    "#cm = cm.astype('float') / cm.sum(axis=1)[:, np.newaxis] # normalize the data, remove fmt='d' from heatmap code!\n",
    "plt.figure()\n",
    "sns.heatmap(cm, cmap='YlGnBu', annot=True, fmt='d', linewidths=.5)\n",
    "plt.ylabel('True label')\n",
    "plt.xlabel('Predicted label')\n",
    "plt.title('Confusion matrix for TEST data (NB clf):');"
   ]
  },
  {
   "cell_type": "markdown",
   "metadata": {},
   "source": [
    "## Hyperparameter Tuning"
   ]
  },
  {
   "cell_type": "code",
   "execution_count": null,
   "metadata": {},
   "outputs": [],
   "source": [
    "param_lr = {'penalty':('l1','l2'), \n",
    "            'C': [0.0001, 0.001, 0.01, 0.1, 1, 10, 100, 1000],\n",
    "            'solver': ['liblinear', 'lbfgs', 'sag', ]\n",
    "               }\n",
    "\n",
    "grid_lr = GridSearchCV(lr_clf, param_grid=param_lr, cv=5, scoring='f1', \n",
    "                           verbose=5, n_jobs=-1)\n",
    "\n",
    "grid_lr.fit(X_train, y_train)"
   ]
  },
  {
   "cell_type": "markdown",
   "metadata": {},
   "source": []
  },
  {
   "cell_type": "code",
   "execution_count": null,
   "metadata": {},
   "outputs": [],
   "source": [
    "## CURRENTLY FOR SCORE='F1'\n",
    "\n",
    "# Show best parameters\n",
    "print('Best score:\\n{:.2f}'.format(grid_lr.best_score_))\n",
    "print(\"Best parameters:\\n{}\".format(grid_lr.best_params_))\n",
    "\n",
    "# Save best model as best_model\n",
    "best_log_reg = grid_lr.best_estimator_\n",
    "print(best_log_reg)"
   ]
  },
  {
   "cell_type": "code",
   "execution_count": 7,
   "metadata": {},
   "outputs": [
    {
     "name": "stdout",
     "output_type": "stream",
     "text": [
      "LogisticRegression(C=0.01, max_iter=1000, solver='liblinear')\n"
     ]
    }
   ],
   "source": [
    "# load the pickled model from disk\n",
    "import pickle\n",
    "\n",
    "filename = 'logreg_model.sav'\n",
    "best_log_reg = pickle.load(open(filename, 'rb'))\n",
    "print(best_log_reg)"
   ]
  },
  {
   "cell_type": "code",
   "execution_count": 8,
   "metadata": {},
   "outputs": [
    {
     "name": "stdout",
     "output_type": "stream",
     "text": [
      "Classification report for TEST data: \n",
      "               precision    recall  f1-score   support\n",
      "\n",
      "           0       0.72      0.63      0.67     22082\n",
      "           1       0.78      0.84      0.81     34262\n",
      "\n",
      "    accuracy                           0.76     56344\n",
      "   macro avg       0.75      0.74      0.74     56344\n",
      "weighted avg       0.76      0.76      0.76     56344\n",
      "\n",
      "--------------------------------------------------------------------------------\n"
     ]
    },
    {
     "data": {
      "image/png": "[encoded data removed]",
      "text/plain": [
       "<Figure size 432x288 with 2 Axes>"
      ]
     },
     "metadata": {
      "needs_background": "light"
     },
     "output_type": "display_data"
    }
   ],
   "source": [
    "# evaluate test set\n",
    "y_pred = best_log_reg.predict(X_test)\n",
    "\n",
    "## classification report\n",
    "print('Classification report for TEST data: \\n {}'.format(classification_report(y_test, y_pred)))\n",
    "print(\"--------\"*10)\n",
    "\n",
    "## confusion matrix\n",
    "cm = confusion_matrix(y_test, y_pred)\n",
    "#cm = cm.astype('float') / cm.sum(axis=1)[:, np.newaxis] # normalize the data, remove fmt='d' from heatmap code!\n",
    "plt.figure()\n",
    "sns.heatmap(cm, cmap='YlGnBu', annot=True, fmt='d', linewidths=.5)\n",
    "plt.ylabel('True label')\n",
    "plt.xlabel('Predicted label')\n",
    "plt.title('Confusion matrix for TEST data (log_reg clf):');"
   ]
  },
  {
   "cell_type": "markdown",
   "metadata": {},
   "source": [
    "## ROC-AUC"
   ]
  },
  {
   "cell_type": "code",
   "execution_count": 9,
   "metadata": {},
   "outputs": [
    {
     "name": "stdout",
     "output_type": "stream",
     "text": [
      "No Skill: ROC AUC=0.500\n",
      "Logistic: ROC AUC=0.845\n"
     ]
    },
    {
     "data": {
      "image/png": "[encoded data removed]",
      "text/plain": [
       "<Figure size 432x288 with 1 Axes>"
      ]
     },
     "metadata": {
      "needs_background": "light"
     },
     "output_type": "display_data"
    }
   ],
   "source": [
    "# fit best model to training data\n",
    "best_log_reg.fit(X_train, y_train)\n",
    "\n",
    "# predict probabilities\n",
    "lr_probs = best_log_reg.predict_proba(X_test)\n",
    "\n",
    "# keep probabilities for the positive outcome only\n",
    "lr_probs = lr_probs[:, 1]\n",
    "\n",
    "# generate a no skill prediction (majority class) (does the same as the dummy classifier)\n",
    "ns_probs = [1 for _ in range(len(y_test))]\n",
    "\n",
    "# calculate scores\n",
    "ns_auc = roc_auc_score(y_test, ns_probs)\n",
    "lr_auc = roc_auc_score(y_test, lr_probs)\n",
    "\n",
    "# summarize scores\n",
    "print('No Skill: ROC AUC=%.3f' % (ns_auc))\n",
    "print('Logistic: ROC AUC=%.3f' % (lr_auc))\n",
    "\n",
    "# calculate roc curves\n",
    "ns_fpr, ns_tpr, _ = roc_curve(y_test, ns_probs)\n",
    "lr_fpr, lr_tpr, _ = roc_curve(y_test, lr_probs)\n",
    "\n",
    "# plot the roc curve for the model\n",
    "plt.plot(ns_fpr, ns_tpr, linestyle='--', label='Dummy')\n",
    "plt.plot(lr_fpr, lr_tpr, marker='.', label='LogReg')\n",
    "# axis labels\n",
    "plt.xlabel('False Positive Rate')\n",
    "plt.ylabel('True Positive Rate')\n",
    "# show the legend\n",
    "plt.legend()\n",
    "# show the plot\n",
    "plt.show()"
   ]
  },
  {
   "cell_type": "markdown",
   "metadata": {},
   "source": [
    "## Precision-Recall Curve"
   ]
  },
  {
   "cell_type": "code",
   "execution_count": 10,
   "metadata": {},
   "outputs": [
    {
     "name": "stdout",
     "output_type": "stream",
     "text": [
      "Logistic Regression: f1=0.810 auc=0.903\n"
     ]
    },
    {
     "data": {
      "image/png": "[encoded data removed]",
      "text/plain": [
       "<Figure size 432x288 with 1 Axes>"
      ]
     },
     "metadata": {
      "needs_background": "light"
     },
     "output_type": "display_data"
    }
   ],
   "source": [
    "# precision-recall curve and f1\n",
    "\n",
    "# predict class values\n",
    "yhat = best_log_reg.predict(X_test)\n",
    "lr_precision, lr_recall, _ = precision_recall_curve(y_test, lr_probs)\n",
    "lr_f1, lr_auc = f1_score(y_test, yhat), auc(lr_recall, lr_precision)\n",
    "\n",
    "# summarize scores\n",
    "print('Logistic Regression: f1=%.3f auc=%.3f' % (lr_f1, lr_auc))\n",
    "\n",
    "# plot the precision-recall curves\n",
    "no_skill = len(y_test[y_test==1]) / len(y_test)\n",
    "\n",
    "\n",
    "# plot the precision-recall curve for the model\n",
    "plt.plot([0, 1], [no_skill, no_skill], linestyle='--', label='Dummy')\n",
    "plt.plot(lr_recall, lr_precision, marker='.', label='LogReg')\n",
    "# axis labels\n",
    "plt.xlabel('Recall')\n",
    "plt.ylabel('Precision')\n",
    "# show the legend\n",
    "plt.legend()\n",
    "# show the plot\n",
    "plt.show();"
   ]
  },
  {
   "cell_type": "code",
   "execution_count": null,
   "metadata": {},
   "outputs": [],
   "source": [
    "## save the model!\n",
    "\n",
    "#import pickle\n",
    "\n",
    "#filename = 'logreg_model.sav'\n",
    "#pickle.dump(best_log_reg, open(filename, 'wb'))"
   ]
  },
  {
   "cell_type": "markdown",
   "metadata": {},
   "source": [
    "## Error Analysis"
   ]
  },
  {
   "cell_type": "code",
   "execution_count": 15,
   "metadata": {},
   "outputs": [
    {
     "name": "stdout",
     "output_type": "stream",
     "text": [
      "<class 'pandas.core.frame.DataFrame'>\n",
      "RangeIndex: 187812 entries, 0 to 187811\n",
      "Data columns (total 6 columns):\n",
      " #   Column           Non-Null Count   Dtype  \n",
      "---  ------           --------------   -----  \n",
      " 0   country          187812 non-null  object \n",
      " 1   state            187812 non-null  object \n",
      " 2   goal_usd_log     187812 non-null  float64\n",
      " 3   name_len         187812 non-null  int64  \n",
      " 4   category         187812 non-null  object \n",
      " 5   delta_dead_laun  187812 non-null  float64\n",
      "dtypes: float64(2), int64(1), object(3)\n",
      "memory usage: 8.6+ MB\n"
     ]
    }
   ],
   "source": [
    "# make new dataframe consisting of X_test, y_test, y_pred\n",
    "# use X_test and y_test from before one-hot encoding!\n",
    "df_non_cat = pd.read_csv('data/df_eda2.csv')\n",
    "df_non_cat.info()\n"
   ]
  },
  {
   "cell_type": "code",
   "execution_count": 16,
   "metadata": {},
   "outputs": [
    {
     "data": {
      "text/html": [
       "<div>\n",
       "<style scoped>\n",
       "    .dataframe tbody tr th:only-of-type {\n",
       "        vertical-align: middle;\n",
       "    }\n",
       "\n",
       "    .dataframe tbody tr th {\n",
       "        vertical-align: top;\n",
       "    }\n",
       "\n",
       "    .dataframe thead th {\n",
       "        text-align: right;\n",
       "    }\n",
       "</style>\n",
       "<table border=\"1\" class=\"dataframe\">\n",
       "  <thead>\n",
       "    <tr style=\"text-align: right;\">\n",
       "      <th></th>\n",
       "      <th>country</th>\n",
       "      <th>state</th>\n",
       "      <th>goal_usd_log</th>\n",
       "      <th>name_len</th>\n",
       "      <th>category</th>\n",
       "      <th>delta_dead_laun</th>\n",
       "    </tr>\n",
       "  </thead>\n",
       "  <tbody>\n",
       "    <tr>\n",
       "      <th>0</th>\n",
       "      <td>US</td>\n",
       "      <td>1</td>\n",
       "      <td>6.907755</td>\n",
       "      <td>23</td>\n",
       "      <td>\"slug\":\"games/playing cards\"</td>\n",
       "      <td>720.0</td>\n",
       "    </tr>\n",
       "    <tr>\n",
       "      <th>1</th>\n",
       "      <td>US</td>\n",
       "      <td>1</td>\n",
       "      <td>9.615805</td>\n",
       "      <td>51</td>\n",
       "      <td>\"slug\":\"music/rock\"</td>\n",
       "      <td>720.0</td>\n",
       "    </tr>\n",
       "    <tr>\n",
       "      <th>2</th>\n",
       "      <td>GB</td>\n",
       "      <td>0</td>\n",
       "      <td>9.479141</td>\n",
       "      <td>34</td>\n",
       "      <td>\"slug\":\"games/playing cards\"</td>\n",
       "      <td>1439.0</td>\n",
       "    </tr>\n",
       "    <tr>\n",
       "      <th>3</th>\n",
       "      <td>US</td>\n",
       "      <td>1</td>\n",
       "      <td>7.937375</td>\n",
       "      <td>40</td>\n",
       "      <td>\"slug\":\"publishing/nonfiction\"</td>\n",
       "      <td>720.0</td>\n",
       "    </tr>\n",
       "    <tr>\n",
       "      <th>4</th>\n",
       "      <td>US</td>\n",
       "      <td>1</td>\n",
       "      <td>8.160518</td>\n",
       "      <td>31</td>\n",
       "      <td>\"slug\":\"music/classical music\"</td>\n",
       "      <td>720.0</td>\n",
       "    </tr>\n",
       "  </tbody>\n",
       "</table>\n",
       "</div>"
      ],
      "text/plain": [
       "  country  state  goal_usd_log  name_len                        category  \\\n",
       "0      US      1      6.907755        23    \"slug\":\"games/playing cards\"   \n",
       "1      US      1      9.615805        51             \"slug\":\"music/rock\"   \n",
       "2      GB      0      9.479141        34    \"slug\":\"games/playing cards\"   \n",
       "3      US      1      7.937375        40  \"slug\":\"publishing/nonfiction\"   \n",
       "4      US      1      8.160518        31  \"slug\":\"music/classical music\"   \n",
       "\n",
       "   delta_dead_laun  \n",
       "0            720.0  \n",
       "1            720.0  \n",
       "2           1439.0  \n",
       "3            720.0  \n",
       "4            720.0  "
      ]
     },
     "execution_count": 16,
     "metadata": {},
     "output_type": "execute_result"
    }
   ],
   "source": [
    "# convert target column ('state') to numeric values\n",
    "df_non_cat['state'].replace({'failed':0, 'successful':1}, inplace=True)\n",
    "df_non_cat.head()"
   ]
  },
  {
   "cell_type": "code",
   "execution_count": 17,
   "metadata": {},
   "outputs": [
    {
     "data": {
      "text/html": [
       "<div>\n",
       "<style scoped>\n",
       "    .dataframe tbody tr th:only-of-type {\n",
       "        vertical-align: middle;\n",
       "    }\n",
       "\n",
       "    .dataframe tbody tr th {\n",
       "        vertical-align: top;\n",
       "    }\n",
       "\n",
       "    .dataframe thead th {\n",
       "        text-align: right;\n",
       "    }\n",
       "</style>\n",
       "<table border=\"1\" class=\"dataframe\">\n",
       "  <thead>\n",
       "    <tr style=\"text-align: right;\">\n",
       "      <th></th>\n",
       "      <th>country</th>\n",
       "      <th>goal_usd_log</th>\n",
       "      <th>name_len</th>\n",
       "      <th>category</th>\n",
       "      <th>delta_dead_laun</th>\n",
       "    </tr>\n",
       "  </thead>\n",
       "  <tbody>\n",
       "    <tr>\n",
       "      <th>0</th>\n",
       "      <td>US</td>\n",
       "      <td>6.907755</td>\n",
       "      <td>23</td>\n",
       "      <td>\"slug\":\"games/playing cards\"</td>\n",
       "      <td>720.0</td>\n",
       "    </tr>\n",
       "    <tr>\n",
       "      <th>1</th>\n",
       "      <td>US</td>\n",
       "      <td>9.615805</td>\n",
       "      <td>51</td>\n",
       "      <td>\"slug\":\"music/rock\"</td>\n",
       "      <td>720.0</td>\n",
       "    </tr>\n",
       "    <tr>\n",
       "      <th>2</th>\n",
       "      <td>GB</td>\n",
       "      <td>9.479141</td>\n",
       "      <td>34</td>\n",
       "      <td>\"slug\":\"games/playing cards\"</td>\n",
       "      <td>1439.0</td>\n",
       "    </tr>\n",
       "    <tr>\n",
       "      <th>3</th>\n",
       "      <td>US</td>\n",
       "      <td>7.937375</td>\n",
       "      <td>40</td>\n",
       "      <td>\"slug\":\"publishing/nonfiction\"</td>\n",
       "      <td>720.0</td>\n",
       "    </tr>\n",
       "    <tr>\n",
       "      <th>4</th>\n",
       "      <td>US</td>\n",
       "      <td>8.160518</td>\n",
       "      <td>31</td>\n",
       "      <td>\"slug\":\"music/classical music\"</td>\n",
       "      <td>720.0</td>\n",
       "    </tr>\n",
       "  </tbody>\n",
       "</table>\n",
       "</div>"
      ],
      "text/plain": [
       "  country  goal_usd_log  name_len                        category  \\\n",
       "0      US      6.907755        23    \"slug\":\"games/playing cards\"   \n",
       "1      US      9.615805        51             \"slug\":\"music/rock\"   \n",
       "2      GB      9.479141        34    \"slug\":\"games/playing cards\"   \n",
       "3      US      7.937375        40  \"slug\":\"publishing/nonfiction\"   \n",
       "4      US      8.160518        31  \"slug\":\"music/classical music\"   \n",
       "\n",
       "   delta_dead_laun  \n",
       "0            720.0  \n",
       "1            720.0  \n",
       "2           1439.0  \n",
       "3            720.0  \n",
       "4            720.0  "
      ]
     },
     "execution_count": 17,
     "metadata": {},
     "output_type": "execute_result"
    }
   ],
   "source": [
    "\n",
    "# split features from target (features: X, target: y)\n",
    "X = df_non_cat.drop('state', axis=1)\n",
    "y = df_non_cat['state']\n",
    "X.head()\n"
   ]
  },
  {
   "cell_type": "code",
   "execution_count": 18,
   "metadata": {},
   "outputs": [
    {
     "name": "stdout",
     "output_type": "stream",
     "text": [
      "X_train: (131468, 5)\n",
      "y_train: (131468,)\n",
      "X_test: (56344, 5)\n",
      "y_test: (56344,)\n"
     ]
    }
   ],
   "source": [
    "\n",
    "# Split data into train and test set\n",
    "X_train, X_test, y_train, y_test = train_test_split(X, y, test_size=0.3, random_state=42)\n",
    "\n",
    "# Check the shape of the data sets\n",
    "print(\"X_train:\", X_train.shape)\n",
    "print(\"y_train:\", y_train.shape)\n",
    "print(\"X_test:\", X_test.shape)\n",
    "print(\"y_test:\", y_test.shape)\n"
   ]
  },
  {
   "cell_type": "code",
   "execution_count": 19,
   "metadata": {},
   "outputs": [],
   "source": [
    "X_test.head()\n",
    "X_test_reset = X_test.reset_index()\n",
    "\n",
    "y_test_reset = y_test.reset_index()"
   ]
  },
  {
   "cell_type": "code",
   "execution_count": 20,
   "metadata": {},
   "outputs": [
    {
     "name": "stdout",
     "output_type": "stream",
     "text": [
      "<class 'pandas.core.frame.DataFrame'>\n",
      "RangeIndex: 56344 entries, 0 to 56343\n",
      "Data columns (total 1 columns):\n",
      " #   Column      Non-Null Count  Dtype\n",
      "---  ------      --------------  -----\n",
      " 0   state_pred  56344 non-null  int64\n",
      "dtypes: int64(1)\n",
      "memory usage: 440.3 KB\n"
     ]
    },
    {
     "data": {
      "text/html": [
       "<div>\n",
       "<style scoped>\n",
       "    .dataframe tbody tr th:only-of-type {\n",
       "        vertical-align: middle;\n",
       "    }\n",
       "\n",
       "    .dataframe tbody tr th {\n",
       "        vertical-align: top;\n",
       "    }\n",
       "\n",
       "    .dataframe thead th {\n",
       "        text-align: right;\n",
       "    }\n",
       "</style>\n",
       "<table border=\"1\" class=\"dataframe\">\n",
       "  <thead>\n",
       "    <tr style=\"text-align: right;\">\n",
       "      <th></th>\n",
       "      <th>state_pred</th>\n",
       "    </tr>\n",
       "  </thead>\n",
       "  <tbody>\n",
       "    <tr>\n",
       "      <th>0</th>\n",
       "      <td>1</td>\n",
       "    </tr>\n",
       "    <tr>\n",
       "      <th>1</th>\n",
       "      <td>1</td>\n",
       "    </tr>\n",
       "    <tr>\n",
       "      <th>2</th>\n",
       "      <td>0</td>\n",
       "    </tr>\n",
       "    <tr>\n",
       "      <th>3</th>\n",
       "      <td>1</td>\n",
       "    </tr>\n",
       "    <tr>\n",
       "      <th>4</th>\n",
       "      <td>1</td>\n",
       "    </tr>\n",
       "  </tbody>\n",
       "</table>\n",
       "</div>"
      ],
      "text/plain": [
       "   state_pred\n",
       "0           1\n",
       "1           1\n",
       "2           0\n",
       "3           1\n",
       "4           1"
      ]
     },
     "execution_count": 20,
     "metadata": {},
     "output_type": "execute_result"
    }
   ],
   "source": [
    "# combine X_test, y_test and y_pred\n",
    "\n",
    "y_pred_df = pd.DataFrame(y_pred)\n",
    "y_pred_df['state_pred'] = y_pred_df.loc[:,0]\n",
    "y_pred_df.drop(0, inplace=True, axis=1)\n",
    "y_pred_df.info()\n",
    "y_pred_df.head()"
   ]
  },
  {
   "cell_type": "code",
   "execution_count": 21,
   "metadata": {},
   "outputs": [
    {
     "data": {
      "text/html": [
       "<div>\n",
       "<style scoped>\n",
       "    .dataframe tbody tr th:only-of-type {\n",
       "        vertical-align: middle;\n",
       "    }\n",
       "\n",
       "    .dataframe tbody tr th {\n",
       "        vertical-align: top;\n",
       "    }\n",
       "\n",
       "    .dataframe thead th {\n",
       "        text-align: right;\n",
       "    }\n",
       "</style>\n",
       "<table border=\"1\" class=\"dataframe\">\n",
       "  <thead>\n",
       "    <tr style=\"text-align: right;\">\n",
       "      <th></th>\n",
       "      <th>index</th>\n",
       "      <th>country</th>\n",
       "      <th>goal_usd_log</th>\n",
       "      <th>name_len</th>\n",
       "      <th>category</th>\n",
       "      <th>delta_dead_laun</th>\n",
       "      <th>index</th>\n",
       "      <th>state</th>\n",
       "      <th>state_pred</th>\n",
       "    </tr>\n",
       "  </thead>\n",
       "  <tbody>\n",
       "    <tr>\n",
       "      <th>0</th>\n",
       "      <td>177305</td>\n",
       "      <td>US</td>\n",
       "      <td>8.704502</td>\n",
       "      <td>54</td>\n",
       "      <td>\"slug\":\"film &amp; video/animation\"</td>\n",
       "      <td>360.0</td>\n",
       "      <td>177305</td>\n",
       "      <td>1</td>\n",
       "      <td>1</td>\n",
       "    </tr>\n",
       "    <tr>\n",
       "      <th>1</th>\n",
       "      <td>162338</td>\n",
       "      <td>US</td>\n",
       "      <td>8.517193</td>\n",
       "      <td>23</td>\n",
       "      <td>\"slug\":\"music/rock\"</td>\n",
       "      <td>720.0</td>\n",
       "      <td>162338</td>\n",
       "      <td>1</td>\n",
       "      <td>1</td>\n",
       "    </tr>\n",
       "    <tr>\n",
       "      <th>2</th>\n",
       "      <td>67273</td>\n",
       "      <td>US</td>\n",
       "      <td>6.214608</td>\n",
       "      <td>24</td>\n",
       "      <td>\"slug\":\"crafts/woodworking\"</td>\n",
       "      <td>1080.0</td>\n",
       "      <td>67273</td>\n",
       "      <td>1</td>\n",
       "      <td>0</td>\n",
       "    </tr>\n",
       "    <tr>\n",
       "      <th>3</th>\n",
       "      <td>34776</td>\n",
       "      <td>US</td>\n",
       "      <td>10.126631</td>\n",
       "      <td>37</td>\n",
       "      <td>\"slug\":\"film &amp; video/narrative film\"</td>\n",
       "      <td>720.0</td>\n",
       "      <td>34776</td>\n",
       "      <td>1</td>\n",
       "      <td>1</td>\n",
       "    </tr>\n",
       "    <tr>\n",
       "      <th>4</th>\n",
       "      <td>71285</td>\n",
       "      <td>US</td>\n",
       "      <td>7.170120</td>\n",
       "      <td>52</td>\n",
       "      <td>\"slug\":\"art/public art\"</td>\n",
       "      <td>720.0</td>\n",
       "      <td>71285</td>\n",
       "      <td>1</td>\n",
       "      <td>1</td>\n",
       "    </tr>\n",
       "  </tbody>\n",
       "</table>\n",
       "</div>"
      ],
      "text/plain": [
       "    index country  goal_usd_log  name_len  \\\n",
       "0  177305      US      8.704502        54   \n",
       "1  162338      US      8.517193        23   \n",
       "2   67273      US      6.214608        24   \n",
       "3   34776      US     10.126631        37   \n",
       "4   71285      US      7.170120        52   \n",
       "\n",
       "                               category  delta_dead_laun   index  state  \\\n",
       "0       \"slug\":\"film & video/animation\"            360.0  177305      1   \n",
       "1                   \"slug\":\"music/rock\"            720.0  162338      1   \n",
       "2           \"slug\":\"crafts/woodworking\"           1080.0   67273      1   \n",
       "3  \"slug\":\"film & video/narrative film\"            720.0   34776      1   \n",
       "4               \"slug\":\"art/public art\"            720.0   71285      1   \n",
       "\n",
       "   state_pred  \n",
       "0           1  \n",
       "1           1  \n",
       "2           0  \n",
       "3           1  \n",
       "4           1  "
      ]
     },
     "execution_count": 21,
     "metadata": {},
     "output_type": "execute_result"
    }
   ],
   "source": [
    "\n",
    "df_error = pd.concat([X_test_reset, y_test_reset, y_pred_df], axis=1)\n",
    "df_error.head()\n",
    "#df_error.info()\n"
   ]
  },
  {
   "cell_type": "markdown",
   "metadata": {},
   "source": [
    "### split into false negatives (state = 1 and state_pred = 0) and false positives (state = 0 and state_pred = 1)"
   ]
  },
  {
   "cell_type": "code",
   "execution_count": 25,
   "metadata": {},
   "outputs": [
    {
     "name": "stdout",
     "output_type": "stream",
     "text": [
      "<class 'pandas.core.frame.DataFrame'>\n",
      "Int64Index: 8173 entries, 10 to 56341\n",
      "Data columns (total 9 columns):\n",
      " #   Column           Non-Null Count  Dtype  \n",
      "---  ------           --------------  -----  \n",
      " 0   index            8173 non-null   int64  \n",
      " 1   country          8173 non-null   object \n",
      " 2   goal_usd_log     8173 non-null   float64\n",
      " 3   name_len         8173 non-null   int64  \n",
      " 4   category         8173 non-null   object \n",
      " 5   delta_dead_laun  8173 non-null   float64\n",
      " 6   index            8173 non-null   int64  \n",
      " 7   state            8173 non-null   int64  \n",
      " 8   state_pred       8173 non-null   int64  \n",
      "dtypes: float64(2), int64(5), object(2)\n",
      "memory usage: 638.5+ KB\n"
     ]
    },
    {
     "data": {
      "text/html": [
       "<div>\n",
       "<style scoped>\n",
       "    .dataframe tbody tr th:only-of-type {\n",
       "        vertical-align: middle;\n",
       "    }\n",
       "\n",
       "    .dataframe tbody tr th {\n",
       "        vertical-align: top;\n",
       "    }\n",
       "\n",
       "    .dataframe thead th {\n",
       "        text-align: right;\n",
       "    }\n",
       "</style>\n",
       "<table border=\"1\" class=\"dataframe\">\n",
       "  <thead>\n",
       "    <tr style=\"text-align: right;\">\n",
       "      <th></th>\n",
       "      <th>index</th>\n",
       "      <th>country</th>\n",
       "      <th>goal_usd_log</th>\n",
       "      <th>name_len</th>\n",
       "      <th>category</th>\n",
       "      <th>delta_dead_laun</th>\n",
       "      <th>index</th>\n",
       "      <th>state</th>\n",
       "      <th>state_pred</th>\n",
       "    </tr>\n",
       "  </thead>\n",
       "  <tbody>\n",
       "    <tr>\n",
       "      <th>10</th>\n",
       "      <td>46777</td>\n",
       "      <td>US</td>\n",
       "      <td>9.210340</td>\n",
       "      <td>22</td>\n",
       "      <td>\"slug\":\"film &amp; video/narrative film\"</td>\n",
       "      <td>721.0</td>\n",
       "      <td>46777</td>\n",
       "      <td>0</td>\n",
       "      <td>1</td>\n",
       "    </tr>\n",
       "    <tr>\n",
       "      <th>23</th>\n",
       "      <td>174980</td>\n",
       "      <td>GB</td>\n",
       "      <td>9.122466</td>\n",
       "      <td>60</td>\n",
       "      <td>\"slug\":\"fashion/footwear\"</td>\n",
       "      <td>696.0</td>\n",
       "      <td>174980</td>\n",
       "      <td>0</td>\n",
       "      <td>1</td>\n",
       "    </tr>\n",
       "    <tr>\n",
       "      <th>38</th>\n",
       "      <td>117400</td>\n",
       "      <td>US</td>\n",
       "      <td>7.313220</td>\n",
       "      <td>18</td>\n",
       "      <td>\"slug\":\"crafts/crochet\"</td>\n",
       "      <td>720.0</td>\n",
       "      <td>117400</td>\n",
       "      <td>0</td>\n",
       "      <td>1</td>\n",
       "    </tr>\n",
       "    <tr>\n",
       "      <th>41</th>\n",
       "      <td>169557</td>\n",
       "      <td>US</td>\n",
       "      <td>9.433484</td>\n",
       "      <td>60</td>\n",
       "      <td>\"slug\":\"food/small batch\"</td>\n",
       "      <td>720.0</td>\n",
       "      <td>169557</td>\n",
       "      <td>0</td>\n",
       "      <td>1</td>\n",
       "    </tr>\n",
       "    <tr>\n",
       "      <th>59</th>\n",
       "      <td>47250</td>\n",
       "      <td>US</td>\n",
       "      <td>9.210340</td>\n",
       "      <td>35</td>\n",
       "      <td>\"slug\":\"art/public art\"</td>\n",
       "      <td>1426.0</td>\n",
       "      <td>47250</td>\n",
       "      <td>0</td>\n",
       "      <td>1</td>\n",
       "    </tr>\n",
       "  </tbody>\n",
       "</table>\n",
       "</div>"
      ],
      "text/plain": [
       "     index country  goal_usd_log  name_len  \\\n",
       "10   46777      US      9.210340        22   \n",
       "23  174980      GB      9.122466        60   \n",
       "38  117400      US      7.313220        18   \n",
       "41  169557      US      9.433484        60   \n",
       "59   47250      US      9.210340        35   \n",
       "\n",
       "                                category  delta_dead_laun   index  state  \\\n",
       "10  \"slug\":\"film & video/narrative film\"            721.0   46777      0   \n",
       "23             \"slug\":\"fashion/footwear\"            696.0  174980      0   \n",
       "38               \"slug\":\"crafts/crochet\"            720.0  117400      0   \n",
       "41             \"slug\":\"food/small batch\"            720.0  169557      0   \n",
       "59               \"slug\":\"art/public art\"           1426.0   47250      0   \n",
       "\n",
       "    state_pred  \n",
       "10           1  \n",
       "23           1  \n",
       "38           1  \n",
       "41           1  \n",
       "59           1  "
      ]
     },
     "execution_count": 25,
     "metadata": {},
     "output_type": "execute_result"
    }
   ],
   "source": [
    "# false positives\n",
    "FP = df_error.query('state==0 and state_pred==1')\n",
    "FP.info()\n",
    "FP.head()"
   ]
  },
  {
   "cell_type": "code",
   "execution_count": 26,
   "metadata": {},
   "outputs": [
    {
     "name": "stdout",
     "output_type": "stream",
     "text": [
      "<class 'pandas.core.frame.DataFrame'>\n",
      "Int64Index: 5385 entries, 2 to 56328\n",
      "Data columns (total 9 columns):\n",
      " #   Column           Non-Null Count  Dtype  \n",
      "---  ------           --------------  -----  \n",
      " 0   index            5385 non-null   int64  \n",
      " 1   country          5385 non-null   object \n",
      " 2   goal_usd_log     5385 non-null   float64\n",
      " 3   name_len         5385 non-null   int64  \n",
      " 4   category         5385 non-null   object \n",
      " 5   delta_dead_laun  5385 non-null   float64\n",
      " 6   index            5385 non-null   int64  \n",
      " 7   state            5385 non-null   int64  \n",
      " 8   state_pred       5385 non-null   int64  \n",
      "dtypes: float64(2), int64(5), object(2)\n",
      "memory usage: 420.7+ KB\n"
     ]
    },
    {
     "data": {
      "text/html": [
       "<div>\n",
       "<style scoped>\n",
       "    .dataframe tbody tr th:only-of-type {\n",
       "        vertical-align: middle;\n",
       "    }\n",
       "\n",
       "    .dataframe tbody tr th {\n",
       "        vertical-align: top;\n",
       "    }\n",
       "\n",
       "    .dataframe thead th {\n",
       "        text-align: right;\n",
       "    }\n",
       "</style>\n",
       "<table border=\"1\" class=\"dataframe\">\n",
       "  <thead>\n",
       "    <tr style=\"text-align: right;\">\n",
       "      <th></th>\n",
       "      <th>index</th>\n",
       "      <th>country</th>\n",
       "      <th>goal_usd_log</th>\n",
       "      <th>name_len</th>\n",
       "      <th>category</th>\n",
       "      <th>delta_dead_laun</th>\n",
       "      <th>index</th>\n",
       "      <th>state</th>\n",
       "      <th>state_pred</th>\n",
       "    </tr>\n",
       "  </thead>\n",
       "  <tbody>\n",
       "    <tr>\n",
       "      <th>2</th>\n",
       "      <td>67273</td>\n",
       "      <td>US</td>\n",
       "      <td>6.214608</td>\n",
       "      <td>24</td>\n",
       "      <td>\"slug\":\"crafts/woodworking\"</td>\n",
       "      <td>1080.0</td>\n",
       "      <td>67273</td>\n",
       "      <td>1</td>\n",
       "      <td>0</td>\n",
       "    </tr>\n",
       "    <tr>\n",
       "      <th>27</th>\n",
       "      <td>147963</td>\n",
       "      <td>US</td>\n",
       "      <td>8.006368</td>\n",
       "      <td>13</td>\n",
       "      <td>\"slug\":\"journalism/photo\"</td>\n",
       "      <td>1060.0</td>\n",
       "      <td>147963</td>\n",
       "      <td>1</td>\n",
       "      <td>0</td>\n",
       "    </tr>\n",
       "    <tr>\n",
       "      <th>33</th>\n",
       "      <td>150984</td>\n",
       "      <td>US</td>\n",
       "      <td>8.006368</td>\n",
       "      <td>16</td>\n",
       "      <td>\"slug\":\"art/performance art\"</td>\n",
       "      <td>863.0</td>\n",
       "      <td>150984</td>\n",
       "      <td>1</td>\n",
       "      <td>0</td>\n",
       "    </tr>\n",
       "    <tr>\n",
       "      <th>40</th>\n",
       "      <td>45404</td>\n",
       "      <td>US</td>\n",
       "      <td>8.987197</td>\n",
       "      <td>36</td>\n",
       "      <td>\"slug\":\"design/architecture\"</td>\n",
       "      <td>1080.0</td>\n",
       "      <td>45404</td>\n",
       "      <td>1</td>\n",
       "      <td>0</td>\n",
       "    </tr>\n",
       "    <tr>\n",
       "      <th>46</th>\n",
       "      <td>177464</td>\n",
       "      <td>GB</td>\n",
       "      <td>8.092846</td>\n",
       "      <td>25</td>\n",
       "      <td>\"slug\":\"publishing/periodicals\"</td>\n",
       "      <td>705.0</td>\n",
       "      <td>177464</td>\n",
       "      <td>1</td>\n",
       "      <td>0</td>\n",
       "    </tr>\n",
       "  </tbody>\n",
       "</table>\n",
       "</div>"
      ],
      "text/plain": [
       "     index country  goal_usd_log  name_len                         category  \\\n",
       "2    67273      US      6.214608        24      \"slug\":\"crafts/woodworking\"   \n",
       "27  147963      US      8.006368        13        \"slug\":\"journalism/photo\"   \n",
       "33  150984      US      8.006368        16     \"slug\":\"art/performance art\"   \n",
       "40   45404      US      8.987197        36     \"slug\":\"design/architecture\"   \n",
       "46  177464      GB      8.092846        25  \"slug\":\"publishing/periodicals\"   \n",
       "\n",
       "    delta_dead_laun   index  state  state_pred  \n",
       "2            1080.0   67273      1           0  \n",
       "27           1060.0  147963      1           0  \n",
       "33            863.0  150984      1           0  \n",
       "40           1080.0   45404      1           0  \n",
       "46            705.0  177464      1           0  "
      ]
     },
     "execution_count": 26,
     "metadata": {},
     "output_type": "execute_result"
    }
   ],
   "source": [
    "# false negatives\n",
    "FN = df_error.query('state==1 and state_pred==0')\n",
    "FN.info()\n",
    "FN.head()"
   ]
  },
  {
   "cell_type": "code",
   "execution_count": 31,
   "metadata": {},
   "outputs": [
    {
     "data": {
      "text/plain": [
       "<AxesSubplot:xlabel='category', ylabel='Count'>"
      ]
     },
     "execution_count": 31,
     "metadata": {},
     "output_type": "execute_result"
    },
    {
     "data": {
      "image/png": "[encoded data removed]",
      "text/plain": [
       "<Figure size 432x288 with 1 Axes>"
      ]
     },
     "metadata": {
      "needs_background": "light"
     },
     "output_type": "display_data"
    }
   ],
   "source": [
    "# plot category for false positives\n",
    "sns.histplot(x='category', data=FP)"
   ]
  },
  {
   "cell_type": "code",
   "execution_count": 32,
   "metadata": {},
   "outputs": [
    {
     "data": {
      "text/plain": [
       "<AxesSubplot:xlabel='category', ylabel='Count'>"
      ]
     },
     "execution_count": 32,
     "metadata": {},
     "output_type": "execute_result"
    },
    {
     "data": {
      "image/png": "[encoded data removed]",
      "text/plain": [
       "<Figure size 432x288 with 1 Axes>"
      ]
     },
     "metadata": {
      "needs_background": "light"
     },
     "output_type": "display_data"
    }
   ],
   "source": [
    "# plot category for false negatives\n",
    "sns.histplot(x='category', data=FN)"
   ]
  },
  {
   "cell_type": "code",
   "execution_count": 33,
   "metadata": {},
   "outputs": [
    {
     "data": {
      "text/plain": [
       "<AxesSubplot:xlabel='goal_usd_log', ylabel='Count'>"
      ]
     },
     "execution_count": 33,
     "metadata": {},
     "output_type": "execute_result"
    },
    {
     "data": {
      "image/png": "[encoded data removed]",
      "text/plain": [
       "<Figure size 432x288 with 1 Axes>"
      ]
     },
     "metadata": {
      "needs_background": "light"
     },
     "output_type": "display_data"
    }
   ],
   "source": [
    "# plot goal ins usd for false positives\n",
    "sns.histplot(x='goal_usd_log', data=FP)"
   ]
  },
  {
   "cell_type": "code",
   "execution_count": 34,
   "metadata": {},
   "outputs": [
    {
     "data": {
      "text/plain": [
       "<AxesSubplot:xlabel='goal_usd_log', ylabel='Count'>"
      ]
     },
     "execution_count": 34,
     "metadata": {},
     "output_type": "execute_result"
    },
    {
     "data": {
      "image/png": "[encoded data removed]",
      "text/plain": [
       "<Figure size 432x288 with 1 Axes>"
      ]
     },
     "metadata": {
      "needs_background": "light"
     },
     "output_type": "display_data"
    }
   ],
   "source": [
    "# plot goal ins usd for false negatives\n",
    "sns.histplot(x='goal_usd_log', data=FN)"
   ]
  },
  {
   "cell_type": "code",
   "execution_count": 35,
   "metadata": {},
   "outputs": [
    {
     "data": {
      "text/plain": [
       "<AxesSubplot:xlabel='delta_dead_laun', ylabel='Count'>"
      ]
     },
     "execution_count": 35,
     "metadata": {},
     "output_type": "execute_result"
    },
    {
     "data": {
      "image/png": "[encoded data removed]",
      "text/plain": [
       "<Figure size 432x288 with 1 Axes>"
      ]
     },
     "metadata": {
      "needs_background": "light"
     },
     "output_type": "display_data"
    }
   ],
   "source": [
    "# plot time for false positives\n",
    "sns.histplot(x='delta_dead_laun', data=FP)"
   ]
  },
  {
   "cell_type": "code",
   "execution_count": 36,
   "metadata": {},
   "outputs": [
    {
     "data": {
      "text/plain": [
       "<AxesSubplot:xlabel='delta_dead_laun', ylabel='Count'>"
      ]
     },
     "execution_count": 36,
     "metadata": {},
     "output_type": "execute_result"
    },
    {
     "data": {
      "image/png": "[encoded data removed]",
      "text/plain": [
       "<Figure size 432x288 with 1 Axes>"
      ]
     },
     "metadata": {
      "needs_background": "light"
     },
     "output_type": "display_data"
    }
   ],
   "source": [
    "# plot time for false negatives\n",
    "sns.histplot(x='delta_dead_laun', data=FN)"
   ]
  },
  {
   "cell_type": "code",
   "execution_count": 37,
   "metadata": {},
   "outputs": [
    {
     "data": {
      "text/plain": [
       "<AxesSubplot:xlabel='country', ylabel='Count'>"
      ]
     },
     "execution_count": 37,
     "metadata": {},
     "output_type": "execute_result"
    },
    {
     "data": {
      "image/png": "[encoded data removed]",
      "text/plain": [
       "<Figure size 432x288 with 1 Axes>"
      ]
     },
     "metadata": {
      "needs_background": "light"
     },
     "output_type": "display_data"
    }
   ],
   "source": [
    "# plot country for false positives\n",
    "sns.histplot(x='country', data=FP)"
   ]
  },
  {
   "cell_type": "code",
   "execution_count": 38,
   "metadata": {},
   "outputs": [
    {
     "data": {
      "text/plain": [
       "<AxesSubplot:xlabel='country', ylabel='Count'>"
      ]
     },
     "execution_count": 38,
     "metadata": {},
     "output_type": "execute_result"
    },
    {
     "data": {
      "image/png": "[encoded data removed]",
      "text/plain": [
       "<Figure size 432x288 with 1 Axes>"
      ]
     },
     "metadata": {
      "needs_background": "light"
     },
     "output_type": "display_data"
    }
   ],
   "source": [
    "# plot country for false negatives\n",
    "sns.histplot(x='country', data=FN)"
   ]
  },
  {
   "cell_type": "code",
   "execution_count": 39,
   "metadata": {},
   "outputs": [
    {
     "data": {
      "text/plain": [
       "<AxesSubplot:xlabel='name_len', ylabel='Count'>"
      ]
     },
     "execution_count": 39,
     "metadata": {},
     "output_type": "execute_result"
    },
    {
     "data": {
      "image/png": "[encoded data removed]",
      "text/plain": [
       "<Figure size 432x288 with 1 Axes>"
      ]
     },
     "metadata": {
      "needs_background": "light"
     },
     "output_type": "display_data"
    }
   ],
   "source": [
    "# plot name length for false positives\n",
    "sns.histplot(x='name_len', data=FP)"
   ]
  },
  {
   "cell_type": "code",
   "execution_count": 40,
   "metadata": {},
   "outputs": [
    {
     "data": {
      "text/plain": [
       "<AxesSubplot:xlabel='name_len', ylabel='Count'>"
      ]
     },
     "execution_count": 40,
     "metadata": {},
     "output_type": "execute_result"
    },
    {
     "data": {
      "image/png": "[encoded data removed]",
      "text/plain": [
       "<Figure size 432x288 with 1 Axes>"
      ]
     },
     "metadata": {
      "needs_background": "light"
     },
     "output_type": "display_data"
    }
   ],
   "source": [
    "# plot name length for false negatives\n",
    "sns.histplot(x='name_len', data=FN)"
   ]
  },
  {
   "cell_type": "markdown",
   "metadata": {},
   "source": [
    "### Error analysis using yellowbrick"
   ]
  },
  {
   "cell_type": "code",
   "execution_count": 43,
   "metadata": {},
   "outputs": [
    {
     "ename": "TypeError",
     "evalue": "'LogisticRegression' object is not callable",
     "output_type": "error",
     "traceback": [
      "\u001b[0;31m---------------------------------------------------------------------------\u001b[0m",
      "\u001b[0;31mTypeError\u001b[0m                                 Traceback (most recent call last)",
      "\u001b[0;32m/var/folders/7w/_kkcrrf15dbgp6_zhftm14v40000gn/T/ipykernel_14915/85201968.py\u001b[0m in \u001b[0;36m<module>\u001b[0;34m\u001b[0m\n\u001b[1;32m      3\u001b[0m \u001b[0;31m# Instantiate the classification model and visualizer\u001b[0m\u001b[0;34m\u001b[0m\u001b[0;34m\u001b[0m\u001b[0;34m\u001b[0m\u001b[0m\n\u001b[1;32m      4\u001b[0m visualizer = ClassPredictionError(\n\u001b[0;32m----> 5\u001b[0;31m     best_log_reg(random_state=42), classes=classes)\n\u001b[0m\u001b[1;32m      6\u001b[0m \u001b[0;34m\u001b[0m\u001b[0m\n\u001b[1;32m      7\u001b[0m \u001b[0;31m# Fit the training data to the visualizer\u001b[0m\u001b[0;34m\u001b[0m\u001b[0;34m\u001b[0m\u001b[0;34m\u001b[0m\u001b[0m\n",
      "\u001b[0;31mTypeError\u001b[0m: 'LogisticRegression' object is not callable"
     ]
    }
   ],
   "source": [
    "#from yellowbrick.classifier import ClassPredictionError\n",
    "\n",
    "# Instantiate the classification model and visualizer\n",
    "#visualizer = ClassPredictionError(\n",
    "#    best_log_reg(random_state=42), classes=classes)\n",
    "\n",
    "# Fit the training data to the visualizer\n",
    "#visualizer.fit(X_train, y_train)\n",
    "\n",
    "# Evaluate the model on the test data\n",
    "#visualizer.score(X_test, y_test)\n",
    "\n",
    "# Draw visualization\n",
    "#visualizer.show()"
   ]
  },
  {
   "cell_type": "markdown",
   "metadata": {},
   "source": [
    "## Feature Importance"
   ]
  },
  {
   "cell_type": "code",
   "execution_count": 49,
   "metadata": {},
   "outputs": [
    {
     "name": "stdout",
     "output_type": "stream",
     "text": [
      "Feature: 0, Score: -0.26150\n",
      "Feature: 1, Score: 0.01913\n",
      "Feature: 2, Score: -0.00061\n",
      "Feature: 3, Score: -0.02163\n",
      "Feature: 4, Score: -0.05189\n",
      "Feature: 5, Score: 0.27278\n",
      "Feature: 6, Score: 0.07448\n",
      "Feature: 7, Score: -0.03859\n",
      "Feature: 8, Score: 0.19655\n",
      "Feature: 9, Score: -0.09967\n",
      "Feature: 10, Score: 0.27879\n",
      "Feature: 11, Score: 0.41521\n",
      "Feature: 12, Score: 0.40170\n",
      "Feature: 13, Score: 0.04343\n",
      "Feature: 14, Score: -0.40697\n",
      "Feature: 15, Score: 0.14241\n",
      "Feature: 16, Score: 0.04571\n",
      "Feature: 17, Score: -0.02473\n",
      "Feature: 18, Score: -0.07161\n",
      "Feature: 19, Score: 0.05649\n",
      "Feature: 20, Score: 0.07681\n",
      "Feature: 21, Score: 0.17859\n",
      "Feature: 22, Score: 0.09607\n",
      "Feature: 23, Score: 0.45434\n",
      "Feature: 24, Score: -0.08409\n",
      "Feature: 25, Score: -0.54958\n",
      "Feature: 26, Score: -0.75590\n",
      "Feature: 27, Score: 1.48291\n",
      "Feature: 28, Score: -0.02673\n",
      "Feature: 29, Score: -0.54454\n",
      "Feature: 30, Score: -0.35286\n",
      "Feature: 31, Score: -0.42897\n",
      "Feature: 32, Score: 0.33204\n",
      "Feature: 33, Score: -0.54788\n",
      "Feature: 34, Score: -0.24807\n",
      "Feature: 35, Score: -0.18293\n",
      "Feature: 36, Score: 0.38727\n",
      "Feature: 37, Score: 0.50861\n",
      "Feature: 38, Score: 1.80524\n",
      "Feature: 39, Score: -0.10097\n",
      "Feature: 40, Score: 0.42399\n",
      "Feature: 41, Score: 0.18383\n",
      "Feature: 42, Score: 0.95374\n",
      "Feature: 43, Score: -0.61312\n",
      "Feature: 44, Score: -0.24319\n",
      "Feature: 45, Score: -0.96938\n",
      "Feature: 46, Score: -0.16433\n",
      "Feature: 47, Score: -0.11637\n",
      "Feature: 48, Score: 0.06249\n",
      "Feature: 49, Score: 0.08189\n",
      "Feature: 50, Score: -0.24992\n",
      "Feature: 51, Score: -0.07754\n",
      "Feature: 52, Score: -0.11715\n",
      "Feature: 53, Score: 0.00461\n",
      "Feature: 54, Score: -0.05122\n",
      "Feature: 55, Score: -0.66455\n",
      "Feature: 56, Score: 1.26279\n",
      "Feature: 57, Score: 0.65898\n",
      "Feature: 58, Score: 0.08366\n",
      "Feature: 59, Score: -0.03839\n",
      "Feature: 60, Score: -0.07560\n",
      "Feature: 61, Score: 0.25932\n",
      "Feature: 62, Score: -0.46859\n",
      "Feature: 63, Score: -0.13692\n",
      "Feature: 64, Score: -0.65002\n",
      "Feature: 65, Score: -0.40195\n",
      "Feature: 66, Score: 2.07840\n",
      "Feature: 67, Score: 0.00573\n",
      "Feature: 68, Score: 0.22628\n",
      "Feature: 69, Score: 1.00308\n",
      "Feature: 70, Score: 0.94432\n",
      "Feature: 71, Score: -0.49720\n",
      "Feature: 72, Score: -0.33953\n",
      "Feature: 73, Score: -0.23956\n",
      "Feature: 74, Score: -0.78744\n",
      "Feature: 75, Score: -0.09885\n",
      "Feature: 76, Score: -0.77448\n",
      "Feature: 77, Score: 0.34046\n",
      "Feature: 78, Score: -0.63746\n",
      "Feature: 79, Score: -0.61046\n",
      "Feature: 80, Score: -0.27200\n",
      "Feature: 81, Score: 1.99145\n",
      "Feature: 82, Score: -0.15795\n",
      "Feature: 83, Score: -0.38111\n",
      "Feature: 84, Score: -0.32422\n",
      "Feature: 85, Score: -0.08478\n",
      "Feature: 86, Score: -0.03615\n",
      "Feature: 87, Score: -0.46414\n",
      "Feature: 88, Score: -0.05745\n",
      "Feature: 89, Score: -0.35902\n",
      "Feature: 90, Score: 1.43238\n",
      "Feature: 91, Score: -0.12036\n",
      "Feature: 92, Score: -0.16394\n",
      "Feature: 93, Score: 1.89287\n",
      "Feature: 94, Score: -0.73956\n",
      "Feature: 95, Score: -0.38238\n",
      "Feature: 96, Score: 0.73147\n",
      "Feature: 97, Score: 0.61844\n",
      "Feature: 98, Score: -0.14637\n",
      "Feature: 99, Score: -0.29553\n",
      "Feature: 100, Score: -0.32542\n",
      "Feature: 101, Score: -0.35687\n",
      "Feature: 102, Score: -0.61039\n",
      "Feature: 103, Score: -0.41942\n",
      "Feature: 104, Score: -0.66403\n",
      "Feature: 105, Score: -1.10284\n",
      "Feature: 106, Score: -0.51577\n",
      "Feature: 107, Score: -0.49939\n",
      "Feature: 108, Score: -0.12045\n",
      "Feature: 109, Score: -0.19100\n",
      "Feature: 110, Score: 0.06500\n",
      "Feature: 111, Score: -0.18443\n",
      "Feature: 112, Score: -0.79820\n",
      "Feature: 113, Score: -1.48448\n",
      "Feature: 114, Score: 0.13343\n",
      "Feature: 115, Score: -0.13134\n",
      "Feature: 116, Score: 1.95501\n",
      "Feature: 117, Score: 1.92008\n",
      "Feature: 118, Score: 0.25305\n",
      "Feature: 119, Score: -0.42200\n",
      "Feature: 120, Score: -0.29302\n",
      "Feature: 121, Score: -0.62756\n",
      "Feature: 122, Score: -0.65216\n",
      "Feature: 123, Score: -1.11865\n",
      "Feature: 124, Score: 0.83872\n",
      "Feature: 125, Score: -0.07164\n",
      "Feature: 126, Score: 0.02266\n",
      "Feature: 127, Score: 0.55484\n",
      "Feature: 128, Score: 0.00919\n",
      "Feature: 129, Score: 1.76584\n",
      "Feature: 130, Score: -0.77543\n",
      "Feature: 131, Score: -0.26288\n",
      "Feature: 132, Score: -1.07503\n",
      "Feature: 133, Score: 1.67383\n",
      "Feature: 134, Score: 0.16179\n",
      "Feature: 135, Score: -0.09046\n",
      "Feature: 136, Score: -0.13528\n",
      "Feature: 137, Score: -0.26682\n",
      "Feature: 138, Score: 0.46814\n",
      "Feature: 139, Score: -0.08014\n",
      "Feature: 140, Score: -0.41011\n",
      "Feature: 141, Score: 1.69143\n",
      "Feature: 142, Score: -0.28540\n",
      "Feature: 143, Score: 0.72445\n",
      "Feature: 144, Score: -0.21823\n",
      "Feature: 145, Score: -0.16319\n",
      "Feature: 146, Score: -0.55421\n",
      "Feature: 147, Score: -0.55428\n",
      "Feature: 148, Score: 0.22542\n",
      "Feature: 149, Score: -0.65386\n",
      "Feature: 150, Score: 0.38503\n",
      "Feature: 151, Score: -0.73995\n",
      "Feature: 152, Score: 0.15156\n",
      "Feature: 153, Score: 0.43496\n",
      "Feature: 154, Score: -0.10835\n",
      "Feature: 155, Score: 1.77825\n",
      "Feature: 156, Score: -0.04883\n",
      "Feature: 157, Score: 1.60149\n",
      "Feature: 158, Score: -0.00087\n",
      "Feature: 159, Score: -0.09359\n",
      "Feature: 160, Score: 0.05687\n",
      "Feature: 161, Score: 1.73387\n",
      "Feature: 162, Score: -0.34404\n",
      "Feature: 163, Score: -0.68419\n",
      "Feature: 164, Score: -0.27706\n",
      "Feature: 165, Score: -0.15538\n",
      "Feature: 166, Score: -0.73266\n",
      "Feature: 167, Score: -0.04222\n",
      "Feature: 168, Score: 0.46547\n",
      "Feature: 169, Score: -0.06113\n",
      "Feature: 170, Score: -1.03064\n",
      "Feature: 171, Score: 0.13797\n",
      "Feature: 172, Score: -0.04070\n",
      "Feature: 173, Score: -0.12808\n",
      "Feature: 174, Score: -0.33940\n",
      "Feature: 175, Score: 0.11769\n",
      "Feature: 176, Score: 0.31806\n",
      "Feature: 177, Score: -0.12269\n",
      "Feature: 178, Score: -0.03340\n",
      "Feature: 179, Score: -1.12344\n",
      "Feature: 180, Score: 0.10451\n",
      "Feature: 181, Score: -0.09900\n",
      "Feature: 182, Score: -0.10901\n",
      "Feature: 183, Score: -1.42883\n",
      "Feature: 184, Score: 0.64606\n",
      "Feature: 185, Score: 0.12159\n",
      "Feature: 186, Score: 0.24478\n",
      "Feature: 187, Score: 0.27744\n",
      "Feature: 188, Score: 0.19923\n",
      "Feature: 189, Score: 0.27820\n",
      "Feature: 190, Score: 0.40171\n",
      "Feature: 191, Score: 0.06900\n"
     ]
    },
    {
     "data": {
      "image/png": "[encoded data removed]",
      "text/plain": [
       "<Figure size 432x288 with 1 Axes>"
      ]
     },
     "metadata": {
      "needs_background": "light"
     },
     "output_type": "display_data"
    }
   ],
   "source": [
    "importance = best_log_reg.coef_[0]\n",
    "for i,v in enumerate(importance):\n",
    "   print('Feature: %0d, Score: %.5f' % (i,v))\n",
    "# plot feature importance\n",
    "plt.bar([x for x in range(len(importance))], importance)\n",
    "plt.show()"
   ]
  },
  {
   "cell_type": "markdown",
   "metadata": {},
   "source": []
  },
  {
   "cell_type": "code",
   "execution_count": null,
   "metadata": {},
   "outputs": [],
   "source": []
  }
 ],
 "metadata": {
  "interpreter": {
   "hash": "cbaf37d83a19e1b2581c71e29f60247c77efb6a13f584020ad679a19009e0051"
  },
  "kernelspec": {
   "display_name": "Python 3.9.4 64-bit ('.venv': venv)",
   "name": "python3"
  },
  "language_info": {
   "codemirror_mode": {
    "name": "ipython",
    "version": 3
   },
   "file_extension": ".py",
   "mimetype": "text/x-python",
   "name": "python",
   "nbconvert_exporter": "python",
   "pygments_lexer": "ipython3",
   "version": "3.9.4"
  },
  "orig_nbformat": 4
 },
 "nbformat": 4,
 "nbformat_minor": 2
}
