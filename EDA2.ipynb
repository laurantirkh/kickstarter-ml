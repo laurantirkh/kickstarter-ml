{
 "cells": [
  {
   "cell_type": "code",
   "execution_count": 56,
   "metadata": {},
   "outputs": [],
   "source": [
    "import pandas as pd\n",
    "import numpy as np\n",
    "import seaborn as sns\n",
    "import matplotlib.pyplot as plt\n",
    "import datetime\n",
    "from scipy import stats\n",
    "%matplotlib inline\n",
    "\n",
    "from sklearn.metrics import classification_report, confusion_matrix"
   ]
  },
  {
   "cell_type": "code",
   "execution_count": 57,
   "metadata": {},
   "outputs": [
    {
     "name": "stdout",
     "output_type": "stream",
     "text": [
      "<class 'pandas.core.frame.DataFrame'>\n",
      "RangeIndex: 209222 entries, 0 to 209221\n",
      "Data columns (total 9 columns):\n",
      " #   Column           Non-Null Count   Dtype  \n",
      "---  ------           --------------   -----  \n",
      " 0   country          209222 non-null  object \n",
      " 1   currency         209222 non-null  object \n",
      " 2   deadline         209222 non-null  object \n",
      " 3   launched_at      209222 non-null  object \n",
      " 4   state            209222 non-null  object \n",
      " 5   goal_usd         209222 non-null  float64\n",
      " 6   name_len         209222 non-null  int64  \n",
      " 7   category         209222 non-null  object \n",
      " 8   delta_dead_laun  209222 non-null  float64\n",
      "dtypes: float64(2), int64(1), object(6)\n",
      "memory usage: 14.4+ MB\n"
     ]
    }
   ],
   "source": [
    "df = pd.read_csv(\"data/df_eda1.csv\")\n",
    "df.info()"
   ]
  },
  {
   "cell_type": "code",
   "execution_count": 58,
   "metadata": {},
   "outputs": [
    {
     "name": "stdout",
     "output_type": "stream",
     "text": [
      "['successful' 'failed']\n"
     ]
    }
   ],
   "source": [
    "# convert 'state' to numerical\n",
    "# successful: 1\n",
    "# failed: 0\n",
    "# drop: live, suspended, canceled\n",
    "\n",
    "df = df.query('state != \"live\"')\n",
    "df = df.query('state != \"suspended\"')\n",
    "df = df.query('state != \"canceled\"')\n",
    "print(df['state'].unique()) # check that 'state' only contains failed and successful\n",
    "\n",
    "#df['state'].replace({'failed':0, 'successful':1}, inplace=True)\n",
    "#print(df['state'].unique()) # check that 'state' only contains 1 and 0\n"
   ]
  },
  {
   "cell_type": "code",
   "execution_count": 59,
   "metadata": {},
   "outputs": [
    {
     "name": "stdout",
     "output_type": "stream",
     "text": [
      "<class 'pandas.core.frame.DataFrame'>\n",
      "Int64Index: 192664 entries, 1 to 209221\n",
      "Data columns (total 9 columns):\n",
      " #   Column           Non-Null Count   Dtype  \n",
      "---  ------           --------------   -----  \n",
      " 0   country          192664 non-null  object \n",
      " 1   currency         192664 non-null  object \n",
      " 2   deadline         192664 non-null  object \n",
      " 3   launched_at      192664 non-null  object \n",
      " 4   state            192664 non-null  object \n",
      " 5   goal_usd         192664 non-null  float64\n",
      " 6   name_len         192664 non-null  int64  \n",
      " 7   category         192664 non-null  object \n",
      " 8   delta_dead_laun  192664 non-null  float64\n",
      "dtypes: float64(2), int64(1), object(6)\n",
      "memory usage: 18.7+ MB\n"
     ]
    },
    {
     "data": {
      "image/png": "[encoded data removed]",
      "text/plain": [
       "<Figure size 432x288 with 1 Axes>"
      ]
     },
     "metadata": {
      "needs_background": "light"
     },
     "output_type": "display_data"
    }
   ],
   "source": [
    "# plot frequency of success and failure\n",
    "\n",
    "sns.countplot(x='state', data=df)\n",
    "df.info()\n"
   ]
  },
  {
   "cell_type": "code",
   "execution_count": 60,
   "metadata": {},
   "outputs": [
    {
     "name": "stdout",
     "output_type": "stream",
     "text": [
      "<class 'pandas.core.frame.DataFrame'>\n",
      "Int64Index: 192664 entries, 1 to 209221\n",
      "Data columns (total 6 columns):\n",
      " #   Column           Non-Null Count   Dtype  \n",
      "---  ------           --------------   -----  \n",
      " 0   country          192664 non-null  object \n",
      " 1   state            192664 non-null  object \n",
      " 2   goal_usd         192664 non-null  float64\n",
      " 3   name_len         192664 non-null  int64  \n",
      " 4   category         192664 non-null  object \n",
      " 5   delta_dead_laun  192664 non-null  float64\n",
      "dtypes: float64(2), int64(1), object(3)\n",
      "memory usage: 14.3+ MB\n"
     ]
    }
   ],
   "source": [
    "# drop launched_at, deadline, currency\n",
    "\n",
    "df.drop(['launched_at', 'deadline', 'currency'], inplace=True, axis=1)\n",
    "df.info()"
   ]
  },
  {
   "cell_type": "code",
   "execution_count": 61,
   "metadata": {},
   "outputs": [
    {
     "data": {
      "text/html": [
       "<div>\n",
       "<style scoped>\n",
       "    .dataframe tbody tr th:only-of-type {\n",
       "        vertical-align: middle;\n",
       "    }\n",
       "\n",
       "    .dataframe tbody tr th {\n",
       "        vertical-align: top;\n",
       "    }\n",
       "\n",
       "    .dataframe thead th {\n",
       "        text-align: right;\n",
       "    }\n",
       "</style>\n",
       "<table border=\"1\" class=\"dataframe\">\n",
       "  <thead>\n",
       "    <tr style=\"text-align: right;\">\n",
       "      <th></th>\n",
       "      <th>goal_usd</th>\n",
       "      <th>name_len</th>\n",
       "      <th>delta_dead_laun</th>\n",
       "    </tr>\n",
       "  </thead>\n",
       "  <tbody>\n",
       "    <tr>\n",
       "      <th>count</th>\n",
       "      <td>1.926640e+05</td>\n",
       "      <td>192664.000000</td>\n",
       "      <td>192664.000000</td>\n",
       "    </tr>\n",
       "    <tr>\n",
       "      <th>mean</th>\n",
       "      <td>3.712954e+04</td>\n",
       "      <td>35.148377</td>\n",
       "      <td>777.272739</td>\n",
       "    </tr>\n",
       "    <tr>\n",
       "      <th>std</th>\n",
       "      <td>1.038361e+06</td>\n",
       "      <td>15.695316</td>\n",
       "      <td>279.553975</td>\n",
       "    </tr>\n",
       "    <tr>\n",
       "      <th>min</th>\n",
       "      <td>1.000000e-02</td>\n",
       "      <td>1.000000</td>\n",
       "      <td>24.000000</td>\n",
       "    </tr>\n",
       "    <tr>\n",
       "      <th>25%</th>\n",
       "      <td>1.500000e+03</td>\n",
       "      <td>22.000000</td>\n",
       "      <td>719.000000</td>\n",
       "    </tr>\n",
       "    <tr>\n",
       "      <th>50%</th>\n",
       "      <td>4.993790e+03</td>\n",
       "      <td>35.000000</td>\n",
       "      <td>720.000000</td>\n",
       "    </tr>\n",
       "    <tr>\n",
       "      <th>75%</th>\n",
       "      <td>1.200000e+04</td>\n",
       "      <td>49.000000</td>\n",
       "      <td>806.000000</td>\n",
       "    </tr>\n",
       "    <tr>\n",
       "      <th>max</th>\n",
       "      <td>1.325680e+08</td>\n",
       "      <td>85.000000</td>\n",
       "      <td>2234.000000</td>\n",
       "    </tr>\n",
       "  </tbody>\n",
       "</table>\n",
       "</div>"
      ],
      "text/plain": [
       "           goal_usd       name_len  delta_dead_laun\n",
       "count  1.926640e+05  192664.000000    192664.000000\n",
       "mean   3.712954e+04      35.148377       777.272739\n",
       "std    1.038361e+06      15.695316       279.553975\n",
       "min    1.000000e-02       1.000000        24.000000\n",
       "25%    1.500000e+03      22.000000       719.000000\n",
       "50%    4.993790e+03      35.000000       720.000000\n",
       "75%    1.200000e+04      49.000000       806.000000\n",
       "max    1.325680e+08      85.000000      2234.000000"
      ]
     },
     "execution_count": 61,
     "metadata": {},
     "output_type": "execute_result"
    }
   ],
   "source": [
    "df.describe()"
   ]
  },
  {
   "cell_type": "markdown",
   "metadata": {},
   "source": [
    "## Outliers"
   ]
  },
  {
   "cell_type": "code",
   "execution_count": 62,
   "metadata": {},
   "outputs": [
    {
     "data": {
      "text/plain": [
       "3039"
      ]
     },
     "execution_count": 62,
     "metadata": {},
     "output_type": "execute_result"
    }
   ],
   "source": [
    "low = df.query('goal_usd < 100')\n",
    "len(low)"
   ]
  },
  {
   "cell_type": "code",
   "execution_count": 63,
   "metadata": {},
   "outputs": [
    {
     "data": {
      "text/plain": [
       "455"
      ]
     },
     "execution_count": 63,
     "metadata": {},
     "output_type": "execute_result"
    }
   ],
   "source": [
    "high = df.query('goal_usd > 1000000')\n",
    "len(high)"
   ]
  },
  {
   "cell_type": "markdown",
   "metadata": {},
   "source": [
    "## Decision\n",
    "\n",
    "Exclude project with goals under 100 and over 1,000,000\n",
    "\n",
    "https://www.wired.com/2012/10/least-ambitious-kickstarters/"
   ]
  },
  {
   "cell_type": "code",
   "execution_count": 64,
   "metadata": {},
   "outputs": [
    {
     "name": "stdout",
     "output_type": "stream",
     "text": [
      "<class 'pandas.core.frame.DataFrame'>\n",
      "Int64Index: 187812 entries, 1 to 209221\n",
      "Data columns (total 6 columns):\n",
      " #   Column           Non-Null Count   Dtype  \n",
      "---  ------           --------------   -----  \n",
      " 0   country          187812 non-null  object \n",
      " 1   state            187812 non-null  object \n",
      " 2   goal_usd         187812 non-null  float64\n",
      " 3   name_len         187812 non-null  int64  \n",
      " 4   category         187812 non-null  object \n",
      " 5   delta_dead_laun  187812 non-null  float64\n",
      "dtypes: float64(2), int64(1), object(3)\n",
      "memory usage: 10.0+ MB\n"
     ]
    }
   ],
   "source": [
    "# exclude outliers\n",
    "df = df.query('goal_usd > 100 and goal_usd < 1000000')\n",
    "df.info()"
   ]
  },
  {
   "cell_type": "code",
   "execution_count": 65,
   "metadata": {},
   "outputs": [
    {
     "data": {
      "text/plain": [
       "<AxesSubplot:xlabel='goal_usd'>"
      ]
     },
     "execution_count": 65,
     "metadata": {},
     "output_type": "execute_result"
    },
    {
     "data": {
      "image/png": "[encoded data removed]",
      "text/plain": [
       "<Figure size 432x288 with 1 Axes>"
      ]
     },
     "metadata": {
      "needs_background": "light"
     },
     "output_type": "display_data"
    }
   ],
   "source": [
    "sns.boxplot(x='goal_usd', data=df)"
   ]
  },
  {
   "cell_type": "code",
   "execution_count": 66,
   "metadata": {},
   "outputs": [
    {
     "data": {
      "text/plain": [
       "<AxesSubplot:xlabel='goal_usd', ylabel='Count'>"
      ]
     },
     "execution_count": 66,
     "metadata": {},
     "output_type": "execute_result"
    },
    {
     "data": {
      "image/png": "[encoded data removed]",
      "text/plain": [
       "<Figure size 432x288 with 1 Axes>"
      ]
     },
     "metadata": {
      "needs_background": "light"
     },
     "output_type": "display_data"
    }
   ],
   "source": [
    "sns.histplot(x='goal_usd', data=df)"
   ]
  },
  {
   "cell_type": "markdown",
   "metadata": {},
   "source": [
    "### log transform goal_usd (very, very skewed)\n",
    "\n"
   ]
  },
  {
   "cell_type": "code",
   "execution_count": 67,
   "metadata": {},
   "outputs": [
    {
     "data": {
      "text/html": [
       "<div>\n",
       "<style scoped>\n",
       "    .dataframe tbody tr th:only-of-type {\n",
       "        vertical-align: middle;\n",
       "    }\n",
       "\n",
       "    .dataframe tbody tr th {\n",
       "        vertical-align: top;\n",
       "    }\n",
       "\n",
       "    .dataframe thead th {\n",
       "        text-align: right;\n",
       "    }\n",
       "</style>\n",
       "<table border=\"1\" class=\"dataframe\">\n",
       "  <thead>\n",
       "    <tr style=\"text-align: right;\">\n",
       "      <th></th>\n",
       "      <th>country</th>\n",
       "      <th>state</th>\n",
       "      <th>goal_usd</th>\n",
       "      <th>name_len</th>\n",
       "      <th>category</th>\n",
       "      <th>delta_dead_laun</th>\n",
       "    </tr>\n",
       "  </thead>\n",
       "  <tbody>\n",
       "    <tr>\n",
       "      <th>1</th>\n",
       "      <td>US</td>\n",
       "      <td>successful</td>\n",
       "      <td>6.907755</td>\n",
       "      <td>23</td>\n",
       "      <td>\"slug\":\"games/playing cards\"</td>\n",
       "      <td>720.0</td>\n",
       "    </tr>\n",
       "    <tr>\n",
       "      <th>2</th>\n",
       "      <td>US</td>\n",
       "      <td>successful</td>\n",
       "      <td>9.615805</td>\n",
       "      <td>51</td>\n",
       "      <td>\"slug\":\"music/rock\"</td>\n",
       "      <td>720.0</td>\n",
       "    </tr>\n",
       "    <tr>\n",
       "      <th>3</th>\n",
       "      <td>GB</td>\n",
       "      <td>failed</td>\n",
       "      <td>9.479141</td>\n",
       "      <td>34</td>\n",
       "      <td>\"slug\":\"games/playing cards\"</td>\n",
       "      <td>1439.0</td>\n",
       "    </tr>\n",
       "    <tr>\n",
       "      <th>4</th>\n",
       "      <td>US</td>\n",
       "      <td>successful</td>\n",
       "      <td>7.937375</td>\n",
       "      <td>40</td>\n",
       "      <td>\"slug\":\"publishing/nonfiction\"</td>\n",
       "      <td>720.0</td>\n",
       "    </tr>\n",
       "    <tr>\n",
       "      <th>5</th>\n",
       "      <td>US</td>\n",
       "      <td>successful</td>\n",
       "      <td>8.160518</td>\n",
       "      <td>31</td>\n",
       "      <td>\"slug\":\"music/classical music\"</td>\n",
       "      <td>720.0</td>\n",
       "    </tr>\n",
       "  </tbody>\n",
       "</table>\n",
       "</div>"
      ],
      "text/plain": [
       "  country       state  goal_usd  name_len                        category  \\\n",
       "1      US  successful  6.907755        23    \"slug\":\"games/playing cards\"   \n",
       "2      US  successful  9.615805        51             \"slug\":\"music/rock\"   \n",
       "3      GB      failed  9.479141        34    \"slug\":\"games/playing cards\"   \n",
       "4      US  successful  7.937375        40  \"slug\":\"publishing/nonfiction\"   \n",
       "5      US  successful  8.160518        31  \"slug\":\"music/classical music\"   \n",
       "\n",
       "   delta_dead_laun  \n",
       "1            720.0  \n",
       "2            720.0  \n",
       "3           1439.0  \n",
       "4            720.0  \n",
       "5            720.0  "
      ]
     },
     "execution_count": 67,
     "metadata": {},
     "output_type": "execute_result"
    }
   ],
   "source": [
    "df['goal_usd'] = np.log(df['goal_usd'])\n",
    "df.head()"
   ]
  },
  {
   "cell_type": "code",
   "execution_count": 68,
   "metadata": {},
   "outputs": [
    {
     "data": {
      "text/plain": [
       "<AxesSubplot:xlabel='goal_usd', ylabel='Count'>"
      ]
     },
     "execution_count": 68,
     "metadata": {},
     "output_type": "execute_result"
    },
    {
     "data": {
      "image/png": "[encoded data removed]",
      "text/plain": [
       "<Figure size 432x288 with 1 Axes>"
      ]
     },
     "metadata": {
      "needs_background": "light"
     },
     "output_type": "display_data"
    }
   ],
   "source": [
    "sns.histplot(x='goal_usd', data=df)"
   ]
  },
  {
   "cell_type": "code",
   "execution_count": 69,
   "metadata": {},
   "outputs": [
    {
     "name": "stdout",
     "output_type": "stream",
     "text": [
      "<class 'pandas.core.frame.DataFrame'>\n",
      "Int64Index: 187812 entries, 1 to 209221\n",
      "Data columns (total 6 columns):\n",
      " #   Column           Non-Null Count   Dtype  \n",
      "---  ------           --------------   -----  \n",
      " 0   country          187812 non-null  object \n",
      " 1   state            187812 non-null  object \n",
      " 2   goal_usd_log     187812 non-null  float64\n",
      " 3   name_len         187812 non-null  int64  \n",
      " 4   category         187812 non-null  object \n",
      " 5   delta_dead_laun  187812 non-null  float64\n",
      "dtypes: float64(2), int64(1), object(3)\n",
      "memory usage: 10.0+ MB\n"
     ]
    }
   ],
   "source": [
    "df.rename(columns={'goal_usd':'goal_usd_log'}, inplace=True)\n",
    "df.info()"
   ]
  },
  {
   "cell_type": "code",
   "execution_count": 70,
   "metadata": {},
   "outputs": [
    {
     "data": {
      "text/plain": [
       "<AxesSubplot:xlabel='country', ylabel='Count'>"
      ]
     },
     "execution_count": 70,
     "metadata": {},
     "output_type": "execute_result"
    },
    {
     "data": {
      "image/png": "[encoded data removed]",
      "text/plain": [
       "<Figure size 432x288 with 1 Axes>"
      ]
     },
     "metadata": {
      "needs_background": "light"
     },
     "output_type": "display_data"
    }
   ],
   "source": [
    "sns.histplot(x='country', data=df)"
   ]
  },
  {
   "cell_type": "code",
   "execution_count": 71,
   "metadata": {},
   "outputs": [
    {
     "data": {
      "text/plain": [
       "<AxesSubplot:xlabel='name_len', ylabel='Count'>"
      ]
     },
     "execution_count": 71,
     "metadata": {},
     "output_type": "execute_result"
    },
    {
     "data": {
      "image/png": "[encoded data removed]",
      "text/plain": [
       "<Figure size 432x288 with 1 Axes>"
      ]
     },
     "metadata": {
      "needs_background": "light"
     },
     "output_type": "display_data"
    }
   ],
   "source": [
    "sns.histplot(x='name_len', data=df)"
   ]
  },
  {
   "cell_type": "code",
   "execution_count": 72,
   "metadata": {},
   "outputs": [
    {
     "data": {
      "text/html": [
       "<div>\n",
       "<style scoped>\n",
       "    .dataframe tbody tr th:only-of-type {\n",
       "        vertical-align: middle;\n",
       "    }\n",
       "\n",
       "    .dataframe tbody tr th {\n",
       "        vertical-align: top;\n",
       "    }\n",
       "\n",
       "    .dataframe thead th {\n",
       "        text-align: right;\n",
       "    }\n",
       "</style>\n",
       "<table border=\"1\" class=\"dataframe\">\n",
       "  <thead>\n",
       "    <tr style=\"text-align: right;\">\n",
       "      <th></th>\n",
       "      <th>country</th>\n",
       "      <th>state</th>\n",
       "      <th>goal_usd_log</th>\n",
       "      <th>name_len</th>\n",
       "      <th>category</th>\n",
       "      <th>delta_dead_laun</th>\n",
       "    </tr>\n",
       "  </thead>\n",
       "  <tbody>\n",
       "    <tr>\n",
       "      <th>6770</th>\n",
       "      <td>US</td>\n",
       "      <td>successful</td>\n",
       "      <td>7.313220</td>\n",
       "      <td>2</td>\n",
       "      <td>\"slug\":\"dance\"</td>\n",
       "      <td>683.0</td>\n",
       "    </tr>\n",
       "    <tr>\n",
       "      <th>14559</th>\n",
       "      <td>US</td>\n",
       "      <td>failed</td>\n",
       "      <td>10.221941</td>\n",
       "      <td>1</td>\n",
       "      <td>\"slug\":\"film &amp; video/drama\"</td>\n",
       "      <td>720.0</td>\n",
       "    </tr>\n",
       "    <tr>\n",
       "      <th>27513</th>\n",
       "      <td>US</td>\n",
       "      <td>failed</td>\n",
       "      <td>9.210340</td>\n",
       "      <td>2</td>\n",
       "      <td>\"slug\":\"technology/apps\"</td>\n",
       "      <td>720.0</td>\n",
       "    </tr>\n",
       "    <tr>\n",
       "      <th>32732</th>\n",
       "      <td>GB</td>\n",
       "      <td>successful</td>\n",
       "      <td>6.273390</td>\n",
       "      <td>1</td>\n",
       "      <td>\"slug\":\"film &amp; video/drama\"</td>\n",
       "      <td>235.0</td>\n",
       "    </tr>\n",
       "    <tr>\n",
       "      <th>42356</th>\n",
       "      <td>FR</td>\n",
       "      <td>successful</td>\n",
       "      <td>7.434050</td>\n",
       "      <td>2</td>\n",
       "      <td>\"slug\":\"theater\"</td>\n",
       "      <td>719.0</td>\n",
       "    </tr>\n",
       "  </tbody>\n",
       "</table>\n",
       "</div>"
      ],
      "text/plain": [
       "      country       state  goal_usd_log  name_len  \\\n",
       "6770       US  successful      7.313220         2   \n",
       "14559      US      failed     10.221941         1   \n",
       "27513      US      failed      9.210340         2   \n",
       "32732      GB  successful      6.273390         1   \n",
       "42356      FR  successful      7.434050         2   \n",
       "\n",
       "                          category  delta_dead_laun  \n",
       "6770                \"slug\":\"dance\"            683.0  \n",
       "14559  \"slug\":\"film & video/drama\"            720.0  \n",
       "27513     \"slug\":\"technology/apps\"            720.0  \n",
       "32732  \"slug\":\"film & video/drama\"            235.0  \n",
       "42356             \"slug\":\"theater\"            719.0  "
      ]
     },
     "execution_count": 72,
     "metadata": {},
     "output_type": "execute_result"
    }
   ],
   "source": [
    "short = df.query('name_len < 3')\n",
    "short.head()\n",
    "#len(short)\n",
    "# we'll leave everything in because very short names are possible"
   ]
  },
  {
   "cell_type": "code",
   "execution_count": 73,
   "metadata": {},
   "outputs": [],
   "source": [
    "# log\n",
    "#df['name_len_log'] = np.log(df['name_len'])\n",
    "#sns.histplot(x='name_len_log', data=df)\n"
   ]
  },
  {
   "cell_type": "code",
   "execution_count": 74,
   "metadata": {},
   "outputs": [],
   "source": [
    "#df['name_len_sqrt'] = np.sqrt(df['name_len'])\n",
    "#sns.histplot(x='name_len_sqrt', data=df)"
   ]
  },
  {
   "cell_type": "code",
   "execution_count": 75,
   "metadata": {},
   "outputs": [
    {
     "data": {
      "text/plain": [
       "<AxesSubplot:xlabel='category', ylabel='Count'>"
      ]
     },
     "execution_count": 75,
     "metadata": {},
     "output_type": "execute_result"
    },
    {
     "data": {
      "image/png": "[encoded data removed]",
      "text/plain": [
       "<Figure size 432x288 with 1 Axes>"
      ]
     },
     "metadata": {
      "needs_background": "light"
     },
     "output_type": "display_data"
    }
   ],
   "source": [
    "sns.histplot(x='category', data=df)"
   ]
  },
  {
   "cell_type": "code",
   "execution_count": 76,
   "metadata": {},
   "outputs": [
    {
     "data": {
      "text/plain": [
       "<AxesSubplot:xlabel='delta_dead_laun', ylabel='Count'>"
      ]
     },
     "execution_count": 76,
     "metadata": {},
     "output_type": "execute_result"
    },
    {
     "data": {
      "image/png": "[encoded data removed]",
      "text/plain": [
       "<Figure size 432x288 with 1 Axes>"
      ]
     },
     "metadata": {
      "needs_background": "light"
     },
     "output_type": "display_data"
    }
   ],
   "source": [
    "sns.histplot(x='delta_dead_laun', data=df)"
   ]
  },
  {
   "cell_type": "code",
   "execution_count": 77,
   "metadata": {},
   "outputs": [
    {
     "data": {
      "text/plain": [
       "<AxesSubplot:xlabel='delta_dead_laun'>"
      ]
     },
     "execution_count": 77,
     "metadata": {},
     "output_type": "execute_result"
    },
    {
     "data": {
      "image/png": "[encoded data removed]",
      "text/plain": [
       "<Figure size 432x288 with 1 Axes>"
      ]
     },
     "metadata": {
      "needs_background": "light"
     },
     "output_type": "display_data"
    }
   ],
   "source": [
    "sns.boxplot(x='delta_dead_laun', data=df)"
   ]
  },
  {
   "cell_type": "code",
   "execution_count": 78,
   "metadata": {},
   "outputs": [
    {
     "data": {
      "text/html": [
       "<div>\n",
       "<style scoped>\n",
       "    .dataframe tbody tr th:only-of-type {\n",
       "        vertical-align: middle;\n",
       "    }\n",
       "\n",
       "    .dataframe tbody tr th {\n",
       "        vertical-align: top;\n",
       "    }\n",
       "\n",
       "    .dataframe thead th {\n",
       "        text-align: right;\n",
       "    }\n",
       "</style>\n",
       "<table border=\"1\" class=\"dataframe\">\n",
       "  <thead>\n",
       "    <tr style=\"text-align: right;\">\n",
       "      <th></th>\n",
       "      <th>goal_usd_log</th>\n",
       "      <th>name_len</th>\n",
       "      <th>delta_dead_laun</th>\n",
       "    </tr>\n",
       "  </thead>\n",
       "  <tbody>\n",
       "    <tr>\n",
       "      <th>count</th>\n",
       "      <td>187812.000000</td>\n",
       "      <td>187812.000000</td>\n",
       "      <td>187812.000000</td>\n",
       "    </tr>\n",
       "    <tr>\n",
       "      <th>mean</th>\n",
       "      <td>8.431109</td>\n",
       "      <td>35.220353</td>\n",
       "      <td>779.703230</td>\n",
       "    </tr>\n",
       "    <tr>\n",
       "      <th>std</th>\n",
       "      <td>1.547815</td>\n",
       "      <td>15.703031</td>\n",
       "      <td>276.715503</td>\n",
       "    </tr>\n",
       "    <tr>\n",
       "      <th>min</th>\n",
       "      <td>4.615121</td>\n",
       "      <td>1.000000</td>\n",
       "      <td>24.000000</td>\n",
       "    </tr>\n",
       "    <tr>\n",
       "      <th>25%</th>\n",
       "      <td>7.313220</td>\n",
       "      <td>22.000000</td>\n",
       "      <td>719.000000</td>\n",
       "    </tr>\n",
       "    <tr>\n",
       "      <th>50%</th>\n",
       "      <td>8.517193</td>\n",
       "      <td>35.000000</td>\n",
       "      <td>720.000000</td>\n",
       "    </tr>\n",
       "    <tr>\n",
       "      <th>75%</th>\n",
       "      <td>9.433484</td>\n",
       "      <td>49.000000</td>\n",
       "      <td>813.000000</td>\n",
       "    </tr>\n",
       "    <tr>\n",
       "      <th>max</th>\n",
       "      <td>13.815510</td>\n",
       "      <td>85.000000</td>\n",
       "      <td>2234.000000</td>\n",
       "    </tr>\n",
       "  </tbody>\n",
       "</table>\n",
       "</div>"
      ],
      "text/plain": [
       "        goal_usd_log       name_len  delta_dead_laun\n",
       "count  187812.000000  187812.000000    187812.000000\n",
       "mean        8.431109      35.220353       779.703230\n",
       "std         1.547815      15.703031       276.715503\n",
       "min         4.615121       1.000000        24.000000\n",
       "25%         7.313220      22.000000       719.000000\n",
       "50%         8.517193      35.000000       720.000000\n",
       "75%         9.433484      49.000000       813.000000\n",
       "max        13.815510      85.000000      2234.000000"
      ]
     },
     "execution_count": 78,
     "metadata": {},
     "output_type": "execute_result"
    }
   ],
   "source": [
    "df.describe()"
   ]
  },
  {
   "cell_type": "code",
   "execution_count": 79,
   "metadata": {},
   "outputs": [],
   "source": [
    "## save dataframe\n",
    "\n",
    "df.to_csv( \"data/df_eda2.csv\", index=False, encoding='utf-8-sig')"
   ]
  }
 ],
 "metadata": {
  "interpreter": {
   "hash": "cbaf37d83a19e1b2581c71e29f60247c77efb6a13f584020ad679a19009e0051"
  },
  "kernelspec": {
   "display_name": "Python 3.9.4 64-bit ('.venv': venv)",
   "name": "python3"
  },
  "language_info": {
   "codemirror_mode": {
    "name": "ipython",
    "version": 3
   },
   "file_extension": ".py",
   "mimetype": "text/x-python",
   "name": "python",
   "nbconvert_exporter": "python",
   "pygments_lexer": "ipython3",
   "version": "3.9.4"
  },
  "orig_nbformat": 4
 },
 "nbformat": 4,
 "nbformat_minor": 2
}
