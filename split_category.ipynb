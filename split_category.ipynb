{
 "cells": [
  {
   "cell_type": "markdown",
   "metadata": {},
   "source": [
    "## split up the category column to make it usable "
   ]
  },
  {
   "cell_type": "code",
   "execution_count": 13,
   "metadata": {},
   "outputs": [],
   "source": [
    "# load required packages\n",
    "import pandas as pd\n",
    "import numpy as np\n",
    "import seaborn as sns\n",
    "import matplotlib.pyplot as plt\n",
    "%matplotlib inline"
   ]
  },
  {
   "cell_type": "code",
   "execution_count": 14,
   "metadata": {},
   "outputs": [],
   "source": [
    "# load data\n",
    "df = pd.read_csv(\"data/combined_csv.csv\")\n",
    "#df.info()"
   ]
  },
  {
   "cell_type": "code",
   "execution_count": 15,
   "metadata": {},
   "outputs": [],
   "source": [
    "# subset category column \n",
    "cat_df = df.loc[:,['category']]\n",
    "#cat_df.info()\n",
    "#cat_df.head()"
   ]
  },
  {
   "cell_type": "markdown",
   "metadata": {},
   "source": [
    "### category example\n",
    "\n",
    "- {\"id\":43,\n",
    "- \"name\":\"Rock\",\n",
    "- \"slug\":\"music/rock\",\n",
    "- \"position\":17,\n",
    "- \"parent_id\":14,\n",
    "- \"color\":10878931,\n",
    "- \"urls\":{\"web\":{\"discover\":\"http://www.kickstarter.com/discover/categories/music/rock\"}}}'"
   ]
  },
  {
   "cell_type": "code",
   "execution_count": 16,
   "metadata": {},
   "outputs": [],
   "source": [
    "# split category column\n",
    "cat_df[['id','name','slug','position','parent_id','color','urls']] = df['category'].str.split(',',expand=True)\n",
    "#cat_df.info()\n",
    "#cat_df.head()"
   ]
  },
  {
   "cell_type": "code",
   "execution_count": 17,
   "metadata": {},
   "outputs": [
    {
     "data": {
      "text/plain": [
       "169"
      ]
     },
     "execution_count": 17,
     "metadata": {},
     "output_type": "execute_result"
    }
   ],
   "source": [
    "cat_df['slug'].nunique()"
   ]
  },
  {
   "cell_type": "code",
   "execution_count": 18,
   "metadata": {},
   "outputs": [
    {
     "data": {
      "text/plain": [
       "array(['\"slug\":\"fashion/footwear\"', '\"slug\":\"games/playing cards\"',\n",
       "       '\"slug\":\"music/rock\"', '\"slug\":\"publishing/nonfiction\"',\n",
       "       '\"slug\":\"music/classical music\"', '\"slug\":\"music\"',\n",
       "       '\"slug\":\"theater/immersive\"', '\"slug\":\"fashion/accessories\"',\n",
       "       '\"slug\":\"food/restaurants\"', '\"slug\":\"art/mixed media\"',\n",
       "       '\"slug\":\"music/world music\"', '\"slug\":\"theater/experimental\"',\n",
       "       '\"slug\":\"theater/spaces\"', '\"slug\":\"photography/fine art\"',\n",
       "       '\"slug\":\"food/small batch\"', '\"slug\":\"theater/plays\"',\n",
       "       '\"slug\":\"art/sculpture\"', '\"slug\":\"photography\"',\n",
       "       '\"slug\":\"fashion\"', '\"slug\":\"music/electronic music\"',\n",
       "       '\"slug\":\"technology/software\"', '\"slug\":\"fashion/apparel\"',\n",
       "       '\"slug\":\"art/performance art\"', '\"slug\":\"fashion/jewelry\"',\n",
       "       '\"slug\":\"dance/workshops\"', '\"slug\":\"theater\"',\n",
       "       '\"slug\":\"theater/musical\"', '\"slug\":\"photography/photobooks\"',\n",
       "       '\"slug\":\"photography/nature\"', '\"slug\":\"photography/animals\"',\n",
       "       '\"slug\":\"fashion/ready-to-wear\"', '\"slug\":\"photography/places\"',\n",
       "       '\"slug\":\"music/country & folk\"', '\"slug\":\"photography/people\"',\n",
       "       '\"slug\":\"music/indie rock\"', '\"slug\":\"design/graphic design\"',\n",
       "       '\"slug\":\"film & video/narrative film\"',\n",
       "       '\"slug\":\"film & video/television\"',\n",
       "       '\"slug\":\"technology/wearables\"', '\"slug\":\"dance/performances\"',\n",
       "       '\"slug\":\"technology/sound\"', '\"slug\":\"art/video art\"',\n",
       "       '\"slug\":\"technology/gadgets\"', '\"slug\":\"crafts/printing\"',\n",
       "       '\"slug\":\"comics/anthologies\"', '\"slug\":\"publishing/art books\"',\n",
       "       '\"slug\":\"technology/diy electronics\"', '\"slug\":\"games/live games\"',\n",
       "       '\"slug\":\"technology/3d printing\"', '\"slug\":\"design/civic design\"',\n",
       "       '\"slug\":\"technology\"', '\"slug\":\"technology/hardware\"',\n",
       "       '\"slug\":\"technology/camera equipment\"',\n",
       "       '\"slug\":\"technology/space exploration\"', '\"slug\":\"technology/web\"',\n",
       "       '\"slug\":\"publishing/literary spaces\"', '\"slug\":\"technology/apps\"',\n",
       "       '\"slug\":\"technology/robots\"',\n",
       "       '\"slug\":\"technology/fabrication tools\"',\n",
       "       '\"slug\":\"technology/flight\"', '\"slug\":\"crafts/taxidermy\"',\n",
       "       '\"slug\":\"food/vegan\"', '\"slug\":\"food/spaces\"',\n",
       "       '\"slug\":\"fashion/pet fashion\"', '\"slug\":\"publishing/poetry\"',\n",
       "       '\"slug\":\"games/puzzles\"', '\"slug\":\"design/product design\"',\n",
       "       '\"slug\":\"art/installations\"', '\"slug\":\"food/events\"',\n",
       "       '\"slug\":\"comics/comic books\"', '\"slug\":\"film & video/documentary\"',\n",
       "       '\"slug\":\"music/faith\"', '\"slug\":\"film & video/shorts\"',\n",
       "       '\"slug\":\"art/conceptual art\"', '\"slug\":\"publishing/translations\"',\n",
       "       '\"slug\":\"comics\"', '\"slug\":\"comics/graphic novels\"',\n",
       "       '\"slug\":\"crafts/pottery\"', '\"slug\":\"games/tabletop games\"',\n",
       "       '\"slug\":\"art\"', '\"slug\":\"art/digital art\"',\n",
       "       '\"slug\":\"publishing/zines\"', '\"slug\":\"film & video/action\"',\n",
       "       '\"slug\":\"art/public art\"', '\"slug\":\"publishing/anthologies\"',\n",
       "       '\"slug\":\"theater/comedy\"', '\"slug\":\"art/painting\"',\n",
       "       '\"slug\":\"comics/webcomics\"', '\"slug\":\"art/ceramics\"',\n",
       "       '\"slug\":\"art/illustration\"', '\"slug\":\"music/hip-hop\"',\n",
       "       '\"slug\":\"food/cookbooks\"', '\"slug\":\"food\"',\n",
       "       '\"slug\":\"film & video/thrillers\"', '\"slug\":\"design\"',\n",
       "       '\"slug\":\"film & video/movie theaters\"',\n",
       "       '\"slug\":\"publishing/children\\'s books\"',\n",
       "       '\"slug\":\"publishing/academic\"', '\"slug\":\"games/video games\"',\n",
       "       '\"slug\":\"fashion/childrenswear\"',\n",
       "       '\"slug\":\"film & video/music videos\"', '\"slug\":\"food/drinks\"',\n",
       "       '\"slug\":\"film & video/fantasy\"', '\"slug\":\"music/latin\"',\n",
       "       '\"slug\":\"film & video/romance\"', '\"slug\":\"crafts/stationery\"',\n",
       "       '\"slug\":\"crafts/crochet\"', '\"slug\":\"publishing/comedy\"',\n",
       "       '\"slug\":\"design/typography\"', '\"slug\":\"food/farmer\\'s markets\"',\n",
       "       '\"slug\":\"food/food trucks\"', '\"slug\":\"publishing/young adult\"',\n",
       "       '\"slug\":\"film & video/animation\"', '\"slug\":\"crafts/woodworking\"',\n",
       "       '\"slug\":\"crafts/diy\"', '\"slug\":\"crafts\"', '\"slug\":\"music/blues\"',\n",
       "       '\"slug\":\"games/gaming hardware\"', '\"slug\":\"journalism/web\"',\n",
       "       '\"slug\":\"crafts/glass\"', '\"slug\":\"design/architecture\"',\n",
       "       '\"slug\":\"music/r&b\"', '\"slug\":\"film & video\"',\n",
       "       '\"slug\":\"crafts/weaving\"', '\"slug\":\"crafts/candles\"',\n",
       "       '\"slug\":\"film & video/horror\"', '\"slug\":\"film & video/festivals\"',\n",
       "       '\"slug\":\"publishing/periodicals\"', '\"slug\":\"crafts/knitting\"',\n",
       "       '\"slug\":\"music/kids\"', '\"slug\":\"film & video/comedy\"',\n",
       "       '\"slug\":\"film & video/webseries\"', '\"slug\":\"film & video/drama\"',\n",
       "       '\"slug\":\"film & video/science fiction\"',\n",
       "       '\"slug\":\"theater/festivals\"', '\"slug\":\"music/pop\"',\n",
       "       '\"slug\":\"music/jazz\"', '\"slug\":\"music/punk\"',\n",
       "       '\"slug\":\"crafts/quilts\"', '\"slug\":\"dance\"',\n",
       "       '\"slug\":\"publishing/fiction\"', '\"slug\":\"film & video/family\"',\n",
       "       '\"slug\":\"journalism/photo\"', '\"slug\":\"design/interactive design\"',\n",
       "       '\"slug\":\"journalism/print\"', '\"slug\":\"publishing/calendars\"',\n",
       "       '\"slug\":\"dance/spaces\"', '\"slug\":\"dance/residencies\"',\n",
       "       '\"slug\":\"film & video/experimental\"', '\"slug\":\"art/textiles\"',\n",
       "       '\"slug\":\"publishing\"', '\"slug\":\"journalism/audio\"',\n",
       "       '\"slug\":\"journalism/video\"', '\"slug\":\"technology/makerspaces\"',\n",
       "       '\"slug\":\"publishing/literary journals\"', '\"slug\":\"food/bacon\"',\n",
       "       '\"slug\":\"food/community gardens\"',\n",
       "       '\"slug\":\"publishing/letterpress\"',\n",
       "       '\"slug\":\"publishing/radio & podcasts\"',\n",
       "       '\"slug\":\"games/mobile games\"', '\"slug\":\"food/farms\"',\n",
       "       '\"slug\":\"journalism\"', '\"slug\":\"music/metal\"',\n",
       "       '\"slug\":\"fashion/couture\"', '\"slug\":\"comics/events\"',\n",
       "       '\"slug\":\"games\"', '\"slug\":\"music/comedy\"',\n",
       "       '\"slug\":\"crafts/embroidery\"', '\"slug\":\"music/chiptune\"'],\n",
       "      dtype=object)"
      ]
     },
     "execution_count": 18,
     "metadata": {},
     "output_type": "execute_result"
    }
   ],
   "source": [
    "cat_df['slug'].unique()"
   ]
  },
  {
   "cell_type": "markdown",
   "metadata": {},
   "source": [
    "Problem:\n",
    "- most rows have the format 'main category/ subcategory', but some do not have a subcategory\n",
    "- this means splitting by '/' is difficult\n",
    "- if we don't split any further, we have 169 unique values for category, seems okay\n"
   ]
  },
  {
   "cell_type": "code",
   "execution_count": 19,
   "metadata": {},
   "outputs": [
    {
     "name": "stdout",
     "output_type": "stream",
     "text": [
      "<class 'pandas.core.frame.DataFrame'>\n",
      "RangeIndex: 209222 entries, 0 to 209221\n",
      "Data columns (total 1 columns):\n",
      " #   Column  Non-Null Count   Dtype \n",
      "---  ------  --------------   ----- \n",
      " 0   slug    209222 non-null  object\n",
      "dtypes: object(1)\n",
      "memory usage: 1.6+ MB\n"
     ]
    },
    {
     "data": {
      "text/plain": [
       "0               \"slug\":\"fashion/footwear\"\n",
       "1            \"slug\":\"games/playing cards\"\n",
       "2                     \"slug\":\"music/rock\"\n",
       "3            \"slug\":\"games/playing cards\"\n",
       "4          \"slug\":\"publishing/nonfiction\"\n",
       "                       ...               \n",
       "209217      \"slug\":\"games/tabletop games\"\n",
       "209218    \"slug\":\"music/electronic music\"\n",
       "209219       \"slug\":\"technology/hardware\"\n",
       "209220    \"slug\":\"film & video/festivals\"\n",
       "209221                \"slug\":\"journalism\"\n",
       "Name: slug, Length: 209222, dtype: object"
      ]
     },
     "execution_count": 19,
     "metadata": {},
     "output_type": "execute_result"
    }
   ],
   "source": [
    "# subset column 'slug' as dataframe\n",
    "cat = cat_df.loc[:,['slug']]\n",
    "cat.info()\n",
    "cat['slug']"
   ]
  },
  {
   "cell_type": "markdown",
   "metadata": {},
   "source": [
    "### Clean-up category entries\n",
    "\n",
    "- remove ' \" '\n",
    "- remove 'slug:'"
   ]
  },
  {
   "cell_type": "code",
   "execution_count": 21,
   "metadata": {},
   "outputs": [
    {
     "data": {
      "text/plain": [
       "0               fashion/footwear\n",
       "1            games/playing cards\n",
       "2                     music/rock\n",
       "3            games/playing cards\n",
       "4          publishing/nonfiction\n",
       "                   ...          \n",
       "209217      games/tabletop games\n",
       "209218    music/electronic music\n",
       "209219       technology/hardware\n",
       "209220    film & video/festivals\n",
       "209221                journalism\n",
       "Name: slug, Length: 209222, dtype: object"
      ]
     },
     "execution_count": 21,
     "metadata": {},
     "output_type": "execute_result"
    }
   ],
   "source": [
    "cat['slug'] = cat['slug'].str.replace(r'\"slug\":', '')\n",
    "cat['slug'] = cat['slug'].str.replace(r'\"', '')\n",
    "cat['slug']\n"
   ]
  },
  {
   "cell_type": "code",
   "execution_count": 35,
   "metadata": {},
   "outputs": [],
   "source": [
    "# rename 'slug' to 'category'\n",
    "cat.rename(columns={'slug': 'category'}, inplace=True)\n",
    "#cat.info()"
   ]
  },
  {
   "cell_type": "code",
   "execution_count": 36,
   "metadata": {},
   "outputs": [],
   "source": [
    "# drop column 'category' from original dataframe\n",
    "df.drop('category', axis=1, inplace=True)\n",
    "#df.info()"
   ]
  },
  {
   "cell_type": "code",
   "execution_count": 37,
   "metadata": {},
   "outputs": [
    {
     "name": "stdout",
     "output_type": "stream",
     "text": [
      "<class 'pandas.core.frame.DataFrame'>\n",
      "RangeIndex: 209222 entries, 0 to 209221\n",
      "Data columns (total 37 columns):\n",
      " #   Column                    Non-Null Count   Dtype  \n",
      "---  ------                    --------------   -----  \n",
      " 0   backers_count             209222 non-null  int64  \n",
      " 1   blurb                     209214 non-null  object \n",
      " 2   converted_pledged_amount  209222 non-null  int64  \n",
      " 3   country                   209222 non-null  object \n",
      " 4   created_at                209222 non-null  int64  \n",
      " 5   creator                   209222 non-null  object \n",
      " 6   currency                  209222 non-null  object \n",
      " 7   currency_symbol           209222 non-null  object \n",
      " 8   currency_trailing_code    209222 non-null  bool   \n",
      " 9   current_currency          209222 non-null  object \n",
      " 10  deadline                  209222 non-null  int64  \n",
      " 11  disable_communication     209222 non-null  bool   \n",
      " 12  friends                   300 non-null     object \n",
      " 13  fx_rate                   209222 non-null  float64\n",
      " 14  goal                      209222 non-null  float64\n",
      " 15  id                        209222 non-null  int64  \n",
      " 16  is_backing                300 non-null     object \n",
      " 17  is_starrable              209222 non-null  bool   \n",
      " 18  is_starred                300 non-null     object \n",
      " 19  launched_at               209222 non-null  int64  \n",
      " 20  location                  208996 non-null  object \n",
      " 21  name                      209222 non-null  object \n",
      " 22  permissions               300 non-null     object \n",
      " 23  photo                     209222 non-null  object \n",
      " 24  pledged                   209222 non-null  float64\n",
      " 25  profile                   209222 non-null  object \n",
      " 26  slug                      209222 non-null  object \n",
      " 27  source_url                209222 non-null  object \n",
      " 28  spotlight                 209222 non-null  bool   \n",
      " 29  staff_pick                209222 non-null  bool   \n",
      " 30  state                     209222 non-null  object \n",
      " 31  state_changed_at          209222 non-null  int64  \n",
      " 32  static_usd_rate           209222 non-null  float64\n",
      " 33  urls                      209222 non-null  object \n",
      " 34  usd_pledged               209222 non-null  float64\n",
      " 35  usd_type                  208742 non-null  object \n",
      " 36  category                  209222 non-null  object \n",
      "dtypes: bool(5), float64(5), int64(7), object(20)\n",
      "memory usage: 52.1+ MB\n"
     ]
    }
   ],
   "source": [
    "# add new column 'category' to original dataframe\n",
    "df['category'] = cat\n",
    "df.info()"
   ]
  },
  {
   "cell_type": "markdown",
   "metadata": {},
   "source": [
    "## split location column\n",
    "\n",
    "### location example\n",
    "\n",
    "- {\"id\":2379574,\n",
    "- \"name\":\"Chicago\",\n",
    "- \"slug\":\"chicago-il\",\n",
    "- \"short_name\":\"Chicago, IL\",\n",
    "- \"displayable_name\":\"Chicago, IL\",\n",
    "- \"localized_name\":\"Chicago\",\n",
    "- \"country\":\"US\",\n",
    "- \"state\":\"IL\",\n",
    "- \"type\":\"Town\",\n",
    "- \"is_root\":false,\n",
    "- \"urls\":{\"web\":{\"discover\":\"https://www.kickstarter.com/discover/places/chicago-il\",\n",
    "- \"location\":\"https://www.kickstarter.com/locations/chicago-il\"},\n",
    "- \"api\":{\"nearby_projects\":\"https://api.kickstarter.com/v1/discover?signature=1552595044.c1041c6bca69b0b72738f3b9504ebf921b3e5e0e&woe_id=2379574\"}}}'"
   ]
  },
  {
   "cell_type": "markdown",
   "metadata": {},
   "source": []
  },
  {
   "cell_type": "code",
   "execution_count": 42,
   "metadata": {},
   "outputs": [
    {
     "ename": "ValueError",
     "evalue": "Columns must be same length as key",
     "output_type": "error",
     "traceback": [
      "\u001b[0;31m---------------------------------------------------------------------------\u001b[0m",
      "\u001b[0;31mValueError\u001b[0m                                Traceback (most recent call last)",
      "\u001b[0;32m/var/folders/7w/_kkcrrf15dbgp6_zhftm14v40000gn/T/ipykernel_7858/643903473.py\u001b[0m in \u001b[0;36m<module>\u001b[0;34m\u001b[0m\n\u001b[1;32m      3\u001b[0m \u001b[0;34m\u001b[0m\u001b[0m\n\u001b[1;32m      4\u001b[0m \u001b[0;31m# split location column\u001b[0m\u001b[0;34m\u001b[0m\u001b[0;34m\u001b[0m\u001b[0;34m\u001b[0m\u001b[0m\n\u001b[0;32m----> 5\u001b[0;31m \u001b[0mloc_df\u001b[0m\u001b[0;34m[\u001b[0m\u001b[0;34m[\u001b[0m\u001b[0;34m'id'\u001b[0m\u001b[0;34m,\u001b[0m\u001b[0;34m'name'\u001b[0m\u001b[0;34m,\u001b[0m\u001b[0;34m'slug'\u001b[0m\u001b[0;34m,\u001b[0m\u001b[0;34m'short_name'\u001b[0m\u001b[0;34m,\u001b[0m\u001b[0;34m'displayable_name'\u001b[0m\u001b[0;34m,\u001b[0m\u001b[0;34m'localized_name'\u001b[0m\u001b[0;34m,\u001b[0m\u001b[0;34m'country_name'\u001b[0m\u001b[0;34m,\u001b[0m \u001b[0;34m'state'\u001b[0m\u001b[0;34m,\u001b[0m \u001b[0;34m'type'\u001b[0m\u001b[0;34m,\u001b[0m \u001b[0;34m'is_root'\u001b[0m\u001b[0;34m,\u001b[0m \u001b[0;34m'urls'\u001b[0m\u001b[0;34m,\u001b[0m \u001b[0;34m'location_name'\u001b[0m\u001b[0;34m,\u001b[0m \u001b[0;34m'api'\u001b[0m\u001b[0;34m]\u001b[0m\u001b[0;34m]\u001b[0m \u001b[0;34m=\u001b[0m \u001b[0mdf\u001b[0m\u001b[0;34m[\u001b[0m\u001b[0;34m'location'\u001b[0m\u001b[0;34m]\u001b[0m\u001b[0;34m.\u001b[0m\u001b[0mstr\u001b[0m\u001b[0;34m.\u001b[0m\u001b[0msplit\u001b[0m\u001b[0;34m(\u001b[0m\u001b[0;34m','\u001b[0m\u001b[0;34m,\u001b[0m\u001b[0mexpand\u001b[0m\u001b[0;34m=\u001b[0m\u001b[0;32mTrue\u001b[0m\u001b[0;34m)\u001b[0m\u001b[0;34m\u001b[0m\u001b[0;34m\u001b[0m\u001b[0m\n\u001b[0m",
      "\u001b[0;32m~/neuefische/kickstarter-ml/.venv/lib/python3.9/site-packages/pandas/core/frame.py\u001b[0m in \u001b[0;36m__setitem__\u001b[0;34m(self, key, value)\u001b[0m\n\u001b[1;32m   3598\u001b[0m             \u001b[0mself\u001b[0m\u001b[0;34m.\u001b[0m\u001b[0m_setitem_frame\u001b[0m\u001b[0;34m(\u001b[0m\u001b[0mkey\u001b[0m\u001b[0;34m,\u001b[0m \u001b[0mvalue\u001b[0m\u001b[0;34m)\u001b[0m\u001b[0;34m\u001b[0m\u001b[0;34m\u001b[0m\u001b[0m\n\u001b[1;32m   3599\u001b[0m         \u001b[0;32melif\u001b[0m \u001b[0misinstance\u001b[0m\u001b[0;34m(\u001b[0m\u001b[0mkey\u001b[0m\u001b[0;34m,\u001b[0m \u001b[0;34m(\u001b[0m\u001b[0mSeries\u001b[0m\u001b[0;34m,\u001b[0m \u001b[0mnp\u001b[0m\u001b[0;34m.\u001b[0m\u001b[0mndarray\u001b[0m\u001b[0;34m,\u001b[0m \u001b[0mlist\u001b[0m\u001b[0;34m,\u001b[0m \u001b[0mIndex\u001b[0m\u001b[0;34m)\u001b[0m\u001b[0;34m)\u001b[0m\u001b[0;34m:\u001b[0m\u001b[0;34m\u001b[0m\u001b[0;34m\u001b[0m\u001b[0m\n\u001b[0;32m-> 3600\u001b[0;31m             \u001b[0mself\u001b[0m\u001b[0;34m.\u001b[0m\u001b[0m_setitem_array\u001b[0m\u001b[0;34m(\u001b[0m\u001b[0mkey\u001b[0m\u001b[0;34m,\u001b[0m \u001b[0mvalue\u001b[0m\u001b[0;34m)\u001b[0m\u001b[0;34m\u001b[0m\u001b[0;34m\u001b[0m\u001b[0m\n\u001b[0m\u001b[1;32m   3601\u001b[0m         \u001b[0;32melif\u001b[0m \u001b[0misinstance\u001b[0m\u001b[0;34m(\u001b[0m\u001b[0mvalue\u001b[0m\u001b[0;34m,\u001b[0m \u001b[0mDataFrame\u001b[0m\u001b[0;34m)\u001b[0m\u001b[0;34m:\u001b[0m\u001b[0;34m\u001b[0m\u001b[0;34m\u001b[0m\u001b[0m\n\u001b[1;32m   3602\u001b[0m             \u001b[0mself\u001b[0m\u001b[0;34m.\u001b[0m\u001b[0m_set_item_frame_value\u001b[0m\u001b[0;34m(\u001b[0m\u001b[0mkey\u001b[0m\u001b[0;34m,\u001b[0m \u001b[0mvalue\u001b[0m\u001b[0;34m)\u001b[0m\u001b[0;34m\u001b[0m\u001b[0;34m\u001b[0m\u001b[0m\n",
      "\u001b[0;32m~/neuefische/kickstarter-ml/.venv/lib/python3.9/site-packages/pandas/core/frame.py\u001b[0m in \u001b[0;36m_setitem_array\u001b[0;34m(self, key, value)\u001b[0m\n\u001b[1;32m   3637\u001b[0m         \u001b[0;32melse\u001b[0m\u001b[0;34m:\u001b[0m\u001b[0;34m\u001b[0m\u001b[0;34m\u001b[0m\u001b[0m\n\u001b[1;32m   3638\u001b[0m             \u001b[0;32mif\u001b[0m \u001b[0misinstance\u001b[0m\u001b[0;34m(\u001b[0m\u001b[0mvalue\u001b[0m\u001b[0;34m,\u001b[0m \u001b[0mDataFrame\u001b[0m\u001b[0;34m)\u001b[0m\u001b[0;34m:\u001b[0m\u001b[0;34m\u001b[0m\u001b[0;34m\u001b[0m\u001b[0m\n\u001b[0;32m-> 3639\u001b[0;31m                 \u001b[0mcheck_key_length\u001b[0m\u001b[0;34m(\u001b[0m\u001b[0mself\u001b[0m\u001b[0;34m.\u001b[0m\u001b[0mcolumns\u001b[0m\u001b[0;34m,\u001b[0m \u001b[0mkey\u001b[0m\u001b[0;34m,\u001b[0m \u001b[0mvalue\u001b[0m\u001b[0;34m)\u001b[0m\u001b[0;34m\u001b[0m\u001b[0;34m\u001b[0m\u001b[0m\n\u001b[0m\u001b[1;32m   3640\u001b[0m                 \u001b[0;32mfor\u001b[0m \u001b[0mk1\u001b[0m\u001b[0;34m,\u001b[0m \u001b[0mk2\u001b[0m \u001b[0;32min\u001b[0m \u001b[0mzip\u001b[0m\u001b[0;34m(\u001b[0m\u001b[0mkey\u001b[0m\u001b[0;34m,\u001b[0m \u001b[0mvalue\u001b[0m\u001b[0;34m.\u001b[0m\u001b[0mcolumns\u001b[0m\u001b[0;34m)\u001b[0m\u001b[0;34m:\u001b[0m\u001b[0;34m\u001b[0m\u001b[0;34m\u001b[0m\u001b[0m\n\u001b[1;32m   3641\u001b[0m                     \u001b[0mself\u001b[0m\u001b[0;34m[\u001b[0m\u001b[0mk1\u001b[0m\u001b[0;34m]\u001b[0m \u001b[0;34m=\u001b[0m \u001b[0mvalue\u001b[0m\u001b[0;34m[\u001b[0m\u001b[0mk2\u001b[0m\u001b[0;34m]\u001b[0m\u001b[0;34m\u001b[0m\u001b[0;34m\u001b[0m\u001b[0m\n",
      "\u001b[0;32m~/neuefische/kickstarter-ml/.venv/lib/python3.9/site-packages/pandas/core/indexers.py\u001b[0m in \u001b[0;36mcheck_key_length\u001b[0;34m(columns, key, value)\u001b[0m\n\u001b[1;32m    426\u001b[0m     \u001b[0;32mif\u001b[0m \u001b[0mcolumns\u001b[0m\u001b[0;34m.\u001b[0m\u001b[0mis_unique\u001b[0m\u001b[0;34m:\u001b[0m\u001b[0;34m\u001b[0m\u001b[0;34m\u001b[0m\u001b[0m\n\u001b[1;32m    427\u001b[0m         \u001b[0;32mif\u001b[0m \u001b[0mlen\u001b[0m\u001b[0;34m(\u001b[0m\u001b[0mvalue\u001b[0m\u001b[0;34m.\u001b[0m\u001b[0mcolumns\u001b[0m\u001b[0;34m)\u001b[0m \u001b[0;34m!=\u001b[0m \u001b[0mlen\u001b[0m\u001b[0;34m(\u001b[0m\u001b[0mkey\u001b[0m\u001b[0;34m)\u001b[0m\u001b[0;34m:\u001b[0m\u001b[0;34m\u001b[0m\u001b[0;34m\u001b[0m\u001b[0m\n\u001b[0;32m--> 428\u001b[0;31m             \u001b[0;32mraise\u001b[0m \u001b[0mValueError\u001b[0m\u001b[0;34m(\u001b[0m\u001b[0;34m\"Columns must be same length as key\"\u001b[0m\u001b[0;34m)\u001b[0m\u001b[0;34m\u001b[0m\u001b[0;34m\u001b[0m\u001b[0m\n\u001b[0m\u001b[1;32m    429\u001b[0m     \u001b[0;32melse\u001b[0m\u001b[0;34m:\u001b[0m\u001b[0;34m\u001b[0m\u001b[0;34m\u001b[0m\u001b[0m\n\u001b[1;32m    430\u001b[0m         \u001b[0;31m# Missing keys in columns are represented as -1\u001b[0m\u001b[0;34m\u001b[0m\u001b[0;34m\u001b[0m\u001b[0;34m\u001b[0m\u001b[0m\n",
      "\u001b[0;31mValueError\u001b[0m: Columns must be same length as key"
     ]
    }
   ],
   "source": [
    "# subset location column \n",
    "#loc_df = df.loc[:,['location']]\n",
    "\n",
    "## this doesn't work because the names have commas in them ('Chicago, IL')\n",
    "# split location column\n",
    "#loc_df[['id','name','slug','short_name','displayable_name','localized_name','country_name', 'state', 'type', 'is_root', 'urls', 'location_name', 'api']] = df['location'].str.split(',',expand=True)"
   ]
  }
 ],
 "metadata": {
  "interpreter": {
   "hash": "cbaf37d83a19e1b2581c71e29f60247c77efb6a13f584020ad679a19009e0051"
  },
  "kernelspec": {
   "display_name": "Python 3.9.4 64-bit ('.venv': venv)",
   "name": "python3"
  },
  "language_info": {
   "codemirror_mode": {
    "name": "ipython",
    "version": 3
   },
   "file_extension": ".py",
   "mimetype": "text/x-python",
   "name": "python",
   "nbconvert_exporter": "python",
   "pygments_lexer": "ipython3",
   "version": "3.9.4"
  },
  "orig_nbformat": 4
 },
 "nbformat": 4,
 "nbformat_minor": 2
}
