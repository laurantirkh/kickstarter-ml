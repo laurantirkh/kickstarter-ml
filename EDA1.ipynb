{
 "cells": [
  {
   "cell_type": "code",
   "execution_count": 36,
   "metadata": {},
   "outputs": [],
   "source": [
    "import pandas as pd\n",
    "import numpy as np\n",
    "import seaborn as sns\n",
    "import matplotlib.pyplot as plt\n",
    "%matplotlib inline\n",
    "\n",
    "from sklearn.metrics import classification_report, confusion_matrix"
   ]
  },
  {
   "cell_type": "code",
   "execution_count": 2,
   "metadata": {},
   "outputs": [],
   "source": [
    "df = pd.read_csv(\"data/combined_csv.csv\")"
   ]
  },
  {
   "cell_type": "code",
   "execution_count": 3,
   "metadata": {},
   "outputs": [
    {
     "name": "stdout",
     "output_type": "stream",
     "text": [
      "<class 'pandas.core.frame.DataFrame'>\n",
      "RangeIndex: 209222 entries, 0 to 209221\n",
      "Data columns (total 37 columns):\n",
      " #   Column                    Non-Null Count   Dtype  \n",
      "---  ------                    --------------   -----  \n",
      " 0   backers_count             209222 non-null  int64  \n",
      " 1   blurb                     209214 non-null  object \n",
      " 2   category                  209222 non-null  object \n",
      " 3   converted_pledged_amount  209222 non-null  int64  \n",
      " 4   country                   209222 non-null  object \n",
      " 5   created_at                209222 non-null  int64  \n",
      " 6   creator                   209222 non-null  object \n",
      " 7   currency                  209222 non-null  object \n",
      " 8   currency_symbol           209222 non-null  object \n",
      " 9   currency_trailing_code    209222 non-null  bool   \n",
      " 10  current_currency          209222 non-null  object \n",
      " 11  deadline                  209222 non-null  int64  \n",
      " 12  disable_communication     209222 non-null  bool   \n",
      " 13  friends                   300 non-null     object \n",
      " 14  fx_rate                   209222 non-null  float64\n",
      " 15  goal                      209222 non-null  float64\n",
      " 16  id                        209222 non-null  int64  \n",
      " 17  is_backing                300 non-null     object \n",
      " 18  is_starrable              209222 non-null  bool   \n",
      " 19  is_starred                300 non-null     object \n",
      " 20  launched_at               209222 non-null  int64  \n",
      " 21  location                  208996 non-null  object \n",
      " 22  name                      209222 non-null  object \n",
      " 23  permissions               300 non-null     object \n",
      " 24  photo                     209222 non-null  object \n",
      " 25  pledged                   209222 non-null  float64\n",
      " 26  profile                   209222 non-null  object \n",
      " 27  slug                      209222 non-null  object \n",
      " 28  source_url                209222 non-null  object \n",
      " 29  spotlight                 209222 non-null  bool   \n",
      " 30  staff_pick                209222 non-null  bool   \n",
      " 31  state                     209222 non-null  object \n",
      " 32  state_changed_at          209222 non-null  int64  \n",
      " 33  static_usd_rate           209222 non-null  float64\n",
      " 34  urls                      209222 non-null  object \n",
      " 35  usd_pledged               209222 non-null  float64\n",
      " 36  usd_type                  208742 non-null  object \n",
      "dtypes: bool(5), float64(5), int64(7), object(20)\n",
      "memory usage: 52.1+ MB\n"
     ]
    }
   ],
   "source": [
    "df.info()"
   ]
  },
  {
   "cell_type": "code",
   "execution_count": 4,
   "metadata": {},
   "outputs": [
    {
     "data": {
      "text/html": [
       "<div>\n",
       "<style scoped>\n",
       "    .dataframe tbody tr th:only-of-type {\n",
       "        vertical-align: middle;\n",
       "    }\n",
       "\n",
       "    .dataframe tbody tr th {\n",
       "        vertical-align: top;\n",
       "    }\n",
       "\n",
       "    .dataframe thead th {\n",
       "        text-align: right;\n",
       "    }\n",
       "</style>\n",
       "<table border=\"1\" class=\"dataframe\">\n",
       "  <thead>\n",
       "    <tr style=\"text-align: right;\">\n",
       "      <th></th>\n",
       "      <th>converted_pledged_amount</th>\n",
       "      <th>country</th>\n",
       "      <th>created_at</th>\n",
       "      <th>creator</th>\n",
       "      <th>currency</th>\n",
       "      <th>currency_symbol</th>\n",
       "      <th>currency_trailing_code</th>\n",
       "      <th>current_currency</th>\n",
       "      <th>deadline</th>\n",
       "      <th>disable_communication</th>\n",
       "      <th>friends</th>\n",
       "      <th>fx_rate</th>\n",
       "      <th>goal</th>\n",
       "    </tr>\n",
       "  </thead>\n",
       "  <tbody>\n",
       "    <tr>\n",
       "      <th>0</th>\n",
       "      <td>28645</td>\n",
       "      <td>US</td>\n",
       "      <td>1541459205</td>\n",
       "      <td>{\"id\":2094277840,\"name\":\"Lucy Conroy\",\"slug\":\"...</td>\n",
       "      <td>USD</td>\n",
       "      <td>$</td>\n",
       "      <td>True</td>\n",
       "      <td>USD</td>\n",
       "      <td>1552539775</td>\n",
       "      <td>False</td>\n",
       "      <td>NaN</td>\n",
       "      <td>1.000000</td>\n",
       "      <td>28000.0</td>\n",
       "    </tr>\n",
       "    <tr>\n",
       "      <th>1</th>\n",
       "      <td>1950</td>\n",
       "      <td>US</td>\n",
       "      <td>1501684093</td>\n",
       "      <td>{\"id\":723886115,\"name\":\"Lisa Vollrath\",\"slug\":...</td>\n",
       "      <td>USD</td>\n",
       "      <td>$</td>\n",
       "      <td>True</td>\n",
       "      <td>USD</td>\n",
       "      <td>1504976459</td>\n",
       "      <td>False</td>\n",
       "      <td>NaN</td>\n",
       "      <td>1.000000</td>\n",
       "      <td>1000.0</td>\n",
       "    </tr>\n",
       "    <tr>\n",
       "      <th>2</th>\n",
       "      <td>22404</td>\n",
       "      <td>US</td>\n",
       "      <td>1348987533</td>\n",
       "      <td>{\"id\":323849677,\"name\":\"Electra\",\"is_registere...</td>\n",
       "      <td>USD</td>\n",
       "      <td>$</td>\n",
       "      <td>True</td>\n",
       "      <td>USD</td>\n",
       "      <td>1371013395</td>\n",
       "      <td>False</td>\n",
       "      <td>NaN</td>\n",
       "      <td>1.000000</td>\n",
       "      <td>15000.0</td>\n",
       "    </tr>\n",
       "    <tr>\n",
       "      <th>3</th>\n",
       "      <td>165</td>\n",
       "      <td>GB</td>\n",
       "      <td>1483780271</td>\n",
       "      <td>{\"id\":196281496,\"name\":\"Artur Ordijanc (delete...</td>\n",
       "      <td>GBP</td>\n",
       "      <td>£</td>\n",
       "      <td>False</td>\n",
       "      <td>USD</td>\n",
       "      <td>1489425776</td>\n",
       "      <td>False</td>\n",
       "      <td>NaN</td>\n",
       "      <td>1.308394</td>\n",
       "      <td>10000.0</td>\n",
       "    </tr>\n",
       "    <tr>\n",
       "      <th>4</th>\n",
       "      <td>2820</td>\n",
       "      <td>US</td>\n",
       "      <td>1354817071</td>\n",
       "      <td>{\"id\":1178460181,\"name\":\"Dawn Johnston\",\"is_re...</td>\n",
       "      <td>USD</td>\n",
       "      <td>$</td>\n",
       "      <td>True</td>\n",
       "      <td>USD</td>\n",
       "      <td>1357763527</td>\n",
       "      <td>False</td>\n",
       "      <td>NaN</td>\n",
       "      <td>1.000000</td>\n",
       "      <td>2800.0</td>\n",
       "    </tr>\n",
       "  </tbody>\n",
       "</table>\n",
       "</div>"
      ],
      "text/plain": [
       "   converted_pledged_amount country  created_at  \\\n",
       "0                     28645      US  1541459205   \n",
       "1                      1950      US  1501684093   \n",
       "2                     22404      US  1348987533   \n",
       "3                       165      GB  1483780271   \n",
       "4                      2820      US  1354817071   \n",
       "\n",
       "                                             creator currency currency_symbol  \\\n",
       "0  {\"id\":2094277840,\"name\":\"Lucy Conroy\",\"slug\":\"...      USD               $   \n",
       "1  {\"id\":723886115,\"name\":\"Lisa Vollrath\",\"slug\":...      USD               $   \n",
       "2  {\"id\":323849677,\"name\":\"Electra\",\"is_registere...      USD               $   \n",
       "3  {\"id\":196281496,\"name\":\"Artur Ordijanc (delete...      GBP               £   \n",
       "4  {\"id\":1178460181,\"name\":\"Dawn Johnston\",\"is_re...      USD               $   \n",
       "\n",
       "   currency_trailing_code current_currency    deadline  disable_communication  \\\n",
       "0                    True              USD  1552539775                  False   \n",
       "1                    True              USD  1504976459                  False   \n",
       "2                    True              USD  1371013395                  False   \n",
       "3                   False              USD  1489425776                  False   \n",
       "4                    True              USD  1357763527                  False   \n",
       "\n",
       "  friends   fx_rate     goal  \n",
       "0     NaN  1.000000  28000.0  \n",
       "1     NaN  1.000000   1000.0  \n",
       "2     NaN  1.000000  15000.0  \n",
       "3     NaN  1.308394  10000.0  \n",
       "4     NaN  1.000000   2800.0  "
      ]
     },
     "execution_count": 4,
     "metadata": {},
     "output_type": "execute_result"
    }
   ],
   "source": [
    "df.iloc[:, 3:16].head()"
   ]
  },
  {
   "cell_type": "markdown",
   "metadata": {},
   "source": [
    " ## Columns\n",
    "\n",
    " * double click for better view\n",
    "\n",
    " <br>\n",
    " \n",
    " 0   backers_count             number of backers \n",
    " 1   blurb                     short description \n",
    " 2   category                  Kickstarter categories \n",
    " 3   converted_pledged_amount  pledged amount in USD  \n",
    " 4   country                   country \n",
    " 5   created_at                creation date/time?  \n",
    " 6   creator                   Kickstarter account that created the project \n",
    " 7   currency                  currency the project asks for\n",
    " 8   currency_symbol           currency symbol \n",
    " 9   currency_trailing_code    ?   \n",
    " 10  current_currency          ?\n",
    " 11  deadline                  deadline date/time?\n",
    " 12  disable_communication     don't allow communication/comments   \n",
    " 13  friends                   drop (not enough data) \n",
    " 14  fx_rate                   currency conversion rate\n",
    " 15  goal                      fixed amount required for funding\n",
    " 16  id                        Kickstarter project id  \n",
    " 17  is_backing                drop (not enough data)  \n",
    " 18  is_starrable              ?  \n",
    " 19  is_starred                drop (not enough data)  \n",
    " 20  launched_at               launch date/time?  \n",
    " 21  location                  location\n",
    " 22  name                      project name \n",
    " 23  permissions               drop (not enough data) \n",
    " 24  photo                     maybe drop?\n",
    " 25  pledged                   pledged amount in original currency\n",
    " 26  profile                   drop? \n",
    " 27  slug                      drop (converted project name) \n",
    " 28  source_url                source url - drop \n",
    " 29  spotlight                 drop? (probably not influencable by the creators)   \n",
    " 30  staff_pick                drop? (probably not influencable by the creators)   \n",
    " 31  state                     !!!!!target!!!!! \n",
    " 32  state_changed_at          state changed at date/time?  \n",
    " 33  static_usd_rate           conversion rate -> drop\n",
    " 34  urls                      drop \n",
    " 35  usd_pledged               drop\n",
    " 36  usd_type                  drop"
   ]
  },
  {
   "cell_type": "code",
   "execution_count": 5,
   "metadata": {},
   "outputs": [
    {
     "data": {
      "text/plain": [
       "array(['USD', 'CAD', 'AUD', 'GBP', 'EUR'], dtype=object)"
      ]
     },
     "execution_count": 5,
     "metadata": {},
     "output_type": "execute_result"
    }
   ],
   "source": [
    "df['current_currency'].unique()"
   ]
  },
  {
   "cell_type": "code",
   "execution_count": 6,
   "metadata": {},
   "outputs": [],
   "source": [
    "no_comm = df[df['disable_communication'] == True]"
   ]
  },
  {
   "cell_type": "code",
   "execution_count": 7,
   "metadata": {},
   "outputs": [
    {
     "data": {
      "text/plain": [
       "623"
      ]
     },
     "execution_count": 7,
     "metadata": {},
     "output_type": "execute_result"
    }
   ],
   "source": [
    "len(no_comm)"
   ]
  },
  {
   "cell_type": "code",
   "execution_count": 8,
   "metadata": {},
   "outputs": [],
   "source": [
    "comm = df[df['disable_communication'] == False]"
   ]
  },
  {
   "cell_type": "code",
   "execution_count": 9,
   "metadata": {},
   "outputs": [
    {
     "data": {
      "text/plain": [
       "208599"
      ]
     },
     "execution_count": 9,
     "metadata": {},
     "output_type": "execute_result"
    }
   ],
   "source": [
    "len(comm)"
   ]
  },
  {
   "cell_type": "markdown",
   "metadata": {},
   "source": [
    "### location example\n",
    "\n",
    "{\"id\":2379574,\n",
    "\"name\":\"Chicago\",\n",
    "\"slug\":\"chicago-il\",\n",
    "\"short_name\":\"Chicago, IL\",\n",
    "\"displayable_name\":\"Chicago, IL\",\n",
    "\"localized_name\":\"Chicago\",\n",
    "\"country\":\"US\",\n",
    "\"state\":\"IL\",\n",
    "\"type\":\"Town\",\n",
    "\"is_root\":false,\n",
    "\"urls\":{\"web\":{\"discover\":\"https://www.kickstarter.com/discover/places/chicago-il\",\"location\":\"https://www.kickstarter.com/locations/chicago-il\"},\"api\":{\"nearby_projects\":\"https://api.kickstarter.com/v1/discover?signature=1552595044.c1041c6bca69b0b72738f3b9504ebf921b3e5e0e&woe_id=2379574\"}}}'"
   ]
  },
  {
   "cell_type": "code",
   "execution_count": 10,
   "metadata": {},
   "outputs": [
    {
     "data": {
      "text/plain": [
       "array(['{\"id\":266,\"name\":\"Footwear\",\"slug\":\"fashion/footwear\",\"position\":5,\"parent_id\":9,\"color\":16752598,\"urls\":{\"web\":{\"discover\":\"http://www.kickstarter.com/discover/categories/fashion/footwear\"}}}',\n",
       "       '{\"id\":273,\"name\":\"Playing Cards\",\"slug\":\"games/playing cards\",\"position\":4,\"parent_id\":12,\"color\":51627,\"urls\":{\"web\":{\"discover\":\"http://www.kickstarter.com/discover/categories/games/playing%20cards\"}}}',\n",
       "       '{\"id\":43,\"name\":\"Rock\",\"slug\":\"music/rock\",\"position\":17,\"parent_id\":14,\"color\":10878931,\"urls\":{\"web\":{\"discover\":\"http://www.kickstarter.com/discover/categories/music/rock\"}}}',\n",
       "       '{\"id\":48,\"name\":\"Nonfiction\",\"slug\":\"publishing/nonfiction\",\"position\":9,\"parent_id\":18,\"color\":14867664,\"urls\":{\"web\":{\"discover\":\"http://www.kickstarter.com/discover/categories/publishing/nonfiction\"}}}',\n",
       "       '{\"id\":36,\"name\":\"Classical Music\",\"slug\":\"music/classical music\",\"position\":3,\"parent_id\":14,\"color\":10878931,\"urls\":{\"web\":{\"discover\":\"http://www.kickstarter.com/discover/categories/music/classical%20music\"}}}',\n",
       "       '{\"id\":14,\"name\":\"Music\",\"slug\":\"music\",\"position\":11,\"color\":10878931,\"urls\":{\"web\":{\"discover\":\"http://www.kickstarter.com/discover/categories/music\"}}}',\n",
       "       '{\"id\":283,\"name\":\"Immersive\",\"slug\":\"theater/immersive\",\"position\":4,\"parent_id\":17,\"color\":16743775,\"urls\":{\"web\":{\"discover\":\"http://www.kickstarter.com/discover/categories/theater/immersive\"}}}',\n",
       "       '{\"id\":262,\"name\":\"Accessories\",\"slug\":\"fashion/accessories\",\"position\":1,\"parent_id\":9,\"color\":16752598,\"urls\":{\"web\":{\"discover\":\"http://www.kickstarter.com/discover/categories/fashion/accessories\"}}}',\n",
       "       '{\"id\":312,\"name\":\"Restaurants\",\"slug\":\"food/restaurants\",\"position\":9,\"parent_id\":10,\"color\":16725570,\"urls\":{\"web\":{\"discover\":\"http://www.kickstarter.com/discover/categories/food/restaurants\"}}}',\n",
       "       '{\"id\":54,\"name\":\"Mixed Media\",\"slug\":\"art/mixed media\",\"position\":6,\"parent_id\":1,\"color\":16760235,\"urls\":{\"web\":{\"discover\":\"http://www.kickstarter.com/discover/categories/art/mixed%20media\"}}}',\n",
       "       '{\"id\":44,\"name\":\"World Music\",\"slug\":\"music/world music\",\"position\":18,\"parent_id\":14,\"color\":10878931,\"urls\":{\"web\":{\"discover\":\"http://www.kickstarter.com/discover/categories/music/world%20music\"}}}',\n",
       "       '{\"id\":281,\"name\":\"Experimental\",\"slug\":\"theater/experimental\",\"position\":2,\"parent_id\":17,\"color\":16743775,\"urls\":{\"web\":{\"discover\":\"http://www.kickstarter.com/discover/categories/theater/experimental\"}}}',\n",
       "       '{\"id\":286,\"name\":\"Spaces\",\"slug\":\"theater/spaces\",\"position\":7,\"parent_id\":17,\"color\":16743775,\"urls\":{\"web\":{\"discover\":\"http://www.kickstarter.com/discover/categories/theater/spaces\"}}}',\n",
       "       '{\"id\":276,\"name\":\"Fine Art\",\"slug\":\"photography/fine art\",\"position\":2,\"parent_id\":15,\"color\":58341,\"urls\":{\"web\":{\"discover\":\"http://www.kickstarter.com/discover/categories/photography/fine%20art\"}}}',\n",
       "       '{\"id\":313,\"name\":\"Small Batch\",\"slug\":\"food/small batch\",\"position\":10,\"parent_id\":10,\"color\":16725570,\"urls\":{\"web\":{\"discover\":\"http://www.kickstarter.com/discover/categories/food/small%20batch\"}}}',\n",
       "       '{\"id\":285,\"name\":\"Plays\",\"slug\":\"theater/plays\",\"position\":6,\"parent_id\":17,\"color\":16743775,\"urls\":{\"web\":{\"discover\":\"http://www.kickstarter.com/discover/categories/theater/plays\"}}}',\n",
       "       '{\"id\":25,\"name\":\"Sculpture\",\"slug\":\"art/sculpture\",\"position\":10,\"parent_id\":1,\"color\":16760235,\"urls\":{\"web\":{\"discover\":\"http://www.kickstarter.com/discover/categories/art/sculpture\"}}}',\n",
       "       '{\"id\":15,\"name\":\"Photography\",\"slug\":\"photography\",\"position\":12,\"color\":58341,\"urls\":{\"web\":{\"discover\":\"http://www.kickstarter.com/discover/categories/photography\"}}}',\n",
       "       '{\"id\":9,\"name\":\"Fashion\",\"slug\":\"fashion\",\"position\":6,\"color\":16752598,\"urls\":{\"web\":{\"discover\":\"http://www.kickstarter.com/discover/categories/fashion\"}}}',\n",
       "       '{\"id\":38,\"name\":\"Electronic Music\",\"slug\":\"music/electronic music\",\"position\":6,\"parent_id\":14,\"color\":10878931,\"urls\":{\"web\":{\"discover\":\"http://www.kickstarter.com/discover/categories/music/electronic%20music\"}}}',\n",
       "       '{\"id\":51,\"name\":\"Software\",\"slug\":\"technology/software\",\"position\":11,\"parent_id\":16,\"color\":6526716,\"urls\":{\"web\":{\"discover\":\"http://www.kickstarter.com/discover/categories/technology/software\"}}}',\n",
       "       '{\"id\":263,\"name\":\"Apparel\",\"slug\":\"fashion/apparel\",\"position\":2,\"parent_id\":9,\"color\":16752598,\"urls\":{\"web\":{\"discover\":\"http://www.kickstarter.com/discover/categories/fashion/apparel\"}}}',\n",
       "       '{\"id\":24,\"name\":\"Performance Art\",\"slug\":\"art/performance art\",\"position\":8,\"parent_id\":1,\"color\":16760235,\"urls\":{\"web\":{\"discover\":\"http://www.kickstarter.com/discover/categories/art/performance%20art\"}}}',\n",
       "       '{\"id\":267,\"name\":\"Jewelry\",\"slug\":\"fashion/jewelry\",\"position\":6,\"parent_id\":9,\"color\":16752598,\"urls\":{\"web\":{\"discover\":\"http://www.kickstarter.com/discover/categories/fashion/jewelry\"}}}',\n",
       "       '{\"id\":257,\"name\":\"Workshops\",\"slug\":\"dance/workshops\",\"position\":4,\"parent_id\":6,\"color\":10917369,\"urls\":{\"web\":{\"discover\":\"http://www.kickstarter.com/discover/categories/dance/workshops\"}}}',\n",
       "       '{\"id\":17,\"name\":\"Theater\",\"slug\":\"theater\",\"position\":15,\"color\":16743775,\"urls\":{\"web\":{\"discover\":\"http://www.kickstarter.com/discover/categories/theater\"}}}',\n",
       "       '{\"id\":284,\"name\":\"Musical\",\"slug\":\"theater/musical\",\"position\":5,\"parent_id\":17,\"color\":16743775,\"urls\":{\"web\":{\"discover\":\"http://www.kickstarter.com/discover/categories/theater/musical\"}}}',\n",
       "       '{\"id\":280,\"name\":\"Photobooks\",\"slug\":\"photography/photobooks\",\"position\":5,\"parent_id\":15,\"color\":58341,\"urls\":{\"web\":{\"discover\":\"http://www.kickstarter.com/discover/categories/photography/photobooks\"}}}',\n",
       "       '{\"id\":277,\"name\":\"Nature\",\"slug\":\"photography/nature\",\"position\":3,\"parent_id\":15,\"color\":58341,\"urls\":{\"web\":{\"discover\":\"http://www.kickstarter.com/discover/categories/photography/nature\"}}}',\n",
       "       '{\"id\":275,\"name\":\"Animals\",\"slug\":\"photography/animals\",\"position\":1,\"parent_id\":15,\"color\":58341,\"urls\":{\"web\":{\"discover\":\"http://www.kickstarter.com/discover/categories/photography/animals\"}}}',\n",
       "       '{\"id\":269,\"name\":\"Ready-to-wear\",\"slug\":\"fashion/ready-to-wear\",\"position\":8,\"parent_id\":9,\"color\":16752598,\"urls\":{\"web\":{\"discover\":\"http://www.kickstarter.com/discover/categories/fashion/ready-to-wear\"}}}',\n",
       "       '{\"id\":279,\"name\":\"Places\",\"slug\":\"photography/places\",\"position\":6,\"parent_id\":15,\"color\":58341,\"urls\":{\"web\":{\"discover\":\"http://www.kickstarter.com/discover/categories/photography/places\"}}}',\n",
       "       '{\"id\":37,\"name\":\"Country & Folk\",\"slug\":\"music/country & folk\",\"position\":5,\"parent_id\":14,\"color\":10878931,\"urls\":{\"web\":{\"discover\":\"http://www.kickstarter.com/discover/categories/music/country%20&%20folk\"}}}',\n",
       "       '{\"id\":278,\"name\":\"People\",\"slug\":\"photography/people\",\"position\":4,\"parent_id\":15,\"color\":58341,\"urls\":{\"web\":{\"discover\":\"http://www.kickstarter.com/discover/categories/photography/people\"}}}',\n",
       "       '{\"id\":40,\"name\":\"Indie Rock\",\"slug\":\"music/indie rock\",\"position\":9,\"parent_id\":14,\"color\":10878931,\"urls\":{\"web\":{\"discover\":\"http://www.kickstarter.com/discover/categories/music/indie%20rock\"}}}',\n",
       "       '{\"id\":27,\"name\":\"Graphic Design\",\"slug\":\"design/graphic design\",\"position\":3,\"parent_id\":7,\"color\":2577151,\"urls\":{\"web\":{\"discover\":\"http://www.kickstarter.com/discover/categories/design/graphic%20design\"}}}',\n",
       "       '{\"id\":31,\"name\":\"Narrative Film\",\"slug\":\"film & video/narrative film\",\"position\":13,\"parent_id\":11,\"color\":16734574,\"urls\":{\"web\":{\"discover\":\"http://www.kickstarter.com/discover/categories/film%20&%20video/narrative%20film\"}}}',\n",
       "       '{\"id\":303,\"name\":\"Television\",\"slug\":\"film & video/television\",\"position\":17,\"parent_id\":11,\"color\":16734574,\"urls\":{\"web\":{\"discover\":\"http://www.kickstarter.com/discover/categories/film%20&%20video/television\"}}}',\n",
       "       '{\"id\":341,\"name\":\"Wearables\",\"slug\":\"technology/wearables\",\"position\":14,\"parent_id\":16,\"color\":6526716,\"urls\":{\"web\":{\"discover\":\"http://www.kickstarter.com/discover/categories/technology/wearables\"}}}',\n",
       "       '{\"id\":254,\"name\":\"Performances\",\"slug\":\"dance/performances\",\"position\":1,\"parent_id\":6,\"color\":10917369,\"urls\":{\"web\":{\"discover\":\"http://www.kickstarter.com/discover/categories/dance/performances\"}}}',\n",
       "       '{\"id\":339,\"name\":\"Sound\",\"slug\":\"technology/sound\",\"position\":12,\"parent_id\":16,\"color\":6526716,\"urls\":{\"web\":{\"discover\":\"http://www.kickstarter.com/discover/categories/technology/sound\"}}}',\n",
       "       '{\"id\":290,\"name\":\"Video Art\",\"slug\":\"art/video art\",\"position\":12,\"parent_id\":1,\"color\":16760235,\"urls\":{\"web\":{\"discover\":\"http://www.kickstarter.com/discover/categories/art/video%20art\"}}}',\n",
       "       '{\"id\":337,\"name\":\"Gadgets\",\"slug\":\"technology/gadgets\",\"position\":7,\"parent_id\":16,\"color\":6526716,\"urls\":{\"web\":{\"discover\":\"http://www.kickstarter.com/discover/categories/technology/gadgets\"}}}',\n",
       "       '{\"id\":351,\"name\":\"Printing\",\"slug\":\"crafts/printing\",\"position\":9,\"parent_id\":26,\"color\":16744876,\"urls\":{\"web\":{\"discover\":\"http://www.kickstarter.com/discover/categories/crafts/printing\"}}}',\n",
       "       '{\"id\":249,\"name\":\"Anthologies\",\"slug\":\"comics/anthologies\",\"position\":1,\"parent_id\":3,\"color\":16776056,\"urls\":{\"web\":{\"discover\":\"http://www.kickstarter.com/discover/categories/comics/anthologies\"}}}',\n",
       "       '{\"id\":45,\"name\":\"Art Books\",\"slug\":\"publishing/art books\",\"position\":3,\"parent_id\":18,\"color\":14867664,\"urls\":{\"web\":{\"discover\":\"http://www.kickstarter.com/discover/categories/publishing/art%20books\"}}}',\n",
       "       '{\"id\":334,\"name\":\"DIY Electronics\",\"slug\":\"technology/diy electronics\",\"position\":4,\"parent_id\":16,\"color\":6526716,\"urls\":{\"web\":{\"discover\":\"http://www.kickstarter.com/discover/categories/technology/diy%20electronics\"}}}',\n",
       "       '{\"id\":271,\"name\":\"Live Games\",\"slug\":\"games/live games\",\"position\":2,\"parent_id\":12,\"color\":51627,\"urls\":{\"web\":{\"discover\":\"http://www.kickstarter.com/discover/categories/games/live%20games\"}}}',\n",
       "       '{\"id\":331,\"name\":\"3D Printing\",\"slug\":\"technology/3d printing\",\"position\":1,\"parent_id\":16,\"color\":6526716,\"urls\":{\"web\":{\"discover\":\"http://www.kickstarter.com/discover/categories/technology/3d%20printing\"}}}',\n",
       "       '{\"id\":259,\"name\":\"Civic Design\",\"slug\":\"design/civic design\",\"position\":2,\"parent_id\":7,\"color\":2577151,\"urls\":{\"web\":{\"discover\":\"http://www.kickstarter.com/discover/categories/design/civic%20design\"}}}',\n",
       "       '{\"id\":16,\"name\":\"Technology\",\"slug\":\"technology\",\"position\":14,\"color\":6526716,\"urls\":{\"web\":{\"discover\":\"http://www.kickstarter.com/discover/categories/technology\"}}}',\n",
       "       '{\"id\":52,\"name\":\"Hardware\",\"slug\":\"technology/hardware\",\"position\":8,\"parent_id\":16,\"color\":6526716,\"urls\":{\"web\":{\"discover\":\"http://www.kickstarter.com/discover/categories/technology/hardware\"}}}',\n",
       "       '{\"id\":333,\"name\":\"Camera Equipment\",\"slug\":\"technology/camera equipment\",\"position\":3,\"parent_id\":16,\"color\":6526716,\"urls\":{\"web\":{\"discover\":\"http://www.kickstarter.com/discover/categories/technology/camera%20equipment\"}}}',\n",
       "       '{\"id\":340,\"name\":\"Space Exploration\",\"slug\":\"technology/space exploration\",\"position\":13,\"parent_id\":16,\"color\":6526716,\"urls\":{\"web\":{\"discover\":\"http://www.kickstarter.com/discover/categories/technology/space%20exploration\"}}}',\n",
       "       '{\"id\":342,\"name\":\"Web\",\"slug\":\"technology/web\",\"position\":15,\"parent_id\":16,\"color\":6526716,\"urls\":{\"web\":{\"discover\":\"http://www.kickstarter.com/discover/categories/technology/web\"}}}',\n",
       "       '{\"id\":389,\"name\":\"Literary Spaces\",\"slug\":\"publishing/literary spaces\",\"position\":16,\"parent_id\":18,\"color\":14867664,\"urls\":{\"web\":{\"discover\":\"http://www.kickstarter.com/discover/categories/publishing/literary%20spaces\"}}}',\n",
       "       '{\"id\":332,\"name\":\"Apps\",\"slug\":\"technology/apps\",\"position\":2,\"parent_id\":16,\"color\":6526716,\"urls\":{\"web\":{\"discover\":\"http://www.kickstarter.com/discover/categories/technology/apps\"}}}',\n",
       "       '{\"id\":338,\"name\":\"Robots\",\"slug\":\"technology/robots\",\"position\":10,\"parent_id\":16,\"color\":6526716,\"urls\":{\"web\":{\"discover\":\"http://www.kickstarter.com/discover/categories/technology/robots\"}}}',\n",
       "       '{\"id\":335,\"name\":\"Fabrication Tools\",\"slug\":\"technology/fabrication tools\",\"position\":5,\"parent_id\":16,\"color\":6526716,\"urls\":{\"web\":{\"discover\":\"http://www.kickstarter.com/discover/categories/technology/fabrication%20tools\"}}}',\n",
       "       '{\"id\":336,\"name\":\"Flight\",\"slug\":\"technology/flight\",\"position\":6,\"parent_id\":16,\"color\":6526716,\"urls\":{\"web\":{\"discover\":\"http://www.kickstarter.com/discover/categories/technology/flight\"}}}',\n",
       "       '{\"id\":354,\"name\":\"Taxidermy\",\"slug\":\"crafts/taxidermy\",\"position\":12,\"parent_id\":26,\"color\":16744876,\"urls\":{\"web\":{\"discover\":\"http://www.kickstarter.com/discover/categories/crafts/taxidermy\"}}}',\n",
       "       '{\"id\":315,\"name\":\"Vegan\",\"slug\":\"food/vegan\",\"position\":12,\"parent_id\":10,\"color\":16725570,\"urls\":{\"web\":{\"discover\":\"http://www.kickstarter.com/discover/categories/food/vegan\"}}}',\n",
       "       '{\"id\":314,\"name\":\"Spaces\",\"slug\":\"food/spaces\",\"position\":11,\"parent_id\":10,\"color\":16725570,\"urls\":{\"web\":{\"discover\":\"http://www.kickstarter.com/discover/categories/food/spaces\"}}}',\n",
       "       '{\"id\":268,\"name\":\"Pet Fashion\",\"slug\":\"fashion/pet fashion\",\"position\":7,\"parent_id\":9,\"color\":16752598,\"urls\":{\"web\":{\"discover\":\"http://www.kickstarter.com/discover/categories/fashion/pet%20fashion\"}}}',\n",
       "       '{\"id\":50,\"name\":\"Poetry\",\"slug\":\"publishing/poetry\",\"position\":11,\"parent_id\":18,\"color\":14867664,\"urls\":{\"web\":{\"discover\":\"http://www.kickstarter.com/discover/categories/publishing/poetry\"}}}',\n",
       "       '{\"id\":274,\"name\":\"Puzzles\",\"slug\":\"games/puzzles\",\"position\":5,\"parent_id\":12,\"color\":51627,\"urls\":{\"web\":{\"discover\":\"http://www.kickstarter.com/discover/categories/games/puzzles\"}}}',\n",
       "       '{\"id\":28,\"name\":\"Product Design\",\"slug\":\"design/product design\",\"position\":5,\"parent_id\":7,\"color\":2577151,\"urls\":{\"web\":{\"discover\":\"http://www.kickstarter.com/discover/categories/design/product%20design\"}}}',\n",
       "       '{\"id\":288,\"name\":\"Installations\",\"slug\":\"art/installations\",\"position\":5,\"parent_id\":1,\"color\":16760235,\"urls\":{\"web\":{\"discover\":\"http://www.kickstarter.com/discover/categories/art/installations\"}}}',\n",
       "       '{\"id\":308,\"name\":\"Events\",\"slug\":\"food/events\",\"position\":5,\"parent_id\":10,\"color\":16725570,\"urls\":{\"web\":{\"discover\":\"http://www.kickstarter.com/discover/categories/food/events\"}}}',\n",
       "       '{\"id\":250,\"name\":\"Comic Books\",\"slug\":\"comics/comic books\",\"position\":2,\"parent_id\":3,\"color\":16776056,\"urls\":{\"web\":{\"discover\":\"http://www.kickstarter.com/discover/categories/comics/comic%20books\"}}}',\n",
       "       '{\"id\":30,\"name\":\"Documentary\",\"slug\":\"film & video/documentary\",\"position\":4,\"parent_id\":11,\"color\":16734574,\"urls\":{\"web\":{\"discover\":\"http://www.kickstarter.com/discover/categories/film%20&%20video/documentary\"}}}',\n",
       "       '{\"id\":318,\"name\":\"Faith\",\"slug\":\"music/faith\",\"position\":7,\"parent_id\":14,\"color\":10878931,\"urls\":{\"web\":{\"discover\":\"http://www.kickstarter.com/discover/categories/music/faith\"}}}',\n",
       "       '{\"id\":32,\"name\":\"Shorts\",\"slug\":\"film & video/shorts\",\"position\":16,\"parent_id\":11,\"color\":16734574,\"urls\":{\"web\":{\"discover\":\"http://www.kickstarter.com/discover/categories/film%20&%20video/shorts\"}}}',\n",
       "       '{\"id\":20,\"name\":\"Conceptual Art\",\"slug\":\"art/conceptual art\",\"position\":2,\"parent_id\":1,\"color\":16760235,\"urls\":{\"web\":{\"discover\":\"http://www.kickstarter.com/discover/categories/art/conceptual%20art\"}}}',\n",
       "       '{\"id\":327,\"name\":\"Translations\",\"slug\":\"publishing/translations\",\"position\":13,\"parent_id\":18,\"color\":14867664,\"urls\":{\"web\":{\"discover\":\"http://www.kickstarter.com/discover/categories/publishing/translations\"}}}',\n",
       "       '{\"id\":3,\"name\":\"Comics\",\"slug\":\"comics\",\"position\":2,\"color\":16776056,\"urls\":{\"web\":{\"discover\":\"http://www.kickstarter.com/discover/categories/comics\"}}}',\n",
       "       '{\"id\":252,\"name\":\"Graphic Novels\",\"slug\":\"comics/graphic novels\",\"position\":4,\"parent_id\":3,\"color\":16776056,\"urls\":{\"web\":{\"discover\":\"http://www.kickstarter.com/discover/categories/comics/graphic%20novels\"}}}',\n",
       "       '{\"id\":350,\"name\":\"Pottery\",\"slug\":\"crafts/pottery\",\"position\":8,\"parent_id\":26,\"color\":16744876,\"urls\":{\"web\":{\"discover\":\"http://www.kickstarter.com/discover/categories/crafts/pottery\"}}}',\n",
       "       '{\"id\":34,\"name\":\"Tabletop Games\",\"slug\":\"games/tabletop games\",\"position\":6,\"parent_id\":12,\"color\":51627,\"urls\":{\"web\":{\"discover\":\"http://www.kickstarter.com/discover/categories/games/tabletop%20games\"}}}',\n",
       "       '{\"id\":1,\"name\":\"Art\",\"slug\":\"art\",\"position\":1,\"color\":16760235,\"urls\":{\"web\":{\"discover\":\"http://www.kickstarter.com/discover/categories/art\"}}}',\n",
       "       '{\"id\":21,\"name\":\"Digital Art\",\"slug\":\"art/digital art\",\"position\":3,\"parent_id\":1,\"color\":16760235,\"urls\":{\"web\":{\"discover\":\"http://www.kickstarter.com/discover/categories/art/digital%20art\"}}}',\n",
       "       '{\"id\":329,\"name\":\"Zines\",\"slug\":\"publishing/zines\",\"position\":15,\"parent_id\":18,\"color\":14867664,\"urls\":{\"web\":{\"discover\":\"http://www.kickstarter.com/discover/categories/publishing/zines\"}}}',\n",
       "       '{\"id\":291,\"name\":\"Action\",\"slug\":\"film & video/action\",\"position\":1,\"parent_id\":11,\"color\":16734574,\"urls\":{\"web\":{\"discover\":\"http://www.kickstarter.com/discover/categories/film%20&%20video/action\"}}}',\n",
       "       '{\"id\":53,\"name\":\"Public Art\",\"slug\":\"art/public art\",\"position\":9,\"parent_id\":1,\"color\":16760235,\"urls\":{\"web\":{\"discover\":\"http://www.kickstarter.com/discover/categories/art/public%20art\"}}}',\n",
       "       '{\"id\":324,\"name\":\"Anthologies\",\"slug\":\"publishing/anthologies\",\"position\":2,\"parent_id\":18,\"color\":14867664,\"urls\":{\"web\":{\"discover\":\"http://www.kickstarter.com/discover/categories/publishing/anthologies\"}}}',\n",
       "       '{\"id\":388,\"name\":\"Comedy\",\"slug\":\"theater/comedy\",\"position\":1,\"parent_id\":17,\"color\":16743775,\"urls\":{\"web\":{\"discover\":\"http://www.kickstarter.com/discover/categories/theater/comedy\"}}}',\n",
       "       '{\"id\":23,\"name\":\"Painting\",\"slug\":\"art/painting\",\"position\":7,\"parent_id\":1,\"color\":16760235,\"urls\":{\"web\":{\"discover\":\"http://www.kickstarter.com/discover/categories/art/painting\"}}}',\n",
       "       '{\"id\":253,\"name\":\"Webcomics\",\"slug\":\"comics/webcomics\",\"position\":5,\"parent_id\":3,\"color\":16776056,\"urls\":{\"web\":{\"discover\":\"http://www.kickstarter.com/discover/categories/comics/webcomics\"}}}',\n",
       "       '{\"id\":287,\"name\":\"Ceramics\",\"slug\":\"art/ceramics\",\"position\":1,\"parent_id\":1,\"color\":16760235,\"urls\":{\"web\":{\"discover\":\"http://www.kickstarter.com/discover/categories/art/ceramics\"}}}',\n",
       "       '{\"id\":22,\"name\":\"Illustration\",\"slug\":\"art/illustration\",\"position\":4,\"parent_id\":1,\"color\":16760235,\"urls\":{\"web\":{\"discover\":\"http://www.kickstarter.com/discover/categories/art/illustration\"}}}',\n",
       "       '{\"id\":39,\"name\":\"Hip-Hop\",\"slug\":\"music/hip-hop\",\"position\":8,\"parent_id\":14,\"color\":10878931,\"urls\":{\"web\":{\"discover\":\"http://www.kickstarter.com/discover/categories/music/hip-hop\"}}}',\n",
       "       '{\"id\":306,\"name\":\"Cookbooks\",\"slug\":\"food/cookbooks\",\"position\":3,\"parent_id\":10,\"color\":16725570,\"urls\":{\"web\":{\"discover\":\"http://www.kickstarter.com/discover/categories/food/cookbooks\"}}}',\n",
       "       '{\"id\":10,\"name\":\"Food\",\"slug\":\"food\",\"position\":8,\"color\":16725570,\"urls\":{\"web\":{\"discover\":\"http://www.kickstarter.com/discover/categories/food\"}}}',\n",
       "       '{\"id\":302,\"name\":\"Thrillers\",\"slug\":\"film & video/thrillers\",\"position\":18,\"parent_id\":11,\"color\":16734574,\"urls\":{\"web\":{\"discover\":\"http://www.kickstarter.com/discover/categories/film%20&%20video/thrillers\"}}}',\n",
       "       '{\"id\":7,\"name\":\"Design\",\"slug\":\"design\",\"position\":5,\"color\":2577151,\"urls\":{\"web\":{\"discover\":\"http://www.kickstarter.com/discover/categories/design\"}}}',\n",
       "       '{\"id\":298,\"name\":\"Movie Theaters\",\"slug\":\"film & video/movie theaters\",\"position\":11,\"parent_id\":11,\"color\":16734574,\"urls\":{\"web\":{\"discover\":\"http://www.kickstarter.com/discover/categories/film%20&%20video/movie%20theaters\"}}}',\n",
       "       '{\"id\":46,\"name\":\"Children\\'s Books\",\"slug\":\"publishing/children\\'s books\",\"position\":5,\"parent_id\":18,\"color\":14867664,\"urls\":{\"web\":{\"discover\":\"http://www.kickstarter.com/discover/categories/publishing/children\\'s%20books\"}}}',\n",
       "       '{\"id\":323,\"name\":\"Academic\",\"slug\":\"publishing/academic\",\"position\":1,\"parent_id\":18,\"color\":14867664,\"urls\":{\"web\":{\"discover\":\"http://www.kickstarter.com/discover/categories/publishing/academic\"}}}',\n",
       "       '{\"id\":35,\"name\":\"Video Games\",\"slug\":\"games/video games\",\"position\":7,\"parent_id\":12,\"color\":51627,\"urls\":{\"web\":{\"discover\":\"http://www.kickstarter.com/discover/categories/games/video%20games\"}}}',\n",
       "       '{\"id\":264,\"name\":\"Childrenswear\",\"slug\":\"fashion/childrenswear\",\"position\":3,\"parent_id\":9,\"color\":16752598,\"urls\":{\"web\":{\"discover\":\"http://www.kickstarter.com/discover/categories/fashion/childrenswear\"}}}',\n",
       "       '{\"id\":299,\"name\":\"Music Videos\",\"slug\":\"film & video/music videos\",\"position\":12,\"parent_id\":11,\"color\":16734574,\"urls\":{\"web\":{\"discover\":\"http://www.kickstarter.com/discover/categories/film%20&%20video/music%20videos\"}}}',\n",
       "       '{\"id\":307,\"name\":\"Drinks\",\"slug\":\"food/drinks\",\"position\":4,\"parent_id\":10,\"color\":16725570,\"urls\":{\"web\":{\"discover\":\"http://www.kickstarter.com/discover/categories/food/drinks\"}}}',\n",
       "       '{\"id\":296,\"name\":\"Fantasy\",\"slug\":\"film & video/fantasy\",\"position\":8,\"parent_id\":11,\"color\":16734574,\"urls\":{\"web\":{\"discover\":\"http://www.kickstarter.com/discover/categories/film%20&%20video/fantasy\"}}}',\n",
       "       '{\"id\":320,\"name\":\"Latin\",\"slug\":\"music/latin\",\"position\":12,\"parent_id\":14,\"color\":10878931,\"urls\":{\"web\":{\"discover\":\"http://www.kickstarter.com/discover/categories/music/latin\"}}}',\n",
       "       '{\"id\":300,\"name\":\"Romance\",\"slug\":\"film & video/romance\",\"position\":14,\"parent_id\":11,\"color\":16734574,\"urls\":{\"web\":{\"discover\":\"http://www.kickstarter.com/discover/categories/film%20&%20video/romance\"}}}',\n",
       "       '{\"id\":353,\"name\":\"Stationery\",\"slug\":\"crafts/stationery\",\"position\":11,\"parent_id\":26,\"color\":16744876,\"urls\":{\"web\":{\"discover\":\"http://www.kickstarter.com/discover/categories/crafts/stationery\"}}}',\n",
       "       '{\"id\":344,\"name\":\"Crochet\",\"slug\":\"crafts/crochet\",\"position\":2,\"parent_id\":26,\"color\":16744876,\"urls\":{\"web\":{\"discover\":\"http://www.kickstarter.com/discover/categories/crafts/crochet\"}}}',\n",
       "       '{\"id\":387,\"name\":\"Comedy\",\"slug\":\"publishing/comedy\",\"position\":6,\"parent_id\":18,\"color\":14867664,\"urls\":{\"web\":{\"discover\":\"http://www.kickstarter.com/discover/categories/publishing/comedy\"}}}',\n",
       "       '{\"id\":261,\"name\":\"Typography\",\"slug\":\"design/typography\",\"position\":6,\"parent_id\":7,\"color\":2577151,\"urls\":{\"web\":{\"discover\":\"http://www.kickstarter.com/discover/categories/design/typography\"}}}',\n",
       "       '{\"id\":310,\"name\":\"Farmer\\'s Markets\",\"slug\":\"food/farmer\\'s markets\",\"position\":6,\"parent_id\":10,\"color\":16725570,\"urls\":{\"web\":{\"discover\":\"http://www.kickstarter.com/discover/categories/food/farmer\\'s%20markets\"}}}',\n",
       "       '{\"id\":311,\"name\":\"Food Trucks\",\"slug\":\"food/food trucks\",\"position\":8,\"parent_id\":10,\"color\":16725570,\"urls\":{\"web\":{\"discover\":\"http://www.kickstarter.com/discover/categories/food/food%20trucks\"}}}',\n",
       "       '{\"id\":328,\"name\":\"Young Adult\",\"slug\":\"publishing/young adult\",\"position\":14,\"parent_id\":18,\"color\":14867664,\"urls\":{\"web\":{\"discover\":\"http://www.kickstarter.com/discover/categories/publishing/young%20adult\"}}}',\n",
       "       '{\"id\":29,\"name\":\"Animation\",\"slug\":\"film & video/animation\",\"position\":2,\"parent_id\":11,\"color\":16734574,\"urls\":{\"web\":{\"discover\":\"http://www.kickstarter.com/discover/categories/film%20&%20video/animation\"}}}',\n",
       "       '{\"id\":356,\"name\":\"Woodworking\",\"slug\":\"crafts/woodworking\",\"position\":14,\"parent_id\":26,\"color\":16744876,\"urls\":{\"web\":{\"discover\":\"http://www.kickstarter.com/discover/categories/crafts/woodworking\"}}}',\n",
       "       '{\"id\":345,\"name\":\"DIY\",\"slug\":\"crafts/diy\",\"position\":3,\"parent_id\":26,\"color\":16744876,\"urls\":{\"web\":{\"discover\":\"http://www.kickstarter.com/discover/categories/crafts/diy\"}}}',\n",
       "       '{\"id\":26,\"name\":\"Crafts\",\"slug\":\"crafts\",\"position\":3,\"color\":16744876,\"urls\":{\"web\":{\"discover\":\"http://www.kickstarter.com/discover/categories/crafts\"}}}',\n",
       "       '{\"id\":316,\"name\":\"Blues\",\"slug\":\"music/blues\",\"position\":1,\"parent_id\":14,\"color\":10878931,\"urls\":{\"web\":{\"discover\":\"http://www.kickstarter.com/discover/categories/music/blues\"}}}',\n",
       "       '{\"id\":270,\"name\":\"Gaming Hardware\",\"slug\":\"games/gaming hardware\",\"position\":1,\"parent_id\":12,\"color\":51627,\"urls\":{\"web\":{\"discover\":\"http://www.kickstarter.com/discover/categories/games/gaming%20hardware\"}}}',\n",
       "       '{\"id\":361,\"name\":\"Web\",\"slug\":\"journalism/web\",\"position\":5,\"parent_id\":13,\"color\":1228010,\"urls\":{\"web\":{\"discover\":\"http://www.kickstarter.com/discover/categories/journalism/web\"}}}',\n",
       "       '{\"id\":347,\"name\":\"Glass\",\"slug\":\"crafts/glass\",\"position\":5,\"parent_id\":26,\"color\":16744876,\"urls\":{\"web\":{\"discover\":\"http://www.kickstarter.com/discover/categories/crafts/glass\"}}}',\n",
       "       '{\"id\":258,\"name\":\"Architecture\",\"slug\":\"design/architecture\",\"position\":1,\"parent_id\":7,\"color\":2577151,\"urls\":{\"web\":{\"discover\":\"http://www.kickstarter.com/discover/categories/design/architecture\"}}}',\n",
       "       '{\"id\":322,\"name\":\"R&B\",\"slug\":\"music/r&b\",\"position\":16,\"parent_id\":14,\"color\":10878931,\"urls\":{\"web\":{\"discover\":\"http://www.kickstarter.com/discover/categories/music/r&b\"}}}',\n",
       "       '{\"id\":11,\"name\":\"Film & Video\",\"slug\":\"film & video\",\"position\":7,\"color\":16734574,\"urls\":{\"web\":{\"discover\":\"http://www.kickstarter.com/discover/categories/film%20&%20video\"}}}',\n",
       "       '{\"id\":355,\"name\":\"Weaving\",\"slug\":\"crafts/weaving\",\"position\":13,\"parent_id\":26,\"color\":16744876,\"urls\":{\"web\":{\"discover\":\"http://www.kickstarter.com/discover/categories/crafts/weaving\"}}}',\n",
       "       '{\"id\":343,\"name\":\"Candles\",\"slug\":\"crafts/candles\",\"position\":1,\"parent_id\":26,\"color\":16744876,\"urls\":{\"web\":{\"discover\":\"http://www.kickstarter.com/discover/categories/crafts/candles\"}}}',\n",
       "       '{\"id\":297,\"name\":\"Horror\",\"slug\":\"film & video/horror\",\"position\":10,\"parent_id\":11,\"color\":16734574,\"urls\":{\"web\":{\"discover\":\"http://www.kickstarter.com/discover/categories/film%20&%20video/horror\"}}}',\n",
       "       '{\"id\":295,\"name\":\"Festivals\",\"slug\":\"film & video/festivals\",\"position\":9,\"parent_id\":11,\"color\":16734574,\"urls\":{\"web\":{\"discover\":\"http://www.kickstarter.com/discover/categories/film%20&%20video/festivals\"}}}',\n",
       "       '{\"id\":49,\"name\":\"Periodicals\",\"slug\":\"publishing/periodicals\",\"position\":10,\"parent_id\":18,\"color\":14867664,\"urls\":{\"web\":{\"discover\":\"http://www.kickstarter.com/discover/categories/publishing/periodicals\"}}}',\n",
       "       '{\"id\":348,\"name\":\"Knitting\",\"slug\":\"crafts/knitting\",\"position\":6,\"parent_id\":26,\"color\":16744876,\"urls\":{\"web\":{\"discover\":\"http://www.kickstarter.com/discover/categories/crafts/knitting\"}}}',\n",
       "       '{\"id\":319,\"name\":\"Kids\",\"slug\":\"music/kids\",\"position\":11,\"parent_id\":14,\"color\":10878931,\"urls\":{\"web\":{\"discover\":\"http://www.kickstarter.com/discover/categories/music/kids\"}}}',\n",
       "       '{\"id\":292,\"name\":\"Comedy\",\"slug\":\"film & video/comedy\",\"position\":3,\"parent_id\":11,\"color\":16734574,\"urls\":{\"web\":{\"discover\":\"http://www.kickstarter.com/discover/categories/film%20&%20video/comedy\"}}}',\n",
       "       '{\"id\":33,\"name\":\"Webseries\",\"slug\":\"film & video/webseries\",\"position\":19,\"parent_id\":11,\"color\":16734574,\"urls\":{\"web\":{\"discover\":\"http://www.kickstarter.com/discover/categories/film%20&%20video/webseries\"}}}',\n",
       "       '{\"id\":293,\"name\":\"Drama\",\"slug\":\"film & video/drama\",\"position\":5,\"parent_id\":11,\"color\":16734574,\"urls\":{\"web\":{\"discover\":\"http://www.kickstarter.com/discover/categories/film%20&%20video/drama\"}}}',\n",
       "       '{\"id\":301,\"name\":\"Science Fiction\",\"slug\":\"film & video/science fiction\",\"position\":15,\"parent_id\":11,\"color\":16734574,\"urls\":{\"web\":{\"discover\":\"http://www.kickstarter.com/discover/categories/film%20&%20video/science%20fiction\"}}}',\n",
       "       '{\"id\":282,\"name\":\"Festivals\",\"slug\":\"theater/festivals\",\"position\":3,\"parent_id\":17,\"color\":16743775,\"urls\":{\"web\":{\"discover\":\"http://www.kickstarter.com/discover/categories/theater/festivals\"}}}',\n",
       "       '{\"id\":42,\"name\":\"Pop\",\"slug\":\"music/pop\",\"position\":14,\"parent_id\":14,\"color\":10878931,\"urls\":{\"web\":{\"discover\":\"http://www.kickstarter.com/discover/categories/music/pop\"}}}',\n",
       "       '{\"id\":41,\"name\":\"Jazz\",\"slug\":\"music/jazz\",\"position\":10,\"parent_id\":14,\"color\":10878931,\"urls\":{\"web\":{\"discover\":\"http://www.kickstarter.com/discover/categories/music/jazz\"}}}',\n",
       "       '{\"id\":321,\"name\":\"Punk\",\"slug\":\"music/punk\",\"position\":15,\"parent_id\":14,\"color\":10878931,\"urls\":{\"web\":{\"discover\":\"http://www.kickstarter.com/discover/categories/music/punk\"}}}',\n",
       "       '{\"id\":352,\"name\":\"Quilts\",\"slug\":\"crafts/quilts\",\"position\":10,\"parent_id\":26,\"color\":16744876,\"urls\":{\"web\":{\"discover\":\"http://www.kickstarter.com/discover/categories/crafts/quilts\"}}}',\n",
       "       '{\"id\":6,\"name\":\"Dance\",\"slug\":\"dance\",\"position\":4,\"color\":10917369,\"urls\":{\"web\":{\"discover\":\"http://www.kickstarter.com/discover/categories/dance\"}}}',\n",
       "       '{\"id\":47,\"name\":\"Fiction\",\"slug\":\"publishing/fiction\",\"position\":7,\"parent_id\":18,\"color\":14867664,\"urls\":{\"web\":{\"discover\":\"http://www.kickstarter.com/discover/categories/publishing/fiction\"}}}',\n",
       "       '{\"id\":330,\"name\":\"Family\",\"slug\":\"film & video/family\",\"position\":7,\"parent_id\":11,\"color\":16734574,\"urls\":{\"web\":{\"discover\":\"http://www.kickstarter.com/discover/categories/film%20&%20video/family\"}}}',\n",
       "       '{\"id\":358,\"name\":\"Photo\",\"slug\":\"journalism/photo\",\"position\":2,\"parent_id\":13,\"color\":1228010,\"urls\":{\"web\":{\"discover\":\"http://www.kickstarter.com/discover/categories/journalism/photo\"}}}',\n",
       "       '{\"id\":260,\"name\":\"Interactive Design\",\"slug\":\"design/interactive design\",\"position\":4,\"parent_id\":7,\"color\":2577151,\"urls\":{\"web\":{\"discover\":\"http://www.kickstarter.com/discover/categories/design/interactive%20design\"}}}',\n",
       "       '{\"id\":359,\"name\":\"Print\",\"slug\":\"journalism/print\",\"position\":3,\"parent_id\":13,\"color\":1228010,\"urls\":{\"web\":{\"discover\":\"http://www.kickstarter.com/discover/categories/journalism/print\"}}}',\n",
       "       '{\"id\":325,\"name\":\"Calendars\",\"slug\":\"publishing/calendars\",\"position\":4,\"parent_id\":18,\"color\":14867664,\"urls\":{\"web\":{\"discover\":\"http://www.kickstarter.com/discover/categories/publishing/calendars\"}}}',\n",
       "       '{\"id\":256,\"name\":\"Spaces\",\"slug\":\"dance/spaces\",\"position\":3,\"parent_id\":6,\"color\":10917369,\"urls\":{\"web\":{\"discover\":\"http://www.kickstarter.com/discover/categories/dance/spaces\"}}}',\n",
       "       '{\"id\":255,\"name\":\"Residencies\",\"slug\":\"dance/residencies\",\"position\":2,\"parent_id\":6,\"color\":10917369,\"urls\":{\"web\":{\"discover\":\"http://www.kickstarter.com/discover/categories/dance/residencies\"}}}',\n",
       "       '{\"id\":294,\"name\":\"Experimental\",\"slug\":\"film & video/experimental\",\"position\":6,\"parent_id\":11,\"color\":16734574,\"urls\":{\"web\":{\"discover\":\"http://www.kickstarter.com/discover/categories/film%20&%20video/experimental\"}}}',\n",
       "       '{\"id\":289,\"name\":\"Textiles\",\"slug\":\"art/textiles\",\"position\":11,\"parent_id\":1,\"color\":16760235,\"urls\":{\"web\":{\"discover\":\"http://www.kickstarter.com/discover/categories/art/textiles\"}}}',\n",
       "       '{\"id\":18,\"name\":\"Publishing\",\"slug\":\"publishing\",\"position\":13,\"color\":14867664,\"urls\":{\"web\":{\"discover\":\"http://www.kickstarter.com/discover/categories/publishing\"}}}',\n",
       "       '{\"id\":357,\"name\":\"Audio\",\"slug\":\"journalism/audio\",\"position\":1,\"parent_id\":13,\"color\":1228010,\"urls\":{\"web\":{\"discover\":\"http://www.kickstarter.com/discover/categories/journalism/audio\"}}}',\n",
       "       '{\"id\":360,\"name\":\"Video\",\"slug\":\"journalism/video\",\"position\":4,\"parent_id\":13,\"color\":1228010,\"urls\":{\"web\":{\"discover\":\"http://www.kickstarter.com/discover/categories/journalism/video\"}}}',\n",
       "       '{\"id\":362,\"name\":\"Makerspaces\",\"slug\":\"technology/makerspaces\",\"position\":9,\"parent_id\":16,\"color\":6526716,\"urls\":{\"web\":{\"discover\":\"http://www.kickstarter.com/discover/categories/technology/makerspaces\"}}}',\n",
       "       '{\"id\":326,\"name\":\"Literary Journals\",\"slug\":\"publishing/literary journals\",\"position\":8,\"parent_id\":18,\"color\":14867664,\"urls\":{\"web\":{\"discover\":\"http://www.kickstarter.com/discover/categories/publishing/literary%20journals\"}}}',\n",
       "       '{\"id\":304,\"name\":\"Bacon\",\"slug\":\"food/bacon\",\"position\":1,\"parent_id\":10,\"color\":16725570,\"urls\":{\"web\":{\"discover\":\"http://www.kickstarter.com/discover/categories/food/bacon\"}}}',\n",
       "       '{\"id\":305,\"name\":\"Community Gardens\",\"slug\":\"food/community gardens\",\"position\":2,\"parent_id\":10,\"color\":16725570,\"urls\":{\"web\":{\"discover\":\"http://www.kickstarter.com/discover/categories/food/community%20gardens\"}}}',\n",
       "       '{\"id\":349,\"name\":\"Letterpress\",\"slug\":\"publishing/letterpress\",\"position\":7,\"parent_id\":18,\"color\":14867664,\"urls\":{\"web\":{\"discover\":\"http://www.kickstarter.com/discover/categories/publishing/letterpress\"}}}',\n",
       "       '{\"id\":239,\"name\":\"Radio & Podcasts\",\"slug\":\"publishing/radio & podcasts\",\"position\":12,\"parent_id\":18,\"color\":14867664,\"urls\":{\"web\":{\"discover\":\"http://www.kickstarter.com/discover/categories/publishing/radio%20&%20podcasts\"}}}',\n",
       "       '{\"id\":272,\"name\":\"Mobile Games\",\"slug\":\"games/mobile games\",\"position\":3,\"parent_id\":12,\"color\":51627,\"urls\":{\"web\":{\"discover\":\"http://www.kickstarter.com/discover/categories/games/mobile%20games\"}}}',\n",
       "       '{\"id\":309,\"name\":\"Farms\",\"slug\":\"food/farms\",\"position\":7,\"parent_id\":10,\"color\":16725570,\"urls\":{\"web\":{\"discover\":\"http://www.kickstarter.com/discover/categories/food/farms\"}}}',\n",
       "       '{\"id\":13,\"name\":\"Journalism\",\"slug\":\"journalism\",\"position\":10,\"color\":1228010,\"urls\":{\"web\":{\"discover\":\"http://www.kickstarter.com/discover/categories/journalism\"}}}',\n",
       "       '{\"id\":241,\"name\":\"Metal\",\"slug\":\"music/metal\",\"position\":13,\"parent_id\":14,\"color\":10878931,\"urls\":{\"web\":{\"discover\":\"http://www.kickstarter.com/discover/categories/music/metal\"}}}',\n",
       "       '{\"id\":265,\"name\":\"Couture\",\"slug\":\"fashion/couture\",\"position\":4,\"parent_id\":9,\"color\":16752598,\"urls\":{\"web\":{\"discover\":\"http://www.kickstarter.com/discover/categories/fashion/couture\"}}}',\n",
       "       '{\"id\":251,\"name\":\"Events\",\"slug\":\"comics/events\",\"position\":3,\"parent_id\":3,\"color\":16776056,\"urls\":{\"web\":{\"discover\":\"http://www.kickstarter.com/discover/categories/comics/events\"}}}',\n",
       "       '{\"id\":12,\"name\":\"Games\",\"slug\":\"games\",\"position\":9,\"color\":51627,\"urls\":{\"web\":{\"discover\":\"http://www.kickstarter.com/discover/categories/games\"}}}',\n",
       "       '{\"id\":386,\"name\":\"Comedy\",\"slug\":\"music/comedy\",\"position\":4,\"parent_id\":14,\"color\":10878931,\"urls\":{\"web\":{\"discover\":\"http://www.kickstarter.com/discover/categories/music/comedy\"}}}',\n",
       "       '{\"id\":346,\"name\":\"Embroidery\",\"slug\":\"crafts/embroidery\",\"position\":4,\"parent_id\":26,\"color\":16744876,\"urls\":{\"web\":{\"discover\":\"http://www.kickstarter.com/discover/categories/crafts/embroidery\"}}}',\n",
       "       '{\"id\":317,\"name\":\"Chiptune\",\"slug\":\"music/chiptune\",\"position\":2,\"parent_id\":14,\"color\":10878931,\"urls\":{\"web\":{\"discover\":\"http://www.kickstarter.com/discover/categories/music/chiptune\"}}}'],\n",
       "      dtype=object)"
      ]
     },
     "execution_count": 10,
     "metadata": {},
     "output_type": "execute_result"
    }
   ],
   "source": [
    "df['category'].unique()"
   ]
  },
  {
   "cell_type": "markdown",
   "metadata": {},
   "source": [
    "### category example\n",
    "\n",
    "{\"id\":43,\n",
    "\"name\":\"Rock\",\n",
    "\"slug\":\"music/rock\",\n",
    "\"position\":17,\n",
    "\"parent_id\":14,\n",
    "\"color\":10878931,\n",
    "\"urls\":{\"web\":{\"discover\":\"http://www.kickstarter.com/discover/categories/music/rock\"}}}'"
   ]
  },
  {
   "cell_type": "code",
   "execution_count": 11,
   "metadata": {},
   "outputs": [
    {
     "data": {
      "text/plain": [
       "array(['{\"id\":2094277840,\"name\":\"Lucy Conroy\",\"slug\":\"babalus\",\"is_registered\":null,\"chosen_currency\":null,\"avatar\":{\"thumb\":\"https://ksr-ugc.imgix.net/assets/023/784/556/6ed11b25c853ec1aef7f4360d0eb59ef_original.jpg?ixlib=rb-1.1.0&w=40&h=40&fit=crop&v=1548222691&auto=format&frame=1&q=92&s=b64463d8ae6195f7aeb62393e2ca2dde\",\"small\":\"https://ksr-ugc.imgix.net/assets/023/784/556/6ed11b25c853ec1aef7f4360d0eb59ef_original.jpg?ixlib=rb-1.1.0&w=160&h=160&fit=crop&v=1548222691&auto=format&frame=1&q=92&s=00bc518b23a932bd76fb6e21f4eb6834\",\"medium\":\"https://ksr-ugc.imgix.net/assets/023/784/556/6ed11b25c853ec1aef7f4360d0eb59ef_original.jpg?ixlib=rb-1.1.0&w=160&h=160&fit=crop&v=1548222691&auto=format&frame=1&q=92&s=00bc518b23a932bd76fb6e21f4eb6834\"},\"urls\":{\"web\":{\"user\":\"https://www.kickstarter.com/profile/babalus\"},\"api\":{\"user\":\"https://api.kickstarter.com/v1/users/2094277840?signature=1552621545.c7a32fed985a78dec253fe61c1acb7a99edbc0af\"}}}',\n",
       "       '{\"id\":723886115,\"name\":\"Lisa Vollrath\",\"slug\":\"lisavollrath\",\"is_registered\":null,\"chosen_currency\":null,\"avatar\":{\"thumb\":\"https://ksr-ugc.imgix.net/assets/005/864/451/bcb1e27325c110287e4cade12433e161_original.jpg?ixlib=rb-1.1.0&w=40&h=40&fit=crop&v=1525353537&auto=format&frame=1&q=92&s=6f941b16c6c05cc5722b182874032842\",\"small\":\"https://ksr-ugc.imgix.net/assets/005/864/451/bcb1e27325c110287e4cade12433e161_original.jpg?ixlib=rb-1.1.0&w=160&h=160&fit=crop&v=1525353537&auto=format&frame=1&q=92&s=eee046cfdb8810ddc961450cdf114f6d\",\"medium\":\"https://ksr-ugc.imgix.net/assets/005/864/451/bcb1e27325c110287e4cade12433e161_original.jpg?ixlib=rb-1.1.0&w=160&h=160&fit=crop&v=1525353537&auto=format&frame=1&q=92&s=eee046cfdb8810ddc961450cdf114f6d\"},\"urls\":{\"web\":{\"user\":\"https://www.kickstarter.com/profile/lisavollrath\"},\"api\":{\"user\":\"https://api.kickstarter.com/v1/users/723886115?signature=1552621781.028aa6bdab59abedd2a1eb192d77735f53c218df\"}}}',\n",
       "       '{\"id\":323849677,\"name\":\"Electra\",\"is_registered\":null,\"chosen_currency\":null,\"avatar\":{\"thumb\":\"https://ksr-ugc.imgix.net/assets/006/309/486/7ec61bdb20f4bf0b901a242a396c982b_original.jpg?ixlib=rb-1.1.0&w=40&h=40&fit=crop&v=1461380035&auto=format&frame=1&q=92&s=291730e8ec1f77526e0a271c28d1eeb7\",\"small\":\"https://ksr-ugc.imgix.net/assets/006/309/486/7ec61bdb20f4bf0b901a242a396c982b_original.jpg?ixlib=rb-1.1.0&w=160&h=160&fit=crop&v=1461380035&auto=format&frame=1&q=92&s=6eca6aaddcdc3ccd33d359fce5adad83\",\"medium\":\"https://ksr-ugc.imgix.net/assets/006/309/486/7ec61bdb20f4bf0b901a242a396c982b_original.jpg?ixlib=rb-1.1.0&w=160&h=160&fit=crop&v=1461380035&auto=format&frame=1&q=92&s=6eca6aaddcdc3ccd33d359fce5adad83\"},\"urls\":{\"web\":{\"user\":\"https://www.kickstarter.com/profile/323849677\"},\"api\":{\"user\":\"https://api.kickstarter.com/v1/users/323849677?signature=1552621510.a664b9316496b516beaf76d1c5e43b7dfeb4c552\"}}}',\n",
       "       ...,\n",
       "       '{\"id\":891767476,\"name\":\"Doug Stienstra\",\"is_registered\":null,\"chosen_currency\":null,\"avatar\":{\"thumb\":\"https://ksr-ugc.imgix.net/assets/006/583/465/1e9ff0defce64bcaa38f8dc5200aabe1_original.jpg?ixlib=rb-1.1.0&w=40&h=40&fit=crop&v=1461397162&auto=format&frame=1&q=92&s=4c6b67acebef1c34b1dc3d2ae0a5f47a\",\"small\":\"https://ksr-ugc.imgix.net/assets/006/583/465/1e9ff0defce64bcaa38f8dc5200aabe1_original.jpg?ixlib=rb-1.1.0&w=160&h=160&fit=crop&v=1461397162&auto=format&frame=1&q=92&s=0e7c37d8f8ba55734b61cc99f4f8a764\",\"medium\":\"https://ksr-ugc.imgix.net/assets/006/583/465/1e9ff0defce64bcaa38f8dc5200aabe1_original.jpg?ixlib=rb-1.1.0&w=160&h=160&fit=crop&v=1461397162&auto=format&frame=1&q=92&s=0e7c37d8f8ba55734b61cc99f4f8a764\"},\"urls\":{\"web\":{\"user\":\"https://www.kickstarter.com/profile/891767476\"},\"api\":{\"user\":\"https://api.kickstarter.com/v1/users/891767476?signature=1552626733.d491d2c1430115de57c4684c1d42d5f2ce04bd47\"}}}',\n",
       "       '{\"id\":307076473,\"name\":\"Timothy Vernor\",\"is_registered\":null,\"chosen_currency\":null,\"avatar\":{\"thumb\":\"https://ksr-ugc.imgix.net/assets/005/887/091/6da02f89f66cb76dbc558b23bf16e265_original.jpg?ixlib=rb-1.1.0&w=40&h=40&fit=crop&v=1461095166&auto=format&frame=1&q=92&s=9805cb4b6e0124e1ff90de5f320c6346\",\"small\":\"https://ksr-ugc.imgix.net/assets/005/887/091/6da02f89f66cb76dbc558b23bf16e265_original.jpg?ixlib=rb-1.1.0&w=160&h=160&fit=crop&v=1461095166&auto=format&frame=1&q=92&s=22113cbe99dc35d58c6025c8405ce1d5\",\"medium\":\"https://ksr-ugc.imgix.net/assets/005/887/091/6da02f89f66cb76dbc558b23bf16e265_original.jpg?ixlib=rb-1.1.0&w=160&h=160&fit=crop&v=1461095166&auto=format&frame=1&q=92&s=22113cbe99dc35d58c6025c8405ce1d5\"},\"urls\":{\"web\":{\"user\":\"https://www.kickstarter.com/profile/307076473\"},\"api\":{\"user\":\"https://api.kickstarter.com/v1/users/307076473?signature=1552626344.72cbff18a64fa1250c868ed43276da5a8d4a5c59\"}}}',\n",
       "       '{\"id\":1718677513,\"name\":\"Article\",\"slug\":\"article\",\"is_registered\":null,\"chosen_currency\":null,\"avatar\":{\"thumb\":\"https://ksr-ugc.imgix.net/assets/005/777/206/7f79fcce3d4b81e31819c4cc07eb15ba_original.jpeg?ixlib=rb-1.1.0&w=40&h=40&fit=crop&v=1461084810&auto=format&frame=1&q=92&s=2d33094a017409839da72c9fc7b822ed\",\"small\":\"https://ksr-ugc.imgix.net/assets/005/777/206/7f79fcce3d4b81e31819c4cc07eb15ba_original.jpeg?ixlib=rb-1.1.0&w=160&h=160&fit=crop&v=1461084810&auto=format&frame=1&q=92&s=ebdb78d5a499fa91e8241db15f8fe71a\",\"medium\":\"https://ksr-ugc.imgix.net/assets/005/777/206/7f79fcce3d4b81e31819c4cc07eb15ba_original.jpeg?ixlib=rb-1.1.0&w=160&h=160&fit=crop&v=1461084810&auto=format&frame=1&q=92&s=ebdb78d5a499fa91e8241db15f8fe71a\"},\"urls\":{\"web\":{\"user\":\"https://www.kickstarter.com/profile/article\"},\"api\":{\"user\":\"https://api.kickstarter.com/v1/users/1718677513?signature=1552626644.01bf7d72b7e2ab05d5a8d991b08c728bc2192f1e\"}}}'],\n",
       "      dtype=object)"
      ]
     },
     "execution_count": 11,
     "metadata": {},
     "output_type": "execute_result"
    }
   ],
   "source": [
    "df['creator'].unique()"
   ]
  },
  {
   "cell_type": "markdown",
   "metadata": {},
   "source": [
    "### creator example\n",
    "\n",
    "{\"id\":1495925645,\n",
    "\"name\":\"Daniel\",\n",
    "\"is_registered\":null,\n",
    "\"chosen_currency\":null,\n",
    "\"avatar\":{\"thumb\":\"https://ksr-ugc.imgix.net/assets/006/041/047/c44d1a95c2139ae46af635c7c6e7ea76_original.jpg?ixlib=rb-1.1.0&w=40&h=40&fit=crop&v=1461362658&auto=format&frame=1&q=92&s=3d655afafac9dbb59c1e675adfa87082\",\"small\":\"https://ksr-ugc.imgix.net/assets/006/041/047/c44d1a95c2139ae46af635c7c6e7ea76_original.jpg?ixlib=rb-1.1.0&w=160&h=160&fit=crop&v=1461362658&auto=format&frame=1&q=92&s=3973d24f5c3db1ed1d5c84cec8af1d6d\",\"medium\":\"https://ksr-ugc.imgix.net/assets/006/041/047/c44d1a95c2139ae46af635c7c6e7ea76_original.jpg?ixlib=rb-1.1.0&w=160&h=160&fit=crop&v=1461362658&auto=format&frame=1&q=92&s=3973d24f5c3db1ed1d5c84cec8af1d6d\"},\"urls\":{\"web\":{\"user\":\"https://www.kickstarter.com/profile/1495925645\"},\"api\":{\"user\":\"https://api.kickstarter.com/v1/users/1495925645?signature=1552621462.382152be8688b069cea0ab5f3a266a1530d83c3f\"}}}',"
   ]
  },
  {
   "cell_type": "code",
   "execution_count": 12,
   "metadata": {},
   "outputs": [
    {
     "data": {
      "text/plain": [
       "0"
      ]
     },
     "execution_count": 12,
     "metadata": {},
     "output_type": "execute_result"
    }
   ],
   "source": [
    "df['photo'].isna().sum()"
   ]
  },
  {
   "cell_type": "code",
   "execution_count": 13,
   "metadata": {},
   "outputs": [
    {
     "data": {
      "text/plain": [
       "array(['{\"id\":3508024,\"project_id\":3508024,\"state\":\"inactive\",\"state_changed_at\":1541459205,\"name\":null,\"blurb\":null,\"background_color\":null,\"text_color\":null,\"link_background_color\":null,\"link_text_color\":null,\"link_text\":null,\"link_url\":null,\"show_feature_image\":false,\"background_image_opacity\":0.8,\"should_show_feature_image_section\":true,\"feature_image_attributes\":{\"image_urls\":{\"default\":\"https://ksr-ugc.imgix.net/assets/023/667/205/a565fde5382d6b53276597bcbf505af7_original.jpg?ixlib=rb-1.1.0&crop=faces&w=1552&h=873&fit=crop&v=1546238810&auto=format&frame=1&q=92&s=4faccb2ba6fae37a2d990e8471669753\",\"baseball_card\":\"https://ksr-ugc.imgix.net/assets/023/667/205/a565fde5382d6b53276597bcbf505af7_original.jpg?ixlib=rb-1.1.0&crop=faces&w=560&h=315&fit=crop&v=1546238810&auto=format&frame=1&q=92&s=53798a47ff4e37129dfd4d11827fa5c4\"}}}',\n",
       "       '{\"id\":3094785,\"project_id\":3094785,\"state\":\"active\",\"state_changed_at\":1505402530,\"name\":\"The Ofrenda Oracle Deck\",\"blurb\":\"A colorful Dia de los Muertos themed oracle deck & guidebook for all you tarot lovers, from mixed media artist Lisa Vollrath.\",\"background_color\":\"\",\"text_color\":\"000000\",\"link_background_color\":\"fd7a00\",\"link_text_color\":\"fdfcfc\",\"link_text\":\"Purchase a Deck\",\"link_url\":\"http://www.makeplayingcards.com/sell/lisavollrath\",\"show_feature_image\":false,\"background_image_opacity\":0.8,\"should_show_feature_image_section\":true,\"feature_image_attributes\":{\"image_urls\":{\"default\":\"https://ksr-ugc.imgix.net/assets/017/766/989/dd9f18c773a8546d996293a20e2c422b_original.jpg?ixlib=rb-1.1.0&crop=faces&w=1552&h=873&fit=crop&v=1502053663&auto=format&frame=1&q=92&s=303e28e5899b51063369a2c0370872c6\",\"baseball_card\":\"https://ksr-ugc.imgix.net/assets/017/766/989/dd9f18c773a8546d996293a20e2c422b_original.jpg?ixlib=rb-1.1.0&crop=faces&w=560&h=315&fit=crop&v=1502053663&auto=format&frame=1&q=92&s=90bdce91db36494610fd98402dfe9712\"}}}',\n",
       "       '{\"id\":359847,\"project_id\":359847,\"state\":\"inactive\",\"state_changed_at\":1425915819,\"name\":null,\"blurb\":null,\"background_color\":null,\"text_color\":null,\"link_background_color\":null,\"link_text_color\":null,\"link_text\":null,\"link_url\":null,\"show_feature_image\":false,\"background_image_opacity\":0.8,\"should_show_feature_image_section\":true,\"feature_image_attributes\":{\"image_urls\":{\"default\":\"https://ksr-ugc.imgix.net/assets/011/433/681/489fd66f7861fefd8c82adbe57c1a4ac_original.jpg?ixlib=rb-1.1.0&crop=faces&w=1552&h=873&fit=crop&v=1463682668&auto=format&frame=1&q=92&s=41ad8493bd7e5ddc97bb66f6b5c78b7f\",\"baseball_card\":\"https://ksr-ugc.imgix.net/assets/011/433/681/489fd66f7861fefd8c82adbe57c1a4ac_original.jpg?ixlib=rb-1.1.0&crop=faces&w=560&h=315&fit=crop&v=1463682668&auto=format&frame=1&q=92&s=649af6e315ebf122fc8659e35257d272\"}}}',\n",
       "       ...,\n",
       "       '{\"id\":248552,\"project_id\":248552,\"state\":\"inactive\",\"state_changed_at\":1425915813,\"name\":null,\"blurb\":null,\"background_color\":null,\"text_color\":null,\"link_background_color\":null,\"link_text_color\":null,\"link_text\":null,\"link_url\":null,\"show_feature_image\":false,\"background_image_opacity\":0.8,\"should_show_feature_image_section\":true,\"feature_image_attributes\":{\"image_urls\":{\"default\":\"https://ksr-ugc.imgix.net/assets/011/390/191/4f70456881abb2dceddc1e5e73769393_original.jpg?ixlib=rb-1.1.0&crop=faces&w=1552&h=873&fit=crop&v=1463681986&auto=format&frame=1&q=92&s=68c60f3e1b66b73d83e2c440cb722930\",\"baseball_card\":\"https://ksr-ugc.imgix.net/assets/011/390/191/4f70456881abb2dceddc1e5e73769393_original.jpg?ixlib=rb-1.1.0&crop=faces&w=560&h=315&fit=crop&v=1463681986&auto=format&frame=1&q=92&s=f2ce10fe14271a0f540eda65b56fde5a\"}}}',\n",
       "       '{\"id\":1741612,\"project_id\":1741612,\"state\":\"inactive\",\"state_changed_at\":1425915895,\"name\":null,\"blurb\":null,\"background_color\":null,\"text_color\":null,\"link_background_color\":null,\"link_text_color\":null,\"link_text\":null,\"link_url\":null,\"show_feature_image\":false,\"background_image_opacity\":0.8,\"should_show_feature_image_section\":true,\"feature_image_attributes\":{\"image_urls\":{\"default\":\"https://ksr-ugc.imgix.net/assets/012/055/131/c728543aff0f2d3dfcabb68e64b49023_original.png?ixlib=rb-1.1.0&crop=faces&w=1552&h=873&fit=crop&v=1463727831&auto=format&frame=1&q=92&s=876b33adf209611d21ca834fdb856d57\",\"baseball_card\":\"https://ksr-ugc.imgix.net/assets/012/055/131/c728543aff0f2d3dfcabb68e64b49023_original.png?ixlib=rb-1.1.0&crop=faces&w=560&h=315&fit=crop&v=1463727831&auto=format&frame=1&q=92&s=08fec82edb47975d6942e51445b68665\"}}}',\n",
       "       '{\"id\":2624,\"project_id\":2624,\"state\":\"inactive\",\"state_changed_at\":1425915800,\"name\":null,\"blurb\":null,\"background_color\":null,\"text_color\":null,\"link_background_color\":null,\"link_text_color\":null,\"link_text\":null,\"link_url\":null,\"show_feature_image\":false,\"background_image_opacity\":0.8,\"should_show_feature_image_section\":true,\"feature_image_attributes\":{\"image_urls\":{\"default\":\"https://ksr-ugc.imgix.net/assets/011/259/312/82bb715be131b061ecd11c3459458bf7_original.jpg?ixlib=rb-1.1.0&crop=faces&w=1552&h=873&fit=crop&v=1463673779&auto=format&frame=1&q=92&s=25da334967876d77f701127498fdafe5\",\"baseball_card\":\"https://ksr-ugc.imgix.net/assets/011/259/312/82bb715be131b061ecd11c3459458bf7_original.jpg?ixlib=rb-1.1.0&crop=faces&w=560&h=315&fit=crop&v=1463673779&auto=format&frame=1&q=92&s=4874d789fecaa70cef074a6855908016\"}}}'],\n",
       "      dtype=object)"
      ]
     },
     "execution_count": 13,
     "metadata": {},
     "output_type": "execute_result"
    }
   ],
   "source": [
    "df['profile'].unique()"
   ]
  },
  {
   "cell_type": "markdown",
   "metadata": {},
   "source": [
    "### profile example\n",
    "\n",
    "{\"id\":822687,\n",
    "\"project_id\":822687,\n",
    "\"state\":\"inactive\",\n",
    "\"state_changed_at\":1425915845,\n",
    "\"name\":null,\n",
    "\"blurb\":null,\n",
    "\"background_color\":null,\n",
    "\"text_color\":null,\n",
    "\"link_background_color\":null,\n",
    "\"link_text_color\":null,\n",
    "\"link_text\":null,\n",
    "\"link_url\":null,\n",
    "\"show_feature_image\":false,\n",
    "\"background_image_opacity\":0.8,\n",
    "\"should_show_feature_image_section\":true,\n",
    "\"feature_image_attributes\":{\"image_urls\":{\"default\":\"https://ksr-ugc.imgix.net/assets/011/625/534/5bea1760d7f20943c4cd5e9b4911c1bd_original.jpg?ixlib=rb-1.1.0&crop=faces&w=1552&h=873&fit=crop&v=1463685705&auto=format&frame=1&q=92&s=90c72b785ef97539099dffb8531dcad3\",\"baseball_card\":\"https://ksr-ugc.imgix.net/assets/011/625/534/5bea1760d7f20943c4cd5e9b4911c1bd_original.jpg?ixlib=rb-1.1.0&crop=faces&w=560&h=315&fit=crop&v=1463685705&auto=format&frame=1&q=92&s=883b3ff098e5fc4cf6fec280665f5fd0\"}}}'"
   ]
  },
  {
   "cell_type": "markdown",
   "metadata": {},
   "source": [
    "## list of features we keep\n",
    "\n",
    " 1   blurb                     short description \n",
    " 2   category                  Kickstarter categories  \n",
    " 4   country                   country \n",
    " 5   created_at                creation date/time?  \n",
    " 7   currency                  currency the project asks for\n",
    " 10  current_currency          ?\n",
    " 11  deadline                  deadline date/time?\n",
    " 12  disable_communication     don't allow communication/comments  \n",
    "|14  fx_rate                   currency conversion rate \n",
    " 15  goal                      fixed amount required for funding (convert with fx_rate)\n",
    " 18  is_starrable              ?  \n",
    " 20  launched_at               launch date/time?  \n",
    " 21  location                  location\n",
    " 22  name                      project name \n",
    " 24  photo                     -> check if projects without photo\n",
    " 31  state                     !!!!!target!!!!! "
   ]
  },
  {
   "cell_type": "markdown",
   "metadata": {},
   "source": [
    "## stakeholder\n",
    "\n",
    "* who? - people/creators who are considering launching a project on Kickstarter\n",
    "* why? - to find out if it's worth investing the time/money in creating materials/launching a project and which criteria to consider in order to make it successful\n",
    "* metric? - f_beta (probably imbalanced data)\n",
    "* model: classifier (binary)\n"
   ]
  },
  {
   "cell_type": "markdown",
   "metadata": {},
   "source": [
    "# EDA - Round 1"
   ]
  },
  {
   "cell_type": "markdown",
   "metadata": {},
   "source": []
  },
  {
   "cell_type": "code",
   "execution_count": 14,
   "metadata": {},
   "outputs": [
    {
     "name": "stdout",
     "output_type": "stream",
     "text": [
      "<class 'pandas.core.frame.DataFrame'>\n",
      "RangeIndex: 209222 entries, 0 to 209221\n",
      "Data columns (total 37 columns):\n",
      " #   Column                    Non-Null Count   Dtype  \n",
      "---  ------                    --------------   -----  \n",
      " 0   backers_count             209222 non-null  int64  \n",
      " 1   blurb                     209214 non-null  object \n",
      " 2   category                  209222 non-null  object \n",
      " 3   converted_pledged_amount  209222 non-null  int64  \n",
      " 4   country                   209222 non-null  object \n",
      " 5   created_at                209222 non-null  int64  \n",
      " 6   creator                   209222 non-null  object \n",
      " 7   currency                  209222 non-null  object \n",
      " 8   currency_symbol           209222 non-null  object \n",
      " 9   currency_trailing_code    209222 non-null  bool   \n",
      " 10  current_currency          209222 non-null  object \n",
      " 11  deadline                  209222 non-null  int64  \n",
      " 12  disable_communication     209222 non-null  bool   \n",
      " 13  friends                   300 non-null     object \n",
      " 14  fx_rate                   209222 non-null  float64\n",
      " 15  goal                      209222 non-null  float64\n",
      " 16  id                        209222 non-null  int64  \n",
      " 17  is_backing                300 non-null     object \n",
      " 18  is_starrable              209222 non-null  bool   \n",
      " 19  is_starred                300 non-null     object \n",
      " 20  launched_at               209222 non-null  int64  \n",
      " 21  location                  208996 non-null  object \n",
      " 22  name                      209222 non-null  object \n",
      " 23  permissions               300 non-null     object \n",
      " 24  photo                     209222 non-null  object \n",
      " 25  pledged                   209222 non-null  float64\n",
      " 26  profile                   209222 non-null  object \n",
      " 27  slug                      209222 non-null  object \n",
      " 28  source_url                209222 non-null  object \n",
      " 29  spotlight                 209222 non-null  bool   \n",
      " 30  staff_pick                209222 non-null  bool   \n",
      " 31  state                     209222 non-null  object \n",
      " 32  state_changed_at          209222 non-null  int64  \n",
      " 33  static_usd_rate           209222 non-null  float64\n",
      " 34  urls                      209222 non-null  object \n",
      " 35  usd_pledged               209222 non-null  float64\n",
      " 36  usd_type                  208742 non-null  object \n",
      "dtypes: bool(5), float64(5), int64(7), object(20)\n",
      "memory usage: 52.1+ MB\n"
     ]
    }
   ],
   "source": [
    "# load data\n",
    "\n",
    "df = pd.read_csv(\"data/combined_csv.csv\")\n",
    "\n",
    "df.info()"
   ]
  },
  {
   "cell_type": "code",
   "execution_count": 15,
   "metadata": {},
   "outputs": [
    {
     "data": {
      "text/html": [
       "<div>\n",
       "<style scoped>\n",
       "    .dataframe tbody tr th:only-of-type {\n",
       "        vertical-align: middle;\n",
       "    }\n",
       "\n",
       "    .dataframe tbody tr th {\n",
       "        vertical-align: top;\n",
       "    }\n",
       "\n",
       "    .dataframe thead th {\n",
       "        text-align: right;\n",
       "    }\n",
       "</style>\n",
       "<table border=\"1\" class=\"dataframe\">\n",
       "  <thead>\n",
       "    <tr style=\"text-align: right;\">\n",
       "      <th></th>\n",
       "      <th>backers_count</th>\n",
       "      <th>blurb</th>\n",
       "      <th>category</th>\n",
       "      <th>converted_pledged_amount</th>\n",
       "      <th>country</th>\n",
       "      <th>created_at</th>\n",
       "      <th>creator</th>\n",
       "      <th>currency</th>\n",
       "      <th>currency_symbol</th>\n",
       "      <th>currency_trailing_code</th>\n",
       "      <th>...</th>\n",
       "      <th>slug</th>\n",
       "      <th>source_url</th>\n",
       "      <th>spotlight</th>\n",
       "      <th>staff_pick</th>\n",
       "      <th>state</th>\n",
       "      <th>state_changed_at</th>\n",
       "      <th>static_usd_rate</th>\n",
       "      <th>urls</th>\n",
       "      <th>usd_pledged</th>\n",
       "      <th>usd_type</th>\n",
       "    </tr>\n",
       "  </thead>\n",
       "  <tbody>\n",
       "    <tr>\n",
       "      <th>0</th>\n",
       "      <td>315</td>\n",
       "      <td>Babalus Shoes</td>\n",
       "      <td>{\"id\":266,\"name\":\"Footwear\",\"slug\":\"fashion/fo...</td>\n",
       "      <td>28645</td>\n",
       "      <td>US</td>\n",
       "      <td>1541459205</td>\n",
       "      <td>{\"id\":2094277840,\"name\":\"Lucy Conroy\",\"slug\":\"...</td>\n",
       "      <td>USD</td>\n",
       "      <td>$</td>\n",
       "      <td>True</td>\n",
       "      <td>...</td>\n",
       "      <td>babalus-childrens-shoes</td>\n",
       "      <td>https://www.kickstarter.com/discover/categorie...</td>\n",
       "      <td>False</td>\n",
       "      <td>False</td>\n",
       "      <td>live</td>\n",
       "      <td>1548223375</td>\n",
       "      <td>1.000000</td>\n",
       "      <td>{\"web\":{\"project\":\"https://www.kickstarter.com...</td>\n",
       "      <td>28645.000000</td>\n",
       "      <td>international</td>\n",
       "    </tr>\n",
       "    <tr>\n",
       "      <th>1</th>\n",
       "      <td>47</td>\n",
       "      <td>A colorful Dia de los Muertos themed oracle de...</td>\n",
       "      <td>{\"id\":273,\"name\":\"Playing Cards\",\"slug\":\"games...</td>\n",
       "      <td>1950</td>\n",
       "      <td>US</td>\n",
       "      <td>1501684093</td>\n",
       "      <td>{\"id\":723886115,\"name\":\"Lisa Vollrath\",\"slug\":...</td>\n",
       "      <td>USD</td>\n",
       "      <td>$</td>\n",
       "      <td>True</td>\n",
       "      <td>...</td>\n",
       "      <td>the-ofrenda-oracle-deck</td>\n",
       "      <td>https://www.kickstarter.com/discover/categorie...</td>\n",
       "      <td>True</td>\n",
       "      <td>False</td>\n",
       "      <td>successful</td>\n",
       "      <td>1504976459</td>\n",
       "      <td>1.000000</td>\n",
       "      <td>{\"web\":{\"project\":\"https://www.kickstarter.com...</td>\n",
       "      <td>1950.000000</td>\n",
       "      <td>domestic</td>\n",
       "    </tr>\n",
       "    <tr>\n",
       "      <th>2</th>\n",
       "      <td>271</td>\n",
       "      <td>Electra's long awaited, eclectic Debut Pop/Roc...</td>\n",
       "      <td>{\"id\":43,\"name\":\"Rock\",\"slug\":\"music/rock\",\"po...</td>\n",
       "      <td>22404</td>\n",
       "      <td>US</td>\n",
       "      <td>1348987533</td>\n",
       "      <td>{\"id\":323849677,\"name\":\"Electra\",\"is_registere...</td>\n",
       "      <td>USD</td>\n",
       "      <td>$</td>\n",
       "      <td>True</td>\n",
       "      <td>...</td>\n",
       "      <td>record-electras-debut-album-pop-rock-classical</td>\n",
       "      <td>https://www.kickstarter.com/discover/categorie...</td>\n",
       "      <td>True</td>\n",
       "      <td>False</td>\n",
       "      <td>successful</td>\n",
       "      <td>1371013395</td>\n",
       "      <td>1.000000</td>\n",
       "      <td>{\"web\":{\"project\":\"https://www.kickstarter.com...</td>\n",
       "      <td>22404.000000</td>\n",
       "      <td>international</td>\n",
       "    </tr>\n",
       "    <tr>\n",
       "      <th>3</th>\n",
       "      <td>3</td>\n",
       "      <td>The Mist of Tribunal is a turn-based card game...</td>\n",
       "      <td>{\"id\":273,\"name\":\"Playing Cards\",\"slug\":\"games...</td>\n",
       "      <td>165</td>\n",
       "      <td>GB</td>\n",
       "      <td>1483780271</td>\n",
       "      <td>{\"id\":196281496,\"name\":\"Artur Ordijanc (delete...</td>\n",
       "      <td>GBP</td>\n",
       "      <td>£</td>\n",
       "      <td>False</td>\n",
       "      <td>...</td>\n",
       "      <td>the-mist-of-tribunal-a-card-game</td>\n",
       "      <td>https://www.kickstarter.com/discover/categorie...</td>\n",
       "      <td>False</td>\n",
       "      <td>False</td>\n",
       "      <td>failed</td>\n",
       "      <td>1489425776</td>\n",
       "      <td>1.216066</td>\n",
       "      <td>{\"web\":{\"project\":\"https://www.kickstarter.com...</td>\n",
       "      <td>165.384934</td>\n",
       "      <td>domestic</td>\n",
       "    </tr>\n",
       "    <tr>\n",
       "      <th>4</th>\n",
       "      <td>3</td>\n",
       "      <td>Livng with a brain impairment, what its like t...</td>\n",
       "      <td>{\"id\":48,\"name\":\"Nonfiction\",\"slug\":\"publishin...</td>\n",
       "      <td>2820</td>\n",
       "      <td>US</td>\n",
       "      <td>1354817071</td>\n",
       "      <td>{\"id\":1178460181,\"name\":\"Dawn Johnston\",\"is_re...</td>\n",
       "      <td>USD</td>\n",
       "      <td>$</td>\n",
       "      <td>True</td>\n",
       "      <td>...</td>\n",
       "      <td>help-change-the-face-of-brain-impairment</td>\n",
       "      <td>https://www.kickstarter.com/discover/categorie...</td>\n",
       "      <td>True</td>\n",
       "      <td>False</td>\n",
       "      <td>successful</td>\n",
       "      <td>1357763527</td>\n",
       "      <td>1.000000</td>\n",
       "      <td>{\"web\":{\"project\":\"https://www.kickstarter.com...</td>\n",
       "      <td>2820.000000</td>\n",
       "      <td>domestic</td>\n",
       "    </tr>\n",
       "  </tbody>\n",
       "</table>\n",
       "<p>5 rows × 37 columns</p>\n",
       "</div>"
      ],
      "text/plain": [
       "   backers_count                                              blurb  \\\n",
       "0            315                                      Babalus Shoes   \n",
       "1             47  A colorful Dia de los Muertos themed oracle de...   \n",
       "2            271  Electra's long awaited, eclectic Debut Pop/Roc...   \n",
       "3              3  The Mist of Tribunal is a turn-based card game...   \n",
       "4              3  Livng with a brain impairment, what its like t...   \n",
       "\n",
       "                                            category  \\\n",
       "0  {\"id\":266,\"name\":\"Footwear\",\"slug\":\"fashion/fo...   \n",
       "1  {\"id\":273,\"name\":\"Playing Cards\",\"slug\":\"games...   \n",
       "2  {\"id\":43,\"name\":\"Rock\",\"slug\":\"music/rock\",\"po...   \n",
       "3  {\"id\":273,\"name\":\"Playing Cards\",\"slug\":\"games...   \n",
       "4  {\"id\":48,\"name\":\"Nonfiction\",\"slug\":\"publishin...   \n",
       "\n",
       "   converted_pledged_amount country  created_at  \\\n",
       "0                     28645      US  1541459205   \n",
       "1                      1950      US  1501684093   \n",
       "2                     22404      US  1348987533   \n",
       "3                       165      GB  1483780271   \n",
       "4                      2820      US  1354817071   \n",
       "\n",
       "                                             creator currency currency_symbol  \\\n",
       "0  {\"id\":2094277840,\"name\":\"Lucy Conroy\",\"slug\":\"...      USD               $   \n",
       "1  {\"id\":723886115,\"name\":\"Lisa Vollrath\",\"slug\":...      USD               $   \n",
       "2  {\"id\":323849677,\"name\":\"Electra\",\"is_registere...      USD               $   \n",
       "3  {\"id\":196281496,\"name\":\"Artur Ordijanc (delete...      GBP               £   \n",
       "4  {\"id\":1178460181,\"name\":\"Dawn Johnston\",\"is_re...      USD               $   \n",
       "\n",
       "   currency_trailing_code  ...  \\\n",
       "0                    True  ...   \n",
       "1                    True  ...   \n",
       "2                    True  ...   \n",
       "3                   False  ...   \n",
       "4                    True  ...   \n",
       "\n",
       "                                             slug  \\\n",
       "0                         babalus-childrens-shoes   \n",
       "1                         the-ofrenda-oracle-deck   \n",
       "2  record-electras-debut-album-pop-rock-classical   \n",
       "3                the-mist-of-tribunal-a-card-game   \n",
       "4        help-change-the-face-of-brain-impairment   \n",
       "\n",
       "                                          source_url  spotlight staff_pick  \\\n",
       "0  https://www.kickstarter.com/discover/categorie...      False      False   \n",
       "1  https://www.kickstarter.com/discover/categorie...       True      False   \n",
       "2  https://www.kickstarter.com/discover/categorie...       True      False   \n",
       "3  https://www.kickstarter.com/discover/categorie...      False      False   \n",
       "4  https://www.kickstarter.com/discover/categorie...       True      False   \n",
       "\n",
       "        state  state_changed_at  static_usd_rate  \\\n",
       "0        live        1548223375         1.000000   \n",
       "1  successful        1504976459         1.000000   \n",
       "2  successful        1371013395         1.000000   \n",
       "3      failed        1489425776         1.216066   \n",
       "4  successful        1357763527         1.000000   \n",
       "\n",
       "                                                urls   usd_pledged  \\\n",
       "0  {\"web\":{\"project\":\"https://www.kickstarter.com...  28645.000000   \n",
       "1  {\"web\":{\"project\":\"https://www.kickstarter.com...   1950.000000   \n",
       "2  {\"web\":{\"project\":\"https://www.kickstarter.com...  22404.000000   \n",
       "3  {\"web\":{\"project\":\"https://www.kickstarter.com...    165.384934   \n",
       "4  {\"web\":{\"project\":\"https://www.kickstarter.com...   2820.000000   \n",
       "\n",
       "        usd_type  \n",
       "0  international  \n",
       "1       domestic  \n",
       "2  international  \n",
       "3       domestic  \n",
       "4       domestic  \n",
       "\n",
       "[5 rows x 37 columns]"
      ]
     },
     "execution_count": 15,
     "metadata": {},
     "output_type": "execute_result"
    }
   ],
   "source": [
    "df.head()"
   ]
  },
  {
   "cell_type": "code",
   "execution_count": 16,
   "metadata": {},
   "outputs": [
    {
     "data": {
      "text/plain": [
       "Index(['backers_count', 'blurb', 'category', 'converted_pledged_amount',\n",
       "       'country', 'created_at', 'creator', 'currency', 'currency_symbol',\n",
       "       'currency_trailing_code', 'current_currency', 'deadline',\n",
       "       'disable_communication', 'friends', 'fx_rate', 'goal', 'id',\n",
       "       'is_backing', 'is_starrable', 'is_starred', 'launched_at', 'location',\n",
       "       'name', 'permissions', 'photo', 'pledged', 'profile', 'slug',\n",
       "       'source_url', 'spotlight', 'staff_pick', 'state', 'state_changed_at',\n",
       "       'static_usd_rate', 'urls', 'usd_pledged', 'usd_type'],\n",
       "      dtype='object')"
      ]
     },
     "execution_count": 16,
     "metadata": {},
     "output_type": "execute_result"
    }
   ],
   "source": [
    "df.columns"
   ]
  },
  {
   "cell_type": "code",
   "execution_count": 17,
   "metadata": {},
   "outputs": [
    {
     "name": "stdout",
     "output_type": "stream",
     "text": [
      "<class 'pandas.core.frame.DataFrame'>\n",
      "RangeIndex: 209222 entries, 0 to 209221\n",
      "Data columns (total 19 columns):\n",
      " #   Column                    Non-Null Count   Dtype  \n",
      "---  ------                    --------------   -----  \n",
      " 0   backers_count             209222 non-null  int64  \n",
      " 1   blurb                     209214 non-null  object \n",
      " 2   category                  209222 non-null  object \n",
      " 3   converted_pledged_amount  209222 non-null  int64  \n",
      " 4   country                   209222 non-null  object \n",
      " 5   created_at                209222 non-null  int64  \n",
      " 6   currency                  209222 non-null  object \n",
      " 7   deadline                  209222 non-null  int64  \n",
      " 8   disable_communication     209222 non-null  bool   \n",
      " 9   fx_rate                   209222 non-null  float64\n",
      " 10  goal                      209222 non-null  float64\n",
      " 11  is_starrable              209222 non-null  bool   \n",
      " 12  launched_at               209222 non-null  int64  \n",
      " 13  location                  208996 non-null  object \n",
      " 14  name                      209222 non-null  object \n",
      " 15  photo                     209222 non-null  object \n",
      " 16  spotlight                 209222 non-null  bool   \n",
      " 17  staff_pick                209222 non-null  bool   \n",
      " 18  state                     209222 non-null  object \n",
      "dtypes: bool(4), float64(2), int64(5), object(8)\n",
      "memory usage: 24.7+ MB\n"
     ]
    }
   ],
   "source": [
    "# drop columns we won't be using\n",
    "\n",
    "df = df[['backers_count', 'blurb', 'category', 'converted_pledged_amount',\n",
    "       'country', 'created_at', 'currency', 'deadline',\n",
    "       'disable_communication', 'fx_rate', 'goal', 'is_starrable', 'launched_at', 'location',\n",
    "       'name', 'photo', 'spotlight', 'staff_pick', 'state']]\n",
    "\n",
    "df.info()"
   ]
  },
  {
   "cell_type": "markdown",
   "metadata": {},
   "source": [
    "### Missing Values\n",
    "\n",
    "* location has 20 missing values (out of 18937)\n",
    "* blurb has 1 missing value (out of 18937)"
   ]
  },
  {
   "cell_type": "code",
   "execution_count": 18,
   "metadata": {},
   "outputs": [],
   "source": [
    "#sns.pairplot(df)"
   ]
  },
  {
   "cell_type": "code",
   "execution_count": 19,
   "metadata": {},
   "outputs": [
    {
     "data": {
      "text/plain": [
       "array(['live', 'successful', 'failed', 'canceled', 'suspended'],\n",
       "      dtype=object)"
      ]
     },
     "execution_count": 19,
     "metadata": {},
     "output_type": "execute_result"
    }
   ],
   "source": [
    "df['state'].unique()"
   ]
  },
  {
   "cell_type": "code",
   "execution_count": 20,
   "metadata": {},
   "outputs": [
    {
     "data": {
      "text/plain": [
       "7311"
      ]
     },
     "execution_count": 20,
     "metadata": {},
     "output_type": "execute_result"
    }
   ],
   "source": [
    "live = df.query('state == \"live\"')\n",
    "len(live)"
   ]
  },
  {
   "cell_type": "code",
   "execution_count": 21,
   "metadata": {},
   "outputs": [
    {
     "data": {
      "text/plain": [
       "8624"
      ]
     },
     "execution_count": 21,
     "metadata": {},
     "output_type": "execute_result"
    }
   ],
   "source": [
    "canceled = df.query('state == \"canceled\"')\n",
    "len(canceled)"
   ]
  },
  {
   "cell_type": "code",
   "execution_count": 22,
   "metadata": {},
   "outputs": [
    {
     "data": {
      "text/plain": [
       "623"
      ]
     },
     "execution_count": 22,
     "metadata": {},
     "output_type": "execute_result"
    }
   ],
   "source": [
    "suspended = df.query('state == \"suspended\"')\n",
    "len(suspended)"
   ]
  },
  {
   "cell_type": "code",
   "execution_count": 23,
   "metadata": {},
   "outputs": [
    {
     "data": {
      "text/plain": [
       "117465"
      ]
     },
     "execution_count": 23,
     "metadata": {},
     "output_type": "execute_result"
    }
   ],
   "source": [
    "successful = df.query('state == \"successful\"')\n",
    "len(successful)"
   ]
  },
  {
   "cell_type": "code",
   "execution_count": 24,
   "metadata": {},
   "outputs": [
    {
     "data": {
      "text/plain": [
       "75199"
      ]
     },
     "execution_count": 24,
     "metadata": {},
     "output_type": "execute_result"
    }
   ],
   "source": [
    "failed = df.query('state == \"failed\"')\n",
    "len(failed)"
   ]
  },
  {
   "cell_type": "code",
   "execution_count": 25,
   "metadata": {},
   "outputs": [
    {
     "name": "stdout",
     "output_type": "stream",
     "text": [
      "['successful' 'failed']\n",
      "[1 0]\n"
     ]
    }
   ],
   "source": [
    "# convert 'state' to numerical\n",
    "# successful: 1\n",
    "# failed: 0\n",
    "# drop: live, suspended, canceled\n",
    "\n",
    "df = df.query('state != \"live\"')\n",
    "df = df.query('state != \"suspended\"')\n",
    "df = df.query('state != \"canceled\"')\n",
    "print(df['state'].unique()) # check that 'state' only contains failed and successful\n",
    "\n",
    "df['state'].replace({'failed':0, 'successful':1}, inplace=True)\n",
    "print(df['state'].unique()) # check that 'state' only contains 1 and 0\n"
   ]
  },
  {
   "cell_type": "code",
   "execution_count": 26,
   "metadata": {},
   "outputs": [
    {
     "data": {
      "text/plain": [
       "<AxesSubplot:xlabel='state', ylabel='count'>"
      ]
     },
     "execution_count": 26,
     "metadata": {},
     "output_type": "execute_result"
    },
    {
     "data": {
      "image/png": "[encoded data removed]",
      "text/plain": [
       "<Figure size 432x288 with 1 Axes>"
      ]
     },
     "metadata": {
      "needs_background": "light"
     },
     "output_type": "display_data"
    }
   ],
   "source": [
    "# plot frequency of success and failure\n",
    "\n",
    "sns.countplot(x='state', data=df)\n",
    "\n",
    "\n"
   ]
  },
  {
   "cell_type": "code",
   "execution_count": 27,
   "metadata": {},
   "outputs": [
    {
     "data": {
      "text/plain": [
       "DummyClassifier(strategy='most_frequent')"
      ]
     },
     "execution_count": 27,
     "metadata": {},
     "output_type": "execute_result"
    }
   ],
   "source": [
    "from sklearn.dummy import DummyClassifier\n",
    "X = df.drop('state', axis=1)\n",
    "y = df['state']\n",
    "\n",
    "dummy_clf = DummyClassifier(strategy=\"most_frequent\")\n",
    "dummy_clf.fit(X, y)"
   ]
  },
  {
   "cell_type": "code",
   "execution_count": 29,
   "metadata": {},
   "outputs": [],
   "source": [
    "y_pred_dummy = dummy_clf.predict(X)"
   ]
  },
  {
   "cell_type": "code",
   "execution_count": 30,
   "metadata": {},
   "outputs": [
    {
     "data": {
      "text/plain": [
       "0.6096883693891957"
      ]
     },
     "execution_count": 30,
     "metadata": {},
     "output_type": "execute_result"
    }
   ],
   "source": [
    "dummy_clf.score(X, y)"
   ]
  },
  {
   "cell_type": "code",
   "execution_count": 32,
   "metadata": {},
   "outputs": [
    {
     "name": "stdout",
     "output_type": "stream",
     "text": [
      "              precision    recall  f1-score   support\n",
      "\n",
      "           0       0.00      0.00      0.00     75199\n",
      "           1       0.61      1.00      0.76    117465\n",
      "\n",
      "    accuracy                           0.61    192664\n",
      "   macro avg       0.30      0.50      0.38    192664\n",
      "weighted avg       0.37      0.61      0.46    192664\n",
      "\n"
     ]
    },
    {
     "name": "stderr",
     "output_type": "stream",
     "text": [
      "/Users/laurenthartmann/neuefische/kickstarter-ml/.venv/lib/python3.9/site-packages/sklearn/metrics/_classification.py:1308: UndefinedMetricWarning: Precision and F-score are ill-defined and being set to 0.0 in labels with no predicted samples. Use `zero_division` parameter to control this behavior.\n",
      "  _warn_prf(average, modifier, msg_start, len(result))\n",
      "/Users/laurenthartmann/neuefische/kickstarter-ml/.venv/lib/python3.9/site-packages/sklearn/metrics/_classification.py:1308: UndefinedMetricWarning: Precision and F-score are ill-defined and being set to 0.0 in labels with no predicted samples. Use `zero_division` parameter to control this behavior.\n",
      "  _warn_prf(average, modifier, msg_start, len(result))\n",
      "/Users/laurenthartmann/neuefische/kickstarter-ml/.venv/lib/python3.9/site-packages/sklearn/metrics/_classification.py:1308: UndefinedMetricWarning: Precision and F-score are ill-defined and being set to 0.0 in labels with no predicted samples. Use `zero_division` parameter to control this behavior.\n",
      "  _warn_prf(average, modifier, msg_start, len(result))\n"
     ]
    }
   ],
   "source": [
    "print(classification_report(y, y_pred_dummy))"
   ]
  },
  {
   "cell_type": "code",
   "execution_count": 40,
   "metadata": {},
   "outputs": [],
   "source": [
    "cfm_dummy = confusion_matrix(y, y_pred_dummy)\n",
    "cfm_dummy = cfm_dummy.astype('float') / cfm_dummy.sum(axis=1)[:, np.newaxis] # normalize the data"
   ]
  },
  {
   "cell_type": "code",
   "execution_count": 43,
   "metadata": {},
   "outputs": [
    {
     "data": {
      "image/png": "[encoded data removed]",
      "text/plain": [
       "<Figure size 432x288 with 2 Axes>"
      ]
     },
     "metadata": {
      "needs_background": "light"
     },
     "output_type": "display_data"
    }
   ],
   "source": [
    "# view with a heatmap\n",
    "plt.figure()\n",
    "sns.heatmap(cfm_dummy, annot=True, annot_kws={\"size\":30}, \n",
    "        cmap='Blues', square=True, fmt='.3f')\n",
    "plt.ylabel('True label')\n",
    "plt.xlabel('Predicted label')\n",
    "plt.title('Confusion matrix for Dummy Classifier:');\n"
   ]
  },
  {
   "cell_type": "markdown",
   "metadata": {},
   "source": [
    "## Baseline Model\n",
    "\n",
    "* the value of your product\n",
    "\n",
    "Our product helps potential kickstarter creators assess whether their project will get funding.\n",
    "It supports them in finding out if it's worth investing the time and money to launch their project and which criteria to consider in order to make it successful.\n",
    "\n",
    "* what will you predict, based on what, and evaluation metric used\n",
    "\n",
    "We will predict whether a project will be successfully funded on Kickstarter.\n",
    "Our model will be based on features like the funding goal, the currency the goal is in and the category of the project.\n",
    "We will use the F1-score as the evaluation metric in order to get a good balance between precision and recall.\n",
    "Both false positives (predicting that a project will be funded and the creator investing time and money to fail in the end) and false negatives (predicting that a project will be unsuccessful and preventing the creators from realizing their idea) are equally undesirable in this context.\n",
    "\n",
    "* short description of baseline, and the score (based on eval metric)\n",
    "\n",
    "Our baseline model is a dummy classifier predicting the most frequent class (in this case success).\n",
    "It reaches an F1-score (our metric of interest) of 76% and an accuracy of 61%."
   ]
  },
  {
   "cell_type": "markdown",
   "metadata": {},
   "source": []
  }
 ],
 "metadata": {
  "interpreter": {
   "hash": "14f51d1694797e5da3502a145014201e62f9849463032f26557bd12a95b9aa43"
  },
  "kernelspec": {
   "display_name": "Python 3.9.4 64-bit ('.venv': venv)",
   "name": "python3"
  },
  "language_info": {
   "codemirror_mode": {
    "name": "ipython",
    "version": 3
   },
   "file_extension": ".py",
   "mimetype": "text/x-python",
   "name": "python",
   "nbconvert_exporter": "python",
   "pygments_lexer": "ipython3",
   "version": "3.9.4"
  },
  "orig_nbformat": 4
 },
 "nbformat": 4,
 "nbformat_minor": 2
}
