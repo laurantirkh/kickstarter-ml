{
 "cells": [
  {
   "cell_type": "code",
   "execution_count": 23,
   "metadata": {},
   "outputs": [],
   "source": [
    "import pandas as pd\n",
    "import numpy as np\n",
    "import seaborn as sns\n",
    "import matplotlib.pyplot as plt\n",
    "%matplotlib inline"
   ]
  },
  {
   "cell_type": "code",
   "execution_count": 24,
   "metadata": {},
   "outputs": [],
   "source": [
    "df = pd.read_csv(\"data/Kickstarter000.csv\")"
   ]
  },
  {
   "cell_type": "code",
   "execution_count": 25,
   "metadata": {},
   "outputs": [
    {
     "name": "stdout",
     "output_type": "stream",
     "text": [
      "<class 'pandas.core.frame.DataFrame'>\n",
      "RangeIndex: 3779 entries, 0 to 3778\n",
      "Data columns (total 37 columns):\n",
      " #   Column                    Non-Null Count  Dtype  \n",
      "---  ------                    --------------  -----  \n",
      " 0   backers_count             3779 non-null   int64  \n",
      " 1   blurb                     3779 non-null   object \n",
      " 2   category                  3779 non-null   object \n",
      " 3   converted_pledged_amount  3779 non-null   int64  \n",
      " 4   country                   3779 non-null   object \n",
      " 5   created_at                3779 non-null   int64  \n",
      " 6   creator                   3779 non-null   object \n",
      " 7   currency                  3779 non-null   object \n",
      " 8   currency_symbol           3779 non-null   object \n",
      " 9   currency_trailing_code    3779 non-null   bool   \n",
      " 10  current_currency          3779 non-null   object \n",
      " 11  deadline                  3779 non-null   int64  \n",
      " 12  disable_communication     3779 non-null   bool   \n",
      " 13  friends                   8 non-null      object \n",
      " 14  fx_rate                   3779 non-null   float64\n",
      " 15  goal                      3779 non-null   float64\n",
      " 16  id                        3779 non-null   int64  \n",
      " 17  is_backing                8 non-null      object \n",
      " 18  is_starrable              3779 non-null   bool   \n",
      " 19  is_starred                8 non-null      object \n",
      " 20  launched_at               3779 non-null   int64  \n",
      " 21  location                  3775 non-null   object \n",
      " 22  name                      3779 non-null   object \n",
      " 23  permissions               8 non-null      object \n",
      " 24  photo                     3779 non-null   object \n",
      " 25  pledged                   3779 non-null   float64\n",
      " 26  profile                   3779 non-null   object \n",
      " 27  slug                      3779 non-null   object \n",
      " 28  source_url                3779 non-null   object \n",
      " 29  spotlight                 3779 non-null   bool   \n",
      " 30  staff_pick                3779 non-null   bool   \n",
      " 31  state                     3779 non-null   object \n",
      " 32  state_changed_at          3779 non-null   int64  \n",
      " 33  static_usd_rate           3779 non-null   float64\n",
      " 34  urls                      3779 non-null   object \n",
      " 35  usd_pledged               3779 non-null   float64\n",
      " 36  usd_type                  3764 non-null   object \n",
      "dtypes: bool(5), float64(5), int64(7), object(20)\n",
      "memory usage: 963.3+ KB\n"
     ]
    }
   ],
   "source": [
    "df.info()"
   ]
  },
  {
   "cell_type": "code",
   "execution_count": 26,
   "metadata": {},
   "outputs": [
    {
     "data": {
      "text/html": [
       "<div>\n",
       "<style scoped>\n",
       "    .dataframe tbody tr th:only-of-type {\n",
       "        vertical-align: middle;\n",
       "    }\n",
       "\n",
       "    .dataframe tbody tr th {\n",
       "        vertical-align: top;\n",
       "    }\n",
       "\n",
       "    .dataframe thead th {\n",
       "        text-align: right;\n",
       "    }\n",
       "</style>\n",
       "<table border=\"1\" class=\"dataframe\">\n",
       "  <thead>\n",
       "    <tr style=\"text-align: right;\">\n",
       "      <th></th>\n",
       "      <th>converted_pledged_amount</th>\n",
       "      <th>country</th>\n",
       "      <th>created_at</th>\n",
       "      <th>creator</th>\n",
       "      <th>currency</th>\n",
       "      <th>currency_symbol</th>\n",
       "      <th>currency_trailing_code</th>\n",
       "      <th>current_currency</th>\n",
       "      <th>deadline</th>\n",
       "      <th>disable_communication</th>\n",
       "      <th>friends</th>\n",
       "      <th>fx_rate</th>\n",
       "      <th>goal</th>\n",
       "    </tr>\n",
       "  </thead>\n",
       "  <tbody>\n",
       "    <tr>\n",
       "      <th>0</th>\n",
       "      <td>802</td>\n",
       "      <td>US</td>\n",
       "      <td>1387659690</td>\n",
       "      <td>{\"id\":1495925645,\"name\":\"Daniel\",\"is_registere...</td>\n",
       "      <td>USD</td>\n",
       "      <td>$</td>\n",
       "      <td>True</td>\n",
       "      <td>USD</td>\n",
       "      <td>1391899046</td>\n",
       "      <td>False</td>\n",
       "      <td>NaN</td>\n",
       "      <td>1.000000</td>\n",
       "      <td>200.0</td>\n",
       "    </tr>\n",
       "    <tr>\n",
       "      <th>1</th>\n",
       "      <td>2259</td>\n",
       "      <td>US</td>\n",
       "      <td>1549659768</td>\n",
       "      <td>{\"id\":1175589980,\"name\":\"Katherine\",\"slug\":\"fr...</td>\n",
       "      <td>USD</td>\n",
       "      <td>$</td>\n",
       "      <td>True</td>\n",
       "      <td>USD</td>\n",
       "      <td>1551801611</td>\n",
       "      <td>False</td>\n",
       "      <td>NaN</td>\n",
       "      <td>1.000000</td>\n",
       "      <td>400.0</td>\n",
       "    </tr>\n",
       "    <tr>\n",
       "      <th>2</th>\n",
       "      <td>29638</td>\n",
       "      <td>US</td>\n",
       "      <td>1477242384</td>\n",
       "      <td>{\"id\":1196856269,\"name\":\"MelissaThomas\",\"is_re...</td>\n",
       "      <td>USD</td>\n",
       "      <td>$</td>\n",
       "      <td>True</td>\n",
       "      <td>USD</td>\n",
       "      <td>1480607930</td>\n",
       "      <td>False</td>\n",
       "      <td>NaN</td>\n",
       "      <td>1.000000</td>\n",
       "      <td>27224.0</td>\n",
       "    </tr>\n",
       "    <tr>\n",
       "      <th>3</th>\n",
       "      <td>49158</td>\n",
       "      <td>IT</td>\n",
       "      <td>1540369920</td>\n",
       "      <td>{\"id\":1569700626,\"name\":\"WAO\",\"slug\":\"wearewao...</td>\n",
       "      <td>EUR</td>\n",
       "      <td>€</td>\n",
       "      <td>False</td>\n",
       "      <td>USD</td>\n",
       "      <td>1544309940</td>\n",
       "      <td>False</td>\n",
       "      <td>NaN</td>\n",
       "      <td>1.128433</td>\n",
       "      <td>40000.0</td>\n",
       "    </tr>\n",
       "    <tr>\n",
       "      <th>4</th>\n",
       "      <td>549</td>\n",
       "      <td>US</td>\n",
       "      <td>1425706517</td>\n",
       "      <td>{\"id\":1870845385,\"name\":\"Kalpit Jain\",\"is_regi...</td>\n",
       "      <td>USD</td>\n",
       "      <td>$</td>\n",
       "      <td>True</td>\n",
       "      <td>USD</td>\n",
       "      <td>1428511017</td>\n",
       "      <td>False</td>\n",
       "      <td>NaN</td>\n",
       "      <td>1.000000</td>\n",
       "      <td>1000.0</td>\n",
       "    </tr>\n",
       "  </tbody>\n",
       "</table>\n",
       "</div>"
      ],
      "text/plain": [
       "   converted_pledged_amount country  created_at  \\\n",
       "0                       802      US  1387659690   \n",
       "1                      2259      US  1549659768   \n",
       "2                     29638      US  1477242384   \n",
       "3                     49158      IT  1540369920   \n",
       "4                       549      US  1425706517   \n",
       "\n",
       "                                             creator currency currency_symbol  \\\n",
       "0  {\"id\":1495925645,\"name\":\"Daniel\",\"is_registere...      USD               $   \n",
       "1  {\"id\":1175589980,\"name\":\"Katherine\",\"slug\":\"fr...      USD               $   \n",
       "2  {\"id\":1196856269,\"name\":\"MelissaThomas\",\"is_re...      USD               $   \n",
       "3  {\"id\":1569700626,\"name\":\"WAO\",\"slug\":\"wearewao...      EUR               €   \n",
       "4  {\"id\":1870845385,\"name\":\"Kalpit Jain\",\"is_regi...      USD               $   \n",
       "\n",
       "   currency_trailing_code current_currency    deadline  disable_communication  \\\n",
       "0                    True              USD  1391899046                  False   \n",
       "1                    True              USD  1551801611                  False   \n",
       "2                    True              USD  1480607930                  False   \n",
       "3                   False              USD  1544309940                  False   \n",
       "4                    True              USD  1428511017                  False   \n",
       "\n",
       "  friends   fx_rate     goal  \n",
       "0     NaN  1.000000    200.0  \n",
       "1     NaN  1.000000    400.0  \n",
       "2     NaN  1.000000  27224.0  \n",
       "3     NaN  1.128433  40000.0  \n",
       "4     NaN  1.000000   1000.0  "
      ]
     },
     "execution_count": 26,
     "metadata": {},
     "output_type": "execute_result"
    }
   ],
   "source": [
    "df.iloc[:, 3:16].head()"
   ]
  },
  {
   "cell_type": "markdown",
   "metadata": {},
   "source": [
    " 0   backers_count             number of backers \n",
    " 1   blurb                     short description \n",
    " 2   category                  Kickstarter categories \n",
    " 3   converted_pledged_amount  pledged amount in USD  \n",
    " 4   country                   country \n",
    " 5   created_at                creation date/time?  \n",
    " 6   creator                   Kickstarter account that created the project \n",
    " 7   currency                  currency the project asks for\n",
    " 8   currency_symbol           currency symbol \n",
    " 9   currency_trailing_code    ?   \n",
    " 10  current_currency          ?\n",
    " 11  deadline                  deadline date/time?\n",
    " 12  disable_communication     don't allow communication/comments   \n",
    " 13  friends                   drop (not enough data) \n",
    " 14  fx_rate                   currency conversion rate\n",
    " 15  goal                      fixed amount required for funding\n",
    " 16  id                        Kickstarter project id  \n",
    " 17  is_backing                drop (not enough data)  \n",
    " 18  is_starrable              ?  \n",
    " 19  is_starred                drop (not enough data)  \n",
    " 20  launched_at               launch date/time?  \n",
    " 21  location                  location\n",
    " 22  name                      project name \n",
    " 23  permissions               drop (not enough data) \n",
    " 24  photo                     maybe drop?\n",
    " 25  pledged                   pledged amount in original currency\n",
    " 26  profile                   drop? \n",
    " 27  slug                      drop (converted project name) \n",
    " 28  source_url                source url - drop \n",
    " 29  spotlight                 drop? (probably not influencable by the creators)   \n",
    " 30  staff_pick                drop? (probably not influencable by the creators)   \n",
    " 31  state                     !!!!!target!!!!! \n",
    " 32  state_changed_at          state changed at date/time?  \n",
    " 33  static_usd_rate           conversion rate -> drop\n",
    " 34  urls                      drop \n",
    " 35  usd_pledged               drop\n",
    " 36  usd_type                  drop"
   ]
  },
  {
   "cell_type": "code",
   "execution_count": 27,
   "metadata": {},
   "outputs": [
    {
     "data": {
      "text/plain": [
       "array(['USD', 'CAD', 'GBP', 'AUD'], dtype=object)"
      ]
     },
     "execution_count": 27,
     "metadata": {},
     "output_type": "execute_result"
    }
   ],
   "source": [
    "df['current_currency'].unique()"
   ]
  },
  {
   "cell_type": "code",
   "execution_count": 28,
   "metadata": {},
   "outputs": [],
   "source": [
    "no_comm = df[df['disable_communication'] == True]"
   ]
  },
  {
   "cell_type": "code",
   "execution_count": 29,
   "metadata": {},
   "outputs": [
    {
     "data": {
      "text/plain": [
       "10"
      ]
     },
     "execution_count": 29,
     "metadata": {},
     "output_type": "execute_result"
    }
   ],
   "source": [
    "len(no_comm)"
   ]
  },
  {
   "cell_type": "code",
   "execution_count": 30,
   "metadata": {},
   "outputs": [],
   "source": [
    "comm = df[df['disable_communication'] == False]"
   ]
  },
  {
   "cell_type": "code",
   "execution_count": 31,
   "metadata": {},
   "outputs": [
    {
     "data": {
      "text/plain": [
       "3769"
      ]
     },
     "execution_count": 31,
     "metadata": {},
     "output_type": "execute_result"
    }
   ],
   "source": [
    "len(comm)"
   ]
  },
  {
   "cell_type": "markdown",
   "metadata": {},
   "source": [
    "### location example\n",
    "\n",
    "{\"id\":2379574,\n",
    "\"name\":\"Chicago\",\n",
    "\"slug\":\"chicago-il\",\n",
    "\"short_name\":\"Chicago, IL\",\n",
    "\"displayable_name\":\"Chicago, IL\",\n",
    "\"localized_name\":\"Chicago\",\n",
    "\"country\":\"US\",\n",
    "\"state\":\"IL\",\n",
    "\"type\":\"Town\",\n",
    "\"is_root\":false,\n",
    "\"urls\":{\"web\":{\"discover\":\"https://www.kickstarter.com/discover/places/chicago-il\",\"location\":\"https://www.kickstarter.com/locations/chicago-il\"},\"api\":{\"nearby_projects\":\"https://api.kickstarter.com/v1/discover?signature=1552595044.c1041c6bca69b0b72738f3b9504ebf921b3e5e0e&woe_id=2379574\"}}}'"
   ]
  },
  {
   "cell_type": "code",
   "execution_count": 32,
   "metadata": {},
   "outputs": [
    {
     "data": {
      "text/plain": [
       "array(['{\"id\":43,\"name\":\"Rock\",\"slug\":\"music/rock\",\"position\":17,\"parent_id\":14,\"color\":10878931,\"urls\":{\"web\":{\"discover\":\"http://www.kickstarter.com/discover/categories/music/rock\"}}}',\n",
       "       '{\"id\":54,\"name\":\"Mixed Media\",\"slug\":\"art/mixed media\",\"position\":6,\"parent_id\":1,\"color\":16760235,\"urls\":{\"web\":{\"discover\":\"http://www.kickstarter.com/discover/categories/art/mixed%20media\"}}}',\n",
       "       '{\"id\":280,\"name\":\"Photobooks\",\"slug\":\"photography/photobooks\",\"position\":5,\"parent_id\":15,\"color\":58341,\"urls\":{\"web\":{\"discover\":\"http://www.kickstarter.com/discover/categories/photography/photobooks\"}}}',\n",
       "       '{\"id\":266,\"name\":\"Footwear\",\"slug\":\"fashion/footwear\",\"position\":5,\"parent_id\":9,\"color\":16752598,\"urls\":{\"web\":{\"discover\":\"http://www.kickstarter.com/discover/categories/fashion/footwear\"}}}',\n",
       "       '{\"id\":51,\"name\":\"Software\",\"slug\":\"technology/software\",\"position\":11,\"parent_id\":16,\"color\":6526716,\"urls\":{\"web\":{\"discover\":\"http://www.kickstarter.com/discover/categories/technology/software\"}}}',\n",
       "       '{\"id\":262,\"name\":\"Accessories\",\"slug\":\"fashion/accessories\",\"position\":1,\"parent_id\":9,\"color\":16752598,\"urls\":{\"web\":{\"discover\":\"http://www.kickstarter.com/discover/categories/fashion/accessories\"}}}',\n",
       "       '{\"id\":48,\"name\":\"Nonfiction\",\"slug\":\"publishing/nonfiction\",\"position\":9,\"parent_id\":18,\"color\":14867664,\"urls\":{\"web\":{\"discover\":\"http://www.kickstarter.com/discover/categories/publishing/nonfiction\"}}}',\n",
       "       '{\"id\":25,\"name\":\"Sculpture\",\"slug\":\"art/sculpture\",\"position\":10,\"parent_id\":1,\"color\":16760235,\"urls\":{\"web\":{\"discover\":\"http://www.kickstarter.com/discover/categories/art/sculpture\"}}}',\n",
       "       '{\"id\":273,\"name\":\"Playing Cards\",\"slug\":\"games/playing cards\",\"position\":4,\"parent_id\":12,\"color\":51627,\"urls\":{\"web\":{\"discover\":\"http://www.kickstarter.com/discover/categories/games/playing%20cards\"}}}',\n",
       "       '{\"id\":276,\"name\":\"Fine Art\",\"slug\":\"photography/fine art\",\"position\":2,\"parent_id\":15,\"color\":58341,\"urls\":{\"web\":{\"discover\":\"http://www.kickstarter.com/discover/categories/photography/fine%20art\"}}}',\n",
       "       '{\"id\":312,\"name\":\"Restaurants\",\"slug\":\"food/restaurants\",\"position\":9,\"parent_id\":10,\"color\":16725570,\"urls\":{\"web\":{\"discover\":\"http://www.kickstarter.com/discover/categories/food/restaurants\"}}}',\n",
       "       '{\"id\":277,\"name\":\"Nature\",\"slug\":\"photography/nature\",\"position\":3,\"parent_id\":15,\"color\":58341,\"urls\":{\"web\":{\"discover\":\"http://www.kickstarter.com/discover/categories/photography/nature\"}}}',\n",
       "       '{\"id\":282,\"name\":\"Festivals\",\"slug\":\"theater/festivals\",\"position\":3,\"parent_id\":17,\"color\":16743775,\"urls\":{\"web\":{\"discover\":\"http://www.kickstarter.com/discover/categories/theater/festivals\"}}}',\n",
       "       '{\"id\":36,\"name\":\"Classical Music\",\"slug\":\"music/classical music\",\"position\":3,\"parent_id\":14,\"color\":10878931,\"urls\":{\"web\":{\"discover\":\"http://www.kickstarter.com/discover/categories/music/classical%20music\"}}}',\n",
       "       '{\"id\":313,\"name\":\"Small Batch\",\"slug\":\"food/small batch\",\"position\":10,\"parent_id\":10,\"color\":16725570,\"urls\":{\"web\":{\"discover\":\"http://www.kickstarter.com/discover/categories/food/small%20batch\"}}}',\n",
       "       '{\"id\":284,\"name\":\"Musical\",\"slug\":\"theater/musical\",\"position\":5,\"parent_id\":17,\"color\":16743775,\"urls\":{\"web\":{\"discover\":\"http://www.kickstarter.com/discover/categories/theater/musical\"}}}',\n",
       "       '{\"id\":37,\"name\":\"Country & Folk\",\"slug\":\"music/country & folk\",\"position\":5,\"parent_id\":14,\"color\":10878931,\"urls\":{\"web\":{\"discover\":\"http://www.kickstarter.com/discover/categories/music/country%20&%20folk\"}}}',\n",
       "       '{\"id\":17,\"name\":\"Theater\",\"slug\":\"theater\",\"position\":15,\"color\":16743775,\"urls\":{\"web\":{\"discover\":\"http://www.kickstarter.com/discover/categories/theater\"}}}',\n",
       "       '{\"id\":285,\"name\":\"Plays\",\"slug\":\"theater/plays\",\"position\":6,\"parent_id\":17,\"color\":16743775,\"urls\":{\"web\":{\"discover\":\"http://www.kickstarter.com/discover/categories/theater/plays\"}}}',\n",
       "       '{\"id\":263,\"name\":\"Apparel\",\"slug\":\"fashion/apparel\",\"position\":2,\"parent_id\":9,\"color\":16752598,\"urls\":{\"web\":{\"discover\":\"http://www.kickstarter.com/discover/categories/fashion/apparel\"}}}',\n",
       "       '{\"id\":15,\"name\":\"Photography\",\"slug\":\"photography\",\"position\":12,\"color\":58341,\"urls\":{\"web\":{\"discover\":\"http://www.kickstarter.com/discover/categories/photography\"}}}',\n",
       "       '{\"id\":257,\"name\":\"Workshops\",\"slug\":\"dance/workshops\",\"position\":4,\"parent_id\":6,\"color\":10917369,\"urls\":{\"web\":{\"discover\":\"http://www.kickstarter.com/discover/categories/dance/workshops\"}}}',\n",
       "       '{\"id\":322,\"name\":\"R&B\",\"slug\":\"music/r&b\",\"position\":16,\"parent_id\":14,\"color\":10878931,\"urls\":{\"web\":{\"discover\":\"http://www.kickstarter.com/discover/categories/music/r&b\"}}}',\n",
       "       '{\"id\":42,\"name\":\"Pop\",\"slug\":\"music/pop\",\"position\":14,\"parent_id\":14,\"color\":10878931,\"urls\":{\"web\":{\"discover\":\"http://www.kickstarter.com/discover/categories/music/pop\"}}}',\n",
       "       '{\"id\":14,\"name\":\"Music\",\"slug\":\"music\",\"position\":11,\"color\":10878931,\"urls\":{\"web\":{\"discover\":\"http://www.kickstarter.com/discover/categories/music\"}}}',\n",
       "       '{\"id\":41,\"name\":\"Jazz\",\"slug\":\"music/jazz\",\"position\":10,\"parent_id\":14,\"color\":10878931,\"urls\":{\"web\":{\"discover\":\"http://www.kickstarter.com/discover/categories/music/jazz\"}}}',\n",
       "       '{\"id\":281,\"name\":\"Experimental\",\"slug\":\"theater/experimental\",\"position\":2,\"parent_id\":17,\"color\":16743775,\"urls\":{\"web\":{\"discover\":\"http://www.kickstarter.com/discover/categories/theater/experimental\"}}}',\n",
       "       '{\"id\":24,\"name\":\"Performance Art\",\"slug\":\"art/performance art\",\"position\":8,\"parent_id\":1,\"color\":16760235,\"urls\":{\"web\":{\"discover\":\"http://www.kickstarter.com/discover/categories/art/performance%20art\"}}}',\n",
       "       '{\"id\":279,\"name\":\"Places\",\"slug\":\"photography/places\",\"position\":6,\"parent_id\":15,\"color\":58341,\"urls\":{\"web\":{\"discover\":\"http://www.kickstarter.com/discover/categories/photography/places\"}}}',\n",
       "       '{\"id\":388,\"name\":\"Comedy\",\"slug\":\"theater/comedy\",\"position\":1,\"parent_id\":17,\"color\":16743775,\"urls\":{\"web\":{\"discover\":\"http://www.kickstarter.com/discover/categories/theater/comedy\"}}}',\n",
       "       '{\"id\":275,\"name\":\"Animals\",\"slug\":\"photography/animals\",\"position\":1,\"parent_id\":15,\"color\":58341,\"urls\":{\"web\":{\"discover\":\"http://www.kickstarter.com/discover/categories/photography/animals\"}}}',\n",
       "       '{\"id\":40,\"name\":\"Indie Rock\",\"slug\":\"music/indie rock\",\"position\":9,\"parent_id\":14,\"color\":10878931,\"urls\":{\"web\":{\"discover\":\"http://www.kickstarter.com/discover/categories/music/indie%20rock\"}}}',\n",
       "       '{\"id\":278,\"name\":\"People\",\"slug\":\"photography/people\",\"position\":4,\"parent_id\":15,\"color\":58341,\"urls\":{\"web\":{\"discover\":\"http://www.kickstarter.com/discover/categories/photography/people\"}}}',\n",
       "       '{\"id\":9,\"name\":\"Fashion\",\"slug\":\"fashion\",\"position\":6,\"color\":16752598,\"urls\":{\"web\":{\"discover\":\"http://www.kickstarter.com/discover/categories/fashion\"}}}',\n",
       "       '{\"id\":283,\"name\":\"Immersive\",\"slug\":\"theater/immersive\",\"position\":4,\"parent_id\":17,\"color\":16743775,\"urls\":{\"web\":{\"discover\":\"http://www.kickstarter.com/discover/categories/theater/immersive\"}}}',\n",
       "       '{\"id\":241,\"name\":\"Metal\",\"slug\":\"music/metal\",\"position\":13,\"parent_id\":14,\"color\":10878931,\"urls\":{\"web\":{\"discover\":\"http://www.kickstarter.com/discover/categories/music/metal\"}}}',\n",
       "       '{\"id\":26,\"name\":\"Crafts\",\"slug\":\"crafts\",\"position\":3,\"color\":16744876,\"urls\":{\"web\":{\"discover\":\"http://www.kickstarter.com/discover/categories/crafts\"}}}',\n",
       "       '{\"id\":286,\"name\":\"Spaces\",\"slug\":\"theater/spaces\",\"position\":7,\"parent_id\":17,\"color\":16743775,\"urls\":{\"web\":{\"discover\":\"http://www.kickstarter.com/discover/categories/theater/spaces\"}}}',\n",
       "       '{\"id\":318,\"name\":\"Faith\",\"slug\":\"music/faith\",\"position\":7,\"parent_id\":14,\"color\":10878931,\"urls\":{\"web\":{\"discover\":\"http://www.kickstarter.com/discover/categories/music/faith\"}}}',\n",
       "       '{\"id\":268,\"name\":\"Pet Fashion\",\"slug\":\"fashion/pet fashion\",\"position\":7,\"parent_id\":9,\"color\":16752598,\"urls\":{\"web\":{\"discover\":\"http://www.kickstarter.com/discover/categories/fashion/pet%20fashion\"}}}',\n",
       "       '{\"id\":267,\"name\":\"Jewelry\",\"slug\":\"fashion/jewelry\",\"position\":6,\"parent_id\":9,\"color\":16752598,\"urls\":{\"web\":{\"discover\":\"http://www.kickstarter.com/discover/categories/fashion/jewelry\"}}}',\n",
       "       '{\"id\":269,\"name\":\"Ready-to-wear\",\"slug\":\"fashion/ready-to-wear\",\"position\":8,\"parent_id\":9,\"color\":16752598,\"urls\":{\"web\":{\"discover\":\"http://www.kickstarter.com/discover/categories/fashion/ready-to-wear\"}}}',\n",
       "       '{\"id\":271,\"name\":\"Live Games\",\"slug\":\"games/live games\",\"position\":2,\"parent_id\":12,\"color\":51627,\"urls\":{\"web\":{\"discover\":\"http://www.kickstarter.com/discover/categories/games/live%20games\"}}}',\n",
       "       '{\"id\":265,\"name\":\"Couture\",\"slug\":\"fashion/couture\",\"position\":4,\"parent_id\":9,\"color\":16752598,\"urls\":{\"web\":{\"discover\":\"http://www.kickstarter.com/discover/categories/fashion/couture\"}}}',\n",
       "       '{\"id\":361,\"name\":\"Web\",\"slug\":\"journalism/web\",\"position\":5,\"parent_id\":13,\"color\":1228010,\"urls\":{\"web\":{\"discover\":\"http://www.kickstarter.com/discover/categories/journalism/web\"}}}',\n",
       "       '{\"id\":35,\"name\":\"Video Games\",\"slug\":\"games/video games\",\"position\":7,\"parent_id\":12,\"color\":51627,\"urls\":{\"web\":{\"discover\":\"http://www.kickstarter.com/discover/categories/games/video%20games\"}}}',\n",
       "       '{\"id\":45,\"name\":\"Art Books\",\"slug\":\"publishing/art books\",\"position\":3,\"parent_id\":18,\"color\":14867664,\"urls\":{\"web\":{\"discover\":\"http://www.kickstarter.com/discover/categories/publishing/art%20books\"}}}',\n",
       "       '{\"id\":52,\"name\":\"Hardware\",\"slug\":\"technology/hardware\",\"position\":8,\"parent_id\":16,\"color\":6526716,\"urls\":{\"web\":{\"discover\":\"http://www.kickstarter.com/discover/categories/technology/hardware\"}}}',\n",
       "       '{\"id\":309,\"name\":\"Farms\",\"slug\":\"food/farms\",\"position\":7,\"parent_id\":10,\"color\":16725570,\"urls\":{\"web\":{\"discover\":\"http://www.kickstarter.com/discover/categories/food/farms\"}}}',\n",
       "       '{\"id\":16,\"name\":\"Technology\",\"slug\":\"technology\",\"position\":14,\"color\":6526716,\"urls\":{\"web\":{\"discover\":\"http://www.kickstarter.com/discover/categories/technology\"}}}',\n",
       "       '{\"id\":293,\"name\":\"Drama\",\"slug\":\"film & video/drama\",\"position\":5,\"parent_id\":11,\"color\":16734574,\"urls\":{\"web\":{\"discover\":\"http://www.kickstarter.com/discover/categories/film%20&%20video/drama\"}}}',\n",
       "       '{\"id\":272,\"name\":\"Mobile Games\",\"slug\":\"games/mobile games\",\"position\":3,\"parent_id\":12,\"color\":51627,\"urls\":{\"web\":{\"discover\":\"http://www.kickstarter.com/discover/categories/games/mobile%20games\"}}}',\n",
       "       '{\"id\":34,\"name\":\"Tabletop Games\",\"slug\":\"games/tabletop games\",\"position\":6,\"parent_id\":12,\"color\":51627,\"urls\":{\"web\":{\"discover\":\"http://www.kickstarter.com/discover/categories/games/tabletop%20games\"}}}',\n",
       "       '{\"id\":38,\"name\":\"Electronic Music\",\"slug\":\"music/electronic music\",\"position\":6,\"parent_id\":14,\"color\":10878931,\"urls\":{\"web\":{\"discover\":\"http://www.kickstarter.com/discover/categories/music/electronic%20music\"}}}',\n",
       "       '{\"id\":360,\"name\":\"Video\",\"slug\":\"journalism/video\",\"position\":4,\"parent_id\":13,\"color\":1228010,\"urls\":{\"web\":{\"discover\":\"http://www.kickstarter.com/discover/categories/journalism/video\"}}}',\n",
       "       '{\"id\":331,\"name\":\"3D Printing\",\"slug\":\"technology/3d printing\",\"position\":1,\"parent_id\":16,\"color\":6526716,\"urls\":{\"web\":{\"discover\":\"http://www.kickstarter.com/discover/categories/technology/3d%20printing\"}}}',\n",
       "       '{\"id\":334,\"name\":\"DIY Electronics\",\"slug\":\"technology/diy electronics\",\"position\":4,\"parent_id\":16,\"color\":6526716,\"urls\":{\"web\":{\"discover\":\"http://www.kickstarter.com/discover/categories/technology/diy%20electronics\"}}}',\n",
       "       '{\"id\":239,\"name\":\"Radio & Podcasts\",\"slug\":\"publishing/radio & podcasts\",\"position\":12,\"parent_id\":18,\"color\":14867664,\"urls\":{\"web\":{\"discover\":\"http://www.kickstarter.com/discover/categories/publishing/radio%20&%20podcasts\"}}}',\n",
       "       '{\"id\":297,\"name\":\"Horror\",\"slug\":\"film & video/horror\",\"position\":10,\"parent_id\":11,\"color\":16734574,\"urls\":{\"web\":{\"discover\":\"http://www.kickstarter.com/discover/categories/film%20&%20video/horror\"}}}',\n",
       "       '{\"id\":342,\"name\":\"Web\",\"slug\":\"technology/web\",\"position\":15,\"parent_id\":16,\"color\":6526716,\"urls\":{\"web\":{\"discover\":\"http://www.kickstarter.com/discover/categories/technology/web\"}}}',\n",
       "       '{\"id\":294,\"name\":\"Experimental\",\"slug\":\"film & video/experimental\",\"position\":6,\"parent_id\":11,\"color\":16734574,\"urls\":{\"web\":{\"discover\":\"http://www.kickstarter.com/discover/categories/film%20&%20video/experimental\"}}}',\n",
       "       '{\"id\":13,\"name\":\"Journalism\",\"slug\":\"journalism\",\"position\":10,\"color\":1228010,\"urls\":{\"web\":{\"discover\":\"http://www.kickstarter.com/discover/categories/journalism\"}}}',\n",
       "       '{\"id\":253,\"name\":\"Webcomics\",\"slug\":\"comics/webcomics\",\"position\":5,\"parent_id\":3,\"color\":16776056,\"urls\":{\"web\":{\"discover\":\"http://www.kickstarter.com/discover/categories/comics/webcomics\"}}}',\n",
       "       '{\"id\":359,\"name\":\"Print\",\"slug\":\"journalism/print\",\"position\":3,\"parent_id\":13,\"color\":1228010,\"urls\":{\"web\":{\"discover\":\"http://www.kickstarter.com/discover/categories/journalism/print\"}}}',\n",
       "       '{\"id\":357,\"name\":\"Audio\",\"slug\":\"journalism/audio\",\"position\":1,\"parent_id\":13,\"color\":1228010,\"urls\":{\"web\":{\"discover\":\"http://www.kickstarter.com/discover/categories/journalism/audio\"}}}',\n",
       "       '{\"id\":340,\"name\":\"Space Exploration\",\"slug\":\"technology/space exploration\",\"position\":13,\"parent_id\":16,\"color\":6526716,\"urls\":{\"web\":{\"discover\":\"http://www.kickstarter.com/discover/categories/technology/space%20exploration\"}}}',\n",
       "       '{\"id\":251,\"name\":\"Events\",\"slug\":\"comics/events\",\"position\":3,\"parent_id\":3,\"color\":16776056,\"urls\":{\"web\":{\"discover\":\"http://www.kickstarter.com/discover/categories/comics/events\"}}}',\n",
       "       '{\"id\":295,\"name\":\"Festivals\",\"slug\":\"film & video/festivals\",\"position\":9,\"parent_id\":11,\"color\":16734574,\"urls\":{\"web\":{\"discover\":\"http://www.kickstarter.com/discover/categories/film%20&%20video/festivals\"}}}',\n",
       "       '{\"id\":339,\"name\":\"Sound\",\"slug\":\"technology/sound\",\"position\":12,\"parent_id\":16,\"color\":6526716,\"urls\":{\"web\":{\"discover\":\"http://www.kickstarter.com/discover/categories/technology/sound\"}}}',\n",
       "       '{\"id\":332,\"name\":\"Apps\",\"slug\":\"technology/apps\",\"position\":2,\"parent_id\":16,\"color\":6526716,\"urls\":{\"web\":{\"discover\":\"http://www.kickstarter.com/discover/categories/technology/apps\"}}}',\n",
       "       '{\"id\":337,\"name\":\"Gadgets\",\"slug\":\"technology/gadgets\",\"position\":7,\"parent_id\":16,\"color\":6526716,\"urls\":{\"web\":{\"discover\":\"http://www.kickstarter.com/discover/categories/technology/gadgets\"}}}',\n",
       "       '{\"id\":12,\"name\":\"Games\",\"slug\":\"games\",\"position\":9,\"color\":51627,\"urls\":{\"web\":{\"discover\":\"http://www.kickstarter.com/discover/categories/games\"}}}',\n",
       "       '{\"id\":386,\"name\":\"Comedy\",\"slug\":\"music/comedy\",\"position\":4,\"parent_id\":14,\"color\":10878931,\"urls\":{\"web\":{\"discover\":\"http://www.kickstarter.com/discover/categories/music/comedy\"}}}',\n",
       "       '{\"id\":358,\"name\":\"Photo\",\"slug\":\"journalism/photo\",\"position\":2,\"parent_id\":13,\"color\":1228010,\"urls\":{\"web\":{\"discover\":\"http://www.kickstarter.com/discover/categories/journalism/photo\"}}}',\n",
       "       '{\"id\":274,\"name\":\"Puzzles\",\"slug\":\"games/puzzles\",\"position\":5,\"parent_id\":12,\"color\":51627,\"urls\":{\"web\":{\"discover\":\"http://www.kickstarter.com/discover/categories/games/puzzles\"}}}',\n",
       "       '{\"id\":343,\"name\":\"Candles\",\"slug\":\"crafts/candles\",\"position\":1,\"parent_id\":26,\"color\":16744876,\"urls\":{\"web\":{\"discover\":\"http://www.kickstarter.com/discover/categories/crafts/candles\"}}}',\n",
       "       '{\"id\":264,\"name\":\"Childrenswear\",\"slug\":\"fashion/childrenswear\",\"position\":3,\"parent_id\":9,\"color\":16752598,\"urls\":{\"web\":{\"discover\":\"http://www.kickstarter.com/discover/categories/fashion/childrenswear\"}}}',\n",
       "       '{\"id\":27,\"name\":\"Graphic Design\",\"slug\":\"design/graphic design\",\"position\":3,\"parent_id\":7,\"color\":2577151,\"urls\":{\"web\":{\"discover\":\"http://www.kickstarter.com/discover/categories/design/graphic%20design\"}}}',\n",
       "       '{\"id\":249,\"name\":\"Anthologies\",\"slug\":\"comics/anthologies\",\"position\":1,\"parent_id\":3,\"color\":16776056,\"urls\":{\"web\":{\"discover\":\"http://www.kickstarter.com/discover/categories/comics/anthologies\"}}}',\n",
       "       '{\"id\":31,\"name\":\"Narrative Film\",\"slug\":\"film & video/narrative film\",\"position\":13,\"parent_id\":11,\"color\":16734574,\"urls\":{\"web\":{\"discover\":\"http://www.kickstarter.com/discover/categories/film%20&%20video/narrative%20film\"}}}',\n",
       "       '{\"id\":254,\"name\":\"Performances\",\"slug\":\"dance/performances\",\"position\":1,\"parent_id\":6,\"color\":10917369,\"urls\":{\"web\":{\"discover\":\"http://www.kickstarter.com/discover/categories/dance/performances\"}}}',\n",
       "       '{\"id\":354,\"name\":\"Taxidermy\",\"slug\":\"crafts/taxidermy\",\"position\":12,\"parent_id\":26,\"color\":16744876,\"urls\":{\"web\":{\"discover\":\"http://www.kickstarter.com/discover/categories/crafts/taxidermy\"}}}',\n",
       "       '{\"id\":259,\"name\":\"Civic Design\",\"slug\":\"design/civic design\",\"position\":2,\"parent_id\":7,\"color\":2577151,\"urls\":{\"web\":{\"discover\":\"http://www.kickstarter.com/discover/categories/design/civic%20design\"}}}',\n",
       "       '{\"id\":303,\"name\":\"Television\",\"slug\":\"film & video/television\",\"position\":17,\"parent_id\":11,\"color\":16734574,\"urls\":{\"web\":{\"discover\":\"http://www.kickstarter.com/discover/categories/film%20&%20video/television\"}}}',\n",
       "       '{\"id\":333,\"name\":\"Camera Equipment\",\"slug\":\"technology/camera equipment\",\"position\":3,\"parent_id\":16,\"color\":6526716,\"urls\":{\"web\":{\"discover\":\"http://www.kickstarter.com/discover/categories/technology/camera%20equipment\"}}}',\n",
       "       '{\"id\":351,\"name\":\"Printing\",\"slug\":\"crafts/printing\",\"position\":9,\"parent_id\":26,\"color\":16744876,\"urls\":{\"web\":{\"discover\":\"http://www.kickstarter.com/discover/categories/crafts/printing\"}}}',\n",
       "       '{\"id\":338,\"name\":\"Robots\",\"slug\":\"technology/robots\",\"position\":10,\"parent_id\":16,\"color\":6526716,\"urls\":{\"web\":{\"discover\":\"http://www.kickstarter.com/discover/categories/technology/robots\"}}}',\n",
       "       '{\"id\":341,\"name\":\"Wearables\",\"slug\":\"technology/wearables\",\"position\":14,\"parent_id\":16,\"color\":6526716,\"urls\":{\"web\":{\"discover\":\"http://www.kickstarter.com/discover/categories/technology/wearables\"}}}',\n",
       "       '{\"id\":290,\"name\":\"Video Art\",\"slug\":\"art/video art\",\"position\":12,\"parent_id\":1,\"color\":16760235,\"urls\":{\"web\":{\"discover\":\"http://www.kickstarter.com/discover/categories/art/video%20art\"}}}',\n",
       "       '{\"id\":389,\"name\":\"Literary Spaces\",\"slug\":\"publishing/literary spaces\",\"position\":16,\"parent_id\":18,\"color\":14867664,\"urls\":{\"web\":{\"discover\":\"http://www.kickstarter.com/discover/categories/publishing/literary%20spaces\"}}}',\n",
       "       '{\"id\":32,\"name\":\"Shorts\",\"slug\":\"film & video/shorts\",\"position\":16,\"parent_id\":11,\"color\":16734574,\"urls\":{\"web\":{\"discover\":\"http://www.kickstarter.com/discover/categories/film%20&%20video/shorts\"}}}',\n",
       "       '{\"id\":301,\"name\":\"Science Fiction\",\"slug\":\"film & video/science fiction\",\"position\":15,\"parent_id\":11,\"color\":16734574,\"urls\":{\"web\":{\"discover\":\"http://www.kickstarter.com/discover/categories/film%20&%20video/science%20fiction\"}}}',\n",
       "       '{\"id\":53,\"name\":\"Public Art\",\"slug\":\"art/public art\",\"position\":9,\"parent_id\":1,\"color\":16760235,\"urls\":{\"web\":{\"discover\":\"http://www.kickstarter.com/discover/categories/art/public%20art\"}}}',\n",
       "       '{\"id\":250,\"name\":\"Comic Books\",\"slug\":\"comics/comic books\",\"position\":2,\"parent_id\":3,\"color\":16776056,\"urls\":{\"web\":{\"discover\":\"http://www.kickstarter.com/discover/categories/comics/comic%20books\"}}}',\n",
       "       '{\"id\":47,\"name\":\"Fiction\",\"slug\":\"publishing/fiction\",\"position\":7,\"parent_id\":18,\"color\":14867664,\"urls\":{\"web\":{\"discover\":\"http://www.kickstarter.com/discover/categories/publishing/fiction\"}}}',\n",
       "       '{\"id\":6,\"name\":\"Dance\",\"slug\":\"dance\",\"position\":4,\"color\":10917369,\"urls\":{\"web\":{\"discover\":\"http://www.kickstarter.com/discover/categories/dance\"}}}',\n",
       "       '{\"id\":325,\"name\":\"Calendars\",\"slug\":\"publishing/calendars\",\"position\":4,\"parent_id\":18,\"color\":14867664,\"urls\":{\"web\":{\"discover\":\"http://www.kickstarter.com/discover/categories/publishing/calendars\"}}}',\n",
       "       '{\"id\":3,\"name\":\"Comics\",\"slug\":\"comics\",\"position\":2,\"color\":16776056,\"urls\":{\"web\":{\"discover\":\"http://www.kickstarter.com/discover/categories/comics\"}}}',\n",
       "       '{\"id\":256,\"name\":\"Spaces\",\"slug\":\"dance/spaces\",\"position\":3,\"parent_id\":6,\"color\":10917369,\"urls\":{\"web\":{\"discover\":\"http://www.kickstarter.com/discover/categories/dance/spaces\"}}}',\n",
       "       '{\"id\":255,\"name\":\"Residencies\",\"slug\":\"dance/residencies\",\"position\":2,\"parent_id\":6,\"color\":10917369,\"urls\":{\"web\":{\"discover\":\"http://www.kickstarter.com/discover/categories/dance/residencies\"}}}',\n",
       "       '{\"id\":330,\"name\":\"Family\",\"slug\":\"film & video/family\",\"position\":7,\"parent_id\":11,\"color\":16734574,\"urls\":{\"web\":{\"discover\":\"http://www.kickstarter.com/discover/categories/film%20&%20video/family\"}}}',\n",
       "       '{\"id\":336,\"name\":\"Flight\",\"slug\":\"technology/flight\",\"position\":6,\"parent_id\":16,\"color\":6526716,\"urls\":{\"web\":{\"discover\":\"http://www.kickstarter.com/discover/categories/technology/flight\"}}}',\n",
       "       '{\"id\":346,\"name\":\"Embroidery\",\"slug\":\"crafts/embroidery\",\"position\":4,\"parent_id\":26,\"color\":16744876,\"urls\":{\"web\":{\"discover\":\"http://www.kickstarter.com/discover/categories/crafts/embroidery\"}}}',\n",
       "       '{\"id\":260,\"name\":\"Interactive Design\",\"slug\":\"design/interactive design\",\"position\":4,\"parent_id\":7,\"color\":2577151,\"urls\":{\"web\":{\"discover\":\"http://www.kickstarter.com/discover/categories/design/interactive%20design\"}}}',\n",
       "       '{\"id\":39,\"name\":\"Hip-Hop\",\"slug\":\"music/hip-hop\",\"position\":8,\"parent_id\":14,\"color\":10878931,\"urls\":{\"web\":{\"discover\":\"http://www.kickstarter.com/discover/categories/music/hip-hop\"}}}',\n",
       "       '{\"id\":323,\"name\":\"Academic\",\"slug\":\"publishing/academic\",\"position\":1,\"parent_id\":18,\"color\":14867664,\"urls\":{\"web\":{\"discover\":\"http://www.kickstarter.com/discover/categories/publishing/academic\"}}}',\n",
       "       '{\"id\":324,\"name\":\"Anthologies\",\"slug\":\"publishing/anthologies\",\"position\":2,\"parent_id\":18,\"color\":14867664,\"urls\":{\"web\":{\"discover\":\"http://www.kickstarter.com/discover/categories/publishing/anthologies\"}}}',\n",
       "       '{\"id\":46,\"name\":\"Children\\'s Books\",\"slug\":\"publishing/children\\'s books\",\"position\":5,\"parent_id\":18,\"color\":14867664,\"urls\":{\"web\":{\"discover\":\"http://www.kickstarter.com/discover/categories/publishing/children\\'s%20books\"}}}',\n",
       "       '{\"id\":28,\"name\":\"Product Design\",\"slug\":\"design/product design\",\"position\":5,\"parent_id\":7,\"color\":2577151,\"urls\":{\"web\":{\"discover\":\"http://www.kickstarter.com/discover/categories/design/product%20design\"}}}',\n",
       "       '{\"id\":22,\"name\":\"Illustration\",\"slug\":\"art/illustration\",\"position\":4,\"parent_id\":1,\"color\":16760235,\"urls\":{\"web\":{\"discover\":\"http://www.kickstarter.com/discover/categories/art/illustration\"}}}',\n",
       "       '{\"id\":20,\"name\":\"Conceptual Art\",\"slug\":\"art/conceptual art\",\"position\":2,\"parent_id\":1,\"color\":16760235,\"urls\":{\"web\":{\"discover\":\"http://www.kickstarter.com/discover/categories/art/conceptual%20art\"}}}',\n",
       "       '{\"id\":306,\"name\":\"Cookbooks\",\"slug\":\"food/cookbooks\",\"position\":3,\"parent_id\":10,\"color\":16725570,\"urls\":{\"web\":{\"discover\":\"http://www.kickstarter.com/discover/categories/food/cookbooks\"}}}',\n",
       "       '{\"id\":320,\"name\":\"Latin\",\"slug\":\"music/latin\",\"position\":12,\"parent_id\":14,\"color\":10878931,\"urls\":{\"web\":{\"discover\":\"http://www.kickstarter.com/discover/categories/music/latin\"}}}',\n",
       "       '{\"id\":10,\"name\":\"Food\",\"slug\":\"food\",\"position\":8,\"color\":16725570,\"urls\":{\"web\":{\"discover\":\"http://www.kickstarter.com/discover/categories/food\"}}}',\n",
       "       '{\"id\":291,\"name\":\"Action\",\"slug\":\"film & video/action\",\"position\":1,\"parent_id\":11,\"color\":16734574,\"urls\":{\"web\":{\"discover\":\"http://www.kickstarter.com/discover/categories/film%20&%20video/action\"}}}',\n",
       "       '{\"id\":287,\"name\":\"Ceramics\",\"slug\":\"art/ceramics\",\"position\":1,\"parent_id\":1,\"color\":16760235,\"urls\":{\"web\":{\"discover\":\"http://www.kickstarter.com/discover/categories/art/ceramics\"}}}',\n",
       "       '{\"id\":299,\"name\":\"Music Videos\",\"slug\":\"film & video/music videos\",\"position\":12,\"parent_id\":11,\"color\":16734574,\"urls\":{\"web\":{\"discover\":\"http://www.kickstarter.com/discover/categories/film%20&%20video/music%20videos\"}}}',\n",
       "       '{\"id\":44,\"name\":\"World Music\",\"slug\":\"music/world music\",\"position\":18,\"parent_id\":14,\"color\":10878931,\"urls\":{\"web\":{\"discover\":\"http://www.kickstarter.com/discover/categories/music/world%20music\"}}}',\n",
       "       '{\"id\":305,\"name\":\"Community Gardens\",\"slug\":\"food/community gardens\",\"position\":2,\"parent_id\":10,\"color\":16725570,\"urls\":{\"web\":{\"discover\":\"http://www.kickstarter.com/discover/categories/food/community%20gardens\"}}}',\n",
       "       '{\"id\":387,\"name\":\"Comedy\",\"slug\":\"publishing/comedy\",\"position\":6,\"parent_id\":18,\"color\":14867664,\"urls\":{\"web\":{\"discover\":\"http://www.kickstarter.com/discover/categories/publishing/comedy\"}}}',\n",
       "       '{\"id\":296,\"name\":\"Fantasy\",\"slug\":\"film & video/fantasy\",\"position\":8,\"parent_id\":11,\"color\":16734574,\"urls\":{\"web\":{\"discover\":\"http://www.kickstarter.com/discover/categories/film%20&%20video/fantasy\"}}}',\n",
       "       '{\"id\":311,\"name\":\"Food Trucks\",\"slug\":\"food/food trucks\",\"position\":8,\"parent_id\":10,\"color\":16725570,\"urls\":{\"web\":{\"discover\":\"http://www.kickstarter.com/discover/categories/food/food%20trucks\"}}}',\n",
       "       '{\"id\":302,\"name\":\"Thrillers\",\"slug\":\"film & video/thrillers\",\"position\":18,\"parent_id\":11,\"color\":16734574,\"urls\":{\"web\":{\"discover\":\"http://www.kickstarter.com/discover/categories/film%20&%20video/thrillers\"}}}',\n",
       "       '{\"id\":298,\"name\":\"Movie Theaters\",\"slug\":\"film & video/movie theaters\",\"position\":11,\"parent_id\":11,\"color\":16734574,\"urls\":{\"web\":{\"discover\":\"http://www.kickstarter.com/discover/categories/film%20&%20video/movie%20theaters\"}}}',\n",
       "       '{\"id\":300,\"name\":\"Romance\",\"slug\":\"film & video/romance\",\"position\":14,\"parent_id\":11,\"color\":16734574,\"urls\":{\"web\":{\"discover\":\"http://www.kickstarter.com/discover/categories/film%20&%20video/romance\"}}}',\n",
       "       '{\"id\":21,\"name\":\"Digital Art\",\"slug\":\"art/digital art\",\"position\":3,\"parent_id\":1,\"color\":16760235,\"urls\":{\"web\":{\"discover\":\"http://www.kickstarter.com/discover/categories/art/digital%20art\"}}}',\n",
       "       '{\"id\":261,\"name\":\"Typography\",\"slug\":\"design/typography\",\"position\":6,\"parent_id\":7,\"color\":2577151,\"urls\":{\"web\":{\"discover\":\"http://www.kickstarter.com/discover/categories/design/typography\"}}}',\n",
       "       '{\"id\":307,\"name\":\"Drinks\",\"slug\":\"food/drinks\",\"position\":4,\"parent_id\":10,\"color\":16725570,\"urls\":{\"web\":{\"discover\":\"http://www.kickstarter.com/discover/categories/food/drinks\"}}}',\n",
       "       '{\"id\":353,\"name\":\"Stationery\",\"slug\":\"crafts/stationery\",\"position\":11,\"parent_id\":26,\"color\":16744876,\"urls\":{\"web\":{\"discover\":\"http://www.kickstarter.com/discover/categories/crafts/stationery\"}}}',\n",
       "       '{\"id\":7,\"name\":\"Design\",\"slug\":\"design\",\"position\":5,\"color\":2577151,\"urls\":{\"web\":{\"discover\":\"http://www.kickstarter.com/discover/categories/design\"}}}',\n",
       "       '{\"id\":1,\"name\":\"Art\",\"slug\":\"art\",\"position\":1,\"color\":16760235,\"urls\":{\"web\":{\"discover\":\"http://www.kickstarter.com/discover/categories/art\"}}}',\n",
       "       '{\"id\":315,\"name\":\"Vegan\",\"slug\":\"food/vegan\",\"position\":12,\"parent_id\":10,\"color\":16725570,\"urls\":{\"web\":{\"discover\":\"http://www.kickstarter.com/discover/categories/food/vegan\"}}}',\n",
       "       '{\"id\":344,\"name\":\"Crochet\",\"slug\":\"crafts/crochet\",\"position\":2,\"parent_id\":26,\"color\":16744876,\"urls\":{\"web\":{\"discover\":\"http://www.kickstarter.com/discover/categories/crafts/crochet\"}}}',\n",
       "       '{\"id\":310,\"name\":\"Farmer\\'s Markets\",\"slug\":\"food/farmer\\'s markets\",\"position\":6,\"parent_id\":10,\"color\":16725570,\"urls\":{\"web\":{\"discover\":\"http://www.kickstarter.com/discover/categories/food/farmer\\'s%20markets\"}}}',\n",
       "       '{\"id\":308,\"name\":\"Events\",\"slug\":\"food/events\",\"position\":5,\"parent_id\":10,\"color\":16725570,\"urls\":{\"web\":{\"discover\":\"http://www.kickstarter.com/discover/categories/food/events\"}}}',\n",
       "       '{\"id\":314,\"name\":\"Spaces\",\"slug\":\"food/spaces\",\"position\":11,\"parent_id\":10,\"color\":16725570,\"urls\":{\"web\":{\"discover\":\"http://www.kickstarter.com/discover/categories/food/spaces\"}}}',\n",
       "       '{\"id\":252,\"name\":\"Graphic Novels\",\"slug\":\"comics/graphic novels\",\"position\":4,\"parent_id\":3,\"color\":16776056,\"urls\":{\"web\":{\"discover\":\"http://www.kickstarter.com/discover/categories/comics/graphic%20novels\"}}}',\n",
       "       '{\"id\":50,\"name\":\"Poetry\",\"slug\":\"publishing/poetry\",\"position\":11,\"parent_id\":18,\"color\":14867664,\"urls\":{\"web\":{\"discover\":\"http://www.kickstarter.com/discover/categories/publishing/poetry\"}}}',\n",
       "       '{\"id\":30,\"name\":\"Documentary\",\"slug\":\"film & video/documentary\",\"position\":4,\"parent_id\":11,\"color\":16734574,\"urls\":{\"web\":{\"discover\":\"http://www.kickstarter.com/discover/categories/film%20&%20video/documentary\"}}}',\n",
       "       '{\"id\":327,\"name\":\"Translations\",\"slug\":\"publishing/translations\",\"position\":13,\"parent_id\":18,\"color\":14867664,\"urls\":{\"web\":{\"discover\":\"http://www.kickstarter.com/discover/categories/publishing/translations\"}}}',\n",
       "       '{\"id\":288,\"name\":\"Installations\",\"slug\":\"art/installations\",\"position\":5,\"parent_id\":1,\"color\":16760235,\"urls\":{\"web\":{\"discover\":\"http://www.kickstarter.com/discover/categories/art/installations\"}}}',\n",
       "       '{\"id\":317,\"name\":\"Chiptune\",\"slug\":\"music/chiptune\",\"position\":2,\"parent_id\":14,\"color\":10878931,\"urls\":{\"web\":{\"discover\":\"http://www.kickstarter.com/discover/categories/music/chiptune\"}}}',\n",
       "       '{\"id\":329,\"name\":\"Zines\",\"slug\":\"publishing/zines\",\"position\":15,\"parent_id\":18,\"color\":14867664,\"urls\":{\"web\":{\"discover\":\"http://www.kickstarter.com/discover/categories/publishing/zines\"}}}',\n",
       "       '{\"id\":350,\"name\":\"Pottery\",\"slug\":\"crafts/pottery\",\"position\":8,\"parent_id\":26,\"color\":16744876,\"urls\":{\"web\":{\"discover\":\"http://www.kickstarter.com/discover/categories/crafts/pottery\"}}}',\n",
       "       '{\"id\":23,\"name\":\"Painting\",\"slug\":\"art/painting\",\"position\":7,\"parent_id\":1,\"color\":16760235,\"urls\":{\"web\":{\"discover\":\"http://www.kickstarter.com/discover/categories/art/painting\"}}}',\n",
       "       '{\"id\":33,\"name\":\"Webseries\",\"slug\":\"film & video/webseries\",\"position\":19,\"parent_id\":11,\"color\":16734574,\"urls\":{\"web\":{\"discover\":\"http://www.kickstarter.com/discover/categories/film%20&%20video/webseries\"}}}',\n",
       "       '{\"id\":362,\"name\":\"Makerspaces\",\"slug\":\"technology/makerspaces\",\"position\":9,\"parent_id\":16,\"color\":6526716,\"urls\":{\"web\":{\"discover\":\"http://www.kickstarter.com/discover/categories/technology/makerspaces\"}}}',\n",
       "       '{\"id\":292,\"name\":\"Comedy\",\"slug\":\"film & video/comedy\",\"position\":3,\"parent_id\":11,\"color\":16734574,\"urls\":{\"web\":{\"discover\":\"http://www.kickstarter.com/discover/categories/film%20&%20video/comedy\"}}}',\n",
       "       '{\"id\":18,\"name\":\"Publishing\",\"slug\":\"publishing\",\"position\":13,\"color\":14867664,\"urls\":{\"web\":{\"discover\":\"http://www.kickstarter.com/discover/categories/publishing\"}}}',\n",
       "       '{\"id\":349,\"name\":\"Letterpress\",\"slug\":\"publishing/letterpress\",\"position\":7,\"parent_id\":18,\"color\":14867664,\"urls\":{\"web\":{\"discover\":\"http://www.kickstarter.com/discover/categories/publishing/letterpress\"}}}',\n",
       "       '{\"id\":326,\"name\":\"Literary Journals\",\"slug\":\"publishing/literary journals\",\"position\":8,\"parent_id\":18,\"color\":14867664,\"urls\":{\"web\":{\"discover\":\"http://www.kickstarter.com/discover/categories/publishing/literary%20journals\"}}}',\n",
       "       '{\"id\":289,\"name\":\"Textiles\",\"slug\":\"art/textiles\",\"position\":11,\"parent_id\":1,\"color\":16760235,\"urls\":{\"web\":{\"discover\":\"http://www.kickstarter.com/discover/categories/art/textiles\"}}}',\n",
       "       '{\"id\":321,\"name\":\"Punk\",\"slug\":\"music/punk\",\"position\":15,\"parent_id\":14,\"color\":10878931,\"urls\":{\"web\":{\"discover\":\"http://www.kickstarter.com/discover/categories/music/punk\"}}}',\n",
       "       '{\"id\":335,\"name\":\"Fabrication Tools\",\"slug\":\"technology/fabrication tools\",\"position\":5,\"parent_id\":16,\"color\":6526716,\"urls\":{\"web\":{\"discover\":\"http://www.kickstarter.com/discover/categories/technology/fabrication%20tools\"}}}',\n",
       "       '{\"id\":304,\"name\":\"Bacon\",\"slug\":\"food/bacon\",\"position\":1,\"parent_id\":10,\"color\":16725570,\"urls\":{\"web\":{\"discover\":\"http://www.kickstarter.com/discover/categories/food/bacon\"}}}',\n",
       "       '{\"id\":328,\"name\":\"Young Adult\",\"slug\":\"publishing/young adult\",\"position\":14,\"parent_id\":18,\"color\":14867664,\"urls\":{\"web\":{\"discover\":\"http://www.kickstarter.com/discover/categories/publishing/young%20adult\"}}}',\n",
       "       '{\"id\":49,\"name\":\"Periodicals\",\"slug\":\"publishing/periodicals\",\"position\":10,\"parent_id\":18,\"color\":14867664,\"urls\":{\"web\":{\"discover\":\"http://www.kickstarter.com/discover/categories/publishing/periodicals\"}}}',\n",
       "       '{\"id\":356,\"name\":\"Woodworking\",\"slug\":\"crafts/woodworking\",\"position\":14,\"parent_id\":26,\"color\":16744876,\"urls\":{\"web\":{\"discover\":\"http://www.kickstarter.com/discover/categories/crafts/woodworking\"}}}',\n",
       "       '{\"id\":29,\"name\":\"Animation\",\"slug\":\"film & video/animation\",\"position\":2,\"parent_id\":11,\"color\":16734574,\"urls\":{\"web\":{\"discover\":\"http://www.kickstarter.com/discover/categories/film%20&%20video/animation\"}}}',\n",
       "       '{\"id\":345,\"name\":\"DIY\",\"slug\":\"crafts/diy\",\"position\":3,\"parent_id\":26,\"color\":16744876,\"urls\":{\"web\":{\"discover\":\"http://www.kickstarter.com/discover/categories/crafts/diy\"}}}',\n",
       "       '{\"id\":258,\"name\":\"Architecture\",\"slug\":\"design/architecture\",\"position\":1,\"parent_id\":7,\"color\":2577151,\"urls\":{\"web\":{\"discover\":\"http://www.kickstarter.com/discover/categories/design/architecture\"}}}',\n",
       "       '{\"id\":347,\"name\":\"Glass\",\"slug\":\"crafts/glass\",\"position\":5,\"parent_id\":26,\"color\":16744876,\"urls\":{\"web\":{\"discover\":\"http://www.kickstarter.com/discover/categories/crafts/glass\"}}}',\n",
       "       '{\"id\":316,\"name\":\"Blues\",\"slug\":\"music/blues\",\"position\":1,\"parent_id\":14,\"color\":10878931,\"urls\":{\"web\":{\"discover\":\"http://www.kickstarter.com/discover/categories/music/blues\"}}}',\n",
       "       '{\"id\":270,\"name\":\"Gaming Hardware\",\"slug\":\"games/gaming hardware\",\"position\":1,\"parent_id\":12,\"color\":51627,\"urls\":{\"web\":{\"discover\":\"http://www.kickstarter.com/discover/categories/games/gaming%20hardware\"}}}'],\n",
       "      dtype=object)"
      ]
     },
     "execution_count": 32,
     "metadata": {},
     "output_type": "execute_result"
    }
   ],
   "source": [
    "df['category'].unique()"
   ]
  },
  {
   "cell_type": "markdown",
   "metadata": {},
   "source": [
    "### category example\n",
    "\n",
    "{\"id\":43,\n",
    "\"name\":\"Rock\",\n",
    "\"slug\":\"music/rock\",\n",
    "\"position\":17,\n",
    "\"parent_id\":14,\n",
    "\"color\":10878931,\n",
    "\"urls\":{\"web\":{\"discover\":\"http://www.kickstarter.com/discover/categories/music/rock\"}}}'"
   ]
  },
  {
   "cell_type": "code",
   "execution_count": 33,
   "metadata": {},
   "outputs": [
    {
     "data": {
      "text/plain": [
       "array(['{\"id\":1495925645,\"name\":\"Daniel\",\"is_registered\":null,\"chosen_currency\":null,\"avatar\":{\"thumb\":\"https://ksr-ugc.imgix.net/assets/006/041/047/c44d1a95c2139ae46af635c7c6e7ea76_original.jpg?ixlib=rb-1.1.0&w=40&h=40&fit=crop&v=1461362658&auto=format&frame=1&q=92&s=3d655afafac9dbb59c1e675adfa87082\",\"small\":\"https://ksr-ugc.imgix.net/assets/006/041/047/c44d1a95c2139ae46af635c7c6e7ea76_original.jpg?ixlib=rb-1.1.0&w=160&h=160&fit=crop&v=1461362658&auto=format&frame=1&q=92&s=3973d24f5c3db1ed1d5c84cec8af1d6d\",\"medium\":\"https://ksr-ugc.imgix.net/assets/006/041/047/c44d1a95c2139ae46af635c7c6e7ea76_original.jpg?ixlib=rb-1.1.0&w=160&h=160&fit=crop&v=1461362658&auto=format&frame=1&q=92&s=3973d24f5c3db1ed1d5c84cec8af1d6d\"},\"urls\":{\"web\":{\"user\":\"https://www.kickstarter.com/profile/1495925645\"},\"api\":{\"user\":\"https://api.kickstarter.com/v1/users/1495925645?signature=1552621462.382152be8688b069cea0ab5f3a266a1530d83c3f\"}}}',\n",
       "       '{\"id\":1175589980,\"name\":\"Katherine\",\"slug\":\"freckleddisney\",\"is_registered\":null,\"chosen_currency\":null,\"avatar\":{\"thumb\":\"https://ksr-ugc.imgix.net/assets/023/302/489/481158030bfc13d249a8c7c3426f92e6_original.jpg?ixlib=rb-1.1.0&w=40&h=40&fit=crop&v=1542510089&auto=format&frame=1&q=92&s=c8fa4b7eeb45d5502711c5398071690a\",\"small\":\"https://ksr-ugc.imgix.net/assets/023/302/489/481158030bfc13d249a8c7c3426f92e6_original.jpg?ixlib=rb-1.1.0&w=160&h=160&fit=crop&v=1542510089&auto=format&frame=1&q=92&s=9e096abc34cccb1d7185d9263dd8612d\",\"medium\":\"https://ksr-ugc.imgix.net/assets/023/302/489/481158030bfc13d249a8c7c3426f92e6_original.jpg?ixlib=rb-1.1.0&w=160&h=160&fit=crop&v=1542510089&auto=format&frame=1&q=92&s=9e096abc34cccb1d7185d9263dd8612d\"},\"urls\":{\"web\":{\"user\":\"https://www.kickstarter.com/profile/freckleddisney\"},\"api\":{\"user\":\"https://api.kickstarter.com/v1/users/1175589980?signature=1552621994.37e7b84b86bf84f119dcda2a5d2d469bd7e5eb35\"}}}',\n",
       "       '{\"id\":1196856269,\"name\":\"MelissaThomas\",\"is_registered\":null,\"chosen_currency\":null,\"avatar\":{\"thumb\":\"https://ksr-ugc.imgix.net/assets/014/275/164/5a43d683fe375d78f111a3b975b1776d_original.jpg?ixlib=rb-1.1.0&w=40&h=40&fit=crop&v=1477513389&auto=format&frame=1&q=92&s=dc9207376e0c0d43f32031d8e9a281cf\",\"small\":\"https://ksr-ugc.imgix.net/assets/014/275/164/5a43d683fe375d78f111a3b975b1776d_original.jpg?ixlib=rb-1.1.0&w=160&h=160&fit=crop&v=1477513389&auto=format&frame=1&q=92&s=fcbeca6ca421aa49cd0ab3467666026d\",\"medium\":\"https://ksr-ugc.imgix.net/assets/014/275/164/5a43d683fe375d78f111a3b975b1776d_original.jpg?ixlib=rb-1.1.0&w=160&h=160&fit=crop&v=1477513389&auto=format&frame=1&q=92&s=fcbeca6ca421aa49cd0ab3467666026d\"},\"urls\":{\"web\":{\"user\":\"https://www.kickstarter.com/profile/1196856269\"},\"api\":{\"user\":\"https://api.kickstarter.com/v1/users/1196856269?signature=1552621253.9f2e97a20efddf347cd2610cc3c200244cc8525f\"}}}',\n",
       "       ...,\n",
       "       '{\"id\":765327036,\"name\":\"Daran Carlin-Weber\",\"is_registered\":null,\"chosen_currency\":null,\"avatar\":{\"thumb\":\"https://ksr-ugc.imgix.net/assets/006/586/627/8f93c4a76f9af73c5635ad14623380c0_original.png?ixlib=rb-1.1.0&w=40&h=40&fit=crop&v=1461397338&auto=format&frame=1&q=92&s=b634e675119caf4e16da4432c9c30480\",\"small\":\"https://ksr-ugc.imgix.net/assets/006/586/627/8f93c4a76f9af73c5635ad14623380c0_original.png?ixlib=rb-1.1.0&w=160&h=160&fit=crop&v=1461397338&auto=format&frame=1&q=92&s=52e23e37d2405963ff0838f1cf5373ac\",\"medium\":\"https://ksr-ugc.imgix.net/assets/006/586/627/8f93c4a76f9af73c5635ad14623380c0_original.png?ixlib=rb-1.1.0&w=160&h=160&fit=crop&v=1461397338&auto=format&frame=1&q=92&s=52e23e37d2405963ff0838f1cf5373ac\"},\"urls\":{\"web\":{\"user\":\"https://www.kickstarter.com/profile/765327036\"},\"api\":{\"user\":\"https://api.kickstarter.com/v1/users/765327036?signature=1552620332.32612a86392844443ef099699c2b617f3e5a26d2\"}}}',\n",
       "       '{\"id\":1521393087,\"name\":\"Carolyn Ramella\",\"is_registered\":null,\"chosen_currency\":null,\"avatar\":{\"thumb\":\"https://ksr-ugc.imgix.net/assets/022/956/835/f44307c43be0ee21e8998b1d9a9b4b29_original.png?ixlib=rb-1.1.0&w=40&h=40&fit=crop&v=1539973470&auto=format&frame=1&q=92&s=cff6375079420caff0001a4dd19a8f1d\",\"small\":\"https://ksr-ugc.imgix.net/assets/022/956/835/f44307c43be0ee21e8998b1d9a9b4b29_original.png?ixlib=rb-1.1.0&w=160&h=160&fit=crop&v=1539973470&auto=format&frame=1&q=92&s=acf3752d72e49d869a7266d53dda15c6\",\"medium\":\"https://ksr-ugc.imgix.net/assets/022/956/835/f44307c43be0ee21e8998b1d9a9b4b29_original.png?ixlib=rb-1.1.0&w=160&h=160&fit=crop&v=1539973470&auto=format&frame=1&q=92&s=acf3752d72e49d869a7266d53dda15c6\"},\"urls\":{\"web\":{\"user\":\"https://www.kickstarter.com/profile/1521393087\"},\"api\":{\"user\":\"https://api.kickstarter.com/v1/users/1521393087?signature=1552620573.ea9f8cac547a82ff51eb1a878838b66915c5ae16\"}}}',\n",
       "       '{\"id\":119990009,\"name\":\"Simeon Talley\",\"is_registered\":null,\"chosen_currency\":null,\"avatar\":{\"thumb\":\"https://ksr-ugc.imgix.net/assets/007/672/162/1dbb686c44ec513784578d4008b4bc5c_original.jpg?ixlib=rb-1.1.0&w=40&h=40&fit=crop&v=1461471703&auto=format&frame=1&q=92&s=e6ad57dec6f54ac7e88d83e6a18a8af7\",\"small\":\"https://ksr-ugc.imgix.net/assets/007/672/162/1dbb686c44ec513784578d4008b4bc5c_original.jpg?ixlib=rb-1.1.0&w=160&h=160&fit=crop&v=1461471703&auto=format&frame=1&q=92&s=c389c700541b117220eeea644f2d8184\",\"medium\":\"https://ksr-ugc.imgix.net/assets/007/672/162/1dbb686c44ec513784578d4008b4bc5c_original.jpg?ixlib=rb-1.1.0&w=160&h=160&fit=crop&v=1461471703&auto=format&frame=1&q=92&s=c389c700541b117220eeea644f2d8184\"},\"urls\":{\"web\":{\"user\":\"https://www.kickstarter.com/profile/119990009\"},\"api\":{\"user\":\"https://api.kickstarter.com/v1/users/119990009?signature=1552620656.6d7442a6d40e090907cb6e2f6e3d2c2ceb587233\"}}}'],\n",
       "      dtype=object)"
      ]
     },
     "execution_count": 33,
     "metadata": {},
     "output_type": "execute_result"
    }
   ],
   "source": [
    "df['creator'].unique()"
   ]
  },
  {
   "cell_type": "markdown",
   "metadata": {},
   "source": [
    "### creator example\n",
    "\n",
    "{\"id\":1495925645,\n",
    "\"name\":\"Daniel\",\n",
    "\"is_registered\":null,\n",
    "\"chosen_currency\":null,\n",
    "\"avatar\":{\"thumb\":\"https://ksr-ugc.imgix.net/assets/006/041/047/c44d1a95c2139ae46af635c7c6e7ea76_original.jpg?ixlib=rb-1.1.0&w=40&h=40&fit=crop&v=1461362658&auto=format&frame=1&q=92&s=3d655afafac9dbb59c1e675adfa87082\",\"small\":\"https://ksr-ugc.imgix.net/assets/006/041/047/c44d1a95c2139ae46af635c7c6e7ea76_original.jpg?ixlib=rb-1.1.0&w=160&h=160&fit=crop&v=1461362658&auto=format&frame=1&q=92&s=3973d24f5c3db1ed1d5c84cec8af1d6d\",\"medium\":\"https://ksr-ugc.imgix.net/assets/006/041/047/c44d1a95c2139ae46af635c7c6e7ea76_original.jpg?ixlib=rb-1.1.0&w=160&h=160&fit=crop&v=1461362658&auto=format&frame=1&q=92&s=3973d24f5c3db1ed1d5c84cec8af1d6d\"},\"urls\":{\"web\":{\"user\":\"https://www.kickstarter.com/profile/1495925645\"},\"api\":{\"user\":\"https://api.kickstarter.com/v1/users/1495925645?signature=1552621462.382152be8688b069cea0ab5f3a266a1530d83c3f\"}}}',"
   ]
  },
  {
   "cell_type": "code",
   "execution_count": 34,
   "metadata": {},
   "outputs": [
    {
     "data": {
      "text/plain": [
       "0"
      ]
     },
     "execution_count": 34,
     "metadata": {},
     "output_type": "execute_result"
    }
   ],
   "source": [
    "df['photo'].isna().sum()"
   ]
  },
  {
   "cell_type": "code",
   "execution_count": 35,
   "metadata": {},
   "outputs": [
    {
     "data": {
      "text/plain": [
       "array(['{\"id\":822687,\"project_id\":822687,\"state\":\"inactive\",\"state_changed_at\":1425915845,\"name\":null,\"blurb\":null,\"background_color\":null,\"text_color\":null,\"link_background_color\":null,\"link_text_color\":null,\"link_text\":null,\"link_url\":null,\"show_feature_image\":false,\"background_image_opacity\":0.8,\"should_show_feature_image_section\":true,\"feature_image_attributes\":{\"image_urls\":{\"default\":\"https://ksr-ugc.imgix.net/assets/011/625/534/5bea1760d7f20943c4cd5e9b4911c1bd_original.jpg?ixlib=rb-1.1.0&crop=faces&w=1552&h=873&fit=crop&v=1463685705&auto=format&frame=1&q=92&s=90c72b785ef97539099dffb8531dcad3\",\"baseball_card\":\"https://ksr-ugc.imgix.net/assets/011/625/534/5bea1760d7f20943c4cd5e9b4911c1bd_original.jpg?ixlib=rb-1.1.0&crop=faces&w=560&h=315&fit=crop&v=1463685705&auto=format&frame=1&q=92&s=883b3ff098e5fc4cf6fec280665f5fd0\"}}}',\n",
       "       '{\"id\":3665299,\"project_id\":3665299,\"state\":\"inactive\",\"state_changed_at\":1549659768,\"name\":null,\"blurb\":null,\"background_color\":null,\"text_color\":null,\"link_background_color\":null,\"link_text_color\":null,\"link_text\":null,\"link_url\":null,\"show_feature_image\":false,\"background_image_opacity\":0.8,\"should_show_feature_image_section\":true,\"feature_image_attributes\":{\"image_urls\":{\"default\":\"https://ksr-ugc.imgix.net/assets/024/033/030/dea4e3901d10195b035875eb8cfecc45_original.jpg?ixlib=rb-1.1.0&crop=faces&w=1552&h=873&fit=crop&v=1549660080&auto=format&frame=1&q=92&s=483cd9ba0b5e325c20be3634a325e5c5\",\"baseball_card\":\"https://ksr-ugc.imgix.net/assets/024/033/030/dea4e3901d10195b035875eb8cfecc45_original.jpg?ixlib=rb-1.1.0&crop=faces&w=560&h=315&fit=crop&v=1549660080&auto=format&frame=1&q=92&s=6cf514c37a9ced2f53af84df0768c947\"}}}',\n",
       "       '{\"id\":2730508,\"project_id\":2730508,\"state\":\"inactive\",\"state_changed_at\":1477242384,\"name\":null,\"blurb\":null,\"background_color\":null,\"text_color\":null,\"link_background_color\":null,\"link_text_color\":null,\"link_text\":null,\"link_url\":null,\"show_feature_image\":false,\"background_image_opacity\":0.8,\"should_show_feature_image_section\":true,\"feature_image_attributes\":{\"image_urls\":{\"default\":\"https://ksr-ugc.imgix.net/assets/014/262/672/97944960ba30239051d3b6e59f21a801_original.jpg?ixlib=rb-1.1.0&crop=faces&w=1552&h=873&fit=crop&v=1477441460&auto=format&frame=1&q=92&s=631297a31e872f4497acc9276f9bbc02\",\"baseball_card\":\"https://ksr-ugc.imgix.net/assets/014/262/672/97944960ba30239051d3b6e59f21a801_original.jpg?ixlib=rb-1.1.0&crop=faces&w=560&h=315&fit=crop&v=1477441460&auto=format&frame=1&q=92&s=94010c1736a6fa1a0f1ffaa00fe5af16\"}}}',\n",
       "       ...,\n",
       "       '{\"id\":174185,\"project_id\":174185,\"state\":\"inactive\",\"state_changed_at\":1425915810,\"name\":null,\"blurb\":null,\"background_color\":null,\"text_color\":null,\"link_background_color\":null,\"link_text_color\":null,\"link_text\":null,\"link_url\":null,\"show_feature_image\":false,\"background_image_opacity\":0.8,\"should_show_feature_image_section\":true,\"feature_image_attributes\":{\"image_urls\":{\"default\":\"https://ksr-ugc.imgix.net/assets/011/359/116/18f170c3148ac673a3b5bf6dee6a6282_original.png?ixlib=rb-1.1.0&crop=faces&w=1552&h=873&fit=crop&v=1463681497&auto=format&frame=1&q=92&s=1ec3cc23790ee3090aefdb919da916f3\",\"baseball_card\":\"https://ksr-ugc.imgix.net/assets/011/359/116/18f170c3148ac673a3b5bf6dee6a6282_original.png?ixlib=rb-1.1.0&crop=faces&w=560&h=315&fit=crop&v=1463681497&auto=format&frame=1&q=92&s=0ee8d3b976f7da4c0e5865b79e1876c4\"}}}',\n",
       "       '{\"id\":3472030,\"project_id\":3472030,\"state\":\"inactive\",\"state_changed_at\":1537154407,\"name\":null,\"blurb\":null,\"background_color\":null,\"text_color\":null,\"link_background_color\":null,\"link_text_color\":null,\"link_text\":null,\"link_url\":null,\"show_feature_image\":false,\"background_image_opacity\":0.8,\"should_show_feature_image_section\":true,\"feature_image_attributes\":{\"image_urls\":{\"default\":\"https://ksr-ugc.imgix.net/assets/022/575/798/0e4efdc438525f5a8a67a615b47792f0_original.jpg?ixlib=rb-1.1.0&crop=faces&w=1552&h=873&fit=crop&v=1537154604&auto=format&frame=1&q=92&s=99135528b5b6e12281636e5b1054dee0\",\"baseball_card\":\"https://ksr-ugc.imgix.net/assets/022/575/798/0e4efdc438525f5a8a67a615b47792f0_original.jpg?ixlib=rb-1.1.0&crop=faces&w=560&h=315&fit=crop&v=1537154604&auto=format&frame=1&q=92&s=0d1976c240fe8c2ff09429db5d7d17cf\"}}}',\n",
       "       '{\"id\":1043971,\"project_id\":1043971,\"state\":\"inactive\",\"state_changed_at\":1425915858,\"name\":null,\"blurb\":null,\"background_color\":null,\"text_color\":null,\"link_background_color\":null,\"link_text_color\":null,\"link_text\":null,\"link_url\":null,\"show_feature_image\":false,\"background_image_opacity\":0.8,\"should_show_feature_image_section\":true,\"feature_image_attributes\":{\"image_urls\":{\"default\":\"https://ksr-ugc.imgix.net/assets/011/714/639/a119479ebb8e0a78a5fd5f808aebaef1_original.jpg?ixlib=rb-1.1.0&crop=faces&w=1552&h=873&fit=crop&v=1463687185&auto=format&frame=1&q=92&s=1d29a28cf2a84fc995765231f61ce2a1\",\"baseball_card\":\"https://ksr-ugc.imgix.net/assets/011/714/639/a119479ebb8e0a78a5fd5f808aebaef1_original.jpg?ixlib=rb-1.1.0&crop=faces&w=560&h=315&fit=crop&v=1463687185&auto=format&frame=1&q=92&s=6413c59e315f1ff48e2afd9d1db32955\"}}}'],\n",
       "      dtype=object)"
      ]
     },
     "execution_count": 35,
     "metadata": {},
     "output_type": "execute_result"
    }
   ],
   "source": [
    "df['profile'].unique()"
   ]
  },
  {
   "cell_type": "markdown",
   "metadata": {},
   "source": [
    "### profile example\n",
    "\n",
    "{\"id\":822687,\n",
    "\"project_id\":822687,\n",
    "\"state\":\"inactive\",\n",
    "\"state_changed_at\":1425915845,\n",
    "\"name\":null,\n",
    "\"blurb\":null,\n",
    "\"background_color\":null,\n",
    "\"text_color\":null,\n",
    "\"link_background_color\":null,\n",
    "\"link_text_color\":null,\n",
    "\"link_text\":null,\n",
    "\"link_url\":null,\n",
    "\"show_feature_image\":false,\n",
    "\"background_image_opacity\":0.8,\n",
    "\"should_show_feature_image_section\":true,\n",
    "\"feature_image_attributes\":{\"image_urls\":{\"default\":\"https://ksr-ugc.imgix.net/assets/011/625/534/5bea1760d7f20943c4cd5e9b4911c1bd_original.jpg?ixlib=rb-1.1.0&crop=faces&w=1552&h=873&fit=crop&v=1463685705&auto=format&frame=1&q=92&s=90c72b785ef97539099dffb8531dcad3\",\"baseball_card\":\"https://ksr-ugc.imgix.net/assets/011/625/534/5bea1760d7f20943c4cd5e9b4911c1bd_original.jpg?ixlib=rb-1.1.0&crop=faces&w=560&h=315&fit=crop&v=1463685705&auto=format&frame=1&q=92&s=883b3ff098e5fc4cf6fec280665f5fd0\"}}}'"
   ]
  },
  {
   "cell_type": "markdown",
   "metadata": {},
   "source": [
    "## list of features we keep\n",
    "\n",
    " 1   blurb                     short description \n",
    " 2   category                  Kickstarter categories  \n",
    " 4   country                   country \n",
    " 5   created_at                creation date/time?  \n",
    " 7   currency                  currency the project asks for\n",
    " 10  current_currency          ?\n",
    " 11  deadline                  deadline date/time?\n",
    " 12  disable_communication     don't allow communication/comments  \n",
    "|14  fx_rate                   currency conversion rate \n",
    " 15  goal                      fixed amount required for funding (convert with fx_rate)\n",
    " 18  is_starrable              ?  \n",
    " 20  launched_at               launch date/time?  \n",
    " 21  location                  location\n",
    " 22  name                      project name \n",
    " 24  photo                     -> check if projects without photo\n",
    " 31  state                     !!!!!target!!!!! "
   ]
  },
  {
   "cell_type": "markdown",
   "metadata": {},
   "source": [
    "## stakeholder\n",
    "\n",
    "* who? - people/creators who are considering launching a project on Kickstarter\n",
    "* why? - to find out if it's worth investing the time/money in creating materials/launching a project and which criteria to consider in order to make it successful\n",
    "* metric? - f_beta (probably imbalanced data)\n",
    "* model: classifier (binary)\n"
   ]
  },
  {
   "cell_type": "markdown",
   "metadata": {},
   "source": [
    "# EDA - Round 1"
   ]
  },
  {
   "cell_type": "markdown",
   "metadata": {},
   "source": []
  },
  {
   "cell_type": "code",
   "execution_count": 36,
   "metadata": {},
   "outputs": [
    {
     "name": "stdout",
     "output_type": "stream",
     "text": [
      "<class 'pandas.core.frame.DataFrame'>\n",
      "RangeIndex: 18937 entries, 0 to 18936\n",
      "Data columns (total 37 columns):\n",
      " #   Column                    Non-Null Count  Dtype  \n",
      "---  ------                    --------------  -----  \n",
      " 0   backers_count             18937 non-null  int64  \n",
      " 1   blurb                     18936 non-null  object \n",
      " 2   category                  18937 non-null  object \n",
      " 3   converted_pledged_amount  18937 non-null  int64  \n",
      " 4   country                   18937 non-null  object \n",
      " 5   created_at                18937 non-null  int64  \n",
      " 6   creator                   18937 non-null  object \n",
      " 7   currency                  18937 non-null  object \n",
      " 8   currency_symbol           18937 non-null  object \n",
      " 9   currency_trailing_code    18937 non-null  bool   \n",
      " 10  current_currency          18937 non-null  object \n",
      " 11  deadline                  18937 non-null  int64  \n",
      " 12  disable_communication     18937 non-null  bool   \n",
      " 13  friends                   26 non-null     object \n",
      " 14  fx_rate                   18937 non-null  float64\n",
      " 15  goal                      18937 non-null  float64\n",
      " 16  id                        18937 non-null  int64  \n",
      " 17  is_backing                26 non-null     object \n",
      " 18  is_starrable              18937 non-null  bool   \n",
      " 19  is_starred                26 non-null     object \n",
      " 20  launched_at               18937 non-null  int64  \n",
      " 21  location                  18917 non-null  object \n",
      " 22  name                      18937 non-null  object \n",
      " 23  permissions               26 non-null     object \n",
      " 24  photo                     18937 non-null  object \n",
      " 25  pledged                   18937 non-null  float64\n",
      " 26  profile                   18937 non-null  object \n",
      " 27  slug                      18937 non-null  object \n",
      " 28  source_url                18937 non-null  object \n",
      " 29  spotlight                 18937 non-null  bool   \n",
      " 30  staff_pick                18937 non-null  bool   \n",
      " 31  state                     18937 non-null  object \n",
      " 32  state_changed_at          18937 non-null  int64  \n",
      " 33  static_usd_rate           18937 non-null  float64\n",
      " 34  urls                      18937 non-null  object \n",
      " 35  usd_pledged               18937 non-null  float64\n",
      " 36  usd_type                  18885 non-null  object \n",
      "dtypes: bool(5), float64(5), int64(7), object(20)\n",
      "memory usage: 4.7+ MB\n"
     ]
    }
   ],
   "source": [
    "# load data from the first 5 csv-files and concatenate\n",
    "\n",
    "df1 = pd.read_csv('data/Kickstarter000.csv')\n",
    "df2 = pd.read_csv('data/Kickstarter001.csv')\n",
    "df3 = pd.read_csv('data/Kickstarter002.csv')\n",
    "df4 = pd.read_csv('data/Kickstarter003.csv')\n",
    "df5 = pd.read_csv('data/Kickstarter004.csv')\n",
    "\n",
    "# concatenate\n",
    "\n",
    "df = pd.concat([df1, df2, df3, df4, df5], axis=0, ignore_index=True)\n",
    "\n",
    "df.info()"
   ]
  },
  {
   "cell_type": "code",
   "execution_count": 37,
   "metadata": {},
   "outputs": [
    {
     "data": {
      "text/html": [
       "<div>\n",
       "<style scoped>\n",
       "    .dataframe tbody tr th:only-of-type {\n",
       "        vertical-align: middle;\n",
       "    }\n",
       "\n",
       "    .dataframe tbody tr th {\n",
       "        vertical-align: top;\n",
       "    }\n",
       "\n",
       "    .dataframe thead th {\n",
       "        text-align: right;\n",
       "    }\n",
       "</style>\n",
       "<table border=\"1\" class=\"dataframe\">\n",
       "  <thead>\n",
       "    <tr style=\"text-align: right;\">\n",
       "      <th></th>\n",
       "      <th>backers_count</th>\n",
       "      <th>blurb</th>\n",
       "      <th>category</th>\n",
       "      <th>converted_pledged_amount</th>\n",
       "      <th>country</th>\n",
       "      <th>created_at</th>\n",
       "      <th>creator</th>\n",
       "      <th>currency</th>\n",
       "      <th>currency_symbol</th>\n",
       "      <th>currency_trailing_code</th>\n",
       "      <th>...</th>\n",
       "      <th>slug</th>\n",
       "      <th>source_url</th>\n",
       "      <th>spotlight</th>\n",
       "      <th>staff_pick</th>\n",
       "      <th>state</th>\n",
       "      <th>state_changed_at</th>\n",
       "      <th>static_usd_rate</th>\n",
       "      <th>urls</th>\n",
       "      <th>usd_pledged</th>\n",
       "      <th>usd_type</th>\n",
       "    </tr>\n",
       "  </thead>\n",
       "  <tbody>\n",
       "    <tr>\n",
       "      <th>0</th>\n",
       "      <td>21</td>\n",
       "      <td>2006 was almost 7 years ago.... Can you believ...</td>\n",
       "      <td>{\"id\":43,\"name\":\"Rock\",\"slug\":\"music/rock\",\"po...</td>\n",
       "      <td>802</td>\n",
       "      <td>US</td>\n",
       "      <td>1387659690</td>\n",
       "      <td>{\"id\":1495925645,\"name\":\"Daniel\",\"is_registere...</td>\n",
       "      <td>USD</td>\n",
       "      <td>$</td>\n",
       "      <td>True</td>\n",
       "      <td>...</td>\n",
       "      <td>new-final-round-album</td>\n",
       "      <td>https://www.kickstarter.com/discover/categorie...</td>\n",
       "      <td>True</td>\n",
       "      <td>False</td>\n",
       "      <td>successful</td>\n",
       "      <td>1391899046</td>\n",
       "      <td>1.000000</td>\n",
       "      <td>{\"web\":{\"project\":\"https://www.kickstarter.com...</td>\n",
       "      <td>802.00000</td>\n",
       "      <td>international</td>\n",
       "    </tr>\n",
       "    <tr>\n",
       "      <th>1</th>\n",
       "      <td>97</td>\n",
       "      <td>An adorable fantasy enamel pin series of princ...</td>\n",
       "      <td>{\"id\":54,\"name\":\"Mixed Media\",\"slug\":\"art/mixe...</td>\n",
       "      <td>2259</td>\n",
       "      <td>US</td>\n",
       "      <td>1549659768</td>\n",
       "      <td>{\"id\":1175589980,\"name\":\"Katherine\",\"slug\":\"fr...</td>\n",
       "      <td>USD</td>\n",
       "      <td>$</td>\n",
       "      <td>True</td>\n",
       "      <td>...</td>\n",
       "      <td>princess-pals-enamel-pin-series</td>\n",
       "      <td>https://www.kickstarter.com/discover/categorie...</td>\n",
       "      <td>True</td>\n",
       "      <td>False</td>\n",
       "      <td>successful</td>\n",
       "      <td>1551801611</td>\n",
       "      <td>1.000000</td>\n",
       "      <td>{\"web\":{\"project\":\"https://www.kickstarter.com...</td>\n",
       "      <td>2259.00000</td>\n",
       "      <td>international</td>\n",
       "    </tr>\n",
       "    <tr>\n",
       "      <th>2</th>\n",
       "      <td>88</td>\n",
       "      <td>Helping a community come together to set the s...</td>\n",
       "      <td>{\"id\":280,\"name\":\"Photobooks\",\"slug\":\"photogra...</td>\n",
       "      <td>29638</td>\n",
       "      <td>US</td>\n",
       "      <td>1477242384</td>\n",
       "      <td>{\"id\":1196856269,\"name\":\"MelissaThomas\",\"is_re...</td>\n",
       "      <td>USD</td>\n",
       "      <td>$</td>\n",
       "      <td>True</td>\n",
       "      <td>...</td>\n",
       "      <td>their-life-through-their-lens-the-amish-and-me...</td>\n",
       "      <td>https://www.kickstarter.com/discover/categorie...</td>\n",
       "      <td>True</td>\n",
       "      <td>True</td>\n",
       "      <td>successful</td>\n",
       "      <td>1480607932</td>\n",
       "      <td>1.000000</td>\n",
       "      <td>{\"web\":{\"project\":\"https://www.kickstarter.com...</td>\n",
       "      <td>29638.00000</td>\n",
       "      <td>international</td>\n",
       "    </tr>\n",
       "    <tr>\n",
       "      <th>3</th>\n",
       "      <td>193</td>\n",
       "      <td>Every revolution starts from the bottom and we...</td>\n",
       "      <td>{\"id\":266,\"name\":\"Footwear\",\"slug\":\"fashion/fo...</td>\n",
       "      <td>49158</td>\n",
       "      <td>IT</td>\n",
       "      <td>1540369920</td>\n",
       "      <td>{\"id\":1569700626,\"name\":\"WAO\",\"slug\":\"wearewao...</td>\n",
       "      <td>EUR</td>\n",
       "      <td>€</td>\n",
       "      <td>False</td>\n",
       "      <td>...</td>\n",
       "      <td>wao-the-eco-effect-shoes</td>\n",
       "      <td>https://www.kickstarter.com/discover/categorie...</td>\n",
       "      <td>True</td>\n",
       "      <td>False</td>\n",
       "      <td>successful</td>\n",
       "      <td>1544309940</td>\n",
       "      <td>1.136525</td>\n",
       "      <td>{\"web\":{\"project\":\"https://www.kickstarter.com...</td>\n",
       "      <td>49075.15252</td>\n",
       "      <td>international</td>\n",
       "    </tr>\n",
       "    <tr>\n",
       "      <th>4</th>\n",
       "      <td>20</td>\n",
       "      <td>Learn to build 10+ Applications in this comple...</td>\n",
       "      <td>{\"id\":51,\"name\":\"Software\",\"slug\":\"technology/...</td>\n",
       "      <td>549</td>\n",
       "      <td>US</td>\n",
       "      <td>1425706517</td>\n",
       "      <td>{\"id\":1870845385,\"name\":\"Kalpit Jain\",\"is_regi...</td>\n",
       "      <td>USD</td>\n",
       "      <td>$</td>\n",
       "      <td>True</td>\n",
       "      <td>...</td>\n",
       "      <td>apple-watch-development-course</td>\n",
       "      <td>https://www.kickstarter.com/discover/categorie...</td>\n",
       "      <td>False</td>\n",
       "      <td>False</td>\n",
       "      <td>failed</td>\n",
       "      <td>1428511019</td>\n",
       "      <td>1.000000</td>\n",
       "      <td>{\"web\":{\"project\":\"https://www.kickstarter.com...</td>\n",
       "      <td>549.00000</td>\n",
       "      <td>domestic</td>\n",
       "    </tr>\n",
       "  </tbody>\n",
       "</table>\n",
       "<p>5 rows × 37 columns</p>\n",
       "</div>"
      ],
      "text/plain": [
       "   backers_count                                              blurb  \\\n",
       "0             21  2006 was almost 7 years ago.... Can you believ...   \n",
       "1             97  An adorable fantasy enamel pin series of princ...   \n",
       "2             88  Helping a community come together to set the s...   \n",
       "3            193  Every revolution starts from the bottom and we...   \n",
       "4             20  Learn to build 10+ Applications in this comple...   \n",
       "\n",
       "                                            category  \\\n",
       "0  {\"id\":43,\"name\":\"Rock\",\"slug\":\"music/rock\",\"po...   \n",
       "1  {\"id\":54,\"name\":\"Mixed Media\",\"slug\":\"art/mixe...   \n",
       "2  {\"id\":280,\"name\":\"Photobooks\",\"slug\":\"photogra...   \n",
       "3  {\"id\":266,\"name\":\"Footwear\",\"slug\":\"fashion/fo...   \n",
       "4  {\"id\":51,\"name\":\"Software\",\"slug\":\"technology/...   \n",
       "\n",
       "   converted_pledged_amount country  created_at  \\\n",
       "0                       802      US  1387659690   \n",
       "1                      2259      US  1549659768   \n",
       "2                     29638      US  1477242384   \n",
       "3                     49158      IT  1540369920   \n",
       "4                       549      US  1425706517   \n",
       "\n",
       "                                             creator currency currency_symbol  \\\n",
       "0  {\"id\":1495925645,\"name\":\"Daniel\",\"is_registere...      USD               $   \n",
       "1  {\"id\":1175589980,\"name\":\"Katherine\",\"slug\":\"fr...      USD               $   \n",
       "2  {\"id\":1196856269,\"name\":\"MelissaThomas\",\"is_re...      USD               $   \n",
       "3  {\"id\":1569700626,\"name\":\"WAO\",\"slug\":\"wearewao...      EUR               €   \n",
       "4  {\"id\":1870845385,\"name\":\"Kalpit Jain\",\"is_regi...      USD               $   \n",
       "\n",
       "   currency_trailing_code  ...  \\\n",
       "0                    True  ...   \n",
       "1                    True  ...   \n",
       "2                    True  ...   \n",
       "3                   False  ...   \n",
       "4                    True  ...   \n",
       "\n",
       "                                                slug  \\\n",
       "0                              new-final-round-album   \n",
       "1                    princess-pals-enamel-pin-series   \n",
       "2  their-life-through-their-lens-the-amish-and-me...   \n",
       "3                           wao-the-eco-effect-shoes   \n",
       "4                     apple-watch-development-course   \n",
       "\n",
       "                                          source_url  spotlight staff_pick  \\\n",
       "0  https://www.kickstarter.com/discover/categorie...       True      False   \n",
       "1  https://www.kickstarter.com/discover/categorie...       True      False   \n",
       "2  https://www.kickstarter.com/discover/categorie...       True       True   \n",
       "3  https://www.kickstarter.com/discover/categorie...       True      False   \n",
       "4  https://www.kickstarter.com/discover/categorie...      False      False   \n",
       "\n",
       "        state  state_changed_at  static_usd_rate  \\\n",
       "0  successful        1391899046         1.000000   \n",
       "1  successful        1551801611         1.000000   \n",
       "2  successful        1480607932         1.000000   \n",
       "3  successful        1544309940         1.136525   \n",
       "4      failed        1428511019         1.000000   \n",
       "\n",
       "                                                urls  usd_pledged  \\\n",
       "0  {\"web\":{\"project\":\"https://www.kickstarter.com...    802.00000   \n",
       "1  {\"web\":{\"project\":\"https://www.kickstarter.com...   2259.00000   \n",
       "2  {\"web\":{\"project\":\"https://www.kickstarter.com...  29638.00000   \n",
       "3  {\"web\":{\"project\":\"https://www.kickstarter.com...  49075.15252   \n",
       "4  {\"web\":{\"project\":\"https://www.kickstarter.com...    549.00000   \n",
       "\n",
       "        usd_type  \n",
       "0  international  \n",
       "1  international  \n",
       "2  international  \n",
       "3  international  \n",
       "4       domestic  \n",
       "\n",
       "[5 rows x 37 columns]"
      ]
     },
     "execution_count": 37,
     "metadata": {},
     "output_type": "execute_result"
    }
   ],
   "source": [
    "df.head()"
   ]
  },
  {
   "cell_type": "code",
   "execution_count": 38,
   "metadata": {},
   "outputs": [
    {
     "data": {
      "text/plain": [
       "Index(['backers_count', 'blurb', 'category', 'converted_pledged_amount',\n",
       "       'country', 'created_at', 'creator', 'currency', 'currency_symbol',\n",
       "       'currency_trailing_code', 'current_currency', 'deadline',\n",
       "       'disable_communication', 'friends', 'fx_rate', 'goal', 'id',\n",
       "       'is_backing', 'is_starrable', 'is_starred', 'launched_at', 'location',\n",
       "       'name', 'permissions', 'photo', 'pledged', 'profile', 'slug',\n",
       "       'source_url', 'spotlight', 'staff_pick', 'state', 'state_changed_at',\n",
       "       'static_usd_rate', 'urls', 'usd_pledged', 'usd_type'],\n",
       "      dtype='object')"
      ]
     },
     "execution_count": 38,
     "metadata": {},
     "output_type": "execute_result"
    }
   ],
   "source": [
    "df.columns"
   ]
  },
  {
   "cell_type": "code",
   "execution_count": 39,
   "metadata": {},
   "outputs": [
    {
     "name": "stdout",
     "output_type": "stream",
     "text": [
      "<class 'pandas.core.frame.DataFrame'>\n",
      "RangeIndex: 18937 entries, 0 to 18936\n",
      "Data columns (total 19 columns):\n",
      " #   Column                    Non-Null Count  Dtype  \n",
      "---  ------                    --------------  -----  \n",
      " 0   backers_count             18937 non-null  int64  \n",
      " 1   blurb                     18936 non-null  object \n",
      " 2   category                  18937 non-null  object \n",
      " 3   converted_pledged_amount  18937 non-null  int64  \n",
      " 4   country                   18937 non-null  object \n",
      " 5   created_at                18937 non-null  int64  \n",
      " 6   currency                  18937 non-null  object \n",
      " 7   deadline                  18937 non-null  int64  \n",
      " 8   disable_communication     18937 non-null  bool   \n",
      " 9   fx_rate                   18937 non-null  float64\n",
      " 10  goal                      18937 non-null  float64\n",
      " 11  is_starrable              18937 non-null  bool   \n",
      " 12  launched_at               18937 non-null  int64  \n",
      " 13  location                  18917 non-null  object \n",
      " 14  name                      18937 non-null  object \n",
      " 15  photo                     18937 non-null  object \n",
      " 16  spotlight                 18937 non-null  bool   \n",
      " 17  staff_pick                18937 non-null  bool   \n",
      " 18  state                     18937 non-null  object \n",
      "dtypes: bool(4), float64(2), int64(5), object(8)\n",
      "memory usage: 2.2+ MB\n"
     ]
    }
   ],
   "source": [
    "# drop columns we won't be using\n",
    "\n",
    "df = df[['backers_count', 'blurb', 'category', 'converted_pledged_amount',\n",
    "       'country', 'created_at', 'currency', 'deadline',\n",
    "       'disable_communication', 'fx_rate', 'goal', 'is_starrable', 'launched_at', 'location',\n",
    "       'name', 'photo', 'spotlight', 'staff_pick', 'state']]\n",
    "\n",
    "df.info()"
   ]
  },
  {
   "cell_type": "markdown",
   "metadata": {},
   "source": [
    "### Missing Values\n",
    "\n",
    "* location has 20 missing values (out of 18937)\n",
    "* blurb has 1 missing value (out of 18937)"
   ]
  },
  {
   "cell_type": "code",
   "execution_count": 40,
   "metadata": {},
   "outputs": [],
   "source": [
    "#sns.pairplot(df)"
   ]
  },
  {
   "cell_type": "code",
   "execution_count": 41,
   "metadata": {},
   "outputs": [
    {
     "data": {
      "text/plain": [
       "array(['successful', 'failed', 'live', 'canceled', 'suspended'],\n",
       "      dtype=object)"
      ]
     },
     "execution_count": 41,
     "metadata": {},
     "output_type": "execute_result"
    }
   ],
   "source": [
    "df['state'].unique()"
   ]
  },
  {
   "cell_type": "code",
   "execution_count": 42,
   "metadata": {},
   "outputs": [
    {
     "data": {
      "text/plain": [
       "643"
      ]
     },
     "execution_count": 42,
     "metadata": {},
     "output_type": "execute_result"
    }
   ],
   "source": [
    "live = df.query('state == \"live\"')\n",
    "len(live)"
   ]
  },
  {
   "cell_type": "code",
   "execution_count": 43,
   "metadata": {},
   "outputs": [
    {
     "data": {
      "text/plain": [
       "783"
      ]
     },
     "execution_count": 43,
     "metadata": {},
     "output_type": "execute_result"
    }
   ],
   "source": [
    "canceled = df.query('state == \"canceled\"')\n",
    "len(canceled)"
   ]
  },
  {
   "cell_type": "code",
   "execution_count": 44,
   "metadata": {},
   "outputs": [
    {
     "data": {
      "text/plain": [
       "58"
      ]
     },
     "execution_count": 44,
     "metadata": {},
     "output_type": "execute_result"
    }
   ],
   "source": [
    "suspended = df.query('state == \"suspended\"')\n",
    "len(suspended)"
   ]
  },
  {
   "cell_type": "code",
   "execution_count": 45,
   "metadata": {},
   "outputs": [
    {
     "data": {
      "text/plain": [
       "10379"
      ]
     },
     "execution_count": 45,
     "metadata": {},
     "output_type": "execute_result"
    }
   ],
   "source": [
    "successful = df.query('state == \"successful\"')\n",
    "len(successful)"
   ]
  },
  {
   "cell_type": "code",
   "execution_count": 46,
   "metadata": {},
   "outputs": [
    {
     "data": {
      "text/plain": [
       "7074"
      ]
     },
     "execution_count": 46,
     "metadata": {},
     "output_type": "execute_result"
    }
   ],
   "source": [
    "failed = df.query('state == \"failed\"')\n",
    "len(failed)"
   ]
  },
  {
   "cell_type": "code",
   "execution_count": 47,
   "metadata": {},
   "outputs": [
    {
     "name": "stdout",
     "output_type": "stream",
     "text": [
      "['successful' 'failed']\n",
      "[1 0]\n"
     ]
    }
   ],
   "source": [
    "# convert 'state' to numerical\n",
    "# successful: 1\n",
    "# failed: 0\n",
    "# drop: live, suspended, canceled\n",
    "\n",
    "df = df.query('state != \"live\"')\n",
    "df = df.query('state != \"suspended\"')\n",
    "df = df.query('state != \"canceled\"')\n",
    "print(df['state'].unique()) # check that 'state' only contains failed and successful\n",
    "\n",
    "df['state'].replace({'failed':0, 'successful':1}, inplace=True)\n",
    "print(df['state'].unique()) # check that 'state' only contains 1 and 0\n"
   ]
  },
  {
   "cell_type": "code",
   "execution_count": null,
   "metadata": {},
   "outputs": [],
   "source": [
    "# plot frequency of success and failure\n",
    "\n",
    "sns.countplot()\n",
    "\n",
    "\n"
   ]
  },
  {
   "cell_type": "code",
   "execution_count": null,
   "metadata": {},
   "outputs": [],
   "source": []
  }
 ],
 "metadata": {
  "interpreter": {
   "hash": "cbaf37d83a19e1b2581c71e29f60247c77efb6a13f584020ad679a19009e0051"
  },
  "kernelspec": {
   "display_name": "Python 3.9.4 64-bit ('.venv': venv)",
   "name": "python3"
  },
  "language_info": {
   "codemirror_mode": {
    "name": "ipython",
    "version": 3
   },
   "file_extension": ".py",
   "mimetype": "text/x-python",
   "name": "python",
   "nbconvert_exporter": "python",
   "pygments_lexer": "ipython3",
   "version": "3.9.4"
  },
  "orig_nbformat": 4
 },
 "nbformat": 4,
 "nbformat_minor": 2
}
