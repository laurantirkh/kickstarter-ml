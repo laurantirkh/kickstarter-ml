{
 "cells": [
  {
   "cell_type": "code",
   "execution_count": 1,
   "metadata": {},
   "outputs": [],
   "source": [
    "import pandas as pd\n",
    "import numpy as np\n",
    "import seaborn as sns\n",
    "import matplotlib.pyplot as plt\n",
    "%matplotlib inline"
   ]
  },
  {
   "cell_type": "code",
   "execution_count": 2,
   "metadata": {},
   "outputs": [],
   "source": [
    "df = pd.read_csv(\"data/Kickstarter000.csv\")"
   ]
  },
  {
   "cell_type": "code",
   "execution_count": 3,
   "metadata": {},
   "outputs": [
    {
     "name": "stdout",
     "output_type": "stream",
     "text": [
      "<class 'pandas.core.frame.DataFrame'>\n",
      "RangeIndex: 3779 entries, 0 to 3778\n",
      "Data columns (total 37 columns):\n",
      " #   Column                    Non-Null Count  Dtype  \n",
      "---  ------                    --------------  -----  \n",
      " 0   backers_count             3779 non-null   int64  \n",
      " 1   blurb                     3779 non-null   object \n",
      " 2   category                  3779 non-null   object \n",
      " 3   converted_pledged_amount  3779 non-null   int64  \n",
      " 4   country                   3779 non-null   object \n",
      " 5   created_at                3779 non-null   int64  \n",
      " 6   creator                   3779 non-null   object \n",
      " 7   currency                  3779 non-null   object \n",
      " 8   currency_symbol           3779 non-null   object \n",
      " 9   currency_trailing_code    3779 non-null   bool   \n",
      " 10  current_currency          3779 non-null   object \n",
      " 11  deadline                  3779 non-null   int64  \n",
      " 12  disable_communication     3779 non-null   bool   \n",
      " 13  friends                   8 non-null      object \n",
      " 14  fx_rate                   3779 non-null   float64\n",
      " 15  goal                      3779 non-null   float64\n",
      " 16  id                        3779 non-null   int64  \n",
      " 17  is_backing                8 non-null      object \n",
      " 18  is_starrable              3779 non-null   bool   \n",
      " 19  is_starred                8 non-null      object \n",
      " 20  launched_at               3779 non-null   int64  \n",
      " 21  location                  3775 non-null   object \n",
      " 22  name                      3779 non-null   object \n",
      " 23  permissions               8 non-null      object \n",
      " 24  photo                     3779 non-null   object \n",
      " 25  pledged                   3779 non-null   float64\n",
      " 26  profile                   3779 non-null   object \n",
      " 27  slug                      3779 non-null   object \n",
      " 28  source_url                3779 non-null   object \n",
      " 29  spotlight                 3779 non-null   bool   \n",
      " 30  staff_pick                3779 non-null   bool   \n",
      " 31  state                     3779 non-null   object \n",
      " 32  state_changed_at          3779 non-null   int64  \n",
      " 33  static_usd_rate           3779 non-null   float64\n",
      " 34  urls                      3779 non-null   object \n",
      " 35  usd_pledged               3779 non-null   float64\n",
      " 36  usd_type                  3764 non-null   object \n",
      "dtypes: bool(5), float64(5), int64(7), object(20)\n",
      "memory usage: 963.3+ KB\n"
     ]
    }
   ],
   "source": [
    "df.info()"
   ]
  },
  {
   "cell_type": "code",
   "execution_count": 48,
   "metadata": {},
   "outputs": [
    {
     "data": {
      "text/html": [
       "<div>\n",
       "<style scoped>\n",
       "    .dataframe tbody tr th:only-of-type {\n",
       "        vertical-align: middle;\n",
       "    }\n",
       "\n",
       "    .dataframe tbody tr th {\n",
       "        vertical-align: top;\n",
       "    }\n",
       "\n",
       "    .dataframe thead th {\n",
       "        text-align: right;\n",
       "    }\n",
       "</style>\n",
       "<table border=\"1\" class=\"dataframe\">\n",
       "  <thead>\n",
       "    <tr style=\"text-align: right;\">\n",
       "      <th></th>\n",
       "      <th>converted_pledged_amount</th>\n",
       "      <th>country</th>\n",
       "      <th>created_at</th>\n",
       "      <th>creator</th>\n",
       "      <th>currency</th>\n",
       "      <th>currency_symbol</th>\n",
       "      <th>currency_trailing_code</th>\n",
       "      <th>current_currency</th>\n",
       "      <th>deadline</th>\n",
       "      <th>disable_communication</th>\n",
       "      <th>friends</th>\n",
       "      <th>fx_rate</th>\n",
       "      <th>goal</th>\n",
       "    </tr>\n",
       "  </thead>\n",
       "  <tbody>\n",
       "    <tr>\n",
       "      <th>0</th>\n",
       "      <td>802</td>\n",
       "      <td>US</td>\n",
       "      <td>1387659690</td>\n",
       "      <td>{\"id\":1495925645,\"name\":\"Daniel\",\"is_registere...</td>\n",
       "      <td>USD</td>\n",
       "      <td>$</td>\n",
       "      <td>True</td>\n",
       "      <td>USD</td>\n",
       "      <td>1391899046</td>\n",
       "      <td>False</td>\n",
       "      <td>NaN</td>\n",
       "      <td>1.000000</td>\n",
       "      <td>200.0</td>\n",
       "    </tr>\n",
       "    <tr>\n",
       "      <th>1</th>\n",
       "      <td>2259</td>\n",
       "      <td>US</td>\n",
       "      <td>1549659768</td>\n",
       "      <td>{\"id\":1175589980,\"name\":\"Katherine\",\"slug\":\"fr...</td>\n",
       "      <td>USD</td>\n",
       "      <td>$</td>\n",
       "      <td>True</td>\n",
       "      <td>USD</td>\n",
       "      <td>1551801611</td>\n",
       "      <td>False</td>\n",
       "      <td>NaN</td>\n",
       "      <td>1.000000</td>\n",
       "      <td>400.0</td>\n",
       "    </tr>\n",
       "    <tr>\n",
       "      <th>2</th>\n",
       "      <td>29638</td>\n",
       "      <td>US</td>\n",
       "      <td>1477242384</td>\n",
       "      <td>{\"id\":1196856269,\"name\":\"MelissaThomas\",\"is_re...</td>\n",
       "      <td>USD</td>\n",
       "      <td>$</td>\n",
       "      <td>True</td>\n",
       "      <td>USD</td>\n",
       "      <td>1480607930</td>\n",
       "      <td>False</td>\n",
       "      <td>NaN</td>\n",
       "      <td>1.000000</td>\n",
       "      <td>27224.0</td>\n",
       "    </tr>\n",
       "    <tr>\n",
       "      <th>3</th>\n",
       "      <td>49158</td>\n",
       "      <td>IT</td>\n",
       "      <td>1540369920</td>\n",
       "      <td>{\"id\":1569700626,\"name\":\"WAO\",\"slug\":\"wearewao...</td>\n",
       "      <td>EUR</td>\n",
       "      <td>€</td>\n",
       "      <td>False</td>\n",
       "      <td>USD</td>\n",
       "      <td>1544309940</td>\n",
       "      <td>False</td>\n",
       "      <td>NaN</td>\n",
       "      <td>1.128433</td>\n",
       "      <td>40000.0</td>\n",
       "    </tr>\n",
       "    <tr>\n",
       "      <th>4</th>\n",
       "      <td>549</td>\n",
       "      <td>US</td>\n",
       "      <td>1425706517</td>\n",
       "      <td>{\"id\":1870845385,\"name\":\"Kalpit Jain\",\"is_regi...</td>\n",
       "      <td>USD</td>\n",
       "      <td>$</td>\n",
       "      <td>True</td>\n",
       "      <td>USD</td>\n",
       "      <td>1428511017</td>\n",
       "      <td>False</td>\n",
       "      <td>NaN</td>\n",
       "      <td>1.000000</td>\n",
       "      <td>1000.0</td>\n",
       "    </tr>\n",
       "  </tbody>\n",
       "</table>\n",
       "</div>"
      ],
      "text/plain": [
       "   converted_pledged_amount country  created_at  \\\n",
       "0                       802      US  1387659690   \n",
       "1                      2259      US  1549659768   \n",
       "2                     29638      US  1477242384   \n",
       "3                     49158      IT  1540369920   \n",
       "4                       549      US  1425706517   \n",
       "\n",
       "                                             creator currency currency_symbol  \\\n",
       "0  {\"id\":1495925645,\"name\":\"Daniel\",\"is_registere...      USD               $   \n",
       "1  {\"id\":1175589980,\"name\":\"Katherine\",\"slug\":\"fr...      USD               $   \n",
       "2  {\"id\":1196856269,\"name\":\"MelissaThomas\",\"is_re...      USD               $   \n",
       "3  {\"id\":1569700626,\"name\":\"WAO\",\"slug\":\"wearewao...      EUR               €   \n",
       "4  {\"id\":1870845385,\"name\":\"Kalpit Jain\",\"is_regi...      USD               $   \n",
       "\n",
       "   currency_trailing_code current_currency    deadline  disable_communication  \\\n",
       "0                    True              USD  1391899046                  False   \n",
       "1                    True              USD  1551801611                  False   \n",
       "2                    True              USD  1480607930                  False   \n",
       "3                   False              USD  1544309940                  False   \n",
       "4                    True              USD  1428511017                  False   \n",
       "\n",
       "  friends   fx_rate     goal  \n",
       "0     NaN  1.000000    200.0  \n",
       "1     NaN  1.000000    400.0  \n",
       "2     NaN  1.000000  27224.0  \n",
       "3     NaN  1.128433  40000.0  \n",
       "4     NaN  1.000000   1000.0  "
      ]
     },
     "execution_count": 48,
     "metadata": {},
     "output_type": "execute_result"
    }
   ],
   "source": [
    "df.iloc[:, 3:16].head()"
   ]
  },
  {
   "cell_type": "markdown",
   "metadata": {},
   "source": [
    " 0   backers_count             number of backers \n",
    " 1   blurb                     short description \n",
    " 2   category                  Kickstarter categories \n",
    " 3   converted_pledged_amount  pledged amount in USD  \n",
    " 4   country                   country \n",
    " 5   created_at                creation date/time?  \n",
    " 6   creator                   Kickstarter account that created the project \n",
    " 7   currency                  currency the project asks for\n",
    " 8   currency_symbol           currency symbol \n",
    " 9   currency_trailing_code    ?   \n",
    " 10  current_currency          ?\n",
    " 11  deadline                  deadline date/time?\n",
    " 12  disable_communication     don't allow communication/comments   \n",
    " 13  friends                   drop (not enough data) \n",
    " 14  fx_rate                   currency conversion rate\n",
    " 15  goal                      fixed amount required for funding\n",
    " 16  id                        Kickstarter project id  \n",
    " 17  is_backing                drop (not enough data)  \n",
    " 18  is_starrable              ?  \n",
    " 19  is_starred                drop (not enough data)  \n",
    " 20  launched_at               launch date/time?  \n",
    " 21  location                  location\n",
    " 22  name                      project name \n",
    " 23  permissions               drop (not enough data) \n",
    " 24  photo                     maybe drop?\n",
    " 25  pledged                   pledged amount in original currency\n",
    " 26  profile                   drop? \n",
    " 27  slug                      drop (converted project name) \n",
    " 28  source_url                source url - drop \n",
    " 29  spotlight                 drop? (probably not influencable by the creators)   \n",
    " 30  staff_pick                drop? (probably not influencable by the creators)   \n",
    " 31  state                     !!!!!target!!!!! \n",
    " 32  state_changed_at          state changed at date/time?  \n",
    " 33  static_usd_rate           conversion rate -> drop\n",
    " 34  urls                      drop \n",
    " 35  usd_pledged               drop\n",
    " 36  usd_type                  drop"
   ]
  },
  {
   "cell_type": "code",
   "execution_count": 9,
   "metadata": {},
   "outputs": [
    {
     "data": {
      "text/plain": [
       "array(['USD', 'CAD', 'GBP', 'AUD'], dtype=object)"
      ]
     },
     "execution_count": 9,
     "metadata": {},
     "output_type": "execute_result"
    }
   ],
   "source": [
    "df['current_currency'].unique()"
   ]
  },
  {
   "cell_type": "code",
   "execution_count": 21,
   "metadata": {},
   "outputs": [],
   "source": [
    "no_comm = df[df['disable_communication'] == True]"
   ]
  },
  {
   "cell_type": "code",
   "execution_count": 22,
   "metadata": {},
   "outputs": [
    {
     "data": {
      "text/plain": [
       "10"
      ]
     },
     "execution_count": 22,
     "metadata": {},
     "output_type": "execute_result"
    }
   ],
   "source": [
    "len(no_comm)"
   ]
  },
  {
   "cell_type": "code",
   "execution_count": 24,
   "metadata": {},
   "outputs": [],
   "source": [
    "comm = df[df['disable_communication'] == False]"
   ]
  },
  {
   "cell_type": "code",
   "execution_count": 25,
   "metadata": {},
   "outputs": [
    {
     "data": {
      "text/plain": [
       "3769"
      ]
     },
     "execution_count": 25,
     "metadata": {},
     "output_type": "execute_result"
    }
   ],
   "source": [
    "len(comm)"
   ]
  },
  {
   "cell_type": "markdown",
   "metadata": {},
   "source": [
    "### location example\n",
    "\n",
    "{\"id\":2379574,\n",
    "\"name\":\"Chicago\",\n",
    "\"slug\":\"chicago-il\",\n",
    "\"short_name\":\"Chicago, IL\",\n",
    "\"displayable_name\":\"Chicago, IL\",\n",
    "\"localized_name\":\"Chicago\",\n",
    "\"country\":\"US\",\n",
    "\"state\":\"IL\",\n",
    "\"type\":\"Town\",\n",
    "\"is_root\":false,\n",
    "\"urls\":{\"web\":{\"discover\":\"https://www.kickstarter.com/discover/places/chicago-il\",\"location\":\"https://www.kickstarter.com/locations/chicago-il\"},\"api\":{\"nearby_projects\":\"https://api.kickstarter.com/v1/discover?signature=1552595044.c1041c6bca69b0b72738f3b9504ebf921b3e5e0e&woe_id=2379574\"}}}'"
   ]
  },
  {
   "cell_type": "code",
   "execution_count": null,
   "metadata": {},
   "outputs": [],
   "source": [
    "df['category'].unique()"
   ]
  },
  {
   "cell_type": "markdown",
   "metadata": {},
   "source": [
    "### category example\n",
    "\n",
    "{\"id\":43,\n",
    "\"name\":\"Rock\",\n",
    "\"slug\":\"music/rock\",\n",
    "\"position\":17,\n",
    "\"parent_id\":14,\n",
    "\"color\":10878931,\n",
    "\"urls\":{\"web\":{\"discover\":\"http://www.kickstarter.com/discover/categories/music/rock\"}}}'"
   ]
  },
  {
   "cell_type": "code",
   "execution_count": null,
   "metadata": {},
   "outputs": [],
   "source": [
    "df['creator'].unique()"
   ]
  },
  {
   "cell_type": "markdown",
   "metadata": {},
   "source": [
    "### creator example\n",
    "\n",
    "{\"id\":1495925645,\n",
    "\"name\":\"Daniel\",\n",
    "\"is_registered\":null,\n",
    "\"chosen_currency\":null,\n",
    "\"avatar\":{\"thumb\":\"https://ksr-ugc.imgix.net/assets/006/041/047/c44d1a95c2139ae46af635c7c6e7ea76_original.jpg?ixlib=rb-1.1.0&w=40&h=40&fit=crop&v=1461362658&auto=format&frame=1&q=92&s=3d655afafac9dbb59c1e675adfa87082\",\"small\":\"https://ksr-ugc.imgix.net/assets/006/041/047/c44d1a95c2139ae46af635c7c6e7ea76_original.jpg?ixlib=rb-1.1.0&w=160&h=160&fit=crop&v=1461362658&auto=format&frame=1&q=92&s=3973d24f5c3db1ed1d5c84cec8af1d6d\",\"medium\":\"https://ksr-ugc.imgix.net/assets/006/041/047/c44d1a95c2139ae46af635c7c6e7ea76_original.jpg?ixlib=rb-1.1.0&w=160&h=160&fit=crop&v=1461362658&auto=format&frame=1&q=92&s=3973d24f5c3db1ed1d5c84cec8af1d6d\"},\"urls\":{\"web\":{\"user\":\"https://www.kickstarter.com/profile/1495925645\"},\"api\":{\"user\":\"https://api.kickstarter.com/v1/users/1495925645?signature=1552621462.382152be8688b069cea0ab5f3a266a1530d83c3f\"}}}',"
   ]
  },
  {
   "cell_type": "code",
   "execution_count": 36,
   "metadata": {},
   "outputs": [
    {
     "data": {
      "text/plain": [
       "0"
      ]
     },
     "execution_count": 36,
     "metadata": {},
     "output_type": "execute_result"
    }
   ],
   "source": [
    "df['photo'].isna().sum()"
   ]
  },
  {
   "cell_type": "code",
   "execution_count": null,
   "metadata": {},
   "outputs": [],
   "source": [
    "df['profile'].unique()"
   ]
  },
  {
   "cell_type": "markdown",
   "metadata": {},
   "source": [
    "### profile example\n",
    "\n",
    "{\"id\":822687,\n",
    "\"project_id\":822687,\n",
    "\"state\":\"inactive\",\n",
    "\"state_changed_at\":1425915845,\n",
    "\"name\":null,\n",
    "\"blurb\":null,\n",
    "\"background_color\":null,\n",
    "\"text_color\":null,\n",
    "\"link_background_color\":null,\n",
    "\"link_text_color\":null,\n",
    "\"link_text\":null,\n",
    "\"link_url\":null,\n",
    "\"show_feature_image\":false,\n",
    "\"background_image_opacity\":0.8,\n",
    "\"should_show_feature_image_section\":true,\n",
    "\"feature_image_attributes\":{\"image_urls\":{\"default\":\"https://ksr-ugc.imgix.net/assets/011/625/534/5bea1760d7f20943c4cd5e9b4911c1bd_original.jpg?ixlib=rb-1.1.0&crop=faces&w=1552&h=873&fit=crop&v=1463685705&auto=format&frame=1&q=92&s=90c72b785ef97539099dffb8531dcad3\",\"baseball_card\":\"https://ksr-ugc.imgix.net/assets/011/625/534/5bea1760d7f20943c4cd5e9b4911c1bd_original.jpg?ixlib=rb-1.1.0&crop=faces&w=560&h=315&fit=crop&v=1463685705&auto=format&frame=1&q=92&s=883b3ff098e5fc4cf6fec280665f5fd0\"}}}'"
   ]
  },
  {
   "cell_type": "markdown",
   "metadata": {},
   "source": [
    "## list of features we keep\n",
    "\n",
    " 1   blurb                     short description \n",
    " 2   category                  Kickstarter categories  \n",
    " 4   country                   country \n",
    " 5   created_at                creation date/time?  \n",
    " 7   currency                  currency the project asks for\n",
    " 10  current_currency          ?\n",
    " 11  deadline                  deadline date/time?\n",
    " 12  disable_communication     don't allow communication/comments  \n",
    "|14  fx_rate                   currency conversion rate \n",
    " 15  goal                      fixed amount required for funding (convert with fx_rate)\n",
    " 18  is_starrable              ?  \n",
    " 20  launched_at               launch date/time?  \n",
    " 21  location                  location\n",
    " 22  name                      project name \n",
    " 24  photo                     -> check if projects without photo\n",
    " 31  state                     !!!!!target!!!!! "
   ]
  },
  {
   "cell_type": "markdown",
   "metadata": {},
   "source": [
    "## stakeholder\n",
    "\n",
    "* who? - people/creators who are considering launching a project on Kickstarter\n",
    "* why? - to find out if it's worth investing the time/money in creating materials/launching a project and which criteria to consider in order to make it successful\n",
    "* metric? - f_beta (probably imbalanced data)\n",
    "* model: classifier (binary)\n"
   ]
  }
 ],
 "metadata": {
  "interpreter": {
   "hash": "14f51d1694797e5da3502a145014201e62f9849463032f26557bd12a95b9aa43"
  },
  "kernelspec": {
   "display_name": "Python 3.9.4 64-bit ('.venv': venv)",
   "name": "python3"
  },
  "language_info": {
   "codemirror_mode": {
    "name": "ipython",
    "version": 3
   },
   "file_extension": ".py",
   "mimetype": "text/x-python",
   "name": "python",
   "nbconvert_exporter": "python",
   "pygments_lexer": "ipython3",
   "version": "3.9.4"
  },
  "orig_nbformat": 4
 },
 "nbformat": 4,
 "nbformat_minor": 2
}
